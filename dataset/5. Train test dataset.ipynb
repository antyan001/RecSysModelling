{
 "cells": [
  {
   "cell_type": "code",
   "execution_count": 1,
   "metadata": {
    "collapsed": true
   },
   "outputs": [],
   "source": [
    "import os, sys\n",
    "\n",
    "recsys_cf = os.environ.get(\"RECSYS_STORY\")\n",
    "sys.path.append(recsys_cf)\n",
    "os.chdir(recsys_cf)\n",
    "\n",
    "from lib.tools import *"
   ]
  },
  {
   "cell_type": "markdown",
   "metadata": {},
   "source": [
    "###### spark "
   ]
  },
  {
   "cell_type": "code",
   "execution_count": 2,
   "metadata": {
    "collapsed": true
   },
   "outputs": [],
   "source": [
    "sp = spark(**SPARK_CONFIG)\n",
    "hive = sp.sql"
   ]
  },
  {
   "cell_type": "markdown",
   "metadata": {},
   "source": [
    "###### Загрузка датасета "
   ]
  },
  {
   "cell_type": "code",
   "execution_count": 3,
   "metadata": {
    "collapsed": true
   },
   "outputs": [],
   "source": [
    "data = load_table(SBX_TEAM_DIGITCAMP, RECSYS_STORY_DATASET, hive)"
   ]
  },
  {
   "cell_type": "markdown",
   "metadata": {},
   "source": [
    "###### create story target items "
   ]
  },
  {
   "cell_type": "code",
   "execution_count": 4,
   "metadata": {
    "collapsed": true
   },
   "outputs": [],
   "source": [
    "item_dict = load_table(SBX_TEAM_DIGITCAMP, RECSYS_STORY_ITEM_DICT, hive)"
   ]
  },
  {
   "cell_type": "code",
   "execution_count": 5,
   "metadata": {},
   "outputs": [
    {
     "data": {
      "text/html": [
       "<div>\n",
       "<style scoped>\n",
       "    .dataframe tbody tr th:only-of-type {\n",
       "        vertical-align: middle;\n",
       "    }\n",
       "\n",
       "    .dataframe tbody tr th {\n",
       "        vertical-align: top;\n",
       "    }\n",
       "\n",
       "    .dataframe thead th {\n",
       "        text-align: right;\n",
       "    }\n",
       "</style>\n",
       "<table border=\"1\" class=\"dataframe\">\n",
       "  <thead>\n",
       "    <tr style=\"text-align: right;\">\n",
       "      <th></th>\n",
       "      <th>hitPagePath</th>\n",
       "      <th>eventCategory</th>\n",
       "      <th>eventAction</th>\n",
       "      <th>storyTarget</th>\n",
       "      <th>product</th>\n",
       "      <th>event_id</th>\n",
       "      <th>event_user_count</th>\n",
       "      <th>event_user_percent</th>\n",
       "      <th>group_id</th>\n",
       "      <th>group_user_count</th>\n",
       "      <th>group_user_percent</th>\n",
       "      <th>item_id</th>\n",
       "      <th>item_user_count</th>\n",
       "      <th>item_user_percent</th>\n",
       "    </tr>\n",
       "  </thead>\n",
       "  <tbody>\n",
       "    <tr>\n",
       "      <th>0</th>\n",
       "      <td>/accounts-payments</td>\n",
       "      <td>[std]: asup: offers</td>\n",
       "      <td>click</td>\n",
       "      <td>None</td>\n",
       "      <td>smart_credit, link-url: https://www.sberbank.ru/common/img/uploaded/files/pdf/s_m_business/cards/rules/rules_100_day_grace_from_sberbank.pdf, link-name: ссылке</td>\n",
       "      <td>33314281</td>\n",
       "      <td>3604</td>\n",
       "      <td>0.39574</td>\n",
       "      <td>None</td>\n",
       "      <td>None</td>\n",
       "      <td>None</td>\n",
       "      <td>33314281</td>\n",
       "      <td>3604</td>\n",
       "      <td>0.39574</td>\n",
       "    </tr>\n",
       "    <tr>\n",
       "      <th>1</th>\n",
       "      <td>/accounts-payments</td>\n",
       "      <td>[std]: asup: offers</td>\n",
       "      <td>click</td>\n",
       "      <td>None</td>\n",
       "      <td>zarplata, link-url: https://www.sberbank.ru/ru/s_m_business/bankingservice/cards/salaryproject, link-name: подробнее на сайте</td>\n",
       "      <td>33314281</td>\n",
       "      <td>3604</td>\n",
       "      <td>0.39574</td>\n",
       "      <td>None</td>\n",
       "      <td>None</td>\n",
       "      <td>None</td>\n",
       "      <td>33314281</td>\n",
       "      <td>3604</td>\n",
       "      <td>0.39574</td>\n",
       "    </tr>\n",
       "    <tr>\n",
       "      <th>2</th>\n",
       "      <td>/accounts-payments/account/:accountId</td>\n",
       "      <td>[std]: asup: offers</td>\n",
       "      <td>click</td>\n",
       "      <td>None</td>\n",
       "      <td>zarplata, link-url: https://www.sberbank.ru/ru/s_m_business/bankingservice/cards/salaryproject, link-name: подробнее на сайте</td>\n",
       "      <td>33318497</td>\n",
       "      <td>12065</td>\n",
       "      <td>1.32482</td>\n",
       "      <td>None</td>\n",
       "      <td>None</td>\n",
       "      <td>None</td>\n",
       "      <td>33318497</td>\n",
       "      <td>12065</td>\n",
       "      <td>1.32482</td>\n",
       "    </tr>\n",
       "    <tr>\n",
       "      <th>3</th>\n",
       "      <td>/accounts-payments/account/:accountId</td>\n",
       "      <td>[std]: asup: offers</td>\n",
       "      <td>click</td>\n",
       "      <td>None</td>\n",
       "      <td>smart_credit, link-url: https://www.sberbank.ru/common/img/uploaded/files/pdf/s_m_business/cards/rules/rules_100_day_grace_from_sberbank.pdf, link-name: ссылке</td>\n",
       "      <td>33318497</td>\n",
       "      <td>12065</td>\n",
       "      <td>1.32482</td>\n",
       "      <td>None</td>\n",
       "      <td>None</td>\n",
       "      <td>None</td>\n",
       "      <td>33318497</td>\n",
       "      <td>12065</td>\n",
       "      <td>1.32482</td>\n",
       "    </tr>\n",
       "    <tr>\n",
       "      <th>4</th>\n",
       "      <td>/accounts-payments/orders/sign</td>\n",
       "      <td>[std]: asup: offers</td>\n",
       "      <td>click</td>\n",
       "      <td>None</td>\n",
       "      <td>zarplata, link-url: https://www.sberbank.ru/ru/s_m_business/bankingservice/cards/salaryproject, link-name: подробнее на сайте</td>\n",
       "      <td>33332920</td>\n",
       "      <td>296</td>\n",
       "      <td>0.03250</td>\n",
       "      <td>None</td>\n",
       "      <td>None</td>\n",
       "      <td>None</td>\n",
       "      <td>33332920</td>\n",
       "      <td>296</td>\n",
       "      <td>0.03250</td>\n",
       "    </tr>\n",
       "    <tr>\n",
       "      <th>5</th>\n",
       "      <td>/accounts/kartoteka/:id/:cardType</td>\n",
       "      <td>[std]: asup: offers</td>\n",
       "      <td>click</td>\n",
       "      <td>None</td>\n",
       "      <td>zarplata, link-url: https://www.sberbank.ru/ru/s_m_business/bankingservice/cards/salaryproject, link-name: подробнее на сайте</td>\n",
       "      <td>33333251</td>\n",
       "      <td>359</td>\n",
       "      <td>0.03942</td>\n",
       "      <td>None</td>\n",
       "      <td>None</td>\n",
       "      <td>None</td>\n",
       "      <td>33333251</td>\n",
       "      <td>359</td>\n",
       "      <td>0.03942</td>\n",
       "    </tr>\n",
       "    <tr>\n",
       "      <th>6</th>\n",
       "      <td>/acquiring/merchant/pos-list</td>\n",
       "      <td>[std]: asup: offers</td>\n",
       "      <td>click</td>\n",
       "      <td>None</td>\n",
       "      <td>zarplata, link-url: https://www.sberbank.ru/ru/s_m_business/bankingservice/cards/salaryproject, link-name: подробнее на сайте</td>\n",
       "      <td>33333912</td>\n",
       "      <td>755</td>\n",
       "      <td>0.08290</td>\n",
       "      <td>None</td>\n",
       "      <td>None</td>\n",
       "      <td>None</td>\n",
       "      <td>33333912</td>\n",
       "      <td>755</td>\n",
       "      <td>0.08290</td>\n",
       "    </tr>\n",
       "    <tr>\n",
       "      <th>7</th>\n",
       "      <td>/acquiring/merchant/reports-list/report-designer-request/:id</td>\n",
       "      <td>[std]: asup: offers</td>\n",
       "      <td>click</td>\n",
       "      <td>None</td>\n",
       "      <td>zarplata, link-url: https://www.sberbank.ru/ru/s_m_business/bankingservice/cards/salaryproject, link-name: подробнее на сайте</td>\n",
       "      <td>33335345</td>\n",
       "      <td>36</td>\n",
       "      <td>0.00395</td>\n",
       "      <td>None</td>\n",
       "      <td>None</td>\n",
       "      <td>None</td>\n",
       "      <td>33335345</td>\n",
       "      <td>36</td>\n",
       "      <td>0.00395</td>\n",
       "    </tr>\n",
       "    <tr>\n",
       "      <th>8</th>\n",
       "      <td>/acquiring/merchant/requests/pos-registration-request</td>\n",
       "      <td>[std]: asup: offers</td>\n",
       "      <td>click</td>\n",
       "      <td>None</td>\n",
       "      <td>zarplata, link-url: https://www.sberbank.ru/ru/s_m_business/bankingservice/cards/salaryproject, link-name: подробнее на сайте</td>\n",
       "      <td>33335544</td>\n",
       "      <td>75</td>\n",
       "      <td>0.00824</td>\n",
       "      <td>None</td>\n",
       "      <td>None</td>\n",
       "      <td>None</td>\n",
       "      <td>33335544</td>\n",
       "      <td>75</td>\n",
       "      <td>0.00824</td>\n",
       "    </tr>\n",
       "    <tr>\n",
       "      <th>9</th>\n",
       "      <td>/cash-in-transit</td>\n",
       "      <td>[std]: asup: offers</td>\n",
       "      <td>click</td>\n",
       "      <td>None</td>\n",
       "      <td>zarplata, link-url: https://www.sberbank.ru/ru/s_m_business/bankingservice/cards/salaryproject, link-name: подробнее на сайте</td>\n",
       "      <td>33335848</td>\n",
       "      <td>773</td>\n",
       "      <td>0.08488</td>\n",
       "      <td>None</td>\n",
       "      <td>None</td>\n",
       "      <td>None</td>\n",
       "      <td>33335848</td>\n",
       "      <td>773</td>\n",
       "      <td>0.08488</td>\n",
       "    </tr>\n",
       "  </tbody>\n",
       "</table>\n",
       "</div>"
      ],
      "text/plain": [
       "                                                    hitPagePath  \\\n",
       "0                                            /accounts-payments   \n",
       "1                                            /accounts-payments   \n",
       "2                         /accounts-payments/account/:accountId   \n",
       "3                         /accounts-payments/account/:accountId   \n",
       "4                                /accounts-payments/orders/sign   \n",
       "5                             /accounts/kartoteka/:id/:cardType   \n",
       "6                                  /acquiring/merchant/pos-list   \n",
       "7  /acquiring/merchant/reports-list/report-designer-request/:id   \n",
       "8         /acquiring/merchant/requests/pos-registration-request   \n",
       "9                                              /cash-in-transit   \n",
       "\n",
       "         eventCategory eventAction storyTarget  \\\n",
       "0  [std]: asup: offers       click        None   \n",
       "1  [std]: asup: offers       click        None   \n",
       "2  [std]: asup: offers       click        None   \n",
       "3  [std]: asup: offers       click        None   \n",
       "4  [std]: asup: offers       click        None   \n",
       "5  [std]: asup: offers       click        None   \n",
       "6  [std]: asup: offers       click        None   \n",
       "7  [std]: asup: offers       click        None   \n",
       "8  [std]: asup: offers       click        None   \n",
       "9  [std]: asup: offers       click        None   \n",
       "\n",
       "                                                                                                                                                           product  \\\n",
       "0  smart_credit, link-url: https://www.sberbank.ru/common/img/uploaded/files/pdf/s_m_business/cards/rules/rules_100_day_grace_from_sberbank.pdf, link-name: ссылке   \n",
       "1                                    zarplata, link-url: https://www.sberbank.ru/ru/s_m_business/bankingservice/cards/salaryproject, link-name: подробнее на сайте   \n",
       "2                                    zarplata, link-url: https://www.sberbank.ru/ru/s_m_business/bankingservice/cards/salaryproject, link-name: подробнее на сайте   \n",
       "3  smart_credit, link-url: https://www.sberbank.ru/common/img/uploaded/files/pdf/s_m_business/cards/rules/rules_100_day_grace_from_sberbank.pdf, link-name: ссылке   \n",
       "4                                    zarplata, link-url: https://www.sberbank.ru/ru/s_m_business/bankingservice/cards/salaryproject, link-name: подробнее на сайте   \n",
       "5                                    zarplata, link-url: https://www.sberbank.ru/ru/s_m_business/bankingservice/cards/salaryproject, link-name: подробнее на сайте   \n",
       "6                                    zarplata, link-url: https://www.sberbank.ru/ru/s_m_business/bankingservice/cards/salaryproject, link-name: подробнее на сайте   \n",
       "7                                    zarplata, link-url: https://www.sberbank.ru/ru/s_m_business/bankingservice/cards/salaryproject, link-name: подробнее на сайте   \n",
       "8                                    zarplata, link-url: https://www.sberbank.ru/ru/s_m_business/bankingservice/cards/salaryproject, link-name: подробнее на сайте   \n",
       "9                                    zarplata, link-url: https://www.sberbank.ru/ru/s_m_business/bankingservice/cards/salaryproject, link-name: подробнее на сайте   \n",
       "\n",
       "   event_id  event_user_count  event_user_percent group_id group_user_count  \\\n",
       "0  33314281              3604             0.39574     None             None   \n",
       "1  33314281              3604             0.39574     None             None   \n",
       "2  33318497             12065             1.32482     None             None   \n",
       "3  33318497             12065             1.32482     None             None   \n",
       "4  33332920               296             0.03250     None             None   \n",
       "5  33333251               359             0.03942     None             None   \n",
       "6  33333912               755             0.08290     None             None   \n",
       "7  33335345                36             0.00395     None             None   \n",
       "8  33335544                75             0.00824     None             None   \n",
       "9  33335848               773             0.08488     None             None   \n",
       "\n",
       "  group_user_percent   item_id  item_user_count  item_user_percent  \n",
       "0               None  33314281             3604            0.39574  \n",
       "1               None  33314281             3604            0.39574  \n",
       "2               None  33318497            12065            1.32482  \n",
       "3               None  33318497            12065            1.32482  \n",
       "4               None  33332920              296            0.03250  \n",
       "5               None  33333251              359            0.03942  \n",
       "6               None  33333912              755            0.08290  \n",
       "7               None  33335345               36            0.00395  \n",
       "8               None  33335544               75            0.00824  \n",
       "9               None  33335848              773            0.08488  "
      ]
     },
     "execution_count": 5,
     "metadata": {},
     "output_type": "execute_result"
    }
   ],
   "source": [
    "item_dict.filter(\"product <> '' and product <> 'none'\").show(10)"
   ]
  },
  {
   "cell_type": "code",
   "execution_count": 6,
   "metadata": {
    "collapsed": true
   },
   "outputs": [],
   "source": [
    "target_items = item_dict.filter(\"product <> '' and product <> 'none' and storyTarget <> 'none'\")\\\n",
    "                            .select(\"item_id\")\\\n",
    "                            .distinct()\\\n",
    "                            .toPandas()[\"item_id\"]\\\n",
    "                            .tolist()"
   ]
  },
  {
   "cell_type": "code",
   "execution_count": 7,
   "metadata": {},
   "outputs": [
    {
     "data": {
      "text/plain": [
       "242"
      ]
     },
     "execution_count": 7,
     "metadata": {},
     "output_type": "execute_result"
    }
   ],
   "source": [
    "len(target_items)"
   ]
  },
  {
   "cell_type": "code",
   "execution_count": 8,
   "metadata": {},
   "outputs": [
    {
     "data": {
      "text/html": [
       "<div>\n",
       "<style scoped>\n",
       "    .dataframe tbody tr th:only-of-type {\n",
       "        vertical-align: middle;\n",
       "    }\n",
       "\n",
       "    .dataframe tbody tr th {\n",
       "        vertical-align: top;\n",
       "    }\n",
       "\n",
       "    .dataframe thead th {\n",
       "        text-align: right;\n",
       "    }\n",
       "</style>\n",
       "<table border=\"1\" class=\"dataframe\">\n",
       "  <thead>\n",
       "    <tr style=\"text-align: right;\">\n",
       "      <th></th>\n",
       "      <th>item_id</th>\n",
       "      <th>first(product, false)</th>\n",
       "      <th>first(item_user_count, false)</th>\n",
       "    </tr>\n",
       "  </thead>\n",
       "  <tbody>\n",
       "    <tr>\n",
       "      <th>0</th>\n",
       "      <td>125965657</td>\n",
       "      <td>korpkarta</td>\n",
       "      <td>68</td>\n",
       "    </tr>\n",
       "    <tr>\n",
       "      <th>1</th>\n",
       "      <td>125925370</td>\n",
       "      <td>merchant-acquiring</td>\n",
       "      <td>329</td>\n",
       "    </tr>\n",
       "    <tr>\n",
       "      <th>2</th>\n",
       "      <td>125930204</td>\n",
       "      <td>zarplata</td>\n",
       "      <td>4</td>\n",
       "    </tr>\n",
       "    <tr>\n",
       "      <th>3</th>\n",
       "      <td>125967271</td>\n",
       "      <td>customwarranty</td>\n",
       "      <td>1</td>\n",
       "    </tr>\n",
       "    <tr>\n",
       "      <th>4</th>\n",
       "      <td>125962114</td>\n",
       "      <td>e_inv_const_doc</td>\n",
       "      <td>2</td>\n",
       "    </tr>\n",
       "    <tr>\n",
       "      <th>5</th>\n",
       "      <td>125958154</td>\n",
       "      <td>e_inv</td>\n",
       "      <td>7</td>\n",
       "    </tr>\n",
       "    <tr>\n",
       "      <th>6</th>\n",
       "      <td>125968433</td>\n",
       "      <td>e-acquiring</td>\n",
       "      <td>111</td>\n",
       "    </tr>\n",
       "    <tr>\n",
       "      <th>7</th>\n",
       "      <td>125930028</td>\n",
       "      <td>smart_credit</td>\n",
       "      <td>41</td>\n",
       "    </tr>\n",
       "    <tr>\n",
       "      <th>8</th>\n",
       "      <td>125929450</td>\n",
       "      <td>smart_credit</td>\n",
       "      <td>9</td>\n",
       "    </tr>\n",
       "    <tr>\n",
       "      <th>9</th>\n",
       "      <td>125928030</td>\n",
       "      <td>zarplata</td>\n",
       "      <td>1</td>\n",
       "    </tr>\n",
       "  </tbody>\n",
       "</table>\n",
       "</div>"
      ],
      "text/plain": [
       "     item_id first(product, false)  first(item_user_count, false)\n",
       "0  125965657             korpkarta                             68\n",
       "1  125925370    merchant-acquiring                            329\n",
       "2  125930204              zarplata                              4\n",
       "3  125967271        customwarranty                              1\n",
       "4  125962114       e_inv_const_doc                              2\n",
       "5  125958154                 e_inv                              7\n",
       "6  125968433           e-acquiring                            111\n",
       "7  125930028          smart_credit                             41\n",
       "8  125929450          smart_credit                              9\n",
       "9  125928030              zarplata                              1"
      ]
     },
     "execution_count": 8,
     "metadata": {},
     "output_type": "execute_result"
    }
   ],
   "source": [
    "item_dict.filter(f.col(\"item_id\").isin(target_items)) \\\n",
    "            .groupBy(\"item_id\").agg(f.first(\"product\"), f.first(\"item_user_count\")).show()"
   ]
  },
  {
   "cell_type": "markdown",
   "metadata": {},
   "source": [
    "###### Разделение на train, val, test"
   ]
  },
  {
   "cell_type": "code",
   "execution_count": 9,
   "metadata": {},
   "outputs": [
    {
     "name": "stdout",
     "output_type": "stream",
     "text": [
      "Non target: 2358607944\n",
      "Target: 59309019\n"
     ]
    }
   ],
   "source": [
    "data_target = data.filter(f.col(\"item_id\").isin(target_items))\n",
    "data_non_target = data.subtract(data_target)\n",
    "\n",
    "print(\"Non target: {}\\nTarget: {}\".format(data_non_target.count(), \n",
    "                                          data_target.count()))"
   ]
  },
  {
   "cell_type": "markdown",
   "metadata": {},
   "source": [
    "###### Test выборка "
   ]
  },
  {
   "cell_type": "code",
   "execution_count": 10,
   "metadata": {
    "collapsed": true
   },
   "outputs": [],
   "source": [
    "test = data_target"
   ]
  },
  {
   "cell_type": "code",
   "execution_count": 11,
   "metadata": {
    "collapsed": true
   },
   "outputs": [],
   "source": [
    "train_target, test_target = data_target.randomSplit([0.8, 0.2])"
   ]
  },
  {
   "cell_type": "code",
   "execution_count": 12,
   "metadata": {},
   "outputs": [
    {
     "name": "stdout",
     "output_type": "stream",
     "text": [
      "Target:\n",
      "\ttrain:\t47451417\n",
      "\ttest:\t11857602\n"
     ]
    }
   ],
   "source": [
    "print(\"Target:\\n\\ttrain:\\t{}\\n\\ttest:\\t{}\".format(train_target.count(), \n",
    "                                                test_target.count()))"
   ]
  },
  {
   "cell_type": "markdown",
   "metadata": {},
   "source": [
    "Объединяем все нецелевые события с обучающей частью целевых для обучающей выборки"
   ]
  },
  {
   "cell_type": "code",
   "execution_count": 13,
   "metadata": {},
   "outputs": [
    {
     "data": {
      "text/plain": [
       "2406059361"
      ]
     },
     "execution_count": 13,
     "metadata": {},
     "output_type": "execute_result"
    }
   ],
   "source": [
    "train_union = data_non_target.union(train_target)\n",
    "\n",
    "train_union.cache()\n",
    "train_union.count()"
   ]
  },
  {
   "cell_type": "markdown",
   "metadata": {},
   "source": [
    "Так как мы хотим оценивать качество только по целевым событиям, то будем учитывать только целевые события в валидационной выборке"
   ]
  },
  {
   "cell_type": "code",
   "execution_count": 14,
   "metadata": {},
   "outputs": [
    {
     "data": {
      "text/plain": [
       "11857602"
      ]
     },
     "execution_count": 14,
     "metadata": {},
     "output_type": "execute_result"
    }
   ],
   "source": [
    "val = test_target\n",
    "\n",
    "val.cache()\n",
    "val.count()"
   ]
  },
  {
   "cell_type": "markdown",
   "metadata": {},
   "source": [
    "###### Отношения количества активных целевых событий в train, val "
   ]
  },
  {
   "cell_type": "code",
   "execution_count": 15,
   "metadata": {},
   "outputs": [],
   "source": [
    "train_target_count = train_union.filter(f.col(\"item_id\").isin(target_items)) \\\n",
    "                        .select(f.sum(\"rating\").alias(\"count\"))\\\n",
    "                        .toPandas()[\"count\"][0]\n",
    "        \n",
    "val_target_count = val.filter(f.col(\"item_id\").isin(target_items)) \\\n",
    "                        .select(f.sum(\"rating\").alias(\"count\"))\\\n",
    "                        .toPandas()[\"count\"][0]"
   ]
  },
  {
   "cell_type": "code",
   "execution_count": 16,
   "metadata": {},
   "outputs": [
    {
     "name": "stdout",
     "output_type": "stream",
     "text": [
      "Target count:\n",
      "\tTrain: 16301\n",
      "\tVal: 4017\n",
      "Ratio val/train: 0.246427\n"
     ]
    }
   ],
   "source": [
    "print(\"Target count:\\n\\tTrain: {:d}\\n\\tVal: {:d}\\nRatio val/train: {:f}\" \\\n",
    "            .format(int(train_target_count), int(val_target_count), \n",
    "                    val_target_count / train_target_count))"
   ]
  },
  {
   "cell_type": "markdown",
   "metadata": {},
   "source": [
    "###### Исключение событий из будущего в обучающей выборке "
   ]
  },
  {
   "cell_type": "markdown",
   "metadata": {},
   "source": [
    "Так как обучающая выборка содержит все нецелевые события, то она может содержать и события, которые произошли после целевых события из тестовой выборки. Таким образом по налищию этих события в обучающей выборке модель может узнать статус целевого события - т.е. произойдёт утечка данных.\n",
    "\n",
    "Выберем активные целевые события из тестового датасета"
   ]
  },
  {
   "cell_type": "code",
   "execution_count": 17,
   "metadata": {},
   "outputs": [
    {
     "data": {
      "text/plain": [
       "4017"
      ]
     },
     "execution_count": 17,
     "metadata": {},
     "output_type": "execute_result"
    }
   ],
   "source": [
    "val_pos = val.filter(\"rating = 1.0\") \\\n",
    "                .withColumnRenamed(\"timestamp\", \"timestamp_test\")\\\n",
    "                .select(\"user_id\", \"timestamp_test\")\n",
    "val_pos.count()"
   ]
  },
  {
   "cell_type": "markdown",
   "metadata": {},
   "source": [
    "Добавим ко всем событиям пользователей информацию о целевых событиях у того же пользователя"
   ]
  },
  {
   "cell_type": "code",
   "execution_count": 18,
   "metadata": {},
   "outputs": [
    {
     "data": {
      "text/plain": [
       "2406389502"
      ]
     },
     "execution_count": 18,
     "metadata": {},
     "output_type": "execute_result"
    }
   ],
   "source": [
    "train_cross = train_union.join(val_pos, on=\"user_id\", how=\"left_outer\") \\\n",
    "                     .select(\"user_id\", \"item_id\", \"rating\", \"timestamp\",\n",
    "                             (f.col(\"timestamp\") - f.col(\"timestamp_test\")).alias(\"ts_diff\"))\n",
    "train_cross.count()"
   ]
  },
  {
   "cell_type": "markdown",
   "metadata": {},
   "source": [
    "Поставим флаг на события, которые могут являтся следствием целевых.\n",
    "\n",
    "Критерии следственности:\n",
    "\n",
    "Событие произошло после целевого\n",
    "Разница между событиями меньше 10 минут"
   ]
  },
  {
   "cell_type": "code",
   "execution_count": 19,
   "metadata": {},
   "outputs": [
    {
     "data": {
      "text/html": [
       "<div>\n",
       "<style scoped>\n",
       "    .dataframe tbody tr th:only-of-type {\n",
       "        vertical-align: middle;\n",
       "    }\n",
       "\n",
       "    .dataframe tbody tr th {\n",
       "        vertical-align: top;\n",
       "    }\n",
       "\n",
       "    .dataframe thead th {\n",
       "        text-align: right;\n",
       "    }\n",
       "</style>\n",
       "<table border=\"1\" class=\"dataframe\">\n",
       "  <thead>\n",
       "    <tr style=\"text-align: right;\">\n",
       "      <th></th>\n",
       "      <th>user_id</th>\n",
       "      <th>item_id</th>\n",
       "      <th>timestamp</th>\n",
       "      <th>rating</th>\n",
       "      <th>is_consequence</th>\n",
       "    </tr>\n",
       "  </thead>\n",
       "  <tbody>\n",
       "    <tr>\n",
       "      <th>0</th>\n",
       "      <td>471</td>\n",
       "      <td>57531037</td>\n",
       "      <td>1622449888</td>\n",
       "      <td>1.0</td>\n",
       "      <td>False</td>\n",
       "    </tr>\n",
       "    <tr>\n",
       "      <th>1</th>\n",
       "      <td>471</td>\n",
       "      <td>39016804</td>\n",
       "      <td>1622012412</td>\n",
       "      <td>1.0</td>\n",
       "      <td>False</td>\n",
       "    </tr>\n",
       "    <tr>\n",
       "      <th>2</th>\n",
       "      <td>471</td>\n",
       "      <td>588456</td>\n",
       "      <td>1622184883</td>\n",
       "      <td>1.0</td>\n",
       "      <td>False</td>\n",
       "    </tr>\n",
       "    <tr>\n",
       "      <th>3</th>\n",
       "      <td>471</td>\n",
       "      <td>35646684</td>\n",
       "      <td>1622449926</td>\n",
       "      <td>1.0</td>\n",
       "      <td>False</td>\n",
       "    </tr>\n",
       "    <tr>\n",
       "      <th>4</th>\n",
       "      <td>471</td>\n",
       "      <td>58242558</td>\n",
       "      <td>1622449890</td>\n",
       "      <td>1.0</td>\n",
       "      <td>False</td>\n",
       "    </tr>\n",
       "  </tbody>\n",
       "</table>\n",
       "</div>"
      ],
      "text/plain": [
       "   user_id   item_id   timestamp  rating  is_consequence\n",
       "0      471  57531037  1622449888     1.0           False\n",
       "1      471  39016804  1622012412     1.0           False\n",
       "2      471    588456  1622184883     1.0           False\n",
       "3      471  35646684  1622449926     1.0           False\n",
       "4      471  58242558  1622449890     1.0           False"
      ]
     },
     "execution_count": 19,
     "metadata": {},
     "output_type": "execute_result"
    }
   ],
   "source": [
    "delete_range_min = 10\n",
    "min_ts = -10**9\n",
    "train_cons = train_cross.na.fill({\"ts_diff\": min_ts})\\\n",
    "                          .groupBy(train_union.columns).agg(f.min(\"ts_diff\").alias(\"ts_diff\"))\\\n",
    "                          .withColumn(\"is_consequence\", (f.col(\"ts_diff\") >= 0) &\n",
    "                                                        (f.col(\"ts_diff\") <= delete_range_min * 60)) \\\n",
    "                          .drop(\"ts_diff\")\n",
    "train_cons.show(5)"
   ]
  },
  {
   "cell_type": "markdown",
   "metadata": {},
   "source": [
    "Занулим все следственные события"
   ]
  },
  {
   "cell_type": "code",
   "execution_count": 20,
   "metadata": {
    "collapsed": true
   },
   "outputs": [],
   "source": [
    "train = train_cons.withColumn(\"rating_filt\", f.when(~f.col(\"is_consequence\"), f.col(\"rating\")) \\\n",
    "                                                       .otherwise(0.0)) \\\n",
    "                            .drop(\"rating\", \"is_consequence\") \\\n",
    "                            .withColumnRenamed(\"rating_filt\", \"rating\")"
   ]
  },
  {
   "cell_type": "code",
   "execution_count": 21,
   "metadata": {},
   "outputs": [
    {
     "data": {
      "text/html": [
       "<div>\n",
       "<style scoped>\n",
       "    .dataframe tbody tr th:only-of-type {\n",
       "        vertical-align: middle;\n",
       "    }\n",
       "\n",
       "    .dataframe tbody tr th {\n",
       "        vertical-align: top;\n",
       "    }\n",
       "\n",
       "    .dataframe thead th {\n",
       "        text-align: right;\n",
       "    }\n",
       "</style>\n",
       "<table border=\"1\" class=\"dataframe\">\n",
       "  <thead>\n",
       "    <tr style=\"text-align: right;\">\n",
       "      <th></th>\n",
       "      <th>user_id</th>\n",
       "      <th>item_id</th>\n",
       "      <th>timestamp</th>\n",
       "      <th>rating</th>\n",
       "    </tr>\n",
       "  </thead>\n",
       "  <tbody>\n",
       "    <tr>\n",
       "      <th>0</th>\n",
       "      <td>471</td>\n",
       "      <td>57531037</td>\n",
       "      <td>1622449888</td>\n",
       "      <td>1.0</td>\n",
       "    </tr>\n",
       "    <tr>\n",
       "      <th>1</th>\n",
       "      <td>471</td>\n",
       "      <td>28715431</td>\n",
       "      <td>1622449927</td>\n",
       "      <td>1.0</td>\n",
       "    </tr>\n",
       "    <tr>\n",
       "      <th>2</th>\n",
       "      <td>471</td>\n",
       "      <td>39016804</td>\n",
       "      <td>1622012412</td>\n",
       "      <td>1.0</td>\n",
       "    </tr>\n",
       "    <tr>\n",
       "      <th>3</th>\n",
       "      <td>471</td>\n",
       "      <td>32083838</td>\n",
       "      <td>1622184886</td>\n",
       "      <td>1.0</td>\n",
       "    </tr>\n",
       "    <tr>\n",
       "      <th>4</th>\n",
       "      <td>471</td>\n",
       "      <td>46659237</td>\n",
       "      <td>1622012418</td>\n",
       "      <td>1.0</td>\n",
       "    </tr>\n",
       "  </tbody>\n",
       "</table>\n",
       "</div>"
      ],
      "text/plain": [
       "   user_id   item_id   timestamp  rating\n",
       "0      471  57531037  1622449888     1.0\n",
       "1      471  28715431  1622449927     1.0\n",
       "2      471  39016804  1622012412     1.0\n",
       "3      471  32083838  1622184886     1.0\n",
       "4      471  46659237  1622012418     1.0"
      ]
     },
     "execution_count": 21,
     "metadata": {},
     "output_type": "execute_result"
    }
   ],
   "source": [
    "train.show(5)"
   ]
  },
  {
   "cell_type": "markdown",
   "metadata": {},
   "source": [
    "###### Статистика "
   ]
  },
  {
   "cell_type": "code",
   "execution_count": 22,
   "metadata": {},
   "outputs": [
    {
     "name": "stdout",
     "output_type": "stream",
     "text": [
      "Train:\n",
      "\trating=1.0: 7049306\n",
      "\trating=0.0: 2399010055\n",
      "Test:\n",
      "\trating=1.0: 4017\n",
      "\trating=0.0: 11853585\n"
     ]
    }
   ],
   "source": [
    "train_0 = train.filter(\"rating = 0.0\").count()\n",
    "train_1 = train.filter(\"rating = 1.0\").count()\n",
    "\n",
    "val_0 = val.filter(\"rating = 0.0\").count()\n",
    "val_1 = val.filter(\"rating = 1.0\").count()\n",
    "\n",
    "print(\"Train:\\n\\trating=1.0: {}\\n\\trating=0.0: {}\".format(train_1, train_0))\n",
    "print(\"Test:\\n\\trating=1.0: {}\\n\\trating=0.0: {}\".format(val_1, val_0))"
   ]
  },
  {
   "cell_type": "markdown",
   "metadata": {},
   "source": [
    "###### Коррекция тестовой выборки"
   ]
  },
  {
   "cell_type": "code",
   "execution_count": 23,
   "metadata": {
    "collapsed": true
   },
   "outputs": [],
   "source": [
    "train_pos = train.filter(\"rating = 1.0\")"
   ]
  },
  {
   "cell_type": "code",
   "execution_count": 24,
   "metadata": {
    "collapsed": true
   },
   "outputs": [],
   "source": [
    "val_cor = val.join(train_pos.select(\"user_id\").distinct() \\\n",
    "                              .withColumn(\"in_train\", f.lit(True)),\n",
    "                       on=\"user_id\", \n",
    "                       how=\"left_outer\") \\\n",
    "                .filter(\"in_train = True\") \\\n",
    "                .drop(\"in_train\")\n",
    "        \n",
    "test_cor = test.join(train_pos.select(\"user_id\").distinct() \\\n",
    "                              .withColumn(\"in_train\", f.lit(True)),\n",
    "                       on=\"user_id\", \n",
    "                       how=\"left_outer\") \\\n",
    "                .filter(\"in_train = True\") \\\n",
    "                .drop(\"in_train\")"
   ]
  },
  {
   "cell_type": "markdown",
   "metadata": {},
   "source": [
    "###### Сохранение данных "
   ]
  },
  {
   "cell_type": "code",
   "execution_count": 25,
   "metadata": {
    "collapsed": true
   },
   "outputs": [],
   "source": [
    "train_table = RECSYS_STORY_TRAIN\n",
    "\n",
    "drop_table(SBX_TEAM_DIGITCAMP, train_table, hive)\n",
    "create_table_from_df(SBX_TEAM_DIGITCAMP, train_table, train, hive)"
   ]
  },
  {
   "cell_type": "code",
   "execution_count": 28,
   "metadata": {
    "collapsed": true
   },
   "outputs": [],
   "source": [
    "train_pos_table = RECSYS_STORY_DATASET_TRAIN_POS\n",
    "\n",
    "drop_table(SBX_TEAM_DIGITCAMP, train_pos_table, hive)\n",
    "create_table_from_df(SBX_TEAM_DIGITCAMP, train_pos_table, train_pos, hive)"
   ]
  },
  {
   "cell_type": "code",
   "execution_count": 29,
   "metadata": {},
   "outputs": [],
   "source": [
    "train_val_table = \"RECSYS_STORY_DATASET_VAL\"\n",
    "\n",
    "drop_table(SBX_TEAM_DIGITCAMP, train_val_table, hive)\n",
    "create_table_from_df(SBX_TEAM_DIGITCAMP, train_val_table, val_cor, hive)"
   ]
  },
  {
   "cell_type": "code",
   "execution_count": 30,
   "metadata": {
    "collapsed": true
   },
   "outputs": [],
   "source": [
    "test_table = RECSYS_STORY_TEST\n",
    "\n",
    "drop_table(SBX_TEAM_DIGITCAMP, test_table, hive)\n",
    "create_table_from_df(SBX_TEAM_DIGITCAMP, test_table, test_cor, hive)"
   ]
  },
  {
   "cell_type": "code",
   "execution_count": null,
   "metadata": {
    "collapsed": true
   },
   "outputs": [],
   "source": []
  },
  {
   "cell_type": "code",
   "execution_count": 34,
   "metadata": {},
   "outputs": [
    {
     "data": {
      "text/html": [
       "<div>\n",
       "<style scoped>\n",
       "    .dataframe tbody tr th:only-of-type {\n",
       "        vertical-align: middle;\n",
       "    }\n",
       "\n",
       "    .dataframe tbody tr th {\n",
       "        vertical-align: top;\n",
       "    }\n",
       "\n",
       "    .dataframe thead th {\n",
       "        text-align: right;\n",
       "    }\n",
       "</style>\n",
       "<table border=\"1\" class=\"dataframe\">\n",
       "  <thead>\n",
       "    <tr style=\"text-align: right;\">\n",
       "      <th></th>\n",
       "      <th>user_id</th>\n",
       "      <th>item_id</th>\n",
       "      <th>timestamp</th>\n",
       "      <th>rating</th>\n",
       "    </tr>\n",
       "  </thead>\n",
       "  <tbody>\n",
       "    <tr>\n",
       "      <th>0</th>\n",
       "      <td>471</td>\n",
       "      <td>28715431</td>\n",
       "      <td>1622449927</td>\n",
       "      <td>1.0</td>\n",
       "    </tr>\n",
       "    <tr>\n",
       "      <th>1</th>\n",
       "      <td>471</td>\n",
       "      <td>46659237</td>\n",
       "      <td>1622012418</td>\n",
       "      <td>1.0</td>\n",
       "    </tr>\n",
       "    <tr>\n",
       "      <th>2</th>\n",
       "      <td>471</td>\n",
       "      <td>1415429</td>\n",
       "      <td>1622012716</td>\n",
       "      <td>1.0</td>\n",
       "    </tr>\n",
       "    <tr>\n",
       "      <th>3</th>\n",
       "      <td>471</td>\n",
       "      <td>58242558</td>\n",
       "      <td>1622449890</td>\n",
       "      <td>1.0</td>\n",
       "    </tr>\n",
       "    <tr>\n",
       "      <th>4</th>\n",
       "      <td>471</td>\n",
       "      <td>41621837</td>\n",
       "      <td>1622012760</td>\n",
       "      <td>1.0</td>\n",
       "    </tr>\n",
       "    <tr>\n",
       "      <th>5</th>\n",
       "      <td>471</td>\n",
       "      <td>32083838</td>\n",
       "      <td>1622184886</td>\n",
       "      <td>1.0</td>\n",
       "    </tr>\n",
       "    <tr>\n",
       "      <th>6</th>\n",
       "      <td>471</td>\n",
       "      <td>319615</td>\n",
       "      <td>1622012704</td>\n",
       "      <td>1.0</td>\n",
       "    </tr>\n",
       "    <tr>\n",
       "      <th>7</th>\n",
       "      <td>471</td>\n",
       "      <td>588456</td>\n",
       "      <td>1622184883</td>\n",
       "      <td>1.0</td>\n",
       "    </tr>\n",
       "    <tr>\n",
       "      <th>8</th>\n",
       "      <td>471</td>\n",
       "      <td>35646684</td>\n",
       "      <td>1622449926</td>\n",
       "      <td>1.0</td>\n",
       "    </tr>\n",
       "    <tr>\n",
       "      <th>9</th>\n",
       "      <td>471</td>\n",
       "      <td>57531037</td>\n",
       "      <td>1622449888</td>\n",
       "      <td>1.0</td>\n",
       "    </tr>\n",
       "  </tbody>\n",
       "</table>\n",
       "</div>"
      ],
      "text/plain": [
       "   user_id   item_id   timestamp  rating\n",
       "0      471  28715431  1622449927     1.0\n",
       "1      471  46659237  1622012418     1.0\n",
       "2      471   1415429  1622012716     1.0\n",
       "3      471  58242558  1622449890     1.0\n",
       "4      471  41621837  1622012760     1.0\n",
       "5      471  32083838  1622184886     1.0\n",
       "6      471    319615  1622012704     1.0\n",
       "7      471    588456  1622184883     1.0\n",
       "8      471  35646684  1622449926     1.0\n",
       "9      471  57531037  1622449888     1.0"
      ]
     },
     "execution_count": 34,
     "metadata": {},
     "output_type": "execute_result"
    }
   ],
   "source": [
    "load_table(SBX_TEAM_DIGITCAMP, RECSYS_STORY_TRAIN, hive).show()"
   ]
  },
  {
   "cell_type": "code",
   "execution_count": null,
   "metadata": {
    "collapsed": true
   },
   "outputs": [],
   "source": []
  },
  {
   "cell_type": "code",
   "execution_count": null,
   "metadata": {
    "collapsed": true
   },
   "outputs": [],
   "source": []
  }
 ],
 "metadata": {
  "kernelspec": {
   "display_name": "Python 3",
   "language": "python",
   "name": "python3"
  },
  "language_info": {
   "codemirror_mode": {
    "name": "ipython",
    "version": 3
   },
   "file_extension": ".py",
   "mimetype": "text/x-python",
   "name": "python",
   "nbconvert_exporter": "python",
   "pygments_lexer": "ipython3",
   "version": "3.5.3"
  }
 },
 "nbformat": 4,
 "nbformat_minor": 2
}
