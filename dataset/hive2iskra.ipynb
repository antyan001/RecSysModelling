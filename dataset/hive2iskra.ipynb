{
 "cells": [
  {
   "cell_type": "code",
   "execution_count": 1,
   "metadata": {
    "collapsed": true
   },
   "outputs": [],
   "source": [
    "%reload_ext autoreload\n",
    "%autoreload 2"
   ]
  },
  {
   "cell_type": "code",
   "execution_count": 15,
   "metadata": {},
   "outputs": [],
   "source": [
    "import os\n",
    "import sys\n",
    "import warnings\n",
    "warnings.filterwarnings('ignore')\n",
    "\n",
    "from pathlib import Path\n",
    "import pandas as pd\n",
    "import numpy as np\n",
    "import re \n",
    "import joblib\n",
    "\n",
    "curruser = os.environ.get('USER')\n",
    "\n",
    "if curruser in os.listdir(\"/opt/workspace/\"):\n",
    "    sys.path.insert(0, '/opt/workspace/{user}/system/support_library/'.format(user=curruser))\n",
    "    sys.path.insert(0, '/opt/workspace/{user}/libs/'.format(user=curruser))\n",
    "    sys.path.insert(0, '/opt/workspace/{user}/system/labdata/lib/'.format(user=curruser))\n",
    "else:\n",
    "    sys.path.insert(0, '/home/{}/notebooks/support_library/'.format(curruser))\n",
    "    sys.path.insert(0, '/home/{}/python35-libs/lib/python3.5/site-packages/'.format(curruser))\n",
    "    sys.path.insert(0, '/home/{}/notebooks/labdata/lib/'.format(curruser))\n",
    "\n",
    "# # sys.path.insert(0, './../src')\n",
    "# sys.path.insert(0, '/home/{user}/support_library/'.format(user=curruser))\n",
    "# sys.path.insert(0, '/home/{user}/python35-libs/lib/python3.5/site-packages/'.format(user=curruser))\n",
    "# sys.path.insert(0, '/home/{user}/notebooks/labdata/lib/'.format(user=curruser))\n",
    "\n",
    "\n",
    "from tqdm import tqdm\n",
    "from tqdm._tqdm_notebook import tqdm_notebook\n",
    "# tqdm_notebook.pandas()\n",
    "from corpora_process.utils import extend\n",
    "\n",
    "from spark_connector import SparkConnector\n",
    "from sparkdb_loader import spark\n",
    "from connector import OracleDB\n",
    "import pyspark\n",
    "from pyspark import SparkContext, SparkConf, HiveContext\n",
    "from pyspark.sql import functions as f\n",
    "from pyspark.sql.window import Window\n",
    "from pyspark.sql.types import *\n",
    "from pyspark.sql.dataframe import DataFrame\n",
    "\n",
    "import loader as load\n",
    "\n",
    "import time\n",
    "from datetime import datetime\n",
    "from dateutil.relativedelta import relativedelta"
   ]
  },
  {
   "cell_type": "code",
   "execution_count": 18,
   "metadata": {
    "collapsed": true
   },
   "outputs": [],
   "source": [
    "recsys_cf = os.environ.get(\"RECSYS_STORY\")\n",
    "sys.path.append(recsys_cf)\n",
    "os.chdir(recsys_cf)\n",
    "\n",
    "from lib.tools import *"
   ]
  },
  {
   "cell_type": "code",
   "execution_count": 16,
   "metadata": {
    "collapsed": true
   },
   "outputs": [],
   "source": []
  },
  {
   "cell_type": "markdown",
   "metadata": {},
   "source": [
    "### Connect"
   ]
  },
  {
   "cell_type": "code",
   "execution_count": 19,
   "metadata": {},
   "outputs": [
    {
     "name": "stdout",
     "output_type": "stream",
     "text": [
      "2.4.0.cloudera2\n",
      "CPU times: user 47.2 ms, sys: 43.1 ms, total: 90.3 ms\n",
      "Wall time: 28.4 s\n"
     ]
    }
   ],
   "source": [
    "%%time\n",
    "sp = spark(**SPARK_CONFIG)\n",
    "print(sp.sc.version)\n",
    "hive = sp.sql"
   ]
  },
  {
   "cell_type": "code",
   "execution_count": 16,
   "metadata": {},
   "outputs": [
    {
     "name": "stdout",
     "output_type": "stream",
     "text": [
      "\u001b[93mtype n to save the data, any other key will clear the screen\u001b[0m\n"
     ]
    },
    {
     "name": "stdin",
     "output_type": "stream",
     "text": [
      " \n"
     ]
    }
   ],
   "source": [
    "sp.exit()"
   ]
  },
  {
   "cell_type": "markdown",
   "metadata": {},
   "source": [
    "### Export2Iskra"
   ]
  },
  {
   "cell_type": "code",
   "execution_count": 20,
   "metadata": {
    "collapsed": true
   },
   "outputs": [],
   "source": [
    "schema     = 'sbx_team_digitcamp'\n",
    "table_name = 'RECSYS_STORY_RATINGS_CUT'\n",
    "\n",
    "fin_df = hive.sql('''select * from {}.{} '''.format(schema,table_name))"
   ]
  },
  {
   "cell_type": "code",
   "execution_count": 21,
   "metadata": {},
   "outputs": [
    {
     "name": "stdout",
     "output_type": "stream",
     "text": [
      "3152721\n"
     ]
    },
    {
     "data": {
      "text/html": [
       "<div>\n",
       "<style scoped>\n",
       "    .dataframe tbody tr th:only-of-type {\n",
       "        vertical-align: middle;\n",
       "    }\n",
       "\n",
       "    .dataframe tbody tr th {\n",
       "        vertical-align: top;\n",
       "    }\n",
       "\n",
       "    .dataframe thead th {\n",
       "        text-align: right;\n",
       "    }\n",
       "</style>\n",
       "<table border=\"1\" class=\"dataframe\">\n",
       "  <thead>\n",
       "    <tr style=\"text-align: right;\">\n",
       "      <th></th>\n",
       "      <th>INN</th>\n",
       "      <th>PRODUCT_ID</th>\n",
       "      <th>PRODUCT_RATING</th>\n",
       "      <th>TRUE_RATING</th>\n",
       "      <th>PRODUCT_RATING_NORM</th>\n",
       "      <th>agr_flg</th>\n",
       "    </tr>\n",
       "  </thead>\n",
       "  <tbody>\n",
       "    <tr>\n",
       "      <th>0</th>\n",
       "      <td>0101005622</td>\n",
       "      <td>merchant-acquiring</td>\n",
       "      <td>0.006173</td>\n",
       "      <td>0.0</td>\n",
       "      <td>0.273802</td>\n",
       "      <td>0</td>\n",
       "    </tr>\n",
       "    <tr>\n",
       "      <th>1</th>\n",
       "      <td>010103649080</td>\n",
       "      <td>guarantee</td>\n",
       "      <td>0.001092</td>\n",
       "      <td>0.0</td>\n",
       "      <td>0.075597</td>\n",
       "      <td>0</td>\n",
       "    </tr>\n",
       "    <tr>\n",
       "      <th>2</th>\n",
       "      <td>010103807160</td>\n",
       "      <td>rabota_ru</td>\n",
       "      <td>0.005545</td>\n",
       "      <td>0.0</td>\n",
       "      <td>0.249282</td>\n",
       "      <td>0</td>\n",
       "    </tr>\n",
       "    <tr>\n",
       "      <th>3</th>\n",
       "      <td>010401650891</td>\n",
       "      <td>sberrating</td>\n",
       "      <td>0.006176</td>\n",
       "      <td>0.0</td>\n",
       "      <td>0.273891</td>\n",
       "      <td>0</td>\n",
       "    </tr>\n",
       "    <tr>\n",
       "      <th>4</th>\n",
       "      <td>010401823664</td>\n",
       "      <td>two_gis</td>\n",
       "      <td>0.000549</td>\n",
       "      <td>0.0</td>\n",
       "      <td>0.054387</td>\n",
       "      <td>0</td>\n",
       "    </tr>\n",
       "    <tr>\n",
       "      <th>5</th>\n",
       "      <td>010405139705</td>\n",
       "      <td>merchant-acquiring</td>\n",
       "      <td>0.003657</td>\n",
       "      <td>0.0</td>\n",
       "      <td>0.175650</td>\n",
       "      <td>0</td>\n",
       "    </tr>\n",
       "    <tr>\n",
       "      <th>6</th>\n",
       "      <td>010407937280</td>\n",
       "      <td>lyurist</td>\n",
       "      <td>0.004365</td>\n",
       "      <td>0.0</td>\n",
       "      <td>0.203261</td>\n",
       "      <td>0</td>\n",
       "    </tr>\n",
       "    <tr>\n",
       "      <th>7</th>\n",
       "      <td>0105007010</td>\n",
       "      <td>credit_card</td>\n",
       "      <td>0.007153</td>\n",
       "      <td>0.0</td>\n",
       "      <td>0.312037</td>\n",
       "      <td>0</td>\n",
       "    </tr>\n",
       "    <tr>\n",
       "      <th>8</th>\n",
       "      <td>0105022241</td>\n",
       "      <td>credit_card</td>\n",
       "      <td>0.007004</td>\n",
       "      <td>0.0</td>\n",
       "      <td>0.306211</td>\n",
       "      <td>0</td>\n",
       "    </tr>\n",
       "    <tr>\n",
       "      <th>9</th>\n",
       "      <td>010503859437</td>\n",
       "      <td>evotor</td>\n",
       "      <td>0.002074</td>\n",
       "      <td>0.0</td>\n",
       "      <td>0.113877</td>\n",
       "      <td>0</td>\n",
       "    </tr>\n",
       "  </tbody>\n",
       "</table>\n",
       "</div>"
      ],
      "text/plain": [
       "            INN          PRODUCT_ID  PRODUCT_RATING  TRUE_RATING  \\\n",
       "0    0101005622  merchant-acquiring        0.006173          0.0   \n",
       "1  010103649080           guarantee        0.001092          0.0   \n",
       "2  010103807160           rabota_ru        0.005545          0.0   \n",
       "3  010401650891          sberrating        0.006176          0.0   \n",
       "4  010401823664             two_gis        0.000549          0.0   \n",
       "5  010405139705  merchant-acquiring        0.003657          0.0   \n",
       "6  010407937280             lyurist        0.004365          0.0   \n",
       "7    0105007010         credit_card        0.007153          0.0   \n",
       "8    0105022241         credit_card        0.007004          0.0   \n",
       "9  010503859437              evotor        0.002074          0.0   \n",
       "\n",
       "   PRODUCT_RATING_NORM  agr_flg  \n",
       "0             0.273802        0  \n",
       "1             0.075597        0  \n",
       "2             0.249282        0  \n",
       "3             0.273891        0  \n",
       "4             0.054387        0  \n",
       "5             0.175650        0  \n",
       "6             0.203261        0  \n",
       "7             0.312037        0  \n",
       "8             0.306211        0  \n",
       "9             0.113877        0  "
      ]
     },
     "execution_count": 21,
     "metadata": {},
     "output_type": "execute_result"
    }
   ],
   "source": [
    "print(fin_df.count())\n",
    "\n",
    "fin_df.show()"
   ]
  },
  {
   "cell_type": "code",
   "execution_count": 22,
   "metadata": {
    "collapsed": true
   },
   "outputs": [],
   "source": [
    "cols = fin_df.columns\n",
    "\n",
    "fin_df = fin_df.select([col.upper() for col in fin_df.columns])\n",
    "\n",
    "typesmap={}\n",
    "for column_name, column in fin_df.dtypes:\n",
    "    if column == 'string':\n",
    "        if 'INN' in column_name.upper() or 'KPP' in column_name.upper():\n",
    "            typesmap[column_name] = 'VARCHAR(20)'\n",
    "        elif 'commonSegmentoUID'.upper() in column_name.upper():\n",
    "            typesmap[column_name] = 'VARCHAR(4000)'\n",
    "        else:\n",
    "            typesmap[column_name] = 'VARCHAR(900)'\n",
    "    elif column == 'int':\n",
    "        typesmap[column_name] = 'INTEGER'\n",
    "    elif column == 'bigint':\n",
    "        typesmap[column_name] = 'INTEGER'\n",
    "    elif column == 'timestamp':\n",
    "        typesmap[column_name] = 'TIMESTAMP'\n",
    "    elif column == 'float' or column == 'double' or column == 'decimal(9,2)':\n",
    "        typesmap[column_name] = 'FLOAT'        \n",
    "    else:\n",
    "        None  \n",
    "\n",
    "cols = ', '.join([col + ' ' + typesmap[col] for col in fin_df.columns])"
   ]
  },
  {
   "cell_type": "code",
   "execution_count": 23,
   "metadata": {},
   "outputs": [
    {
     "data": {
      "text/plain": [
       "'INN VARCHAR(20), PRODUCT_ID VARCHAR(900), PRODUCT_RATING FLOAT, TRUE_RATING FLOAT, PRODUCT_RATING_NORM FLOAT, AGR_FLG INTEGER'"
      ]
     },
     "execution_count": 23,
     "metadata": {},
     "output_type": "execute_result"
    }
   ],
   "source": [
    "cols"
   ]
  },
  {
   "cell_type": "code",
   "execution_count": 24,
   "metadata": {
    "collapsed": true
   },
   "outputs": [],
   "source": [
    "from connector import OracleDB\n",
    "\n",
    "db = OracleDB('iskra4')\n",
    "mode = 'overwrite'\n",
    "fin_df \\\n",
    "    .write \\\n",
    "    .format('jdbc') \\\n",
    "    .mode(mode) \\\n",
    "    .option('url', 'jdbc:oracle:thin:@//'+db.dsn) \\\n",
    "    .option('user', db.user) \\\n",
    "    .option('password', db.password) \\\n",
    "    .option('dbtable', table_name) \\\n",
    "    .option('createTableColumnTypes', cols)\\\n",
    "    .option('driver', 'oracle.jdbc.driver.OracleDriver') \\\n",
    "    .save()"
   ]
  },
  {
   "cell_type": "markdown",
   "metadata": {},
   "source": [
    "### Show result in oreacle db"
   ]
  },
  {
   "cell_type": "code",
   "execution_count": 25,
   "metadata": {},
   "outputs": [
    {
     "data": {
      "text/html": [
       "<div>\n",
       "<style scoped>\n",
       "    .dataframe tbody tr th:only-of-type {\n",
       "        vertical-align: middle;\n",
       "    }\n",
       "\n",
       "    .dataframe tbody tr th {\n",
       "        vertical-align: top;\n",
       "    }\n",
       "\n",
       "    .dataframe thead th {\n",
       "        text-align: right;\n",
       "    }\n",
       "</style>\n",
       "<table border=\"1\" class=\"dataframe\">\n",
       "  <thead>\n",
       "    <tr style=\"text-align: right;\">\n",
       "      <th></th>\n",
       "      <th>INN</th>\n",
       "      <th>PRODUCT_ID</th>\n",
       "      <th>PRODUCT_RATING</th>\n",
       "      <th>TRUE_RATING</th>\n",
       "      <th>PRODUCT_RATING_NORM</th>\n",
       "      <th>AGR_FLG</th>\n",
       "    </tr>\n",
       "  </thead>\n",
       "  <tbody>\n",
       "    <tr>\n",
       "      <th>0</th>\n",
       "      <td>010300802770</td>\n",
       "      <td>korpkarta</td>\n",
       "      <td>0.0014565883</td>\n",
       "      <td>0E-10</td>\n",
       "      <td>0.0898065930</td>\n",
       "      <td>0</td>\n",
       "    </tr>\n",
       "    <tr>\n",
       "      <th>1</th>\n",
       "      <td>0104012018</td>\n",
       "      <td>rabota_ru</td>\n",
       "      <td>0.0098146517</td>\n",
       "      <td>0E-10</td>\n",
       "      <td>0.4158520265</td>\n",
       "      <td>0</td>\n",
       "    </tr>\n",
       "    <tr>\n",
       "      <th>2</th>\n",
       "      <td>010401462626</td>\n",
       "      <td>korpkarta</td>\n",
       "      <td>0.0019089939</td>\n",
       "      <td>0E-10</td>\n",
       "      <td>0.1074547958</td>\n",
       "      <td>0</td>\n",
       "    </tr>\n",
       "    <tr>\n",
       "      <th>3</th>\n",
       "      <td>010401462626</td>\n",
       "      <td>rabota_ru</td>\n",
       "      <td>0.0035481825</td>\n",
       "      <td>0E-10</td>\n",
       "      <td>0.1713990299</td>\n",
       "      <td>0</td>\n",
       "    </tr>\n",
       "    <tr>\n",
       "      <th>4</th>\n",
       "      <td>010407371132</td>\n",
       "      <td>sberrating</td>\n",
       "      <td>0.0068087131</td>\n",
       "      <td>0E-10</td>\n",
       "      <td>0.2985913039</td>\n",
       "      <td>0</td>\n",
       "    </tr>\n",
       "    <tr>\n",
       "      <th>5</th>\n",
       "      <td>010501271880</td>\n",
       "      <td>lyurist</td>\n",
       "      <td>0.0080228951</td>\n",
       "      <td>0E-10</td>\n",
       "      <td>0.3459561632</td>\n",
       "      <td>0</td>\n",
       "    </tr>\n",
       "    <tr>\n",
       "      <th>6</th>\n",
       "      <td>0105013663</td>\n",
       "      <td>lyurist</td>\n",
       "      <td>0.0027206216</td>\n",
       "      <td>0E-10</td>\n",
       "      <td>0.1391161386</td>\n",
       "      <td>0</td>\n",
       "    </tr>\n",
       "    <tr>\n",
       "      <th>7</th>\n",
       "      <td>010502025333</td>\n",
       "      <td>two_gis</td>\n",
       "      <td>0.0012990658</td>\n",
       "      <td>0E-10</td>\n",
       "      <td>0.0836616895</td>\n",
       "      <td>0</td>\n",
       "    </tr>\n",
       "    <tr>\n",
       "      <th>8</th>\n",
       "      <td>0105044189</td>\n",
       "      <td>credit_card</td>\n",
       "      <td>0.0063088490</td>\n",
       "      <td>0E-10</td>\n",
       "      <td>0.2790917617</td>\n",
       "      <td>0</td>\n",
       "    </tr>\n",
       "    <tr>\n",
       "      <th>9</th>\n",
       "      <td>0105054282</td>\n",
       "      <td>zarplata</td>\n",
       "      <td>0.0133866351</td>\n",
       "      <td>0E-10</td>\n",
       "      <td>0.5551939803</td>\n",
       "      <td>1</td>\n",
       "    </tr>\n",
       "  </tbody>\n",
       "</table>\n",
       "</div>"
      ],
      "text/plain": [
       "            INN   PRODUCT_ID PRODUCT_RATING TRUE_RATING PRODUCT_RATING_NORM  \\\n",
       "0  010300802770    korpkarta   0.0014565883       0E-10        0.0898065930   \n",
       "1    0104012018    rabota_ru   0.0098146517       0E-10        0.4158520265   \n",
       "2  010401462626    korpkarta   0.0019089939       0E-10        0.1074547958   \n",
       "3  010401462626    rabota_ru   0.0035481825       0E-10        0.1713990299   \n",
       "4  010407371132   sberrating   0.0068087131       0E-10        0.2985913039   \n",
       "5  010501271880      lyurist   0.0080228951       0E-10        0.3459561632   \n",
       "6    0105013663      lyurist   0.0027206216       0E-10        0.1391161386   \n",
       "7  010502025333      two_gis   0.0012990658       0E-10        0.0836616895   \n",
       "8    0105044189  credit_card   0.0063088490       0E-10        0.2790917617   \n",
       "9    0105054282     zarplata   0.0133866351       0E-10        0.5551939803   \n",
       "\n",
       "  AGR_FLG  \n",
       "0       0  \n",
       "1       0  \n",
       "2       0  \n",
       "3       0  \n",
       "4       0  \n",
       "5       0  \n",
       "6       0  \n",
       "7       0  \n",
       "8       0  \n",
       "9       1  "
      ]
     },
     "execution_count": 25,
     "metadata": {},
     "output_type": "execute_result"
    }
   ],
   "source": [
    "db = OracleDB('iskra4')\n",
    "res_table = sp.get_oracle(db, table_name)\n",
    "res_table.show()"
   ]
  },
  {
   "cell_type": "code",
   "execution_count": 26,
   "metadata": {},
   "outputs": [
    {
     "data": {
      "text/plain": [
       "'RECSYS_STORY_RATINGS_CUT'"
      ]
     },
     "execution_count": 26,
     "metadata": {},
     "output_type": "execute_result"
    }
   ],
   "source": [
    "table_name"
   ]
  },
  {
   "cell_type": "code",
   "execution_count": null,
   "metadata": {
    "collapsed": true
   },
   "outputs": [],
   "source": []
  }
 ],
 "metadata": {
  "kernelspec": {
   "display_name": "Python 3",
   "language": "python",
   "name": "python3"
  },
  "language_info": {
   "codemirror_mode": {
    "name": "ipython",
    "version": 3
   },
   "file_extension": ".py",
   "mimetype": "text/x-python",
   "name": "python",
   "nbconvert_exporter": "python",
   "pygments_lexer": "ipython3",
   "version": "3.5.3"
  }
 },
 "nbformat": 4,
 "nbformat_minor": 4
}
