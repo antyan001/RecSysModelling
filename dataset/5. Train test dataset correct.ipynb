{
 "cells": [
  {
   "cell_type": "code",
   "execution_count": 1,
   "metadata": {
    "collapsed": true
   },
   "outputs": [],
   "source": [
    "import os, sys\n",
    "\n",
    "recsys_cf = os.environ.get(\"RECSYS_STORY\")\n",
    "sys.path.append(recsys_cf)\n",
    "os.chdir(recsys_cf)\n",
    "\n",
    "from lib.tools import *"
   ]
  },
  {
   "cell_type": "markdown",
   "metadata": {},
   "source": [
    "###### spark "
   ]
  },
  {
   "cell_type": "code",
   "execution_count": 2,
   "metadata": {
    "collapsed": true
   },
   "outputs": [],
   "source": [
    "sp = spark(**SPARK_CONFIG)\n",
    "hive = sp.sql"
   ]
  },
  {
   "cell_type": "markdown",
   "metadata": {},
   "source": [
    "###### Загрузка датасета "
   ]
  },
  {
   "cell_type": "code",
   "execution_count": 3,
   "metadata": {
    "collapsed": true
   },
   "outputs": [],
   "source": [
    "data = load_table(SBX_TEAM_DIGITCAMP, RECSYS_STORY_DATASET, hive)"
   ]
  },
  {
   "cell_type": "code",
   "execution_count": 4,
   "metadata": {
    "collapsed": true
   },
   "outputs": [],
   "source": [
    "dataset = load_table(SBX_TEAM_DIGITCAMP, RECSYS_STORY_DATASET, hive).cache()\n",
    "dataset_positive = load_table(SBX_TEAM_DIGITCAMP, RECSYS_STORY_DATASET_POSITIVE, hive).cache()"
   ]
  },
  {
   "cell_type": "markdown",
   "metadata": {},
   "source": [
    "###### create story target items "
   ]
  },
  {
   "cell_type": "code",
   "execution_count": 5,
   "metadata": {
    "collapsed": true
   },
   "outputs": [],
   "source": [
    "item_dict = load_table(SBX_TEAM_DIGITCAMP, RECSYS_STORY_ITEM_DICT, hive)"
   ]
  },
  {
   "cell_type": "code",
   "execution_count": 6,
   "metadata": {},
   "outputs": [
    {
     "data": {
      "text/html": [
       "<div>\n",
       "<style scoped>\n",
       "    .dataframe tbody tr th:only-of-type {\n",
       "        vertical-align: middle;\n",
       "    }\n",
       "\n",
       "    .dataframe tbody tr th {\n",
       "        vertical-align: top;\n",
       "    }\n",
       "\n",
       "    .dataframe thead th {\n",
       "        text-align: right;\n",
       "    }\n",
       "</style>\n",
       "<table border=\"1\" class=\"dataframe\">\n",
       "  <thead>\n",
       "    <tr style=\"text-align: right;\">\n",
       "      <th></th>\n",
       "      <th>hitPagePath</th>\n",
       "      <th>eventCategory</th>\n",
       "      <th>eventAction</th>\n",
       "      <th>product</th>\n",
       "      <th>event_id</th>\n",
       "      <th>event_user_count</th>\n",
       "      <th>event_user_percent</th>\n",
       "      <th>prod_id</th>\n",
       "      <th>prod_user_count</th>\n",
       "      <th>prod_user_percent</th>\n",
       "      <th>item_id</th>\n",
       "      <th>item_user_count</th>\n",
       "      <th>item_user_percent</th>\n",
       "    </tr>\n",
       "  </thead>\n",
       "  <tbody>\n",
       "    <tr>\n",
       "      <th>0</th>\n",
       "      <td>/shop/activated-products</td>\n",
       "      <td>[std]: shop</td>\n",
       "      <td>click</td>\n",
       "      <td>accounts_and_payments</td>\n",
       "      <td>105012110</td>\n",
       "      <td>9875</td>\n",
       "      <td>0.95079</td>\n",
       "      <td>214195630</td>\n",
       "      <td>1599</td>\n",
       "      <td>0.15396</td>\n",
       "      <td>214195630</td>\n",
       "      <td>1599</td>\n",
       "      <td>0.15396</td>\n",
       "    </tr>\n",
       "    <tr>\n",
       "      <th>1</th>\n",
       "      <td>/shop/activated-products</td>\n",
       "      <td>[std]: shop</td>\n",
       "      <td>click</td>\n",
       "      <td>api</td>\n",
       "      <td>105012110</td>\n",
       "      <td>9875</td>\n",
       "      <td>0.95079</td>\n",
       "      <td>214197701</td>\n",
       "      <td>14</td>\n",
       "      <td>0.00135</td>\n",
       "      <td>214197701</td>\n",
       "      <td>14</td>\n",
       "      <td>0.00135</td>\n",
       "    </tr>\n",
       "    <tr>\n",
       "      <th>2</th>\n",
       "      <td>/shop/all-products</td>\n",
       "      <td>[std]: shop</td>\n",
       "      <td>click</td>\n",
       "      <td>api</td>\n",
       "      <td>105028375</td>\n",
       "      <td>43083</td>\n",
       "      <td>4.14814</td>\n",
       "      <td>214197701</td>\n",
       "      <td>14</td>\n",
       "      <td>0.00135</td>\n",
       "      <td>214197701</td>\n",
       "      <td>14</td>\n",
       "      <td>0.00135</td>\n",
       "    </tr>\n",
       "  </tbody>\n",
       "</table>\n",
       "</div>"
      ],
      "text/plain": [
       "                hitPagePath eventCategory eventAction                product  \\\n",
       "0  /shop/activated-products   [std]: shop       click  accounts_and_payments   \n",
       "1  /shop/activated-products   [std]: shop       click                    api   \n",
       "2        /shop/all-products   [std]: shop       click                    api   \n",
       "\n",
       "    event_id  event_user_count  event_user_percent    prod_id  \\\n",
       "0  105012110              9875             0.95079  214195630   \n",
       "1  105012110              9875             0.95079  214197701   \n",
       "2  105028375             43083             4.14814  214197701   \n",
       "\n",
       "   prod_user_count  prod_user_percent    item_id  item_user_count  \\\n",
       "0             1599            0.15396  214195630             1599   \n",
       "1               14            0.00135  214197701               14   \n",
       "2               14            0.00135  214197701               14   \n",
       "\n",
       "   item_user_percent  \n",
       "0            0.15396  \n",
       "1            0.00135  \n",
       "2            0.00135  "
      ]
     },
     "execution_count": 6,
     "metadata": {},
     "output_type": "execute_result"
    }
   ],
   "source": [
    "item_dict.filter(\"product <> '' and product <> 'none'\").show(3)"
   ]
  },
  {
   "cell_type": "code",
   "execution_count": 7,
   "metadata": {
    "collapsed": true
   },
   "outputs": [],
   "source": [
    "product_item = item_dict.filter(\"product <> '' and product <> 'none'\").select(\"item_id\", \"product\", \"item_user_count\").distinct()"
   ]
  },
  {
   "cell_type": "markdown",
   "metadata": {},
   "source": [
    "Выделим целевые события для скоринга"
   ]
  },
  {
   "cell_type": "code",
   "execution_count": 8,
   "metadata": {
    "collapsed": true
   },
   "outputs": [],
   "source": [
    "product_list = ['leasing',\n",
    "                'guarantee',\n",
    "                'rabota_ru',\n",
    "                'merchant-acquiring',\n",
    "                'zarplata',\n",
    "                'korpkarta',\n",
    "                'two_gis',\n",
    "                'evotor',\n",
    "                'e-acquiring'\n",
    "                'mybuch',\n",
    "                'sberrating',\n",
    "                'credit_card',\n",
    "                'mybuch_online_ip',\n",
    "                'lyurist',\n",
    "                'kredit']"
   ]
  },
  {
   "cell_type": "code",
   "execution_count": 9,
   "metadata": {
    "collapsed": true
   },
   "outputs": [],
   "source": [
    "target_items = product_item.filter(f.col(\"product\").isin(product_list)).toPandas()[\"item_id\"].to_list()"
   ]
  },
  {
   "cell_type": "code",
   "execution_count": 10,
   "metadata": {},
   "outputs": [
    {
     "data": {
      "text/plain": [
       "13"
      ]
     },
     "execution_count": 10,
     "metadata": {},
     "output_type": "execute_result"
    }
   ],
   "source": [
    "len(target_items)"
   ]
  },
  {
   "cell_type": "code",
   "execution_count": 12,
   "metadata": {},
   "outputs": [
    {
     "data": {
      "text/html": [
       "<div>\n",
       "<style scoped>\n",
       "    .dataframe tbody tr th:only-of-type {\n",
       "        vertical-align: middle;\n",
       "    }\n",
       "\n",
       "    .dataframe tbody tr th {\n",
       "        vertical-align: top;\n",
       "    }\n",
       "\n",
       "    .dataframe thead th {\n",
       "        text-align: right;\n",
       "    }\n",
       "</style>\n",
       "<table border=\"1\" class=\"dataframe\">\n",
       "  <thead>\n",
       "    <tr style=\"text-align: right;\">\n",
       "      <th></th>\n",
       "      <th>item_id</th>\n",
       "      <th>first(product, false)</th>\n",
       "      <th>first(item_user_count, false)</th>\n",
       "    </tr>\n",
       "  </thead>\n",
       "  <tbody>\n",
       "    <tr>\n",
       "      <th>0</th>\n",
       "      <td>214250791</td>\n",
       "      <td>mybuch_online_ip</td>\n",
       "      <td>296</td>\n",
       "    </tr>\n",
       "    <tr>\n",
       "      <th>1</th>\n",
       "      <td>214300159</td>\n",
       "      <td>rabota_ru</td>\n",
       "      <td>2849</td>\n",
       "    </tr>\n",
       "    <tr>\n",
       "      <th>2</th>\n",
       "      <td>214230946</td>\n",
       "      <td>kredit</td>\n",
       "      <td>5203</td>\n",
       "    </tr>\n",
       "    <tr>\n",
       "      <th>3</th>\n",
       "      <td>214238693</td>\n",
       "      <td>leasing</td>\n",
       "      <td>449</td>\n",
       "    </tr>\n",
       "    <tr>\n",
       "      <th>4</th>\n",
       "      <td>214314599</td>\n",
       "      <td>sberrating</td>\n",
       "      <td>2606</td>\n",
       "    </tr>\n",
       "    <tr>\n",
       "      <th>5</th>\n",
       "      <td>214337742</td>\n",
       "      <td>two_gis</td>\n",
       "      <td>308</td>\n",
       "    </tr>\n",
       "    <tr>\n",
       "      <th>6</th>\n",
       "      <td>214228698</td>\n",
       "      <td>korpkarta</td>\n",
       "      <td>1802</td>\n",
       "    </tr>\n",
       "    <tr>\n",
       "      <th>7</th>\n",
       "      <td>214240895</td>\n",
       "      <td>lyurist</td>\n",
       "      <td>2362</td>\n",
       "    </tr>\n",
       "    <tr>\n",
       "      <th>8</th>\n",
       "      <td>214204148</td>\n",
       "      <td>credit_card</td>\n",
       "      <td>2303</td>\n",
       "    </tr>\n",
       "    <tr>\n",
       "      <th>9</th>\n",
       "      <td>214224178</td>\n",
       "      <td>evotor</td>\n",
       "      <td>823</td>\n",
       "    </tr>\n",
       "    <tr>\n",
       "      <th>10</th>\n",
       "      <td>214226594</td>\n",
       "      <td>guarantee</td>\n",
       "      <td>349</td>\n",
       "    </tr>\n",
       "    <tr>\n",
       "      <th>11</th>\n",
       "      <td>214243813</td>\n",
       "      <td>merchant-acquiring</td>\n",
       "      <td>4480</td>\n",
       "    </tr>\n",
       "    <tr>\n",
       "      <th>12</th>\n",
       "      <td>214338729</td>\n",
       "      <td>zarplata</td>\n",
       "      <td>3718</td>\n",
       "    </tr>\n",
       "  </tbody>\n",
       "</table>\n",
       "</div>"
      ],
      "text/plain": [
       "      item_id first(product, false)  first(item_user_count, false)\n",
       "0   214250791      mybuch_online_ip                            296\n",
       "1   214300159             rabota_ru                           2849\n",
       "2   214230946                kredit                           5203\n",
       "3   214238693               leasing                            449\n",
       "4   214314599            sberrating                           2606\n",
       "5   214337742               two_gis                            308\n",
       "6   214228698             korpkarta                           1802\n",
       "7   214240895               lyurist                           2362\n",
       "8   214204148           credit_card                           2303\n",
       "9   214224178                evotor                            823\n",
       "10  214226594             guarantee                            349\n",
       "11  214243813    merchant-acquiring                           4480\n",
       "12  214338729              zarplata                           3718"
      ]
     },
     "execution_count": 12,
     "metadata": {},
     "output_type": "execute_result"
    }
   ],
   "source": [
    "item_dict.filter(f.col(\"item_id\").isin(target_items)) \\\n",
    "            .groupBy(\"item_id\").agg(f.first(\"product\"), f.first(\"item_user_count\")).show(13)"
   ]
  },
  {
   "cell_type": "markdown",
   "metadata": {},
   "source": [
    "###### Разделение пользователей"
   ]
  },
  {
   "cell_type": "code",
   "execution_count": 13,
   "metadata": {},
   "outputs": [
    {
     "data": {
      "text/plain": [
       "969905"
      ]
     },
     "execution_count": 13,
     "metadata": {},
     "output_type": "execute_result"
    }
   ],
   "source": [
    "users = dataset_positive.select(\"user_id\").distinct()\n",
    "users.count()"
   ]
  },
  {
   "cell_type": "markdown",
   "metadata": {},
   "source": [
    "###### Пользователи с целевыми событиями в кликстриме"
   ]
  },
  {
   "cell_type": "code",
   "execution_count": 14,
   "metadata": {},
   "outputs": [
    {
     "data": {
      "text/plain": [
       "22746"
      ]
     },
     "execution_count": 14,
     "metadata": {},
     "output_type": "execute_result"
    }
   ],
   "source": [
    "users_with_target = dataset_positive.filter(f.col(\"item_id\").isin(target_items)) \\\n",
    "                                    .select(\"user_id\").distinct()\n",
    "users_with_target.count()"
   ]
  },
  {
   "cell_type": "markdown",
   "metadata": {},
   "source": [
    "###### Пользователи без целевых событий в кликстриме"
   ]
  },
  {
   "cell_type": "code",
   "execution_count": 15,
   "metadata": {},
   "outputs": [
    {
     "data": {
      "text/plain": [
       "947159"
      ]
     },
     "execution_count": 15,
     "metadata": {},
     "output_type": "execute_result"
    }
   ],
   "source": [
    "users_without_target = users.subtract(users_with_target)\n",
    "users_without_target.count()"
   ]
  },
  {
   "cell_type": "markdown",
   "metadata": {},
   "source": [
    "Датасет для этих пользователей => в обучающую выборку"
   ]
  },
  {
   "cell_type": "code",
   "execution_count": 16,
   "metadata": {},
   "outputs": [
    {
     "data": {
      "text/plain": [
       "8315433"
      ]
     },
     "execution_count": 16,
     "metadata": {},
     "output_type": "execute_result"
    }
   ],
   "source": [
    "dataset_train_without_target = dataset_positive.join(users_without_target, on=\"user_id\", how=\"inner\")\n",
    "dataset_train_without_target.count()"
   ]
  },
  {
   "cell_type": "markdown",
   "metadata": {},
   "source": [
    "###### Разделение пользователей с целевыми событиями"
   ]
  },
  {
   "cell_type": "code",
   "execution_count": 17,
   "metadata": {},
   "outputs": [
    {
     "name": "stdout",
     "output_type": "stream",
     "text": [
      "Train: 18101\n",
      "Val/test: 4645\n"
     ]
    }
   ],
   "source": [
    "users_train, users_val_test = users_with_target.randomSplit([0.8, 0.2])\n",
    "print(\"Train: {}\".format(users_train.count()))\n",
    "print(\"Val/test: {}\".format(users_val_test.count()))"
   ]
  },
  {
   "cell_type": "markdown",
   "metadata": {},
   "source": [
    "###### Обучающая выборка"
   ]
  },
  {
   "cell_type": "code",
   "execution_count": 18,
   "metadata": {},
   "outputs": [
    {
     "data": {
      "text/plain": [
       "396624"
      ]
     },
     "execution_count": 18,
     "metadata": {},
     "output_type": "execute_result"
    }
   ],
   "source": [
    "dataset_train_with_target = dataset_positive.join(users_train, on=\"user_id\", how=\"inner\")\n",
    "dataset_train_with_target.count()"
   ]
  },
  {
   "cell_type": "markdown",
   "metadata": {},
   "source": [
    "Объединяем пользователей с нецелевыми событиями с обучающей частью с целевыми"
   ]
  },
  {
   "cell_type": "code",
   "execution_count": 19,
   "metadata": {},
   "outputs": [
    {
     "data": {
      "text/plain": [
       "8712057"
      ]
     },
     "execution_count": 19,
     "metadata": {},
     "output_type": "execute_result"
    }
   ],
   "source": [
    "dataset_train = dataset_train_with_target.union(dataset_train_without_target)\n",
    "dataset_train.count()"
   ]
  },
  {
   "cell_type": "markdown",
   "metadata": {},
   "source": [
    "###### Отсечение по времени первого целевого действия"
   ]
  },
  {
   "cell_type": "markdown",
   "metadata": {},
   "source": [
    "Установка времени первого целевого события"
   ]
  },
  {
   "cell_type": "code",
   "execution_count": 20,
   "metadata": {},
   "outputs": [
    {
     "data": {
      "text/html": [
       "<div>\n",
       "<style scoped>\n",
       "    .dataframe tbody tr th:only-of-type {\n",
       "        vertical-align: middle;\n",
       "    }\n",
       "\n",
       "    .dataframe tbody tr th {\n",
       "        vertical-align: top;\n",
       "    }\n",
       "\n",
       "    .dataframe thead th {\n",
       "        text-align: right;\n",
       "    }\n",
       "</style>\n",
       "<table border=\"1\" class=\"dataframe\">\n",
       "  <thead>\n",
       "    <tr style=\"text-align: right;\">\n",
       "      <th></th>\n",
       "      <th>user_id</th>\n",
       "      <th>min_target_timestamp</th>\n",
       "    </tr>\n",
       "  </thead>\n",
       "  <tbody>\n",
       "    <tr>\n",
       "      <th>0</th>\n",
       "      <td>140021</td>\n",
       "      <td>1622718967</td>\n",
       "    </tr>\n",
       "    <tr>\n",
       "      <th>1</th>\n",
       "      <td>333479</td>\n",
       "      <td>1623340026</td>\n",
       "    </tr>\n",
       "    <tr>\n",
       "      <th>2</th>\n",
       "      <td>397863</td>\n",
       "      <td>1623113885</td>\n",
       "    </tr>\n",
       "  </tbody>\n",
       "</table>\n",
       "</div>"
      ],
      "text/plain": [
       "   user_id  min_target_timestamp\n",
       "0   140021            1622718967\n",
       "1   333479            1623340026\n",
       "2   397863            1623113885"
      ]
     },
     "execution_count": 20,
     "metadata": {},
     "output_type": "execute_result"
    }
   ],
   "source": [
    "users_val_test_min_target_time = dataset_positive.filter(f.col(\"item_id\").isin(target_items)) \\\n",
    "                                                .join(users_val_test, on=\"user_id\", how=\"inner\") \\\n",
    "                                                .groupBy(\"user_id\").agg(f.min(\"timestamp\").alias(\"min_target_timestamp\"))\n",
    "users_val_test_min_target_time.show(3)"
   ]
  },
  {
   "cell_type": "markdown",
   "metadata": {},
   "source": [
    "###### Отсечение"
   ]
  },
  {
   "cell_type": "markdown",
   "metadata": {},
   "source": [
    "Обнуляем все события, которые произошли после первого целевого (включая)"
   ]
  },
  {
   "cell_type": "code",
   "execution_count": 21,
   "metadata": {
    "collapsed": true
   },
   "outputs": [],
   "source": [
    "dataset_val_test = dataset_positive.join(users_val_test_min_target_time, on=\"user_id\", how=\"inner\") \\\n",
    "                                    .withColumn(\"new_rating\", f.when(f.col(\"timestamp\") >= f.col(\"min_target_timestamp\"), 0) \\\n",
    "                                                               .otherwise(f.col(\"rating\"))) \\\n",
    "                                    .drop(\"rating\", \"min_target_timestamp\") \\\n",
    "                                    .withColumnRenamed(\"new_rating\", \"rating\")\n",
    "\n",
    "dataset_val_test_corr = dataset_val_test.filter(\"rating = 1\")"
   ]
  },
  {
   "cell_type": "markdown",
   "metadata": {},
   "source": [
    "Среднее количество эвентов на пользователя до и после отсечения"
   ]
  },
  {
   "cell_type": "code",
   "execution_count": 22,
   "metadata": {},
   "outputs": [
    {
     "name": "stdout",
     "output_type": "stream",
     "text": [
      "Avg events: 21.629063509149624\n",
      "Avg new events: 11.565084586466165\n"
     ]
    }
   ],
   "source": [
    "print(\"Avg events: {}\".format(dataset_val_test.groupBy(\"user_id\").count() \\\n",
    "                                              .select(f.avg(\"count\").alias(\"avg\")) \\\n",
    "                                              .toPandas().avg.values[0]))\n",
    "\n",
    "print(\"Avg new events: {}\".format(dataset_val_test_corr.groupBy(\"user_id\").count() \\\n",
    "                                                      .select(f.avg(\"count\").alias(\"avg\")) \\\n",
    "                                                      .toPandas().avg.values[0]))"
   ]
  },
  {
   "cell_type": "code",
   "execution_count": 23,
   "metadata": {},
   "outputs": [
    {
     "name": "stdout",
     "output_type": "stream",
     "text": [
      "Event count: 100467\n",
      "New event count: 49221\n"
     ]
    }
   ],
   "source": [
    "print(\"Event count: {}\".format(dataset_val_test.count()))\n",
    "print(\"New event count: {}\".format(dataset_val_test_corr.count()))"
   ]
  },
  {
   "cell_type": "markdown",
   "metadata": {},
   "source": [
    "###### Добавление скорректированной выборки в датасет"
   ]
  },
  {
   "cell_type": "code",
   "execution_count": 24,
   "metadata": {},
   "outputs": [
    {
     "data": {
      "text/plain": [
       "8761278"
      ]
     },
     "execution_count": 24,
     "metadata": {},
     "output_type": "execute_result"
    }
   ],
   "source": [
    "dataset_val_test = dataset_val_test_corr.join(users_val_test, on=\"user_id\", how=\"inner\")\n",
    "\n",
    "dataset_full = dataset_train.union(dataset_val_test)\n",
    "dataset_full.count()"
   ]
  },
  {
   "cell_type": "markdown",
   "metadata": {},
   "source": [
    "Пользователи, у которых первое событие в кликстриме целевое - не попадают в финальную выборку"
   ]
  },
  {
   "cell_type": "code",
   "execution_count": 25,
   "metadata": {},
   "outputs": [
    {
     "data": {
      "text/plain": [
       "389"
      ]
     },
     "execution_count": 25,
     "metadata": {},
     "output_type": "execute_result"
    }
   ],
   "source": [
    "delta_users = dataset_positive.select(\"user_id\").distinct() \\\n",
    "                                .subtract(dataset_full.select(\"user_id\").distinct())\n",
    "delta_users.count()"
   ]
  },
  {
   "cell_type": "markdown",
   "metadata": {},
   "source": [
    "Удаляем этих пользователей из списков на валидацию и тест"
   ]
  },
  {
   "cell_type": "code",
   "execution_count": 26,
   "metadata": {
    "collapsed": true
   },
   "outputs": [],
   "source": [
    "users_val_test_corr = users_val_test.subtract(delta_users)"
   ]
  },
  {
   "cell_type": "markdown",
   "metadata": {},
   "source": [
    "###### Разделение на валидацию и тест"
   ]
  },
  {
   "cell_type": "code",
   "execution_count": 27,
   "metadata": {
    "collapsed": true
   },
   "outputs": [],
   "source": [
    "users_val, users_test = users_val_test_corr.randomSplit([0.5, 0.5])"
   ]
  },
  {
   "cell_type": "markdown",
   "metadata": {
    "collapsed": true
   },
   "source": [
    "###### Формирование меток для предсказания из целевых эвентов"
   ]
  },
  {
   "cell_type": "code",
   "execution_count": 28,
   "metadata": {
    "collapsed": true
   },
   "outputs": [],
   "source": [
    "target_val = dataset.filter(f.col(\"item_id\").isin(target_items)) \\\n",
    "                    .join(users_val, on=\"user_id\", how=\"inner\")\n",
    "\n",
    "target_test = dataset.filter(f.col(\"item_id\").isin(target_items)) \\\n",
    "                     .join(users_test, on=\"user_id\", how=\"inner\")"
   ]
  },
  {
   "cell_type": "markdown",
   "metadata": {},
   "source": [
    "###### Сохранение данных"
   ]
  },
  {
   "cell_type": "code",
   "execution_count": 29,
   "metadata": {
    "collapsed": true
   },
   "outputs": [],
   "source": [
    "drop_table(SBX_TEAM_DIGITCAMP, RECSYS_STORY_DATASET_TRAIN_POS, hive)\n",
    "create_table_from_df(SBX_TEAM_DIGITCAMP, RECSYS_STORY_DATASET_TRAIN_POS, dataset_full, hive)"
   ]
  },
  {
   "cell_type": "code",
   "execution_count": 30,
   "metadata": {
    "collapsed": true
   },
   "outputs": [],
   "source": [
    "drop_table(SBX_TEAM_DIGITCAMP, RECSYS_STORY_DATASET_VAL, hive)\n",
    "create_table_from_df(SBX_TEAM_DIGITCAMP, RECSYS_STORY_DATASET_VAL, target_val, hive)"
   ]
  },
  {
   "cell_type": "code",
   "execution_count": 31,
   "metadata": {
    "collapsed": true
   },
   "outputs": [],
   "source": [
    "drop_table(SBX_TEAM_DIGITCAMP, RECSYS_STORY_TEST, hive)\n",
    "create_table_from_df(SBX_TEAM_DIGITCAMP, RECSYS_STORY_TEST, target_test, hive)"
   ]
  },
  {
   "cell_type": "markdown",
   "metadata": {},
   "source": [
    "###### проверка сохранения таблиц "
   ]
  },
  {
   "cell_type": "code",
   "execution_count": 32,
   "metadata": {},
   "outputs": [
    {
     "data": {
      "text/html": [
       "<div>\n",
       "<style scoped>\n",
       "    .dataframe tbody tr th:only-of-type {\n",
       "        vertical-align: middle;\n",
       "    }\n",
       "\n",
       "    .dataframe tbody tr th {\n",
       "        vertical-align: top;\n",
       "    }\n",
       "\n",
       "    .dataframe thead th {\n",
       "        text-align: right;\n",
       "    }\n",
       "</style>\n",
       "<table border=\"1\" class=\"dataframe\">\n",
       "  <thead>\n",
       "    <tr style=\"text-align: right;\">\n",
       "      <th></th>\n",
       "      <th>user_id</th>\n",
       "      <th>item_id</th>\n",
       "      <th>timestamp</th>\n",
       "      <th>rating</th>\n",
       "    </tr>\n",
       "  </thead>\n",
       "  <tbody>\n",
       "    <tr>\n",
       "      <th>0</th>\n",
       "      <td>24347</td>\n",
       "      <td>50218704</td>\n",
       "      <td>1623244974</td>\n",
       "      <td>1.0</td>\n",
       "    </tr>\n",
       "    <tr>\n",
       "      <th>1</th>\n",
       "      <td>24347</td>\n",
       "      <td>50479022</td>\n",
       "      <td>1622688044</td>\n",
       "      <td>1.0</td>\n",
       "    </tr>\n",
       "    <tr>\n",
       "      <th>2</th>\n",
       "      <td>24347</td>\n",
       "      <td>50165164</td>\n",
       "      <td>1622465176</td>\n",
       "      <td>1.0</td>\n",
       "    </tr>\n",
       "    <tr>\n",
       "      <th>3</th>\n",
       "      <td>24347</td>\n",
       "      <td>95542157</td>\n",
       "      <td>1622515893</td>\n",
       "      <td>1.0</td>\n",
       "    </tr>\n",
       "    <tr>\n",
       "      <th>4</th>\n",
       "      <td>24347</td>\n",
       "      <td>81355473</td>\n",
       "      <td>1622698694</td>\n",
       "      <td>1.0</td>\n",
       "    </tr>\n",
       "    <tr>\n",
       "      <th>5</th>\n",
       "      <td>24347</td>\n",
       "      <td>105401066</td>\n",
       "      <td>1622859303</td>\n",
       "      <td>1.0</td>\n",
       "    </tr>\n",
       "    <tr>\n",
       "      <th>6</th>\n",
       "      <td>24347</td>\n",
       "      <td>84853379</td>\n",
       "      <td>1622516041</td>\n",
       "      <td>1.0</td>\n",
       "    </tr>\n",
       "    <tr>\n",
       "      <th>7</th>\n",
       "      <td>24347</td>\n",
       "      <td>58109115</td>\n",
       "      <td>1622697828</td>\n",
       "      <td>1.0</td>\n",
       "    </tr>\n",
       "    <tr>\n",
       "      <th>8</th>\n",
       "      <td>24347</td>\n",
       "      <td>105921618</td>\n",
       "      <td>1622620654</td>\n",
       "      <td>1.0</td>\n",
       "    </tr>\n",
       "    <tr>\n",
       "      <th>9</th>\n",
       "      <td>24347</td>\n",
       "      <td>63758127</td>\n",
       "      <td>1622688035</td>\n",
       "      <td>1.0</td>\n",
       "    </tr>\n",
       "  </tbody>\n",
       "</table>\n",
       "</div>"
      ],
      "text/plain": [
       "   user_id    item_id   timestamp  rating\n",
       "0    24347   50218704  1623244974     1.0\n",
       "1    24347   50479022  1622688044     1.0\n",
       "2    24347   50165164  1622465176     1.0\n",
       "3    24347   95542157  1622515893     1.0\n",
       "4    24347   81355473  1622698694     1.0\n",
       "5    24347  105401066  1622859303     1.0\n",
       "6    24347   84853379  1622516041     1.0\n",
       "7    24347   58109115  1622697828     1.0\n",
       "8    24347  105921618  1622620654     1.0\n",
       "9    24347   63758127  1622688035     1.0"
      ]
     },
     "execution_count": 32,
     "metadata": {},
     "output_type": "execute_result"
    }
   ],
   "source": [
    "train_sdf = load_table(SBX_TEAM_DIGITCAMP, RECSYS_STORY_DATASET_TRAIN_POS, hive)\n",
    "train_sdf.show()"
   ]
  },
  {
   "cell_type": "code",
   "execution_count": 33,
   "metadata": {},
   "outputs": [
    {
     "data": {
      "text/plain": [
       "2439"
      ]
     },
     "execution_count": 33,
     "metadata": {},
     "output_type": "execute_result"
    }
   ],
   "source": [
    "load_table(SBX_TEAM_DIGITCAMP, RECSYS_STORY_DATASET_VAL, hive).filter(\"rating = 1\").count()"
   ]
  },
  {
   "cell_type": "code",
   "execution_count": 34,
   "metadata": {},
   "outputs": [
    {
     "data": {
      "text/plain": [
       "2482"
      ]
     },
     "execution_count": 34,
     "metadata": {},
     "output_type": "execute_result"
    }
   ],
   "source": [
    "load_table(SBX_TEAM_DIGITCAMP, RECSYS_STORY_TEST, hive).filter(\"rating = 1\").count()"
   ]
  },
  {
   "cell_type": "code",
   "execution_count": null,
   "metadata": {
    "collapsed": true
   },
   "outputs": [],
   "source": []
  }
 ],
 "metadata": {
  "kernelspec": {
   "display_name": "Python 3",
   "language": "python",
   "name": "python3"
  },
  "language_info": {
   "codemirror_mode": {
    "name": "ipython",
    "version": 3
   },
   "file_extension": ".py",
   "mimetype": "text/x-python",
   "name": "python",
   "nbconvert_exporter": "python",
   "pygments_lexer": "ipython3",
   "version": "3.5.3"
  }
 },
 "nbformat": 4,
 "nbformat_minor": 2
}
