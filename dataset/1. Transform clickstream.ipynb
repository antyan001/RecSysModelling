{
 "cells": [
  {
   "cell_type": "code",
   "execution_count": 1,
   "metadata": {
    "collapsed": true
   },
   "outputs": [],
   "source": [
    "import os, sys\n",
    "\n",
    "recsys_cf = os.environ.get(\"RECSYS_STORY\")\n",
    "sys.path.append(recsys_cf)\n",
    "os.chdir(recsys_cf)\n",
    "\n",
    "from lib.tools import *"
   ]
  },
  {
   "cell_type": "code",
   "execution_count": 2,
   "metadata": {
    "collapsed": true
   },
   "outputs": [],
   "source": [
    "from urllib.parse import urlparse"
   ]
  },
  {
   "cell_type": "markdown",
   "metadata": {},
   "source": [
    "# Spark "
   ]
  },
  {
   "cell_type": "code",
   "execution_count": 3,
   "metadata": {},
   "outputs": [
    {
     "data": {
      "text/plain": [
       "{'kerberos_auth': True,\n",
       " 'numofcores': 12,\n",
       " 'numofinstances': 12,\n",
       " 'process_label': 'RECSYS_STORY',\n",
       " 'replication_num': 1}"
      ]
     },
     "execution_count": 3,
     "metadata": {},
     "output_type": "execute_result"
    }
   ],
   "source": [
    "SPARK_CONFIG"
   ]
  },
  {
   "cell_type": "code",
   "execution_count": 4,
   "metadata": {
    "collapsed": true
   },
   "outputs": [],
   "source": [
    "sp = spark(**{'kerberos_auth': True,\n",
    " 'numofcores': 7,\n",
    " 'numofinstances': 7,\n",
    " 'process_label': 'RECSYS_STORY',\n",
    " 'replication_num': 1})\n",
    "hive = sp.sql"
   ]
  },
  {
   "cell_type": "markdown",
   "metadata": {},
   "source": [
    "###### Load visit part\n",
    "Сейчас в тестовом датасете содержатся данные за одну неделю, в дальнейшем - посмотрим, на "
   ]
  },
  {
   "cell_type": "code",
   "execution_count": 6,
   "metadata": {},
   "outputs": [
    {
     "name": "stdout",
     "output_type": "stream",
     "text": [
      "CPU times: user 1.48 ms, sys: 3.3 ms, total: 4.78 ms\n",
      "Wall time: 3.23 s\n"
     ]
    }
   ],
   "source": [
    "%%time\n",
    "visit = load_table(SBX_TEAM_DIGITCAMP, VISIT, hive).cache()"
   ]
  },
  {
   "cell_type": "code",
   "execution_count": 7,
   "metadata": {},
   "outputs": [
    {
     "data": {
      "text/html": [
       "<div>\n",
       "<style scoped>\n",
       "    .dataframe tbody tr th:only-of-type {\n",
       "        vertical-align: middle;\n",
       "    }\n",
       "\n",
       "    .dataframe tbody tr th {\n",
       "        vertical-align: top;\n",
       "    }\n",
       "\n",
       "    .dataframe thead th {\n",
       "        text-align: right;\n",
       "    }\n",
       "</style>\n",
       "<table border=\"1\" class=\"dataframe\">\n",
       "  <thead>\n",
       "    <tr style=\"text-align: right;\">\n",
       "      <th></th>\n",
       "      <th>visitNumber</th>\n",
       "      <th>cid</th>\n",
       "      <th>commonSegmentoUID</th>\n",
       "      <th>sbbolUserId</th>\n",
       "      <th>hitPagePath</th>\n",
       "      <th>hitPageTitle</th>\n",
       "      <th>sessionStartTime</th>\n",
       "      <th>sessionDate</th>\n",
       "      <th>hitType</th>\n",
       "      <th>hitNumber</th>\n",
       "      <th>hitTime</th>\n",
       "      <th>eventCategory</th>\n",
       "      <th>eventAction</th>\n",
       "      <th>eventLabel</th>\n",
       "      <th>hitPageHostName</th>\n",
       "      <th>ctl_loading</th>\n",
       "      <th>sessionId</th>\n",
       "      <th>deviceIsMobile</th>\n",
       "      <th>deviceMobileDeviceModel</th>\n",
       "      <th>deviceDeviceCategory</th>\n",
       "      <th>geoRegion</th>\n",
       "      <th>geoCity</th>\n",
       "    </tr>\n",
       "  </thead>\n",
       "  <tbody>\n",
       "    <tr>\n",
       "      <th>0</th>\n",
       "      <td>1</td>\n",
       "      <td>2044466704.1626025890</td>\n",
       "      <td>None</td>\n",
       "      <td>None</td>\n",
       "      <td>/ru/person</td>\n",
       "      <td>Частным клиентам — СберБанк</td>\n",
       "      <td>1626025890</td>\n",
       "      <td>2021-07-11</td>\n",
       "      <td>EVENT</td>\n",
       "      <td>3</td>\n",
       "      <td>487</td>\n",
       "      <td>SITE_Widget_TabSegmentContainerFlex</td>\n",
       "      <td>segment_set</td>\n",
       "      <td>-2</td>\n",
       "      <td>www.sberbank.ru</td>\n",
       "      <td>10049073</td>\n",
       "      <td>1626025890</td>\n",
       "      <td>False</td>\n",
       "      <td>None</td>\n",
       "      <td>desktop</td>\n",
       "      <td>(not set)</td>\n",
       "      <td>(not set)</td>\n",
       "    </tr>\n",
       "    <tr>\n",
       "      <th>1</th>\n",
       "      <td>4</td>\n",
       "      <td>655506626.1623512191</td>\n",
       "      <td>W5c8iv1cUkMK</td>\n",
       "      <td>None</td>\n",
       "      <td>/ipoteka/programs/existing-apartments?from=landing</td>\n",
       "      <td>Ипотека на готовое жилье в Ростове-на-Дону от 0,1% от СберБанка онлайн в 2021 году, взять ипотечный кредит на готовую квартиру в банке: условия, ставки, срок до 30 лет - ДомКлик</td>\n",
       "      <td>1626011900</td>\n",
       "      <td>2021-07-11</td>\n",
       "      <td>PAGE</td>\n",
       "      <td>1</td>\n",
       "      <td>0</td>\n",
       "      <td>None</td>\n",
       "      <td>None</td>\n",
       "      <td>None</td>\n",
       "      <td>rostov-na-donu.domclick.ru</td>\n",
       "      <td>10049073</td>\n",
       "      <td>1626011900</td>\n",
       "      <td>False</td>\n",
       "      <td>None</td>\n",
       "      <td>desktop</td>\n",
       "      <td>Rostov Oblast</td>\n",
       "      <td>Taganrog</td>\n",
       "    </tr>\n",
       "    <tr>\n",
       "      <th>2</th>\n",
       "      <td>1</td>\n",
       "      <td>1708587183.1626019981</td>\n",
       "      <td>None</td>\n",
       "      <td>None</td>\n",
       "      <td>/ru/person/bank_cards/debit/sberkarta_msc</td>\n",
       "      <td>СберКарта — СберБанк</td>\n",
       "      <td>1626019981</td>\n",
       "      <td>2021-07-11</td>\n",
       "      <td>EVENT</td>\n",
       "      <td>7</td>\n",
       "      <td>23091</td>\n",
       "      <td>SITE_Widget_DebitCardOrder</td>\n",
       "      <td>reachSessionStorage</td>\n",
       "      <td>.....</td>\n",
       "      <td>www.sberbank.ru</td>\n",
       "      <td>10049073</td>\n",
       "      <td>1626019981</td>\n",
       "      <td>False</td>\n",
       "      <td>None</td>\n",
       "      <td>desktop</td>\n",
       "      <td>Republic of Tatarstan</td>\n",
       "      <td>Kazan</td>\n",
       "    </tr>\n",
       "    <tr>\n",
       "      <th>3</th>\n",
       "      <td>1</td>\n",
       "      <td>895598413.1625992080</td>\n",
       "      <td>None</td>\n",
       "      <td>None</td>\n",
       "      <td>/ru/person/bank_cards/debit/sberkarta_social</td>\n",
       "      <td>СберКарта Мир для пособий и пенсии — СберБанк</td>\n",
       "      <td>1625992079</td>\n",
       "      <td>2021-07-11</td>\n",
       "      <td>EVENT</td>\n",
       "      <td>87</td>\n",
       "      <td>1551857</td>\n",
       "      <td>SITE_Person_bank_cards.debit.sberkarta_social</td>\n",
       "      <td>click_any</td>\n",
       "      <td>Театральная улица, 23_ymaps-2-1-78-islets_serp-item__title</td>\n",
       "      <td>www.sberbank.ru</td>\n",
       "      <td>10049073</td>\n",
       "      <td>1625992079</td>\n",
       "      <td>False</td>\n",
       "      <td>None</td>\n",
       "      <td>desktop</td>\n",
       "      <td>Donetsk Oblast</td>\n",
       "      <td>Horlivka</td>\n",
       "    </tr>\n",
       "    <tr>\n",
       "      <th>4</th>\n",
       "      <td>1</td>\n",
       "      <td>543458166.1625952886</td>\n",
       "      <td>None</td>\n",
       "      <td>None</td>\n",
       "      <td>/mortgage/calc?isolated=true</td>\n",
       "      <td>Домклик - Ипотека от СберБанка Онлайн</td>\n",
       "      <td>1625952888</td>\n",
       "      <td>2021-07-11</td>\n",
       "      <td>EVENT</td>\n",
       "      <td>13</td>\n",
       "      <td>54288</td>\n",
       "      <td>DOMCLICK_.mortgage.calc</td>\n",
       "      <td>calculated</td>\n",
       "      <td>MortgageLoan</td>\n",
       "      <td>ipoteka.domclick.ru</td>\n",
       "      <td>10049073</td>\n",
       "      <td>1625952888</td>\n",
       "      <td>False</td>\n",
       "      <td>None</td>\n",
       "      <td>desktop</td>\n",
       "      <td>Moscow Oblast</td>\n",
       "      <td>Dubna</td>\n",
       "    </tr>\n",
       "    <tr>\n",
       "      <th>5</th>\n",
       "      <td>1</td>\n",
       "      <td>1976186634.1625972356</td>\n",
       "      <td>None</td>\n",
       "      <td>None</td>\n",
       "      <td>/mortgage/calc?prod=3&amp;cost=5700000&amp;dep=1425000&amp;term=20&amp;dk=true&amp;ins=true&amp;married=false&amp;onlineReg=true&amp;developerDiscount=false&amp;isolated=true&amp;hideSaveButton=true</td>\n",
       "      <td>Домклик - Ипотека от СберБанка Онлайн</td>\n",
       "      <td>1625972358</td>\n",
       "      <td>2021-07-11</td>\n",
       "      <td>EVENT</td>\n",
       "      <td>13</td>\n",
       "      <td>79519</td>\n",
       "      <td>DOMCLICK_.mortgage.calc</td>\n",
       "      <td>calculated</td>\n",
       "      <td>MortgageLoan</td>\n",
       "      <td>ipoteka.domclick.ru</td>\n",
       "      <td>10049073</td>\n",
       "      <td>1625972358</td>\n",
       "      <td>False</td>\n",
       "      <td>None</td>\n",
       "      <td>desktop</td>\n",
       "      <td>Primorsky Krai</td>\n",
       "      <td>Vladivostok</td>\n",
       "    </tr>\n",
       "    <tr>\n",
       "      <th>6</th>\n",
       "      <td>1</td>\n",
       "      <td>889258704.1625980408</td>\n",
       "      <td>None</td>\n",
       "      <td>None</td>\n",
       "      <td>/mortgage/application-mobile.html?appsflyer_id=1599896473972-1558876621896212695</td>\n",
       "      <td>Домклик - Ипотека от СберБанка Онлайн</td>\n",
       "      <td>1625980408</td>\n",
       "      <td>2021-07-11</td>\n",
       "      <td>EVENT</td>\n",
       "      <td>24</td>\n",
       "      <td>732698</td>\n",
       "      <td>DOMCLICK_.mortgage.calc.</td>\n",
       "      <td>calculated</td>\n",
       "      <td>MortgageLoan</td>\n",
       "      <td>ipoteka.domclick.ru</td>\n",
       "      <td>10049073</td>\n",
       "      <td>1625980408</td>\n",
       "      <td>False</td>\n",
       "      <td>None</td>\n",
       "      <td>desktop</td>\n",
       "      <td>Chelyabinsk Oblast</td>\n",
       "      <td>Chelyabinsk</td>\n",
       "    </tr>\n",
       "    <tr>\n",
       "      <th>7</th>\n",
       "      <td>1</td>\n",
       "      <td>1221548771.1626030019</td>\n",
       "      <td>None</td>\n",
       "      <td>None</td>\n",
       "      <td>/mortgage/application-mobile.html?appsflyer_id=1621171629903-3116869100971508247</td>\n",
       "      <td>Домклик - Ипотека от СберБанка Онлайн</td>\n",
       "      <td>1626030019</td>\n",
       "      <td>2021-07-11</td>\n",
       "      <td>EVENT</td>\n",
       "      <td>22</td>\n",
       "      <td>94309</td>\n",
       "      <td>DOMCLICK_.mortgage.calc.</td>\n",
       "      <td>calculated</td>\n",
       "      <td>MortgageLoan</td>\n",
       "      <td>ipoteka.domclick.ru</td>\n",
       "      <td>10049073</td>\n",
       "      <td>1626030019</td>\n",
       "      <td>False</td>\n",
       "      <td>None</td>\n",
       "      <td>desktop</td>\n",
       "      <td>Moscow</td>\n",
       "      <td>Moscow</td>\n",
       "    </tr>\n",
       "    <tr>\n",
       "      <th>8</th>\n",
       "      <td>442</td>\n",
       "      <td>1591118459.1558497639</td>\n",
       "      <td>None</td>\n",
       "      <td>3c25f095-d1fe-fc84-e054-90e2ba85d0c8</td>\n",
       "      <td>/main</td>\n",
       "      <td>СберБизнес</td>\n",
       "      <td>1625960650</td>\n",
       "      <td>2021-07-11</td>\n",
       "      <td>EVENT</td>\n",
       "      <td>27</td>\n",
       "      <td>82715</td>\n",
       "      <td>[operations]: offers</td>\n",
       "      <td>impression-story</td>\n",
       "      <td>[placement: main[main_feed]][container: 8bb362eb-9c78-4307-b4ed-5df94bab41fc][bc: interaction][product: none]</td>\n",
       "      <td>sbi.sberbank.ru</td>\n",
       "      <td>10049073</td>\n",
       "      <td>1625960650</td>\n",
       "      <td>False</td>\n",
       "      <td>None</td>\n",
       "      <td>desktop</td>\n",
       "      <td>Sverdlovsk Oblast</td>\n",
       "      <td>Yekaterinburg</td>\n",
       "    </tr>\n",
       "    <tr>\n",
       "      <th>9</th>\n",
       "      <td>3</td>\n",
       "      <td>985565301.1625490595</td>\n",
       "      <td>None</td>\n",
       "      <td>None</td>\n",
       "      <td>/profile</td>\n",
       "      <td>СберБанк Онлайн</td>\n",
       "      <td>1626002150</td>\n",
       "      <td>2021-07-11</td>\n",
       "      <td>EVENT</td>\n",
       "      <td>26</td>\n",
       "      <td>169220</td>\n",
       "      <td>SBOL_WEB_profile</td>\n",
       "      <td>Страница профиля</td>\n",
       "      <td>Открытие</td>\n",
       "      <td>web5.online.sberbank.ru</td>\n",
       "      <td>10049073</td>\n",
       "      <td>1626002150</td>\n",
       "      <td>False</td>\n",
       "      <td>None</td>\n",
       "      <td>desktop</td>\n",
       "      <td>Valencian Community</td>\n",
       "      <td>(not set)</td>\n",
       "    </tr>\n",
       "  </tbody>\n",
       "</table>\n",
       "</div>"
      ],
      "text/plain": [
       "   visitNumber                    cid commonSegmentoUID  \\\n",
       "0            1  2044466704.1626025890              None   \n",
       "1            4   655506626.1623512191      W5c8iv1cUkMK   \n",
       "2            1  1708587183.1626019981              None   \n",
       "3            1   895598413.1625992080              None   \n",
       "4            1   543458166.1625952886              None   \n",
       "5            1  1976186634.1625972356              None   \n",
       "6            1   889258704.1625980408              None   \n",
       "7            1  1221548771.1626030019              None   \n",
       "8          442  1591118459.1558497639              None   \n",
       "9            3   985565301.1625490595              None   \n",
       "\n",
       "                            sbbolUserId  \\\n",
       "0                                  None   \n",
       "1                                  None   \n",
       "2                                  None   \n",
       "3                                  None   \n",
       "4                                  None   \n",
       "5                                  None   \n",
       "6                                  None   \n",
       "7                                  None   \n",
       "8  3c25f095-d1fe-fc84-e054-90e2ba85d0c8   \n",
       "9                                  None   \n",
       "\n",
       "                                                                                                                                                      hitPagePath  \\\n",
       "0                                                                                                                                                      /ru/person   \n",
       "1                                                                                                              /ipoteka/programs/existing-apartments?from=landing   \n",
       "2                                                                                                                       /ru/person/bank_cards/debit/sberkarta_msc   \n",
       "3                                                                                                                    /ru/person/bank_cards/debit/sberkarta_social   \n",
       "4                                                                                                                                    /mortgage/calc?isolated=true   \n",
       "5  /mortgage/calc?prod=3&cost=5700000&dep=1425000&term=20&dk=true&ins=true&married=false&onlineReg=true&developerDiscount=false&isolated=true&hideSaveButton=true   \n",
       "6                                                                                /mortgage/application-mobile.html?appsflyer_id=1599896473972-1558876621896212695   \n",
       "7                                                                                /mortgage/application-mobile.html?appsflyer_id=1621171629903-3116869100971508247   \n",
       "8                                                                                                                                                           /main   \n",
       "9                                                                                                                                                        /profile   \n",
       "\n",
       "                                                                                                                                                                        hitPageTitle  \\\n",
       "0                                                                                                                                                        Частным клиентам — СберБанк   \n",
       "1  Ипотека на готовое жилье в Ростове-на-Дону от 0,1% от СберБанка онлайн в 2021 году, взять ипотечный кредит на готовую квартиру в банке: условия, ставки, срок до 30 лет - ДомКлик   \n",
       "2                                                                                                                                                               СберКарта — СберБанк   \n",
       "3                                                                                                                                      СберКарта Мир для пособий и пенсии — СберБанк   \n",
       "4                                                                                                                                              Домклик - Ипотека от СберБанка Онлайн   \n",
       "5                                                                                                                                              Домклик - Ипотека от СберБанка Онлайн   \n",
       "6                                                                                                                                              Домклик - Ипотека от СберБанка Онлайн   \n",
       "7                                                                                                                                              Домклик - Ипотека от СберБанка Онлайн   \n",
       "8                                                                                                                                                                         СберБизнес   \n",
       "9                                                                                                                                                                    СберБанк Онлайн   \n",
       "\n",
       "   sessionStartTime sessionDate hitType  hitNumber  hitTime  \\\n",
       "0        1626025890  2021-07-11   EVENT          3      487   \n",
       "1        1626011900  2021-07-11    PAGE          1        0   \n",
       "2        1626019981  2021-07-11   EVENT          7    23091   \n",
       "3        1625992079  2021-07-11   EVENT         87  1551857   \n",
       "4        1625952888  2021-07-11   EVENT         13    54288   \n",
       "5        1625972358  2021-07-11   EVENT         13    79519   \n",
       "6        1625980408  2021-07-11   EVENT         24   732698   \n",
       "7        1626030019  2021-07-11   EVENT         22    94309   \n",
       "8        1625960650  2021-07-11   EVENT         27    82715   \n",
       "9        1626002150  2021-07-11   EVENT         26   169220   \n",
       "\n",
       "                                   eventCategory          eventAction  \\\n",
       "0            SITE_Widget_TabSegmentContainerFlex          segment_set   \n",
       "1                                           None                 None   \n",
       "2                     SITE_Widget_DebitCardOrder  reachSessionStorage   \n",
       "3  SITE_Person_bank_cards.debit.sberkarta_social            click_any   \n",
       "4                        DOMCLICK_.mortgage.calc           calculated   \n",
       "5                        DOMCLICK_.mortgage.calc           calculated   \n",
       "6                       DOMCLICK_.mortgage.calc.           calculated   \n",
       "7                       DOMCLICK_.mortgage.calc.           calculated   \n",
       "8                           [operations]: offers     impression-story   \n",
       "9                               SBOL_WEB_profile     Страница профиля   \n",
       "\n",
       "                                                                                                      eventLabel  \\\n",
       "0                                                                                                             -2   \n",
       "1                                                                                                           None   \n",
       "2                                                                                                          .....   \n",
       "3                                                     Театральная улица, 23_ymaps-2-1-78-islets_serp-item__title   \n",
       "4                                                                                                   MortgageLoan   \n",
       "5                                                                                                   MortgageLoan   \n",
       "6                                                                                                   MortgageLoan   \n",
       "7                                                                                                   MortgageLoan   \n",
       "8  [placement: main[main_feed]][container: 8bb362eb-9c78-4307-b4ed-5df94bab41fc][bc: interaction][product: none]   \n",
       "9                                                                                                       Открытие   \n",
       "\n",
       "              hitPageHostName  ctl_loading   sessionId  deviceIsMobile  \\\n",
       "0             www.sberbank.ru     10049073  1626025890           False   \n",
       "1  rostov-na-donu.domclick.ru     10049073  1626011900           False   \n",
       "2             www.sberbank.ru     10049073  1626019981           False   \n",
       "3             www.sberbank.ru     10049073  1625992079           False   \n",
       "4         ipoteka.domclick.ru     10049073  1625952888           False   \n",
       "5         ipoteka.domclick.ru     10049073  1625972358           False   \n",
       "6         ipoteka.domclick.ru     10049073  1625980408           False   \n",
       "7         ipoteka.domclick.ru     10049073  1626030019           False   \n",
       "8             sbi.sberbank.ru     10049073  1625960650           False   \n",
       "9     web5.online.sberbank.ru     10049073  1626002150           False   \n",
       "\n",
       "  deviceMobileDeviceModel deviceDeviceCategory              geoRegion  \\\n",
       "0                    None              desktop              (not set)   \n",
       "1                    None              desktop          Rostov Oblast   \n",
       "2                    None              desktop  Republic of Tatarstan   \n",
       "3                    None              desktop         Donetsk Oblast   \n",
       "4                    None              desktop          Moscow Oblast   \n",
       "5                    None              desktop         Primorsky Krai   \n",
       "6                    None              desktop     Chelyabinsk Oblast   \n",
       "7                    None              desktop                 Moscow   \n",
       "8                    None              desktop      Sverdlovsk Oblast   \n",
       "9                    None              desktop    Valencian Community   \n",
       "\n",
       "         geoCity  \n",
       "0      (not set)  \n",
       "1       Taganrog  \n",
       "2          Kazan  \n",
       "3       Horlivka  \n",
       "4          Dubna  \n",
       "5    Vladivostok  \n",
       "6    Chelyabinsk  \n",
       "7         Moscow  \n",
       "8  Yekaterinburg  \n",
       "9      (not set)  "
      ]
     },
     "execution_count": 7,
     "metadata": {},
     "output_type": "execute_result"
    }
   ],
   "source": [
    "visit.show()"
   ]
  },
  {
   "cell_type": "code",
   "execution_count": null,
   "metadata": {
    "collapsed": true
   },
   "outputs": [],
   "source": [
    "visit.show()"
   ]
  },
  {
   "cell_type": "code",
   "execution_count": 4,
   "metadata": {
    "collapsed": true
   },
   "outputs": [],
   "source": [
    "visit = hive.sql(\"\"\"select *\n",
    "                 from cap_external_google_dda_external_google_analytics.visit\n",
    "                 where 1 = 1\n",
    "                   and sessiondate >= '2021-06-28'\n",
    "                   and sessiondate <= '2021-07-04'\n",
    "                   and hitPageHostName = 'sbi.sberbank.ru'\"\"\")"
   ]
  },
  {
   "cell_type": "code",
   "execution_count": null,
   "metadata": {
    "collapsed": true
   },
   "outputs": [],
   "source": []
  },
  {
   "cell_type": "code",
   "execution_count": 5,
   "metadata": {
    "collapsed": true
   },
   "outputs": [],
   "source": [
    "visit_cut = visit.filter(\"hitPageHostName = 'sbi.sberbank.ru'\")\\\n",
    "                 .select(\"sbbolUserId\",\n",
    "                         \"sbbolorgguid\",\n",
    "                         \"hitPagePath\",\n",
    "                         \"hitPageTitle\",\n",
    "                        \"sessionId\",\n",
    "                        \"sessionStartTime\",\n",
    "                        \"sessionDate\",\n",
    "                        \"hitType\",\n",
    "                        \"hitTime\",\n",
    "                        \"eventCategory\",\n",
    "                        \"eventAction\",\n",
    "                        \"eventLabel\",\n",
    "                        \"hitPageHostName\",\n",
    "                        \"sessionId\")"
   ]
  },
  {
   "cell_type": "code",
   "execution_count": 6,
   "metadata": {},
   "outputs": [
    {
     "data": {
      "text/plain": [
       "DataFrame[sbbolUserId: string, sbbolorgguid: string, hitPagePath: string, hitPageTitle: string, sessionId: bigint, sessionStartTime: bigint, sessionDate: string, hitType: string, hitTime: bigint, eventCategory: string, eventAction: string, eventLabel: string, hitPageHostName: string, sessionId: bigint]"
      ]
     },
     "execution_count": 6,
     "metadata": {},
     "output_type": "execute_result"
    }
   ],
   "source": [
    "visit_cut.cache()"
   ]
  },
  {
   "cell_type": "code",
   "execution_count": 7,
   "metadata": {},
   "outputs": [
    {
     "data": {
      "text/plain": [
       "605274831"
      ]
     },
     "execution_count": 7,
     "metadata": {},
     "output_type": "execute_result"
    }
   ],
   "source": [
    "visit_cut.count()"
   ]
  },
  {
   "cell_type": "markdown",
   "metadata": {},
   "source": [
    "###### Отчистка путей от мусора "
   ]
  },
  {
   "cell_type": "code",
   "execution_count": 8,
   "metadata": {
    "collapsed": true
   },
   "outputs": [],
   "source": [
    "@udf(stypes.StringType())\n",
    "def get_url_path(url):\n",
    "        try:\n",
    "            url_parse = urlparse(url)\n",
    "        except Exception as e:\n",
    "            print(e)\n",
    "            return None\n",
    "\n",
    "        return url_parse.path"
   ]
  },
  {
   "cell_type": "code",
   "execution_count": 9,
   "metadata": {
    "collapsed": true
   },
   "outputs": [],
   "source": [
    "visit_cols = visit_cut.withColumn(\"hitPagePath\", get_url_path(f.col(\"hitPagePath\")))\\\n",
    "                      .filter(f.col(\"hitPagePath\") != \"/\" )"
   ]
  },
  {
   "cell_type": "markdown",
   "metadata": {},
   "source": [
    "###### приведение времени хита к общему времени "
   ]
  },
  {
   "cell_type": "code",
   "execution_count": 10,
   "metadata": {
    "collapsed": true
   },
   "outputs": [],
   "source": [
    "visit_ts = visit_cols.withColumn(\"timestamp\", \n",
    "                                 (f.col(\"sessionStartTime\") + f.col(\"hitTime\") / 1000).cast(stypes.LongType())) \\\n",
    "                     .drop(\"sessionStartTime\", \"hitTime\")"
   ]
  },
  {
   "cell_type": "code",
   "execution_count": 11,
   "metadata": {},
   "outputs": [
    {
     "data": {
      "text/html": [
       "<div>\n",
       "<style scoped>\n",
       "    .dataframe tbody tr th:only-of-type {\n",
       "        vertical-align: middle;\n",
       "    }\n",
       "\n",
       "    .dataframe tbody tr th {\n",
       "        vertical-align: top;\n",
       "    }\n",
       "\n",
       "    .dataframe thead th {\n",
       "        text-align: right;\n",
       "    }\n",
       "</style>\n",
       "<table border=\"1\" class=\"dataframe\">\n",
       "  <thead>\n",
       "    <tr style=\"text-align: right;\">\n",
       "      <th></th>\n",
       "      <th>sbbolUserId</th>\n",
       "      <th>sbbolorgguid</th>\n",
       "      <th>hitPagePath</th>\n",
       "      <th>hitPageTitle</th>\n",
       "      <th>sessionId</th>\n",
       "      <th>sessionDate</th>\n",
       "      <th>hitType</th>\n",
       "      <th>eventCategory</th>\n",
       "      <th>eventAction</th>\n",
       "      <th>eventLabel</th>\n",
       "      <th>hitPageHostName</th>\n",
       "      <th>sessionId</th>\n",
       "      <th>timestamp</th>\n",
       "    </tr>\n",
       "  </thead>\n",
       "  <tbody>\n",
       "    <tr>\n",
       "      <th>0</th>\n",
       "      <td>19046ac3-39dd-4565-b69d-52e922690187</td>\n",
       "      <td>f0dd1036-cabe-4cb5-9432-2d904200b53e</td>\n",
       "      <td>/accounts-payments/account/:accountId</td>\n",
       "      <td>СберБизнес</td>\n",
       "      <td>1622969141</td>\n",
       "      <td>2021-06-06</td>\n",
       "      <td>EVENT</td>\n",
       "      <td>[std]: accounts-payments</td>\n",
       "      <td>show</td>\n",
       "      <td>[accountsandpayments paymentstable]: [showed]</td>\n",
       "      <td>sbi.sberbank.ru</td>\n",
       "      <td>1622969141</td>\n",
       "      <td>1622969171</td>\n",
       "    </tr>\n",
       "    <tr>\n",
       "      <th>1</th>\n",
       "      <td>3c25f078-4d98-fc84-e054-90e2ba85d0c8</td>\n",
       "      <td>77eb1019-e8f0-48cd-a9a5-ef6e49797539</td>\n",
       "      <td>/main</td>\n",
       "      <td>СберБизнес</td>\n",
       "      <td>1622949136</td>\n",
       "      <td>2021-06-06</td>\n",
       "      <td>EVENT</td>\n",
       "      <td>[std]: layout</td>\n",
       "      <td>menu fetching</td>\n",
       "      <td>[layout.primarymenu]: [count: 16, visible: [menu_create_section, menu_import, menu_help, menu_accounts_and_payments, menu_statements_and_reports, menu_counterparties, menu_templates_and_autopayments, menu_inquiries, menu_item_korpkarta, menu_item_zarplata, menu_item_kredit, menu_item_merchant-acquiring, menu_item_deposit, menu_item_e_inv, menu_item_currency_control, menu_item_derivatives], hidden: []]</td>\n",
       "      <td>sbi.sberbank.ru</td>\n",
       "      <td>1622949136</td>\n",
       "      <td>1622949175</td>\n",
       "    </tr>\n",
       "    <tr>\n",
       "      <th>2</th>\n",
       "      <td>3c25f07d-1d23-fc84-e054-90e2ba85d0c8</td>\n",
       "      <td>2bb9dc6a-6ecb-4951-b2ba-9332c173f973</td>\n",
       "      <td>/regular-and-templates/templates</td>\n",
       "      <td>СберБизнес - версия: 41.000.04_0005</td>\n",
       "      <td>1623008267</td>\n",
       "      <td>2021-06-06</td>\n",
       "      <td>EVENT</td>\n",
       "      <td>[operations]: offers</td>\n",
       "      <td>impression-story</td>\n",
       "      <td>[placement: ruble_payment[context]][container: a46ddad1-4e25-72cb-e054-90e2ba8333f8][bc: adv_bank][product: refundvat]</td>\n",
       "      <td>sbi.sberbank.ru</td>\n",
       "      <td>1623008267</td>\n",
       "      <td>1623008637</td>\n",
       "    </tr>\n",
       "  </tbody>\n",
       "</table>\n",
       "</div>"
      ],
      "text/plain": [
       "                            sbbolUserId                          sbbolorgguid  \\\n",
       "0  19046ac3-39dd-4565-b69d-52e922690187  f0dd1036-cabe-4cb5-9432-2d904200b53e   \n",
       "1  3c25f078-4d98-fc84-e054-90e2ba85d0c8  77eb1019-e8f0-48cd-a9a5-ef6e49797539   \n",
       "2  3c25f07d-1d23-fc84-e054-90e2ba85d0c8  2bb9dc6a-6ecb-4951-b2ba-9332c173f973   \n",
       "\n",
       "                             hitPagePath                         hitPageTitle  \\\n",
       "0  /accounts-payments/account/:accountId                           СберБизнес   \n",
       "1                                  /main                           СберБизнес   \n",
       "2       /regular-and-templates/templates  СберБизнес - версия: 41.000.04_0005   \n",
       "\n",
       "    sessionId sessionDate hitType             eventCategory       eventAction  \\\n",
       "0  1622969141  2021-06-06   EVENT  [std]: accounts-payments              show   \n",
       "1  1622949136  2021-06-06   EVENT             [std]: layout     menu fetching   \n",
       "2  1623008267  2021-06-06   EVENT      [operations]: offers  impression-story   \n",
       "\n",
       "                                                                                                                                                                                                                                                                                                                                                                                                             eventLabel  \\\n",
       "0                                                                                                                                                                                                                                                                                                                                                                         [accountsandpayments paymentstable]: [showed]   \n",
       "1  [layout.primarymenu]: [count: 16, visible: [menu_create_section, menu_import, menu_help, menu_accounts_and_payments, menu_statements_and_reports, menu_counterparties, menu_templates_and_autopayments, menu_inquiries, menu_item_korpkarta, menu_item_zarplata, menu_item_kredit, menu_item_merchant-acquiring, menu_item_deposit, menu_item_e_inv, menu_item_currency_control, menu_item_derivatives], hidden: []]   \n",
       "2                                                                                                                                                                                                                                                                                                [placement: ruble_payment[context]][container: a46ddad1-4e25-72cb-e054-90e2ba8333f8][bc: adv_bank][product: refundvat]   \n",
       "\n",
       "   hitPageHostName   sessionId   timestamp  \n",
       "0  sbi.sberbank.ru  1622969141  1622969171  \n",
       "1  sbi.sberbank.ru  1622949136  1622949175  \n",
       "2  sbi.sberbank.ru  1623008267  1623008637  "
      ]
     },
     "execution_count": 11,
     "metadata": {},
     "output_type": "execute_result"
    }
   ],
   "source": [
    "visit_ts.show(3)"
   ]
  },
  {
   "cell_type": "code",
   "execution_count": 12,
   "metadata": {},
   "outputs": [
    {
     "data": {
      "text/plain": [
       "DataFrame[sbbolUserId: string, sbbolorgguid: string, hitPagePath: string, hitPageTitle: string, sessionId: bigint, sessionDate: string, hitType: string, eventCategory: string, eventAction: string, eventLabel: string, hitPageHostName: string, sessionId: bigint, timestamp: bigint]"
      ]
     },
     "execution_count": 12,
     "metadata": {},
     "output_type": "execute_result"
    }
   ],
   "source": [
    "visit_ts.cache()"
   ]
  },
  {
   "cell_type": "code",
   "execution_count": 13,
   "metadata": {},
   "outputs": [
    {
     "data": {
      "text/plain": [
       "605274169"
      ]
     },
     "execution_count": 13,
     "metadata": {},
     "output_type": "execute_result"
    }
   ],
   "source": [
    "visit_ts.count()"
   ]
  },
  {
   "cell_type": "markdown",
   "metadata": {},
   "source": [
    "###### Дропаем юзеров без сббол ид "
   ]
  },
  {
   "cell_type": "markdown",
   "metadata": {},
   "source": [
    "###### подтягиваем инн юзеров "
   ]
  },
  {
   "cell_type": "code",
   "execution_count": 14,
   "metadata": {
    "collapsed": true
   },
   "outputs": [],
   "source": [
    "customer_sbbol = load_table(SBX_TEAM_DIGITCAMP, \"ga_ma_customer_sbbol\", hive)"
   ]
  },
  {
   "cell_type": "code",
   "execution_count": 18,
   "metadata": {},
   "outputs": [
    {
     "data": {
      "text/plain": [
       "5268797"
      ]
     },
     "execution_count": 18,
     "metadata": {},
     "output_type": "execute_result"
    }
   ],
   "source": [
    "customer_sbbol.count()"
   ]
  },
  {
   "cell_type": "code",
   "execution_count": 15,
   "metadata": {},
   "outputs": [
    {
     "data": {
      "text/html": [
       "<div>\n",
       "<style scoped>\n",
       "    .dataframe tbody tr th:only-of-type {\n",
       "        vertical-align: middle;\n",
       "    }\n",
       "\n",
       "    .dataframe tbody tr th {\n",
       "        vertical-align: top;\n",
       "    }\n",
       "\n",
       "    .dataframe thead th {\n",
       "        text-align: right;\n",
       "    }\n",
       "</style>\n",
       "<table border=\"1\" class=\"dataframe\">\n",
       "  <thead>\n",
       "    <tr style=\"text-align: right;\">\n",
       "      <th></th>\n",
       "      <th>CU_ID_SBBOL</th>\n",
       "      <th>SBBOL_NODE</th>\n",
       "      <th>CU_INN</th>\n",
       "      <th>CU_KPP</th>\n",
       "      <th>CU_OGRN</th>\n",
       "      <th>CU_OKPO</th>\n",
       "      <th>CU_ADDR_COMP</th>\n",
       "      <th>CU_NAME_COMP</th>\n",
       "      <th>CU_NAL_STATUS_FLAG</th>\n",
       "      <th>CU_REG_DATE</th>\n",
       "      <th>SUSPENDED</th>\n",
       "      <th>FINANCEBLOCK</th>\n",
       "      <th>PARENT_EKS_ID</th>\n",
       "      <th>CHILD_EKS_ID</th>\n",
       "      <th>LOCKED</th>\n",
       "      <th>ANNULED</th>\n",
       "      <th>REPLICATIONGUID</th>\n",
       "    </tr>\n",
       "  </thead>\n",
       "  <tbody>\n",
       "    <tr>\n",
       "      <th>0</th>\n",
       "      <td>3864241</td>\n",
       "      <td>1</td>\n",
       "      <td>235201488511</td>\n",
       "      <td>None</td>\n",
       "      <td>319237500136816</td>\n",
       "      <td>0152765395</td>\n",
       "      <td>353539, Краснодарский край, п.СТРЕЛКА, Темрюкский р-он, ул. Космодемьянской, дом 20</td>\n",
       "      <td>Индивидуальный предприниматель БЫДРУ ИРИНА ВИКТОРОВНА</td>\n",
       "      <td>1.0</td>\n",
       "      <td>2019-04-18</td>\n",
       "      <td>0</td>\n",
       "      <td>1</td>\n",
       "      <td>None</td>\n",
       "      <td>None</td>\n",
       "      <td>0</td>\n",
       "      <td>1</td>\n",
       "      <td>6be57744-e1dd-4bd4-a817-761ba9602f08</td>\n",
       "    </tr>\n",
       "    <tr>\n",
       "      <th>1</th>\n",
       "      <td>5176479</td>\n",
       "      <td>1</td>\n",
       "      <td>235201489890</td>\n",
       "      <td>None</td>\n",
       "      <td>321237500098442</td>\n",
       "      <td>2006687123</td>\n",
       "      <td>353555, Краснодарский край, ст-ца Тамань, ул. Пушкина, дом 35</td>\n",
       "      <td>Индивидуальный предприниматель ПАВЛЕНКО ВАСИЛИЙ СЕРГЕЕВИЧ</td>\n",
       "      <td>1.0</td>\n",
       "      <td>2021-03-24</td>\n",
       "      <td>0</td>\n",
       "      <td>0</td>\n",
       "      <td>8202343246741</td>\n",
       "      <td>8202343246741</td>\n",
       "      <td>0</td>\n",
       "      <td>0</td>\n",
       "      <td>aa60b531-4066-4fad-996b-8601fedc74c4</td>\n",
       "    </tr>\n",
       "    <tr>\n",
       "      <th>2</th>\n",
       "      <td>3245353</td>\n",
       "      <td>1</td>\n",
       "      <td>235201493977</td>\n",
       "      <td>None</td>\n",
       "      <td>311235212500063</td>\n",
       "      <td>None</td>\n",
       "      <td>None</td>\n",
       "      <td>ИП Фефелов Владимир Александрович</td>\n",
       "      <td>1.0</td>\n",
       "      <td>2011-05-05</td>\n",
       "      <td>0</td>\n",
       "      <td>1</td>\n",
       "      <td>None</td>\n",
       "      <td>None</td>\n",
       "      <td>0</td>\n",
       "      <td>1</td>\n",
       "      <td>cf3c306e-12f0-449e-a7e2-efc1f46bc58f</td>\n",
       "    </tr>\n",
       "  </tbody>\n",
       "</table>\n",
       "</div>"
      ],
      "text/plain": [
       "   CU_ID_SBBOL  SBBOL_NODE        CU_INN CU_KPP          CU_OGRN     CU_OKPO  \\\n",
       "0      3864241           1  235201488511   None  319237500136816  0152765395   \n",
       "1      5176479           1  235201489890   None  321237500098442  2006687123   \n",
       "2      3245353           1  235201493977   None  311235212500063        None   \n",
       "\n",
       "                                                                          CU_ADDR_COMP  \\\n",
       "0  353539, Краснодарский край, п.СТРЕЛКА, Темрюкский р-он, ул. Космодемьянской, дом 20   \n",
       "1                        353555, Краснодарский край, ст-ца Тамань, ул. Пушкина, дом 35   \n",
       "2                                                                                 None   \n",
       "\n",
       "                                                CU_NAME_COMP  \\\n",
       "0      Индивидуальный предприниматель БЫДРУ ИРИНА ВИКТОРОВНА   \n",
       "1  Индивидуальный предприниматель ПАВЛЕНКО ВАСИЛИЙ СЕРГЕЕВИЧ   \n",
       "2                          ИП Фефелов Владимир Александрович   \n",
       "\n",
       "   CU_NAL_STATUS_FLAG CU_REG_DATE  SUSPENDED  FINANCEBLOCK  PARENT_EKS_ID  \\\n",
       "0                 1.0  2019-04-18          0             1           None   \n",
       "1                 1.0  2021-03-24          0             0  8202343246741   \n",
       "2                 1.0  2011-05-05          0             1           None   \n",
       "\n",
       "    CHILD_EKS_ID  LOCKED  ANNULED                       REPLICATIONGUID  \n",
       "0           None       0        1  6be57744-e1dd-4bd4-a817-761ba9602f08  \n",
       "1  8202343246741       0        0  aa60b531-4066-4fad-996b-8601fedc74c4  \n",
       "2           None       0        1  cf3c306e-12f0-449e-a7e2-efc1f46bc58f  "
      ]
     },
     "execution_count": 15,
     "metadata": {},
     "output_type": "execute_result"
    }
   ],
   "source": [
    "customer_sbbol.show(3)"
   ]
  },
  {
   "cell_type": "code",
   "execution_count": 16,
   "metadata": {
    "collapsed": true
   },
   "outputs": [],
   "source": [
    "visit_ts = customer_sbbol.select(\"REPLICATIONGUID\", f.col(\"CU_INN\").alias(\"inn\"))\\\n",
    "                         .join(visit_ts,\n",
    "                               customer_sbbol.REPLICATIONGUID == visit_ts.sbbolorgguid,\n",
    "                               \"inner\")\\\n",
    "                         .drop(\"REPLICATIONGUID\", \"sbbolUserId\", \"sbbolorgguid\")\\\n",
    "                         .distinct()"
   ]
  },
  {
   "cell_type": "code",
   "execution_count": 17,
   "metadata": {},
   "outputs": [
    {
     "data": {
      "text/html": [
       "<div>\n",
       "<style scoped>\n",
       "    .dataframe tbody tr th:only-of-type {\n",
       "        vertical-align: middle;\n",
       "    }\n",
       "\n",
       "    .dataframe tbody tr th {\n",
       "        vertical-align: top;\n",
       "    }\n",
       "\n",
       "    .dataframe thead th {\n",
       "        text-align: right;\n",
       "    }\n",
       "</style>\n",
       "<table border=\"1\" class=\"dataframe\">\n",
       "  <thead>\n",
       "    <tr style=\"text-align: right;\">\n",
       "      <th></th>\n",
       "      <th>inn</th>\n",
       "      <th>hitPagePath</th>\n",
       "      <th>hitPageTitle</th>\n",
       "      <th>sessionId</th>\n",
       "      <th>sessionDate</th>\n",
       "      <th>hitType</th>\n",
       "      <th>eventCategory</th>\n",
       "      <th>eventAction</th>\n",
       "      <th>eventLabel</th>\n",
       "      <th>hitPageHostName</th>\n",
       "      <th>sessionId</th>\n",
       "      <th>timestamp</th>\n",
       "    </tr>\n",
       "  </thead>\n",
       "  <tbody>\n",
       "    <tr>\n",
       "      <th>0</th>\n",
       "      <td>5009097772</td>\n",
       "      <td>/main</td>\n",
       "      <td>СберБизнес</td>\n",
       "      <td>1622628111</td>\n",
       "      <td>2021-06-02</td>\n",
       "      <td>EVENT</td>\n",
       "      <td>[operations]: offers</td>\n",
       "      <td>impression-story</td>\n",
       "      <td>[placement: main|interaction[main_feed]][container: 365247d0-bd74-4e25-a5d9-92ac1765dc99][bc: none][product: none][platform: ufs]</td>\n",
       "      <td>sbi.sberbank.ru</td>\n",
       "      <td>1622628111</td>\n",
       "      <td>1622628334</td>\n",
       "    </tr>\n",
       "    <tr>\n",
       "      <th>1</th>\n",
       "      <td>1655437749</td>\n",
       "      <td>/accounts-payments/account/:accountId</td>\n",
       "      <td>СберБизнес - версия: 41.000.01_0003</td>\n",
       "      <td>1622462000</td>\n",
       "      <td>2021-05-31</td>\n",
       "      <td>EVENT</td>\n",
       "      <td>[std]: payments</td>\n",
       "      <td>show</td>\n",
       "      <td>[ruble_payment_edit]: [ruble_payment_edit__rub_comm]</td>\n",
       "      <td>sbi.sberbank.ru</td>\n",
       "      <td>1622462000</td>\n",
       "      <td>1622463120</td>\n",
       "    </tr>\n",
       "    <tr>\n",
       "      <th>2</th>\n",
       "      <td>1655437749</td>\n",
       "      <td>/login/check-otp</td>\n",
       "      <td>СберБизнес</td>\n",
       "      <td>1623153371</td>\n",
       "      <td>2021-06-08</td>\n",
       "      <td>EVENT</td>\n",
       "      <td>[std]: login</td>\n",
       "      <td>show</td>\n",
       "      <td>[checkotpform]: [sms-auto-check-mode]</td>\n",
       "      <td>sbi.sberbank.ru</td>\n",
       "      <td>1623153371</td>\n",
       "      <td>1623153372</td>\n",
       "    </tr>\n",
       "  </tbody>\n",
       "</table>\n",
       "</div>"
      ],
      "text/plain": [
       "          inn                            hitPagePath  \\\n",
       "0  5009097772                                  /main   \n",
       "1  1655437749  /accounts-payments/account/:accountId   \n",
       "2  1655437749                       /login/check-otp   \n",
       "\n",
       "                          hitPageTitle   sessionId sessionDate hitType  \\\n",
       "0                           СберБизнес  1622628111  2021-06-02   EVENT   \n",
       "1  СберБизнес - версия: 41.000.01_0003  1622462000  2021-05-31   EVENT   \n",
       "2                           СберБизнес  1623153371  2021-06-08   EVENT   \n",
       "\n",
       "          eventCategory       eventAction  \\\n",
       "0  [operations]: offers  impression-story   \n",
       "1       [std]: payments              show   \n",
       "2          [std]: login              show   \n",
       "\n",
       "                                                                                                                          eventLabel  \\\n",
       "0  [placement: main|interaction[main_feed]][container: 365247d0-bd74-4e25-a5d9-92ac1765dc99][bc: none][product: none][platform: ufs]   \n",
       "1                                                                               [ruble_payment_edit]: [ruble_payment_edit__rub_comm]   \n",
       "2                                                                                              [checkotpform]: [sms-auto-check-mode]   \n",
       "\n",
       "   hitPageHostName   sessionId   timestamp  \n",
       "0  sbi.sberbank.ru  1622628111  1622628334  \n",
       "1  sbi.sberbank.ru  1622462000  1622463120  \n",
       "2  sbi.sberbank.ru  1623153371  1623153372  "
      ]
     },
     "execution_count": 17,
     "metadata": {},
     "output_type": "execute_result"
    }
   ],
   "source": [
    "visit_ts.show(3)"
   ]
  },
  {
   "cell_type": "code",
   "execution_count": 18,
   "metadata": {},
   "outputs": [
    {
     "data": {
      "text/plain": [
       "1046460"
      ]
     },
     "execution_count": 18,
     "metadata": {},
     "output_type": "execute_result"
    }
   ],
   "source": [
    "visit_ts.select(\"inn\").distinct().count()"
   ]
  },
  {
   "cell_type": "markdown",
   "metadata": {},
   "source": [
    "###### дропаем юзеров без инн "
   ]
  },
  {
   "cell_type": "code",
   "execution_count": 19,
   "metadata": {
    "collapsed": true
   },
   "outputs": [],
   "source": [
    "visit_ts = visit_ts.filter(~f.isnull(\"inn\"))"
   ]
  },
  {
   "cell_type": "markdown",
   "metadata": {},
   "source": [
    "###### Оставляем в кликстриме только нужные события\n",
    "В данном случае решил оставить все клики и нажатия на сторисы, по которым мы будем скориться"
   ]
  },
  {
   "cell_type": "code",
   "execution_count": null,
   "metadata": {
    "collapsed": true
   },
   "outputs": [],
   "source": []
  },
  {
   "cell_type": "code",
   "execution_count": 20,
   "metadata": {
    "collapsed": true
   },
   "outputs": [],
   "source": [
    "STORY_CLICK = \"hitType = 'EVENT' AND eventCategory = '[operations]: offers' AND eventAction  = 'open card'\"\n",
    "\n",
    "USER_CLICK = \"eventAction = 'click'\""
   ]
  },
  {
   "cell_type": "code",
   "execution_count": 21,
   "metadata": {
    "collapsed": true
   },
   "outputs": [],
   "source": [
    "clickstream_filter = visit_ts.filter(STORY_CLICK + \" OR \" + USER_CLICK)"
   ]
  },
  {
   "cell_type": "code",
   "execution_count": 22,
   "metadata": {},
   "outputs": [
    {
     "data": {
      "text/plain": [
       "DataFrame[inn: string, hitPagePath: string, hitPageTitle: string, sessionId: bigint, sessionDate: string, hitType: string, eventCategory: string, eventAction: string, eventLabel: string, hitPageHostName: string, sessionId: bigint, timestamp: bigint]"
      ]
     },
     "execution_count": 22,
     "metadata": {},
     "output_type": "execute_result"
    }
   ],
   "source": [
    "clickstream_filter.cache()"
   ]
  },
  {
   "cell_type": "code",
   "execution_count": 23,
   "metadata": {},
   "outputs": [
    {
     "name": "stdout",
     "output_type": "stream",
     "text": [
      "CPU times: user 2.73 s, sys: 4.85 s, total: 7.58 s\n",
      "Wall time: 1min 52s\n"
     ]
    },
    {
     "data": {
      "text/html": [
       "<div>\n",
       "<style scoped>\n",
       "    .dataframe tbody tr th:only-of-type {\n",
       "        vertical-align: middle;\n",
       "    }\n",
       "\n",
       "    .dataframe tbody tr th {\n",
       "        vertical-align: top;\n",
       "    }\n",
       "\n",
       "    .dataframe thead th {\n",
       "        text-align: right;\n",
       "    }\n",
       "</style>\n",
       "<table border=\"1\" class=\"dataframe\">\n",
       "  <thead>\n",
       "    <tr style=\"text-align: right;\">\n",
       "      <th></th>\n",
       "      <th>inn</th>\n",
       "      <th>hitPagePath</th>\n",
       "      <th>hitPageTitle</th>\n",
       "      <th>sessionId</th>\n",
       "      <th>sessionDate</th>\n",
       "      <th>hitType</th>\n",
       "      <th>eventCategory</th>\n",
       "      <th>eventAction</th>\n",
       "      <th>eventLabel</th>\n",
       "      <th>hitPageHostName</th>\n",
       "      <th>sessionId</th>\n",
       "      <th>timestamp</th>\n",
       "    </tr>\n",
       "  </thead>\n",
       "  <tbody>\n",
       "    <tr>\n",
       "      <th>0</th>\n",
       "      <td>3250533832</td>\n",
       "      <td>/inquiries</td>\n",
       "      <td>СберБизнес - версия: 41.000.03_0001</td>\n",
       "      <td>1622788830</td>\n",
       "      <td>2021-06-04</td>\n",
       "      <td>EVENT</td>\n",
       "      <td>[std]: main</td>\n",
       "      <td>click</td>\n",
       "      <td>[layout.headergeneralsbbol3]: [open burger, novelty: false]</td>\n",
       "      <td>sbi.sberbank.ru</td>\n",
       "      <td>1622788830</td>\n",
       "      <td>1622791845</td>\n",
       "    </tr>\n",
       "    <tr>\n",
       "      <th>1</th>\n",
       "      <td>3250533832</td>\n",
       "      <td>/statements/daily/CALCULATED_RUB/:statementId</td>\n",
       "      <td>СберБизнес - версия: 41.000.01_0003</td>\n",
       "      <td>1622445075</td>\n",
       "      <td>2021-05-31</td>\n",
       "      <td>EVENT</td>\n",
       "      <td>[std]: accounts statements</td>\n",
       "      <td>click</td>\n",
       "      <td>[account daily statement page]: [accounttransactions:action.export_account_transactions_as_file]</td>\n",
       "      <td>sbi.sberbank.ru</td>\n",
       "      <td>1622445075</td>\n",
       "      <td>1622445131</td>\n",
       "    </tr>\n",
       "    <tr>\n",
       "      <th>2</th>\n",
       "      <td>3250533832</td>\n",
       "      <td>/accounts-payments/account/:accountId</td>\n",
       "      <td>СберБизнес - версия: 41.000.04_0005</td>\n",
       "      <td>1623063692</td>\n",
       "      <td>2021-06-07</td>\n",
       "      <td>EVENT</td>\n",
       "      <td>[std]: main</td>\n",
       "      <td>click</td>\n",
       "      <td>[layout.headergeneralsbbol3]: [open burger, novelty: false]</td>\n",
       "      <td>sbi.sberbank.ru</td>\n",
       "      <td>1623063692</td>\n",
       "      <td>1623067943</td>\n",
       "    </tr>\n",
       "  </tbody>\n",
       "</table>\n",
       "</div>"
      ],
      "text/plain": [
       "          inn                                    hitPagePath  \\\n",
       "0  3250533832                                     /inquiries   \n",
       "1  3250533832  /statements/daily/CALCULATED_RUB/:statementId   \n",
       "2  3250533832          /accounts-payments/account/:accountId   \n",
       "\n",
       "                          hitPageTitle   sessionId sessionDate hitType  \\\n",
       "0  СберБизнес - версия: 41.000.03_0001  1622788830  2021-06-04   EVENT   \n",
       "1  СберБизнес - версия: 41.000.01_0003  1622445075  2021-05-31   EVENT   \n",
       "2  СберБизнес - версия: 41.000.04_0005  1623063692  2021-06-07   EVENT   \n",
       "\n",
       "                eventCategory eventAction  \\\n",
       "0                 [std]: main       click   \n",
       "1  [std]: accounts statements       click   \n",
       "2                 [std]: main       click   \n",
       "\n",
       "                                                                                         eventLabel  \\\n",
       "0                                       [layout.headergeneralsbbol3]: [open burger, novelty: false]   \n",
       "1  [account daily statement page]: [accounttransactions:action.export_account_transactions_as_file]   \n",
       "2                                       [layout.headergeneralsbbol3]: [open burger, novelty: false]   \n",
       "\n",
       "   hitPageHostName   sessionId   timestamp  \n",
       "0  sbi.sberbank.ru  1622788830  1622791845  \n",
       "1  sbi.sberbank.ru  1622445075  1622445131  \n",
       "2  sbi.sberbank.ru  1623063692  1623067943  "
      ]
     },
     "execution_count": 23,
     "metadata": {},
     "output_type": "execute_result"
    }
   ],
   "source": [
    "%%time\n",
    "clickstream_filter.show(3)"
   ]
  },
  {
   "cell_type": "code",
   "execution_count": 24,
   "metadata": {},
   "outputs": [
    {
     "name": "stdout",
     "output_type": "stream",
     "text": [
      "CPU times: user 48.6 ms, sys: 43.8 ms, total: 92.4 ms\n",
      "Wall time: 1min 30s\n"
     ]
    },
    {
     "data": {
      "text/plain": [
       "107172789"
      ]
     },
     "execution_count": 24,
     "metadata": {},
     "output_type": "execute_result"
    }
   ],
   "source": [
    "%%time\n",
    "clickstream_filter.distinct().count()"
   ]
  },
  {
   "cell_type": "code",
   "execution_count": 25,
   "metadata": {
    "collapsed": true
   },
   "outputs": [],
   "source": [
    "clickstream_uniq = clickstream_filter.distinct().cache()"
   ]
  },
  {
   "cell_type": "markdown",
   "metadata": {},
   "source": [
    "###### Выделение продукта из экшена "
   ]
  },
  {
   "cell_type": "markdown",
   "metadata": {},
   "source": [
    "Взял из кликов также события с продуктовыми метками, тк они в основном падают со странице с магазином продуктов, по суте - те же сторисы, только в кликстриме по-другому называются\n",
    "\n",
    "такими метками отмечаются продукты, на которые юзеры попали через вкладку все продукты возможно, что метка activated - если продукт подключен, not - activated - продукт не подключен"
   ]
  },
  {
   "cell_type": "code",
   "execution_count": 26,
   "metadata": {
    "collapsed": true
   },
   "outputs": [],
   "source": [
    "pattern1 = 'product\\: [^]]*]{1}'\n",
    "pattern2 = 'product\\: [^,]*,{1}'\n",
    "clickstream_product = clickstream_uniq.withColumn('product',f.regexp_extract(\"eventLabel\", pattern1, 0))\\\n",
    "                                      .withColumn('product',\n",
    "                                                  f.when(f.col(\"product\").like(\"%,%\"),\n",
    "                                                         f.regexp_extract(\"eventLabel\", pattern2, 0))\\\n",
    "                                                   .otherwise(f.col(\"product\")))"
   ]
  },
  {
   "cell_type": "code",
   "execution_count": 27,
   "metadata": {
    "collapsed": true
   },
   "outputs": [],
   "source": [
    "clickstream_product = clickstream_product.withColumn(\"product\",\n",
    "                                                            f.col(\"product\").substr(f.lit(10), f.length(\"product\") - 10))"
   ]
  },
  {
   "cell_type": "code",
   "execution_count": 28,
   "metadata": {},
   "outputs": [
    {
     "data": {
      "text/plain": [
       "DataFrame[inn: string, hitPagePath: string, hitPageTitle: string, sessionId: bigint, sessionDate: string, hitType: string, eventCategory: string, eventAction: string, eventLabel: string, hitPageHostName: string, sessionId: bigint, timestamp: bigint, product: string]"
      ]
     },
     "execution_count": 28,
     "metadata": {},
     "output_type": "execute_result"
    }
   ],
   "source": [
    "clickstream_product.cache()"
   ]
  },
  {
   "cell_type": "code",
   "execution_count": 29,
   "metadata": {},
   "outputs": [
    {
     "data": {
      "text/html": [
       "<div>\n",
       "<style scoped>\n",
       "    .dataframe tbody tr th:only-of-type {\n",
       "        vertical-align: middle;\n",
       "    }\n",
       "\n",
       "    .dataframe tbody tr th {\n",
       "        vertical-align: top;\n",
       "    }\n",
       "\n",
       "    .dataframe thead th {\n",
       "        text-align: right;\n",
       "    }\n",
       "</style>\n",
       "<table border=\"1\" class=\"dataframe\">\n",
       "  <thead>\n",
       "    <tr style=\"text-align: right;\">\n",
       "      <th></th>\n",
       "      <th>inn</th>\n",
       "      <th>hitPagePath</th>\n",
       "      <th>hitPageTitle</th>\n",
       "      <th>sessionId</th>\n",
       "      <th>sessionDate</th>\n",
       "      <th>hitType</th>\n",
       "      <th>eventCategory</th>\n",
       "      <th>eventAction</th>\n",
       "      <th>eventLabel</th>\n",
       "      <th>hitPageHostName</th>\n",
       "      <th>sessionId</th>\n",
       "      <th>timestamp</th>\n",
       "      <th>product</th>\n",
       "    </tr>\n",
       "  </thead>\n",
       "  <tbody>\n",
       "    <tr>\n",
       "      <th>0</th>\n",
       "      <td>3250533832</td>\n",
       "      <td>/inquiries</td>\n",
       "      <td>СберБизнес - версия: 41.000.03_0001</td>\n",
       "      <td>1622788830</td>\n",
       "      <td>2021-06-04</td>\n",
       "      <td>EVENT</td>\n",
       "      <td>[std]: main</td>\n",
       "      <td>click</td>\n",
       "      <td>[layout.headergeneralsbbol3]: [open burger, novelty: false]</td>\n",
       "      <td>sbi.sberbank.ru</td>\n",
       "      <td>1622788830</td>\n",
       "      <td>1622791845</td>\n",
       "      <td></td>\n",
       "    </tr>\n",
       "    <tr>\n",
       "      <th>1</th>\n",
       "      <td>3250533832</td>\n",
       "      <td>/statements/daily/CALCULATED_RUB/:statementId</td>\n",
       "      <td>СберБизнес - версия: 41.000.01_0003</td>\n",
       "      <td>1622445075</td>\n",
       "      <td>2021-05-31</td>\n",
       "      <td>EVENT</td>\n",
       "      <td>[std]: accounts statements</td>\n",
       "      <td>click</td>\n",
       "      <td>[account daily statement page]: [accounttransactions:action.export_account_transactions_as_file]</td>\n",
       "      <td>sbi.sberbank.ru</td>\n",
       "      <td>1622445075</td>\n",
       "      <td>1622445131</td>\n",
       "      <td></td>\n",
       "    </tr>\n",
       "    <tr>\n",
       "      <th>2</th>\n",
       "      <td>3250533832</td>\n",
       "      <td>/accounts-payments/account/:accountId</td>\n",
       "      <td>СберБизнес - версия: 41.000.04_0005</td>\n",
       "      <td>1623063692</td>\n",
       "      <td>2021-06-07</td>\n",
       "      <td>EVENT</td>\n",
       "      <td>[std]: main</td>\n",
       "      <td>click</td>\n",
       "      <td>[layout.headergeneralsbbol3]: [open burger, novelty: false]</td>\n",
       "      <td>sbi.sberbank.ru</td>\n",
       "      <td>1623063692</td>\n",
       "      <td>1623067943</td>\n",
       "      <td></td>\n",
       "    </tr>\n",
       "  </tbody>\n",
       "</table>\n",
       "</div>"
      ],
      "text/plain": [
       "          inn                                    hitPagePath  \\\n",
       "0  3250533832                                     /inquiries   \n",
       "1  3250533832  /statements/daily/CALCULATED_RUB/:statementId   \n",
       "2  3250533832          /accounts-payments/account/:accountId   \n",
       "\n",
       "                          hitPageTitle   sessionId sessionDate hitType  \\\n",
       "0  СберБизнес - версия: 41.000.03_0001  1622788830  2021-06-04   EVENT   \n",
       "1  СберБизнес - версия: 41.000.01_0003  1622445075  2021-05-31   EVENT   \n",
       "2  СберБизнес - версия: 41.000.04_0005  1623063692  2021-06-07   EVENT   \n",
       "\n",
       "                eventCategory eventAction  \\\n",
       "0                 [std]: main       click   \n",
       "1  [std]: accounts statements       click   \n",
       "2                 [std]: main       click   \n",
       "\n",
       "                                                                                         eventLabel  \\\n",
       "0                                       [layout.headergeneralsbbol3]: [open burger, novelty: false]   \n",
       "1  [account daily statement page]: [accounttransactions:action.export_account_transactions_as_file]   \n",
       "2                                       [layout.headergeneralsbbol3]: [open burger, novelty: false]   \n",
       "\n",
       "   hitPageHostName   sessionId   timestamp product  \n",
       "0  sbi.sberbank.ru  1622788830  1622791845          \n",
       "1  sbi.sberbank.ru  1622445075  1622445131          \n",
       "2  sbi.sberbank.ru  1623063692  1623067943          "
      ]
     },
     "execution_count": 29,
     "metadata": {},
     "output_type": "execute_result"
    }
   ],
   "source": [
    "clickstream_product.show(3)"
   ]
  },
  {
   "cell_type": "code",
   "execution_count": 30,
   "metadata": {},
   "outputs": [
    {
     "data": {
      "text/plain": [
       "111"
      ]
     },
     "execution_count": 30,
     "metadata": {},
     "output_type": "execute_result"
    }
   ],
   "source": [
    "clickstream_product.select(\"product\").distinct().count()"
   ]
  },
  {
   "cell_type": "code",
   "execution_count": 31,
   "metadata": {},
   "outputs": [
    {
     "data": {
      "text/html": [
       "<div>\n",
       "<style scoped>\n",
       "    .dataframe tbody tr th:only-of-type {\n",
       "        vertical-align: middle;\n",
       "    }\n",
       "\n",
       "    .dataframe tbody tr th {\n",
       "        vertical-align: top;\n",
       "    }\n",
       "\n",
       "    .dataframe thead th {\n",
       "        text-align: right;\n",
       "    }\n",
       "</style>\n",
       "<table border=\"1\" class=\"dataframe\">\n",
       "  <thead>\n",
       "    <tr style=\"text-align: right;\">\n",
       "      <th></th>\n",
       "      <th>product</th>\n",
       "      <th>count(inn)</th>\n",
       "    </tr>\n",
       "  </thead>\n",
       "  <tbody>\n",
       "    <tr>\n",
       "      <th>0</th>\n",
       "      <td></td>\n",
       "      <td>1038530</td>\n",
       "    </tr>\n",
       "    <tr>\n",
       "      <th>1</th>\n",
       "      <td>none</td>\n",
       "      <td>29393</td>\n",
       "    </tr>\n",
       "    <tr>\n",
       "      <th>2</th>\n",
       "      <td>e-acquiring</td>\n",
       "      <td>5254</td>\n",
       "    </tr>\n",
       "    <tr>\n",
       "      <th>3</th>\n",
       "      <td>kredit</td>\n",
       "      <td>5125</td>\n",
       "    </tr>\n",
       "    <tr>\n",
       "      <th>4</th>\n",
       "      <td>merchant-acquiring</td>\n",
       "      <td>4377</td>\n",
       "    </tr>\n",
       "    <tr>\n",
       "      <th>5</th>\n",
       "      <td>smart_credit</td>\n",
       "      <td>4178</td>\n",
       "    </tr>\n",
       "    <tr>\n",
       "      <th>6</th>\n",
       "      <td>refundvat</td>\n",
       "      <td>3621</td>\n",
       "    </tr>\n",
       "    <tr>\n",
       "      <th>7</th>\n",
       "      <td>zarplata</td>\n",
       "      <td>3547</td>\n",
       "    </tr>\n",
       "    <tr>\n",
       "      <th>8</th>\n",
       "      <td>rabota_ru</td>\n",
       "      <td>2656</td>\n",
       "    </tr>\n",
       "    <tr>\n",
       "      <th>9</th>\n",
       "      <td>sppu</td>\n",
       "      <td>2604</td>\n",
       "    </tr>\n",
       "    <tr>\n",
       "      <th>10</th>\n",
       "      <td>sberrating</td>\n",
       "      <td>2340</td>\n",
       "    </tr>\n",
       "    <tr>\n",
       "      <th>11</th>\n",
       "      <td>lyurist</td>\n",
       "      <td>2281</td>\n",
       "    </tr>\n",
       "    <tr>\n",
       "      <th>12</th>\n",
       "      <td>credit_card</td>\n",
       "      <td>2136</td>\n",
       "    </tr>\n",
       "    <tr>\n",
       "      <th>13</th>\n",
       "      <td>korpkarta</td>\n",
       "      <td>1766</td>\n",
       "    </tr>\n",
       "    <tr>\n",
       "      <th>14</th>\n",
       "      <td>e_inv</td>\n",
       "      <td>1705</td>\n",
       "    </tr>\n",
       "  </tbody>\n",
       "</table>\n",
       "</div>"
      ],
      "text/plain": [
       "               product  count(inn)\n",
       "0                          1038530\n",
       "1                 none       29393\n",
       "2          e-acquiring        5254\n",
       "3               kredit        5125\n",
       "4   merchant-acquiring        4377\n",
       "5         smart_credit        4178\n",
       "6            refundvat        3621\n",
       "7             zarplata        3547\n",
       "8            rabota_ru        2656\n",
       "9                 sppu        2604\n",
       "10          sberrating        2340\n",
       "11             lyurist        2281\n",
       "12         credit_card        2136\n",
       "13           korpkarta        1766\n",
       "14               e_inv        1705"
      ]
     },
     "execution_count": 31,
     "metadata": {},
     "output_type": "execute_result"
    }
   ],
   "source": [
    "clickstream_product.select(\"inn\",\n",
    "                           \"product\")\\\n",
    "                   .distinct()\\\n",
    "                   .groupBy(\"product\")\\\n",
    "                   .agg(f.count(\"inn\"))\\\n",
    "                   .orderBy(f.col(\"count(inn)\").desc())\\\n",
    "                   .show(15)"
   ]
  },
  {
   "cell_type": "code",
   "execution_count": 32,
   "metadata": {
    "collapsed": true
   },
   "outputs": [],
   "source": [
    "clickstream_final = clickstream_product.select('inn',\n",
    "                                               'timestamp',\n",
    "                                               'hitPagePath',\n",
    "                                               \"hitPageTitle\",\n",
    "                                               'eventCategory',\n",
    "                                               'eventAction',\n",
    "                                               'eventLabel',\n",
    "                                               'product').distinct()"
   ]
  },
  {
   "cell_type": "code",
   "execution_count": 33,
   "metadata": {},
   "outputs": [
    {
     "data": {
      "text/html": [
       "<div>\n",
       "<style scoped>\n",
       "    .dataframe tbody tr th:only-of-type {\n",
       "        vertical-align: middle;\n",
       "    }\n",
       "\n",
       "    .dataframe tbody tr th {\n",
       "        vertical-align: top;\n",
       "    }\n",
       "\n",
       "    .dataframe thead th {\n",
       "        text-align: right;\n",
       "    }\n",
       "</style>\n",
       "<table border=\"1\" class=\"dataframe\">\n",
       "  <thead>\n",
       "    <tr style=\"text-align: right;\">\n",
       "      <th></th>\n",
       "      <th>inn</th>\n",
       "      <th>timestamp</th>\n",
       "      <th>hitPagePath</th>\n",
       "      <th>hitPageTitle</th>\n",
       "      <th>eventCategory</th>\n",
       "      <th>eventAction</th>\n",
       "      <th>eventLabel</th>\n",
       "      <th>product</th>\n",
       "    </tr>\n",
       "  </thead>\n",
       "  <tbody>\n",
       "    <tr>\n",
       "      <th>0</th>\n",
       "      <td>470707811305</td>\n",
       "      <td>1623239609</td>\n",
       "      <td>/accounts-payments</td>\n",
       "      <td>СберБизнес</td>\n",
       "      <td>[std]: payments</td>\n",
       "      <td>click</td>\n",
       "      <td>[ruble_payment_edit]: [action.save]</td>\n",
       "      <td></td>\n",
       "    </tr>\n",
       "    <tr>\n",
       "      <th>1</th>\n",
       "      <td>6220008542</td>\n",
       "      <td>1623318711</td>\n",
       "      <td>/main</td>\n",
       "      <td>СберБизнес</td>\n",
       "      <td>[std]: main</td>\n",
       "      <td>click</td>\n",
       "      <td>[layout.headergeneralsbbol3]: [open burger, novelty: true]</td>\n",
       "      <td></td>\n",
       "    </tr>\n",
       "    <tr>\n",
       "      <th>2</th>\n",
       "      <td>5260170451</td>\n",
       "      <td>1623412583</td>\n",
       "      <td>/accounts-payments/account/:accountId</td>\n",
       "      <td>СберБизнес</td>\n",
       "      <td>[std]: payments</td>\n",
       "      <td>click</td>\n",
       "      <td>[ruble_payment_edit]: [action.save]</td>\n",
       "      <td></td>\n",
       "    </tr>\n",
       "  </tbody>\n",
       "</table>\n",
       "</div>"
      ],
      "text/plain": [
       "            inn   timestamp                            hitPagePath  \\\n",
       "0  470707811305  1623239609                     /accounts-payments   \n",
       "1    6220008542  1623318711                                  /main   \n",
       "2    5260170451  1623412583  /accounts-payments/account/:accountId   \n",
       "\n",
       "  hitPageTitle    eventCategory eventAction  \\\n",
       "0   СберБизнес  [std]: payments       click   \n",
       "1   СберБизнес      [std]: main       click   \n",
       "2   СберБизнес  [std]: payments       click   \n",
       "\n",
       "                                                   eventLabel product  \n",
       "0                         [ruble_payment_edit]: [action.save]          \n",
       "1  [layout.headergeneralsbbol3]: [open burger, novelty: true]          \n",
       "2                         [ruble_payment_edit]: [action.save]          "
      ]
     },
     "execution_count": 33,
     "metadata": {},
     "output_type": "execute_result"
    }
   ],
   "source": [
    "clickstream_final.show(3)"
   ]
  },
  {
   "cell_type": "code",
   "execution_count": 34,
   "metadata": {},
   "outputs": [
    {
     "data": {
      "text/plain": [
       "107172232"
      ]
     },
     "execution_count": 34,
     "metadata": {},
     "output_type": "execute_result"
    }
   ],
   "source": [
    "clickstream_final.count()"
   ]
  },
  {
   "cell_type": "markdown",
   "metadata": {},
   "source": [
    "###### Сохранение кликстрима "
   ]
  },
  {
   "cell_type": "code",
   "execution_count": 35,
   "metadata": {},
   "outputs": [
    {
     "data": {
      "text/plain": [
       "'RECSYS_STORY_CLICKSTREAM'"
      ]
     },
     "execution_count": 35,
     "metadata": {},
     "output_type": "execute_result"
    }
   ],
   "source": [
    "RECSYS_STORY_CLICKSTREAM"
   ]
  },
  {
   "cell_type": "code",
   "execution_count": 36,
   "metadata": {
    "collapsed": true
   },
   "outputs": [],
   "source": [
    "drop_table(SBX_TEAM_DIGITCAMP, RECSYS_STORY_CLICKSTREAM, hive)  "
   ]
  },
  {
   "cell_type": "code",
   "execution_count": 37,
   "metadata": {},
   "outputs": [
    {
     "name": "stdout",
     "output_type": "stream",
     "text": [
      "CPU times: user 86.1 ms, sys: 62.8 ms, total: 149 ms\n",
      "Wall time: 1min 27s\n"
     ]
    }
   ],
   "source": [
    "%%time\n",
    "create_table_from_df(SBX_TEAM_DIGITCAMP, RECSYS_STORY_CLICKSTREAM, clickstream_final, hive)"
   ]
  },
  {
   "cell_type": "markdown",
   "metadata": {},
   "source": [
    "###### Статистика по кликстриму "
   ]
  },
  {
   "cell_type": "markdown",
   "metadata": {},
   "source": [
    "Все эвенты из кликстрима"
   ]
  },
  {
   "cell_type": "code",
   "execution_count": 46,
   "metadata": {},
   "outputs": [
    {
     "data": {
      "text/html": [
       "<div>\n",
       "<style scoped>\n",
       "    .dataframe tbody tr th:only-of-type {\n",
       "        vertical-align: middle;\n",
       "    }\n",
       "\n",
       "    .dataframe tbody tr th {\n",
       "        vertical-align: top;\n",
       "    }\n",
       "\n",
       "    .dataframe thead th {\n",
       "        text-align: right;\n",
       "    }\n",
       "</style>\n",
       "<table border=\"1\" class=\"dataframe\">\n",
       "  <thead>\n",
       "    <tr style=\"text-align: right;\">\n",
       "      <th></th>\n",
       "      <th>inn</th>\n",
       "      <th>timestamp</th>\n",
       "      <th>hitPagePath</th>\n",
       "      <th>hitPageTitle</th>\n",
       "      <th>eventCategory</th>\n",
       "      <th>eventAction</th>\n",
       "      <th>eventLabel</th>\n",
       "      <th>product</th>\n",
       "    </tr>\n",
       "  </thead>\n",
       "  <tbody>\n",
       "    <tr>\n",
       "      <th>0</th>\n",
       "      <td>470707811305</td>\n",
       "      <td>1623239609</td>\n",
       "      <td>/accounts-payments</td>\n",
       "      <td>СберБизнес</td>\n",
       "      <td>[std]: payments</td>\n",
       "      <td>click</td>\n",
       "      <td>[ruble_payment_edit]: [action.save]</td>\n",
       "      <td></td>\n",
       "    </tr>\n",
       "    <tr>\n",
       "      <th>1</th>\n",
       "      <td>6220008542</td>\n",
       "      <td>1623318711</td>\n",
       "      <td>/main</td>\n",
       "      <td>СберБизнес</td>\n",
       "      <td>[std]: main</td>\n",
       "      <td>click</td>\n",
       "      <td>[layout.headergeneralsbbol3]: [open burger, novelty: true]</td>\n",
       "      <td></td>\n",
       "    </tr>\n",
       "    <tr>\n",
       "      <th>2</th>\n",
       "      <td>5260170451</td>\n",
       "      <td>1623412583</td>\n",
       "      <td>/accounts-payments/account/:accountId</td>\n",
       "      <td>СберБизнес</td>\n",
       "      <td>[std]: payments</td>\n",
       "      <td>click</td>\n",
       "      <td>[ruble_payment_edit]: [action.save]</td>\n",
       "      <td></td>\n",
       "    </tr>\n",
       "  </tbody>\n",
       "</table>\n",
       "</div>"
      ],
      "text/plain": [
       "            inn   timestamp                            hitPagePath  \\\n",
       "0  470707811305  1623239609                     /accounts-payments   \n",
       "1    6220008542  1623318711                                  /main   \n",
       "2    5260170451  1623412583  /accounts-payments/account/:accountId   \n",
       "\n",
       "  hitPageTitle    eventCategory eventAction  \\\n",
       "0   СберБизнес  [std]: payments       click   \n",
       "1   СберБизнес      [std]: main       click   \n",
       "2   СберБизнес  [std]: payments       click   \n",
       "\n",
       "                                                   eventLabel product  \n",
       "0                         [ruble_payment_edit]: [action.save]          \n",
       "1  [layout.headergeneralsbbol3]: [open burger, novelty: true]          \n",
       "2                         [ruble_payment_edit]: [action.save]          "
      ]
     },
     "execution_count": 46,
     "metadata": {},
     "output_type": "execute_result"
    }
   ],
   "source": [
    "load_table(SBX_TEAM_DIGITCAMP, RECSYS_STORY_CLICKSTREAM, hive).show(3)"
   ]
  },
  {
   "cell_type": "code",
   "execution_count": 38,
   "metadata": {},
   "outputs": [
    {
     "name": "stdout",
     "output_type": "stream",
     "text": [
      "CPU times: user 16.1 ms, sys: 24.7 ms, total: 40.7 ms\n",
      "Wall time: 358 ms\n"
     ]
    },
    {
     "data": {
      "text/plain": [
       "107172789"
      ]
     },
     "execution_count": 38,
     "metadata": {},
     "output_type": "execute_result"
    }
   ],
   "source": [
    "%%time\n",
    "clickstream_product.count()"
   ]
  },
  {
   "cell_type": "code",
   "execution_count": 39,
   "metadata": {},
   "outputs": [
    {
     "name": "stdout",
     "output_type": "stream",
     "text": [
      "CPU times: user 44 ms, sys: 46.6 ms, total: 90.6 ms\n",
      "Wall time: 2.02 s\n"
     ]
    },
    {
     "data": {
      "text/html": [
       "<div>\n",
       "<style scoped>\n",
       "    .dataframe tbody tr th:only-of-type {\n",
       "        vertical-align: middle;\n",
       "    }\n",
       "\n",
       "    .dataframe tbody tr th {\n",
       "        vertical-align: top;\n",
       "    }\n",
       "\n",
       "    .dataframe thead th {\n",
       "        text-align: right;\n",
       "    }\n",
       "</style>\n",
       "<table border=\"1\" class=\"dataframe\">\n",
       "  <thead>\n",
       "    <tr style=\"text-align: right;\">\n",
       "      <th></th>\n",
       "      <th>sessionDate</th>\n",
       "      <th>count(inn)</th>\n",
       "    </tr>\n",
       "  </thead>\n",
       "  <tbody>\n",
       "    <tr>\n",
       "      <th>0</th>\n",
       "      <td>2021-06-11</td>\n",
       "      <td>10294367</td>\n",
       "    </tr>\n",
       "    <tr>\n",
       "      <th>1</th>\n",
       "      <td>2021-06-08</td>\n",
       "      <td>9503928</td>\n",
       "    </tr>\n",
       "    <tr>\n",
       "      <th>2</th>\n",
       "      <td>2021-06-05</td>\n",
       "      <td>1041787</td>\n",
       "    </tr>\n",
       "    <tr>\n",
       "      <th>3</th>\n",
       "      <td>2021-06-06</td>\n",
       "      <td>1052803</td>\n",
       "    </tr>\n",
       "    <tr>\n",
       "      <th>4</th>\n",
       "      <td>2021-06-01</td>\n",
       "      <td>10765396</td>\n",
       "    </tr>\n",
       "    <tr>\n",
       "      <th>5</th>\n",
       "      <td>2021-06-10</td>\n",
       "      <td>9657617</td>\n",
       "    </tr>\n",
       "    <tr>\n",
       "      <th>6</th>\n",
       "      <td>2021-06-14</td>\n",
       "      <td>2509707</td>\n",
       "    </tr>\n",
       "    <tr>\n",
       "      <th>7</th>\n",
       "      <td>2021-06-09</td>\n",
       "      <td>9253116</td>\n",
       "    </tr>\n",
       "    <tr>\n",
       "      <th>8</th>\n",
       "      <td>2021-06-02</td>\n",
       "      <td>9269363</td>\n",
       "    </tr>\n",
       "    <tr>\n",
       "      <th>9</th>\n",
       "      <td>2021-06-03</td>\n",
       "      <td>9359251</td>\n",
       "    </tr>\n",
       "  </tbody>\n",
       "</table>\n",
       "</div>"
      ],
      "text/plain": [
       "  sessionDate  count(inn)\n",
       "0  2021-06-11    10294367\n",
       "1  2021-06-08     9503928\n",
       "2  2021-06-05     1041787\n",
       "3  2021-06-06     1052803\n",
       "4  2021-06-01    10765396\n",
       "5  2021-06-10     9657617\n",
       "6  2021-06-14     2509707\n",
       "7  2021-06-09     9253116\n",
       "8  2021-06-02     9269363\n",
       "9  2021-06-03     9359251"
      ]
     },
     "execution_count": 39,
     "metadata": {},
     "output_type": "execute_result"
    }
   ],
   "source": [
    "%%time\n",
    "clickstream_product.groupby(\"sessionDate\").agg(f.count(\"inn\")).show()"
   ]
  },
  {
   "cell_type": "code",
   "execution_count": 40,
   "metadata": {},
   "outputs": [
    {
     "data": {
      "text/plain": [
       "1038609"
      ]
     },
     "execution_count": 40,
     "metadata": {},
     "output_type": "execute_result"
    }
   ],
   "source": [
    "clickstream_product.select(\"inn\").distinct().count()"
   ]
  },
  {
   "cell_type": "markdown",
   "metadata": {},
   "source": [
    "статистика по кликам по сторям"
   ]
  },
  {
   "cell_type": "code",
   "execution_count": 41,
   "metadata": {
    "collapsed": true
   },
   "outputs": [],
   "source": [
    "clickstream_story = clickstream_product.filter(\"eventCategory = '[operations]: offers' and product <> 'none'\")"
   ]
  },
  {
   "cell_type": "code",
   "execution_count": 42,
   "metadata": {},
   "outputs": [
    {
     "name": "stdout",
     "output_type": "stream",
     "text": [
      "CPU times: user 40.9 ms, sys: 56.4 ms, total: 97.2 ms\n",
      "Wall time: 5.61 s\n"
     ]
    },
    {
     "data": {
      "text/plain": [
       "26495"
      ]
     },
     "execution_count": 42,
     "metadata": {},
     "output_type": "execute_result"
    }
   ],
   "source": [
    "%%time\n",
    "clickstream_story.select(\"inn\").distinct().count()"
   ]
  },
  {
   "cell_type": "code",
   "execution_count": 43,
   "metadata": {
    "collapsed": true
   },
   "outputs": [],
   "source": [
    "clickstream_product_stat = clickstream_product.filter(\"product <> '' and product <> 'none'\")"
   ]
  },
  {
   "cell_type": "code",
   "execution_count": 44,
   "metadata": {},
   "outputs": [
    {
     "data": {
      "text/plain": [
       "46489"
      ]
     },
     "execution_count": 44,
     "metadata": {},
     "output_type": "execute_result"
    }
   ],
   "source": [
    "clickstream_product_stat.select(\"inn\").distinct().count()"
   ]
  },
  {
   "cell_type": "code",
   "execution_count": null,
   "metadata": {
    "collapsed": true
   },
   "outputs": [],
   "source": []
  }
 ],
 "metadata": {
  "kernelspec": {
   "display_name": "Python 3",
   "language": "python",
   "name": "python3"
  },
  "language_info": {
   "codemirror_mode": {
    "name": "ipython",
    "version": 3
   },
   "file_extension": ".py",
   "mimetype": "text/x-python",
   "name": "python",
   "nbconvert_exporter": "python",
   "pygments_lexer": "ipython3",
   "version": "3.6.3"
  }
 },
 "nbformat": 4,
 "nbformat_minor": 2
}
