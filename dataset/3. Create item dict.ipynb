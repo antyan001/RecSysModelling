{
 "cells": [
  {
   "cell_type": "code",
   "execution_count": 1,
   "metadata": {
    "collapsed": true
   },
   "outputs": [],
   "source": [
    "import os, sys\n",
    "\n",
    "recsys_cf = os.environ.get(\"RECSYS_STORY\")\n",
    "sys.path.append(recsys_cf)\n",
    "os.chdir(recsys_cf)\n",
    "\n",
    "from lib.tools import *"
   ]
  },
  {
   "cell_type": "markdown",
   "metadata": {},
   "source": [
    "###### spark "
   ]
  },
  {
   "cell_type": "code",
   "execution_count": 2,
   "metadata": {
    "collapsed": true
   },
   "outputs": [],
   "source": [
    "sp = spark(**SPARK_CONFIG)\n",
    "hive = sp.sql"
   ]
  },
  {
   "cell_type": "markdown",
   "metadata": {},
   "source": [
    "###### load clickstream "
   ]
  },
  {
   "cell_type": "code",
   "execution_count": 3,
   "metadata": {
    "collapsed": true
   },
   "outputs": [],
   "source": [
    "clickstream = load_table(SBX_TEAM_DIGITCAMP, RECSYS_STORY_CLICKSTREAM, hive)"
   ]
  },
  {
   "cell_type": "code",
   "execution_count": 4,
   "metadata": {},
   "outputs": [
    {
     "data": {
      "text/plain": [
       "107172232"
      ]
     },
     "execution_count": 4,
     "metadata": {},
     "output_type": "execute_result"
    }
   ],
   "source": [
    "clickstream.count()"
   ]
  },
  {
   "cell_type": "code",
   "execution_count": 5,
   "metadata": {},
   "outputs": [
    {
     "data": {
      "text/html": [
       "<div>\n",
       "<style scoped>\n",
       "    .dataframe tbody tr th:only-of-type {\n",
       "        vertical-align: middle;\n",
       "    }\n",
       "\n",
       "    .dataframe tbody tr th {\n",
       "        vertical-align: top;\n",
       "    }\n",
       "\n",
       "    .dataframe thead th {\n",
       "        text-align: right;\n",
       "    }\n",
       "</style>\n",
       "<table border=\"1\" class=\"dataframe\">\n",
       "  <thead>\n",
       "    <tr style=\"text-align: right;\">\n",
       "      <th></th>\n",
       "      <th>inn</th>\n",
       "      <th>timestamp</th>\n",
       "      <th>hitPagePath</th>\n",
       "      <th>hitPageTitle</th>\n",
       "      <th>eventCategory</th>\n",
       "      <th>eventAction</th>\n",
       "      <th>eventLabel</th>\n",
       "      <th>product</th>\n",
       "    </tr>\n",
       "  </thead>\n",
       "  <tbody>\n",
       "    <tr>\n",
       "      <th>0</th>\n",
       "      <td>470707811305</td>\n",
       "      <td>1623239609</td>\n",
       "      <td>/accounts-payments</td>\n",
       "      <td>СберБизнес</td>\n",
       "      <td>[std]: payments</td>\n",
       "      <td>click</td>\n",
       "      <td>[ruble_payment_edit]: [action.save]</td>\n",
       "      <td></td>\n",
       "    </tr>\n",
       "    <tr>\n",
       "      <th>1</th>\n",
       "      <td>6220008542</td>\n",
       "      <td>1623318711</td>\n",
       "      <td>/main</td>\n",
       "      <td>СберБизнес</td>\n",
       "      <td>[std]: main</td>\n",
       "      <td>click</td>\n",
       "      <td>[layout.headergeneralsbbol3]: [open burger, novelty: true]</td>\n",
       "      <td></td>\n",
       "    </tr>\n",
       "    <tr>\n",
       "      <th>2</th>\n",
       "      <td>5260170451</td>\n",
       "      <td>1623412583</td>\n",
       "      <td>/accounts-payments/account/:accountId</td>\n",
       "      <td>СберБизнес</td>\n",
       "      <td>[std]: payments</td>\n",
       "      <td>click</td>\n",
       "      <td>[ruble_payment_edit]: [action.save]</td>\n",
       "      <td></td>\n",
       "    </tr>\n",
       "  </tbody>\n",
       "</table>\n",
       "</div>"
      ],
      "text/plain": [
       "            inn   timestamp                            hitPagePath  \\\n",
       "0  470707811305  1623239609                     /accounts-payments   \n",
       "1    6220008542  1623318711                                  /main   \n",
       "2    5260170451  1623412583  /accounts-payments/account/:accountId   \n",
       "\n",
       "  hitPageTitle    eventCategory eventAction  \\\n",
       "0   СберБизнес  [std]: payments       click   \n",
       "1   СберБизнес      [std]: main       click   \n",
       "2   СберБизнес  [std]: payments       click   \n",
       "\n",
       "                                                   eventLabel product  \n",
       "0                         [ruble_payment_edit]: [action.save]          \n",
       "1  [layout.headergeneralsbbol3]: [open burger, novelty: true]          \n",
       "2                         [ruble_payment_edit]: [action.save]          "
      ]
     },
     "execution_count": 5,
     "metadata": {},
     "output_type": "execute_result"
    }
   ],
   "source": [
    "clickstream.show(3)"
   ]
  },
  {
   "cell_type": "markdown",
   "metadata": {},
   "source": [
    "###### create item dict "
   ]
  },
  {
   "cell_type": "markdown",
   "metadata": {},
   "source": [
    "Теперь попробуем выделить в качестве целевых событий конкретный продукт"
   ]
  },
  {
   "cell_type": "markdown",
   "metadata": {},
   "source": [
    "###### numeric orders actions "
   ]
  },
  {
   "cell_type": "code",
   "execution_count": 6,
   "metadata": {
    "collapsed": true
   },
   "outputs": [],
   "source": [
    "w_event = Window().orderBy(\"eventAction\", \"eventCategory\", \"hitPagePath\")"
   ]
  },
  {
   "cell_type": "code",
   "execution_count": 7,
   "metadata": {
    "collapsed": true
   },
   "outputs": [],
   "source": [
    "visit_event_id = clickstream.withColumn(\"event_id\", f.rank().over(w_event))"
   ]
  },
  {
   "cell_type": "code",
   "execution_count": 8,
   "metadata": {},
   "outputs": [
    {
     "name": "stdout",
     "output_type": "stream",
     "text": [
      "CPU times: user 27.6 ms, sys: 52.8 ms, total: 80.4 ms\n",
      "Wall time: 3min 43s\n"
     ]
    }
   ],
   "source": [
    "%%time\n",
    "max_event_id = visit_event_id.select(f.max(\"event_id\")).take(1)[0][\"max(event_id)\"]"
   ]
  },
  {
   "cell_type": "code",
   "execution_count": 9,
   "metadata": {
    "collapsed": true
   },
   "outputs": [],
   "source": [
    "w_group = Window().orderBy(\"product\")"
   ]
  },
  {
   "cell_type": "code",
   "execution_count": 10,
   "metadata": {},
   "outputs": [
    {
     "data": {
      "text/plain": [
       "107172215"
      ]
     },
     "execution_count": 10,
     "metadata": {},
     "output_type": "execute_result"
    }
   ],
   "source": [
    "max_event_id"
   ]
  },
  {
   "cell_type": "code",
   "execution_count": 11,
   "metadata": {
    "collapsed": true
   },
   "outputs": [],
   "source": [
    "visit_group_event_id = visit_event_id.withColumn(\"prod_id\", \n",
    "                                                 f.when(~f.col(\"product\").like(\"\"), \n",
    "                                                        max_event_id + f.rank().over(w_group)) \\\n",
    "                                                          .otherwise(None))"
   ]
  },
  {
   "cell_type": "code",
   "execution_count": 12,
   "metadata": {
    "collapsed": true
   },
   "outputs": [],
   "source": [
    "visit_item_id = visit_group_event_id.withColumn(\"item_id\", f.coalesce(\"prod_id\", \"event_id\"))"
   ]
  },
  {
   "cell_type": "code",
   "execution_count": 13,
   "metadata": {},
   "outputs": [
    {
     "name": "stdout",
     "output_type": "stream",
     "text": [
      "CPU times: user 88.7 ms, sys: 116 ms, total: 204 ms\n",
      "Wall time: 9min 31s\n"
     ]
    },
    {
     "data": {
      "text/html": [
       "<div>\n",
       "<style scoped>\n",
       "    .dataframe tbody tr th:only-of-type {\n",
       "        vertical-align: middle;\n",
       "    }\n",
       "\n",
       "    .dataframe tbody tr th {\n",
       "        vertical-align: top;\n",
       "    }\n",
       "\n",
       "    .dataframe thead th {\n",
       "        text-align: right;\n",
       "    }\n",
       "</style>\n",
       "<table border=\"1\" class=\"dataframe\">\n",
       "  <thead>\n",
       "    <tr style=\"text-align: right;\">\n",
       "      <th></th>\n",
       "      <th>inn</th>\n",
       "      <th>timestamp</th>\n",
       "      <th>hitPagePath</th>\n",
       "      <th>hitPageTitle</th>\n",
       "      <th>eventCategory</th>\n",
       "      <th>eventAction</th>\n",
       "      <th>eventLabel</th>\n",
       "      <th>product</th>\n",
       "      <th>event_id</th>\n",
       "      <th>prod_id</th>\n",
       "      <th>item_id</th>\n",
       "    </tr>\n",
       "  </thead>\n",
       "  <tbody>\n",
       "    <tr>\n",
       "      <th>0</th>\n",
       "      <td>3703016641</td>\n",
       "      <td>1623125750</td>\n",
       "      <td>/accounts-payments</td>\n",
       "      <td>СберБизнес - версия: 41.000.04_0005</td>\n",
       "      <td>None</td>\n",
       "      <td>click</td>\n",
       "      <td>/accounts-payments</td>\n",
       "      <td></td>\n",
       "      <td>1</td>\n",
       "      <td>None</td>\n",
       "      <td>1</td>\n",
       "    </tr>\n",
       "    <tr>\n",
       "      <th>1</th>\n",
       "      <td>6379002135</td>\n",
       "      <td>1622454978</td>\n",
       "      <td>/main</td>\n",
       "      <td>СберБизнес</td>\n",
       "      <td>[std]: tasks: payroll</td>\n",
       "      <td>click</td>\n",
       "      <td>[mass sign item - 4]: [action.send]</td>\n",
       "      <td></td>\n",
       "      <td>106569081</td>\n",
       "      <td>None</td>\n",
       "      <td>106569081</td>\n",
       "    </tr>\n",
       "    <tr>\n",
       "      <th>2</th>\n",
       "      <td>7716834257</td>\n",
       "      <td>1623156404</td>\n",
       "      <td>/accounts-payments</td>\n",
       "      <td>СберБизнес - версия: 41.000.04_0005</td>\n",
       "      <td>None</td>\n",
       "      <td>click</td>\n",
       "      <td>/accounts-payments</td>\n",
       "      <td></td>\n",
       "      <td>1</td>\n",
       "      <td>None</td>\n",
       "      <td>1</td>\n",
       "    </tr>\n",
       "  </tbody>\n",
       "</table>\n",
       "</div>"
      ],
      "text/plain": [
       "          inn   timestamp         hitPagePath  \\\n",
       "0  3703016641  1623125750  /accounts-payments   \n",
       "1  6379002135  1622454978               /main   \n",
       "2  7716834257  1623156404  /accounts-payments   \n",
       "\n",
       "                          hitPageTitle          eventCategory eventAction  \\\n",
       "0  СберБизнес - версия: 41.000.04_0005                   None       click   \n",
       "1                           СберБизнес  [std]: tasks: payroll       click   \n",
       "2  СберБизнес - версия: 41.000.04_0005                   None       click   \n",
       "\n",
       "                            eventLabel product   event_id prod_id    item_id  \n",
       "0                   /accounts-payments                  1    None          1  \n",
       "1  [mass sign item - 4]: [action.send]          106569081    None  106569081  \n",
       "2                   /accounts-payments                  1    None          1  "
      ]
     },
     "execution_count": 13,
     "metadata": {},
     "output_type": "execute_result"
    }
   ],
   "source": [
    "%%time\n",
    "visit_item_id.show(3)"
   ]
  },
  {
   "cell_type": "markdown",
   "metadata": {},
   "source": [
    "###### first time action "
   ]
  },
  {
   "cell_type": "code",
   "execution_count": 14,
   "metadata": {
    "collapsed": true
   },
   "outputs": [],
   "source": [
    "visit_item_id = visit_item_id.select(\"inn\",\n",
    "                                     \"timestamp\",\n",
    "                                     \"hitPagePath\",\n",
    "                                     \"eventCategory\",\n",
    "                                     \"eventAction\",\n",
    "                                     \"product\",\n",
    "                                     \"event_id\",\n",
    "                                     \"prod_id\",\n",
    "                                     \"product\",\n",
    "                                     \"item_id\").distinct()"
   ]
  },
  {
   "cell_type": "code",
   "execution_count": 15,
   "metadata": {
    "collapsed": true
   },
   "outputs": [],
   "source": [
    "cols = [f.col(col) for col in visit_item_id.columns if col != \"timestamp\"]"
   ]
  },
  {
   "cell_type": "code",
   "execution_count": 16,
   "metadata": {
    "collapsed": true
   },
   "outputs": [],
   "source": [
    "visit_unique = visit_item_id.groupBy(*cols).agg(f.min(\"timestamp\"))"
   ]
  },
  {
   "cell_type": "code",
   "execution_count": 17,
   "metadata": {},
   "outputs": [
    {
     "data": {
      "text/plain": [
       "DataFrame[inn: string, hitPagePath: string, eventCategory: string, eventAction: string, product: string, event_id: int, prod_id: int, product: string, item_id: int, min(timestamp): bigint]"
      ]
     },
     "execution_count": 17,
     "metadata": {},
     "output_type": "execute_result"
    }
   ],
   "source": [
    "visit_unique.cache()"
   ]
  },
  {
   "cell_type": "markdown",
   "metadata": {},
   "source": [
    "###### create item stats "
   ]
  },
  {
   "cell_type": "code",
   "execution_count": 18,
   "metadata": {},
   "outputs": [
    {
     "name": "stdout",
     "output_type": "stream",
     "text": [
      "CPU times: user 204 ms, sys: 252 ms, total: 457 ms\n",
      "Wall time: 20min 44s\n"
     ]
    },
    {
     "data": {
      "text/html": [
       "<div>\n",
       "<style scoped>\n",
       "    .dataframe tbody tr th:only-of-type {\n",
       "        vertical-align: middle;\n",
       "    }\n",
       "\n",
       "    .dataframe tbody tr th {\n",
       "        vertical-align: top;\n",
       "    }\n",
       "\n",
       "    .dataframe thead th {\n",
       "        text-align: right;\n",
       "    }\n",
       "</style>\n",
       "<table border=\"1\" class=\"dataframe\">\n",
       "  <thead>\n",
       "    <tr style=\"text-align: right;\">\n",
       "      <th></th>\n",
       "      <th>inn</th>\n",
       "      <th>hitPagePath</th>\n",
       "      <th>eventCategory</th>\n",
       "      <th>eventAction</th>\n",
       "      <th>product</th>\n",
       "      <th>event_id</th>\n",
       "      <th>prod_id</th>\n",
       "      <th>product</th>\n",
       "      <th>item_id</th>\n",
       "      <th>min(timestamp)</th>\n",
       "    </tr>\n",
       "  </thead>\n",
       "  <tbody>\n",
       "    <tr>\n",
       "      <th>0</th>\n",
       "      <td>910708469746</td>\n",
       "      <td>/shop/activated-products</td>\n",
       "      <td>[std]: shop</td>\n",
       "      <td>click</td>\n",
       "      <td>accounts_and_payments</td>\n",
       "      <td>105012110</td>\n",
       "      <td>214195630</td>\n",
       "      <td>accounts_and_payments</td>\n",
       "      <td>214195630</td>\n",
       "      <td>1622409050</td>\n",
       "    </tr>\n",
       "    <tr>\n",
       "      <th>1</th>\n",
       "      <td>773574877403</td>\n",
       "      <td>/shop/activated-products</td>\n",
       "      <td>[std]: shop</td>\n",
       "      <td>click</td>\n",
       "      <td>accounts_and_payments</td>\n",
       "      <td>105012110</td>\n",
       "      <td>214195630</td>\n",
       "      <td>accounts_and_payments</td>\n",
       "      <td>214195630</td>\n",
       "      <td>1622411845</td>\n",
       "    </tr>\n",
       "    <tr>\n",
       "      <th>2</th>\n",
       "      <td>781000050331</td>\n",
       "      <td>/shop/activated-products</td>\n",
       "      <td>[std]: shop</td>\n",
       "      <td>click</td>\n",
       "      <td>accounts_and_payments</td>\n",
       "      <td>105012110</td>\n",
       "      <td>214195630</td>\n",
       "      <td>accounts_and_payments</td>\n",
       "      <td>214195630</td>\n",
       "      <td>1622413660</td>\n",
       "    </tr>\n",
       "  </tbody>\n",
       "</table>\n",
       "</div>"
      ],
      "text/plain": [
       "            inn               hitPagePath eventCategory eventAction  \\\n",
       "0  910708469746  /shop/activated-products   [std]: shop       click   \n",
       "1  773574877403  /shop/activated-products   [std]: shop       click   \n",
       "2  781000050331  /shop/activated-products   [std]: shop       click   \n",
       "\n",
       "                 product   event_id    prod_id                product  \\\n",
       "0  accounts_and_payments  105012110  214195630  accounts_and_payments   \n",
       "1  accounts_and_payments  105012110  214195630  accounts_and_payments   \n",
       "2  accounts_and_payments  105012110  214195630  accounts_and_payments   \n",
       "\n",
       "     item_id  min(timestamp)  \n",
       "0  214195630      1622409050  \n",
       "1  214195630      1622411845  \n",
       "2  214195630      1622413660  "
      ]
     },
     "execution_count": 18,
     "metadata": {},
     "output_type": "execute_result"
    }
   ],
   "source": [
    "%%time\n",
    "visit_unique.show(3)"
   ]
  },
  {
   "cell_type": "code",
   "execution_count": 19,
   "metadata": {},
   "outputs": [
    {
     "name": "stdout",
     "output_type": "stream",
     "text": [
      "CPU times: user 2.9 ms, sys: 6.05 ms, total: 8.95 ms\n",
      "Wall time: 1.66 s\n"
     ]
    },
    {
     "data": {
      "text/plain": [
       "15841"
      ]
     },
     "execution_count": 19,
     "metadata": {},
     "output_type": "execute_result"
    }
   ],
   "source": [
    "%%time\n",
    "visit_unique.select(\"item_id\").distinct().count()"
   ]
  },
  {
   "cell_type": "code",
   "execution_count": 20,
   "metadata": {
    "collapsed": true
   },
   "outputs": [],
   "source": [
    "num_of_users = visit_unique.select(\"inn\").distinct().count()"
   ]
  },
  {
   "cell_type": "code",
   "execution_count": 21,
   "metadata": {
    "collapsed": true
   },
   "outputs": [],
   "source": [
    "w_event_stats = Window().partitionBy(\"event_id\")"
   ]
  },
  {
   "cell_type": "code",
   "execution_count": 22,
   "metadata": {
    "collapsed": true
   },
   "outputs": [],
   "source": [
    "visit_event_stats = visit_unique.withColumn(\"event_user_count\", f.count(\"inn\").over(w_event_stats)) \\\n",
    "                                .withColumn(\"event_user_percent\", \n",
    "                                            f.format_number(f.col(\"event_user_count\") / num_of_users * 100, 5) \\\n",
    "                                             .cast(stypes.DoubleType()))"
   ]
  },
  {
   "cell_type": "code",
   "execution_count": 23,
   "metadata": {
    "collapsed": true
   },
   "outputs": [],
   "source": [
    "w_group_stats = Window().partitionBy(\"prod_id\")"
   ]
  },
  {
   "cell_type": "code",
   "execution_count": 24,
   "metadata": {
    "collapsed": true
   },
   "outputs": [],
   "source": [
    "visit_group_stats = visit_event_stats.withColumn(\"prod_user_count\", \n",
    "                                                 f.when(f.col(\"prod_id\").isNotNull(), \n",
    "                                                        f.count(\"inn\").over(w_group_stats))\n",
    "                                                  .otherwise(None))\\\n",
    "                                      .withColumn(\"prod_user_percent\", \n",
    "                                                  f.when(f.col(\"prod_id\").isNotNull(), \n",
    "                                                         f.format_number(f.col(\"prod_user_count\") / num_of_users * 100, 5) \\\n",
    "                                                          .cast(stypes.DoubleType())) \\\n",
    "                                                   .otherwise(None))"
   ]
  },
  {
   "cell_type": "code",
   "execution_count": 25,
   "metadata": {
    "collapsed": true
   },
   "outputs": [],
   "source": [
    "w_item_stats = Window().partitionBy(\"item_id\")"
   ]
  },
  {
   "cell_type": "code",
   "execution_count": 26,
   "metadata": {
    "collapsed": true
   },
   "outputs": [],
   "source": [
    "visit_item_stats = visit_group_stats.withColumn(\"item_user_count\", f.count(\"inn\").over(w_item_stats)) \\\n",
    "                                    .withColumn(\"item_user_percent\", \n",
    "                                                f.format_number(f.col(\"item_user_count\") / num_of_users * 100, 5) \\\n",
    "                                                 .cast(stypes.DoubleType()))"
   ]
  },
  {
   "cell_type": "code",
   "execution_count": 27,
   "metadata": {},
   "outputs": [
    {
     "data": {
      "text/html": [
       "<div>\n",
       "<style scoped>\n",
       "    .dataframe tbody tr th:only-of-type {\n",
       "        vertical-align: middle;\n",
       "    }\n",
       "\n",
       "    .dataframe tbody tr th {\n",
       "        vertical-align: top;\n",
       "    }\n",
       "\n",
       "    .dataframe thead th {\n",
       "        text-align: right;\n",
       "    }\n",
       "</style>\n",
       "<table border=\"1\" class=\"dataframe\">\n",
       "  <thead>\n",
       "    <tr style=\"text-align: right;\">\n",
       "      <th></th>\n",
       "      <th>inn</th>\n",
       "      <th>hitPagePath</th>\n",
       "      <th>eventCategory</th>\n",
       "      <th>eventAction</th>\n",
       "      <th>product</th>\n",
       "      <th>event_id</th>\n",
       "      <th>prod_id</th>\n",
       "      <th>product</th>\n",
       "      <th>item_id</th>\n",
       "      <th>min(timestamp)</th>\n",
       "      <th>event_user_count</th>\n",
       "      <th>event_user_percent</th>\n",
       "      <th>prod_user_count</th>\n",
       "      <th>prod_user_percent</th>\n",
       "      <th>item_user_count</th>\n",
       "      <th>item_user_percent</th>\n",
       "    </tr>\n",
       "  </thead>\n",
       "  <tbody>\n",
       "    <tr>\n",
       "      <th>0</th>\n",
       "      <td>5257197100</td>\n",
       "      <td>/accounts-payments</td>\n",
       "      <td>None</td>\n",
       "      <td>click</td>\n",
       "      <td></td>\n",
       "      <td>1</td>\n",
       "      <td>None</td>\n",
       "      <td></td>\n",
       "      <td>1</td>\n",
       "      <td>1622408895</td>\n",
       "      <td>3710</td>\n",
       "      <td>0.35721</td>\n",
       "      <td>None</td>\n",
       "      <td>None</td>\n",
       "      <td>3710</td>\n",
       "      <td>0.35721</td>\n",
       "    </tr>\n",
       "    <tr>\n",
       "      <th>1</th>\n",
       "      <td>6407003278</td>\n",
       "      <td>/accounts-payments</td>\n",
       "      <td>None</td>\n",
       "      <td>click</td>\n",
       "      <td></td>\n",
       "      <td>1</td>\n",
       "      <td>None</td>\n",
       "      <td></td>\n",
       "      <td>1</td>\n",
       "      <td>1622410033</td>\n",
       "      <td>3710</td>\n",
       "      <td>0.35721</td>\n",
       "      <td>None</td>\n",
       "      <td>None</td>\n",
       "      <td>3710</td>\n",
       "      <td>0.35721</td>\n",
       "    </tr>\n",
       "    <tr>\n",
       "      <th>2</th>\n",
       "      <td>1657033678</td>\n",
       "      <td>/accounts-payments</td>\n",
       "      <td>None</td>\n",
       "      <td>click</td>\n",
       "      <td></td>\n",
       "      <td>1</td>\n",
       "      <td>None</td>\n",
       "      <td></td>\n",
       "      <td>1</td>\n",
       "      <td>1622412259</td>\n",
       "      <td>3710</td>\n",
       "      <td>0.35721</td>\n",
       "      <td>None</td>\n",
       "      <td>None</td>\n",
       "      <td>3710</td>\n",
       "      <td>0.35721</td>\n",
       "    </tr>\n",
       "  </tbody>\n",
       "</table>\n",
       "</div>"
      ],
      "text/plain": [
       "          inn         hitPagePath eventCategory eventAction product  event_id  \\\n",
       "0  5257197100  /accounts-payments          None       click                 1   \n",
       "1  6407003278  /accounts-payments          None       click                 1   \n",
       "2  1657033678  /accounts-payments          None       click                 1   \n",
       "\n",
       "  prod_id product  item_id  min(timestamp)  event_user_count  \\\n",
       "0    None                1      1622408895              3710   \n",
       "1    None                1      1622410033              3710   \n",
       "2    None                1      1622412259              3710   \n",
       "\n",
       "   event_user_percent prod_user_count prod_user_percent  item_user_count  \\\n",
       "0             0.35721            None              None             3710   \n",
       "1             0.35721            None              None             3710   \n",
       "2             0.35721            None              None             3710   \n",
       "\n",
       "   item_user_percent  \n",
       "0            0.35721  \n",
       "1            0.35721  \n",
       "2            0.35721  "
      ]
     },
     "execution_count": 27,
     "metadata": {},
     "output_type": "execute_result"
    }
   ],
   "source": [
    "visit_item_stats.show(3)"
   ]
  },
  {
   "cell_type": "code",
   "execution_count": 28,
   "metadata": {
    "collapsed": true
   },
   "outputs": [],
   "source": [
    "item_dict = item_stats = visit_item_stats.select(\"hitPagePath\", \"eventCategory\", \"eventAction\", \"product\",\n",
    "                               \"event_id\", \"event_user_count\", \"event_user_percent\",\n",
    "                               \"prod_id\", \"prod_user_count\", \"prod_user_percent\",\n",
    "                               \"item_id\", \"item_user_count\", \"item_user_percent\") \\\n",
    "                       .distinct()"
   ]
  },
  {
   "cell_type": "code",
   "execution_count": 29,
   "metadata": {},
   "outputs": [
    {
     "data": {
      "text/html": [
       "<div>\n",
       "<style scoped>\n",
       "    .dataframe tbody tr th:only-of-type {\n",
       "        vertical-align: middle;\n",
       "    }\n",
       "\n",
       "    .dataframe tbody tr th {\n",
       "        vertical-align: top;\n",
       "    }\n",
       "\n",
       "    .dataframe thead th {\n",
       "        text-align: right;\n",
       "    }\n",
       "</style>\n",
       "<table border=\"1\" class=\"dataframe\">\n",
       "  <thead>\n",
       "    <tr style=\"text-align: right;\">\n",
       "      <th></th>\n",
       "      <th>hitPagePath</th>\n",
       "      <th>eventCategory</th>\n",
       "      <th>eventAction</th>\n",
       "      <th>product</th>\n",
       "      <th>event_id</th>\n",
       "      <th>event_user_count</th>\n",
       "      <th>event_user_percent</th>\n",
       "      <th>prod_id</th>\n",
       "      <th>prod_user_count</th>\n",
       "      <th>prod_user_percent</th>\n",
       "      <th>item_id</th>\n",
       "      <th>item_user_count</th>\n",
       "      <th>item_user_percent</th>\n",
       "    </tr>\n",
       "  </thead>\n",
       "  <tbody>\n",
       "    <tr>\n",
       "      <th>0</th>\n",
       "      <td>/accounts-payments</td>\n",
       "      <td>None</td>\n",
       "      <td>click</td>\n",
       "      <td></td>\n",
       "      <td>1</td>\n",
       "      <td>3710</td>\n",
       "      <td>0.35721</td>\n",
       "      <td>None</td>\n",
       "      <td>None</td>\n",
       "      <td>None</td>\n",
       "      <td>1</td>\n",
       "      <td>3710</td>\n",
       "      <td>0.35721</td>\n",
       "    </tr>\n",
       "    <tr>\n",
       "      <th>1</th>\n",
       "      <td>/accounts-payments/RUB_COMM/:id</td>\n",
       "      <td>None</td>\n",
       "      <td>click</td>\n",
       "      <td></td>\n",
       "      <td>9928</td>\n",
       "      <td>1</td>\n",
       "      <td>0.00010</td>\n",
       "      <td>None</td>\n",
       "      <td>None</td>\n",
       "      <td>None</td>\n",
       "      <td>9928</td>\n",
       "      <td>1</td>\n",
       "      <td>0.00010</td>\n",
       "    </tr>\n",
       "    <tr>\n",
       "      <th>2</th>\n",
       "      <td>/accounts-payments/account/:accountId</td>\n",
       "      <td>None</td>\n",
       "      <td>click</td>\n",
       "      <td></td>\n",
       "      <td>9929</td>\n",
       "      <td>5323</td>\n",
       "      <td>0.51251</td>\n",
       "      <td>None</td>\n",
       "      <td>None</td>\n",
       "      <td>None</td>\n",
       "      <td>9929</td>\n",
       "      <td>5323</td>\n",
       "      <td>0.51251</td>\n",
       "    </tr>\n",
       "    <tr>\n",
       "      <th>3</th>\n",
       "      <td>/accounts-payments/orders/sign</td>\n",
       "      <td>None</td>\n",
       "      <td>click</td>\n",
       "      <td></td>\n",
       "      <td>21640</td>\n",
       "      <td>273</td>\n",
       "      <td>0.02629</td>\n",
       "      <td>None</td>\n",
       "      <td>None</td>\n",
       "      <td>None</td>\n",
       "      <td>21640</td>\n",
       "      <td>273</td>\n",
       "      <td>0.02629</td>\n",
       "    </tr>\n",
       "    <tr>\n",
       "      <th>4</th>\n",
       "      <td>/accounts/kartoteka/:id/:cardType</td>\n",
       "      <td>None</td>\n",
       "      <td>click</td>\n",
       "      <td></td>\n",
       "      <td>22121</td>\n",
       "      <td>77</td>\n",
       "      <td>0.00741</td>\n",
       "      <td>None</td>\n",
       "      <td>None</td>\n",
       "      <td>None</td>\n",
       "      <td>22121</td>\n",
       "      <td>77</td>\n",
       "      <td>0.00741</td>\n",
       "    </tr>\n",
       "  </tbody>\n",
       "</table>\n",
       "</div>"
      ],
      "text/plain": [
       "                             hitPagePath eventCategory eventAction product  \\\n",
       "0                     /accounts-payments          None       click           \n",
       "1        /accounts-payments/RUB_COMM/:id          None       click           \n",
       "2  /accounts-payments/account/:accountId          None       click           \n",
       "3         /accounts-payments/orders/sign          None       click           \n",
       "4      /accounts/kartoteka/:id/:cardType          None       click           \n",
       "\n",
       "   event_id  event_user_count  event_user_percent prod_id prod_user_count  \\\n",
       "0         1              3710             0.35721    None            None   \n",
       "1      9928                 1             0.00010    None            None   \n",
       "2      9929              5323             0.51251    None            None   \n",
       "3     21640               273             0.02629    None            None   \n",
       "4     22121                77             0.00741    None            None   \n",
       "\n",
       "  prod_user_percent  item_id  item_user_count  item_user_percent  \n",
       "0              None        1             3710            0.35721  \n",
       "1              None     9928                1            0.00010  \n",
       "2              None     9929             5323            0.51251  \n",
       "3              None    21640              273            0.02629  \n",
       "4              None    22121               77            0.00741  "
      ]
     },
     "execution_count": 29,
     "metadata": {},
     "output_type": "execute_result"
    }
   ],
   "source": [
    "item_dict.show(5)"
   ]
  },
  {
   "cell_type": "code",
   "execution_count": 30,
   "metadata": {},
   "outputs": [
    {
     "data": {
      "text/plain": [
       "16306"
      ]
     },
     "execution_count": 30,
     "metadata": {},
     "output_type": "execute_result"
    }
   ],
   "source": [
    "item_dict.count()"
   ]
  },
  {
   "cell_type": "code",
   "execution_count": null,
   "metadata": {
    "collapsed": true
   },
   "outputs": [],
   "source": []
  },
  {
   "cell_type": "code",
   "execution_count": null,
   "metadata": {
    "collapsed": true
   },
   "outputs": [],
   "source": []
  },
  {
   "cell_type": "code",
   "execution_count": null,
   "metadata": {
    "collapsed": true
   },
   "outputs": [],
   "source": []
  },
  {
   "cell_type": "code",
   "execution_count": null,
   "metadata": {
    "collapsed": true
   },
   "outputs": [],
   "source": []
  },
  {
   "cell_type": "code",
   "execution_count": 31,
   "metadata": {
    "collapsed": true
   },
   "outputs": [],
   "source": [
    "drop_table(SBX_TEAM_DIGITCAMP, RECSYS_STORY_ITEM_DICT, hive)"
   ]
  },
  {
   "cell_type": "code",
   "execution_count": 32,
   "metadata": {},
   "outputs": [
    {
     "name": "stdout",
     "output_type": "stream",
     "text": [
      "CPU times: user 12.3 ms, sys: 15.9 ms, total: 28.2 ms\n",
      "Wall time: 1min 11s\n"
     ]
    }
   ],
   "source": [
    "%%time\n",
    "create_table_from_df(SBX_TEAM_DIGITCAMP, RECSYS_STORY_ITEM_DICT, item_dict, hive)"
   ]
  },
  {
   "cell_type": "code",
   "execution_count": null,
   "metadata": {
    "collapsed": true
   },
   "outputs": [],
   "source": []
  },
  {
   "cell_type": "code",
   "execution_count": null,
   "metadata": {
    "collapsed": true
   },
   "outputs": [],
   "source": []
  },
  {
   "cell_type": "code",
   "execution_count": 3,
   "metadata": {
    "collapsed": true
   },
   "outputs": [],
   "source": [
    "dict_load = load_table(SBX_TEAM_DIGITCAMP, RECSYS_STORY_ITEM_DICT, hive)"
   ]
  },
  {
   "cell_type": "code",
   "execution_count": 4,
   "metadata": {},
   "outputs": [
    {
     "data": {
      "text/plain": [
       "16306"
      ]
     },
     "execution_count": 4,
     "metadata": {},
     "output_type": "execute_result"
    }
   ],
   "source": [
    "dict_load.count()"
   ]
  },
  {
   "cell_type": "code",
   "execution_count": 35,
   "metadata": {},
   "outputs": [
    {
     "data": {
      "text/plain": [
       "110"
      ]
     },
     "execution_count": 35,
     "metadata": {},
     "output_type": "execute_result"
    }
   ],
   "source": [
    "dict_load.select(\"product\", \"item_id\", \"item_user_count\", \"item_user_percent\").distinct().filter(\"product <> ''\").count()"
   ]
  },
  {
   "cell_type": "code",
   "execution_count": 10,
   "metadata": {
    "collapsed": true
   },
   "outputs": [],
   "source": [
    "product_list = ['leasing',\n",
    "                'guarantee',\n",
    "                'rabota_ru',\n",
    "                'merchant-acquiring',\n",
    "                'zarplata',\n",
    "                'korpkarta',\n",
    "                'two_gis',\n",
    "                'evotor',\n",
    "                'e-acquiring'\n",
    "                'mybuch',\n",
    "                'sberrating',\n",
    "                'credit_card',\n",
    "                'mybuch_online_ip',\n",
    "                'lyurist',\n",
    "                'kredit',\n",
    "                'bip']"
   ]
  },
  {
   "cell_type": "code",
   "execution_count": 11,
   "metadata": {},
   "outputs": [
    {
     "data": {
      "text/plain": [
       "['leasing',\n",
       " 'guarantee',\n",
       " 'rabota_ru',\n",
       " 'merchant-acquiring',\n",
       " 'zarplata',\n",
       " 'korpkarta',\n",
       " 'two_gis',\n",
       " 'evotor',\n",
       " 'e-acquiringmybuch',\n",
       " 'sberrating',\n",
       " 'credit_card',\n",
       " 'mybuch_online_ip',\n",
       " 'lyurist',\n",
       " 'kredit',\n",
       " 'bip']"
      ]
     },
     "execution_count": 11,
     "metadata": {},
     "output_type": "execute_result"
    }
   ],
   "source": [
    "product_list"
   ]
  },
  {
   "cell_type": "code",
   "execution_count": 12,
   "metadata": {},
   "outputs": [
    {
     "data": {
      "text/html": [
       "<div>\n",
       "<style scoped>\n",
       "    .dataframe tbody tr th:only-of-type {\n",
       "        vertical-align: middle;\n",
       "    }\n",
       "\n",
       "    .dataframe tbody tr th {\n",
       "        vertical-align: top;\n",
       "    }\n",
       "\n",
       "    .dataframe thead th {\n",
       "        text-align: right;\n",
       "    }\n",
       "</style>\n",
       "<table border=\"1\" class=\"dataframe\">\n",
       "  <thead>\n",
       "    <tr style=\"text-align: right;\">\n",
       "      <th></th>\n",
       "      <th>product</th>\n",
       "      <th>item_id</th>\n",
       "      <th>item_user_count</th>\n",
       "      <th>item_user_percent</th>\n",
       "    </tr>\n",
       "  </thead>\n",
       "  <tbody>\n",
       "    <tr>\n",
       "      <th>0</th>\n",
       "      <td>kredit</td>\n",
       "      <td>214230946</td>\n",
       "      <td>5203</td>\n",
       "      <td>0.50096</td>\n",
       "    </tr>\n",
       "    <tr>\n",
       "      <th>1</th>\n",
       "      <td>merchant-acquiring</td>\n",
       "      <td>214243813</td>\n",
       "      <td>4480</td>\n",
       "      <td>0.43135</td>\n",
       "    </tr>\n",
       "    <tr>\n",
       "      <th>2</th>\n",
       "      <td>zarplata</td>\n",
       "      <td>214338729</td>\n",
       "      <td>3718</td>\n",
       "      <td>0.35798</td>\n",
       "    </tr>\n",
       "    <tr>\n",
       "      <th>3</th>\n",
       "      <td>rabota_ru</td>\n",
       "      <td>214300159</td>\n",
       "      <td>2849</td>\n",
       "      <td>0.27431</td>\n",
       "    </tr>\n",
       "    <tr>\n",
       "      <th>4</th>\n",
       "      <td>sberrating</td>\n",
       "      <td>214314599</td>\n",
       "      <td>2606</td>\n",
       "      <td>0.25091</td>\n",
       "    </tr>\n",
       "    <tr>\n",
       "      <th>5</th>\n",
       "      <td>lyurist</td>\n",
       "      <td>214240895</td>\n",
       "      <td>2362</td>\n",
       "      <td>0.22742</td>\n",
       "    </tr>\n",
       "    <tr>\n",
       "      <th>6</th>\n",
       "      <td>credit_card</td>\n",
       "      <td>214204148</td>\n",
       "      <td>2303</td>\n",
       "      <td>0.22174</td>\n",
       "    </tr>\n",
       "    <tr>\n",
       "      <th>7</th>\n",
       "      <td>korpkarta</td>\n",
       "      <td>214228698</td>\n",
       "      <td>1802</td>\n",
       "      <td>0.17350</td>\n",
       "    </tr>\n",
       "    <tr>\n",
       "      <th>8</th>\n",
       "      <td>bip</td>\n",
       "      <td>214198011</td>\n",
       "      <td>1433</td>\n",
       "      <td>0.13797</td>\n",
       "    </tr>\n",
       "    <tr>\n",
       "      <th>9</th>\n",
       "      <td>evotor</td>\n",
       "      <td>214224178</td>\n",
       "      <td>823</td>\n",
       "      <td>0.07924</td>\n",
       "    </tr>\n",
       "    <tr>\n",
       "      <th>10</th>\n",
       "      <td>leasing</td>\n",
       "      <td>214238693</td>\n",
       "      <td>449</td>\n",
       "      <td>0.04323</td>\n",
       "    </tr>\n",
       "    <tr>\n",
       "      <th>11</th>\n",
       "      <td>guarantee</td>\n",
       "      <td>214226594</td>\n",
       "      <td>349</td>\n",
       "      <td>0.03360</td>\n",
       "    </tr>\n",
       "    <tr>\n",
       "      <th>12</th>\n",
       "      <td>two_gis</td>\n",
       "      <td>214337742</td>\n",
       "      <td>308</td>\n",
       "      <td>0.02966</td>\n",
       "    </tr>\n",
       "    <tr>\n",
       "      <th>13</th>\n",
       "      <td>mybuch_online_ip</td>\n",
       "      <td>214250791</td>\n",
       "      <td>296</td>\n",
       "      <td>0.02850</td>\n",
       "    </tr>\n",
       "  </tbody>\n",
       "</table>\n",
       "</div>"
      ],
      "text/plain": [
       "               product    item_id  item_user_count  item_user_percent\n",
       "0               kredit  214230946             5203            0.50096\n",
       "1   merchant-acquiring  214243813             4480            0.43135\n",
       "2             zarplata  214338729             3718            0.35798\n",
       "3            rabota_ru  214300159             2849            0.27431\n",
       "4           sberrating  214314599             2606            0.25091\n",
       "5              lyurist  214240895             2362            0.22742\n",
       "6          credit_card  214204148             2303            0.22174\n",
       "7            korpkarta  214228698             1802            0.17350\n",
       "8                  bip  214198011             1433            0.13797\n",
       "9               evotor  214224178              823            0.07924\n",
       "10             leasing  214238693              449            0.04323\n",
       "11           guarantee  214226594              349            0.03360\n",
       "12             two_gis  214337742              308            0.02966\n",
       "13    mybuch_online_ip  214250791              296            0.02850"
      ]
     },
     "execution_count": 12,
     "metadata": {},
     "output_type": "execute_result"
    }
   ],
   "source": [
    "dict_load.select(\"product\", \"item_id\", \"item_user_count\", \"item_user_percent\")\\\n",
    "          .distinct()\\\n",
    "          .orderBy(f.col(\"item_user_count\").desc())\\\n",
    "          .filter(\"product <> ''\")\\\n",
    "          .filter(f.col(\"product\").isin(product_list))\\\n",
    "          .show(110)"
   ]
  },
  {
   "cell_type": "code",
   "execution_count": 5,
   "metadata": {},
   "outputs": [
    {
     "data": {
      "text/html": [
       "<div>\n",
       "<style scoped>\n",
       "    .dataframe tbody tr th:only-of-type {\n",
       "        vertical-align: middle;\n",
       "    }\n",
       "\n",
       "    .dataframe tbody tr th {\n",
       "        vertical-align: top;\n",
       "    }\n",
       "\n",
       "    .dataframe thead th {\n",
       "        text-align: right;\n",
       "    }\n",
       "</style>\n",
       "<table border=\"1\" class=\"dataframe\">\n",
       "  <thead>\n",
       "    <tr style=\"text-align: right;\">\n",
       "      <th></th>\n",
       "      <th>hitPagePath</th>\n",
       "      <th>eventCategory</th>\n",
       "      <th>eventAction</th>\n",
       "      <th>product</th>\n",
       "      <th>event_id</th>\n",
       "      <th>event_user_count</th>\n",
       "      <th>event_user_percent</th>\n",
       "      <th>prod_id</th>\n",
       "      <th>prod_user_count</th>\n",
       "      <th>prod_user_percent</th>\n",
       "      <th>item_id</th>\n",
       "      <th>item_user_count</th>\n",
       "      <th>item_user_percent</th>\n",
       "    </tr>\n",
       "  </thead>\n",
       "  <tbody>\n",
       "    <tr>\n",
       "      <th>0</th>\n",
       "      <td>/spasibo-business</td>\n",
       "      <td>[std]: shop</td>\n",
       "      <td>click</td>\n",
       "      <td>bip</td>\n",
       "      <td>105110253</td>\n",
       "      <td>193</td>\n",
       "      <td>0.01858</td>\n",
       "      <td>214198011</td>\n",
       "      <td>1433</td>\n",
       "      <td>0.13797</td>\n",
       "      <td>214198011</td>\n",
       "      <td>1433</td>\n",
       "      <td>0.13797</td>\n",
       "    </tr>\n",
       "    <tr>\n",
       "      <th>1</th>\n",
       "      <td>/shop/activated-products</td>\n",
       "      <td>[std]: shop</td>\n",
       "      <td>click</td>\n",
       "      <td>bip</td>\n",
       "      <td>105012110</td>\n",
       "      <td>9875</td>\n",
       "      <td>0.95079</td>\n",
       "      <td>214198011</td>\n",
       "      <td>1433</td>\n",
       "      <td>0.13797</td>\n",
       "      <td>214198011</td>\n",
       "      <td>1433</td>\n",
       "      <td>0.13797</td>\n",
       "    </tr>\n",
       "    <tr>\n",
       "      <th>2</th>\n",
       "      <td>/guest-area</td>\n",
       "      <td>[std]: shop</td>\n",
       "      <td>click</td>\n",
       "      <td>bip</td>\n",
       "      <td>104965194</td>\n",
       "      <td>667</td>\n",
       "      <td>0.06422</td>\n",
       "      <td>214198011</td>\n",
       "      <td>1433</td>\n",
       "      <td>0.13797</td>\n",
       "      <td>214198011</td>\n",
       "      <td>1433</td>\n",
       "      <td>0.13797</td>\n",
       "    </tr>\n",
       "    <tr>\n",
       "      <th>3</th>\n",
       "      <td>/shop/all-products</td>\n",
       "      <td>[std]: shop</td>\n",
       "      <td>click</td>\n",
       "      <td>bip</td>\n",
       "      <td>105028375</td>\n",
       "      <td>43083</td>\n",
       "      <td>4.14814</td>\n",
       "      <td>214198011</td>\n",
       "      <td>1433</td>\n",
       "      <td>0.13797</td>\n",
       "      <td>214198011</td>\n",
       "      <td>1433</td>\n",
       "      <td>0.13797</td>\n",
       "    </tr>\n",
       "    <tr>\n",
       "      <th>4</th>\n",
       "      <td>/main</td>\n",
       "      <td>[operations]: offers</td>\n",
       "      <td>open card</td>\n",
       "      <td>bip</td>\n",
       "      <td>107108535</td>\n",
       "      <td>40477</td>\n",
       "      <td>3.89723</td>\n",
       "      <td>214198011</td>\n",
       "      <td>1433</td>\n",
       "      <td>0.13797</td>\n",
       "      <td>214198011</td>\n",
       "      <td>1433</td>\n",
       "      <td>0.13797</td>\n",
       "    </tr>\n",
       "  </tbody>\n",
       "</table>\n",
       "</div>"
      ],
      "text/plain": [
       "                hitPagePath         eventCategory eventAction product  \\\n",
       "0         /spasibo-business           [std]: shop       click     bip   \n",
       "1  /shop/activated-products           [std]: shop       click     bip   \n",
       "2               /guest-area           [std]: shop       click     bip   \n",
       "3        /shop/all-products           [std]: shop       click     bip   \n",
       "4                     /main  [operations]: offers   open card     bip   \n",
       "\n",
       "    event_id  event_user_count  event_user_percent    prod_id  \\\n",
       "0  105110253               193             0.01858  214198011   \n",
       "1  105012110              9875             0.95079  214198011   \n",
       "2  104965194               667             0.06422  214198011   \n",
       "3  105028375             43083             4.14814  214198011   \n",
       "4  107108535             40477             3.89723  214198011   \n",
       "\n",
       "   prod_user_count  prod_user_percent    item_id  item_user_count  \\\n",
       "0             1433            0.13797  214198011             1433   \n",
       "1             1433            0.13797  214198011             1433   \n",
       "2             1433            0.13797  214198011             1433   \n",
       "3             1433            0.13797  214198011             1433   \n",
       "4             1433            0.13797  214198011             1433   \n",
       "\n",
       "   item_user_percent  \n",
       "0            0.13797  \n",
       "1            0.13797  \n",
       "2            0.13797  \n",
       "3            0.13797  \n",
       "4            0.13797  "
      ]
     },
     "execution_count": 5,
     "metadata": {},
     "output_type": "execute_result"
    }
   ],
   "source": [
    "dict_load.filter('product like \"%bip%\"').show()"
   ]
  },
  {
   "cell_type": "code",
   "execution_count": null,
   "metadata": {
    "collapsed": true
   },
   "outputs": [],
   "source": []
  }
 ],
 "metadata": {
  "kernelspec": {
   "display_name": "Python 3",
   "language": "python",
   "name": "python3"
  },
  "language_info": {
   "codemirror_mode": {
    "name": "ipython",
    "version": 3
   },
   "file_extension": ".py",
   "mimetype": "text/x-python",
   "name": "python",
   "nbconvert_exporter": "python",
   "pygments_lexer": "ipython3",
   "version": "3.5.3"
  }
 },
 "nbformat": 4,
 "nbformat_minor": 2
}
