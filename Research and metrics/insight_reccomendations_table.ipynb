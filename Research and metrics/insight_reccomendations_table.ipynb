{
 "cells": [
  {
   "cell_type": "code",
   "execution_count": 1,
   "metadata": {
    "collapsed": true,
    "jupyter": {
     "outputs_hidden": true
    }
   },
   "outputs": [],
   "source": [
    "import os, sys\n",
    "\n",
    "recsys_cf = os.environ.get(\"RECSYS_STORY\")\n",
    "sys.path.append(recsys_cf)\n",
    "os.chdir(recsys_cf)\n",
    "\n",
    "from lib.tools import *"
   ]
  },
  {
   "cell_type": "markdown",
   "metadata": {},
   "source": [
    "### SPARK "
   ]
  },
  {
   "cell_type": "code",
   "execution_count": 2,
   "metadata": {
    "collapsed": true,
    "jupyter": {
     "outputs_hidden": true
    }
   },
   "outputs": [],
   "source": [
    "sp = spark(**SPARK_CONFIG)\n",
    "hive = sp.sql"
   ]
  },
  {
   "cell_type": "code",
   "execution_count": 6,
   "metadata": {
    "collapsed": true,
    "jupyter": {
     "outputs_hidden": true
    }
   },
   "outputs": [],
   "source": [
    "# %%time\n",
    "# insight_table = load_table(\"sbx_t_team_cvm\", 'ma_mmb_insight', hive).cache()"
   ]
  },
  {
   "cell_type": "code",
   "execution_count": 3,
   "metadata": {},
   "outputs": [
    {
     "name": "stdout",
     "output_type": "stream",
     "text": [
      "CPU times: user 2.83 ms, sys: 3.45 ms, total: 6.28 ms\n",
      "Wall time: 3.19 s\n"
     ]
    }
   ],
   "source": [
    "%%time\n",
    "insight_table = load_table(SBX_TEAM_DIGITCAMP, \"sbx_t_team_cvm_ma_mmb_insight_tmp\", hive).cache()"
   ]
  },
  {
   "cell_type": "code",
   "execution_count": 4,
   "metadata": {},
   "outputs": [
    {
     "name": "stdout",
     "output_type": "stream",
     "text": [
      "CPU times: user 77.1 ms, sys: 97.8 ms, total: 175 ms\n",
      "Wall time: 8min 57s\n"
     ]
    },
    {
     "data": {
      "text/plain": [
       "38068405"
      ]
     },
     "execution_count": 4,
     "metadata": {},
     "output_type": "execute_result"
    }
   ],
   "source": [
    "%%time\n",
    "insight_table.count()"
   ]
  },
  {
   "cell_type": "code",
   "execution_count": null,
   "metadata": {},
   "outputs": [],
   "source": [
    "insight_table.show()"
   ]
  },
  {
   "cell_type": "code",
   "execution_count": 7,
   "metadata": {
    "scrolled": true
   },
   "outputs": [
    {
     "data": {
      "text/plain": [
       "['INSIGHT_ID',\n",
       " 'INN',\n",
       " 'SOURCE_CD',\n",
       " 'CREATION_DTTM',\n",
       " 'INSIGHT_START_DT',\n",
       " 'INSIGHT_END_DT',\n",
       " 'SCORE_VAL',\n",
       " 'INSIGHT_DESC',\n",
       " 'ACTIVITY_TYPE_CD',\n",
       " 'REASON',\n",
       " 'SRC_ID',\n",
       " 'CKR',\n",
       " 'MS',\n",
       " 'MKK',\n",
       " 'SBBOL',\n",
       " 'PRODUCT_ID',\n",
       " 'GKM',\n",
       " 'SAS_DYN_PAR_ID',\n",
       " 'DYN_FLG',\n",
       " 'sources_lv2_cd']"
      ]
     },
     "execution_count": 7,
     "metadata": {},
     "output_type": "execute_result"
    }
   ],
   "source": [
    "insight_table.columns"
   ]
  },
  {
   "cell_type": "code",
   "execution_count": 14,
   "metadata": {},
   "outputs": [
    {
     "data": {
      "text/plain": [
       "36578700"
      ]
     },
     "execution_count": 14,
     "metadata": {},
     "output_type": "execute_result"
    }
   ],
   "source": [
    "insight_table.select('INN',\n",
    "                     'sources_lv2_cd',\n",
    "                     f.to_date('CREATION_DTTM').alias('CREATE_DATE'),\n",
    "                     'SCORE_VAL',\n",
    "                     'PRODUCT_ID'\n",
    "                    )\\\n",
    "             .groupBy(\"INN\", \"PRODUCT_ID\", \"CREATE_DATE\").agg(f.collect_set('sources_lv2_cd').alias(\"source_list\"),\n",
    "                                                              f.mean('SCORE_VAL').alias(\"SCORE\")).count()"
   ]
  },
  {
   "cell_type": "code",
   "execution_count": null,
   "metadata": {},
   "outputs": [],
   "source": [
    "insight_table.select('INN',\n",
    "                     'sources_lv2_cd',\n",
    "                     f.to_date('CREATION_DTTM').alias('CREATE_DATE'),\n",
    "                     'SCORE_VAL',\n",
    "                     'PRODUCT_ID'\n",
    "                    )\\\n",
    "             .groupBy(\"INN\", \"PRODUCT_ID\", \"CREATE_DATE\").agg(f.collect_set('sources_lv2_cd').alias(\"source_list\"),\n",
    "                                                              f.mean('SCORE_VAL').alias(\"SCORE\")).show()"
   ]
  },
  {
   "cell_type": "markdown",
   "metadata": {},
   "source": [
    "cid sbbol inn"
   ]
  },
  {
   "cell_type": "code",
   "execution_count": 32,
   "metadata": {
    "collapsed": true,
    "jupyter": {
     "outputs_hidden": true
    }
   },
   "outputs": [],
   "source": [
    "cid_sbbol = load_table(SBX_TEAM_DIGITCAMP, \"GA_CID_SBBOL_INN\" , hive).cache()"
   ]
  },
  {
   "cell_type": "code",
   "execution_count": null,
   "metadata": {},
   "outputs": [],
   "source": [
    "cid_sbbol.show()"
   ]
  },
  {
   "cell_type": "code",
   "execution_count": 34,
   "metadata": {},
   "outputs": [
    {
     "data": {
      "text/html": [
       "<div>\n",
       "<style scoped>\n",
       "    .dataframe tbody tr th:only-of-type {\n",
       "        vertical-align: middle;\n",
       "    }\n",
       "\n",
       "    .dataframe tbody tr th {\n",
       "        vertical-align: top;\n",
       "    }\n",
       "\n",
       "    .dataframe thead th {\n",
       "        text-align: right;\n",
       "    }\n",
       "</style>\n",
       "<table border=\"1\" class=\"dataframe\">\n",
       "  <thead>\n",
       "    <tr style=\"text-align: right;\">\n",
       "      <th></th>\n",
       "      <th>max(load_dt)</th>\n",
       "    </tr>\n",
       "  </thead>\n",
       "  <tbody>\n",
       "    <tr>\n",
       "      <th>0</th>\n",
       "      <td>2021-05-14</td>\n",
       "    </tr>\n",
       "  </tbody>\n",
       "</table>\n",
       "</div>"
      ],
      "text/plain": [
       "  max(load_dt)\n",
       "0   2021-05-14"
      ]
     },
     "execution_count": 34,
     "metadata": {},
     "output_type": "execute_result"
    }
   ],
   "source": [
    "cid_sbbol.select(f.max('load_dt')).show()"
   ]
  },
  {
   "cell_type": "code",
   "execution_count": 35,
   "metadata": {},
   "outputs": [
    {
     "name": "stdout",
     "output_type": "stream",
     "text": [
      "CPU times: user 2.98 ms, sys: 831 µs, total: 3.81 ms\n",
      "Wall time: 1.83 s\n"
     ]
    },
    {
     "data": {
      "text/plain": [
       "497054980"
      ]
     },
     "execution_count": 35,
     "metadata": {},
     "output_type": "execute_result"
    }
   ],
   "source": [
    "%%time\n",
    "cid_sbbol.count()"
   ]
  },
  {
   "cell_type": "code",
   "execution_count": null,
   "metadata": {},
   "outputs": [],
   "source": [
    "cid_sbbol.select('cu_inn', 'load_dt')\\\n",
    "         .groupBy('load_dt').agg(f.count('cu_inn'))\\\n",
    "         .orderBy(f.col('load_dt').desc())\\\n",
    "         .show(30)"
   ]
  },
  {
   "cell_type": "code",
   "execution_count": null,
   "metadata": {},
   "outputs": [],
   "source": [
    "load_table(SBX_TEAM_DIGITCAMP, 'MA_CUSTOMER_COOKIE_MAP', hive).show()"
   ]
  },
  {
   "cell_type": "code",
   "execution_count": 36,
   "metadata": {
    "collapsed": true,
    "jupyter": {
     "outputs_hidden": true
    }
   },
   "outputs": [],
   "source": [
    "cookie = load_table(SBX_TEAM_DIGITCAMP, 'MA_CUSTOMER_COOKIE_MAP', hive).cache()"
   ]
  },
  {
   "cell_type": "code",
   "execution_count": 37,
   "metadata": {},
   "outputs": [
    {
     "data": {
      "text/html": [
       "<div>\n",
       "<style scoped>\n",
       "    .dataframe tbody tr th:only-of-type {\n",
       "        vertical-align: middle;\n",
       "    }\n",
       "\n",
       "    .dataframe tbody tr th {\n",
       "        vertical-align: top;\n",
       "    }\n",
       "\n",
       "    .dataframe thead th {\n",
       "        text-align: right;\n",
       "    }\n",
       "</style>\n",
       "<table border=\"1\" class=\"dataframe\">\n",
       "  <thead>\n",
       "    <tr style=\"text-align: right;\">\n",
       "      <th></th>\n",
       "      <th>max(SRC_UPDATE_DTTM)</th>\n",
       "    </tr>\n",
       "  </thead>\n",
       "  <tbody>\n",
       "    <tr>\n",
       "      <th>0</th>\n",
       "      <td>2021-08-21</td>\n",
       "    </tr>\n",
       "  </tbody>\n",
       "</table>\n",
       "</div>"
      ],
      "text/plain": [
       "  max(SRC_UPDATE_DTTM)\n",
       "0           2021-08-21"
      ]
     },
     "execution_count": 37,
     "metadata": {},
     "output_type": "execute_result"
    }
   ],
   "source": [
    "cookie.select(f.max('SRC_UPDATE_DTTM')).show()"
   ]
  },
  {
   "cell_type": "code",
   "execution_count": 38,
   "metadata": {
    "collapsed": true,
    "jupyter": {
     "outputs_hidden": true
    }
   },
   "outputs": [],
   "source": [
    "customer = load_table(SBX_TEAM_DIGITCAMP, 'GA_MA_CUSTOMER_SBBOL', hive).cache()"
   ]
  },
  {
   "cell_type": "code",
   "execution_count": null,
   "metadata": {},
   "outputs": [],
   "source": [
    "customer.show()"
   ]
  },
  {
   "cell_type": "code",
   "execution_count": 50,
   "metadata": {
    "collapsed": true,
    "jupyter": {
     "outputs_hidden": true
    }
   },
   "outputs": [],
   "source": [
    "################################## Resourses ##################################\n",
    "\n",
    "#####################################################################\n",
    "SBX_TEAM_DIGITCAMP = 'sbx_team_digitcamp'\n",
    "##-----------------------------------------------------------------##\n",
    "INTERNAL_PANHASH_COOKIES = \"internal_panhash_cookies\"\n",
    "URLS_TO_PARSE_FOR_BUSINESS = \"urls_to_parse_for_business\"\n",
    "\n",
    "ALL_COOKIES = \"all_cookies\"\n",
    "\n",
    "MA_PRODUCT_DICT = 'ma_product_dict'\n",
    "MA_CMDM_MA_DEAL = \"ma_cmdm_ma_deal_new\"\n",
    "MA_MMB_OFFER_NONTOP = \"ma_mmb_offer_nontop\"\n",
    "\n",
    "MW_ATB_SEGMEN_PROD_GROUP = \"MW_ATB_SEGMEN_PROD_GROUP\"\n",
    "\n",
    "OFFER_PRIORITY = \"offer_priority\"\n",
    "\n",
    "GA_CID_SBBOL_INN = \"ga_cid_sbbol_inn\"\n",
    "GA_ALL_SCENARIOS_HIST = 'ga_all_scenarios_hist'\n",
    "GA_ALL_SCENARIOS_STATS = \"ga_all_scenarios_stats\"\n",
    "GA_SITE_ALL_PRODS = \"GA_SITE_ALL_PRODS_SLICE\"\n",
    "\n",
    "TMP_VISIT_PART = 'tmp_visit_part'\n",
    "TMP_TEST_VISIT_PART = 'TMP_VISIT_PART'\n",
    "TMP_EXC_COPY_TABLE = \"tmp_exc_copy_table\"\n",
    "TMP_SITE_ALL_PRODS_INTERMEDIATE = \"TMP_SITE_ALL_PRODS_INTERMEDIATE\"\n",
    "\n",
    "UNIFIED_CUSTOMER = 'UNIFIED_CUSTOMER'\n",
    "GA_MA_CUSTOMER_SBBOL = \"GA_MA_CUSTOMER_SBBOL\"\n",
    "GA_MA_USER_PROFILE_SBBOL = \"GA_MA_USER_PROFILE_SBBOL\"\n",
    "MA_CUSTOMER_COOKIE_MAP = \"MA_CUSTOMER_COOKIE_MAP\"\n",
    "#####################################################################\n",
    "\n",
    "#####################################################################\n",
    "PROXY_GOOGLE_ANALYTICS =\"prx_google_analytics_part_external_google_analytics\"\n",
    "SKLOD_EXTERNAL_GOOGLE_ANALYTICS = \"sklod_external_google_analytics\"\n",
    "CAP_DDA_GOOGLE_ANALYTICS = \"cap_external_google_dda_external_google_analytics\"\n",
    "##-----------------------------------------------------------------##\n",
    "VISIT = 'visit'\n",
    "#####################################################################\n",
    "\n",
    "#####################################################################\n",
    "SKLOD_EXTERNAL_CLICKSTREAM = \"sklod_external_clickstream\"\n",
    "##-----------------------------------------------------------------##\n",
    "CLICKSTREAM = 'clickstream'\n",
    "#####################################################################\n",
    "\n",
    "#####################################################################\n",
    "SKLOD_NRT_SBBOL_CLICKSTREAM = \"sklod_nrt_sbbol_clickstream\"\n",
    "##-----------------------------------------------------------------##\n",
    "SBBOL_EVENTS = 'sbbol_events'\n",
    "SBBOL_EVENTS_DELTA = 'sbbol_events_delta'\n",
    "#####################################################################\n",
    "\n",
    "################################## Iskra ##################################\n",
    "ISKRA = 'iskra4'\n",
    "##-----------------------------------------------------------------##\n",
    "ISKRA_LOGIN = 'tech_iskra[iskra]'\n",
    "ISKRA_PASS = 'Uthvfy123'\n",
    "##-----------------------------------------------------------------##\n",
    "ISKRA_BATCH_SIZE = 700000\n",
    "#####################################################################\n",
    "\n",
    "################################## ScenarioBase Data ##################################\n",
    "SLICE_JSON_FILE = 'dates/slice.json'\n",
    "SCENARIOS_JSON_FILE = 'dates/scenarios.json'\n",
    "##-----------------------------------------------------------------##\n",
    "TEST_MIN_CTL_LOADING_DEFAULT = 3709530\n",
    "TEST_MAX_CTL_LOADING_DEFAULT = 3709946\n",
    "#####################################################################\n",
    "\n",
    "################################## SourcesUpdate Data ##################################\n",
    "UNIFIED_CUSTOMER_JSON_FILE = 'dates/unified_customer.json'\n",
    "SOURCES_JSON_FILE = 'dates/sources.json'\n",
    "##-----------------------------------------------------------------##\n",
    "REWRITABLE_SOURCES_LIST = [\n",
    "    #'MA_MMB_OFFER_NONTOP' ,\n",
    "    'UNIFIED_CUSTOMER', #error\n",
    "    'MA_CUSTOMER_COOKIE_MAP',\n",
    "    'GA_MA_CUSTOMER_SBBOL', #error\n",
    "    'GA_MA_USER_PROFILE_SBBOL',\n",
    "    'MA_PRODUCT_DICT',\n",
    "]\n",
    "##-----------------------------------------------------------------##\n",
    "UPDATABLE_SOURCES_LIST = [\n",
    "    #'OFFER_PRIORITY',\n",
    "    #'MA_CMDM_MA_DEAL'\n",
    "]\n",
    "\n",
    "DATE_COLUMN_IN_UPDATABLE_SOURCES = {\n",
    "    'OFFER_PRIORITY': \"load_dttm\",\n",
    "    #'MA_CMDM_MA_DEAL': \"create_dt\"\n",
    "}\n",
    "##-----------------------------------------------------------------##\n",
    "FREQUNCY_0F_UPDATES = {\n",
    "    'UNIFIED_CUSTOMER' : 3,\n",
    "    'MA_CUSTOMER_COOKIE_MAP' : 3,\n",
    "    'GA_MA_CUSTOMER_SBBOL' : 3,\n",
    "    'GA_MA_USER_PROFILE_SBBOL' : 3,\n",
    "    'MA_MMB_OFFER_NONTOP' : 3,\n",
    "    'MA_PRODUCT_DICT' : 3,\n",
    "    'OFFER_PRIORITY' : 3,\n",
    "    'MA_CMDM_MA_DEAL' : 3\n",
    "}\n",
    "#####################################################################\n",
    "\n",
    "################################## ScenarioStats Data ##################################\n",
    "EMAIL_LIST_FILE = \"mail_settings/mail_list.txt\"\n",
    "TEST_EMAIL_LIST_FILE = \"mail_settings/test_mail_list.txt\"\n",
    "EMAIL_SETTINGS_FILE = \"mail_settings/mail_settings.txt\"\n",
    "##-----------------------------------------------------------------##\n",
    "ALL_SCENARIOS = [\n",
    "    'STORIES_01',\n",
    "    'DEPOSIT_01',\n",
    "    'CREDIT_01',\n",
    "    'WTA_SITE_NBS',\n",
    "    'PREMIUMCARD_02',\n",
    "    'HELP_SBBOL',\n",
    "    'LETTERSOFCREDIT_01',\n",
    "    'CORPCARD_01',\n",
    "    'PREMIUMCARDMASTER_02',\n",
    "    'DIGITALCARD_02',\n",
    "    'CORPCARD_02',\n",
    "    'DIGITALCARD_01',\n",
    "    'PREMIUMCARDMASTER_01',\n",
    "    'BUSINESS_CARD_01',\n",
    "    'SITEALLPRODAGG_01',\n",
    "    'SHOP_01',\n",
    "    'PREMIUMCARD_01',\n",
    "    'ACQUIRING_01',\n",
    "    'CASHORDER_01',\n",
    "    'ENCASHMENT_01',\n",
    "    'COLLINSUR_ONLINE',\n",
    "    'COLLINSUR_OTHER',\n",
    "    'COLLINSUR_ALREADY']\n",
    "#####################################################################\n"
   ]
  },
  {
   "cell_type": "code",
   "execution_count": 48,
   "metadata": {
    "collapsed": true,
    "jupyter": {
     "outputs_hidden": true
    }
   },
   "outputs": [],
   "source": [
    "import os, sys\n",
    "dlg = os.environ.get(\"DLG_CLICKSTREAM\")\n",
    "sys.path.insert(0, dlg)\n",
    "os.chdir(dlg)\n",
    "\n"
   ]
  },
  {
   "cell_type": "code",
   "execution_count": 47,
   "metadata": {
    "collapsed": true,
    "jupyter": {
     "outputs_hidden": true
    }
   },
   "outputs": [],
   "source": [
    "from lib.tools import *"
   ]
  },
  {
   "cell_type": "code",
   "execution_count": 49,
   "metadata": {},
   "outputs": [
    {
     "data": {
      "text/plain": [
       "'/home/shubochkin1-ei_ca-sbrf-ru/notebooks/DLG_clickstream'"
      ]
     },
     "execution_count": 49,
     "metadata": {},
     "output_type": "execute_result"
    }
   ],
   "source": [
    "JS"
   ]
  },
  {
   "cell_type": "code",
   "execution_count": 51,
   "metadata": {
    "collapsed": true,
    "jupyter": {
     "outputs_hidden": true
    }
   },
   "outputs": [],
   "source": [
    "class CID_SBBOL_INN_UPDATE:\n",
    "\n",
    "    ######################### Init and close ##############################\n",
    "\n",
    "    def __init__(self):\n",
    "#         self.sing = tendo.singleton.SingleInstance()\n",
    "        self.REFDATE = \"2019-09-01\"\n",
    "        self.SCENARIO_ID = 'CIDSBBOLUSERID'\n",
    "        self.script_name = \"CID_SBBOL_USER_ID\"\n",
    "        self.currdate = datetime.strftime(datetime.today(), format='%Y-%m-%d')\n",
    "        \n",
    "        self.init_logger()\n",
    "        log(\"# __init__ : begin\", self.logger)\n",
    "\n",
    "        self.load_scenarios_json()\n",
    "        self.load_slice_json()\n",
    "        self.load_sources_json()\n",
    "\n",
    "        if self.slice_empty() or self.today_was_launch():\n",
    "            pass\n",
    "            #self.close()\n",
    "            #sys.exit()\n",
    "\n",
    "        self.start_spark()\n",
    "\n",
    "        log(\"# __init__ : begin\", self.logger)\n",
    "\n",
    "\n",
    "    ############################## Spark ##############################\n",
    "\n",
    "\n",
    "    @class_method_logger\n",
    "    def start_spark(self):\n",
    "#         self.sp = spark(schema=SBX_TEAM_DIGITCAMP,\n",
    "#                         process_label=self.script_name,\n",
    "#                         replication_num=2,\n",
    "#                         kerberos_auth=True,\n",
    "#                         numofcores=8,\n",
    "#                         numofinstances=20)\n",
    "        self.sp = sp\n",
    "        self.hive = self.sp.sql\n",
    "\n",
    "\n",
    "    ################################## Load json ##################################\n",
    "\n",
    "\n",
    "    @class_method_logger\n",
    "    def load_scenarios_json(self):\n",
    "        with open(SCENARIOS_JSON_FILE, 'r') as f:\n",
    "            self.scenarios_json = json.load(f)\n",
    "\n",
    "        if self.SCENARIO_ID not in self.scenarios_json:\n",
    "            self.scenarios_last_date = self.REFDATE\n",
    "        else:\n",
    "            self.scenarios_last_date = self.scenarios_json[self.SCENARIO_ID]\n",
    "\n",
    "    @class_method_logger\n",
    "    def load_slice_json(self):\n",
    "        with open(SLICE_JSON_FILE, 'r') as f:\n",
    "            self.slice_json = json.load(f)\n",
    "        self.slice_count = self.slice_json['COUNT']\n",
    "        self.slice_max_date = self.slice_json['MAX_DATE']\n",
    "\n",
    "\n",
    "    @class_method_logger\n",
    "    def load_sources_json(self):\n",
    "        with open(SOURCES_JSON_FILE, 'r') as f:\n",
    "            self.sources_json = json.load(f)\n",
    "        self.last_launch = self.sources_json[self.script_name]\n",
    "\n",
    "\n",
    "    ################################## Check dates ##################################\n",
    "\n",
    "    @class_method_logger\n",
    "    def today_was_launch(self):\n",
    "        if self.last_launch == self.currdate:\n",
    "            log(\"### check_currdate_eq_last_launch_date ERROR: current_date == last_launch \", self.logger)\n",
    "            log(\"table CID_SBBOL_INN was updated early today\", self.logger)\n",
    "            return True\n",
    "        return False\n",
    "\n",
    "\n",
    "    @class_method_logger\n",
    "    def slice_empty(self):\n",
    "        if self.slice_count == 0:\n",
    "            log(\"### check_slice_count ERROR: slice_count = 0 >>> nothing to save\", self.logger)\n",
    "            return True\n",
    "        return False\n",
    "\n",
    "\n",
    "    ################################## Run ##################################\n",
    "\n",
    "\n",
    "    @exception_restart(num_of_attempts=3, delay_time_sec=10*60)\n",
    "    @class_method_logger\n",
    "    def run(self):\n",
    "        tmp_visit_part = self.load_visit_part()\n",
    "\n",
    "        cid_sbbol, cid_segmento = self.get_cid_sbbol_and_segmento(tmp_visit_part)\n",
    "\n",
    "        # Получение ИНН из связки с REPLICATIONGUID\n",
    "\n",
    "        profile = self.load_user_profile()\n",
    "        cid_sbbol_replicguid = cid_sbbol.join(profile, on=['sbbolUserId'], how='inner')\n",
    "\n",
    "\n",
    "        customer = self.load_ma_customer()\n",
    "        cid_sbbol_inn = cid_sbbol_replicguid.join(customer, on=['REPLICATIONGUID'], how='inner')\n",
    "\n",
    "\n",
    "        # Получение ИНН из cookie_map\n",
    "\n",
    "        #cookie_map = self.load_cookie_map()\n",
    "        #active_cookie = self.get_active_cookie(cookie_map)\n",
    "\n",
    "        #cid_segmento_inn = cid_segmento.join(active_cookie, \n",
    "        #                                   on=(cid_segmento.commonSegmentoUID == active_cookie.CUST_COOKIE), \n",
    "        #                                  how=\"left_outer\")\n",
    "\n",
    "        # Join\n",
    "\n",
    "        cid_sbbol_inn_segmento = cid_sbbol_inn.join(cid_segmento, on=['cid'], how='full_outer').distinct() \\\n",
    "                                                #.withColumn('inn_',f.coalesce('CU_INN','CUST_INN')) \\\n",
    "                                                #.drop('CU_INN','CUST_INN')\\\n",
    "                                                #.withColumnRenamed(\"inn_\", \"CU_INN\")\n",
    "\n",
    "\n",
    "        unified_customer = self.load_unified_customer()\n",
    "\n",
    "        cid_sbbol_inn_segmento_crm = cid_sbbol_inn_segmento.join(unified_customer, \n",
    "                                                                on=(cid_sbbol_inn_segmento.CU_INN == unified_customer.inn), how='leftouter') \\\n",
    "                                                                .dropDuplicates(['cu_inn','sbbolUserId', 'commonSegmentoUID', 'crm_id'])\n",
    "\n",
    "        \n",
    "        cid_sbbol_inn_segmento_crm_dt = self.add_load_dt(cid_sbbol_inn_segmento_crm)\n",
    "        final_df = self.create_final_df(cid_sbbol_inn_segmento_crm_dt)\n",
    "\n",
    "#         self.save_final_table(final_df)\n",
    "#         self.save_scenarios_json(tmp_visit_part)\n",
    "#         self.save_sources_json()\n",
    "\n",
    "    ################################## Logging ##################################\n",
    "\n",
    "\n",
    "    def init_logger(self):\n",
    "        self.print_log = True\n",
    "\n",
    "        try: \n",
    "            os.mkdir(\"logs/\" + self.currdate)\n",
    "        except:\n",
    "            pass\n",
    "\n",
    "        logging.basicConfig(filename='logs/{}/{}.log'.format(self.currdate, self.script_name),\n",
    "                            level=logging.INFO,\n",
    "                            format='%(asctime)s %(message)s')\n",
    "        self.logger = logging.getLogger(__name__)\n",
    "\n",
    "        log(\"=\"*54 + \" {} \".format(self.currdate) + \"=\"*54, self.logger)\n",
    "\n",
    "\n",
    "    ################################## Load ##################################\n",
    "\n",
    "\n",
    "    @class_method_logger\n",
    "    def load_table(self, schema, table):\n",
    "        return load_table(schema, table, self.hive)\n",
    "\n",
    "\n",
    "    @class_method_logger\n",
    "    def load_visit_part(self):\n",
    "        tmp_visit_part = self.load_table(SBX_TEAM_DIGITCAMP, TMP_VISIT_PART) \\\n",
    "                            .filter(\"timestamp(sessionDate) > timestamp('{}')\".format(self.scenarios_last_date))\n",
    "\n",
    "        return tmp_visit_part\n",
    "\n",
    "\n",
    "    @class_method_logger\n",
    "    def get_cid_sbbol_and_segmento(self, visit_part):\n",
    "        cid_sbbol = visit_part.filter('sbbolUserId is not Null') \\\n",
    "                                    .dropDuplicates(['cid', 'sbbolUserId']) \\\n",
    "                                    .select('cid', 'sbbolUserId', 'CTL_LOADING')\n",
    "\n",
    "        cid_segmento = visit_part.filter('commonSegmentoUID is not Null') \\\n",
    "                                        .select('cid','commonSegmentoUID') \\\n",
    "                                        .distinct()\n",
    "\n",
    "        return cid_sbbol, cid_segmento\n",
    "\n",
    "\n",
    "    @class_method_logger\n",
    "    def load_user_profile(self):\n",
    "        profile = self.load_table(SBX_TEAM_DIGITCAMP, GA_MA_USER_PROFILE_SBBOL) \\\n",
    "                        .select('CU_ID_SBBOL', 'REPLICATIONGUID', 'USER_ID', f.col('USER_GUID').alias('sbbolUserId')) \\\n",
    "                        .filter(\"(sbboluserid is not Null) and not (sbboluserid = 'Пользователь Интернет-Клиента')\")\n",
    "\n",
    "        return profile\n",
    "\n",
    "\n",
    "    @class_method_logger\n",
    "    def load_ma_customer(self):\n",
    "        customer = self.load_table(SBX_TEAM_DIGITCAMP, GA_MA_CUSTOMER_SBBOL) \\\n",
    "                        .select('REPLICATIONGUID', 'CU_INN', 'CU_KPP', 'CU_OKPO', 'LOCKED')\n",
    "\n",
    "        return customer\n",
    "\n",
    "\n",
    "    @class_method_logger\n",
    "    def load_cookie_map(self):\n",
    "        cookie_map = self.load_table(SBX_TEAM_DIGITCAMP, MA_CUSTOMER_COOKIE_MAP) \\\n",
    "                            .select(\"CUST_INN\", \"CUST_COOKIE\", \"SRC_UPDATE_DTTM\") \\\n",
    "\n",
    "        return cookie_map\n",
    "\n",
    "\n",
    "    @class_method_logger\n",
    "    def load_unified_customer(self):\n",
    "        unified_customer = self.load_table(SBX_TEAM_DIGITCAMP, UNIFIED_CUSTOMER)  \\\n",
    "                                .select('inn', 'crm_id').distinct()\n",
    "\n",
    "        return unified_customer\n",
    "\n",
    "\n",
    "    ################################## Operations ##################################\n",
    "\n",
    "    @class_method_logger\n",
    "    def get_active_cookie(self, cookie):\n",
    "        cookie_active = cookie.withColumn(\"days_diff\", f.datediff(f.current_timestamp(), f.col(\"SRC_UPDATE_DTTM\"))) \\\n",
    "                                .filter(f.col(\"days_diff\") <= 40) \\\n",
    "                                .select(\"CUST_INN\", \"CUST_COOKIE\").distinct()\n",
    "        return cookie_active\n",
    "\n",
    "\n",
    "    @class_method_logger\n",
    "    def add_load_dt(self, df):\n",
    "        strdate = datetime.strftime(datetime.now(), format='%Y.%d.%m')\n",
    "        df_with_load_df = df.withColumn('load_dt', f.lit(datetime.strptime(strdate, '%Y.%d.%m')).cast(stypes.TimestampType()))\n",
    "        return df_with_load_df\n",
    "\n",
    "\n",
    "\n",
    "    ############################## Create final_df ##############################\n",
    "\n",
    "\n",
    "    @class_method_logger\n",
    "    def create_final_df(self, df):\n",
    "        cols = [ 'cid',\n",
    "                'replicationguid',\n",
    "                'sbboluserid',\n",
    "                'commonSegmentoUID',\n",
    "                'cu_id_sbbol',\n",
    "                'user_id',\n",
    "                'cu_inn',\n",
    "                'cu_kpp',\n",
    "                'crm_id',\n",
    "                'cu_okpo',\n",
    "                'locked',\n",
    "                'load_dt',\n",
    "                'ctl_loading']\n",
    "\n",
    "        final_df = df.select([col if col != 'ctl_loading' else f.col(col).cast(stypes.LongType()) for col in cols])\n",
    "\n",
    "        return final_df\n",
    "                        \n",
    "\n",
    "    ############################## Save final table ##############################\n",
    "\n",
    "    @class_method_logger\n",
    "    def save_final_table(self, df):\n",
    "        tmp_tbl = 'tmp_inn'\n",
    "        df.registerTempTable(tmp_tbl)\n",
    "\n",
    "        self.hive.setConf(\"hive.exec.dynamic.partition\", \"true\")\n",
    "        self.hive.setConf(\"hive.exec.dynamic.partition.mode\", \"nonstrict\")\n",
    "\n",
    "        self.hive.sql(\n",
    "            \"\"\"\n",
    "                insert into table {schema}.{tbl}\n",
    "                partition(ctl_loading)\n",
    "                select {tmp_tbl}.* from {tmp_tbl}\n",
    "                distribute by ctl_loading\n",
    "            \"\"\".format(schema=SBX_TEAM_DIGITCAMP, tbl=GA_CID_SBBOL_INN, tmp_tbl=tmp_tbl))\n",
    "        return None\n",
    "\n",
    "\n",
    "    @class_method_logger\n",
    "    def save_scenarios_json(self, tmp_visit_part):\n",
    "        ctl_loading = tmp_visit_part.select(f.max('sessionDate')).collect()\n",
    "        self.slice_max_date = ctl_loading[0]['max(sessionDate)']\n",
    "\n",
    "        self.scenarios_json[self.SCENARIO_ID] = self.slice_max_date\n",
    "        with open(SCENARIOS_JSON_FILE, 'w') as obj:\n",
    "            json.dump(self.scenarios_json, obj, indent=4, sort_keys=True)\n",
    "\n",
    "\n",
    "    @class_method_logger\n",
    "    def save_sources_json(self):\n",
    "        self.sources_json[self.script_name] = self.currdate\n",
    "        with open(SOURCES_JSON_FILE, 'w') as f:\n",
    "            json.dump(self.sources_json, f, indent=4, sort_keys=True)\n",
    "\n",
    "\n",
    "    ############################## ContextManager ##############################\n",
    "\n",
    "\n",
    "    def __enter__(self):\n",
    "        return self\n",
    "\n",
    "\n",
    "    @class_method_logger\n",
    "    def close(self):\n",
    "        try:\n",
    "            self.sp.sc.stop()\n",
    "        except Exception as ex:\n",
    "            if \"object has no attribute\" in str(ex):\n",
    "                log(\"### SparkContext was not started\", self.logger)\n",
    "            else:\n",
    "                log(\"### Close exception: \\n{}\".format(ex), self.logger)\n",
    "        finally:\n",
    "            pass\n",
    "#             del self.sing\n",
    "\n",
    "\n",
    "    def __exit__(self, exc_type, exc_value, exc_tb):\n",
    "        log(\"# __exit__ : begin\", self.logger)\n",
    "        if exc_type is not None:\n",
    "            log(\"### Exit exception ERROR:\\nexc_type:\\n{}\\nexc_value\\n{}\\nexc_tb\\n{}\"\\\n",
    "                .format(exc_type, exc_value, exc_tb), self.logger)\n",
    "        self.close()\n",
    "        log(\"# __exit__ : end\", self.logger)\n",
    "        log(\"=\"*120, self.logger) "
   ]
  },
  {
   "cell_type": "code",
   "execution_count": 52,
   "metadata": {},
   "outputs": [],
   "source": [
    "class_cid_inn = CID_SBBOL_INN_UPDATE()"
   ]
  },
  {
   "cell_type": "code",
   "execution_count": 53,
   "metadata": {
    "collapsed": true,
    "jupyter": {
     "outputs_hidden": true
    }
   },
   "outputs": [],
   "source": [
    "tmp_visit_part = class_cid_inn.load_visit_part()"
   ]
  },
  {
   "cell_type": "code",
   "execution_count": 54,
   "metadata": {},
   "outputs": [
    {
     "data": {
      "text/plain": [
       "0"
      ]
     },
     "execution_count": 54,
     "metadata": {},
     "output_type": "execute_result"
    }
   ],
   "source": [
    "tmp_visit_part.count()"
   ]
  },
  {
   "cell_type": "code",
   "execution_count": 58,
   "metadata": {},
   "outputs": [
    {
     "name": "stdout",
     "output_type": "stream",
     "text": [
      "None\n"
     ]
    }
   ],
   "source": [
    "print(class_cid_inn.scenarios_last_date)"
   ]
  },
  {
   "cell_type": "code",
   "execution_count": 60,
   "metadata": {},
   "outputs": [
    {
     "data": {
      "text/plain": [
       "'CIDSBBOLUSERID'"
      ]
     },
     "execution_count": 60,
     "metadata": {},
     "output_type": "execute_result"
    }
   ],
   "source": [
    "class_cid_inn.SCENARIO_ID"
   ]
  },
  {
   "cell_type": "code",
   "execution_count": 61,
   "metadata": {},
   "outputs": [
    {
     "data": {
      "text/plain": [
       "{'ACQUIRING_01': '2021-08-22',\n",
       " 'BUSINESS_CARD_01': '2021-08-22',\n",
       " 'CASHORDER_01': '2021-08-22',\n",
       " 'CIDSBBOLUSERID': None,\n",
       " 'COLLINSUR_ALREADY': '2021-08-22',\n",
       " 'COLLINSUR_ONLINE': '2021-08-22',\n",
       " 'COLLINSUR_OTHER': '2021-08-22',\n",
       " 'CORPCARD_01': '2021-08-22',\n",
       " 'CORPCARD_02': '2021-08-22',\n",
       " 'CREDIT_01': '2021-08-22',\n",
       " 'DEPOSIT_01': '2021-08-22',\n",
       " 'DIGITALCARD_01': '2021-08-22',\n",
       " 'DIGITALCARD_02': '2021-08-22',\n",
       " 'ENCASHMENT_01': '2021-08-22',\n",
       " 'HELP_SBBOL': '2021-08-22',\n",
       " 'LETTERSOFCREDIT_01': '2021-08-22',\n",
       " 'PREMIUMCARDMASTER_01': '2021-08-22',\n",
       " 'PREMIUMCARDMASTER_02': '2021-08-22',\n",
       " 'PREMIUMCARD_01': '2021-08-22',\n",
       " 'PREMIUMCARD_02': '2021-08-22',\n",
       " 'SCENARIO_TEST': '2020-09-18',\n",
       " 'SHOP_01': '2021-08-22',\n",
       " 'SITEALLPRODAGG_01': '2021-08-22',\n",
       " 'SITEALLPRODS_01': '2021-08-22',\n",
       " 'STORIES_01': '2021-08-22',\n",
       " 'WTA_SITE_NBS': '2021-08-22'}"
      ]
     },
     "execution_count": 61,
     "metadata": {},
     "output_type": "execute_result"
    }
   ],
   "source": [
    "class_cid_inn.scenarios_json"
   ]
  },
  {
   "cell_type": "markdown",
   "metadata": {},
   "source": [
    "cid, sbbolUserId, commonSegmentoUID, CTL_LOADING"
   ]
  },
  {
   "cell_type": "markdown",
   "metadata": {},
   "source": [
    "distinct cid, sbbolUserId, commonSegmentoUID, не надо расскомментировать"
   ]
  },
  {
   "cell_type": "code",
   "execution_count": 59,
   "metadata": {
    "collapsed": true,
    "jupyter": {
     "outputs_hidden": true
    }
   },
   "outputs": [],
   "source": [
    "class_cid_inn.scenarios_json[class_cid_inn.SCENARIO_ID]"
   ]
  },
  {
   "cell_type": "code",
   "execution_count": null,
   "metadata": {
    "collapsed": true,
    "jupyter": {
     "outputs_hidden": true
    }
   },
   "outputs": [],
   "source": [
    "tmp_visit_part = self.load_visit_part()\n",
    "\n",
    "        cid_sbbol, cid_segmento = self.get_cid_sbbol_and_segmento(tmp_visit_part)\n",
    "\n",
    "        # Получение ИНН из связки с REPLICATIONGUID\n",
    "\n",
    "        profile = self.load_user_profile()\n",
    "        cid_sbbol_replicguid = cid_sbbol.join(profile, on=['sbbolUserId'], how='inner')\n",
    "\n",
    "\n",
    "        customer = self.load_ma_customer()\n",
    "        cid_sbbol_inn = cid_sbbol_replicguid.join(customer, on=['REPLICATIONGUID'], how='inner')\n",
    "\n",
    "\n",
    "        # Получение ИНН из cookie_map\n",
    "\n",
    "        #cookie_map = self.load_cookie_map()\n",
    "        #active_cookie = self.get_active_cookie(cookie_map)\n",
    "\n",
    "        #cid_segmento_inn = cid_segmento.join(active_cookie, \n",
    "        #                                   on=(cid_segmento.commonSegmentoUID == active_cookie.CUST_COOKIE), \n",
    "        #                                  how=\"left_outer\")\n",
    "\n",
    "        # Join\n",
    "\n",
    "        cid_sbbol_inn_segmento = cid_sbbol_inn.join(cid_segmento, on=['cid'], how='full_outer').distinct() \\\n",
    "                                                #.withColumn('inn_',f.coalesce('CU_INN','CUST_INN')) \\\n",
    "                                                #.drop('CU_INN','CUST_INN')\\\n",
    "                                                #.withColumnRenamed(\"inn_\", \"CU_INN\")\n",
    "\n",
    "\n",
    "        unified_customer = self.load_unified_customer()\n",
    "\n",
    "        cid_sbbol_inn_segmento_crm = cid_sbbol_inn_segmento.join(unified_customer, \n",
    "                                                                on=(cid_sbbol_inn_segmento.CU_INN == unified_customer.inn), how='leftouter') \\\n",
    "                                                                .dropDuplicates(['cu_inn','sbbolUserId', 'commonSegmentoUID', 'crm_id'])\n",
    "\n",
    "        \n",
    "        cid_sbbol_inn_segmento_crm_dt = self.add_load_dt(cid_sbbol_inn_segmento_crm)\n",
    "        final_df = self.create_final_df(cid_sbbol_inn_segmento_crm_dt)"
   ]
  }
 ],
 "metadata": {
  "kernelspec": {
   "display_name": "Python 3 (ipykernel)",
   "language": "python",
   "name": "python3"
  },
  "language_info": {
   "codemirror_mode": {
    "name": "ipython",
    "version": 3
   },
   "file_extension": ".py",
   "mimetype": "text/x-python",
   "name": "python",
   "nbconvert_exporter": "python",
   "pygments_lexer": "ipython3",
   "version": "3.9.12"
  }
 },
 "nbformat": 4,
 "nbformat_minor": 4
}
