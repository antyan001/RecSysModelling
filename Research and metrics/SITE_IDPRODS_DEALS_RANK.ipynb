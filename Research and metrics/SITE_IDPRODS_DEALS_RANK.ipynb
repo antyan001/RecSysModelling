{
 "cells": [
  {
   "cell_type": "code",
   "execution_count": 328,
   "metadata": {
    "collapsed": true
   },
   "outputs": [],
   "source": [
    "import os\n",
    "import sys\n",
    "curruser = os.environ.get('USER')\n",
    "\n",
    "_labdata = os.environ.get(\"LABDATA_PYSPARK\")\n",
    "sys.path.insert(0, _labdata)\n",
    "\n",
    "if curruser in os.listdir(\"/opt/workspace/\"):\n",
    "    sys.path.insert(0, '/opt/workspace/{user}/notebooks/support_library/'.format(user=curruser))\n",
    "    sys.path.insert(0, '/opt/workspace/{user}/libs/python3.5/site-packages/'.format(user=curruser))\n",
    "    # sys.path.insert(0, '/opt/workspace/{user}/notebooks/labdata_v1.2/lib/'.format(user=curruser))\n",
    "else:\n",
    "    sys.path.insert(0, '/home/{}/notebooks/support_library/'.format(curruser))\n",
    "    sys.path.insert(0, '/home/{}/python35-libs/lib/python3.5/site-packages/'.format(curruser))\n",
    "    # sys.path.insert(0, '/home/{}/notebooks/labdata/lib/'.format(curruser))\n",
    "\n",
    "#import tendo.singleton\n",
    "import warnings\n",
    "warnings.filterwarnings('ignore')\n",
    "\n",
    "import joblib\n",
    "import json\n",
    "from joblib import Parallel, delayed\n",
    "\n",
    "from time import sleep\n",
    "from itertools import islice\n",
    "from multiprocessing import Pool, Process, JoinableQueue\n",
    "from multiprocessing.pool import ThreadPool\n",
    "from functools import partial\n",
    "import subprocess\n",
    "from threading import Thread\n",
    "import time\n",
    "from datetime import datetime as dt\n",
    "\n",
    "from transliterate import translit\n",
    "\n",
    "from lib.spark_connector import SparkConnector\n",
    "from lib.sparkdb_loader import *\n",
    "from lib.connector import OracleDB\n",
    "import pyspark\n",
    "from pyspark import SparkContext, SparkConf, HiveContext\n",
    "from pyspark.sql.window import Window\n",
    "from pyspark.sql.functions import *\n",
    "import pyspark.sql.functions as f\n",
    "from pyspark.sql.types import *\n",
    "from pyspark.sql.dataframe import DataFrame\n",
    "\n",
    "import re\n",
    "import pandas as pd\n",
    "import numpy as np\n",
    "from tqdm._tqdm_notebook import tqdm_notebook\n",
    "from pathlib import Path\n",
    "import shutil\n",
    "import loader as load\n",
    "from collections import ChainMap\n",
    "\n",
    "from lib.config import *\n",
    "from lib.tools import *\n",
    "\n",
    "# sing = tendo.singleton.SingleInstance()\n",
    "\n",
    "# os.chdir('/opt/workspace/ektov1-av_ca-sbrf-ru/notebooks/Clickstream_Analytics/AutoUpdate/')\n",
    "# os.chdir('/opt/workspace/{}/notebooks/clickstream/AutoUpdate/'.format(curruser))\n",
    "\n",
    "def show(self, n=10):\n",
    "    return self.limit(n).toPandas()\n",
    "\n",
    "def typed_udf(return_type):\n",
    "    '''Make a UDF decorator with the given return type'''\n",
    "\n",
    "    def _typed_udf_wrapper(func):\n",
    "        return f.udf(func,return_type)\n",
    "\n",
    "    return _typed_udf_wrapper\n",
    "\n",
    "pyspark.sql.dataframe.DataFrame.show = show\n",
    "\n",
    "def print_and_log(message: str):\n",
    "    print(message)\n",
    "    logger.info(message)\n",
    "    return None\n"
   ]
  },
  {
   "cell_type": "code",
   "execution_count": 3,
   "metadata": {},
   "outputs": [
    {
     "name": "stdout",
     "output_type": "stream",
     "text": [
      "2.4.0.cloudera2\n"
     ]
    },
    {
     "name": "stderr",
     "output_type": "stream",
     "text": [
      "====================================================== 2021-07-19 ======================================================\n",
      "# __init__ : begin\n"
     ]
    }
   ],
   "source": [
    "sp = spark(schema=CONN_SCHEMA,\n",
    "               dynamic_alloc=False,\n",
    "               numofinstances=15,\n",
    "               numofcores=8,\n",
    "               executor_memory='40g',\n",
    "               driver_memory='40g',\n",
    "               kerberos_auth=False,\n",
    "               process_label=\"TEST_PYSPARK_\"\n",
    "               )\n",
    "\n",
    "hive = sp.sql\n",
    "print(sp.sc.version)"
   ]
  },
  {
   "cell_type": "code",
   "execution_count": 115,
   "metadata": {
    "collapsed": true
   },
   "outputs": [],
   "source": [
    "conn_schema = 'sbx_team_digitcamp'\n",
    "table_name = 'MA_CMDM_MA_DEAL_NEW'"
   ]
  },
  {
   "cell_type": "code",
   "execution_count": 173,
   "metadata": {
    "collapsed": true
   },
   "outputs": [],
   "source": [
    "startdt = dt.now()\n",
    "\n",
    "#/////////////////////////////////////////////////////////////////////////////////////\n",
    "descr = hive.sql(\"describe extended {}.{}\".format(conn_schema,table_name)).collect()\n",
    "hasPartitioned = len([item.asDict() for item in descr if item.asDict()['col_name'] =='# Partition Information']) > 0\n",
    "if hasPartitioned:\n",
    "    try:\n",
    "        parts = hive.sql(\"show partitions {}.{}\".format(conn_schema,table_name)).collect()\n",
    "        max_part = sorted(parts, reverse=True)[0]['partition']\n",
    "        extract_date=re.compile(\"\\d{4}\\-\\d{2}\\-\\d{2}\")\n",
    "        ext = extract_date.search(max_part)\n",
    "        try:\n",
    "            max_trunc_dt = ext.group(0)\n",
    "        except:\n",
    "            max_trunc_dt = None\n",
    "    except (AnalysisException, IndexError):\n",
    "        max_trunc_dt = None\n",
    "else:\n",
    "    max_trunc_dt = None\n",
    "#/////////////////////////////////////////////////////////////////////////////////////\n"
   ]
  },
  {
   "cell_type": "code",
   "execution_count": 174,
   "metadata": {
    "collapsed": true,
    "scrolled": true
   },
   "outputs": [],
   "source": [
    "if max_trunc_dt is not None:\n",
    "  sql = '''select * from {}.{} where creation_month in \n",
    "                 ('2021-06-01', '2021-05-01',' 2021-04-01') '''.format(conn_schema, table_name)\n",
    "else:\n",
    "  sql = '''select * from {}.{}'''.format(conn_schema,table_name)\n",
    "\n",
    "deals = hive.sql(sql)\n",
    "# max_resp_dt_str = dt.strftime(max_dt, format='%Y-%m-%d %H:%M:%S.%f')"
   ]
  },
  {
   "cell_type": "code",
   "execution_count": 150,
   "metadata": {
    "scrolled": true
   },
   "outputs": [
    {
     "data": {
      "text/html": [
       "<div>\n",
       "<style scoped>\n",
       "    .dataframe tbody tr th:only-of-type {\n",
       "        vertical-align: middle;\n",
       "    }\n",
       "\n",
       "    .dataframe tbody tr th {\n",
       "        vertical-align: top;\n",
       "    }\n",
       "\n",
       "    .dataframe thead th {\n",
       "        text-align: right;\n",
       "    }\n",
       "</style>\n",
       "<table border=\"1\" class=\"dataframe\">\n",
       "  <thead>\n",
       "    <tr style=\"text-align: right;\">\n",
       "      <th></th>\n",
       "      <th>appl_stage_name</th>\n",
       "    </tr>\n",
       "  </thead>\n",
       "  <tbody>\n",
       "    <tr>\n",
       "      <th>0</th>\n",
       "      <td>12.Закрыта/Отказ</td>\n",
       "    </tr>\n",
       "    <tr>\n",
       "      <th>1</th>\n",
       "      <td>07.Подготовка документации</td>\n",
       "    </tr>\n",
       "    <tr>\n",
       "      <th>2</th>\n",
       "      <td>05. Подготовка документов по сделке</td>\n",
       "    </tr>\n",
       "    <tr>\n",
       "      <th>3</th>\n",
       "      <td>04.Тендерная процедура</td>\n",
       "    </tr>\n",
       "    <tr>\n",
       "      <th>4</th>\n",
       "      <td>04.2.Ожидание оформ. обеспеч.</td>\n",
       "    </tr>\n",
       "    <tr>\n",
       "      <th>5</th>\n",
       "      <td>Договор подписан</td>\n",
       "    </tr>\n",
       "    <tr>\n",
       "      <th>6</th>\n",
       "      <td>02.Предварительные переговоры</td>\n",
       "    </tr>\n",
       "    <tr>\n",
       "      <th>7</th>\n",
       "      <td>03.Подписание док-ии Клиентом</td>\n",
       "    </tr>\n",
       "    <tr>\n",
       "      <th>8</th>\n",
       "      <td>Закрыта/Заключена</td>\n",
       "    </tr>\n",
       "    <tr>\n",
       "      <th>9</th>\n",
       "      <td>None</td>\n",
       "    </tr>\n",
       "    <tr>\n",
       "      <th>10</th>\n",
       "      <td>09.Оплата</td>\n",
       "    </tr>\n",
       "    <tr>\n",
       "      <th>11</th>\n",
       "      <td>Верификация заключения</td>\n",
       "    </tr>\n",
       "    <tr>\n",
       "      <th>12</th>\n",
       "      <td>Принятие решения</td>\n",
       "    </tr>\n",
       "    <tr>\n",
       "      <th>13</th>\n",
       "      <td>Отказ банком</td>\n",
       "    </tr>\n",
       "    <tr>\n",
       "      <th>14</th>\n",
       "      <td>06.Закрыта/Заключена</td>\n",
       "    </tr>\n",
       "    <tr>\n",
       "      <th>15</th>\n",
       "      <td>03.Рассмотрена в МСХ</td>\n",
       "    </tr>\n",
       "    <tr>\n",
       "      <th>16</th>\n",
       "      <td>06.Подписание договора</td>\n",
       "    </tr>\n",
       "    <tr>\n",
       "      <th>17</th>\n",
       "      <td>05. Подготовка документов по cделке</td>\n",
       "    </tr>\n",
       "    <tr>\n",
       "      <th>18</th>\n",
       "      <td>Предварительный анализ</td>\n",
       "    </tr>\n",
       "    <tr>\n",
       "      <th>19</th>\n",
       "      <td>04. Анализ документов по сделке</td>\n",
       "    </tr>\n",
       "  </tbody>\n",
       "</table>\n",
       "</div>"
      ],
      "text/plain": [
       "                        appl_stage_name\n",
       "0                      12.Закрыта/Отказ\n",
       "1            07.Подготовка документации\n",
       "2   05. Подготовка документов по сделке\n",
       "3                04.Тендерная процедура\n",
       "4         04.2.Ожидание оформ. обеспеч.\n",
       "5                      Договор подписан\n",
       "6         02.Предварительные переговоры\n",
       "7         03.Подписание док-ии Клиентом\n",
       "8                     Закрыта/Заключена\n",
       "9                                  None\n",
       "10                            09.Оплата\n",
       "11               Верификация заключения\n",
       "12                     Принятие решения\n",
       "13                         Отказ банком\n",
       "14                 06.Закрыта/Заключена\n",
       "15                 03.Рассмотрена в МСХ\n",
       "16               06.Подписание договора\n",
       "17  05. Подготовка документов по cделке\n",
       "18               Предварительный анализ\n",
       "19      04. Анализ документов по сделке"
      ]
     },
     "execution_count": 150,
     "metadata": {},
     "output_type": "execute_result"
    }
   ],
   "source": [
    "deals.select('appl_stage_name').distinct().show(20)"
   ]
  },
  {
   "cell_type": "markdown",
   "metadata": {},
   "source": [
    "## Cancelled Deals"
   ]
  },
  {
   "cell_type": "code",
   "execution_count": 270,
   "metadata": {
    "collapsed": true,
    "scrolled": true
   },
   "outputs": [],
   "source": [
    "deals_d = \\\n",
    "deals.filter((f.col('appl_stage_name').like(\"%Закрыта/Отказ%\"))&\n",
    "             (~f.isnull(f.col('close_reason_type_name')))&\n",
    "             (~f.isnull(f.col('product_cd_mmb')))\n",
    "            ) \n",
    "    \n",
    "deals_d = deals_d.select('inn', 'product_cd_mmb', f.lit(1).alias('flg_deal_deny'))\n",
    "\n",
    "deals_deny = deals_d.groupBy('product_cd_mmb').agg(f.count('flg_deal_deny').alias('cnt_deals_deny')).orderBy(f.col('cnt_deals_deny').desc())"
   ]
  },
  {
   "cell_type": "code",
   "execution_count": 271,
   "metadata": {},
   "outputs": [
    {
     "data": {
      "text/plain": [
       "DataFrame[product_cd_mmb: string, cnt_deals_deny: bigint]"
      ]
     },
     "execution_count": 271,
     "metadata": {},
     "output_type": "execute_result"
    }
   ],
   "source": [
    "deals_deny.cache()"
   ]
  },
  {
   "cell_type": "code",
   "execution_count": 272,
   "metadata": {
    "scrolled": true
   },
   "outputs": [
    {
     "data": {
      "text/html": [
       "<div>\n",
       "<style scoped>\n",
       "    .dataframe tbody tr th:only-of-type {\n",
       "        vertical-align: middle;\n",
       "    }\n",
       "\n",
       "    .dataframe tbody tr th {\n",
       "        vertical-align: top;\n",
       "    }\n",
       "\n",
       "    .dataframe thead th {\n",
       "        text-align: right;\n",
       "    }\n",
       "</style>\n",
       "<table border=\"1\" class=\"dataframe\">\n",
       "  <thead>\n",
       "    <tr style=\"text-align: right;\">\n",
       "      <th></th>\n",
       "      <th>product_cd_mmb</th>\n",
       "      <th>cnt_deals_deny</th>\n",
       "    </tr>\n",
       "  </thead>\n",
       "  <tbody>\n",
       "    <tr>\n",
       "      <th>0</th>\n",
       "      <td>CREDCORPCARD</td>\n",
       "      <td>20285</td>\n",
       "    </tr>\n",
       "    <tr>\n",
       "      <th>1</th>\n",
       "      <td>SMARTCRED</td>\n",
       "      <td>4917</td>\n",
       "    </tr>\n",
       "    <tr>\n",
       "      <th>2</th>\n",
       "      <td>SMARTCARD</td>\n",
       "      <td>2055</td>\n",
       "    </tr>\n",
       "    <tr>\n",
       "      <th>3</th>\n",
       "      <td>EINVOICING</td>\n",
       "      <td>957</td>\n",
       "    </tr>\n",
       "    <tr>\n",
       "      <th>4</th>\n",
       "      <td>CORPCARD</td>\n",
       "      <td>912</td>\n",
       "    </tr>\n",
       "    <tr>\n",
       "      <th>5</th>\n",
       "      <td>SALARYPROJ</td>\n",
       "      <td>840</td>\n",
       "    </tr>\n",
       "    <tr>\n",
       "      <th>6</th>\n",
       "      <td>2216GARANTY</td>\n",
       "      <td>697</td>\n",
       "    </tr>\n",
       "    <tr>\n",
       "      <th>7</th>\n",
       "      <td>RKO</td>\n",
       "      <td>547</td>\n",
       "    </tr>\n",
       "    <tr>\n",
       "      <th>8</th>\n",
       "      <td>MOMENTBIZCARD</td>\n",
       "      <td>428</td>\n",
       "    </tr>\n",
       "    <tr>\n",
       "      <th>9</th>\n",
       "      <td>TELEMED</td>\n",
       "      <td>341</td>\n",
       "    </tr>\n",
       "  </tbody>\n",
       "</table>\n",
       "</div>"
      ],
      "text/plain": [
       "  product_cd_mmb  cnt_deals_deny\n",
       "0   CREDCORPCARD           20285\n",
       "1      SMARTCRED            4917\n",
       "2      SMARTCARD            2055\n",
       "3     EINVOICING             957\n",
       "4       CORPCARD             912\n",
       "5     SALARYPROJ             840\n",
       "6    2216GARANTY             697\n",
       "7            RKO             547\n",
       "8  MOMENTBIZCARD             428\n",
       "9        TELEMED             341"
      ]
     },
     "execution_count": 272,
     "metadata": {},
     "output_type": "execute_result"
    }
   ],
   "source": [
    "deals_deny.show()"
   ]
  },
  {
   "cell_type": "markdown",
   "metadata": {},
   "source": [
    "## Succeeded Deals"
   ]
  },
  {
   "cell_type": "code",
   "execution_count": 273,
   "metadata": {
    "collapsed": true,
    "scrolled": true
   },
   "outputs": [],
   "source": [
    "deals_s = \\\n",
    "deals.filter(f.col('appl_stage_name').like(\"%Закрыта/Заключена%\")) \\\n",
    "     .filter(f.isnull(f.col('close_reason_type_name'))&(~f.isnull('product_cd_mmb'))\n",
    "            ) \\\n",
    "     .select('inn', \n",
    "             'product_cd_mmb', \n",
    "             f.col('SUM_RUB').cast(IntegerType())\n",
    "            ).orderBy(f.col('SUM_RUB').desc())\n",
    "\n",
    "deals_succ = deals_s.groupBy('product_cd_mmb').agg(f.count('SUM_RUB').alias('cnt_deals_succ'),\n",
    "                                                   f.sum('SUM_RUB').alias('total_sum_rub')\n",
    "                                                  ).orderBy(f.col('cnt_deals_succ').desc())"
   ]
  },
  {
   "cell_type": "code",
   "execution_count": 274,
   "metadata": {},
   "outputs": [
    {
     "data": {
      "text/plain": [
       "DataFrame[product_cd_mmb: string, cnt_deals_succ: bigint, total_sum_rub: bigint]"
      ]
     },
     "execution_count": 274,
     "metadata": {},
     "output_type": "execute_result"
    }
   ],
   "source": [
    "deals_succ.cache()"
   ]
  },
  {
   "cell_type": "code",
   "execution_count": 275,
   "metadata": {},
   "outputs": [
    {
     "data": {
      "text/html": [
       "<div>\n",
       "<style scoped>\n",
       "    .dataframe tbody tr th:only-of-type {\n",
       "        vertical-align: middle;\n",
       "    }\n",
       "\n",
       "    .dataframe tbody tr th {\n",
       "        vertical-align: top;\n",
       "    }\n",
       "\n",
       "    .dataframe thead th {\n",
       "        text-align: right;\n",
       "    }\n",
       "</style>\n",
       "<table border=\"1\" class=\"dataframe\">\n",
       "  <thead>\n",
       "    <tr style=\"text-align: right;\">\n",
       "      <th></th>\n",
       "      <th>product_cd_mmb</th>\n",
       "      <th>cnt_deals_succ</th>\n",
       "      <th>total_sum_rub</th>\n",
       "    </tr>\n",
       "  </thead>\n",
       "  <tbody>\n",
       "    <tr>\n",
       "      <th>0</th>\n",
       "      <td>RKO</td>\n",
       "      <td>42582</td>\n",
       "      <td>288452</td>\n",
       "    </tr>\n",
       "    <tr>\n",
       "      <th>1</th>\n",
       "      <td>MINBALANCE</td>\n",
       "      <td>42506</td>\n",
       "      <td>6565099043</td>\n",
       "    </tr>\n",
       "    <tr>\n",
       "      <th>2</th>\n",
       "      <td>ENCASHSELF</td>\n",
       "      <td>36517</td>\n",
       "      <td>1946</td>\n",
       "    </tr>\n",
       "    <tr>\n",
       "      <th>3</th>\n",
       "      <td>DEPOSIT</td>\n",
       "      <td>30560</td>\n",
       "      <td>2678459350</td>\n",
       "    </tr>\n",
       "    <tr>\n",
       "      <th>4</th>\n",
       "      <td>SMSINFORM</td>\n",
       "      <td>15339</td>\n",
       "      <td>73789</td>\n",
       "    </tr>\n",
       "    <tr>\n",
       "      <th>5</th>\n",
       "      <td>MOMENTBIZCARD</td>\n",
       "      <td>14019</td>\n",
       "      <td>44</td>\n",
       "    </tr>\n",
       "    <tr>\n",
       "      <th>6</th>\n",
       "      <td>ACQUIRING</td>\n",
       "      <td>10571</td>\n",
       "      <td>87573912</td>\n",
       "    </tr>\n",
       "    <tr>\n",
       "      <th>7</th>\n",
       "      <td>CREDCORPCARD</td>\n",
       "      <td>9764</td>\n",
       "      <td>8427297</td>\n",
       "    </tr>\n",
       "    <tr>\n",
       "      <th>8</th>\n",
       "      <td>CORPCARD</td>\n",
       "      <td>7576</td>\n",
       "      <td>10184</td>\n",
       "    </tr>\n",
       "    <tr>\n",
       "      <th>9</th>\n",
       "      <td>SPPU</td>\n",
       "      <td>6167</td>\n",
       "      <td>35991</td>\n",
       "    </tr>\n",
       "  </tbody>\n",
       "</table>\n",
       "</div>"
      ],
      "text/plain": [
       "  product_cd_mmb  cnt_deals_succ  total_sum_rub\n",
       "0            RKO           42582         288452\n",
       "1     MINBALANCE           42506     6565099043\n",
       "2     ENCASHSELF           36517           1946\n",
       "3        DEPOSIT           30560     2678459350\n",
       "4      SMSINFORM           15339          73789\n",
       "5  MOMENTBIZCARD           14019             44\n",
       "6      ACQUIRING           10571       87573912\n",
       "7   CREDCORPCARD            9764        8427297\n",
       "8       CORPCARD            7576          10184\n",
       "9           SPPU            6167          35991"
      ]
     },
     "execution_count": 275,
     "metadata": {},
     "output_type": "execute_result"
    }
   ],
   "source": [
    "deals_succ.show()"
   ]
  },
  {
   "cell_type": "markdown",
   "metadata": {},
   "source": [
    "## MA_PRODUCT_DICT"
   ]
  },
  {
   "cell_type": "code",
   "execution_count": 329,
   "metadata": {
    "scrolled": true
   },
   "outputs": [
    {
     "data": {
      "text/plain": [
       "['ID',\n",
       " 'CRM_PRODUCT_ID',\n",
       " 'PRODUCT_CRM_NM',\n",
       " 'CRM_ACTIVE_FLG',\n",
       " 'PRODUCT_CD_KSB',\n",
       " 'PRODUCT_CD_RGS',\n",
       " 'PRODUCT_CD_MMB',\n",
       " 'PRODUCT_CD_ASUP',\n",
       " 'PRODUCT_SHORT_NM',\n",
       " 'PRODUCT_FULL_NM',\n",
       " 'PARTNER_NM',\n",
       " 'CHANNEL_SALE',\n",
       " 'CHANNEL_KKSB_ISKRA',\n",
       " 'CHANNEL_KKSB_EFS',\n",
       " 'CHANNEL_RGS_ISKRA',\n",
       " 'CHANNEL_ECO_EXPERT',\n",
       " 'CHANNEL_MMB_MS',\n",
       " 'CHANNEL_MMB_CKR',\n",
       " 'CHANNEL_MMB_MKK',\n",
       " 'CHANNEL_DZO',\n",
       " 'AGG_FORMULA_KSB',\n",
       " 'AGG_FORMULA_RGS',\n",
       " 'CNT_DAY_DEAL',\n",
       " 'PRODUCT_SUBGROUP',\n",
       " 'PRODUCT_GROUP',\n",
       " 'PRODUCT_TYPE',\n",
       " 'PRODUCT_PRIORITY']"
      ]
     },
     "execution_count": 329,
     "metadata": {},
     "output_type": "execute_result"
    }
   ],
   "source": [
    "prod_dct = hive.sql(\"select * from {}.{} where CRM_PRODUCT_ID is not Null\".format(conn_schema, 'ma_dict_v_product_dict'))\n",
    "prod_dct = prod_dct.filter(\"(PRODUCT_CD_MMB is not Null) and (PRODUCT_SHORT_NM is not Null)\")\n",
    "\n",
    "prod_dct.columns"
   ]
  },
  {
   "cell_type": "markdown",
   "metadata": {},
   "source": [
    "## MA_MMB_OFFER_NONTOP"
   ]
  },
  {
   "cell_type": "code",
   "execution_count": 336,
   "metadata": {
    "collapsed": true
   },
   "outputs": [],
   "source": [
    "nontop = hive.sql(\"select * from {}.{} where (INN is not Null) and (CREATE_DTTM >= timestamp('2021-04-01'))\".format(conn_schema, 'MA_MMB_OFFER_NONTOP'))"
   ]
  },
  {
   "cell_type": "code",
   "execution_count": 337,
   "metadata": {
    "collapsed": true,
    "scrolled": true
   },
   "outputs": [],
   "source": [
    "def getProdCDFromId(product_dict_nm):\n",
    "    def get_product(product_id, product_dict_nm):\n",
    "        if product_id is None:\n",
    "            return None\n",
    "\n",
    "        for _id in product_dict_nm:\n",
    "            if product_id == _id:\n",
    "                return product_dict_nm[_id]\n",
    "\n",
    "        return list([])\n",
    "\n",
    "    return f.udf(lambda x: get_product(x,product_dict_nm), ArrayType(StringType()))\n",
    "\n",
    "w2=Window.partitionBy('HASHINN', 'CRM_PRODUCT_ID').orderBy(\"COEF_PRODUCT_CD\")\n",
    "\n",
    "product_dict_sp = prod_dct.select('ID', \n",
    "                                  'CRM_PRODUCT_ID', \n",
    "                                  'PRODUCT_CD_MMB',\n",
    "                                  'PRODUCT_SHORT_NM',\n",
    "                                  'PRODUCT_GROUP', \n",
    "                                  'PRODUCT_SUBGROUP')\n",
    "\n",
    "product_dict_pd = product_dict_sp.collect()\n",
    "product_dict_nm = {row.ID: (row.CRM_PRODUCT_ID, \n",
    "                            row.PRODUCT_CD_MMB, \n",
    "                            row.PRODUCT_SHORT_NM,\n",
    "                            row.PRODUCT_GROUP,\n",
    "                            row.PRODUCT_SUBGROUP\n",
    "                           ) for row in product_dict_pd}\n",
    "\n",
    "nontop = nontop.withColumn('PROD_LST', getProdCDFromId(product_dict_nm)('PRODUCT_ID'))\n",
    "\n",
    "nontop = nontop.select(['INN', f.col('COEF_PRODUCT_CD').alias(\"POTENTIAL\")] +\n",
    "                       [f.col('PROD_LST')[0].alias('CRM_PRODUCT_ID'), \n",
    "                        f.col('PROD_LST')[1].alias('PRODUCT_CD_MMB'),\n",
    "                        f.col('PROD_LST')[2].alias('PRODUCT_SHORT_NM'),\n",
    "                        f.col('PROD_LST')[3].alias('PRODUCT_GROUP'),\n",
    "                        f.col('PROD_LST')[4].alias('PRODUCT_SUBGROUP')\n",
    "                       ]).filter(\"PRODUCT_CD_MMB is not Null\")"
   ]
  },
  {
   "cell_type": "code",
   "execution_count": 338,
   "metadata": {
    "scrolled": true
   },
   "outputs": [
    {
     "data": {
      "text/html": [
       "<div>\n",
       "<style scoped>\n",
       "    .dataframe tbody tr th:only-of-type {\n",
       "        vertical-align: middle;\n",
       "    }\n",
       "\n",
       "    .dataframe tbody tr th {\n",
       "        vertical-align: top;\n",
       "    }\n",
       "\n",
       "    .dataframe thead th {\n",
       "        text-align: right;\n",
       "    }\n",
       "</style>\n",
       "<table border=\"1\" class=\"dataframe\">\n",
       "  <thead>\n",
       "    <tr style=\"text-align: right;\">\n",
       "      <th></th>\n",
       "      <th>INN</th>\n",
       "      <th>POTENTIAL</th>\n",
       "      <th>CRM_PRODUCT_ID</th>\n",
       "      <th>PRODUCT_CD_MMB</th>\n",
       "      <th>PRODUCT_SHORT_NM</th>\n",
       "      <th>PRODUCT_GROUP</th>\n",
       "      <th>PRODUCT_SUBGROUP</th>\n",
       "    </tr>\n",
       "  </thead>\n",
       "  <tbody>\n",
       "    <tr>\n",
       "      <th>0</th>\n",
       "      <td>5079005278</td>\n",
       "      <td>766.200012</td>\n",
       "      <td>1-2AZ4PW6S</td>\n",
       "      <td>2GIS_VIVESKA</td>\n",
       "      <td>2GIS-Вывеска</td>\n",
       "      <td>Экосистема</td>\n",
       "      <td>2GIS</td>\n",
       "    </tr>\n",
       "    <tr>\n",
       "      <th>1</th>\n",
       "      <td>5079005285</td>\n",
       "      <td>3832.199951</td>\n",
       "      <td>1-XNQFAFZ</td>\n",
       "      <td>DELOVAYA SREDA</td>\n",
       "      <td>Деловая среда-Подключение к Платформе Деловая ...</td>\n",
       "      <td>Экосистема</td>\n",
       "      <td>Деловая среда</td>\n",
       "    </tr>\n",
       "    <tr>\n",
       "      <th>2</th>\n",
       "      <td>5079006987</td>\n",
       "      <td>3832.199951</td>\n",
       "      <td>1-XNQFAFZ</td>\n",
       "      <td>DELOVAYA SREDA</td>\n",
       "      <td>Деловая среда-Подключение к Платформе Деловая ...</td>\n",
       "      <td>Экосистема</td>\n",
       "      <td>Деловая среда</td>\n",
       "    </tr>\n",
       "    <tr>\n",
       "      <th>3</th>\n",
       "      <td>5079006987</td>\n",
       "      <td>411.839996</td>\n",
       "      <td>1-MP71XI8</td>\n",
       "      <td>LYURIST</td>\n",
       "      <td>Юридические решения-Юрист для бизнеса</td>\n",
       "      <td>Экосистема</td>\n",
       "      <td>Юридические решения</td>\n",
       "    </tr>\n",
       "    <tr>\n",
       "      <th>4</th>\n",
       "      <td>507900751574</td>\n",
       "      <td>3929.560791</td>\n",
       "      <td>1-1Z85A72</td>\n",
       "      <td>OVERDRAFT</td>\n",
       "      <td>Овердрафт</td>\n",
       "      <td>Кредитование</td>\n",
       "      <td>Кредитование</td>\n",
       "    </tr>\n",
       "    <tr>\n",
       "      <th>5</th>\n",
       "      <td>507900751574</td>\n",
       "      <td>3928.852783</td>\n",
       "      <td>1-1GUC</td>\n",
       "      <td>ACQUIRING</td>\n",
       "      <td>Торговый эквайринг</td>\n",
       "      <td>Эквайринг</td>\n",
       "      <td>Эквайринг</td>\n",
       "    </tr>\n",
       "    <tr>\n",
       "      <th>6</th>\n",
       "      <td>507900751574</td>\n",
       "      <td>3832.199951</td>\n",
       "      <td>1-XNQFAFZ</td>\n",
       "      <td>DELOVAYA SREDA</td>\n",
       "      <td>Деловая среда-Подключение к Платформе Деловая ...</td>\n",
       "      <td>Экосистема</td>\n",
       "      <td>Деловая среда</td>\n",
       "    </tr>\n",
       "    <tr>\n",
       "      <th>7</th>\n",
       "      <td>507900751574</td>\n",
       "      <td>3714.423340</td>\n",
       "      <td>1-1GVC</td>\n",
       "      <td>CREDIT</td>\n",
       "      <td>Оборот. кредит-е</td>\n",
       "      <td>Кредитование</td>\n",
       "      <td>Кредитование</td>\n",
       "    </tr>\n",
       "    <tr>\n",
       "      <th>8</th>\n",
       "      <td>507900751574</td>\n",
       "      <td>1911.679565</td>\n",
       "      <td>1-HLPSULB</td>\n",
       "      <td>CREDCORPCARD</td>\n",
       "      <td>Кредитная бизнес-карта</td>\n",
       "      <td>Кредитование</td>\n",
       "      <td>Кредитная бизнес-карта</td>\n",
       "    </tr>\n",
       "    <tr>\n",
       "      <th>9</th>\n",
       "      <td>507900751574</td>\n",
       "      <td>848.261292</td>\n",
       "      <td>1-ASDFAMH</td>\n",
       "      <td>EVOTOR</td>\n",
       "      <td>Эвотор-Покупка смарт-терминала</td>\n",
       "      <td>Смарт-терминал</td>\n",
       "      <td>Эквайринг</td>\n",
       "    </tr>\n",
       "  </tbody>\n",
       "</table>\n",
       "</div>"
      ],
      "text/plain": [
       "            INN    POTENTIAL CRM_PRODUCT_ID  PRODUCT_CD_MMB  \\\n",
       "0    5079005278   766.200012     1-2AZ4PW6S    2GIS_VIVESKA   \n",
       "1    5079005285  3832.199951      1-XNQFAFZ  DELOVAYA SREDA   \n",
       "2    5079006987  3832.199951      1-XNQFAFZ  DELOVAYA SREDA   \n",
       "3    5079006987   411.839996      1-MP71XI8         LYURIST   \n",
       "4  507900751574  3929.560791      1-1Z85A72       OVERDRAFT   \n",
       "5  507900751574  3928.852783         1-1GUC       ACQUIRING   \n",
       "6  507900751574  3832.199951      1-XNQFAFZ  DELOVAYA SREDA   \n",
       "7  507900751574  3714.423340         1-1GVC          CREDIT   \n",
       "8  507900751574  1911.679565      1-HLPSULB    CREDCORPCARD   \n",
       "9  507900751574   848.261292      1-ASDFAMH          EVOTOR   \n",
       "\n",
       "                                    PRODUCT_SHORT_NM   PRODUCT_GROUP  \\\n",
       "0                                       2GIS-Вывеска      Экосистема   \n",
       "1  Деловая среда-Подключение к Платформе Деловая ...      Экосистема   \n",
       "2  Деловая среда-Подключение к Платформе Деловая ...      Экосистема   \n",
       "3              Юридические решения-Юрист для бизнеса      Экосистема   \n",
       "4                                          Овердрафт    Кредитование   \n",
       "5                                 Торговый эквайринг       Эквайринг   \n",
       "6  Деловая среда-Подключение к Платформе Деловая ...      Экосистема   \n",
       "7                                   Оборот. кредит-е    Кредитование   \n",
       "8                             Кредитная бизнес-карта    Кредитование   \n",
       "9                     Эвотор-Покупка смарт-терминала  Смарт-терминал   \n",
       "\n",
       "         PRODUCT_SUBGROUP  \n",
       "0                    2GIS  \n",
       "1           Деловая среда  \n",
       "2           Деловая среда  \n",
       "3     Юридические решения  \n",
       "4            Кредитование  \n",
       "5               Эквайринг  \n",
       "6           Деловая среда  \n",
       "7            Кредитование  \n",
       "8  Кредитная бизнес-карта  \n",
       "9               Эквайринг  "
      ]
     },
     "execution_count": 338,
     "metadata": {},
     "output_type": "execute_result"
    }
   ],
   "source": [
    "nontop.show()"
   ]
  },
  {
   "cell_type": "code",
   "execution_count": 340,
   "metadata": {},
   "outputs": [
    {
     "data": {
      "text/plain": [
       "DataFrame[CRM_PRODUCT_ID: string, MEAN_POTENTIAL: int, PRODUCT_CD_MMB: string, PRODUCT_SHORT_NM: string, PRODUCT_GROUP: string, PRODUCT_SUBGROUP: string]"
      ]
     },
     "execution_count": 340,
     "metadata": {},
     "output_type": "execute_result"
    }
   ],
   "source": [
    "mean_nontop = nontop.groupBy('CRM_PRODUCT_ID').agg(f.mean('POTENTIAL').cast(IntegerType()).alias('MEAN_POTENTIAL'),\n",
    "                                                   f.first('PRODUCT_CD_MMB').alias('PRODUCT_CD_MMB'),\n",
    "                                                   f.first('PRODUCT_SHORT_NM').alias('PRODUCT_SHORT_NM'),\n",
    "                                                   f.first('PRODUCT_GROUP').alias('PRODUCT_GROUP'),\n",
    "                                                   f.first('PRODUCT_SUBGROUP').alias('PRODUCT_SUBGROUP')\n",
    "                                                  ).orderBy(\n",
    "                                                            f.col(\"MEAN_POTENTIAL\").desc()\n",
    "                                                           )\n",
    "\n",
    "mean_nontop.cache()"
   ]
  },
  {
   "cell_type": "code",
   "execution_count": 341,
   "metadata": {},
   "outputs": [
    {
     "data": {
      "text/plain": [
       "61"
      ]
     },
     "execution_count": 341,
     "metadata": {},
     "output_type": "execute_result"
    }
   ],
   "source": [
    "mean_nontop.count()"
   ]
  },
  {
   "cell_type": "code",
   "execution_count": 342,
   "metadata": {},
   "outputs": [
    {
     "data": {
      "text/html": [
       "<div>\n",
       "<style scoped>\n",
       "    .dataframe tbody tr th:only-of-type {\n",
       "        vertical-align: middle;\n",
       "    }\n",
       "\n",
       "    .dataframe tbody tr th {\n",
       "        vertical-align: top;\n",
       "    }\n",
       "\n",
       "    .dataframe thead th {\n",
       "        text-align: right;\n",
       "    }\n",
       "</style>\n",
       "<table border=\"1\" class=\"dataframe\">\n",
       "  <thead>\n",
       "    <tr style=\"text-align: right;\">\n",
       "      <th></th>\n",
       "      <th>CRM_PRODUCT_ID</th>\n",
       "      <th>MEAN_POTENTIAL</th>\n",
       "      <th>PRODUCT_CD_MMB</th>\n",
       "      <th>PRODUCT_SHORT_NM</th>\n",
       "      <th>PRODUCT_GROUP</th>\n",
       "      <th>PRODUCT_SUBGROUP</th>\n",
       "    </tr>\n",
       "  </thead>\n",
       "  <tbody>\n",
       "    <tr>\n",
       "      <th>0</th>\n",
       "      <td>1-K3MF6Z8</td>\n",
       "      <td>2147483647</td>\n",
       "      <td>SMARTCARD</td>\n",
       "      <td>Смарт кредитная бизнес-карта</td>\n",
       "      <td>Кредитование</td>\n",
       "      <td>Кредитная бизнес-карта</td>\n",
       "    </tr>\n",
       "    <tr>\n",
       "      <th>1</th>\n",
       "      <td>1-79LMUVD</td>\n",
       "      <td>2147483647</td>\n",
       "      <td>FACTORING</td>\n",
       "      <td>Факторинг</td>\n",
       "      <td>Факторинг</td>\n",
       "      <td>Факторинг</td>\n",
       "    </tr>\n",
       "    <tr>\n",
       "      <th>2</th>\n",
       "      <td>1-EO0QXLI</td>\n",
       "      <td>2147483647</td>\n",
       "      <td>SMARTCRED</td>\n",
       "      <td>Смарт-кредит</td>\n",
       "      <td>Кредитование</td>\n",
       "      <td>Кредитование</td>\n",
       "    </tr>\n",
       "    <tr>\n",
       "      <th>3</th>\n",
       "      <td>1-1GVC</td>\n",
       "      <td>610759488</td>\n",
       "      <td>CREDIT</td>\n",
       "      <td>Оборот. кредит-е</td>\n",
       "      <td>Кредитование</td>\n",
       "      <td>Кредитование</td>\n",
       "    </tr>\n",
       "    <tr>\n",
       "      <th>4</th>\n",
       "      <td>1-1GW0</td>\n",
       "      <td>552343325</td>\n",
       "      <td>SALARYPROJ</td>\n",
       "      <td>ЗП (ФОТ)</td>\n",
       "      <td>Зарплатные проекты</td>\n",
       "      <td>Зарплатные проекты</td>\n",
       "    </tr>\n",
       "    <tr>\n",
       "      <th>5</th>\n",
       "      <td>1-115HHZO</td>\n",
       "      <td>454389826</td>\n",
       "      <td>LEASING</td>\n",
       "      <td>Предзаявка в Сбербанк Лизинг</td>\n",
       "      <td>Кредитование</td>\n",
       "      <td>Лизинг</td>\n",
       "    </tr>\n",
       "    <tr>\n",
       "      <th>6</th>\n",
       "      <td>1-115HHYO</td>\n",
       "      <td>421709676</td>\n",
       "      <td>CORPCARD</td>\n",
       "      <td>Бизнес карта</td>\n",
       "      <td>Бизнес-карта</td>\n",
       "      <td>Бизнес-карта</td>\n",
       "    </tr>\n",
       "    <tr>\n",
       "      <th>7</th>\n",
       "      <td>1-1GUC</td>\n",
       "      <td>216869799</td>\n",
       "      <td>ACQUIRING</td>\n",
       "      <td>Торговый эквайринг</td>\n",
       "      <td>Эквайринг</td>\n",
       "      <td>Эквайринг</td>\n",
       "    </tr>\n",
       "    <tr>\n",
       "      <th>8</th>\n",
       "      <td>1-115HHZC</td>\n",
       "      <td>50552855</td>\n",
       "      <td>RKO</td>\n",
       "      <td>Открытие расчетного счета</td>\n",
       "      <td>РКО</td>\n",
       "      <td>РКО</td>\n",
       "    </tr>\n",
       "    <tr>\n",
       "      <th>9</th>\n",
       "      <td>1-CZ3R1Y</td>\n",
       "      <td>44477681</td>\n",
       "      <td>INSURANCE</td>\n",
       "      <td>Страхование</td>\n",
       "      <td>Страхование</td>\n",
       "      <td>Страхование</td>\n",
       "    </tr>\n",
       "  </tbody>\n",
       "</table>\n",
       "</div>"
      ],
      "text/plain": [
       "  CRM_PRODUCT_ID  MEAN_POTENTIAL PRODUCT_CD_MMB              PRODUCT_SHORT_NM  \\\n",
       "0      1-K3MF6Z8      2147483647      SMARTCARD  Смарт кредитная бизнес-карта   \n",
       "1      1-79LMUVD      2147483647      FACTORING                     Факторинг   \n",
       "2      1-EO0QXLI      2147483647      SMARTCRED                  Смарт-кредит   \n",
       "3         1-1GVC       610759488         CREDIT              Оборот. кредит-е   \n",
       "4         1-1GW0       552343325     SALARYPROJ                      ЗП (ФОТ)   \n",
       "5      1-115HHZO       454389826        LEASING  Предзаявка в Сбербанк Лизинг   \n",
       "6      1-115HHYO       421709676       CORPCARD                  Бизнес карта   \n",
       "7         1-1GUC       216869799      ACQUIRING            Торговый эквайринг   \n",
       "8      1-115HHZC        50552855            RKO     Открытие расчетного счета   \n",
       "9       1-CZ3R1Y        44477681      INSURANCE                   Страхование   \n",
       "\n",
       "        PRODUCT_GROUP        PRODUCT_SUBGROUP  \n",
       "0        Кредитование  Кредитная бизнес-карта  \n",
       "1           Факторинг               Факторинг  \n",
       "2        Кредитование            Кредитование  \n",
       "3        Кредитование            Кредитование  \n",
       "4  Зарплатные проекты      Зарплатные проекты  \n",
       "5        Кредитование                  Лизинг  \n",
       "6        Бизнес-карта            Бизнес-карта  \n",
       "7           Эквайринг               Эквайринг  \n",
       "8                 РКО                     РКО  \n",
       "9         Страхование             Страхование  "
      ]
     },
     "execution_count": 342,
     "metadata": {},
     "output_type": "execute_result"
    }
   ],
   "source": [
    "mean_nontop.show()"
   ]
  },
  {
   "cell_type": "markdown",
   "metadata": {},
   "source": [
    "## OFFER_PRIORITY "
   ]
  },
  {
   "cell_type": "code",
   "execution_count": 343,
   "metadata": {
    "collapsed": true
   },
   "outputs": [],
   "source": [
    "priority = hive.sql(\"select * from {}.{} where inn is not Null and load_dttm >= timestamp('2021-04-01')\".format(conn_schema, 'OFFER_PRIORITY'))"
   ]
  },
  {
   "cell_type": "code",
   "execution_count": 344,
   "metadata": {
    "collapsed": true
   },
   "outputs": [],
   "source": [
    "priority_part = priority.select('INN', \n",
    "                                'CRM_PRODUCT_ID', \n",
    "                                f.col('offer_priority').alias(\"POTENTIAL\") \n",
    "                                )"
   ]
  },
  {
   "cell_type": "code",
   "execution_count": 345,
   "metadata": {
    "collapsed": true
   },
   "outputs": [],
   "source": [
    "priority_part = priority_part.join(product_dict_sp, on='CRM_PRODUCT_ID', how='left_outer').select('INN', \n",
    "                                                                                                  'CRM_PRODUCT_ID', \n",
    "                                                                                                  'PRODUCT_CD_MMB',\n",
    "                                                                                                  'PRODUCT_SHORT_NM',\n",
    "                                                                                                  'PRODUCT_GROUP',\n",
    "                                                                                                  'PRODUCT_SUBGROUP',\n",
    "                                                                                                  'POTENTIAL').filter(\"PRODUCT_CD_MMB is not Null\")"
   ]
  },
  {
   "cell_type": "code",
   "execution_count": 346,
   "metadata": {},
   "outputs": [
    {
     "data": {
      "text/plain": [
       "DataFrame[CRM_PRODUCT_ID: string, MEAN_POTENTIAL: int, PRODUCT_CD_MMB: string, PRODUCT_SHORT_NM: string, PRODUCT_GROUP: string, PRODUCT_SUBGROUP: string]"
      ]
     },
     "execution_count": 346,
     "metadata": {},
     "output_type": "execute_result"
    }
   ],
   "source": [
    "mean_priority = priority_part.groupBy('CRM_PRODUCT_ID').agg(f.mean('POTENTIAL').cast(IntegerType()).alias('MEAN_POTENTIAL'),\n",
    "                                                            f.first('PRODUCT_CD_MMB').alias('PRODUCT_CD_MMB'),\n",
    "                                                            f.first('PRODUCT_SHORT_NM').alias('PRODUCT_SHORT_NM'),\n",
    "                                                            f.first('PRODUCT_GROUP').alias('PRODUCT_GROUP'),\n",
    "                                                            f.first('PRODUCT_SUBGROUP').alias('PRODUCT_SUBGROUP')\n",
    "                                                           ).orderBy(f.col(\"MEAN_POTENTIAL\").desc())\n",
    "\n",
    "mean_priority.cache()"
   ]
  },
  {
   "cell_type": "code",
   "execution_count": 347,
   "metadata": {},
   "outputs": [
    {
     "data": {
      "text/plain": [
       "DataFrame[CRM_PRODUCT_ID: string, MEAN_POTENTIAL: int, PRODUCT_CD_MMB: string, PRODUCT_SHORT_NM: string, PRODUCT_GROUP: string, PRODUCT_SUBGROUP: string]"
      ]
     },
     "execution_count": 347,
     "metadata": {},
     "output_type": "execute_result"
    }
   ],
   "source": [
    "mean_priority.cache()"
   ]
  },
  {
   "cell_type": "code",
   "execution_count": 348,
   "metadata": {},
   "outputs": [
    {
     "data": {
      "text/plain": [
       "49"
      ]
     },
     "execution_count": 348,
     "metadata": {},
     "output_type": "execute_result"
    }
   ],
   "source": [
    "mean_priority.count()"
   ]
  },
  {
   "cell_type": "markdown",
   "metadata": {},
   "source": [
    "## Union Offers"
   ]
  },
  {
   "cell_type": "code",
   "execution_count": 349,
   "metadata": {
    "collapsed": true
   },
   "outputs": [],
   "source": [
    "union_offers = mean_priority.unionAll(mean_nontop).select('CRM_PRODUCT_ID', \n",
    "                                                          'PRODUCT_CD_MMB', \n",
    "                                                          'PRODUCT_SHORT_NM',\n",
    "                                                          'PRODUCT_GROUP',\n",
    "                                                          'PRODUCT_SUBGROUP',\n",
    "                                                          'MEAN_POTENTIAL')\n",
    "union_offers = union_offers.drop_duplicates()"
   ]
  },
  {
   "cell_type": "code",
   "execution_count": 350,
   "metadata": {
    "collapsed": true
   },
   "outputs": [],
   "source": [
    "union_offers = union_offers.join(deals_succ, on=['PRODUCT_CD_MMB'], how='left_outer').select(\n",
    "                                                                                             'CRM_PRODUCT_ID',\n",
    "                                                                                             'PRODUCT_CD_MMB',\n",
    "                                                                                             'PRODUCT_SHORT_NM',\n",
    "                                                                                             'PRODUCT_GROUP',\n",
    "                                                                                             'PRODUCT_SUBGROUP',    \n",
    "                                                                                             'MEAN_POTENTIAL',\n",
    "                                                                                             'cnt_deals_succ',\n",
    "                                                                                             'total_sum_rub'          \n",
    "                                                                                             )\n",
    "\n",
    "\n",
    "union_offers = union_offers.join(deals_deny, on=['PRODUCT_CD_MMB'], how='left_outer').select( \n",
    "                                                                                             'CRM_PRODUCT_ID',\n",
    "                                                                                             'PRODUCT_CD_MMB',\n",
    "                                                                                             'PRODUCT_SHORT_NM',\n",
    "                                                                                             'PRODUCT_GROUP',\n",
    "                                                                                             'PRODUCT_SUBGROUP',    \n",
    "                                                                                             'MEAN_POTENTIAL',\n",
    "                                                                                             'cnt_deals_deny',\n",
    "                                                                                             'cnt_deals_succ',\n",
    "                                                                                             'total_sum_rub'\n",
    "                                                                                             )\n",
    "\n",
    "union_offers = union_offers.drop_duplicates()"
   ]
  },
  {
   "cell_type": "code",
   "execution_count": 351,
   "metadata": {
    "collapsed": true
   },
   "outputs": [],
   "source": [
    "fin = union_offers.groupBy('CRM_PRODUCT_ID').agg( f.first('PRODUCT_CD_MMB').alias('PRODUCT_CD_MMB'),\n",
    "                                                  f.first('PRODUCT_SHORT_NM').alias('PRODUCT_SHORT_NM'),\n",
    "                                                  f.first('PRODUCT_GROUP').alias('PRODUCT_GROUP'),\n",
    "                                                  f.first('PRODUCT_SUBGROUP').alias('PRODUCT_SUBGROUP'),\n",
    "                                                  f.first('MEAN_POTENTIAL').alias('MEAN_POTENTIAL'),\n",
    "                                                  f.sum('cnt_deals_succ').alias('cnt_deals_succ'.upper()),\n",
    "                                                  f.sum('cnt_deals_deny').alias('cnt_deals_deny'.upper()),\n",
    "                                                  f.sum('total_sum_rub').alias('total_sum_rub'.upper()),\n",
    "                                                  ).orderBy(f.col(\"MEAN_POTENTIAL\").desc(),\n",
    "                                                            f.col(\"cnt_deals_succ\").desc()\n",
    "                                                           )"
   ]
  },
  {
   "cell_type": "code",
   "execution_count": 352,
   "metadata": {
    "collapsed": true
   },
   "outputs": [],
   "source": [
    "df = fin.filter(~f.isnull('cnt_deals_succ')).toPandas()"
   ]
  },
  {
   "cell_type": "code",
   "execution_count": 353,
   "metadata": {},
   "outputs": [
    {
     "data": {
      "text/html": [
       "<div>\n",
       "<style scoped>\n",
       "    .dataframe tbody tr th:only-of-type {\n",
       "        vertical-align: middle;\n",
       "    }\n",
       "\n",
       "    .dataframe tbody tr th {\n",
       "        vertical-align: top;\n",
       "    }\n",
       "\n",
       "    .dataframe thead th {\n",
       "        text-align: right;\n",
       "    }\n",
       "</style>\n",
       "<table border=\"1\" class=\"dataframe\">\n",
       "  <thead>\n",
       "    <tr style=\"text-align: right;\">\n",
       "      <th></th>\n",
       "      <th>CRM_PRODUCT_ID</th>\n",
       "      <th>PRODUCT_CD_MMB</th>\n",
       "      <th>PRODUCT_SHORT_NM</th>\n",
       "      <th>PRODUCT_GROUP</th>\n",
       "      <th>PRODUCT_SUBGROUP</th>\n",
       "      <th>MEAN_POTENTIAL</th>\n",
       "      <th>CNT_DEALS_SUCC</th>\n",
       "      <th>CNT_DEALS_DENY</th>\n",
       "      <th>TOTAL_SUM_RUB</th>\n",
       "    </tr>\n",
       "  </thead>\n",
       "  <tbody>\n",
       "    <tr>\n",
       "      <th>0</th>\n",
       "      <td>1-2X6RWK2B</td>\n",
       "      <td>SPASIBO_BUSINESS</td>\n",
       "      <td>Программа лояльности \"Спасибо Бизнес\"</td>\n",
       "      <td>Экосистема</td>\n",
       "      <td>СберСпасибо</td>\n",
       "      <td>2147483647</td>\n",
       "      <td>2284</td>\n",
       "      <td>18.0</td>\n",
       "      <td>0</td>\n",
       "    </tr>\n",
       "    <tr>\n",
       "      <th>1</th>\n",
       "      <td>1-EO0QXLI</td>\n",
       "      <td>SMARTCRED</td>\n",
       "      <td>Смарт-кредит</td>\n",
       "      <td>Кредитование</td>\n",
       "      <td>Кредитование</td>\n",
       "      <td>2147483647</td>\n",
       "      <td>1198</td>\n",
       "      <td>4917.0</td>\n",
       "      <td>1351566</td>\n",
       "    </tr>\n",
       "    <tr>\n",
       "      <th>2</th>\n",
       "      <td>1-1GVC</td>\n",
       "      <td>CREDIT</td>\n",
       "      <td>Оборот. кредит-е</td>\n",
       "      <td>Кредитование</td>\n",
       "      <td>Кредитование</td>\n",
       "      <td>2147483647</td>\n",
       "      <td>694</td>\n",
       "      <td>300.0</td>\n",
       "      <td>164146022</td>\n",
       "    </tr>\n",
       "    <tr>\n",
       "      <th>3</th>\n",
       "      <td>1-K3MF6Z8</td>\n",
       "      <td>SMARTCARD</td>\n",
       "      <td>Смарт кредитная бизнес-карта</td>\n",
       "      <td>Кредитование</td>\n",
       "      <td>Кредитная бизнес-карта</td>\n",
       "      <td>2147483647</td>\n",
       "      <td>691</td>\n",
       "      <td>2055.0</td>\n",
       "      <td>343246</td>\n",
       "    </tr>\n",
       "    <tr>\n",
       "      <th>4</th>\n",
       "      <td>1-2UI5D8E1</td>\n",
       "      <td>DELOVAYA_SREDA-FORUM_SBER</td>\n",
       "      <td>Деловая среда-Форум Сбер Бизнес Live</td>\n",
       "      <td>Экосистема</td>\n",
       "      <td>Деловая среда</td>\n",
       "      <td>2147483647</td>\n",
       "      <td>74</td>\n",
       "      <td>42.0</td>\n",
       "      <td>1002</td>\n",
       "    </tr>\n",
       "  </tbody>\n",
       "</table>\n",
       "</div>"
      ],
      "text/plain": [
       "  CRM_PRODUCT_ID             PRODUCT_CD_MMB  \\\n",
       "0     1-2X6RWK2B           SPASIBO_BUSINESS   \n",
       "1      1-EO0QXLI                  SMARTCRED   \n",
       "2         1-1GVC                     CREDIT   \n",
       "3      1-K3MF6Z8                  SMARTCARD   \n",
       "4     1-2UI5D8E1  DELOVAYA_SREDA-FORUM_SBER   \n",
       "\n",
       "                        PRODUCT_SHORT_NM PRODUCT_GROUP  \\\n",
       "0  Программа лояльности \"Спасибо Бизнес\"    Экосистема   \n",
       "1                           Смарт-кредит  Кредитование   \n",
       "2                       Оборот. кредит-е  Кредитование   \n",
       "3           Смарт кредитная бизнес-карта  Кредитование   \n",
       "4   Деловая среда-Форум Сбер Бизнес Live    Экосистема   \n",
       "\n",
       "         PRODUCT_SUBGROUP  MEAN_POTENTIAL  CNT_DEALS_SUCC  CNT_DEALS_DENY  \\\n",
       "0             СберСпасибо      2147483647            2284            18.0   \n",
       "1            Кредитование      2147483647            1198          4917.0   \n",
       "2            Кредитование      2147483647             694           300.0   \n",
       "3  Кредитная бизнес-карта      2147483647             691          2055.0   \n",
       "4           Деловая среда      2147483647              74            42.0   \n",
       "\n",
       "   TOTAL_SUM_RUB  \n",
       "0              0  \n",
       "1        1351566  \n",
       "2      164146022  \n",
       "3         343246  \n",
       "4           1002  "
      ]
     },
     "execution_count": 353,
     "metadata": {},
     "output_type": "execute_result"
    }
   ],
   "source": [
    "df.head()"
   ]
  },
  {
   "cell_type": "code",
   "execution_count": 354,
   "metadata": {
    "collapsed": true
   },
   "outputs": [],
   "source": [
    "df.to_excel(\"/opt/workspace/ektov1-av_ca-sbrf-ru/notebooks/site_idprod_deals_rank.xlsx\", index = False, encoding='utf8')"
   ]
  },
  {
   "cell_type": "code",
   "execution_count": null,
   "metadata": {
    "collapsed": true
   },
   "outputs": [],
   "source": []
  }
 ],
 "metadata": {
  "kernelspec": {
   "display_name": "Python 3",
   "language": "python",
   "name": "python3"
  },
  "language_info": {
   "codemirror_mode": {
    "name": "ipython",
    "version": 3
   },
   "file_extension": ".py",
   "mimetype": "text/x-python",
   "name": "python",
   "nbconvert_exporter": "python",
   "pygments_lexer": "ipython3",
   "version": "3.5.3"
  }
 },
 "nbformat": 4,
 "nbformat_minor": 2
}
