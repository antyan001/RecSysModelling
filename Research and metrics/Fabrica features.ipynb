{
 "cells": [
  {
   "cell_type": "code",
   "execution_count": 1,
   "metadata": {
    "collapsed": true,
    "jupyter": {
     "outputs_hidden": true
    }
   },
   "outputs": [],
   "source": [
    "import os, sys\n",
    "\n",
    "recsys_cf = os.environ.get(\"RECSYS_STORY\")\n",
    "sys.path.append(recsys_cf)\n",
    "os.chdir(recsys_cf)\n",
    "\n",
    "from lib.tools import *"
   ]
  },
  {
   "cell_type": "markdown",
   "metadata": {},
   "source": [
    "### SPARK "
   ]
  },
  {
   "cell_type": "code",
   "execution_count": 2,
   "metadata": {
    "collapsed": true,
    "jupyter": {
     "outputs_hidden": true
    }
   },
   "outputs": [],
   "source": [
    "sp = spark(**SPARK_CONFIG)\n",
    "hive = sp.sql"
   ]
  },
  {
   "cell_type": "code",
   "execution_count": 3,
   "metadata": {
    "collapsed": true,
    "jupyter": {
     "outputs_hidden": true
    }
   },
   "outputs": [],
   "source": [
    "CONN_SCHEMA='sbx_team_digitcamp'"
   ]
  },
  {
   "cell_type": "code",
   "execution_count": 4,
   "metadata": {},
   "outputs": [
    {
     "name": "stdout",
     "output_type": "stream",
     "text": [
      "CPU times: user 1.68 ms, sys: 1.56 ms, total: 3.24 ms\n",
      "Wall time: 3.28 s\n"
     ]
    }
   ],
   "source": [
    "%%time\n",
    "deals = \\\n",
    "hive.sql(''' select \n",
    "                    inn, \n",
    "                    create_dt,\n",
    "                    complete_dt,\n",
    "                    host_prod_id,\n",
    "                    close_reason_type_name,\n",
    "                    appl_stage_name\n",
    "\n",
    "             from {}.{} where (inn = '2221191879') and\n",
    "                              (creation_month in ('2021-02-01', \n",
    "                                                  '2021-03-01',\n",
    "                                                  '2021-04-01',\n",
    "                                                  '2021-05-01') )'''.format(CONN_SCHEMA, \"MA_CMDM_MA_DEAL_NEW\"))"
   ]
  },
  {
   "cell_type": "code",
   "execution_count": 5,
   "metadata": {},
   "outputs": [
    {
     "name": "stdout",
     "output_type": "stream",
     "text": [
      "CPU times: user 301 ms, sys: 501 ms, total: 801 ms\n",
      "Wall time: 39min 41s\n"
     ]
    },
    {
     "data": {
      "text/plain": [
       "3"
      ]
     },
     "execution_count": 5,
     "metadata": {},
     "output_type": "execute_result"
    }
   ],
   "source": [
    "%%time\n",
    "deals.count()"
   ]
  },
  {
   "cell_type": "code",
   "execution_count": 7,
   "metadata": {},
   "outputs": [
    {
     "data": {
      "text/html": [
       "<div>\n",
       "<style scoped>\n",
       "    .dataframe tbody tr th:only-of-type {\n",
       "        vertical-align: middle;\n",
       "    }\n",
       "\n",
       "    .dataframe tbody tr th {\n",
       "        vertical-align: top;\n",
       "    }\n",
       "\n",
       "    .dataframe thead th {\n",
       "        text-align: right;\n",
       "    }\n",
       "</style>\n",
       "<table border=\"1\" class=\"dataframe\">\n",
       "  <thead>\n",
       "    <tr style=\"text-align: right;\">\n",
       "      <th></th>\n",
       "      <th>visitNumber</th>\n",
       "      <th>cid</th>\n",
       "      <th>commonSegmentoUID</th>\n",
       "      <th>sbbolUserId</th>\n",
       "      <th>hitPagePath</th>\n",
       "      <th>hitPageTitle</th>\n",
       "      <th>sessionStartTime</th>\n",
       "      <th>sessionDate</th>\n",
       "      <th>hitType</th>\n",
       "      <th>hitNumber</th>\n",
       "      <th>hitTime</th>\n",
       "      <th>eventCategory</th>\n",
       "      <th>eventAction</th>\n",
       "      <th>eventLabel</th>\n",
       "      <th>hitPageHostName</th>\n",
       "      <th>ctl_loading</th>\n",
       "      <th>sessionId</th>\n",
       "      <th>deviceIsMobile</th>\n",
       "      <th>deviceMobileDeviceModel</th>\n",
       "      <th>deviceDeviceCategory</th>\n",
       "      <th>geoRegion</th>\n",
       "      <th>geoCity</th>\n",
       "    </tr>\n",
       "  </thead>\n",
       "  <tbody>\n",
       "    <tr>\n",
       "      <th>0</th>\n",
       "      <td>1248</td>\n",
       "      <td>1452727868.1587947876</td>\n",
       "      <td>None</td>\n",
       "      <td>None</td>\n",
       "      <td>/ic/dcb/</td>\n",
       "      <td>СберБизнес</td>\n",
       "      <td>1628897025</td>\n",
       "      <td>2021-08-14</td>\n",
       "      <td>EVENT</td>\n",
       "      <td>3</td>\n",
       "      <td>0</td>\n",
       "      <td>[std]: login</td>\n",
       "      <td>show</td>\n",
       "      <td>[news]: [show]</td>\n",
       "      <td>localhost</td>\n",
       "      <td>11002249</td>\n",
       "      <td>1628897025</td>\n",
       "      <td>False</td>\n",
       "      <td>None</td>\n",
       "      <td>desktop</td>\n",
       "      <td>Khabarovsk Krai</td>\n",
       "      <td>Khabarovsk</td>\n",
       "    </tr>\n",
       "    <tr>\n",
       "      <th>1</th>\n",
       "      <td>2</td>\n",
       "      <td>2143600002.1628852233</td>\n",
       "      <td>None</td>\n",
       "      <td>None</td>\n",
       "      <td>/main</td>\n",
       "      <td>СберБанк Онлайн</td>\n",
       "      <td>1628945635</td>\n",
       "      <td>2021-08-14</td>\n",
       "      <td>PAGE</td>\n",
       "      <td>28</td>\n",
       "      <td>100685</td>\n",
       "      <td>None</td>\n",
       "      <td>None</td>\n",
       "      <td>None</td>\n",
       "      <td>web1.online.sberbank.ru</td>\n",
       "      <td>11002249</td>\n",
       "      <td>1628945635</td>\n",
       "      <td>False</td>\n",
       "      <td>None</td>\n",
       "      <td>desktop</td>\n",
       "      <td>Republic of Bashkortostan</td>\n",
       "      <td>Uchaly</td>\n",
       "    </tr>\n",
       "    <tr>\n",
       "      <th>2</th>\n",
       "      <td>1</td>\n",
       "      <td>1043955251.1628925029</td>\n",
       "      <td>pMchzHNegren</td>\n",
       "      <td>None</td>\n",
       "      <td>/help/business/sbbol/100296</td>\n",
       "      <td>Как создать платёжное поручение — СберБанк</td>\n",
       "      <td>1628925029</td>\n",
       "      <td>2021-08-14</td>\n",
       "      <td>EVENT</td>\n",
       "      <td>16</td>\n",
       "      <td>163562</td>\n",
       "      <td>SITE_Other_.help.business.sbbol.100296</td>\n",
       "      <td>informing_leads</td>\n",
       "      <td>scroll 50 percent</td>\n",
       "      <td>www.sberbank.ru</td>\n",
       "      <td>11002249</td>\n",
       "      <td>1628925029</td>\n",
       "      <td>False</td>\n",
       "      <td>None</td>\n",
       "      <td>desktop</td>\n",
       "      <td>Krasnodar Krai</td>\n",
       "      <td>Anapa</td>\n",
       "    </tr>\n",
       "    <tr>\n",
       "      <th>3</th>\n",
       "      <td>1581</td>\n",
       "      <td>556968546.1388994877</td>\n",
       "      <td>None</td>\n",
       "      <td>ec615264-6a3f-4fa6-8a87-f6e373fe4547</td>\n",
       "      <td>/main</td>\n",
       "      <td>СберБизнес</td>\n",
       "      <td>1628931602</td>\n",
       "      <td>2021-08-14</td>\n",
       "      <td>EVENT</td>\n",
       "      <td>20</td>\n",
       "      <td>26251</td>\n",
       "      <td>[operations]: offers</td>\n",
       "      <td>impression-story</td>\n",
       "      <td>[placement: main[main_feed]][container: a9ba93ee-d5c6-d10d-e054-90e2ba8333f9][bc: adv_non_bank][product: rabota_ru]</td>\n",
       "      <td>sbi.sberbank.ru</td>\n",
       "      <td>11002249</td>\n",
       "      <td>1628931602</td>\n",
       "      <td>False</td>\n",
       "      <td>None</td>\n",
       "      <td>desktop</td>\n",
       "      <td>Vologda Oblast</td>\n",
       "      <td>Vologda</td>\n",
       "    </tr>\n",
       "    <tr>\n",
       "      <th>4</th>\n",
       "      <td>480</td>\n",
       "      <td>1598249319.1589364527</td>\n",
       "      <td>None</td>\n",
       "      <td>8a3f5f37-6361-4c1f-94fc-2b8f71d6cd03</td>\n",
       "      <td>/main</td>\n",
       "      <td>СберБизнес</td>\n",
       "      <td>1628925210</td>\n",
       "      <td>2021-08-14</td>\n",
       "      <td>EVENT</td>\n",
       "      <td>46</td>\n",
       "      <td>394568</td>\n",
       "      <td>[std]: layout</td>\n",
       "      <td>show</td>\n",
       "      <td>[layout.primarymenusbbol3]: [novelty_info]</td>\n",
       "      <td>sbi.sberbank.ru</td>\n",
       "      <td>11002249</td>\n",
       "      <td>1628925210</td>\n",
       "      <td>False</td>\n",
       "      <td>None</td>\n",
       "      <td>desktop</td>\n",
       "      <td>Republic of Bashkortostan</td>\n",
       "      <td>Ufa</td>\n",
       "    </tr>\n",
       "    <tr>\n",
       "      <th>5</th>\n",
       "      <td>247</td>\n",
       "      <td>1333304315.1572956738</td>\n",
       "      <td>None</td>\n",
       "      <td>None</td>\n",
       "      <td>/payments/provider#/main</td>\n",
       "      <td>СберБанк Онлайн</td>\n",
       "      <td>1628940116</td>\n",
       "      <td>2021-08-14</td>\n",
       "      <td>PAGE</td>\n",
       "      <td>21</td>\n",
       "      <td>357979</td>\n",
       "      <td>None</td>\n",
       "      <td>None</td>\n",
       "      <td>None</td>\n",
       "      <td>web1.online.sberbank.ru</td>\n",
       "      <td>11002249</td>\n",
       "      <td>1628940116</td>\n",
       "      <td>True</td>\n",
       "      <td>SM-A305FN</td>\n",
       "      <td>mobile</td>\n",
       "      <td>Sakhalin Oblast</td>\n",
       "      <td>Yuzhno-Sakhalinsk</td>\n",
       "    </tr>\n",
       "    <tr>\n",
       "      <th>6</th>\n",
       "      <td>3</td>\n",
       "      <td>1061117300.1626119128</td>\n",
       "      <td>fbOtmfdaV4vn</td>\n",
       "      <td>None</td>\n",
       "      <td>/ru/legal/investments/globalmarkets/sbmarkets</td>\n",
       "      <td>Система электронной торговли SberCIB Terminal — СберБанк</td>\n",
       "      <td>1628971805</td>\n",
       "      <td>2021-08-14</td>\n",
       "      <td>PAGE</td>\n",
       "      <td>38</td>\n",
       "      <td>826865</td>\n",
       "      <td>None</td>\n",
       "      <td>None</td>\n",
       "      <td>None</td>\n",
       "      <td>www.sberbank.ru</td>\n",
       "      <td>11002249</td>\n",
       "      <td>1628971805</td>\n",
       "      <td>False</td>\n",
       "      <td>None</td>\n",
       "      <td>desktop</td>\n",
       "      <td>Saint Petersburg</td>\n",
       "      <td>Saint Petersburg</td>\n",
       "    </tr>\n",
       "    <tr>\n",
       "      <th>7</th>\n",
       "      <td>636</td>\n",
       "      <td>1107583888.1591630230</td>\n",
       "      <td>None</td>\n",
       "      <td>3c25f07c-09d4-fc84-e054-90e2ba85d0c8</td>\n",
       "      <td>/accounts-payments/account/:accountId#lightbox/payment/:type/:id</td>\n",
       "      <td>СберБизнес</td>\n",
       "      <td>1628945019</td>\n",
       "      <td>2021-08-14</td>\n",
       "      <td>EVENT</td>\n",
       "      <td>60</td>\n",
       "      <td>182900</td>\n",
       "      <td>[field]: payments</td>\n",
       "      <td>ruble_payment_edit__rub_comm</td>\n",
       "      <td>counterpartyaccountnumber</td>\n",
       "      <td>sbi.sberbank.ru</td>\n",
       "      <td>11002249</td>\n",
       "      <td>1628945019</td>\n",
       "      <td>False</td>\n",
       "      <td>None</td>\n",
       "      <td>desktop</td>\n",
       "      <td>Moscow Oblast</td>\n",
       "      <td>Dmitrov</td>\n",
       "    </tr>\n",
       "    <tr>\n",
       "      <th>8</th>\n",
       "      <td>22</td>\n",
       "      <td>2142242428.1628617076</td>\n",
       "      <td>None</td>\n",
       "      <td>None</td>\n",
       "      <td>/CSAFront/index.do</td>\n",
       "      <td>Вход - СберБанк Онлайн</td>\n",
       "      <td>1628950212</td>\n",
       "      <td>2021-08-14</td>\n",
       "      <td>PAGE</td>\n",
       "      <td>4</td>\n",
       "      <td>7806</td>\n",
       "      <td>None</td>\n",
       "      <td>None</td>\n",
       "      <td>None</td>\n",
       "      <td>online.sberbank.ru</td>\n",
       "      <td>11002249</td>\n",
       "      <td>1628950212</td>\n",
       "      <td>True</td>\n",
       "      <td>iPhone</td>\n",
       "      <td>mobile</td>\n",
       "      <td>Rostov Oblast</td>\n",
       "      <td>Rostov-on-Don</td>\n",
       "    </tr>\n",
       "    <tr>\n",
       "      <th>9</th>\n",
       "      <td>2</td>\n",
       "      <td>28175819.1628341735</td>\n",
       "      <td>None</td>\n",
       "      <td>None</td>\n",
       "      <td>/CSAFront/oidc/authorize.do?response_type=code&amp;scope=openid+addresses+address_reg+birthdate+citizenship+education+email+gender+inn+maindoc+marital_status+mobile+name+openid+place_of_birth+previous_maindoc+previous_name+snils+verified&amp;client_id=0916a770-fa84-464d-8457-f802ba408ef6&amp;state=GINRH4jxUhWg&amp;nonce=1056s0itG9Pm&amp;redirect_uri=https://domclick.ru/cas/login</td>\n",
       "      <td>Авторизация - Сбер ID</td>\n",
       "      <td>1628961733</td>\n",
       "      <td>2021-08-14</td>\n",
       "      <td>EVENT</td>\n",
       "      <td>5</td>\n",
       "      <td>7239</td>\n",
       "      <td>SBOL_WEB_oidc</td>\n",
       "      <td>Вход по QR-коду</td>\n",
       "      <td>Получен QR</td>\n",
       "      <td>online.sberbank.ru</td>\n",
       "      <td>11002249</td>\n",
       "      <td>1628961733</td>\n",
       "      <td>False</td>\n",
       "      <td>None</td>\n",
       "      <td>desktop</td>\n",
       "      <td>Tambov Oblast</td>\n",
       "      <td>Tambov</td>\n",
       "    </tr>\n",
       "  </tbody>\n",
       "</table>\n",
       "</div>"
      ],
      "text/plain": [
       "   visitNumber                    cid commonSegmentoUID  \\\n",
       "0         1248  1452727868.1587947876              None   \n",
       "1            2  2143600002.1628852233              None   \n",
       "2            1  1043955251.1628925029      pMchzHNegren   \n",
       "3         1581   556968546.1388994877              None   \n",
       "4          480  1598249319.1589364527              None   \n",
       "5          247  1333304315.1572956738              None   \n",
       "6            3  1061117300.1626119128      fbOtmfdaV4vn   \n",
       "7          636  1107583888.1591630230              None   \n",
       "8           22  2142242428.1628617076              None   \n",
       "9            2    28175819.1628341735              None   \n",
       "\n",
       "                            sbbolUserId  \\\n",
       "0                                  None   \n",
       "1                                  None   \n",
       "2                                  None   \n",
       "3  ec615264-6a3f-4fa6-8a87-f6e373fe4547   \n",
       "4  8a3f5f37-6361-4c1f-94fc-2b8f71d6cd03   \n",
       "5                                  None   \n",
       "6                                  None   \n",
       "7  3c25f07c-09d4-fc84-e054-90e2ba85d0c8   \n",
       "8                                  None   \n",
       "9                                  None   \n",
       "\n",
       "                                                                                                                                                                                                                                                                                                                                                                 hitPagePath  \\\n",
       "0                                                                                                                                                                                                                                                                                                                                                                   /ic/dcb/   \n",
       "1                                                                                                                                                                                                                                                                                                                                                                      /main   \n",
       "2                                                                                                                                                                                                                                                                                                                                                /help/business/sbbol/100296   \n",
       "3                                                                                                                                                                                                                                                                                                                                                                      /main   \n",
       "4                                                                                                                                                                                                                                                                                                                                                                      /main   \n",
       "5                                                                                                                                                                                                                                                                                                                                                   /payments/provider#/main   \n",
       "6                                                                                                                                                                                                                                                                                                                              /ru/legal/investments/globalmarkets/sbmarkets   \n",
       "7                                                                                                                                                                                                                                                                                                           /accounts-payments/account/:accountId#lightbox/payment/:type/:id   \n",
       "8                                                                                                                                                                                                                                                                                                                                                         /CSAFront/index.do   \n",
       "9  /CSAFront/oidc/authorize.do?response_type=code&scope=openid+addresses+address_reg+birthdate+citizenship+education+email+gender+inn+maindoc+marital_status+mobile+name+openid+place_of_birth+previous_maindoc+previous_name+snils+verified&client_id=0916a770-fa84-464d-8457-f802ba408ef6&state=GINRH4jxUhWg&nonce=1056s0itG9Pm&redirect_uri=https://domclick.ru/cas/login   \n",
       "\n",
       "                                               hitPageTitle  sessionStartTime  \\\n",
       "0                                                СберБизнес        1628897025   \n",
       "1                                           СберБанк Онлайн        1628945635   \n",
       "2                Как создать платёжное поручение — СберБанк        1628925029   \n",
       "3                                                СберБизнес        1628931602   \n",
       "4                                                СберБизнес        1628925210   \n",
       "5                                           СберБанк Онлайн        1628940116   \n",
       "6  Система электронной торговли SberCIB Terminal — СберБанк        1628971805   \n",
       "7                                                СберБизнес        1628945019   \n",
       "8                                    Вход - СберБанк Онлайн        1628950212   \n",
       "9                                     Авторизация - Сбер ID        1628961733   \n",
       "\n",
       "  sessionDate hitType  hitNumber  hitTime  \\\n",
       "0  2021-08-14   EVENT          3        0   \n",
       "1  2021-08-14    PAGE         28   100685   \n",
       "2  2021-08-14   EVENT         16   163562   \n",
       "3  2021-08-14   EVENT         20    26251   \n",
       "4  2021-08-14   EVENT         46   394568   \n",
       "5  2021-08-14    PAGE         21   357979   \n",
       "6  2021-08-14    PAGE         38   826865   \n",
       "7  2021-08-14   EVENT         60   182900   \n",
       "8  2021-08-14    PAGE          4     7806   \n",
       "9  2021-08-14   EVENT          5     7239   \n",
       "\n",
       "                            eventCategory                   eventAction  \\\n",
       "0                            [std]: login                          show   \n",
       "1                                    None                          None   \n",
       "2  SITE_Other_.help.business.sbbol.100296               informing_leads   \n",
       "3                    [operations]: offers              impression-story   \n",
       "4                           [std]: layout                          show   \n",
       "5                                    None                          None   \n",
       "6                                    None                          None   \n",
       "7                       [field]: payments  ruble_payment_edit__rub_comm   \n",
       "8                                    None                          None   \n",
       "9                           SBOL_WEB_oidc               Вход по QR-коду   \n",
       "\n",
       "                                                                                                            eventLabel  \\\n",
       "0                                                                                                       [news]: [show]   \n",
       "1                                                                                                                 None   \n",
       "2                                                                                                    scroll 50 percent   \n",
       "3  [placement: main[main_feed]][container: a9ba93ee-d5c6-d10d-e054-90e2ba8333f9][bc: adv_non_bank][product: rabota_ru]   \n",
       "4                                                                           [layout.primarymenusbbol3]: [novelty_info]   \n",
       "5                                                                                                                 None   \n",
       "6                                                                                                                 None   \n",
       "7                                                                                            counterpartyaccountnumber   \n",
       "8                                                                                                                 None   \n",
       "9                                                                                                           Получен QR   \n",
       "\n",
       "           hitPageHostName  ctl_loading   sessionId  deviceIsMobile  \\\n",
       "0                localhost     11002249  1628897025           False   \n",
       "1  web1.online.sberbank.ru     11002249  1628945635           False   \n",
       "2          www.sberbank.ru     11002249  1628925029           False   \n",
       "3          sbi.sberbank.ru     11002249  1628931602           False   \n",
       "4          sbi.sberbank.ru     11002249  1628925210           False   \n",
       "5  web1.online.sberbank.ru     11002249  1628940116            True   \n",
       "6          www.sberbank.ru     11002249  1628971805           False   \n",
       "7          sbi.sberbank.ru     11002249  1628945019           False   \n",
       "8       online.sberbank.ru     11002249  1628950212            True   \n",
       "9       online.sberbank.ru     11002249  1628961733           False   \n",
       "\n",
       "  deviceMobileDeviceModel deviceDeviceCategory                  geoRegion  \\\n",
       "0                    None              desktop            Khabarovsk Krai   \n",
       "1                    None              desktop  Republic of Bashkortostan   \n",
       "2                    None              desktop             Krasnodar Krai   \n",
       "3                    None              desktop             Vologda Oblast   \n",
       "4                    None              desktop  Republic of Bashkortostan   \n",
       "5               SM-A305FN               mobile            Sakhalin Oblast   \n",
       "6                    None              desktop           Saint Petersburg   \n",
       "7                    None              desktop              Moscow Oblast   \n",
       "8                  iPhone               mobile              Rostov Oblast   \n",
       "9                    None              desktop              Tambov Oblast   \n",
       "\n",
       "             geoCity  \n",
       "0         Khabarovsk  \n",
       "1             Uchaly  \n",
       "2              Anapa  \n",
       "3            Vologda  \n",
       "4                Ufa  \n",
       "5  Yuzhno-Sakhalinsk  \n",
       "6   Saint Petersburg  \n",
       "7            Dmitrov  \n",
       "8      Rostov-on-Don  \n",
       "9             Tambov  "
      ]
     },
     "execution_count": 7,
     "metadata": {},
     "output_type": "execute_result"
    }
   ],
   "source": [
    "load_table(SBX_TEAM_DIGITCAMP, 'tmp_visit_part', hive).show()"
   ]
  },
  {
   "cell_type": "markdown",
   "metadata": {},
   "source": [
    "### Load_data "
   ]
  },
  {
   "cell_type": "markdown",
   "metadata": {},
   "source": [
    "### prod_dct"
   ]
  },
  {
   "cell_type": "code",
   "execution_count": 122,
   "metadata": {},
   "outputs": [
    {
     "name": "stdout",
     "output_type": "stream",
     "text": [
      "CPU times: user 2.58 ms, sys: 955 µs, total: 3.53 ms\n",
      "Wall time: 75.6 ms\n"
     ]
    }
   ],
   "source": [
    "%%time\n",
    "prod_dct = hive.sql(\"select * from {}.{} where CRM_PRODUCT_ID is not Null\".format(SBX_TEAM_DIGITCAMP, 'ma_dict_v_product_dict'))\n",
    "prod_dct = prod_dct.filter(\"(PRODUCT_CD_MMB is not Null) and (PRODUCT_SHORT_NM is not Null)\").cache()"
   ]
  },
  {
   "cell_type": "code",
   "execution_count": 123,
   "metadata": {},
   "outputs": [
    {
     "name": "stdout",
     "output_type": "stream",
     "text": [
      "CPU times: user 3.01 ms, sys: 184 µs, total: 3.19 ms\n",
      "Wall time: 352 ms\n"
     ]
    },
    {
     "data": {
      "text/plain": [
       "131"
      ]
     },
     "execution_count": 123,
     "metadata": {},
     "output_type": "execute_result"
    }
   ],
   "source": [
    "%%time\n",
    "prod_dct.count()"
   ]
  },
  {
   "cell_type": "markdown",
   "metadata": {},
   "source": [
    "### nontop"
   ]
  },
  {
   "cell_type": "code",
   "execution_count": 5,
   "metadata": {},
   "outputs": [
    {
     "name": "stdout",
     "output_type": "stream",
     "text": [
      "CPU times: user 2.28 ms, sys: 2.46 ms, total: 4.74 ms\n",
      "Wall time: 426 ms\n"
     ]
    }
   ],
   "source": [
    "%%time\n",
    "nontop = hive.sql(\"select * from {}.{} where (INN is not Null) and (CREATE_DlfTTM >= timestamp('2021-04-01'))\"\\\n",
    "                  .format(SBX_TEAM_DIGITCAMP, 'MA_MMB_OFFER_NONTOP')).cache()"
   ]
  },
  {
   "cell_type": "code",
   "execution_count": 6,
   "metadata": {},
   "outputs": [
    {
     "name": "stdout",
     "output_type": "stream",
     "text": [
      "CPU times: user 18.5 ms, sys: 24.9 ms, total: 43.4 ms\n",
      "Wall time: 1min 57s\n"
     ]
    },
    {
     "data": {
      "text/plain": [
       "34327204"
      ]
     },
     "execution_count": 6,
     "metadata": {},
     "output_type": "execute_result"
    }
   ],
   "source": [
    "%%time\n",
    "nontop.count()"
   ]
  },
  {
   "cell_type": "code",
   "execution_count": null,
   "metadata": {},
   "outputs": [],
   "source": [
    "nontop.show(3)"
   ]
  },
  {
   "cell_type": "code",
   "execution_count": 17,
   "metadata": {},
   "outputs": [
    {
     "data": {
      "text/plain": [
       "[('OFFER_ID', 'bigint'),\n",
       " ('INN', 'string'),\n",
       " ('NONTOP_FLG', 'string'),\n",
       " ('PRIORITY_NUM', 'float'),\n",
       " ('CRM_ID', 'string'),\n",
       " ('ACTIVITY_TYPE_CD', 'string'),\n",
       " ('COEF_PRODUCT_CD', 'float'),\n",
       " ('NONTOP_RANG', 'bigint'),\n",
       " ('CREATE_DTTM', 'timestamp'),\n",
       " ('OFFER_DESC', 'string'),\n",
       " ('NPV_VOLUME_HEAP', 'float'),\n",
       " ('NPV_INCOME_HEAP', 'float'),\n",
       " ('SOURCES_LIST', 'string'),\n",
       " ('SOURCES_LV2_LIST', 'string'),\n",
       " ('NOTPRPR_FLG', 'bigint'),\n",
       " ('CAMPAIGN_CODE', 'string'),\n",
       " ('REASON', 'string'),\n",
       " ('START_DTTM', 'timestamp'),\n",
       " ('END_DTTM', 'string'),\n",
       " ('CM_CKR_FLG', 'bigint'),\n",
       " ('CM_MS_FLG', 'bigint'),\n",
       " ('CM_MKK_FLG', 'bigint'),\n",
       " ('SBBOL_FLG', 'bigint'),\n",
       " ('PRODUCT_ID', 'bigint'),\n",
       " ('CM_GKM_FLG', 'bigint')]"
      ]
     },
     "execution_count": 17,
     "metadata": {},
     "output_type": "execute_result"
    }
   ],
   "source": [
    "nontop.dtypes"
   ]
  },
  {
   "cell_type": "markdown",
   "metadata": {},
   "source": [
    "есть кейсы, где потенциалы разные по одинаковым продуктам за одну дату (источники могут повторяться, а могут различаться)\n",
    "\n",
    "То есть, при сборке потенциалов по разным продуктам, необходимо собирать сет по источникам, потенциалы по продукту при этом суммировать"
   ]
  },
  {
   "cell_type": "code",
   "execution_count": null,
   "metadata": {},
   "outputs": [],
   "source": [
    "%%time\n",
    "nontop.groupby(\"INN\", 'PRODUCT_ID')\\\n",
    "      .agg(f.count('PRODUCT_ID').alias('CNT_PRD'))\\\n",
    "      .orderBy(f.col('CNT_PRD').desc())\\\n",
    "      .show(10)"
   ]
  },
  {
   "cell_type": "code",
   "execution_count": null,
   "metadata": {
    "collapsed": true,
    "jupyter": {
     "outputs_hidden": true
    }
   },
   "outputs": [],
   "source": [
    "%%time\n",
    "nontop.groupby(\"INN\", 'PRODUCT_ID')\\\n",
    "      .agg(f.count('PRODUCT_ID').alias('CNT_PRD'))\\\n",
    "      .orderBy(f.col('CNT_PRD').desc())\\\n",
    "      .filter(\"CNT_PRD >= 2\").count()"
   ]
  },
  {
   "cell_type": "markdown",
   "metadata": {},
   "source": [
    "бывают кейсы, где в таблице разные потенциалы по совпадающим источникам - их несопоставимо мало, не будем обращать на них внимание"
   ]
  },
  {
   "cell_type": "code",
   "execution_count": null,
   "metadata": {},
   "outputs": [],
   "source": [
    "%%time\n",
    "nontop.groupby(\"INN\", 'PRODUCT_ID', 'SOURCES_LV2_LIST')\\\n",
    "      .agg(f.count('PRODUCT_ID').alias('CNT_PRD'))\\\n",
    "      .orderBy(f.col('CNT_PRD').desc())\\\n",
    "      .show(10)"
   ]
  },
  {
   "cell_type": "code",
   "execution_count": 61,
   "metadata": {},
   "outputs": [
    {
     "data": {
      "text/plain": [
       "12676"
      ]
     },
     "execution_count": 61,
     "metadata": {},
     "output_type": "execute_result"
    }
   ],
   "source": [
    "nontop.groupby(\"INN\", 'PRODUCT_ID')\\\n",
    "      .agg(f.count('PRODUCT_ID').alias('CNT_PRD'))\\\n",
    "      .orderBy(f.col('CNT_PRD').desc())\\\n",
    "      .filter(\"CNT_PRD >= 2\").count()"
   ]
  },
  {
   "cell_type": "markdown",
   "metadata": {},
   "source": [
    "сколько строк с одним нн с одним продуктом и разными потенциалами"
   ]
  },
  {
   "cell_type": "code",
   "execution_count": 62,
   "metadata": {},
   "outputs": [
    {
     "data": {
      "text/plain": [
       "5930"
      ]
     },
     "execution_count": 62,
     "metadata": {},
     "output_type": "execute_result"
    }
   ],
   "source": [
    "nontop.groupby(\"INN\", 'PRODUCT_ID', 'COEF_PRODUCT_CD')\\\n",
    "      .agg(f.count('PRODUCT_ID').alias('CNT_PRD'))\\\n",
    "      .orderBy(f.col('CNT_PRD').desc())\\\n",
    "      .filter(\"CNT_PRD >= 2\").count()"
   ]
  },
  {
   "cell_type": "code",
   "execution_count": null,
   "metadata": {},
   "outputs": [],
   "source": [
    "nontop.filter((f.col(\"INN\") == \"263408599005\") & (f.col(\"PRODUCT_ID\") == 18)).show()"
   ]
  },
  {
   "cell_type": "code",
   "execution_count": null,
   "metadata": {},
   "outputs": [],
   "source": [
    "nontop.filter((f.col(\"INN\") == \"7814503581\") & (f.col(\"PRODUCT_ID\") == 156)).show()"
   ]
  },
  {
   "cell_type": "markdown",
   "metadata": {},
   "source": [
    "посмотрим, как выглядят источники в нонтопе"
   ]
  },
  {
   "cell_type": "code",
   "execution_count": 32,
   "metadata": {},
   "outputs": [
    {
     "name": "stdout",
     "output_type": "stream",
     "text": [
      "CPU times: user 15.2 ms, sys: 1.32 ms, total: 16.5 ms\n",
      "Wall time: 4.11 s\n"
     ]
    },
    {
     "data": {
      "text/html": [
       "<div>\n",
       "<style scoped>\n",
       "    .dataframe tbody tr th:only-of-type {\n",
       "        vertical-align: middle;\n",
       "    }\n",
       "\n",
       "    .dataframe tbody tr th {\n",
       "        vertical-align: top;\n",
       "    }\n",
       "\n",
       "    .dataframe thead th {\n",
       "        text-align: right;\n",
       "    }\n",
       "</style>\n",
       "<table border=\"1\" class=\"dataframe\">\n",
       "  <thead>\n",
       "    <tr style=\"text-align: right;\">\n",
       "      <th></th>\n",
       "      <th>SOURCES_LV2_LIST</th>\n",
       "    </tr>\n",
       "  </thead>\n",
       "  <tbody>\n",
       "    <tr>\n",
       "      <th>0</th>\n",
       "      <td>OTR2,ЦА-ДМСМ-0121</td>\n",
       "    </tr>\n",
       "    <tr>\n",
       "      <th>1</th>\n",
       "      <td>T020,ЦА-ПРОД2ГИСММБ-0120,ЦА-ФОТММБ-0221,NBA</td>\n",
       "    </tr>\n",
       "    <tr>\n",
       "      <th>2</th>\n",
       "      <td>ЦА-ЭКВПИРР-0421</td>\n",
       "    </tr>\n",
       "    <tr>\n",
       "      <th>3</th>\n",
       "      <td>T099,ЦА-ДБКМЛ-0421,NBA</td>\n",
       "    </tr>\n",
       "  </tbody>\n",
       "</table>\n",
       "</div>"
      ],
      "text/plain": [
       "                              SOURCES_LV2_LIST\n",
       "0                            OTR2,ЦА-ДМСМ-0121\n",
       "1  T020,ЦА-ПРОД2ГИСММБ-0120,ЦА-ФОТММБ-0221,NBA\n",
       "2                              ЦА-ЭКВПИРР-0421\n",
       "3                       T099,ЦА-ДБКМЛ-0421,NBA"
      ]
     },
     "execution_count": 32,
     "metadata": {},
     "output_type": "execute_result"
    }
   ],
   "source": [
    "%%time\n",
    "nontop.select(\"SOURCES_LV2_LIST\").distinct().show(4)"
   ]
  },
  {
   "cell_type": "markdown",
   "metadata": {},
   "source": [
    "выделим все источники в список"
   ]
  },
  {
   "cell_type": "code",
   "execution_count": 29,
   "metadata": {
    "collapsed": true,
    "jupyter": {
     "outputs_hidden": true
    }
   },
   "outputs": [],
   "source": [
    "source_list = nontop.select(\"SOURCES_LV2_LIST\").distinct().collect()"
   ]
  },
  {
   "cell_type": "code",
   "execution_count": null,
   "metadata": {
    "collapsed": true,
    "jupyter": {
     "outputs_hidden": true
    }
   },
   "outputs": [],
   "source": [
    "source_list"
   ]
  },
  {
   "cell_type": "code",
   "execution_count": 22,
   "metadata": {},
   "outputs": [
    {
     "data": {
      "text/plain": [
       "['OTR2', 'ЦА-ДМСМ-0121']"
      ]
     },
     "execution_count": 22,
     "metadata": {},
     "output_type": "execute_result"
    }
   ],
   "source": [
    "source_list[0][0].split(',')"
   ]
  },
  {
   "cell_type": "markdown",
   "metadata": {},
   "source": [
    "Выделим необходимые столбцы"
   ]
  },
  {
   "cell_type": "code",
   "execution_count": 82,
   "metadata": {
    "collapsed": true,
    "jupyter": {
     "outputs_hidden": true
    }
   },
   "outputs": [],
   "source": [
    "nontop_need_columns = nontop.select(\"INN\",\n",
    "                                    \"PRODUCT_ID\",\n",
    "                                    \"SOURCES_LV2_LIST\",\n",
    "                                    f.split(f.col(\"SOURCES_LV2_LIST\"), ',').alias(\"SOURCES_LV2_LIST_NONTOP\"),\n",
    "                                    f.col(\"COEF_PRODUCT_CD\").alias(\"POTENTIAL\")).cache()"
   ]
  },
  {
   "cell_type": "code",
   "execution_count": 83,
   "metadata": {},
   "outputs": [
    {
     "name": "stdout",
     "output_type": "stream",
     "text": [
      "CPU times: user 196 µs, sys: 2.96 ms, total: 3.16 ms\n",
      "Wall time: 1.44 s\n"
     ]
    },
    {
     "data": {
      "text/plain": [
       "34327204"
      ]
     },
     "execution_count": 83,
     "metadata": {},
     "output_type": "execute_result"
    }
   ],
   "source": [
    "%%time\n",
    "nontop_need_columns.count()"
   ]
  },
  {
   "cell_type": "code",
   "execution_count": null,
   "metadata": {},
   "outputs": [],
   "source": [
    "nontop_need_columns.show()"
   ]
  },
  {
   "cell_type": "code",
   "execution_count": 85,
   "metadata": {},
   "outputs": [
    {
     "data": {
      "text/html": [
       "<div>\n",
       "<style scoped>\n",
       "    .dataframe tbody tr th:only-of-type {\n",
       "        vertical-align: middle;\n",
       "    }\n",
       "\n",
       "    .dataframe tbody tr th {\n",
       "        vertical-align: top;\n",
       "    }\n",
       "\n",
       "    .dataframe thead th {\n",
       "        text-align: right;\n",
       "    }\n",
       "</style>\n",
       "<table border=\"1\" class=\"dataframe\">\n",
       "  <thead>\n",
       "    <tr style=\"text-align: right;\">\n",
       "      <th></th>\n",
       "      <th>INN</th>\n",
       "      <th>PRODUCT_ID</th>\n",
       "      <th>collect_set(SOURCES_LV2_LIST)</th>\n",
       "    </tr>\n",
       "  </thead>\n",
       "  <tbody>\n",
       "    <tr>\n",
       "      <th>0</th>\n",
       "      <td>7814503581</td>\n",
       "      <td>156</td>\n",
       "      <td>[T145, ЦА-НЕКОМАКТ-1220]</td>\n",
       "    </tr>\n",
       "  </tbody>\n",
       "</table>\n",
       "</div>"
      ],
      "text/plain": [
       "          INN  PRODUCT_ID collect_set(SOURCES_LV2_LIST)\n",
       "0  7814503581         156      [T145, ЦА-НЕКОМАКТ-1220]"
      ]
     },
     "execution_count": 85,
     "metadata": {},
     "output_type": "execute_result"
    }
   ],
   "source": [
    "nontop_need_columns.groupby(\"INN\", \"PRODUCT_ID\").agg(f.collect_set(\"SOURCES_LV2_LIST\"))\\\n",
    "                   .filter((f.col(\"INN\") == \"7814503581\") & (f.col(\"PRODUCT_ID\") == 156)).show()"
   ]
  },
  {
   "cell_type": "code",
   "execution_count": null,
   "metadata": {},
   "outputs": [],
   "source": [
    "nontop_need_columns.select(f.col(\"SOURCES_LV2_LIST\"),\n",
    "                           f.split(f.col(\"SOURCES_LV2_LIST\"), ',').alias(\"SOURCE_LST\")).distinct().show(100)"
   ]
  },
  {
   "cell_type": "markdown",
   "metadata": {},
   "source": [
    "### nontop pipeline"
   ]
  },
  {
   "cell_type": "markdown",
   "metadata": {},
   "source": [
    "таким образом опишем весь пайплайн того, что происходит с нонтопом"
   ]
  },
  {
   "cell_type": "code",
   "execution_count": 87,
   "metadata": {
    "collapsed": true,
    "jupyter": {
     "outputs_hidden": true
    }
   },
   "outputs": [],
   "source": [
    "nontop_need_columns = nontop.select(f.to_date(f.col('CREATE_DTTM')).alias('CREATE_DATE'),\n",
    "                                    \"INN\",\n",
    "                                    \"PRODUCT_ID\",\n",
    "                                    f.split(f.col(\"SOURCES_LV2_LIST\"), ',').alias(\"SOURCES_LV2_LIST_NONTOP\"),\n",
    "                                    f.col(\"COEF_PRODUCT_CD\").alias(\"POTENTIAL_NONTOP\")).cache()"
   ]
  },
  {
   "cell_type": "code",
   "execution_count": 88,
   "metadata": {},
   "outputs": [
    {
     "name": "stdout",
     "output_type": "stream",
     "text": [
      "CPU times: user 2.04 ms, sys: 1.53 ms, total: 3.57 ms\n",
      "Wall time: 1.67 s\n"
     ]
    },
    {
     "data": {
      "text/plain": [
       "34327204"
      ]
     },
     "execution_count": 88,
     "metadata": {},
     "output_type": "execute_result"
    }
   ],
   "source": [
    "%%time\n",
    "nontop_need_columns.count()"
   ]
  },
  {
   "cell_type": "code",
   "execution_count": null,
   "metadata": {},
   "outputs": [],
   "source": [
    "nontop_need_columns.show(3)"
   ]
  },
  {
   "cell_type": "code",
   "execution_count": 117,
   "metadata": {},
   "outputs": [
    {
     "name": "stdout",
     "output_type": "stream",
     "text": [
      "CPU times: user 3.13 ms, sys: 3.11 ms, total: 6.24 ms\n",
      "Wall time: 28.9 ms\n"
     ]
    }
   ],
   "source": [
    "%%time\n",
    "nontop_all_sources = nontop_need_columns.groupby(\"CREATE_DATE\",\n",
    "                                                 \"INN\",\n",
    "                                                 \"PRODUCT_ID\").agg(f.collect_set(\"SOURCES_LV2_LIST_NONTOP\")\\\n",
    "                                                                    .alias(\"SOURCES_LV2_LIST_NONTOP\"),\n",
    "                                                                   f.avg(\"POTENTIAL_NONTOP\").alias(\"POTENTIAL_NONTOP\")).cache()"
   ]
  },
  {
   "cell_type": "code",
   "execution_count": null,
   "metadata": {},
   "outputs": [],
   "source": [
    "nontop_all_sources.show(5)"
   ]
  },
  {
   "cell_type": "code",
   "execution_count": 113,
   "metadata": {
    "collapsed": true,
    "jupyter": {
     "outputs_hidden": true
    }
   },
   "outputs": [],
   "source": [
    "def list_to_set(source_lst):\n",
    "    a = set()\n",
    "    for i in source_lst:\n",
    "        a = a | set(i)\n",
    "    return list(a)      "
   ]
  },
  {
   "cell_type": "code",
   "execution_count": 115,
   "metadata": {
    "collapsed": true,
    "jupyter": {
     "outputs_hidden": true
    }
   },
   "outputs": [],
   "source": [
    "set_from_list_udf = f.udf(list_to_set, ArrayType(StringType()))"
   ]
  },
  {
   "cell_type": "code",
   "execution_count": 119,
   "metadata": {
    "collapsed": true,
    "jupyter": {
     "outputs_hidden": true
    }
   },
   "outputs": [],
   "source": [
    "nontop_before_end = nontop_all_sources.withColumn(\"SOURCES_LV2_LIST_NONTOP\",\n",
    "                                                  set_from_list_udf(f.col(\"SOURCES_LV2_LIST_NONTOP\")))"
   ]
  },
  {
   "cell_type": "code",
   "execution_count": null,
   "metadata": {},
   "outputs": [],
   "source": [
    "%%time\n",
    "nontop_before_end.show()"
   ]
  },
  {
   "cell_type": "code",
   "execution_count": 209,
   "metadata": {
    "collapsed": true,
    "jupyter": {
     "outputs_hidden": true
    }
   },
   "outputs": [],
   "source": [
    "nontop_final = nontop_before_end.join(prod_dct, nontop_before_end.PRODUCT_ID == prod_dct.ID, how='inner')\\\n",
    "                                .select(\"CREATE_DATE\",\n",
    "                                        \"INN\",\n",
    "                                        f.col(\"CRM_PRODUCT_ID\").alias(\"CRM_PRODUCT_ID\"),\n",
    "                                        f.col(\"PRODUCT_GROUP\").alias(\"PRODUCT_GROUP\"),\n",
    "                                        f.col(\"PRODUCT_SUBGROUP\").alias(\"PRODUCT_SUBGROUP\"),\n",
    "                                        \"SOURCES_LV2_LIST_NONTOP\",\n",
    "                                        \"POTENTIAL_NONTOP\"\n",
    "                                        ).cache()"
   ]
  },
  {
   "cell_type": "code",
   "execution_count": 210,
   "metadata": {},
   "outputs": [
    {
     "data": {
      "text/plain": [
       "33296952"
      ]
     },
     "execution_count": 210,
     "metadata": {},
     "output_type": "execute_result"
    }
   ],
   "source": [
    "nontop_final.count()"
   ]
  },
  {
   "cell_type": "code",
   "execution_count": null,
   "metadata": {},
   "outputs": [],
   "source": [
    "nontop_final.show()"
   ]
  },
  {
   "cell_type": "code",
   "execution_count": null,
   "metadata": {
    "collapsed": true,
    "jupyter": {
     "outputs_hidden": true
    }
   },
   "outputs": [],
   "source": []
  },
  {
   "cell_type": "code",
   "execution_count": null,
   "metadata": {
    "collapsed": true,
    "jupyter": {
     "outputs_hidden": true
    }
   },
   "outputs": [],
   "source": []
  },
  {
   "cell_type": "markdown",
   "metadata": {},
   "source": [
    "Оставить в итоге, \n",
    "\n",
    "\n",
    "INN\tCRM_PRODUCT_ID PRODUCT_GROUP\tPRODUCT_SUBGROUP\tCREATE_DATE\tPOTENTIAL, SOURCES_LV2_LIST\n",
    "\n",
    "\n",
    "список источников, как фичи оставить, словарик с регулярным обновлением, если придут новые источники"
   ]
  },
  {
   "cell_type": "code",
   "execution_count": null,
   "metadata": {
    "collapsed": true,
    "jupyter": {
     "outputs_hidden": true
    }
   },
   "outputs": [],
   "source": [
    "nontop_full_agg.union()"
   ]
  },
  {
   "cell_type": "markdown",
   "metadata": {},
   "source": [
    "scaller"
   ]
  },
  {
   "cell_type": "code",
   "execution_count": 123,
   "metadata": {
    "collapsed": true,
    "jupyter": {
     "outputs_hidden": true
    }
   },
   "outputs": [],
   "source": [
    "from pyspark.ml.feature import StandardScaler, VectorAssembler, MinMaxScaler"
   ]
  },
  {
   "cell_type": "code",
   "execution_count": 124,
   "metadata": {},
   "outputs": [
    {
     "data": {
      "text/plain": [
       "MinMaxScaler_1a9364da3769"
      ]
     },
     "execution_count": 124,
     "metadata": {},
     "output_type": "execute_result"
    }
   ],
   "source": [
    "nontopScaller = MinMaxScaler()\n",
    "nontopScaller.setInputCol('POTENTIAL_VECTOR')\n",
    "nontopScaller.setOutputCol('POTENTIAL_SCALED')"
   ]
  },
  {
   "cell_type": "code",
   "execution_count": 125,
   "metadata": {
    "collapsed": true,
    "jupyter": {
     "outputs_hidden": true
    }
   },
   "outputs": [],
   "source": [
    "assembler = VectorAssembler().setInputCols(['POTENTIAL']).setOutputCol('POTENTIAL_VECTOR')"
   ]
  },
  {
   "cell_type": "code",
   "execution_count": null,
   "metadata": {},
   "outputs": [],
   "source": [
    "%%time\n",
    "assembler.transform(nontop_full_agg).show()"
   ]
  },
  {
   "cell_type": "code",
   "execution_count": 127,
   "metadata": {},
   "outputs": [
    {
     "name": "stdout",
     "output_type": "stream",
     "text": [
      "CPU times: user 29.1 ms, sys: 37.3 ms, total: 66.4 ms\n",
      "Wall time: 3.69 s\n"
     ]
    }
   ],
   "source": [
    "%%time\n",
    "scaled_nontop_full = nontopScaller.fit(assembler.transform(nontop_full_agg))\\\n",
    "                                  .transform(assembler.transform(nontop_full_agg))"
   ]
  },
  {
   "cell_type": "code",
   "execution_count": 128,
   "metadata": {
    "collapsed": true,
    "jupyter": {
     "outputs_hidden": true
    }
   },
   "outputs": [],
   "source": [
    "unlist = f.udf(lambda x: float(list(x)[0]), DoubleType())"
   ]
  },
  {
   "cell_type": "code",
   "execution_count": null,
   "metadata": {},
   "outputs": [],
   "source": [
    "scaled_nontop_full.show(3)"
   ]
  },
  {
   "cell_type": "code",
   "execution_count": 130,
   "metadata": {
    "collapsed": true,
    "jupyter": {
     "outputs_hidden": true
    }
   },
   "outputs": [],
   "source": [
    "scaled_nontop_full = scaled_nontop_full.withColumn(\"POTENTIAL_SCALED\",\n",
    "                                                   unlist(\"POTENTIAL_SCALED\"))"
   ]
  },
  {
   "cell_type": "code",
   "execution_count": null,
   "metadata": {},
   "outputs": [],
   "source": [
    "scaled_nontop_full.show(3)"
   ]
  },
  {
   "cell_type": "code",
   "execution_count": null,
   "metadata": {},
   "outputs": [],
   "source": [
    "max_potential = scaled_nontop_full.select(f.max(\"POTENTIAL\")).take(1)[0][0]\n",
    "scaled_nontop_full.filter(f.col('POTENTIAL') == max_potential).show()"
   ]
  },
  {
   "cell_type": "markdown",
   "metadata": {},
   "source": [
    "не очень хорошо, что минимальный потенциал приравнивается к 0, надо сделать его не от 0 до 1 а от epsilon до 1"
   ]
  },
  {
   "cell_type": "markdown",
   "metadata": {},
   "source": [
    "### OFFER_PRIORITY"
   ]
  },
  {
   "cell_type": "code",
   "execution_count": 130,
   "metadata": {
    "collapsed": true,
    "jupyter": {
     "outputs_hidden": true
    }
   },
   "outputs": [],
   "source": [
    "priority = hive.sql(\"select * from {}.{} where inn is not Null and load_dttm >= timestamp('2021-04-01')\"\\\n",
    "                    .format(SBX_TEAM_DIGITCAMP, 'OFFER_PRIORITY')).cache()"
   ]
  },
  {
   "cell_type": "code",
   "execution_count": 132,
   "metadata": {},
   "outputs": [
    {
     "data": {
      "text/plain": [
       "1406268"
      ]
     },
     "execution_count": 132,
     "metadata": {},
     "output_type": "execute_result"
    }
   ],
   "source": [
    "priority.count()"
   ]
  },
  {
   "cell_type": "code",
   "execution_count": null,
   "metadata": {},
   "outputs": [],
   "source": [
    "%%time\n",
    "priority.show(3)"
   ]
  },
  {
   "cell_type": "code",
   "execution_count": 47,
   "metadata": {},
   "outputs": [
    {
     "name": "stdout",
     "output_type": "stream",
     "text": [
      "['offer_id', 'run_id', 'load_id', 'load_dttm', 'crm_product_id', 'offer_priority', 'user_id', 'update_dttm', 'end_dt', 'activity_type_cd', 'start_dt', 'km_group_id', 'offer_desc', 'sources_list', 'sources_lv2_list', 'campaign_code', 'npv_volume_heap', 'npv_income_heap', 'inn', 'crm_id', 'product_cd', 'reason', 'cm_ckr_flg', 'cm_ms_flg', 'cm_mkk_flg', 'sbbol_flg', 'mkk_activity', 'product_id']\n"
     ]
    }
   ],
   "source": [
    "print(priority.columns)"
   ]
  },
  {
   "cell_type": "markdown",
   "metadata": {},
   "source": [
    "в приорити даты только до 6 мая??"
   ]
  },
  {
   "cell_type": "code",
   "execution_count": 51,
   "metadata": {},
   "outputs": [
    {
     "name": "stdout",
     "output_type": "stream",
     "text": [
      "CPU times: user 6 ms, sys: 6.9 ms, total: 12.9 ms\n",
      "Wall time: 554 ms\n"
     ]
    },
    {
     "data": {
      "text/html": [
       "<div>\n",
       "<style scoped>\n",
       "    .dataframe tbody tr th:only-of-type {\n",
       "        vertical-align: middle;\n",
       "    }\n",
       "\n",
       "    .dataframe tbody tr th {\n",
       "        vertical-align: top;\n",
       "    }\n",
       "\n",
       "    .dataframe thead th {\n",
       "        text-align: right;\n",
       "    }\n",
       "</style>\n",
       "<table border=\"1\" class=\"dataframe\">\n",
       "  <thead>\n",
       "    <tr style=\"text-align: right;\">\n",
       "      <th></th>\n",
       "      <th>load_dttm</th>\n",
       "    </tr>\n",
       "  </thead>\n",
       "  <tbody>\n",
       "    <tr>\n",
       "      <th>0</th>\n",
       "      <td>2021-04-30</td>\n",
       "    </tr>\n",
       "    <tr>\n",
       "      <th>1</th>\n",
       "      <td>2021-04-20</td>\n",
       "    </tr>\n",
       "    <tr>\n",
       "      <th>2</th>\n",
       "      <td>2021-04-22</td>\n",
       "    </tr>\n",
       "    <tr>\n",
       "      <th>3</th>\n",
       "      <td>2021-04-13</td>\n",
       "    </tr>\n",
       "    <tr>\n",
       "      <th>4</th>\n",
       "      <td>2021-04-27</td>\n",
       "    </tr>\n",
       "    <tr>\n",
       "      <th>5</th>\n",
       "      <td>2021-05-06</td>\n",
       "    </tr>\n",
       "    <tr>\n",
       "      <th>6</th>\n",
       "      <td>2021-04-06</td>\n",
       "    </tr>\n",
       "    <tr>\n",
       "      <th>7</th>\n",
       "      <td>2021-04-07</td>\n",
       "    </tr>\n",
       "    <tr>\n",
       "      <th>8</th>\n",
       "      <td>2021-04-15</td>\n",
       "    </tr>\n",
       "  </tbody>\n",
       "</table>\n",
       "</div>"
      ],
      "text/plain": [
       "   load_dttm\n",
       "0 2021-04-30\n",
       "1 2021-04-20\n",
       "2 2021-04-22\n",
       "3 2021-04-13\n",
       "4 2021-04-27\n",
       "5 2021-05-06\n",
       "6 2021-04-06\n",
       "7 2021-04-07\n",
       "8 2021-04-15"
      ]
     },
     "execution_count": 51,
     "metadata": {},
     "output_type": "execute_result"
    }
   ],
   "source": [
    "%%time\n",
    "priority.select('load_dttm').distinct().show(100)"
   ]
  },
  {
   "cell_type": "markdown",
   "metadata": {},
   "source": [
    "в priority нет даты старта, но есть load_dttm - использую ее, как эквивалентную "
   ]
  },
  {
   "cell_type": "code",
   "execution_count": 10,
   "metadata": {
    "collapsed": true,
    "jupyter": {
     "outputs_hidden": true
    }
   },
   "outputs": [],
   "source": [
    "priority_part = priority.select('INN', \n",
    "                                'CRM_PRODUCT_ID', \n",
    "                                f.col('offer_priority').alias(\"POTENTIAL\"),\n",
    "                                f.col('load_dttm').alias(\"CREATE_DTTM\")\n",
    "                                )"
   ]
  },
  {
   "cell_type": "code",
   "execution_count": 11,
   "metadata": {
    "collapsed": true,
    "jupyter": {
     "outputs_hidden": true
    }
   },
   "outputs": [],
   "source": [
    "priority_part = priority_part.join(product_dict_sp,\n",
    "                                   on='CRM_PRODUCT_ID',\n",
    "                                   how='inner').select('INN', \n",
    "                                                       'CRM_PRODUCT_ID', \n",
    "                                                       'PRODUCT_CD_MMB',\n",
    "                                                       'PRODUCT_SHORT_NM',\n",
    "                                                       'PRODUCT_GROUP',\n",
    "                                                       'PRODUCT_SUBGROUP',\n",
    "                                                       'POTENTIAL').filter(\"PRODUCT_CD_MMB is not Null\")"
   ]
  },
  {
   "cell_type": "code",
   "execution_count": 15,
   "metadata": {},
   "outputs": [
    {
     "name": "stdout",
     "output_type": "stream",
     "text": [
      "CPU times: user 1.33 ms, sys: 1.58 ms, total: 2.91 ms\n",
      "Wall time: 514 ms\n"
     ]
    },
    {
     "data": {
      "text/plain": [
       "1294404"
      ]
     },
     "execution_count": 15,
     "metadata": {},
     "output_type": "execute_result"
    }
   ],
   "source": [
    "%%time\n",
    "priority_part.count()"
   ]
  },
  {
   "cell_type": "code",
   "execution_count": null,
   "metadata": {},
   "outputs": [],
   "source": [
    "%%time\n",
    "priority_part.show()"
   ]
  },
  {
   "cell_type": "markdown",
   "metadata": {},
   "source": [
    "### priority pipeline "
   ]
  },
  {
   "cell_type": "code",
   "execution_count": 133,
   "metadata": {
    "collapsed": true,
    "jupyter": {
     "outputs_hidden": true
    }
   },
   "outputs": [],
   "source": [
    "priority_need_columns = priority.select(f.to_date(f.col('load_dttm')).alias('CREATE_DATE'),\n",
    "                                        \"INN\",\n",
    "                                        \"CRM_PRODUCT_ID\",\n",
    "                                        f.split(f.col(\"SOURCES_LV2_LIST\"), ',').alias(\"SOURCES_LV2_LIST_PRIORITY\"),\n",
    "                                        f.col(\"offer_priority\").alias(\"POTENTIAL_PRIORITY\")).cache()"
   ]
  },
  {
   "cell_type": "code",
   "execution_count": 139,
   "metadata": {},
   "outputs": [
    {
     "name": "stdout",
     "output_type": "stream",
     "text": [
      "CPU times: user 2.42 ms, sys: 3.93 ms, total: 6.35 ms\n",
      "Wall time: 28.3 ms\n"
     ]
    }
   ],
   "source": [
    "%%time\n",
    "priority_all_sources = priority_need_columns.groupby(\"CREATE_DATE\",\n",
    "                                                     \"INN\",\n",
    "                                                     \"CRM_PRODUCT_ID\").agg(f.collect_set(\"SOURCES_LV2_LIST_PRIORITY\")\\\n",
    "                                                                        .alias(\"SOURCES_LV2_LIST_PRIORITY\"),\n",
    "                                                                       f.avg(\"POTENTIAL_PRIORITY\")\\\n",
    "                                                                        .alias(\"POTENTIAL_PRIORITY\")).cache()"
   ]
  },
  {
   "cell_type": "code",
   "execution_count": 142,
   "metadata": {
    "collapsed": true,
    "jupyter": {
     "outputs_hidden": true
    }
   },
   "outputs": [],
   "source": [
    "priority_before_end = priority_all_sources.withColumn(\"SOURCES_LV2_LIST_PRIORITY\",\n",
    "                                                      set_from_list_udf(f.col(\"SOURCES_LV2_LIST_PRIORITY\")))"
   ]
  },
  {
   "cell_type": "code",
   "execution_count": null,
   "metadata": {},
   "outputs": [],
   "source": [
    "priority_before_end.show()"
   ]
  },
  {
   "cell_type": "code",
   "execution_count": 206,
   "metadata": {
    "collapsed": true,
    "jupyter": {
     "outputs_hidden": true
    }
   },
   "outputs": [],
   "source": [
    "priority_final = priority_before_end.join(prod_dct, priority_before_end.CRM_PRODUCT_ID == prod_dct.CRM_PRODUCT_ID, how='inner')\\\n",
    "                                .select(\"CREATE_DATE\",\n",
    "                                        \"INN\",\n",
    "                                        priority_before_end.CRM_PRODUCT_ID.alias(\"CRM_PRODUCT_ID\"),\n",
    "                                        f.col(\"PRODUCT_GROUP\").alias(\"PRODUCT_GROUP\"),\n",
    "                                        f.col(\"PRODUCT_SUBGROUP\").alias(\"PRODUCT_SUBGROUP\"),\n",
    "                                        \"SOURCES_LV2_LIST_PRIORITY\",\n",
    "                                        f.col(\"POTENTIAL_PRIORITY\")\n",
    "                                        ).cache()"
   ]
  },
  {
   "cell_type": "code",
   "execution_count": 207,
   "metadata": {},
   "outputs": [
    {
     "name": "stdout",
     "output_type": "stream",
     "text": [
      "CPU times: user 1.67 ms, sys: 1.65 ms, total: 3.32 ms\n",
      "Wall time: 15.1 ms\n"
     ]
    }
   ],
   "source": [
    "%%time\n",
    "priority_final = priority_final.filter(\"CREATE_DATE = '2021-04-30'\").cache()"
   ]
  },
  {
   "cell_type": "code",
   "execution_count": 208,
   "metadata": {},
   "outputs": [
    {
     "data": {
      "text/plain": [
       "311821"
      ]
     },
     "execution_count": 208,
     "metadata": {},
     "output_type": "execute_result"
    }
   ],
   "source": [
    "priority_final.count()"
   ]
  },
  {
   "cell_type": "code",
   "execution_count": null,
   "metadata": {},
   "outputs": [],
   "source": [
    "priority_final.show()"
   ]
  },
  {
   "cell_type": "code",
   "execution_count": null,
   "metadata": {},
   "outputs": [],
   "source": [
    "nontop_final.show()"
   ]
  },
  {
   "cell_type": "code",
   "execution_count": 177,
   "metadata": {},
   "outputs": [
    {
     "data": {
      "text/plain": [
       "33296952"
      ]
     },
     "execution_count": 177,
     "metadata": {},
     "output_type": "execute_result"
    }
   ],
   "source": [
    "nontop_final.count()"
   ]
  },
  {
   "cell_type": "markdown",
   "metadata": {},
   "source": [
    "### toxic "
   ]
  },
  {
   "cell_type": "markdown",
   "metadata": {},
   "source": [
    "### join offers "
   ]
  },
  {
   "cell_type": "code",
   "execution_count": 214,
   "metadata": {},
   "outputs": [
    {
     "name": "stdout",
     "output_type": "stream",
     "text": [
      "CPU times: user 5.78 ms, sys: 6.36 ms, total: 12.1 ms\n",
      "Wall time: 65.5 ms\n"
     ]
    }
   ],
   "source": [
    "%%time\n",
    "result_table = priority_final.join(nontop_final,\n",
    "                                   (priority_final.INN == nontop_final.INN) &\n",
    "                                   (priority_final.CREATE_DATE == nontop_final.CREATE_DATE) &\n",
    "                                   (priority_final.CRM_PRODUCT_ID == nontop_final.CRM_PRODUCT_ID),\n",
    "                                   how='full_outer')\\\n",
    "                             .select(f.when(f.isnull(priority_final.CREATE_DATE),\n",
    "                                            nontop_final.CREATE_DATE).otherwise(priority_final.CREATE_DATE).alias(\"CREATE_DATE\"),\n",
    "                                     f.when(f.isnull(priority_final.INN),\n",
    "                                            nontop_final.INN).otherwise(priority_final.INN).alias(\"INN\"),\n",
    "                                     f.when(f.isnull(priority_final.CRM_PRODUCT_ID),\n",
    "                                            nontop_final.CRM_PRODUCT_ID).otherwise(priority_final.CRM_PRODUCT_ID).alias(\"CRM_PRODUCT_ID\"),\n",
    "                                     f.when(f.isnull(priority_final.PRODUCT_GROUP),\n",
    "                                            nontop_final.PRODUCT_GROUP).otherwise(priority_final.PRODUCT_GROUP).alias(\"PRODUCT_GROUP\"),\n",
    "                                     f.when(f.isnull(priority_final.PRODUCT_SUBGROUP),\n",
    "                                            nontop_final.PRODUCT_SUBGROUP).otherwise(priority_final.PRODUCT_SUBGROUP).alias(\"PRODUCT_SUBGROUP\"),\n",
    "                                     f.col(\"SOURCES_LV2_LIST_NONTOP\"),\n",
    "                                     f.col(\"POTENTIAL_NONTOP\"),\n",
    "                                     f.col(\"SOURCES_LV2_LIST_PRIORITY\"),\n",
    "                                     f.col(\"POTENTIAL_PRIORITY\"))\\\n",
    "                             .cache()"
   ]
  },
  {
   "cell_type": "code",
   "execution_count": 215,
   "metadata": {},
   "outputs": [
    {
     "data": {
      "text/plain": [
       "33581861"
      ]
     },
     "execution_count": 215,
     "metadata": {},
     "output_type": "execute_result"
    }
   ],
   "source": [
    "result_table.count()"
   ]
  },
  {
   "cell_type": "code",
   "execution_count": null,
   "metadata": {},
   "outputs": [],
   "source": [
    "result_table.show()"
   ]
  },
  {
   "cell_type": "markdown",
   "metadata": {},
   "source": [
    "сделать юнион источников нонтоп и приорити"
   ]
  },
  {
   "cell_type": "markdown",
   "metadata": {},
   "source": [
    "### union offers "
   ]
  },
  {
   "cell_type": "code",
   "execution_count": 22,
   "metadata": {},
   "outputs": [
    {
     "data": {
      "text/plain": [
       "DataFrame[CRM_PRODUCT_ID: string, MEAN_POTENTIAL: int, PRODUCT_CD_MMB: string, PRODUCT_SHORT_NM: string, PRODUCT_GROUP: string, PRODUCT_SUBGROUP: string]"
      ]
     },
     "execution_count": 22,
     "metadata": {},
     "output_type": "execute_result"
    }
   ],
   "source": [
    "mean_priority = priority_part.groupBy('CRM_PRODUCT_ID').agg(f.mean('POTENTIAL').cast(IntegerType()).alias('MEAN_POTENTIAL'),\n",
    "                                                            f.first('PRODUCT_CD_MMB').alias('PRODUCT_CD_MMB'),\n",
    "                                                            f.first('PRODUCT_SHORT_NM').alias('PRODUCT_SHORT_NM'),\n",
    "                                                            f.first('PRODUCT_GROUP').alias('PRODUCT_GROUP'),\n",
    "                                                            f.first('PRODUCT_SUBGROUP').alias('PRODUCT_SUBGROUP')\n",
    "                                                           ).orderBy(f.col(\"MEAN_POTENTIAL\").desc())\n",
    "\n",
    "mean_priority.cache()"
   ]
  },
  {
   "cell_type": "markdown",
   "metadata": {},
   "source": [
    "### union offers "
   ]
  },
  {
   "cell_type": "code",
   "execution_count": null,
   "metadata": {},
   "outputs": [],
   "source": [
    "union_offers = mean_priority.unionAll(mean_nontop).select('CRM_PRODUCT_ID', \n",
    "                                                          'PRODUCT_CD_MMB', \n",
    "                                                          'PRODUCT_SHORT_NM',\n",
    "                                                          'PRODUCT_GROUP',\n",
    "                                                          'PRODUCT_SUBGROUP',\n",
    "                                                          'MEAN_POTENTIAL')\n",
    "union_offers = union_offers.drop_duplicates()"
   ]
  },
  {
   "cell_type": "code",
   "execution_count": null,
   "metadata": {
    "collapsed": true,
    "jupyter": {
     "outputs_hidden": true
    }
   },
   "outputs": [],
   "source": []
  }
 ],
 "metadata": {
  "kernelspec": {
   "display_name": "Python 3 (ipykernel)",
   "language": "python",
   "name": "python3"
  },
  "language_info": {
   "codemirror_mode": {
    "name": "ipython",
    "version": 3
   },
   "file_extension": ".py",
   "mimetype": "text/x-python",
   "name": "python",
   "nbconvert_exporter": "python",
   "pygments_lexer": "ipython3",
   "version": "3.9.12"
  }
 },
 "nbformat": 4,
 "nbformat_minor": 4
}
