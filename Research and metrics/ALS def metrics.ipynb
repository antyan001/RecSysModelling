{
 "cells": [
  {
   "cell_type": "code",
   "execution_count": 1,
   "metadata": {
    "collapsed": true
   },
   "outputs": [],
   "source": [
    "import os, sys\n",
    "\n",
    "recsys_cf = os.environ.get(\"RECSYS_STORY\")\n",
    "sys.path.append(recsys_cf)\n",
    "os.chdir(recsys_cf)\n",
    "\n",
    "from lib.tools import *"
   ]
  },
  {
   "cell_type": "code",
   "execution_count": 2,
   "metadata": {
    "collapsed": true
   },
   "outputs": [],
   "source": [
    "# Preproc\n",
    "from sklearn.preprocessing import MinMaxScaler\n",
    "\n",
    "# Metrics\n",
    "from sklearn.metrics import mean_absolute_error, mean_squared_error, r2_score\n",
    "from sklearn.metrics import roc_auc_score, log_loss\n",
    "from sklearn.metrics import roc_curve, precision_recall_curve\n",
    "from sklearn.metrics import confusion_matrix, classification_report\n",
    "from sklearn.metrics import accuracy_score, precision_score, recall_score,  f1_score\n",
    "\n",
    "# Model\n",
    "from pyspark.ml.recommendation import ALS, ALSModel"
   ]
  },
  {
   "cell_type": "code",
   "execution_count": 3,
   "metadata": {
    "collapsed": true
   },
   "outputs": [],
   "source": [
    "%matplotlib inline"
   ]
  },
  {
   "cell_type": "markdown",
   "metadata": {},
   "source": [
    "###### spark "
   ]
  },
  {
   "cell_type": "code",
   "execution_count": 4,
   "metadata": {
    "collapsed": true
   },
   "outputs": [],
   "source": [
    "sp = spark(**SPARK_CONFIG)\n",
    "hive = sp.sql"
   ]
  },
  {
   "cell_type": "markdown",
   "metadata": {},
   "source": [
    "###### load data "
   ]
  },
  {
   "cell_type": "code",
   "execution_count": 5,
   "metadata": {
    "collapsed": true
   },
   "outputs": [],
   "source": [
    "train_sdf = load_table(SBX_TEAM_DIGITCAMP, RECSYS_STORY_DATASET_TRAIN_POS, hive)"
   ]
  },
  {
   "cell_type": "code",
   "execution_count": 6,
   "metadata": {
    "collapsed": true
   },
   "outputs": [],
   "source": [
    "val_sdf = load_table(SBX_TEAM_DIGITCAMP, RECSYS_STORY_DATASET_VAL, hive)"
   ]
  },
  {
   "cell_type": "code",
   "execution_count": 7,
   "metadata": {
    "collapsed": true
   },
   "outputs": [],
   "source": [
    "test_sdf = load_table(SBX_TEAM_DIGITCAMP, RECSYS_STORY_TEST, hive)"
   ]
  },
  {
   "cell_type": "code",
   "execution_count": 8,
   "metadata": {},
   "outputs": [
    {
     "data": {
      "text/plain": [
       "2482"
      ]
     },
     "execution_count": 8,
     "metadata": {},
     "output_type": "execute_result"
    }
   ],
   "source": [
    "test_sdf.filter(\"rating = 1\").count()"
   ]
  },
  {
   "cell_type": "code",
   "execution_count": 9,
   "metadata": {},
   "outputs": [
    {
     "name": "stdout",
     "output_type": "stream",
     "text": [
      "CPU times: user 47.4 s, sys: 4.12 s, total: 51.6 s\n",
      "Wall time: 55.2 s\n"
     ]
    }
   ],
   "source": [
    "%%time\n",
    "train = train_sdf.toPandas()\n",
    "val = val_sdf.toPandas()\n",
    "test = test_sdf.toPandas()"
   ]
  },
  {
   "cell_type": "code",
   "execution_count": 10,
   "metadata": {
    "collapsed": true
   },
   "outputs": [],
   "source": [
    "COL_USER = \"user_id\"\n",
    "COL_ITEM = \"item_id\"\n",
    "COL_TIMESTAMP = \"timestamp\"\n",
    "COL_RATING = \"rating\"\n",
    "COL_PREDICTION = \"prediction\""
   ]
  },
  {
   "cell_type": "markdown",
   "metadata": {},
   "source": [
    "###### model "
   ]
  },
  {
   "cell_type": "code",
   "execution_count": 11,
   "metadata": {
    "collapsed": true
   },
   "outputs": [],
   "source": [
    "params = {\n",
    "    'alpha': 5,\n",
    "    'maxIter': 5,\n",
    "    'nonnegative': False,\n",
    "    'rank': 40,\n",
    "    'regParam': 1.0\n",
    "}"
   ]
  },
  {
   "cell_type": "markdown",
   "metadata": {},
   "source": [
    "После подбора гиперпараметров"
   ]
  },
  {
   "cell_type": "code",
   "execution_count": 11,
   "metadata": {
    "collapsed": true
   },
   "outputs": [],
   "source": [
    "params = {'maxIter': 6, 'alpha': 1, 'nonnegative': False, 'rank': 10, 'regParam': 1.0}"
   ]
  },
  {
   "cell_type": "code",
   "execution_count": 12,
   "metadata": {
    "collapsed": true
   },
   "outputs": [],
   "source": [
    "header = {\n",
    "    \"userCol\": COL_USER,\n",
    "    \"itemCol\": COL_ITEM,\n",
    "    \"ratingCol\": COL_RATING,\n",
    "}"
   ]
  },
  {
   "cell_type": "code",
   "execution_count": 14,
   "metadata": {},
   "outputs": [
    {
     "data": {
      "text/plain": [
       "'popa'"
      ]
     },
     "execution_count": 14,
     "metadata": {},
     "output_type": "execute_result"
    }
   ],
   "source": [
    "\"popa\""
   ]
  },
  {
   "cell_type": "code",
   "execution_count": 15,
   "metadata": {
    "collapsed": true
   },
   "outputs": [],
   "source": [
    "als = ALS(\n",
    "    **header,\n",
    "    **params,\n",
    "    implicitPrefs=True\n",
    ")"
   ]
  },
  {
   "cell_type": "code",
   "execution_count": 16,
   "metadata": {},
   "outputs": [
    {
     "name": "stdout",
     "output_type": "stream",
     "text": [
      "CPU times: user 17.1 ms, sys: 13.4 ms, total: 30.5 ms\n",
      "Wall time: 19.2 s\n"
     ]
    }
   ],
   "source": [
    "%%time\n",
    "model = als.fit(train_sdf)"
   ]
  },
  {
   "cell_type": "markdown",
   "metadata": {},
   "source": [
    "###### Предсказания "
   ]
  },
  {
   "cell_type": "code",
   "execution_count": 17,
   "metadata": {},
   "outputs": [
    {
     "name": "stdout",
     "output_type": "stream",
     "text": [
      "CPU times: user 6.63 ms, sys: 3.96 ms, total: 10.6 ms\n",
      "Wall time: 56.8 ms\n"
     ]
    }
   ],
   "source": [
    "%%time\n",
    "pred_sdf = model.transform(test_sdf)"
   ]
  },
  {
   "cell_type": "code",
   "execution_count": 18,
   "metadata": {
    "collapsed": true
   },
   "outputs": [],
   "source": [
    "pred = pred_sdf.toPandas()"
   ]
  },
  {
   "cell_type": "markdown",
   "metadata": {},
   "source": [
    "###### Масштабирование рейтинга "
   ]
  },
  {
   "cell_type": "code",
   "execution_count": 19,
   "metadata": {
    "collapsed": true
   },
   "outputs": [],
   "source": [
    "pred[\"prediction_raw\"] = pred[\"prediction\"]\n",
    "pred[\"prediction\"] = MinMaxScaler().fit_transform(pred[[\"prediction\"]])"
   ]
  },
  {
   "cell_type": "code",
   "execution_count": 20,
   "metadata": {},
   "outputs": [
    {
     "data": {
      "text/html": [
       "<div>\n",
       "<style scoped>\n",
       "    .dataframe tbody tr th:only-of-type {\n",
       "        vertical-align: middle;\n",
       "    }\n",
       "\n",
       "    .dataframe tbody tr th {\n",
       "        vertical-align: top;\n",
       "    }\n",
       "\n",
       "    .dataframe thead th {\n",
       "        text-align: right;\n",
       "    }\n",
       "</style>\n",
       "<table border=\"1\" class=\"dataframe\">\n",
       "  <thead>\n",
       "    <tr style=\"text-align: right;\">\n",
       "      <th></th>\n",
       "      <th>user_id</th>\n",
       "      <th>item_id</th>\n",
       "      <th>timestamp</th>\n",
       "      <th>rating</th>\n",
       "      <th>prediction</th>\n",
       "      <th>prediction_raw</th>\n",
       "    </tr>\n",
       "  </thead>\n",
       "  <tbody>\n",
       "    <tr>\n",
       "      <th>0</th>\n",
       "      <td>396625</td>\n",
       "      <td>214250791</td>\n",
       "      <td>NaN</td>\n",
       "      <td>0.0</td>\n",
       "      <td>0.064478</td>\n",
       "      <td>0.000691</td>\n",
       "    </tr>\n",
       "    <tr>\n",
       "      <th>1</th>\n",
       "      <td>496307</td>\n",
       "      <td>214250791</td>\n",
       "      <td>NaN</td>\n",
       "      <td>0.0</td>\n",
       "      <td>0.032099</td>\n",
       "      <td>0.000092</td>\n",
       "    </tr>\n",
       "    <tr>\n",
       "      <th>2</th>\n",
       "      <td>871377</td>\n",
       "      <td>214250791</td>\n",
       "      <td>NaN</td>\n",
       "      <td>0.0</td>\n",
       "      <td>0.028010</td>\n",
       "      <td>0.000017</td>\n",
       "    </tr>\n",
       "    <tr>\n",
       "      <th>3</th>\n",
       "      <td>816669</td>\n",
       "      <td>214250791</td>\n",
       "      <td>NaN</td>\n",
       "      <td>0.0</td>\n",
       "      <td>0.057573</td>\n",
       "      <td>0.000563</td>\n",
       "    </tr>\n",
       "    <tr>\n",
       "      <th>4</th>\n",
       "      <td>826977</td>\n",
       "      <td>214250791</td>\n",
       "      <td>NaN</td>\n",
       "      <td>0.0</td>\n",
       "      <td>0.067341</td>\n",
       "      <td>0.000744</td>\n",
       "    </tr>\n",
       "  </tbody>\n",
       "</table>\n",
       "</div>"
      ],
      "text/plain": [
       "   user_id    item_id  timestamp  rating  prediction  prediction_raw\n",
       "0   396625  214250791        NaN     0.0    0.064478        0.000691\n",
       "1   496307  214250791        NaN     0.0    0.032099        0.000092\n",
       "2   871377  214250791        NaN     0.0    0.028010        0.000017\n",
       "3   816669  214250791        NaN     0.0    0.057573        0.000563\n",
       "4   826977  214250791        NaN     0.0    0.067341        0.000744"
      ]
     },
     "execution_count": 20,
     "metadata": {},
     "output_type": "execute_result"
    }
   ],
   "source": [
    "pred.head()"
   ]
  },
  {
   "cell_type": "markdown",
   "metadata": {},
   "source": [
    "###### Метрики классификации "
   ]
  },
  {
   "cell_type": "markdown",
   "metadata": {},
   "source": [
    "Гистограмма рейтингов"
   ]
  },
  {
   "cell_type": "code",
   "execution_count": 21,
   "metadata": {},
   "outputs": [
    {
     "data": {
      "image/png": "[encoded data removed]",
      "text/plain": [
       "<matplotlib.figure.Figure at 0x7fb463271438>"
      ]
     },
     "metadata": {},
     "output_type": "display_data"
    }
   ],
   "source": [
    "plt.figure(figsize=(15, 7))\n",
    "\n",
    "plt.subplot(1, 2, 1), plt.xlim((0, 1))\n",
    "plt.hist(pred[pred.rating == 1.0].prediction, bins=50), \n",
    "plt.title(\"rating=1.0\")\n",
    "\n",
    "plt.subplot(1, 2, 2), plt.xlim((0, 1))\n",
    "plt.hist(pred[pred.rating == 0.0].prediction, bins=50), \n",
    "plt.title(\"rating=0.0\")\n",
    "None"
   ]
  },
  {
   "cell_type": "markdown",
   "metadata": {},
   "source": [
    "Вероятностные метрики "
   ]
  },
  {
   "cell_type": "code",
   "execution_count": 22,
   "metadata": {},
   "outputs": [
    {
     "name": "stdout",
     "output_type": "stream",
     "text": [
      "ROC_AUC: 0.6946\n",
      "Log loss: 0.3499\n"
     ]
    }
   ],
   "source": [
    "pred_col = [pred.rating, pred.prediction]\n",
    "\n",
    "roc_auc = roc_auc_score(*pred_col)\n",
    "log_loss_score = log_loss(*pred_col)\n",
    "\n",
    "print(\"ROC_AUC: {:.4f}\".format(roc_auc))\n",
    "print(\"Log loss: {:.4f}\".format(log_loss_score))"
   ]
  },
  {
   "cell_type": "markdown",
   "metadata": {},
   "source": [
    "###### Выбор порогового значения "
   ]
  },
  {
   "cell_type": "markdown",
   "metadata": {},
   "source": [
    "ROC thresholds-moving"
   ]
  },
  {
   "cell_type": "code",
   "execution_count": 23,
   "metadata": {},
   "outputs": [
    {
     "name": "stdout",
     "output_type": "stream",
     "text": [
      "Best thresholds: 0.1661 for G-mean: 0.6407\n"
     ]
    }
   ],
   "source": [
    "fpr, tpr, thresholds_roc = roc_curve(*pred_col)\n",
    "\n",
    "sensitivity = tpr\n",
    "specificity = 1 - fpr\n",
    "gmeans = np.sqrt(sensitivity * specificity)\n",
    "\n",
    "ix_gmean = np.argmax(gmeans)\n",
    "best_thresholds_roc = thresholds_roc[ix_gmean]\n",
    "best_gmean = gmeans[ix_gmean]\n",
    "\n",
    "print(\"Best thresholds: {:.4f} for G-mean: {:.4f}\".format(best_thresholds_roc, best_gmean))"
   ]
  },
  {
   "cell_type": "markdown",
   "metadata": {},
   "source": [
    "PR curve thresholds-moving"
   ]
  },
  {
   "cell_type": "code",
   "execution_count": 24,
   "metadata": {},
   "outputs": [
    {
     "name": "stdout",
     "output_type": "stream",
     "text": [
      "Best thresholds: 0.2859 for F-score: 0.2389\n"
     ]
    }
   ],
   "source": [
    "precision, recall, thresholds_pr = precision_recall_curve(*pred_col)\n",
    "\n",
    "fscore = (2 * precision * recall) / (precision + recall)\n",
    "fscore[np.isnan(fscore)] = 0\n",
    "\n",
    "ix_fscore = np.argmax(fscore)\n",
    "best_thresholds_pr = thresholds_pr[ix_fscore]\n",
    "best_fscore = fscore[ix_fscore]\n",
    "\n",
    "print(\"Best thresholds: {:.4f} for F-score: {:.4f}\".format(best_thresholds_pr, best_fscore))"
   ]
  },
  {
   "cell_type": "markdown",
   "metadata": {},
   "source": [
    "Plots"
   ]
  },
  {
   "cell_type": "code",
   "execution_count": 25,
   "metadata": {},
   "outputs": [
    {
     "data": {
      "image/png": "[encoded data removed]",
      "text/plain": [
       "<matplotlib.figure.Figure at 0x7fb4582dfb38>"
      ]
     },
     "metadata": {},
     "output_type": "display_data"
    }
   ],
   "source": [
    "plt.figure(figsize=(15, 5))\n",
    "\n",
    "#############################################################\n",
    "\n",
    "plt.subplot(1, 3, 1)\n",
    "plt.plot(fpr, tpr, \"-\", label=\"Prediction\")\n",
    "plt.plot([0, 1], [0, 1], \"--\", label=\"No-skill\")\n",
    "plt.plot(fpr[ix_gmean], tpr[ix_gmean], \"or\", label=\"ROC optimal\")\n",
    "\n",
    "plt.title(\"ROC curve\")\n",
    "plt.xlabel(\"FPR\")\n",
    "plt.ylabel(\"TPR\")\n",
    "plt.legend()\n",
    "\n",
    "#############################################################\n",
    "\n",
    "plt.subplot(1, 3, 2)\n",
    "plt.plot(recall, precision, \"-\", label=\"Prediction\")\n",
    "plt.plot([0, 1], [0, 0], \"--\", label=\"No-skill\")\n",
    "plt.plot(recall[ix_fscore], precision[ix_fscore], \"ob\", label=\"PR optimal\")\n",
    "\n",
    "plt.title(\"PR curve\")\n",
    "plt.xlabel(\"Recall\")\n",
    "plt.ylabel(\"Precision\")\n",
    "plt.legend()\n",
    "\n",
    "#############################################################\n",
    "\n",
    "plt.subplot(1, 3, 3)\n",
    "plt.plot(thresholds_pr, precision[:-1], label=\"Precision\")\n",
    "plt.plot(thresholds_pr, recall[:-1], label=\"Recall\")\n",
    "plt.plot(thresholds_pr[ix_gmean], precision[ix_gmean], \"or\", label=\"ROC optimal\")\n",
    "plt.plot(thresholds_pr[ix_fscore], precision[ix_fscore], \"ob\", label=\"PR optimal\")\n",
    "\n",
    "plt.title(\"P/R vs. Threshold\")\n",
    "plt.xlabel(\"Threshold\")\n",
    "plt.ylabel(\"Precision/Recall\")\n",
    "plt.legend()\n",
    "\n",
    "plt.show()"
   ]
  },
  {
   "cell_type": "markdown",
   "metadata": {},
   "source": [
    "Сlassification report"
   ]
  },
  {
   "cell_type": "code",
   "execution_count": 26,
   "metadata": {},
   "outputs": [
    {
     "name": "stdout",
     "output_type": "stream",
     "text": [
      "Report for best ROC threshold: 0.1661\n",
      "\n",
      "              precision    recall  f1-score   support\n",
      "\n",
      "         0.0       0.96      0.54      0.69     25442\n",
      "         1.0       0.14      0.76      0.23      2482\n",
      "\n",
      "   micro avg       0.56      0.56      0.56     27924\n",
      "   macro avg       0.55      0.65      0.46     27924\n",
      "weighted avg       0.89      0.56      0.65     27924\n",
      "\n",
      "------------------------------------------------------------\n",
      "Report for best PR threshold: 0.2859\n",
      "\n",
      "              precision    recall  f1-score   support\n",
      "\n",
      "         0.0       0.94      0.75      0.83     25442\n",
      "         1.0       0.16      0.49      0.24      2482\n",
      "\n",
      "   micro avg       0.72      0.72      0.72     27924\n",
      "   macro avg       0.55      0.62      0.54     27924\n",
      "weighted avg       0.87      0.72      0.78     27924\n",
      "\n"
     ]
    }
   ],
   "source": [
    "print(\"Report for best ROC threshold: {:.4f}\\n\".format(best_thresholds_roc))\n",
    "print(classification_report(pred.rating, pred.prediction > best_thresholds_roc))\n",
    "\n",
    "print(\"-\"*60)\n",
    "\n",
    "print(\"Report for best PR threshold: {:.4f}\\n\".format(best_thresholds_pr))\n",
    "print(classification_report(pred.rating, pred.prediction > best_thresholds_pr))"
   ]
  },
  {
   "cell_type": "markdown",
   "metadata": {},
   "source": [
    "###### Метрики классификации"
   ]
  },
  {
   "cell_type": "code",
   "execution_count": 27,
   "metadata": {
    "collapsed": true
   },
   "outputs": [],
   "source": [
    "pred_crisp_list = [pred.rating, pred.prediction > best_thresholds_roc]"
   ]
  },
  {
   "cell_type": "code",
   "execution_count": 28,
   "metadata": {},
   "outputs": [
    {
     "name": "stdout",
     "output_type": "stream",
     "text": [
      "TP: 1888, FP: 11720\n",
      "FN: 594, TN: 13722\n"
     ]
    }
   ],
   "source": [
    "tn, fp, fn, tp = confusion_matrix(*pred_crisp_list).ravel()\n",
    "print(\"TP: {}, FP: {}\".format(tp, fp))\n",
    "print(\"FN: {}, TN: {}\".format(fn, tn))"
   ]
  },
  {
   "cell_type": "code",
   "execution_count": 29,
   "metadata": {},
   "outputs": [
    {
     "name": "stdout",
     "output_type": "stream",
     "text": [
      "Precision: 0.1387\n",
      "Recall: 0.7607\n",
      "F1-score: 0.2347\n"
     ]
    }
   ],
   "source": [
    "precision_s = precision_score(*pred_crisp_list)\n",
    "recall_s = recall_score(*pred_crisp_list)\n",
    "f1_s = f1_score(*pred_crisp_list)\n",
    "\n",
    "print(\"Precision: {:.4f}\".format(precision_s))\n",
    "print(\"Recall: {:.4f}\".format(recall_s))\n",
    "print(\"F1-score: {:.4f}\".format(f1_s))"
   ]
  },
  {
   "cell_type": "markdown",
   "metadata": {},
   "source": [
    "###### Все метрики "
   ]
  },
  {
   "cell_type": "code",
   "execution_count": 30,
   "metadata": {},
   "outputs": [
    {
     "name": "stdout",
     "output_type": "stream",
     "text": [
      "ROC_AUC: 0.6946\n",
      "Precision: 0.1387\n",
      "Recall: 0.7607\n",
      "F1-score: 0.2347\n",
      "TP: 1888, FP: 11720\n",
      "FN: 594, TN: 13722\n",
      "Log loss: 0.3499\n"
     ]
    }
   ],
   "source": [
    "print(\"ROC_AUC: {:.4f}\".format(roc_auc))\n",
    "\n",
    "print(\"Precision: {:.4f}\".format(precision_s))\n",
    "print(\"Recall: {:.4f}\".format(recall_s))\n",
    "print(\"F1-score: {:.4f}\".format(f1_s))\n",
    "\n",
    "\n",
    "print(\"TP: {}, FP: {}\".format(tp, fp))\n",
    "print(\"FN: {}, TN: {}\".format(fn, tn))\n",
    "\n",
    "print(\"Log loss: {:.4f}\".format(log_loss_score))"
   ]
  },
  {
   "cell_type": "code",
   "execution_count": null,
   "metadata": {
    "collapsed": true
   },
   "outputs": [],
   "source": []
  }
 ],
 "metadata": {
  "kernelspec": {
   "display_name": "Python 3",
   "language": "python",
   "name": "python3"
  },
  "language_info": {
   "codemirror_mode": {
    "name": "ipython",
    "version": 3
   },
   "file_extension": ".py",
   "mimetype": "text/x-python",
   "name": "python",
   "nbconvert_exporter": "python",
   "pygments_lexer": "ipython3",
   "version": "3.5.3"
  }
 },
 "nbformat": 4,
 "nbformat_minor": 2
}
