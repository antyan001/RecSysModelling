{
 "cells": [
  {
   "cell_type": "code",
   "execution_count": 1,
   "metadata": {
    "collapsed": true,
    "jupyter": {
     "outputs_hidden": true
    }
   },
   "outputs": [],
   "source": [
    "import os, sys\n",
    "\n",
    "recsys_cf = os.environ.get(\"RECSYS_STORY\")\n",
    "sys.path.append(recsys_cf)\n",
    "os.chdir(recsys_cf)\n",
    "\n",
    "from lib.tools import *"
   ]
  },
  {
   "cell_type": "markdown",
   "metadata": {},
   "source": [
    "### SPARK "
   ]
  },
  {
   "cell_type": "code",
   "execution_count": 2,
   "metadata": {
    "collapsed": true,
    "jupyter": {
     "outputs_hidden": true
    }
   },
   "outputs": [],
   "source": [
    "sp = spark(**SPARK_CONFIG)\n",
    "hive = sp.sql"
   ]
  },
  {
   "cell_type": "code",
   "execution_count": 3,
   "metadata": {
    "collapsed": true,
    "jupyter": {
     "outputs_hidden": true
    }
   },
   "outputs": [],
   "source": [
    "from pyspark.sql.types import *"
   ]
  },
  {
   "cell_type": "code",
   "execution_count": null,
   "metadata": {
    "collapsed": true,
    "jupyter": {
     "outputs_hidden": true
    }
   },
   "outputs": [],
   "source": []
  },
  {
   "cell_type": "markdown",
   "metadata": {},
   "source": [
    "### func "
   ]
  },
  {
   "cell_type": "code",
   "execution_count": 4,
   "metadata": {
    "collapsed": true,
    "jupyter": {
     "outputs_hidden": true
    }
   },
   "outputs": [],
   "source": [
    "def list_to_set(source_lst):\n",
    "    a = set()\n",
    "    for i in source_lst:\n",
    "        a = a | set(i)\n",
    "    return list(a)   "
   ]
  },
  {
   "cell_type": "code",
   "execution_count": 5,
   "metadata": {
    "collapsed": true,
    "jupyter": {
     "outputs_hidden": true
    }
   },
   "outputs": [],
   "source": [
    "set_from_list_udf = f.udf(list_to_set, ArrayType(StringType()))"
   ]
  },
  {
   "cell_type": "code",
   "execution_count": 6,
   "metadata": {
    "collapsed": true,
    "jupyter": {
     "outputs_hidden": true
    }
   },
   "outputs": [],
   "source": [
    "date2 = '2021-07-04'"
   ]
  },
  {
   "cell_type": "code",
   "execution_count": 7,
   "metadata": {
    "collapsed": true,
    "jupyter": {
     "outputs_hidden": true
    }
   },
   "outputs": [],
   "source": [
    "date1 = '2021-04-01'"
   ]
  },
  {
   "cell_type": "code",
   "execution_count": 8,
   "metadata": {
    "collapsed": true,
    "jupyter": {
     "outputs_hidden": true
    }
   },
   "outputs": [],
   "source": [
    "input_table = 'MA_MMB_OFFER_NONTOP'\n",
    "input_schema = 'SBX_TEAM_DIGITCAMP'"
   ]
  },
  {
   "cell_type": "markdown",
   "metadata": {},
   "source": [
    "### dict "
   ]
  },
  {
   "cell_type": "code",
   "execution_count": 9,
   "metadata": {},
   "outputs": [
    {
     "name": "stdout",
     "output_type": "stream",
     "text": [
      "CPU times: user 2.12 ms, sys: 2.16 ms, total: 4.28 ms\n",
      "Wall time: 3.68 s\n"
     ]
    }
   ],
   "source": [
    "%%time\n",
    "prod_dct = hive.sql(\"select * from {}.{} where CRM_PRODUCT_ID is not Null\".format(SBX_TEAM_DIGITCAMP, 'ma_dict_v_product_dict'))\n",
    "prod_dct = prod_dct.filter(\"(PRODUCT_CD_MMB is not Null) and (PRODUCT_SHORT_NM is not Null)\").cache()"
   ]
  },
  {
   "cell_type": "code",
   "execution_count": null,
   "metadata": {},
   "outputs": [],
   "source": [
    "prod_dct.show(3)"
   ]
  },
  {
   "cell_type": "code",
   "execution_count": 11,
   "metadata": {},
   "outputs": [
    {
     "data": {
      "text/plain": [
       "131"
      ]
     },
     "execution_count": 11,
     "metadata": {},
     "output_type": "execute_result"
    }
   ],
   "source": [
    "prod_dct.count()"
   ]
  },
  {
   "cell_type": "markdown",
   "metadata": {},
   "source": [
    "\n",
    "\n",
    "дата фабрики не новее, чем дата расчета АЛС\n",
    "\n",
    "нонтоп - состояние на текущий день\n",
    "приорити - рейтинги на предыдущем расчете, заселектить одну или два дня расчета (посмотреть) - не агрегироть (максимум среднее)\n",
    "\n",
    "брать средний потенциал вместо суммы\n",
    "\n",
    "ma_mmb_offer_toxic\n",
    "\n",
    "\n",
    "\n",
    "\n",
    "сделать юнион источников нонтоп и приорити"
   ]
  },
  {
   "cell_type": "markdown",
   "metadata": {},
   "source": [
    "### Nontop "
   ]
  },
  {
   "cell_type": "code",
   "execution_count": 17,
   "metadata": {
    "collapsed": true,
    "jupyter": {
     "outputs_hidden": true
    }
   },
   "outputs": [],
   "source": [
    "def create_nontop_df(input_schema, input_table, date):\n",
    "    \n",
    "    nontop = hive.sql(\"select * from {}.{} where (INN is not Null) and (CREATE_DTTM >= timestamp('{}'))\"\\\n",
    "                 .format(input_schema, input_table, date)).cache()\n",
    "    \n",
    "    nontop_need_columns = nontop.select(f.to_date(f.col('CREATE_DTTM')).alias('CREATE_DATE'),\n",
    "                                        f.col(\"INN\"),\n",
    "                                        f.col(\"PRODUCT_ID\"),\n",
    "                                        f.split(f.col(\"SOURCES_LV2_LIST\"), ',')\\\n",
    "                                         .alias(\"SOURCES_LV2_LIST_NONTOP\"),\n",
    "                                        f.col(\"COEF_PRODUCT_CD\")\\\n",
    "                                         .alias(\"POTENTIAL_NONTOP\")).cache()\n",
    "    \n",
    "    nontop_all_sources = nontop_need_columns.groupby(f.col(\"CREATE_DATE\"),\n",
    "                                                     f.col(\"INN\"),\n",
    "                                                     f.col(\"PRODUCT_ID\")).agg(f.collect_set(\"SOURCES_LV2_LIST_NONTOP\")\\\n",
    "                                                                               .alias(\"SOURCES_LV2_LIST_NONTOP\"),\n",
    "                                                                              f.avg(\"POTENTIAL_NONTOP\")\\\n",
    "                                                                               .alias(\"POTENTIAL_NONTOP\")).cache()\n",
    "    \n",
    "    nontop_before_end = nontop_all_sources.withColumn(\"SOURCES_LV2_LIST_NONTOP\",\n",
    "                                                      set_from_list_udf(f.col(\"SOURCES_LV2_LIST_NONTOP\")))\n",
    "    \n",
    "    nontop_final = nontop_before_end.join(prod_dct,\n",
    "                                          nontop_before_end.PRODUCT_ID == prod_dct.ID,\n",
    "                                          how='inner')\\\n",
    "                                    .select(f.col(\"CREATE_DATE\"),\n",
    "                                            f.col(\"INN\"),\n",
    "                                            f.col(\"CRM_PRODUCT_ID\").alias(\"CRM_PRODUCT_ID\"),\n",
    "                                            f.col(\"PRODUCT_GROUP\").alias(\"PRODUCT_GROUP\"),\n",
    "                                            f.col(\"PRODUCT_SUBGROUP\").alias(\"PRODUCT_SUBGROUP\"),\n",
    "                                            f.col(\"SOURCES_LV2_LIST_NONTOP\"),\n",
    "                                            f.col(\"POTENTIAL_NONTOP\")\n",
    "                                           ).cache()\n",
    "        \n",
    "    \n",
    "    return nontop_final"
   ]
  },
  {
   "cell_type": "code",
   "execution_count": 18,
   "metadata": {},
   "outputs": [
    {
     "name": "stdout",
     "output_type": "stream",
     "text": [
      "CPU times: user 13.7 ms, sys: 6.75 ms, total: 20.4 ms\n",
      "Wall time: 271 ms\n"
     ]
    }
   ],
   "source": [
    "%%time\n",
    "\n",
    "nontop_prepr = create_nontop_df(input_schema, input_table, date1)"
   ]
  },
  {
   "cell_type": "code",
   "execution_count": 19,
   "metadata": {},
   "outputs": [
    {
     "name": "stdout",
     "output_type": "stream",
     "text": [
      "CPU times: user 67.8 ms, sys: 42.2 ms, total: 110 ms\n",
      "Wall time: 40.3 s\n"
     ]
    },
    {
     "data": {
      "text/plain": [
       "33296952"
      ]
     },
     "execution_count": 19,
     "metadata": {},
     "output_type": "execute_result"
    }
   ],
   "source": [
    "%%time\n",
    "nontop_prepr.count()"
   ]
  },
  {
   "cell_type": "code",
   "execution_count": null,
   "metadata": {},
   "outputs": [],
   "source": [
    "nontop_prepr.show()"
   ]
  },
  {
   "cell_type": "code",
   "execution_count": 22,
   "metadata": {},
   "outputs": [
    {
     "data": {
      "text/plain": [
       "'2021-04-30'"
      ]
     },
     "execution_count": 22,
     "metadata": {},
     "output_type": "execute_result"
    }
   ],
   "source": [
    "date1"
   ]
  },
  {
   "cell_type": "markdown",
   "metadata": {},
   "source": [
    "### Priority "
   ]
  },
  {
   "cell_type": "code",
   "execution_count": 41,
   "metadata": {},
   "outputs": [],
   "source": [
    "def create_priority_df(input_schema, input_table, date):\n",
    "    \n",
    "    priority = hive.sql(\"select * from {}.{} where inn is not Null and load_dttm >= timestamp('{}')\"\\\n",
    "                    .format(input_schema, input_table, date)).cache()\n",
    "    \n",
    "    priority_need_columns = priority.select(f.to_date(f.col('load_dttm')).alias('CREATE_DATE'),\n",
    "                                            f.col(\"INN\"),\n",
    "                                            f.col(\"CRM_PRODUCT_ID\"),\n",
    "                                            f.split(f.col(\"SOURCES_LV2_LIST\"), ',')\\\n",
    "                                             .alias(\"SOURCES_LV2_LIST_PRIORITY\"),\n",
    "                                            f.col(\"offer_priority\")\\\n",
    "                                             .alias(\"POTENTIAL_PRIORITY\")).cache()\n",
    "    \n",
    "    priority_all_sources = priority_need_columns.groupby(f.col(\"CREATE_DATE\"),\n",
    "                                                         f.col(\"INN\"),\n",
    "                                                         f.col(\"CRM_PRODUCT_ID\")).agg(f.collect_set(\"SOURCES_LV2_LIST_PRIORITY\")\\\n",
    "                                                                                      .alias(\"SOURCES_LV2_LIST_PRIORITY\"),\n",
    "                                                                                     f.avg(\"POTENTIAL_PRIORITY\")\\\n",
    "                                                                                      .alias(\"POTENTIAL_PRIORITY\")).cache()\n",
    "                                                         \n",
    "    priority_before_end = priority_all_sources.withColumn(\"SOURCES_LV2_LIST_PRIORITY\",\n",
    "                                                      set_from_list_udf(f.col(\"SOURCES_LV2_LIST_PRIORITY\")))\n",
    "    \n",
    "    priority_final = priority_before_end.join(prod_dct,\n",
    "                                              priority_before_end.CRM_PRODUCT_ID == prod_dct.CRM_PRODUCT_ID,\n",
    "                                              how='inner')\\\n",
    "                                        .select(f.col(\"CREATE_DATE\"),\n",
    "                                                f.col(\"INN\"),\n",
    "                                                priority_before_end.CRM_PRODUCT_ID.alias(\"CRM_PRODUCT_ID\"),\n",
    "                                                f.col(\"PRODUCT_GROUP\").alias(\"PRODUCT_GROUP\"),\n",
    "                                                f.col(\"PRODUCT_SUBGROUP\").alias(\"PRODUCT_SUBGROUP\"),\n",
    "                                                f.col(\"SOURCES_LV2_LIST_PRIORITY\"),\n",
    "                                                f.col(\"POTENTIAL_PRIORITY\")\n",
    "                                                ).cache()\n",
    "    \n",
    "    \n",
    "        \n",
    "    \n",
    "    return priority_final"
   ]
  },
  {
   "cell_type": "code",
   "execution_count": 42,
   "metadata": {},
   "outputs": [],
   "source": [
    "priority_prepr = create_priority_df(input_schema, \"OFFER_PRIORITY\", date1)"
   ]
  },
  {
   "cell_type": "code",
   "execution_count": 43,
   "metadata": {},
   "outputs": [
    {
     "name": "stdout",
     "output_type": "stream",
     "text": [
      "CPU times: user 40.6 ms, sys: 32.9 ms, total: 73.5 ms\n",
      "Wall time: 4.63 s\n"
     ]
    },
    {
     "data": {
      "text/plain": [
       "1294125"
      ]
     },
     "execution_count": 43,
     "metadata": {},
     "output_type": "execute_result"
    }
   ],
   "source": [
    "%%time\n",
    "priority_prepr.count()"
   ]
  },
  {
   "cell_type": "code",
   "execution_count": null,
   "metadata": {},
   "outputs": [],
   "source": [
    "priority_prepr.show()"
   ]
  },
  {
   "cell_type": "markdown",
   "metadata": {},
   "source": [
    "### toxic "
   ]
  },
  {
   "cell_type": "code",
   "execution_count": 79,
   "metadata": {
    "collapsed": true,
    "jupyter": {
     "outputs_hidden": true
    }
   },
   "outputs": [],
   "source": [
    "def create_toxic_df(input_schema, input_table, date):\n",
    "    toxic = hive.sql(\"select * from {}.{} where inn is not Null and create_dttm >= timestamp('{}')\"\\\n",
    "                     .format(input_schema, input_table, date)).cache()\n",
    "    \n",
    "    toxic_need_columns = toxic.select(f.to_date(f.col('create_dttm')).alias('CREATE_DATE'),\n",
    "                                      f.col(\"INN\"),\n",
    "                                      f.col(\"product_id\"),\n",
    "                                      f.split(f.col(\"SOURCES_LV2_LIST\"), ',')\\\n",
    "                                       .alias(\"SOURCES_LV2_LIST_TOXIC\")).cache()\n",
    "    \n",
    "    toxic_all_sources = toxic_need_columns.groupby(f.col(\"CREATE_DATE\"),\n",
    "                                                   f.col(\"INN\"),\n",
    "                                                   f.col(\"product_id\")).agg(f.collect_set(\"SOURCES_LV2_LIST_TOXIC\")\\\n",
    "                                                                             .alias(\"SOURCES_LV2_LIST_TOXIC\")).cache()\n",
    "    \n",
    "    toxic_before_end = toxic_all_sources.withColumn(\"SOURCES_LV2_LIST_TOXIC\",\n",
    "                                                    set_from_list_udf(f.col(\"SOURCES_LV2_LIST_TOXIC\")))\n",
    "    \n",
    "    toxic_final = toxic_before_end.join(prod_dct,\n",
    "                                        toxic_before_end.product_id == prod_dct.ID,\n",
    "                                        how='inner')\\\n",
    "                                  .select(f.col(\"CREATE_DATE\"),\n",
    "                                          f.col(\"INN\"),\n",
    "                                          prod_dct.CRM_PRODUCT_ID.alias(\"CRM_PRODUCT_ID\"),\n",
    "                                          f.col(\"PRODUCT_GROUP\").alias(\"PRODUCT_GROUP\"),\n",
    "                                          f.col(\"PRODUCT_SUBGROUP\").alias(\"PRODUCT_SUBGROUP\"),\n",
    "                                          f.col(\"SOURCES_LV2_LIST_TOXIC\")\n",
    "                                         ).cache()\n",
    "        \n",
    "    \n",
    "    return toxic_final"
   ]
  },
  {
   "cell_type": "code",
   "execution_count": 80,
   "metadata": {
    "collapsed": true,
    "jupyter": {
     "outputs_hidden": true
    }
   },
   "outputs": [],
   "source": [
    "toxic_prepr = create_toxic_df(input_schema, \"ma_mmb_offer_toxic\", date1)"
   ]
  },
  {
   "cell_type": "code",
   "execution_count": 81,
   "metadata": {},
   "outputs": [
    {
     "data": {
      "text/plain": [
       "31904724"
      ]
     },
     "execution_count": 81,
     "metadata": {},
     "output_type": "execute_result"
    }
   ],
   "source": [
    "toxic_prepr.count()"
   ]
  },
  {
   "cell_type": "code",
   "execution_count": null,
   "metadata": {},
   "outputs": [],
   "source": [
    "toxic_prepr.show(3)"
   ]
  },
  {
   "cell_type": "code",
   "execution_count": 86,
   "metadata": {},
   "outputs": [
    {
     "data": {
      "text/html": [
       "<div>\n",
       "<style scoped>\n",
       "    .dataframe tbody tr th:only-of-type {\n",
       "        vertical-align: middle;\n",
       "    }\n",
       "\n",
       "    .dataframe tbody tr th {\n",
       "        vertical-align: top;\n",
       "    }\n",
       "\n",
       "    .dataframe thead th {\n",
       "        text-align: right;\n",
       "    }\n",
       "</style>\n",
       "<table border=\"1\" class=\"dataframe\">\n",
       "  <thead>\n",
       "    <tr style=\"text-align: right;\">\n",
       "      <th></th>\n",
       "      <th>CREATE_DATE</th>\n",
       "    </tr>\n",
       "  </thead>\n",
       "  <tbody>\n",
       "    <tr>\n",
       "      <th>0</th>\n",
       "      <td>2021-04-21</td>\n",
       "    </tr>\n",
       "    <tr>\n",
       "      <th>1</th>\n",
       "      <td>2021-04-20</td>\n",
       "    </tr>\n",
       "  </tbody>\n",
       "</table>\n",
       "</div>"
      ],
      "text/plain": [
       "  CREATE_DATE\n",
       "0  2021-04-21\n",
       "1  2021-04-20"
      ]
     },
     "execution_count": 86,
     "metadata": {},
     "output_type": "execute_result"
    }
   ],
   "source": [
    "toxic_prepr.select(\"CREATE_DATE\").distinct().show()"
   ]
  },
  {
   "cell_type": "markdown",
   "metadata": {},
   "source": [
    "### Joiner "
   ]
  },
  {
   "cell_type": "code",
   "execution_count": 45,
   "metadata": {
    "collapsed": true,
    "jupyter": {
     "outputs_hidden": true
    }
   },
   "outputs": [],
   "source": [
    "def join_priority_nontop(priority_final, nontop_final):\n",
    "    \n",
    "    result_table = priority_final.join(nontop_final,\n",
    "                                   (priority_final.INN == nontop_final.INN) &\n",
    "                                   (priority_final.CREATE_DATE == nontop_final.CREATE_DATE) &\n",
    "                                   (priority_final.CRM_PRODUCT_ID == nontop_final.CRM_PRODUCT_ID),\n",
    "                                   how='full_outer')\\\n",
    "                                 .select(f.when(f.isnull(priority_final.CREATE_DATE),\n",
    "                                                nontop_final.CREATE_DATE).otherwise(priority_final.CREATE_DATE)\\\n",
    "                                                                         .alias(\"CREATE_DATE\"),\n",
    "                                         f.when(f.isnull(priority_final.INN),\n",
    "                                                nontop_final.INN).otherwise(priority_final.INN)\\\n",
    "                                                                 .alias(\"INN\"),\n",
    "                                         f.when(f.isnull(priority_final.CRM_PRODUCT_ID),\n",
    "                                                nontop_final.CRM_PRODUCT_ID).otherwise(priority_final.CRM_PRODUCT_ID)\\\n",
    "                                                                            .alias(\"CRM_PRODUCT_ID\"),\n",
    "                                         f.when(f.isnull(priority_final.PRODUCT_GROUP),\n",
    "                                                nontop_final.PRODUCT_GROUP).otherwise(priority_final.PRODUCT_GROUP)\\\n",
    "                                                                           .alias(\"PRODUCT_GROUP\"),\n",
    "                                         f.when(f.isnull(priority_final.PRODUCT_SUBGROUP),\n",
    "                                                nontop_final.PRODUCT_SUBGROUP).otherwise(priority_final.PRODUCT_SUBGROUP)\\\n",
    "                                                                              .alias(\"PRODUCT_SUBGROUP\"),\n",
    "                                         f.col(\"SOURCES_LV2_LIST_NONTOP\"),\n",
    "                                         f.col(\"POTENTIAL_NONTOP\"),\n",
    "                                         f.col(\"SOURCES_LV2_LIST_PRIORITY\"),\n",
    "                                         f.col(\"POTENTIAL_PRIORITY\"))\\\n",
    "                                 .cache()\n",
    "            \n",
    "    \n",
    "    return result_table"
   ]
  },
  {
   "cell_type": "code",
   "execution_count": null,
   "metadata": {
    "collapsed": true,
    "jupyter": {
     "outputs_hidden": true
    }
   },
   "outputs": [],
   "source": [
    "toxic_prepr.join()"
   ]
  },
  {
   "cell_type": "code",
   "execution_count": 107,
   "metadata": {
    "collapsed": true,
    "jupyter": {
     "outputs_hidden": true
    }
   },
   "outputs": [],
   "source": [
    "def join_priority_nontop_toxic(priority_final, nontop_final, toxic_final):\n",
    "    \n",
    "    result_table = priority_final.join(nontop_final,\n",
    "                                   (priority_final.INN == nontop_final.INN) &\n",
    "                                   (priority_final.CREATE_DATE == nontop_final.CREATE_DATE) &\n",
    "                                   (priority_final.CRM_PRODUCT_ID == nontop_final.CRM_PRODUCT_ID),\n",
    "                                   how='full_outer')\\\n",
    "                                 .select(f.when(f.isnull(priority_final.CREATE_DATE),\n",
    "                                                nontop_final.CREATE_DATE).otherwise(priority_final.CREATE_DATE)\\\n",
    "                                                                         .alias(\"CREATE_DATE\"),\n",
    "                                         f.when(f.isnull(priority_final.INN),\n",
    "                                                nontop_final.INN).otherwise(priority_final.INN)\\\n",
    "                                                                 .alias(\"INN\"),\n",
    "                                         f.when(f.isnull(priority_final.CRM_PRODUCT_ID),\n",
    "                                                nontop_final.CRM_PRODUCT_ID).otherwise(priority_final.CRM_PRODUCT_ID)\\\n",
    "                                                                            .alias(\"CRM_PRODUCT_ID\"),\n",
    "                                         f.when(f.isnull(priority_final.PRODUCT_GROUP),\n",
    "                                                nontop_final.PRODUCT_GROUP).otherwise(priority_final.PRODUCT_GROUP)\\\n",
    "                                                                           .alias(\"PRODUCT_GROUP\"),\n",
    "                                         f.when(f.isnull(priority_final.PRODUCT_SUBGROUP),\n",
    "                                                nontop_final.PRODUCT_SUBGROUP).otherwise(priority_final.PRODUCT_SUBGROUP)\\\n",
    "                                                                              .alias(\"PRODUCT_SUBGROUP\"),\n",
    "                                         f.col(\"SOURCES_LV2_LIST_NONTOP\"),\n",
    "                                         f.col(\"POTENTIAL_NONTOP\"),\n",
    "                                         f.col(\"SOURCES_LV2_LIST_PRIORITY\"),\n",
    "                                         f.col(\"POTENTIAL_PRIORITY\"))\\\n",
    "                                 .cache()\n",
    "            \n",
    "    tmp_potential_rating = result_table.join(toxic_final,\n",
    "                                             (result_table.INN == toxic_final.INN) &\n",
    "                                             (result_table.CREATE_DATE == toxic_final.CREATE_DATE) &\n",
    "                                             (result_table.CRM_PRODUCT_ID == toxic_final.CRM_PRODUCT_ID),\n",
    "                                             how='full_outer')\\\n",
    "                                        .select(f.when(f.isnull(result_table.CREATE_DATE),\n",
    "                                                       toxic_final.CREATE_DATE).otherwise(result_table.CREATE_DATE)\\\n",
    "                                                                                .alias(\"CREATE_DATE\"),\n",
    "                                                f.when(f.isnull(result_table.INN),\n",
    "                                                       toxic_final.INN).otherwise(result_table.INN)\\\n",
    "                                                                        .alias(\"INN\"),\n",
    "                                                f.when(f.isnull(result_table.CRM_PRODUCT_ID),\n",
    "                                                       toxic_final.CRM_PRODUCT_ID).otherwise(result_table.CRM_PRODUCT_ID)\\\n",
    "                                                                                   .alias(\"CRM_PRODUCT_ID\"),\n",
    "                                                f.when(f.isnull(result_table.PRODUCT_GROUP),\n",
    "                                                       toxic_final.PRODUCT_GROUP).otherwise(result_table.PRODUCT_GROUP)\\\n",
    "                                                                                  .alias(\"PRODUCT_GROUP\"),\n",
    "                                                f.when(f.isnull(result_table.PRODUCT_SUBGROUP),\n",
    "                                                       toxic_final.PRODUCT_SUBGROUP).otherwise(result_table.PRODUCT_SUBGROUP)\\\n",
    "                                                                                     .alias(\"PRODUCT_SUBGROUP\"),\n",
    "                                                f.col(\"SOURCES_LV2_LIST_NONTOP\"),\n",
    "                                                f.col(\"POTENTIAL_NONTOP\"),\n",
    "                                                f.col(\"SOURCES_LV2_LIST_PRIORITY\"),\n",
    "                                                f.col(\"POTENTIAL_PRIORITY\"),\n",
    "                                                f.col(\"SOURCES_LV2_LIST_TOXIC\"))\\\n",
    "                                 .cache()         \n",
    "    \n",
    "    return tmp_potential_rating"
   ]
  },
  {
   "cell_type": "code",
   "execution_count": 84,
   "metadata": {},
   "outputs": [],
   "source": [
    "result_table = join_priority_nontop(priority_prepr, nontop_prepr)"
   ]
  },
  {
   "cell_type": "code",
   "execution_count": 85,
   "metadata": {},
   "outputs": [
    {
     "data": {
      "text/plain": [
       "34564165"
      ]
     },
     "execution_count": 85,
     "metadata": {},
     "output_type": "execute_result"
    }
   ],
   "source": [
    "result_table.count()"
   ]
  },
  {
   "cell_type": "code",
   "execution_count": null,
   "metadata": {},
   "outputs": [],
   "source": [
    "result_table.show()"
   ]
  },
  {
   "cell_type": "code",
   "execution_count": 96,
   "metadata": {},
   "outputs": [],
   "source": [
    "tmp_potential_rating = result_table.join(toxic_final,\n",
    "                  (result_table.INN == toxic_final.INN) &\n",
    "                  (result_table.CREATE_DATE == toxic_final.CREATE_DATE) &\n",
    "                  (result_table.CRM_PRODUCT_ID == toxic_final.CRM_PRODUCT_ID),\n",
    "                  how='full_outer')\\\n",
    "            .select(f.when(f.isnull(result_table.CREATE_DATE),\n",
    "                                                toxic_final.CREATE_DATE).otherwise(result_table.CREATE_DATE)\\\n",
    "                                                                         .alias(\"CREATE_DATE\"),\n",
    "                                         f.when(f.isnull(result_table.INN),\n",
    "                                                toxic_final.INN).otherwise(result_table.INN)\\\n",
    "                                                                 .alias(\"INN\"),\n",
    "                                         f.when(f.isnull(result_table.CRM_PRODUCT_ID),\n",
    "                                                toxic_final.CRM_PRODUCT_ID).otherwise(result_table.CRM_PRODUCT_ID)\\\n",
    "                                                                            .alias(\"CRM_PRODUCT_ID\"),\n",
    "                                         f.when(f.isnull(result_table.PRODUCT_GROUP),\n",
    "                                                toxic_final.PRODUCT_GROUP).otherwise(result_table.PRODUCT_GROUP)\\\n",
    "                                                                           .alias(\"PRODUCT_GROUP\"),\n",
    "                                         f.when(f.isnull(result_table.PRODUCT_SUBGROUP),\n",
    "                                                toxic_final.PRODUCT_SUBGROUP).otherwise(result_table.PRODUCT_SUBGROUP)\\\n",
    "                                                                              .alias(\"PRODUCT_SUBGROUP\"),\n",
    "                                         f.col(\"SOURCES_LV2_LIST_NONTOP\"),\n",
    "                                         f.col(\"POTENTIAL_NONTOP\"),\n",
    "                                         f.col(\"SOURCES_LV2_LIST_PRIORITY\"),\n",
    "                                         f.col(\"POTENTIAL_PRIORITY\"),\n",
    "                                         f.col(\"SOURCES_LV2_LIST_TOXIC\"))\\\n",
    "                                 .cache()"
   ]
  },
  {
   "cell_type": "code",
   "execution_count": 97,
   "metadata": {},
   "outputs": [
    {
     "data": {
      "text/plain": [
       "66468722"
      ]
     },
     "execution_count": 97,
     "metadata": {},
     "output_type": "execute_result"
    }
   ],
   "source": [
    "tmp_potential_rating.count()"
   ]
  },
  {
   "cell_type": "code",
   "execution_count": null,
   "metadata": {},
   "outputs": [],
   "source": [
    "tmp_potential_rating.filter(\"SOURCES_LV2_LIST_PRIORITY is not Null and SOURCES_LV2_LIST_NONTOP is not null\").show()"
   ]
  },
  {
   "cell_type": "code",
   "execution_count": 108,
   "metadata": {
    "collapsed": true,
    "jupyter": {
     "outputs_hidden": true
    }
   },
   "outputs": [],
   "source": [
    "tmp_final = join_priority_nontop_toxic(priority_prepr, nontop_prepr, toxic_prepr)"
   ]
  },
  {
   "cell_type": "code",
   "execution_count": 109,
   "metadata": {},
   "outputs": [
    {
     "data": {
      "text/plain": [
       "66468722"
      ]
     },
     "execution_count": 109,
     "metadata": {},
     "output_type": "execute_result"
    }
   ],
   "source": [
    "tmp_final.count()"
   ]
  },
  {
   "cell_type": "code",
   "execution_count": 110,
   "metadata": {
    "collapsed": true,
    "jupyter": {
     "outputs_hidden": true
    }
   },
   "outputs": [],
   "source": [
    "create_table_from_df(SBX_TEAM_DIGITCAMP, \"POTENTIAL_ALL_SOURCES_TMP\", tmp_final, hive)"
   ]
  },
  {
   "cell_type": "code",
   "execution_count": null,
   "metadata": {},
   "outputs": [],
   "source": [
    "tmp_final.show()"
   ]
  },
  {
   "cell_type": "code",
   "execution_count": null,
   "metadata": {
    "collapsed": true,
    "jupyter": {
     "outputs_hidden": true
    }
   },
   "outputs": [],
   "source": []
  }
 ],
 "metadata": {
  "kernelspec": {
   "display_name": "Python 3 (ipykernel)",
   "language": "python",
   "name": "python3"
  },
  "language_info": {
   "codemirror_mode": {
    "name": "ipython",
    "version": 3
   },
   "file_extension": ".py",
   "mimetype": "text/x-python",
   "name": "python",
   "nbconvert_exporter": "python",
   "pygments_lexer": "ipython3",
   "version": "3.9.12"
  }
 },
 "nbformat": 4,
 "nbformat_minor": 4
}
