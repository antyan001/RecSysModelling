{
 "cells": [
  {
   "cell_type": "code",
   "execution_count": 1,
   "metadata": {
    "collapsed": true
   },
   "outputs": [],
   "source": [
    "import os, sys\n",
    "\n",
    "recsys_cf = os.environ.get(\"RECSYS_STORY\")\n",
    "sys.path.append(recsys_cf)\n",
    "os.chdir(recsys_cf)\n",
    "\n",
    "from lib.tools import *"
   ]
  },
  {
   "cell_type": "code",
   "execution_count": 2,
   "metadata": {
    "collapsed": true
   },
   "outputs": [],
   "source": [
    "%matplotlib inline\n",
    "\n",
    "import numpy as np\n",
    "import pandas as pd\n",
    "from tqdm import tqdm, tqdm_notebook\n",
    "\n",
    "# Preproc\n",
    "from sklearn.preprocessing import MinMaxScaler\n",
    "from sklearn.model_selection import ParameterGrid\n",
    "\n",
    "# Metrics\n",
    "from sklearn.metrics import mean_absolute_error, mean_squared_error, r2_score\n",
    "from sklearn.metrics import roc_auc_score, log_loss\n",
    "from sklearn.metrics import roc_curve, precision_recall_curve\n",
    "from sklearn.metrics import confusion_matrix, classification_report\n",
    "from sklearn.metrics import accuracy_score, precision_score, recall_score,  f1_score\n",
    "\n",
    "# Model\n",
    "from pyspark.ml.recommendation import ALS\n",
    "from pyspark.ml.evaluation import BinaryClassificationEvaluator"
   ]
  },
  {
   "cell_type": "code",
   "execution_count": 3,
   "metadata": {
    "collapsed": true
   },
   "outputs": [],
   "source": [
    "sp = spark(**SPARK_CONFIG)\n",
    "hive = sp.sql"
   ]
  },
  {
   "cell_type": "code",
   "execution_count": 4,
   "metadata": {
    "collapsed": true
   },
   "outputs": [],
   "source": [
    "train_sdf = load_table(SBX_TEAM_DIGITCAMP, RECSYS_STORY_DATASET_TRAIN_POS, hive)\n",
    "val_sdf = load_table(SBX_TEAM_DIGITCAMP, RECSYS_STORY_DATASET_VAL, hive)\n",
    "test_sdf = load_table(SBX_TEAM_DIGITCAMP, RECSYS_STORY_TEST, hive)"
   ]
  },
  {
   "cell_type": "code",
   "execution_count": 5,
   "metadata": {},
   "outputs": [
    {
     "name": "stdout",
     "output_type": "stream",
     "text": [
      "CPU times: user 45.8 s, sys: 3.76 s, total: 49.6 s\n",
      "Wall time: 1min 13s\n"
     ]
    }
   ],
   "source": [
    "%%time\n",
    "train = train_sdf.toPandas()\n",
    "val = val_sdf.toPandas()\n",
    "test = test_sdf.toPandas()"
   ]
  },
  {
   "cell_type": "code",
   "execution_count": 6,
   "metadata": {
    "collapsed": true
   },
   "outputs": [],
   "source": [
    "COL_USER = \"user_id\"\n",
    "COL_ITEM = \"item_id\"\n",
    "COL_TIMESTAMP = \"timestamp\"\n",
    "COL_RATING = \"rating\"\n",
    "COL_PREDICTION = \"prediction\""
   ]
  },
  {
   "cell_type": "markdown",
   "metadata": {},
   "source": [
    "###### base model"
   ]
  },
  {
   "cell_type": "code",
   "execution_count": 7,
   "metadata": {
    "collapsed": true
   },
   "outputs": [],
   "source": [
    "header = {\n",
    "    \"userCol\": COL_USER,\n",
    "    \"itemCol\": COL_ITEM,\n",
    "    \"ratingCol\": COL_RATING,\n",
    "    \"implicitPrefs\": True\n",
    "}"
   ]
  },
  {
   "cell_type": "code",
   "execution_count": 8,
   "metadata": {
    "collapsed": true
   },
   "outputs": [],
   "source": [
    "als = ALS(\n",
    "    **header\n",
    ")"
   ]
  },
  {
   "cell_type": "code",
   "execution_count": 9,
   "metadata": {},
   "outputs": [
    {
     "name": "stdout",
     "output_type": "stream",
     "text": [
      "CPU times: user 21.2 ms, sys: 7.12 ms, total: 28.3 ms\n",
      "Wall time: 24.3 s\n"
     ]
    }
   ],
   "source": [
    "%%time\n",
    "model = als.fit(train_sdf)"
   ]
  },
  {
   "cell_type": "code",
   "execution_count": 10,
   "metadata": {},
   "outputs": [
    {
     "name": "stdout",
     "output_type": "stream",
     "text": [
      "CPU times: user 146 ms, sys: 6.86 ms, total: 153 ms\n",
      "Wall time: 4.71 s\n"
     ]
    }
   ],
   "source": [
    "%%time\n",
    "pred = model.transform(val_sdf).toPandas()"
   ]
  },
  {
   "cell_type": "code",
   "execution_count": 11,
   "metadata": {
    "collapsed": true
   },
   "outputs": [],
   "source": [
    "from pyspark.ml import Pipeline, Transformer\n",
    "\n",
    "class CastPrediction(Transformer):\n",
    "    def __init__(self):\n",
    "        super().__init__()\n",
    "    \n",
    "    def transform(self, dataset, params=None):\n",
    "        return dataset.withColumn(\"prediction\", \n",
    "                                  f.col(\"prediction\").cast(stypes.DoubleType()))\n",
    "    \n",
    "cast_prediction = CastPrediction()"
   ]
  },
  {
   "cell_type": "code",
   "execution_count": 12,
   "metadata": {
    "collapsed": true
   },
   "outputs": [],
   "source": [
    "pipeline = Pipeline(stages=[als, cast_prediction])"
   ]
  },
  {
   "cell_type": "code",
   "execution_count": 13,
   "metadata": {
    "collapsed": true
   },
   "outputs": [],
   "source": [
    "evaluator = BinaryClassificationEvaluator(rawPredictionCol=\"prediction\", labelCol=\"rating\")"
   ]
  },
  {
   "cell_type": "code",
   "execution_count": 14,
   "metadata": {
    "collapsed": true
   },
   "outputs": [],
   "source": [
    "model = pipeline.fit(train_sdf)"
   ]
  },
  {
   "cell_type": "code",
   "execution_count": 15,
   "metadata": {},
   "outputs": [
    {
     "data": {
      "text/plain": [
       "0.6668503678828096"
      ]
     },
     "execution_count": 15,
     "metadata": {},
     "output_type": "execute_result"
    }
   ],
   "source": [
    "evaluator.evaluate(model.transform(val_sdf))"
   ]
  },
  {
   "cell_type": "markdown",
   "metadata": {},
   "source": [
    "добавим вызов объекта напрямую, а не через метод"
   ]
  },
  {
   "cell_type": "code",
   "execution_count": 16,
   "metadata": {
    "collapsed": true
   },
   "outputs": [],
   "source": [
    "BinaryClassificationEvaluator.__call__ = lambda self, dataset: self.evaluate(dataset) "
   ]
  },
  {
   "cell_type": "code",
   "execution_count": 17,
   "metadata": {
    "collapsed": true
   },
   "outputs": [],
   "source": [
    "model = pipeline.fit(train_sdf)"
   ]
  },
  {
   "cell_type": "code",
   "execution_count": 18,
   "metadata": {},
   "outputs": [
    {
     "data": {
      "text/plain": [
       "0.6668503678828098"
      ]
     },
     "execution_count": 18,
     "metadata": {},
     "output_type": "execute_result"
    }
   ],
   "source": [
    "evaluator(model.transform(val_sdf))"
   ]
  },
  {
   "cell_type": "markdown",
   "metadata": {},
   "source": [
    "###### Подбор параметров"
   ]
  },
  {
   "cell_type": "code",
   "execution_count": 19,
   "metadata": {
    "collapsed": true
   },
   "outputs": [],
   "source": [
    "target_metric = evaluator\n",
    "metrics = {\n",
    "    \"roc_auc\" : evaluator\n",
    "}"
   ]
  },
  {
   "cell_type": "code",
   "execution_count": 20,
   "metadata": {
    "collapsed": true
   },
   "outputs": [],
   "source": [
    "def grid_search(grid):\n",
    "\n",
    "    history_params = []\n",
    "    history_scores = { name: [] for name in metrics.keys()}\n",
    "\n",
    "    best_score = 0\n",
    "    best_params = None\n",
    "    best_model = None\n",
    "\n",
    "    for params in tqdm_notebook(ParameterGrid(grid)):    \n",
    "        # Fitting\n",
    "        als = ALS(\n",
    "            **header,\n",
    "            **params\n",
    "        )\n",
    "        \n",
    "        pipeline = Pipeline(stages=[als, cast_prediction])\n",
    "        model = pipeline.fit(train_sdf)\n",
    "\n",
    "        # Prediction\n",
    "        pred = model.transform(val_sdf)\n",
    "        \n",
    "        # Target scoring\n",
    "        score = target_metric(pred)\n",
    "        if score > best_score:\n",
    "            best_score = score\n",
    "            best_params = params\n",
    "            best_model = model\n",
    "\n",
    "        # History\n",
    "        if metrics is not None:\n",
    "            for name, metric in metrics.items():\n",
    "                history_scores[name].append(metric(pred))\n",
    "        history_params.append(params)\n",
    "    \n",
    "    results = [\n",
    "        best_score,\n",
    "        best_params,\n",
    "        best_model,\n",
    "        history_params,\n",
    "        history_scores\n",
    "    ]\n",
    "    \n",
    "    return results"
   ]
  },
  {
   "cell_type": "markdown",
   "metadata": {},
   "source": [
    "###### Одномерный перебор "
   ]
  },
  {
   "cell_type": "markdown",
   "metadata": {},
   "source": [
    "rank"
   ]
  },
  {
   "cell_type": "code",
   "execution_count": 21,
   "metadata": {},
   "outputs": [
    {
     "data": {
      "application/vnd.jupyter.widget-view+json": {
       "model_id": "98b7738072454876be5952f7b3e62019"
      }
     },
     "metadata": {},
     "output_type": "display_data"
    },
    {
     "name": "stdout",
     "output_type": "stream",
     "text": [
      "\n",
      "Best score: 0.6668503678828098\n",
      "Best param: {'rank': 10}\n"
     ]
    },
    {
     "data": {
      "image/png": "[encoded data removed]",
      "text/plain": [
       "<matplotlib.figure.Figure at 0x7fb6ca13fb38>"
      ]
     },
     "metadata": {},
     "output_type": "display_data"
    },
    {
     "name": "stdout",
     "output_type": "stream",
     "text": [
      "CPU times: user 597 ms, sys: 2.39 s, total: 2.99 s\n",
      "Wall time: 4min 54s\n"
     ]
    }
   ],
   "source": [
    "%%time\n",
    "grid = {\n",
    "    \"rank\": np.arange(10, 51, 10)\n",
    "}\n",
    "\n",
    "best_score, best_params, best_model, history_params, history_scores = grid_search(grid)\n",
    "\n",
    "print(\"Best score: {}\".format(best_score))\n",
    "print(\"Best param: {}\".format(best_params))\n",
    "\n",
    "plt.figure(figsize=(14, 7))\n",
    "\n",
    "plt.plot(grid[\"rank\"], history_scores[\"roc_auc\"], label=\"rank\")\n",
    "plt.plot(best_params[\"rank\"], best_score, \"or\", label=\"best_score\")\n",
    "\n",
    "plt.title(\"Rank\")\n",
    "plt.xlabel(\"rank\")\n",
    "plt.ylabel(\"roc_auc\")\n",
    "plt.legend()\n",
    "plt.show()"
   ]
  },
  {
   "cell_type": "code",
   "execution_count": 22,
   "metadata": {},
   "outputs": [
    {
     "data": {
      "text/plain": [
       "{'rank': [10]}"
      ]
     },
     "execution_count": 22,
     "metadata": {},
     "output_type": "execute_result"
    }
   ],
   "source": [
    "{key: [value] for key, value in best_params.items()}"
   ]
  },
  {
   "cell_type": "markdown",
   "metadata": {},
   "source": [
    "max_iter"
   ]
  },
  {
   "cell_type": "code",
   "execution_count": 23,
   "metadata": {},
   "outputs": [
    {
     "data": {
      "application/vnd.jupyter.widget-view+json": {
       "model_id": "273736b283fd4c139ee5d02a5cb746e1"
      }
     },
     "metadata": {},
     "output_type": "display_data"
    },
    {
     "name": "stdout",
     "output_type": "stream",
     "text": [
      "\n",
      "Best score: 0.673086503146225\n",
      "Best param: {'maxIter': 6, 'rank': 10}\n"
     ]
    },
    {
     "data": {
      "image/png": "[encoded data removed]",
      "text/plain": [
       "<matplotlib.figure.Figure at 0x7fb6b1cf3e10>"
      ]
     },
     "metadata": {},
     "output_type": "display_data"
    },
    {
     "name": "stdout",
     "output_type": "stream",
     "text": [
      "CPU times: user 483 ms, sys: 694 ms, total: 1.18 s\n",
      "Wall time: 1min 57s\n"
     ]
    }
   ],
   "source": [
    "%%time\n",
    "grid = {\n",
    "    **{key: [value] for key, value in best_params.items()},\n",
    "    \"maxIter\": np.arange(1, 21, 5)\n",
    "}\n",
    "\n",
    "best_score, best_params, best_model, history_params, history_scores = grid_search(grid)\n",
    "\n",
    "print(\"Best score: {}\".format(best_score))\n",
    "print(\"Best param: {}\".format(best_params))\n",
    "\n",
    "plt.figure(figsize=(14, 7))\n",
    "\n",
    "plt.plot(grid[\"maxIter\"], history_scores[\"roc_auc\"], label=\"maxIter\")\n",
    "plt.plot(best_params[\"maxIter\"], best_score, \"or\", label=\"best_score\")\n",
    "\n",
    "plt.title(\"MaxIter\")\n",
    "plt.xlabel(\"maxIter\")\n",
    "plt.ylabel(\"roc_auc\")\n",
    "plt.legend()\n",
    "plt.show()"
   ]
  },
  {
   "cell_type": "code",
   "execution_count": 24,
   "metadata": {},
   "outputs": [
    {
     "data": {
      "text/plain": [
       "{'maxIter': [6], 'rank': [10]}"
      ]
     },
     "execution_count": 24,
     "metadata": {},
     "output_type": "execute_result"
    }
   ],
   "source": [
    "{key: [value] for key, value in best_params.items()}"
   ]
  },
  {
   "cell_type": "markdown",
   "metadata": {},
   "source": [
    "reg param"
   ]
  },
  {
   "cell_type": "code",
   "execution_count": 25,
   "metadata": {},
   "outputs": [
    {
     "data": {
      "application/vnd.jupyter.widget-view+json": {
       "model_id": "306d070c967949a2aa20b54fbeefc6a4"
      }
     },
     "metadata": {},
     "output_type": "display_data"
    },
    {
     "name": "stdout",
     "output_type": "stream",
     "text": [
      "\n",
      "Best score: 0.6980240397236739\n",
      "Best param: {'regParam': 1.0, 'maxIter': 6, 'rank': 10}\n"
     ]
    },
    {
     "data": {
      "image/png": "[encoded data removed]",
      "text/plain": [
       "<matplotlib.figure.Figure at 0x7fb6bd735518>"
      ]
     },
     "metadata": {},
     "output_type": "display_data"
    },
    {
     "name": "stdout",
     "output_type": "stream",
     "text": [
      "CPU times: user 816 ms, sys: 916 ms, total: 1.73 s\n",
      "Wall time: 6min 31s\n"
     ]
    }
   ],
   "source": [
    "%%time\n",
    "grid = {\n",
    "    **{key: [value] for key, value in best_params.items()},\n",
    "    \"regParam\": np.arange(0, 15.1, 1)\n",
    "}\n",
    "\n",
    "best_score, best_params, best_model, history_params, history_scores = grid_search(grid)\n",
    "\n",
    "print(\"Best score: {}\".format(best_score))\n",
    "print(\"Best param: {}\".format(best_params))\n",
    "\n",
    "plt.figure(figsize=(14, 7))\n",
    "\n",
    "plt.plot(grid[\"regParam\"], history_scores[\"roc_auc\"], label=\"regParam\")\n",
    "plt.plot(best_params[\"regParam\"], best_score, \"or\", label=\"best_score\")\n",
    "\n",
    "plt.title(\"RegParam\")\n",
    "plt.xlabel(\"regParam\")\n",
    "plt.ylabel(\"roc_auc\")\n",
    "plt.legend()\n",
    "plt.show()"
   ]
  },
  {
   "cell_type": "code",
   "execution_count": 26,
   "metadata": {},
   "outputs": [
    {
     "data": {
      "text/plain": [
       "{'maxIter': [6], 'rank': [10], 'regParam': [1.0]}"
      ]
     },
     "execution_count": 26,
     "metadata": {},
     "output_type": "execute_result"
    }
   ],
   "source": [
    "{key: [value] for key, value in best_params.items()}"
   ]
  },
  {
   "cell_type": "markdown",
   "metadata": {},
   "source": [
    "alpha"
   ]
  },
  {
   "cell_type": "code",
   "execution_count": 27,
   "metadata": {},
   "outputs": [
    {
     "data": {
      "application/vnd.jupyter.widget-view+json": {
       "model_id": "f3f558053947454cb4e23a908dfebc5d"
      }
     },
     "metadata": {},
     "output_type": "display_data"
    },
    {
     "name": "stdout",
     "output_type": "stream",
     "text": [
      "\n",
      "Best score: 0.698024039723674\n",
      "Best param: {'regParam': 1.0, 'maxIter': 6, 'alpha': 1, 'rank': 10}\n"
     ]
    },
    {
     "data": {
      "image/png": "[encoded data removed]",
      "text/plain": [
       "<matplotlib.figure.Figure at 0x7fb6b1ccecc0>"
      ]
     },
     "metadata": {},
     "output_type": "display_data"
    },
    {
     "name": "stdout",
     "output_type": "stream",
     "text": [
      "CPU times: user 618 ms, sys: 762 ms, total: 1.38 s\n",
      "Wall time: 3min 9s\n"
     ]
    }
   ],
   "source": [
    "%%time\n",
    "grid = {\n",
    "    **{key: [value] for key, value in best_params.items()},\n",
    "    \"alpha\": np.arange(0, 8, 1)\n",
    "}\n",
    "\n",
    "best_score, best_params, best_model, history_params, history_scores = grid_search(grid)\n",
    "\n",
    "print(\"Best score: {}\".format(best_score))\n",
    "print(\"Best param: {}\".format(best_params))\n",
    "\n",
    "plt.figure(figsize=(14, 7))\n",
    "\n",
    "plt.plot(grid[\"alpha\"], history_scores[\"roc_auc\"], label=\"alpha\")\n",
    "plt.plot(best_params[\"alpha\"], best_score, \"or\", label=\"best_score\")\n",
    "\n",
    "plt.title(\"Alpha\")\n",
    "plt.xlabel(\"alpha\")\n",
    "plt.ylabel(\"roc_auc\")\n",
    "plt.legend()\n",
    "plt.show()"
   ]
  },
  {
   "cell_type": "code",
   "execution_count": 28,
   "metadata": {},
   "outputs": [
    {
     "data": {
      "text/plain": [
       "{'alpha': [1], 'maxIter': [6], 'rank': [10], 'regParam': [1.0]}"
      ]
     },
     "execution_count": 28,
     "metadata": {},
     "output_type": "execute_result"
    }
   ],
   "source": [
    "{key: [value] for key, value in best_params.items()}"
   ]
  },
  {
   "cell_type": "markdown",
   "metadata": {},
   "source": [
    "nonnegative"
   ]
  },
  {
   "cell_type": "code",
   "execution_count": 29,
   "metadata": {},
   "outputs": [
    {
     "data": {
      "application/vnd.jupyter.widget-view+json": {
       "model_id": "a0eea71a6a534474b941c013cb572e43"
      }
     },
     "metadata": {},
     "output_type": "display_data"
    },
    {
     "name": "stdout",
     "output_type": "stream",
     "text": [
      "\n",
      "Best score: 0.6980240397236742\n",
      "Best param: {'nonnegative': False, 'maxIter': 6, 'alpha': 1, 'rank': 10, 'regParam': 1.0}\n",
      "False: 0.6980240397236739\n",
      "True: 0.6960749641544078\n",
      "CPU times: user 79.8 ms, sys: 45.1 ms, total: 125 ms\n",
      "Wall time: 54.2 s\n"
     ]
    }
   ],
   "source": [
    "%%time\n",
    "grid = {\n",
    "    **{key: [value] for key, value in best_params.items()},\n",
    "    \"nonnegative\": [False, True]\n",
    "}\n",
    "\n",
    "best_score, best_params, best_model, history_params, history_scores = grid_search(grid)\n",
    "\n",
    "print(\"Best score: {}\".format(best_score))\n",
    "print(\"Best param: {}\".format(best_params))\n",
    "\n",
    "for param, score in zip(grid[\"nonnegative\"], history_scores[\"roc_auc\"]):\n",
    "    print(\"{}: {}\".format(param, score))"
   ]
  },
  {
   "cell_type": "code",
   "execution_count": 30,
   "metadata": {},
   "outputs": [
    {
     "data": {
      "text/plain": [
       "{'alpha': [1],\n",
       " 'maxIter': [6],\n",
       " 'nonnegative': [False],\n",
       " 'rank': [10],\n",
       " 'regParam': [1.0]}"
      ]
     },
     "execution_count": 30,
     "metadata": {},
     "output_type": "execute_result"
    }
   ],
   "source": [
    "{key: [value] for key, value in best_params.items()}"
   ]
  },
  {
   "cell_type": "markdown",
   "metadata": {},
   "source": [
    "###### Валидация лучшей модели "
   ]
  },
  {
   "cell_type": "code",
   "execution_count": 31,
   "metadata": {},
   "outputs": [
    {
     "name": "stdout",
     "output_type": "stream",
     "text": [
      "CPU times: user 136 ms, sys: 13.3 ms, total: 149 ms\n",
      "Wall time: 17.4 s\n"
     ]
    }
   ],
   "source": [
    "%%time\n",
    "\n",
    "als = ALS(\n",
    "    **header,\n",
    "    **best_params\n",
    ")\n",
    "\n",
    "best_model = als.fit(train_sdf)\n",
    "\n",
    "pred = best_model.transform(val_sdf).toPandas()\n",
    "pred[\"prediction\"] = MinMaxScaler().fit_transform(pred[[\"prediction\"]])"
   ]
  },
  {
   "cell_type": "code",
   "execution_count": 32,
   "metadata": {
    "collapsed": true
   },
   "outputs": [],
   "source": [
    "def get_best_roc_threshold(pred):\n",
    "    pred_cols = [pred[\"rating\"], pred[\"prediction\"]]\n",
    "    \n",
    "    fpr, tpr, thresholds_roc = roc_curve(*pred_cols)\n",
    "\n",
    "    sensitivity = tpr\n",
    "    specificity = 1 - fpr\n",
    "    gmeans = np.sqrt(sensitivity * specificity)\n",
    "\n",
    "    ix_gmean = np.argmax(gmeans)\n",
    "    best_threshold_roc = thresholds_roc[ix_gmean]\n",
    "    \n",
    "    return best_threshold_roc\n",
    "    \n",
    "    \n",
    "def print_metrics(pred):\n",
    "    pred_cols = [pred[\"rating\"], pred[\"prediction\"]]\n",
    "    \n",
    "    best_threshold_roc = get_best_roc_threshold(pred)\n",
    "    pred_crisp_cols = [pred.rating, pred.prediction > best_threshold_roc]\n",
    "    \n",
    "    print(\"ROC_AUC: {:.4f}\".format(roc_auc_score(*pred_cols)))\n",
    "\n",
    "    print(\"Precision: {:.4f}\".format(precision_score(*pred_crisp_cols)))\n",
    "    print(\"Recall: {:.4f}\".format(recall_score(*pred_crisp_cols)))\n",
    "    print(\"F1-score: {:.4f}\".format(f1_score(*pred_crisp_cols)))\n",
    "\n",
    "    tn, fp, fn, tp = confusion_matrix(*pred_crisp_cols).ravel()\n",
    "    print(\"TP: {}, FP: {}\".format(tp, fp))\n",
    "    print(\"FN: {}, TN: {}\".format(fn, tn))\n",
    "\n",
    "    print(\"Log loss: {:.4f}\".format(log_loss(*pred_cols)))"
   ]
  },
  {
   "cell_type": "code",
   "execution_count": 33,
   "metadata": {},
   "outputs": [
    {
     "name": "stdout",
     "output_type": "stream",
     "text": [
      "ROC_AUC: 0.6980\n",
      "Precision: 0.1389\n",
      "Recall: 0.7466\n",
      "F1-score: 0.2342\n",
      "TP: 1821, FP: 11292\n",
      "FN: 618, TN: 13673\n",
      "Log loss: 0.3662\n"
     ]
    }
   ],
   "source": [
    "print_metrics(pred)"
   ]
  },
  {
   "cell_type": "code",
   "execution_count": null,
   "metadata": {
    "collapsed": true
   },
   "outputs": [],
   "source": []
  },
  {
   "cell_type": "code",
   "execution_count": null,
   "metadata": {
    "collapsed": true
   },
   "outputs": [],
   "source": []
  },
  {
   "cell_type": "code",
   "execution_count": null,
   "metadata": {
    "collapsed": true
   },
   "outputs": [],
   "source": []
  },
  {
   "cell_type": "code",
   "execution_count": null,
   "metadata": {
    "collapsed": true
   },
   "outputs": [],
   "source": []
  }
 ],
 "metadata": {
  "kernelspec": {
   "display_name": "Python 3",
   "language": "python",
   "name": "python3"
  },
  "language_info": {
   "codemirror_mode": {
    "name": "ipython",
    "version": 3
   },
   "file_extension": ".py",
   "mimetype": "text/x-python",
   "name": "python",
   "nbconvert_exporter": "python",
   "pygments_lexer": "ipython3",
   "version": "3.5.3"
  }
 },
 "nbformat": 4,
 "nbformat_minor": 2
}
