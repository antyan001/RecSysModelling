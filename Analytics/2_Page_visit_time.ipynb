{
 "cells": [
  {
   "cell_type": "code",
   "execution_count": 1,
   "metadata": {
    "collapsed": true
   },
   "outputs": [],
   "source": [
    "import os, sys\n",
    "\n",
    "recsys_cf = os.environ.get(\"RECSYS_STORY\")\n",
    "sys.path.append(recsys_cf)\n",
    "os.chdir(recsys_cf)\n",
    "\n",
    "from lib.tools import *"
   ]
  },
  {
   "cell_type": "code",
   "execution_count": null,
   "metadata": {
    "collapsed": true
   },
   "outputs": [],
   "source": [
    "recsys_cf = ''"
   ]
  },
  {
   "cell_type": "code",
   "execution_count": 2,
   "metadata": {
    "collapsed": true
   },
   "outputs": [],
   "source": [
    "from urllib.parse import urlparse"
   ]
  },
  {
   "cell_type": "code",
   "execution_count": 3,
   "metadata": {
    "collapsed": true
   },
   "outputs": [],
   "source": [
    "%matplotlib inline"
   ]
  },
  {
   "cell_type": "code",
   "execution_count": 4,
   "metadata": {
    "collapsed": true
   },
   "outputs": [],
   "source": [
    "@udf(stypes.StringType())\n",
    "def get_url_path(url):\n",
    "    try:\n",
    "        url_parse = urlparse(url)\n",
    "    except Exception as e:\n",
    "        print(e)\n",
    "        return None\n",
    "\n",
    "    return url_parse.path"
   ]
  },
  {
   "cell_type": "markdown",
   "metadata": {},
   "source": [
    "###### spark "
   ]
  },
  {
   "cell_type": "code",
   "execution_count": 5,
   "metadata": {
    "collapsed": true
   },
   "outputs": [],
   "source": [
    "sp = spark(**SPARK_CONFIG)\n",
    "hive = sp.sql"
   ]
  },
  {
   "cell_type": "markdown",
   "metadata": {},
   "source": [
    "###### load_table "
   ]
  },
  {
   "cell_type": "code",
   "execution_count": 6,
   "metadata": {
    "collapsed": true
   },
   "outputs": [],
   "source": [
    "visit = load_table(SBX_TEAM_DIGITCAMP, \"tmp_visit_140621_200621\", hive)"
   ]
  },
  {
   "cell_type": "code",
   "execution_count": 7,
   "metadata": {},
   "outputs": [
    {
     "data": {
      "text/html": [
       "<div>\n",
       "<style scoped>\n",
       "    .dataframe tbody tr th:only-of-type {\n",
       "        vertical-align: middle;\n",
       "    }\n",
       "\n",
       "    .dataframe tbody tr th {\n",
       "        vertical-align: top;\n",
       "    }\n",
       "\n",
       "    .dataframe thead th {\n",
       "        text-align: right;\n",
       "    }\n",
       "</style>\n",
       "<table border=\"1\" class=\"dataframe\">\n",
       "  <thead>\n",
       "    <tr style=\"text-align: right;\">\n",
       "      <th></th>\n",
       "      <th>cid</th>\n",
       "      <th>sbboluserid</th>\n",
       "      <th>sessionStartTime</th>\n",
       "      <th>hitTime</th>\n",
       "      <th>hitPageHostName</th>\n",
       "      <th>hitPagePath</th>\n",
       "    </tr>\n",
       "  </thead>\n",
       "  <tbody>\n",
       "    <tr>\n",
       "      <th>0</th>\n",
       "      <td>665655226.1623617732</td>\n",
       "      <td>None</td>\n",
       "      <td>1623618000</td>\n",
       "      <td>0</td>\n",
       "      <td>lks.domclick.ru</td>\n",
       "      <td>/</td>\n",
       "    </tr>\n",
       "    <tr>\n",
       "      <th>1</th>\n",
       "      <td>719091194.1623617924</td>\n",
       "      <td>None</td>\n",
       "      <td>1623618000</td>\n",
       "      <td>0</td>\n",
       "      <td>osago.sberbank.ru</td>\n",
       "      <td>/</td>\n",
       "    </tr>\n",
       "    <tr>\n",
       "      <th>2</th>\n",
       "      <td>354588923.1623479990</td>\n",
       "      <td>None</td>\n",
       "      <td>1623618000</td>\n",
       "      <td>0</td>\n",
       "      <td>domclick.ru</td>\n",
       "      <td>/</td>\n",
       "    </tr>\n",
       "  </tbody>\n",
       "</table>\n",
       "</div>"
      ],
      "text/plain": [
       "                    cid sbboluserid  sessionStartTime  hitTime  \\\n",
       "0  665655226.1623617732        None        1623618000        0   \n",
       "1  719091194.1623617924        None        1623618000        0   \n",
       "2  354588923.1623479990        None        1623618000        0   \n",
       "\n",
       "     hitPageHostName hitPagePath  \n",
       "0    lks.domclick.ru           /  \n",
       "1  osago.sberbank.ru           /  \n",
       "2        domclick.ru           /  "
      ]
     },
     "execution_count": 7,
     "metadata": {},
     "output_type": "execute_result"
    }
   ],
   "source": [
    "visit.show(3)"
   ]
  },
  {
   "cell_type": "code",
   "execution_count": 8,
   "metadata": {},
   "outputs": [
    {
     "data": {
      "text/plain": [
       "DataFrame[cid: string, sbboluserid: string, sessionStartTime: bigint, hitTime: bigint, hitPageHostName: string, hitPagePath: string]"
      ]
     },
     "execution_count": 8,
     "metadata": {},
     "output_type": "execute_result"
    }
   ],
   "source": [
    "visit.cache()"
   ]
  },
  {
   "cell_type": "code",
   "execution_count": 9,
   "metadata": {},
   "outputs": [
    {
     "data": {
      "text/plain": [
       "686868777"
      ]
     },
     "execution_count": 9,
     "metadata": {},
     "output_type": "execute_result"
    }
   ],
   "source": [
    "visit.count()"
   ]
  },
  {
   "cell_type": "code",
   "execution_count": 10,
   "metadata": {
    "collapsed": true
   },
   "outputs": [],
   "source": [
    "visit_path = visit"
   ]
  },
  {
   "cell_type": "code",
   "execution_count": 11,
   "metadata": {},
   "outputs": [
    {
     "data": {
      "text/plain": [
       "686868777"
      ]
     },
     "execution_count": 11,
     "metadata": {},
     "output_type": "execute_result"
    }
   ],
   "source": [
    "visit_path.cache().count()"
   ]
  },
  {
   "cell_type": "code",
   "execution_count": 12,
   "metadata": {},
   "outputs": [
    {
     "data": {
      "text/html": [
       "<div>\n",
       "<style scoped>\n",
       "    .dataframe tbody tr th:only-of-type {\n",
       "        vertical-align: middle;\n",
       "    }\n",
       "\n",
       "    .dataframe tbody tr th {\n",
       "        vertical-align: top;\n",
       "    }\n",
       "\n",
       "    .dataframe thead th {\n",
       "        text-align: right;\n",
       "    }\n",
       "</style>\n",
       "<table border=\"1\" class=\"dataframe\">\n",
       "  <thead>\n",
       "    <tr style=\"text-align: right;\">\n",
       "      <th></th>\n",
       "      <th>cid</th>\n",
       "      <th>sbboluserid</th>\n",
       "      <th>sessionStartTime</th>\n",
       "      <th>hitTime</th>\n",
       "      <th>hitPageHostName</th>\n",
       "      <th>hitPagePath</th>\n",
       "    </tr>\n",
       "  </thead>\n",
       "  <tbody>\n",
       "    <tr>\n",
       "      <th>0</th>\n",
       "      <td>665655226.1623617732</td>\n",
       "      <td>None</td>\n",
       "      <td>1623618000</td>\n",
       "      <td>0</td>\n",
       "      <td>lks.domclick.ru</td>\n",
       "      <td>/</td>\n",
       "    </tr>\n",
       "    <tr>\n",
       "      <th>1</th>\n",
       "      <td>719091194.1623617924</td>\n",
       "      <td>None</td>\n",
       "      <td>1623618000</td>\n",
       "      <td>0</td>\n",
       "      <td>osago.sberbank.ru</td>\n",
       "      <td>/</td>\n",
       "    </tr>\n",
       "    <tr>\n",
       "      <th>2</th>\n",
       "      <td>354588923.1623479990</td>\n",
       "      <td>None</td>\n",
       "      <td>1623618000</td>\n",
       "      <td>0</td>\n",
       "      <td>domclick.ru</td>\n",
       "      <td>/</td>\n",
       "    </tr>\n",
       "    <tr>\n",
       "      <th>3</th>\n",
       "      <td>1343171466.1585798623</td>\n",
       "      <td>None</td>\n",
       "      <td>1623618000</td>\n",
       "      <td>0</td>\n",
       "      <td>online.sberbank.ru</td>\n",
       "      <td>/</td>\n",
       "    </tr>\n",
       "    <tr>\n",
       "      <th>4</th>\n",
       "      <td>1558314699.1588027687</td>\n",
       "      <td>None</td>\n",
       "      <td>1623618000</td>\n",
       "      <td>0</td>\n",
       "      <td>sbermobile.ru</td>\n",
       "      <td>/</td>\n",
       "    </tr>\n",
       "    <tr>\n",
       "      <th>5</th>\n",
       "      <td>486355190.1623617593</td>\n",
       "      <td>None</td>\n",
       "      <td>1623618000</td>\n",
       "      <td>0</td>\n",
       "      <td>sberbusiness.live</td>\n",
       "      <td>/</td>\n",
       "    </tr>\n",
       "    <tr>\n",
       "      <th>6</th>\n",
       "      <td>1399304114.1623617836</td>\n",
       "      <td>None</td>\n",
       "      <td>1623618000</td>\n",
       "      <td>0</td>\n",
       "      <td>sberprime.sber.ru</td>\n",
       "      <td>/</td>\n",
       "    </tr>\n",
       "    <tr>\n",
       "      <th>7</th>\n",
       "      <td>240973433.1623617990</td>\n",
       "      <td>None</td>\n",
       "      <td>1623618000</td>\n",
       "      <td>0</td>\n",
       "      <td>promo.sber.ru</td>\n",
       "      <td>/12june</td>\n",
       "    </tr>\n",
       "    <tr>\n",
       "      <th>8</th>\n",
       "      <td>2136630026.1604649743</td>\n",
       "      <td>None</td>\n",
       "      <td>1623618000</td>\n",
       "      <td>0</td>\n",
       "      <td>promo.sber.ru</td>\n",
       "      <td>/12june/</td>\n",
       "    </tr>\n",
       "    <tr>\n",
       "      <th>9</th>\n",
       "      <td>1419604719.1623617782</td>\n",
       "      <td>None</td>\n",
       "      <td>1623618000</td>\n",
       "      <td>0</td>\n",
       "      <td>promo.sber.ru</td>\n",
       "      <td>/12june/</td>\n",
       "    </tr>\n",
       "  </tbody>\n",
       "</table>\n",
       "</div>"
      ],
      "text/plain": [
       "                     cid sbboluserid  sessionStartTime  hitTime  \\\n",
       "0   665655226.1623617732        None        1623618000        0   \n",
       "1   719091194.1623617924        None        1623618000        0   \n",
       "2   354588923.1623479990        None        1623618000        0   \n",
       "3  1343171466.1585798623        None        1623618000        0   \n",
       "4  1558314699.1588027687        None        1623618000        0   \n",
       "5   486355190.1623617593        None        1623618000        0   \n",
       "6  1399304114.1623617836        None        1623618000        0   \n",
       "7   240973433.1623617990        None        1623618000        0   \n",
       "8  2136630026.1604649743        None        1623618000        0   \n",
       "9  1419604719.1623617782        None        1623618000        0   \n",
       "\n",
       "      hitPageHostName hitPagePath  \n",
       "0     lks.domclick.ru           /  \n",
       "1   osago.sberbank.ru           /  \n",
       "2         domclick.ru           /  \n",
       "3  online.sberbank.ru           /  \n",
       "4       sbermobile.ru           /  \n",
       "5   sberbusiness.live           /  \n",
       "6   sberprime.sber.ru           /  \n",
       "7       promo.sber.ru     /12june  \n",
       "8       promo.sber.ru    /12june/  \n",
       "9       promo.sber.ru    /12june/  "
      ]
     },
     "execution_count": 12,
     "metadata": {},
     "output_type": "execute_result"
    }
   ],
   "source": [
    "visit_path.show()"
   ]
  },
  {
   "cell_type": "markdown",
   "metadata": {},
   "source": [
    "###### create stats "
   ]
  },
  {
   "cell_type": "markdown",
   "metadata": {},
   "source": [
    "Посчитаем статистику по главной странице сбербанк.ру"
   ]
  },
  {
   "cell_type": "code",
   "execution_count": 14,
   "metadata": {
    "collapsed": true
   },
   "outputs": [],
   "source": [
    "class PipelinelMainPageTimeStatsSdf():\n",
    "    \n",
    "    \n",
    "    def __init__(self, spark, visit):\n",
    "        self.hive = spark.sql\n",
    "        self.visit = visit\n",
    "        \n",
    "        \n",
    "        \n",
    "    def run(self):\n",
    "        \n",
    "        \n",
    "        return self.sberbank_ru_page_stat_time_sdf(self.visit)\n",
    "    \n",
    "    \n",
    "    @staticmethod\n",
    "    @udf(stypes.StringType())\n",
    "    def get_url_path(url):\n",
    "        try:\n",
    "            url_parse = urlparse(url)\n",
    "        except Exception as e:\n",
    "            print(e)\n",
    "            return None\n",
    "\n",
    "        return url_parse.path\n",
    "    \n",
    "    \n",
    "    @staticmethod\n",
    "    @udf(stypes.IntegerType())\n",
    "    def get_stage(hitPagePath, lastPagePath, nextPagePath):\n",
    "    #     \"\"\"Stage: \n",
    "    #     0 - not target\n",
    "    #         1 - last action before target\n",
    "    #             2 - first action on target\n",
    "    #             3 - intermediate page on target\n",
    "    #             4 - last action on target\n",
    "    #         5 - first action after target\n",
    "    #     \"\"\"\n",
    "        \n",
    "        \n",
    "#         targetPagePath = f.lit(self.pagepath)\n",
    "        targetPagePath = \"/ru/s_m_business\"\n",
    "        if hitPagePath == targetPagePath:\n",
    "            \n",
    "            # if \"\\main\" - first/last page in session => set it as the last/first action before target\n",
    "            if lastPagePath == \"FIRST_HIT_IN_SESSION\":\n",
    "                return 1\n",
    "            elif nextPagePath == \"LAST_HIT_IN_SESSION\":\n",
    "                return 5\n",
    "            \n",
    "            if lastPagePath == targetPagePath and nextPagePath == targetPagePath:\n",
    "                return 3\n",
    "            elif nextPagePath == targetPagePath:\n",
    "                return 2\n",
    "            elif lastPagePath == targetPagePath:\n",
    "                return 4\n",
    "            else: # one element in target-list\n",
    "                return 2\n",
    "        else:\n",
    "            # if other page between target => set it as an intermediate page on target\n",
    "            if lastPagePath == targetPagePath and nextPagePath == targetPagePath: \n",
    "                return 3\n",
    "            if nextPagePath == targetPagePath:\n",
    "                return 1\n",
    "            elif lastPagePath == targetPagePath:\n",
    "                return 5\n",
    "            else:\n",
    "                return 0  \n",
    "            \n",
    "            \n",
    "            \n",
    "            \n",
    "    def sberbank_ru_page_stat_time_sdf(self, visit):\n",
    "        window = Window.partitionBy(\"cid\", \"sessionStartTime\") \\\n",
    "                .orderBy(\"hitTime\", \"hitPagePath\")\n",
    "\n",
    "        visit_last_next = visit.withColumn(\"lastPagePath\", \n",
    "                                           f.lag(\"hitPagePath\", default=\"FIRST_HIT_IN_SESSION\").over(window)) \\\n",
    "                               .withColumn(\"nextPagePath\", \n",
    "                                           f.lead(\"hitPagePath\", default=\"LAST_HIT_IN_SESSION\").over(window)) \\\n",
    "                               .orderBy(\"cid\", \"sessionStartTime\", \"hitTime\",  \"hitPagePath\")\n",
    "        \n",
    "        visit_last_next = visit_last_next.withColumn(\"hitPagePath\", self.get_url_path(f.col(\"hitPagePath\")))\\\n",
    "                                         .filter(f.col(\"hitPagePath\") != \"/\" )\n",
    "            \n",
    "        visit_stage = visit_last_next.withColumn(\"stage\", \n",
    "                                    self.get_stage(f.col(\"hitPagePath\"),\n",
    "                                                   f.col(\"lastPagePath\"),\n",
    "                                                   f.col(\"nextPagePath\"))) \\\n",
    "                        .select(\"cid\", \"sessionStartTime\", \"hitTime\", \"hitPagePath\", \"stage\")\n",
    "            \n",
    "        begin_stage, end_stage = 1, 5\n",
    "\n",
    "        visit_begin_end = visit_stage.filter(\"stage in ({}, {})\".format(begin_stage, end_stage)) \\\n",
    "                                     .withColumn(\"prevHitTime\", \n",
    "                                                 f.when(f.col(\"stage\") == end_stage, \n",
    "                                                 f.lag(\"hitTime\").over(window)).otherwise(0))\n",
    "            \n",
    "        visit_duration = visit_begin_end.withColumn(\"hitDuration\", \n",
    "                                                    f.when(f.col(\"stage\") == 5,\n",
    "                                                    f.col(\"hitTime\") - f.col(\"prevHitTime\")).otherwise(0))\\\n",
    "                                        .filter(\"hitDuration <> 0\")\\\n",
    "                                        .select(\"cid\", \"sessionStartTime\", \"hitTime\", \"hitDuration\")\n",
    "                \n",
    "        visit_session_agg = visit_duration.groupBy(\"cid\", \"sessionStartTime\")\\\n",
    "                                          .agg(f.count(\"hitDuration\").alias(\"countMainVisits\"), \n",
    "                                               f.sum(\"hitDuration\").alias(\"sumMainTime\"),\n",
    "                                               f.first(\"hitDuration\").alias(\"firstMainTime\"))\n",
    "            \n",
    "        visit_user_agg = visit_session_agg.groupBy(\"cid\") \\\n",
    "                                          .agg(f.avg(\"countMainVisits\").alias(\"avgCountMainVisits\"), \n",
    "                                               (f.avg(\"sumMainTime\") / 1000).alias(\"avgMainTimeSec\"), \n",
    "                                               (f.avg(\"firstMainTime\") / 1000).alias(\"avgFirstMainTimeSec\"))\n",
    "        \n",
    "        return visit_user_agg"
   ]
  },
  {
   "cell_type": "code",
   "execution_count": 15,
   "metadata": {
    "collapsed": true
   },
   "outputs": [],
   "source": [
    "smb = PipelinelMainPageTimeStatsSdf(sp, visit_path)"
   ]
  },
  {
   "cell_type": "code",
   "execution_count": 16,
   "metadata": {
    "collapsed": true
   },
   "outputs": [],
   "source": [
    "smb_stat = smb.run().cache()"
   ]
  },
  {
   "cell_type": "code",
   "execution_count": 17,
   "metadata": {},
   "outputs": [
    {
     "data": {
      "text/plain": [
       "105434"
      ]
     },
     "execution_count": 17,
     "metadata": {},
     "output_type": "execute_result"
    }
   ],
   "source": [
    "smb_stat.count()"
   ]
  },
  {
   "cell_type": "code",
   "execution_count": 18,
   "metadata": {},
   "outputs": [
    {
     "data": {
      "text/html": [
       "<div>\n",
       "<style scoped>\n",
       "    .dataframe tbody tr th:only-of-type {\n",
       "        vertical-align: middle;\n",
       "    }\n",
       "\n",
       "    .dataframe tbody tr th {\n",
       "        vertical-align: top;\n",
       "    }\n",
       "\n",
       "    .dataframe thead th {\n",
       "        text-align: right;\n",
       "    }\n",
       "</style>\n",
       "<table border=\"1\" class=\"dataframe\">\n",
       "  <thead>\n",
       "    <tr style=\"text-align: right;\">\n",
       "      <th></th>\n",
       "      <th>cid</th>\n",
       "      <th>avgCountMainVisits</th>\n",
       "      <th>avgMainTimeSec</th>\n",
       "      <th>avgFirstMainTimeSec</th>\n",
       "    </tr>\n",
       "  </thead>\n",
       "  <tbody>\n",
       "    <tr>\n",
       "      <th>0</th>\n",
       "      <td>1435814010.1607700948</td>\n",
       "      <td>2.000000</td>\n",
       "      <td>41.289000</td>\n",
       "      <td>7.560000</td>\n",
       "    </tr>\n",
       "    <tr>\n",
       "      <th>1</th>\n",
       "      <td>690315336.1616408376</td>\n",
       "      <td>1.111111</td>\n",
       "      <td>146.078444</td>\n",
       "      <td>144.027889</td>\n",
       "    </tr>\n",
       "    <tr>\n",
       "      <th>2</th>\n",
       "      <td>122101052.1623960031</td>\n",
       "      <td>1.000000</td>\n",
       "      <td>35.316000</td>\n",
       "      <td>35.316000</td>\n",
       "    </tr>\n",
       "    <tr>\n",
       "      <th>3</th>\n",
       "      <td>882395555.1620742390</td>\n",
       "      <td>1.125000</td>\n",
       "      <td>354.460500</td>\n",
       "      <td>344.653250</td>\n",
       "    </tr>\n",
       "    <tr>\n",
       "      <th>4</th>\n",
       "      <td>964058065.1620661221</td>\n",
       "      <td>1.000000</td>\n",
       "      <td>130.358500</td>\n",
       "      <td>130.358500</td>\n",
       "    </tr>\n",
       "    <tr>\n",
       "      <th>5</th>\n",
       "      <td>617146237.1554707481</td>\n",
       "      <td>2.000000</td>\n",
       "      <td>53.574667</td>\n",
       "      <td>25.074000</td>\n",
       "    </tr>\n",
       "    <tr>\n",
       "      <th>6</th>\n",
       "      <td>1246118895.1623997466</td>\n",
       "      <td>2.000000</td>\n",
       "      <td>24.657000</td>\n",
       "      <td>14.941000</td>\n",
       "    </tr>\n",
       "    <tr>\n",
       "      <th>7</th>\n",
       "      <td>529293708.1622009508</td>\n",
       "      <td>1.800000</td>\n",
       "      <td>23.572600</td>\n",
       "      <td>17.186400</td>\n",
       "    </tr>\n",
       "    <tr>\n",
       "      <th>8</th>\n",
       "      <td>1608987946.1623563150</td>\n",
       "      <td>2.000000</td>\n",
       "      <td>33.231000</td>\n",
       "      <td>24.568000</td>\n",
       "    </tr>\n",
       "    <tr>\n",
       "      <th>9</th>\n",
       "      <td>231794248.1609869812</td>\n",
       "      <td>1.333333</td>\n",
       "      <td>55.600667</td>\n",
       "      <td>49.443667</td>\n",
       "    </tr>\n",
       "  </tbody>\n",
       "</table>\n",
       "</div>"
      ],
      "text/plain": [
       "                     cid  avgCountMainVisits  avgMainTimeSec  \\\n",
       "0  1435814010.1607700948            2.000000       41.289000   \n",
       "1   690315336.1616408376            1.111111      146.078444   \n",
       "2   122101052.1623960031            1.000000       35.316000   \n",
       "3   882395555.1620742390            1.125000      354.460500   \n",
       "4   964058065.1620661221            1.000000      130.358500   \n",
       "5   617146237.1554707481            2.000000       53.574667   \n",
       "6  1246118895.1623997466            2.000000       24.657000   \n",
       "7   529293708.1622009508            1.800000       23.572600   \n",
       "8  1608987946.1623563150            2.000000       33.231000   \n",
       "9   231794248.1609869812            1.333333       55.600667   \n",
       "\n",
       "   avgFirstMainTimeSec  \n",
       "0             7.560000  \n",
       "1           144.027889  \n",
       "2            35.316000  \n",
       "3           344.653250  \n",
       "4           130.358500  \n",
       "5            25.074000  \n",
       "6            14.941000  \n",
       "7            17.186400  \n",
       "8            24.568000  \n",
       "9            49.443667  "
      ]
     },
     "execution_count": 18,
     "metadata": {},
     "output_type": "execute_result"
    }
   ],
   "source": [
    "smb_stat.show()"
   ]
  },
  {
   "cell_type": "markdown",
   "metadata": {},
   "source": [
    "теперь получим статистику по посещением главной страницы сббола"
   ]
  },
  {
   "cell_type": "code",
   "execution_count": 19,
   "metadata": {
    "collapsed": true
   },
   "outputs": [],
   "source": [
    "class PipelineSbbolMainPageTimeStatsSdf():\n",
    "    \n",
    "    \n",
    "    def __init__(self, spark, visit):\n",
    "        self.hive = spark.sql\n",
    "        self.visit = visit\n",
    "        \n",
    "        \n",
    "        \n",
    "    def run(self):\n",
    "        \n",
    "        \n",
    "        return self.sbbol_page_stat_time_sdf(self.visit)\n",
    "    \n",
    "    \n",
    "    @staticmethod\n",
    "    @udf(stypes.StringType())\n",
    "    def get_url_path(url):\n",
    "        try:\n",
    "            url_parse = urlparse(url)\n",
    "        except Exception as e:\n",
    "            print(e)\n",
    "            return None\n",
    "\n",
    "        return url_parse.path\n",
    "    \n",
    "    \n",
    "    @staticmethod\n",
    "    @udf(stypes.IntegerType())\n",
    "    def get_stage(hitPagePath, lastPagePath, nextPagePath):\n",
    "    #     \"\"\"Stage: \n",
    "    #     0 - not target\n",
    "    #         1 - last action before target\n",
    "    #             2 - first action on target\n",
    "    #             3 - intermediate page on target\n",
    "    #             4 - last action on target\n",
    "    #         5 - first action after target\n",
    "    #     \"\"\"\n",
    "        \n",
    "        \n",
    "#         targetPagePath = f.lit(self.pagepath)\n",
    "        targetPagePath = \"/main\"\n",
    "        if hitPagePath == targetPagePath:\n",
    "            \n",
    "            # if \"\\main\" - first/last page in session => set it as the last/first action before target\n",
    "            if lastPagePath == \"FIRST_HIT_IN_SESSION\":\n",
    "                return 1\n",
    "            elif nextPagePath == \"LAST_HIT_IN_SESSION\":\n",
    "                return 5\n",
    "            \n",
    "            if lastPagePath == targetPagePath and nextPagePath == targetPagePath:\n",
    "                return 3\n",
    "            elif nextPagePath == targetPagePath:\n",
    "                return 2\n",
    "            elif lastPagePath == targetPagePath:\n",
    "                return 4\n",
    "            else: # one element in target-list\n",
    "                return 2\n",
    "        else:\n",
    "            # if other page between target => set it as an intermediate page on target\n",
    "            if lastPagePath == targetPagePath and nextPagePath == targetPagePath: \n",
    "                return 3\n",
    "            if nextPagePath == targetPagePath:\n",
    "                return 1\n",
    "            elif lastPagePath == targetPagePath:\n",
    "                return 5\n",
    "            else:\n",
    "                return 0  \n",
    "            \n",
    "            \n",
    "            \n",
    "            \n",
    "    def sbbol_page_stat_time_sdf(self, visit):\n",
    "        window = Window.partitionBy(\"sbboluserid\", \"sessionStartTime\") \\\n",
    "                .orderBy(\"hitTime\", \"hitPagePath\")\n",
    "\n",
    "        visit_last_next = visit.filter(\"sbboluserid is not Null AND hitPageHostName = 'sbi.sberbank.ru'\")\\\n",
    "                               .withColumn(\"lastPagePath\", \n",
    "                                           f.lag(\"hitPagePath\", default=\"FIRST_HIT_IN_SESSION\").over(window)) \\\n",
    "                               .withColumn(\"nextPagePath\", \n",
    "                                           f.lead(\"hitPagePath\", default=\"LAST_HIT_IN_SESSION\").over(window)) \\\n",
    "                               .orderBy(\"sbboluserid\", \"sessionStartTime\", \"hitTime\",  \"hitPagePath\").cache()\n",
    "        \n",
    "        visit_last_next = visit_last_next.withColumn(\"hitPagePath\", self.get_url_path(f.col(\"hitPagePath\")))\\\n",
    "                                         .filter(f.col(\"hitPagePath\") != \"/\" )\n",
    "            \n",
    "        visit_stage = visit_last_next.withColumn(\"stage\", \n",
    "                                    self.get_stage(f.col(\"hitPagePath\"),\n",
    "                                                   f.col(\"lastPagePath\"),\n",
    "                                                   f.col(\"nextPagePath\"))) \\\n",
    "                        .select(\"sbboluserid\", \"sessionStartTime\", \"hitTime\", \"hitPagePath\", \"stage\").cache()\n",
    "            \n",
    "        begin_stage, end_stage = 1, 5\n",
    "\n",
    "        visit_begin_end = visit_stage.filter(\"stage in ({}, {})\".format(begin_stage, end_stage)) \\\n",
    "                                     .withColumn(\"prevHitTime\", \n",
    "                                                 f.when(f.col(\"stage\") == end_stage, \n",
    "                                                 f.lag(\"hitTime\").over(window)).otherwise(0)).cache()\n",
    "            \n",
    "        visit_duration = visit_begin_end.withColumn(\"hitDuration\", \n",
    "                                                    f.when(f.col(\"stage\") == 5,\n",
    "                                                    f.col(\"hitTime\") - f.col(\"prevHitTime\")).otherwise(0))\\\n",
    "                                        .filter(\"hitDuration <> 0\")\\\n",
    "                                        .select(\"sbboluserid\", \"sessionStartTime\", \"hitTime\", \"hitDuration\").cache()\n",
    "                \n",
    "        visit_session_agg = visit_duration.groupBy(\"sbboluserid\", \"sessionStartTime\")\\\n",
    "                                          .agg(f.count(\"hitDuration\").alias(\"countMainVisits\"), \n",
    "                                               f.sum(\"hitDuration\").alias(\"sumMainTime\"),\n",
    "                                               f.first(\"hitDuration\").alias(\"firstMainTime\")).cache()\n",
    "            \n",
    "        visit_user_agg = visit_session_agg.groupBy(\"sbboluserid\") \\\n",
    "                                          .agg(f.avg(\"countMainVisits\").alias(\"avgCountMainVisits\"), \n",
    "                                               (f.avg(\"sumMainTime\") / 1000).alias(\"avgMainTimeSec\"), \n",
    "                                               (f.avg(\"firstMainTime\") / 1000).alias(\"avgFirstMainTimeSec\"))\n",
    "        \n",
    "        return visit_user_agg"
   ]
  },
  {
   "cell_type": "code",
   "execution_count": 20,
   "metadata": {
    "collapsed": true
   },
   "outputs": [],
   "source": [
    "sbbol_main = PipelineSbbolMainPageTimeStatsSdf(sp, visit_path)"
   ]
  },
  {
   "cell_type": "code",
   "execution_count": 21,
   "metadata": {
    "collapsed": true
   },
   "outputs": [],
   "source": [
    "sbbol_main_stats = sbbol_main.run().cache()"
   ]
  },
  {
   "cell_type": "markdown",
   "metadata": {},
   "source": [
    "### Статистика посещений главных страниц "
   ]
  },
  {
   "cell_type": "markdown",
   "metadata": {},
   "source": [
    "**avgCountMainVisits** - среднее количество посещений данным юзером главной страницы за сессию \n",
    "\n",
    "**avgMainTimeSec** - среднее время нахождения юзера на главной странице за сессию (время берется суммарно за сессию, что может не совсем корректно отражать суть задачи, ткт юзер за одну сессию мог перезаходить на главную страницу 100500 раз, при этом каждое посещение длилось по 1 секунде)\n",
    "\n",
    "**avgFirstMainTimeSec** - самое первое время нахождения на главной странице юзером"
   ]
  },
  {
   "cell_type": "markdown",
   "metadata": {},
   "source": [
    "Таблица статистики посещений главной страницы сббола"
   ]
  },
  {
   "cell_type": "code",
   "execution_count": 22,
   "metadata": {},
   "outputs": [
    {
     "data": {
      "text/html": [
       "<div>\n",
       "<style scoped>\n",
       "    .dataframe tbody tr th:only-of-type {\n",
       "        vertical-align: middle;\n",
       "    }\n",
       "\n",
       "    .dataframe tbody tr th {\n",
       "        vertical-align: top;\n",
       "    }\n",
       "\n",
       "    .dataframe thead th {\n",
       "        text-align: right;\n",
       "    }\n",
       "</style>\n",
       "<table border=\"1\" class=\"dataframe\">\n",
       "  <thead>\n",
       "    <tr style=\"text-align: right;\">\n",
       "      <th></th>\n",
       "      <th>sbboluserid</th>\n",
       "      <th>avgCountMainVisits</th>\n",
       "      <th>avgMainTimeSec</th>\n",
       "      <th>avgFirstMainTimeSec</th>\n",
       "    </tr>\n",
       "  </thead>\n",
       "  <tbody>\n",
       "    <tr>\n",
       "      <th>0</th>\n",
       "      <td>36b61e27-79f3-4088-9119-a19937897938</td>\n",
       "      <td>1.50</td>\n",
       "      <td>1366.824000</td>\n",
       "      <td>496.302500</td>\n",
       "    </tr>\n",
       "    <tr>\n",
       "      <th>1</th>\n",
       "      <td>3c25f076-1c3a-fc84-e054-90e2ba85d0c8</td>\n",
       "      <td>1.20</td>\n",
       "      <td>100.011000</td>\n",
       "      <td>96.791400</td>\n",
       "    </tr>\n",
       "    <tr>\n",
       "      <th>2</th>\n",
       "      <td>3c25f0ab-1538-1d5b-e054-90e2ba9a7f6c</td>\n",
       "      <td>1.75</td>\n",
       "      <td>363.333500</td>\n",
       "      <td>64.661250</td>\n",
       "    </tr>\n",
       "    <tr>\n",
       "      <th>3</th>\n",
       "      <td>40ead067-58c0-443d-999e-8cb1f736c83b</td>\n",
       "      <td>1.80</td>\n",
       "      <td>75.634200</td>\n",
       "      <td>61.787800</td>\n",
       "    </tr>\n",
       "    <tr>\n",
       "      <th>4</th>\n",
       "      <td>642a7e65-1ffb-4790-a0e7-81902398b7d6</td>\n",
       "      <td>2.00</td>\n",
       "      <td>144.831857</td>\n",
       "      <td>76.132000</td>\n",
       "    </tr>\n",
       "    <tr>\n",
       "      <th>5</th>\n",
       "      <td>6451d6db-2e16-4f86-8fce-af4192b0a5b1</td>\n",
       "      <td>1.00</td>\n",
       "      <td>15.218400</td>\n",
       "      <td>15.218400</td>\n",
       "    </tr>\n",
       "    <tr>\n",
       "      <th>6</th>\n",
       "      <td>6f819a0f-bb44-4172-9e7f-95d641a2a9a6</td>\n",
       "      <td>2.00</td>\n",
       "      <td>10.163000</td>\n",
       "      <td>6.983000</td>\n",
       "    </tr>\n",
       "    <tr>\n",
       "      <th>7</th>\n",
       "      <td>7ee7f517-ea97-41bd-96fc-9019a8e1198d</td>\n",
       "      <td>1.00</td>\n",
       "      <td>11.640000</td>\n",
       "      <td>11.640000</td>\n",
       "    </tr>\n",
       "    <tr>\n",
       "      <th>8</th>\n",
       "      <td>8105da31-7b71-4daa-96bd-6f16045eb549</td>\n",
       "      <td>2.00</td>\n",
       "      <td>567.423000</td>\n",
       "      <td>466.039857</td>\n",
       "    </tr>\n",
       "    <tr>\n",
       "      <th>9</th>\n",
       "      <td>8cca23cc-5798-466e-92d9-21285f1d4c06</td>\n",
       "      <td>1.50</td>\n",
       "      <td>172.835000</td>\n",
       "      <td>71.767625</td>\n",
       "    </tr>\n",
       "  </tbody>\n",
       "</table>\n",
       "</div>"
      ],
      "text/plain": [
       "                            sbboluserid  avgCountMainVisits  avgMainTimeSec  \\\n",
       "0  36b61e27-79f3-4088-9119-a19937897938                1.50     1366.824000   \n",
       "1  3c25f076-1c3a-fc84-e054-90e2ba85d0c8                1.20      100.011000   \n",
       "2  3c25f0ab-1538-1d5b-e054-90e2ba9a7f6c                1.75      363.333500   \n",
       "3  40ead067-58c0-443d-999e-8cb1f736c83b                1.80       75.634200   \n",
       "4  642a7e65-1ffb-4790-a0e7-81902398b7d6                2.00      144.831857   \n",
       "5  6451d6db-2e16-4f86-8fce-af4192b0a5b1                1.00       15.218400   \n",
       "6  6f819a0f-bb44-4172-9e7f-95d641a2a9a6                2.00       10.163000   \n",
       "7  7ee7f517-ea97-41bd-96fc-9019a8e1198d                1.00       11.640000   \n",
       "8  8105da31-7b71-4daa-96bd-6f16045eb549                2.00      567.423000   \n",
       "9  8cca23cc-5798-466e-92d9-21285f1d4c06                1.50      172.835000   \n",
       "\n",
       "   avgFirstMainTimeSec  \n",
       "0           496.302500  \n",
       "1            96.791400  \n",
       "2            64.661250  \n",
       "3            61.787800  \n",
       "4            76.132000  \n",
       "5            15.218400  \n",
       "6             6.983000  \n",
       "7            11.640000  \n",
       "8           466.039857  \n",
       "9            71.767625  "
      ]
     },
     "execution_count": 22,
     "metadata": {},
     "output_type": "execute_result"
    }
   ],
   "source": [
    "sbbol_main_stats.show()"
   ]
  },
  {
   "cell_type": "markdown",
   "metadata": {},
   "source": [
    "Таблица статистики посещений главной страницы сбербанк.ру"
   ]
  },
  {
   "cell_type": "code",
   "execution_count": 23,
   "metadata": {},
   "outputs": [
    {
     "data": {
      "text/html": [
       "<div>\n",
       "<style scoped>\n",
       "    .dataframe tbody tr th:only-of-type {\n",
       "        vertical-align: middle;\n",
       "    }\n",
       "\n",
       "    .dataframe tbody tr th {\n",
       "        vertical-align: top;\n",
       "    }\n",
       "\n",
       "    .dataframe thead th {\n",
       "        text-align: right;\n",
       "    }\n",
       "</style>\n",
       "<table border=\"1\" class=\"dataframe\">\n",
       "  <thead>\n",
       "    <tr style=\"text-align: right;\">\n",
       "      <th></th>\n",
       "      <th>cid</th>\n",
       "      <th>avgCountMainVisits</th>\n",
       "      <th>avgMainTimeSec</th>\n",
       "      <th>avgFirstMainTimeSec</th>\n",
       "    </tr>\n",
       "  </thead>\n",
       "  <tbody>\n",
       "    <tr>\n",
       "      <th>0</th>\n",
       "      <td>1435814010.1607700948</td>\n",
       "      <td>2.000000</td>\n",
       "      <td>41.289000</td>\n",
       "      <td>7.560000</td>\n",
       "    </tr>\n",
       "    <tr>\n",
       "      <th>1</th>\n",
       "      <td>690315336.1616408376</td>\n",
       "      <td>1.111111</td>\n",
       "      <td>146.078444</td>\n",
       "      <td>144.027889</td>\n",
       "    </tr>\n",
       "    <tr>\n",
       "      <th>2</th>\n",
       "      <td>122101052.1623960031</td>\n",
       "      <td>1.000000</td>\n",
       "      <td>35.316000</td>\n",
       "      <td>35.316000</td>\n",
       "    </tr>\n",
       "    <tr>\n",
       "      <th>3</th>\n",
       "      <td>882395555.1620742390</td>\n",
       "      <td>1.125000</td>\n",
       "      <td>354.460500</td>\n",
       "      <td>344.653250</td>\n",
       "    </tr>\n",
       "    <tr>\n",
       "      <th>4</th>\n",
       "      <td>964058065.1620661221</td>\n",
       "      <td>1.000000</td>\n",
       "      <td>130.358500</td>\n",
       "      <td>130.358500</td>\n",
       "    </tr>\n",
       "    <tr>\n",
       "      <th>5</th>\n",
       "      <td>617146237.1554707481</td>\n",
       "      <td>2.000000</td>\n",
       "      <td>53.574667</td>\n",
       "      <td>25.074000</td>\n",
       "    </tr>\n",
       "    <tr>\n",
       "      <th>6</th>\n",
       "      <td>1246118895.1623997466</td>\n",
       "      <td>2.000000</td>\n",
       "      <td>24.657000</td>\n",
       "      <td>14.941000</td>\n",
       "    </tr>\n",
       "    <tr>\n",
       "      <th>7</th>\n",
       "      <td>529293708.1622009508</td>\n",
       "      <td>1.800000</td>\n",
       "      <td>23.572600</td>\n",
       "      <td>17.186400</td>\n",
       "    </tr>\n",
       "    <tr>\n",
       "      <th>8</th>\n",
       "      <td>1608987946.1623563150</td>\n",
       "      <td>2.000000</td>\n",
       "      <td>33.231000</td>\n",
       "      <td>24.568000</td>\n",
       "    </tr>\n",
       "    <tr>\n",
       "      <th>9</th>\n",
       "      <td>231794248.1609869812</td>\n",
       "      <td>1.333333</td>\n",
       "      <td>55.600667</td>\n",
       "      <td>49.443667</td>\n",
       "    </tr>\n",
       "  </tbody>\n",
       "</table>\n",
       "</div>"
      ],
      "text/plain": [
       "                     cid  avgCountMainVisits  avgMainTimeSec  \\\n",
       "0  1435814010.1607700948            2.000000       41.289000   \n",
       "1   690315336.1616408376            1.111111      146.078444   \n",
       "2   122101052.1623960031            1.000000       35.316000   \n",
       "3   882395555.1620742390            1.125000      354.460500   \n",
       "4   964058065.1620661221            1.000000      130.358500   \n",
       "5   617146237.1554707481            2.000000       53.574667   \n",
       "6  1246118895.1623997466            2.000000       24.657000   \n",
       "7   529293708.1622009508            1.800000       23.572600   \n",
       "8  1608987946.1623563150            2.000000       33.231000   \n",
       "9   231794248.1609869812            1.333333       55.600667   \n",
       "\n",
       "   avgFirstMainTimeSec  \n",
       "0             7.560000  \n",
       "1           144.027889  \n",
       "2            35.316000  \n",
       "3           344.653250  \n",
       "4           130.358500  \n",
       "5            25.074000  \n",
       "6            14.941000  \n",
       "7            17.186400  \n",
       "8            24.568000  \n",
       "9            49.443667  "
      ]
     },
     "execution_count": 23,
     "metadata": {},
     "output_type": "execute_result"
    }
   ],
   "source": [
    "smb_stat.show()"
   ]
  },
  {
   "cell_type": "code",
   "execution_count": 24,
   "metadata": {},
   "outputs": [
    {
     "name": "stdout",
     "output_type": "stream",
     "text": [
      "Юзеров СББОЛа за неделю, посещавших главную страницу: 746611\n",
      "СИДов СБЕРБАНК.РУ за неделю, посещавших главную страницу s_m_business: 105434\n"
     ]
    }
   ],
   "source": [
    "print(\"Юзеров СББОЛа за неделю, посещавших главную страницу:\", sbbol_main_stats.count())\n",
    "print(\"СИДов СБЕРБАНК.РУ за неделю, посещавших главную страницу s_m_business:\", smb_stat.count())"
   ]
  },
  {
   "cell_type": "markdown",
   "metadata": {},
   "source": [
    "### s_m_business "
   ]
  },
  {
   "cell_type": "code",
   "execution_count": 25,
   "metadata": {},
   "outputs": [
    {
     "data": {
      "text/html": [
       "<div>\n",
       "<style scoped>\n",
       "    .dataframe tbody tr th:only-of-type {\n",
       "        vertical-align: middle;\n",
       "    }\n",
       "\n",
       "    .dataframe tbody tr th {\n",
       "        vertical-align: top;\n",
       "    }\n",
       "\n",
       "    .dataframe thead th {\n",
       "        text-align: right;\n",
       "    }\n",
       "</style>\n",
       "<table border=\"1\" class=\"dataframe\">\n",
       "  <thead>\n",
       "    <tr style=\"text-align: right;\">\n",
       "      <th></th>\n",
       "      <th>summary</th>\n",
       "      <th>avgCountMainVisits</th>\n",
       "      <th>avgMainTimeSec</th>\n",
       "      <th>avgFirstMainTimeSec</th>\n",
       "    </tr>\n",
       "  </thead>\n",
       "  <tbody>\n",
       "    <tr>\n",
       "      <th>0</th>\n",
       "      <td>count</td>\n",
       "      <td>105434</td>\n",
       "      <td>105434</td>\n",
       "      <td>105434</td>\n",
       "    </tr>\n",
       "    <tr>\n",
       "      <th>1</th>\n",
       "      <td>mean</td>\n",
       "      <td>1.411204763663794</td>\n",
       "      <td>126.48462300106837</td>\n",
       "      <td>83.48213449749232</td>\n",
       "    </tr>\n",
       "    <tr>\n",
       "      <th>2</th>\n",
       "      <td>stddev</td>\n",
       "      <td>0.6500093692551605</td>\n",
       "      <td>233.3803899776562</td>\n",
       "      <td>168.45272455410682</td>\n",
       "    </tr>\n",
       "    <tr>\n",
       "      <th>3</th>\n",
       "      <td>min</td>\n",
       "      <td>1.0</td>\n",
       "      <td>0.001</td>\n",
       "      <td>0.001</td>\n",
       "    </tr>\n",
       "    <tr>\n",
       "      <th>4</th>\n",
       "      <td>max</td>\n",
       "      <td>15.0</td>\n",
       "      <td>4191.07</td>\n",
       "      <td>3216.152</td>\n",
       "    </tr>\n",
       "  </tbody>\n",
       "</table>\n",
       "</div>"
      ],
      "text/plain": [
       "  summary  avgCountMainVisits      avgMainTimeSec avgFirstMainTimeSec\n",
       "0   count              105434              105434              105434\n",
       "1    mean   1.411204763663794  126.48462300106837   83.48213449749232\n",
       "2  stddev  0.6500093692551605   233.3803899776562  168.45272455410682\n",
       "3     min                 1.0               0.001               0.001\n",
       "4     max                15.0             4191.07            3216.152"
      ]
     },
     "execution_count": 25,
     "metadata": {},
     "output_type": "execute_result"
    }
   ],
   "source": [
    "smb_stat.describe(\"avgCountMainVisits\", \"avgMainTimeSec\", \"avgFirstMainTimeSec\").show()"
   ]
  },
  {
   "cell_type": "code",
   "execution_count": 26,
   "metadata": {},
   "outputs": [
    {
     "data": {
      "text/html": [
       "<div>\n",
       "<style scoped>\n",
       "    .dataframe tbody tr th:only-of-type {\n",
       "        vertical-align: middle;\n",
       "    }\n",
       "\n",
       "    .dataframe tbody tr th {\n",
       "        vertical-align: top;\n",
       "    }\n",
       "\n",
       "    .dataframe thead th {\n",
       "        text-align: right;\n",
       "    }\n",
       "</style>\n",
       "<table border=\"1\" class=\"dataframe\">\n",
       "  <thead>\n",
       "    <tr style=\"text-align: right;\">\n",
       "      <th></th>\n",
       "      <th>summary</th>\n",
       "      <th>avgCountMainVisits</th>\n",
       "      <th>avgMainTimeSec</th>\n",
       "      <th>avgFirstMainTimeSec</th>\n",
       "    </tr>\n",
       "  </thead>\n",
       "  <tbody>\n",
       "    <tr>\n",
       "      <th>0</th>\n",
       "      <td>count</td>\n",
       "      <td>103586</td>\n",
       "      <td>103586</td>\n",
       "      <td>103586</td>\n",
       "    </tr>\n",
       "    <tr>\n",
       "      <th>1</th>\n",
       "      <td>mean</td>\n",
       "      <td>1.3933411763299854</td>\n",
       "      <td>103.81794244380347</td>\n",
       "      <td>71.50431234019351</td>\n",
       "    </tr>\n",
       "    <tr>\n",
       "      <th>2</th>\n",
       "      <td>stddev</td>\n",
       "      <td>0.5936243424488493</td>\n",
       "      <td>148.3989809808984</td>\n",
       "      <td>111.92231696164329</td>\n",
       "    </tr>\n",
       "    <tr>\n",
       "      <th>3</th>\n",
       "      <td>min</td>\n",
       "      <td>1.0</td>\n",
       "      <td>0.001</td>\n",
       "      <td>0.001</td>\n",
       "    </tr>\n",
       "    <tr>\n",
       "      <th>4</th>\n",
       "      <td>max</td>\n",
       "      <td>5.5</td>\n",
       "      <td>999.603</td>\n",
       "      <td>999.603</td>\n",
       "    </tr>\n",
       "  </tbody>\n",
       "</table>\n",
       "</div>"
      ],
      "text/plain": [
       "  summary  avgCountMainVisits      avgMainTimeSec avgFirstMainTimeSec\n",
       "0   count              103586              103586              103586\n",
       "1    mean  1.3933411763299854  103.81794244380347   71.50431234019351\n",
       "2  stddev  0.5936243424488493   148.3989809808984  111.92231696164329\n",
       "3     min                 1.0               0.001               0.001\n",
       "4     max                 5.5             999.603             999.603"
      ]
     },
     "execution_count": 26,
     "metadata": {},
     "output_type": "execute_result"
    }
   ],
   "source": [
    "smb_stat.filter(\"avgCountMainVisits < 6 AND avgMainTimeSec < 1000\")\\\n",
    "                .describe(\"avgCountMainVisits\", \"avgMainTimeSec\", \"avgFirstMainTimeSec\").show()"
   ]
  },
  {
   "cell_type": "code",
   "execution_count": 27,
   "metadata": {},
   "outputs": [
    {
     "name": "stdout",
     "output_type": "stream",
     "text": [
      "CPU times: user 663 ms, sys: 87.1 ms, total: 750 ms\n",
      "Wall time: 1.11 s\n"
     ]
    }
   ],
   "source": [
    "%%time\n",
    "smb_stat_pdf = smb_stat.toPandas()"
   ]
  },
  {
   "cell_type": "code",
   "execution_count": 28,
   "metadata": {},
   "outputs": [
    {
     "data": {
      "text/html": [
       "<div>\n",
       "<style scoped>\n",
       "    .dataframe tbody tr th:only-of-type {\n",
       "        vertical-align: middle;\n",
       "    }\n",
       "\n",
       "    .dataframe tbody tr th {\n",
       "        vertical-align: top;\n",
       "    }\n",
       "\n",
       "    .dataframe thead th {\n",
       "        text-align: right;\n",
       "    }\n",
       "</style>\n",
       "<table border=\"1\" class=\"dataframe\">\n",
       "  <thead>\n",
       "    <tr style=\"text-align: right;\">\n",
       "      <th></th>\n",
       "      <th>summary</th>\n",
       "      <th>avgCountMainVisits</th>\n",
       "      <th>avgMainTimeSec</th>\n",
       "      <th>avgFirstMainTimeSec</th>\n",
       "    </tr>\n",
       "  </thead>\n",
       "  <tbody>\n",
       "    <tr>\n",
       "      <th>0</th>\n",
       "      <td>count</td>\n",
       "      <td>746611</td>\n",
       "      <td>746611</td>\n",
       "      <td>746611</td>\n",
       "    </tr>\n",
       "    <tr>\n",
       "      <th>1</th>\n",
       "      <td>mean</td>\n",
       "      <td>1.4502106719461094</td>\n",
       "      <td>164.7878274749845</td>\n",
       "      <td>109.79495163621986</td>\n",
       "    </tr>\n",
       "    <tr>\n",
       "      <th>2</th>\n",
       "      <td>stddev</td>\n",
       "      <td>1.1073638780751898</td>\n",
       "      <td>389.8736263461707</td>\n",
       "      <td>266.77979052420415</td>\n",
       "    </tr>\n",
       "    <tr>\n",
       "      <th>3</th>\n",
       "      <td>min</td>\n",
       "      <td>1.0</td>\n",
       "      <td>0.001</td>\n",
       "      <td>0.001</td>\n",
       "    </tr>\n",
       "    <tr>\n",
       "      <th>4</th>\n",
       "      <td>max</td>\n",
       "      <td>84.5</td>\n",
       "      <td>33878.838</td>\n",
       "      <td>33878.838</td>\n",
       "    </tr>\n",
       "  </tbody>\n",
       "</table>\n",
       "</div>"
      ],
      "text/plain": [
       "  summary  avgCountMainVisits     avgMainTimeSec avgFirstMainTimeSec\n",
       "0   count              746611             746611              746611\n",
       "1    mean  1.4502106719461094  164.7878274749845  109.79495163621986\n",
       "2  stddev  1.1073638780751898  389.8736263461707  266.77979052420415\n",
       "3     min                 1.0              0.001               0.001\n",
       "4     max                84.5          33878.838           33878.838"
      ]
     },
     "execution_count": 28,
     "metadata": {},
     "output_type": "execute_result"
    }
   ],
   "source": [
    "sbbol_main_stats.describe(\"avgCountMainVisits\", \"avgMainTimeSec\", \"avgFirstMainTimeSec\").show()"
   ]
  },
  {
   "cell_type": "code",
   "execution_count": 29,
   "metadata": {},
   "outputs": [
    {
     "data": {
      "text/html": [
       "<div>\n",
       "<style scoped>\n",
       "    .dataframe tbody tr th:only-of-type {\n",
       "        vertical-align: middle;\n",
       "    }\n",
       "\n",
       "    .dataframe tbody tr th {\n",
       "        vertical-align: top;\n",
       "    }\n",
       "\n",
       "    .dataframe thead th {\n",
       "        text-align: right;\n",
       "    }\n",
       "</style>\n",
       "<table border=\"1\" class=\"dataframe\">\n",
       "  <thead>\n",
       "    <tr style=\"text-align: right;\">\n",
       "      <th></th>\n",
       "      <th>summary</th>\n",
       "      <th>avgCountMainVisits</th>\n",
       "      <th>avgMainTimeSec</th>\n",
       "      <th>avgFirstMainTimeSec</th>\n",
       "    </tr>\n",
       "  </thead>\n",
       "  <tbody>\n",
       "    <tr>\n",
       "      <th>0</th>\n",
       "      <td>count</td>\n",
       "      <td>724104</td>\n",
       "      <td>724104</td>\n",
       "      <td>724104</td>\n",
       "    </tr>\n",
       "    <tr>\n",
       "      <th>1</th>\n",
       "      <td>mean</td>\n",
       "      <td>1.4100570972983828</td>\n",
       "      <td>115.196144518077</td>\n",
       "      <td>83.15412623693821</td>\n",
       "    </tr>\n",
       "    <tr>\n",
       "      <th>2</th>\n",
       "      <td>stddev</td>\n",
       "      <td>0.9134039347715327</td>\n",
       "      <td>175.50855326313717</td>\n",
       "      <td>139.13686423163608</td>\n",
       "    </tr>\n",
       "    <tr>\n",
       "      <th>3</th>\n",
       "      <td>min</td>\n",
       "      <td>1.0</td>\n",
       "      <td>0.001</td>\n",
       "      <td>0.001</td>\n",
       "    </tr>\n",
       "    <tr>\n",
       "      <th>4</th>\n",
       "      <td>max</td>\n",
       "      <td>24.75</td>\n",
       "      <td>999.98025</td>\n",
       "      <td>999.966</td>\n",
       "    </tr>\n",
       "  </tbody>\n",
       "</table>\n",
       "</div>"
      ],
      "text/plain": [
       "  summary  avgCountMainVisits      avgMainTimeSec avgFirstMainTimeSec\n",
       "0   count              724104              724104              724104\n",
       "1    mean  1.4100570972983828    115.196144518077   83.15412623693821\n",
       "2  stddev  0.9134039347715327  175.50855326313717  139.13686423163608\n",
       "3     min                 1.0               0.001               0.001\n",
       "4     max               24.75           999.98025             999.966"
      ]
     },
     "execution_count": 29,
     "metadata": {},
     "output_type": "execute_result"
    }
   ],
   "source": [
    "sbbol_main_stats.filter(\"avgCountMainVisits < 25 AND avgMainTimeSec < 1000\")\\\n",
    "                .describe(\"avgCountMainVisits\", \"avgMainTimeSec\", \"avgFirstMainTimeSec\").show()"
   ]
  },
  {
   "cell_type": "code",
   "execution_count": 30,
   "metadata": {},
   "outputs": [
    {
     "name": "stdout",
     "output_type": "stream",
     "text": [
      "CPU times: user 4.02 s, sys: 504 ms, total: 4.52 s\n",
      "Wall time: 5 s\n"
     ]
    }
   ],
   "source": [
    "%%time\n",
    "sbbol_main_stats_pdf = sbbol_main_stats.toPandas()"
   ]
  },
  {
   "cell_type": "markdown",
   "metadata": {},
   "source": [
    "###### Сравнение среднего количества посещений главной страницы за сессию "
   ]
  },
  {
   "cell_type": "code",
   "execution_count": 31,
   "metadata": {},
   "outputs": [
    {
     "data": {
      "image/png": "[encoded data removed]",
      "text/plain": [
       "<matplotlib.figure.Figure at 0x7f95bc00fac8>"
      ]
     },
     "metadata": {},
     "output_type": "display_data"
    }
   ],
   "source": [
    "fig, axs = plt.subplots(2)\n",
    "# plt.figure(figsize=(18,8))\n",
    "fig.set_size_inches(15, 10)\n",
    "fig.suptitle(\"Среднее количество посещений главной страницы за сессию\")\n",
    "axs[0].hist(smb_stat_pdf.avgCountMainVisits)\n",
    "axs[0].set_title(\"s_m_business\")\n",
    "\n",
    "axs[1].hist(sbbol_main_stats_pdf.avgCountMainVisits)\n",
    "axs[1].set_title(\"sbbol_main\")\n",
    "plt.show()"
   ]
  },
  {
   "cell_type": "code",
   "execution_count": 32,
   "metadata": {},
   "outputs": [
    {
     "data": {
      "image/png": "[encoded data removed]",
      "text/plain": [
       "<matplotlib.figure.Figure at 0x7f9618aeaa58>"
      ]
     },
     "metadata": {},
     "output_type": "display_data"
    }
   ],
   "source": [
    "fig, axs = plt.subplots(2)\n",
    "# plt.figure(figsize=(18,8))\n",
    "fig.set_size_inches(15, 10)\n",
    "fig.suptitle(\"Среднее количество посещений главной страницы за сессию\")\n",
    "axs[0].hist(smb_stat_pdf[smb_stat_pdf.avgCountMainVisits < 5].avgCountMainVisits)\n",
    "axs[0].set_title(\"s_m_business\")\n",
    "\n",
    "axs[1].hist(sbbol_main_stats_pdf[sbbol_main_stats_pdf.avgCountMainVisits < 5].avgCountMainVisits)\n",
    "axs[1].set_title(\"sbbol_main\")\n",
    "plt.show()"
   ]
  },
  {
   "cell_type": "code",
   "execution_count": 33,
   "metadata": {},
   "outputs": [
    {
     "data": {
      "image/png": "[encoded data removed]",
      "text/plain": [
       "<matplotlib.figure.Figure at 0x7f961dded748>"
      ]
     },
     "metadata": {},
     "output_type": "display_data"
    }
   ],
   "source": [
    "fig, axs = plt.subplots(2)\n",
    "# plt.figure(figsize=(18,8))\n",
    "fig.set_size_inches(15, 10)\n",
    "fig.suptitle(\"Среднее количество посещений главной страницы за сессию\")\n",
    "axs[0].hist(smb_stat_pdf[smb_stat_pdf.avgCountMainVisits < 5].avgCountMainVisits, normed=True, bins=20)\n",
    "axs[0].set_title(\"s_m_business\")\n",
    "\n",
    "axs[1].hist(sbbol_main_stats_pdf[sbbol_main_stats_pdf.avgCountMainVisits < 5].avgCountMainVisits, normed=True, bins=20)\n",
    "axs[1].set_title(\"sbbol_main\")\n",
    "plt.show()"
   ]
  },
  {
   "cell_type": "markdown",
   "metadata": {},
   "source": [
    "Таким образом видим, что гистограммы сильно похожи, то есть по частоте посещений целевых страниц в рамках одной сессии юзеры ведут себя очень похоже"
   ]
  },
  {
   "cell_type": "markdown",
   "metadata": {},
   "source": [
    "###### Сравнение времени нахождения на главной странице "
   ]
  },
  {
   "cell_type": "code",
   "execution_count": 34,
   "metadata": {},
   "outputs": [
    {
     "data": {
      "image/png": "[encoded data removed]",
      "text/plain": [
       "<matplotlib.figure.Figure at 0x7f961dde2438>"
      ]
     },
     "metadata": {},
     "output_type": "display_data"
    }
   ],
   "source": [
    "fig, axs = plt.subplots(2)\n",
    "# plt.figure(figsize=(18,8))\n",
    "fig.set_size_inches(15, 10)\n",
    "fig.suptitle(\"Среднее время нахождения на главной странице\")\n",
    "axs[0].hist(smb_stat_pdf.avgMainTimeSec, bins=200)\n",
    "axs[0].set_title(\"s_m_business\")\n",
    "\n",
    "axs[1].hist(sbbol_main_stats_pdf.avgMainTimeSec, bins=200)\n",
    "axs[1].set_title(\"sbbol_main\")\n",
    "plt.show()"
   ]
  },
  {
   "cell_type": "code",
   "execution_count": 35,
   "metadata": {},
   "outputs": [
    {
     "ename": "NameError",
     "evalue": "name 'max_cnt' is not defined",
     "output_type": "error",
     "traceback": [
      "\u001b[0;31m---------------------------------------------------------------------------\u001b[0m",
      "\u001b[0;31mNameError\u001b[0m                                 Traceback (most recent call last)",
      "\u001b[0;32m<ipython-input-35-7ab27e695141>\u001b[0m in \u001b[0;36m<module>\u001b[0;34m()\u001b[0m\n\u001b[1;32m     13\u001b[0m axs[0].axvline(median_smb, **{\"color\": \"k\", \"linewidth\": 3, \"linestyle\": \"--\", \n\u001b[1;32m     14\u001b[0m                                     \"label\": \"{}: {}\".format(\"median_smb: \", median_smb)})\n\u001b[0;32m---> 15\u001b[0;31m axs[0].axvline(mean_smb, 0, max_cnt, **{\"color\": \"b\", \"linewidth\": 3, \n\u001b[0m\u001b[1;32m     16\u001b[0m                                   \"label\": \"{}: {}\".format(\"mean_smb: \", mean_smb)})\n\u001b[1;32m     17\u001b[0m \u001b[0;34m\u001b[0m\u001b[0m\n",
      "\u001b[0;31mNameError\u001b[0m: name 'max_cnt' is not defined"
     ]
    },
    {
     "data": {
      "image/png": "[encoded data removed]",
      "text/plain": [
       "<matplotlib.figure.Figure at 0x7f961b6bf828>"
      ]
     },
     "metadata": {},
     "output_type": "display_data"
    }
   ],
   "source": [
    "mean_sbbol = np.mean(sbbol_main_stats_pdf[sbbol_main_stats_pdf.avgMainTimeSec < 500].avgMainTimeSec.values)\n",
    "median_sbbol = np.median(sbbol_main_stats_pdf[sbbol_main_stats_pdf.avgMainTimeSec < 500].avgMainTimeSec.values)\n",
    "\n",
    "mean_smb = np.mean(smb_stat_pdf[smb_stat_pdf.avgMainTimeSec < 500].avgMainTimeSec.values)\n",
    "median_smb = np.median(smb_stat_pdf[smb_stat_pdf.avgMainTimeSec < 500].avgMainTimeSec.values)\n",
    "\n",
    "\n",
    "fig, axs = plt.subplots(2)\n",
    "# plt.figure(figsize=(18,8))\n",
    "fig.set_size_inches(15, 10)\n",
    "fig.suptitle(\"Среднее время нахождения на главной странице в секундах\")\n",
    "axs[0].hist(smb_stat_pdf[smb_stat_pdf.avgMainTimeSec < 500].avgMainTimeSec, bins=100, normed=False)\n",
    "axs[0].axvline(median_smb, **{\"color\": \"k\", \"linewidth\": 3, \"linestyle\": \"--\", \n",
    "                                    \"label\": \"{}: {}\".format(\"median_smb: \", median_smb)})\n",
    "axs[0].axvline(mean_smb, 0, max_cnt, **{\"color\": \"b\", \"linewidth\": 3, \n",
    "                                  \"label\": \"{}: {}\".format(\"mean_smb: \", mean_smb)})\n",
    "\n",
    "axs[0].set_title(\"s_m_business\")\n",
    "axs[0].legend()\n",
    "\n",
    "\n",
    "axs[1].hist(sbbol_main_stats_pdf[sbbol_main_stats_pdf.avgMainTimeSec < 500].avgMainTimeSec, bins=100, normed=False)\n",
    "axs[1].axvline(median_sbbol, **{\"color\": \"k\", \"linewidth\": 3, \"linestyle\": \"--\", \n",
    "                                    \"label\": \"{}: {}\".format(\"median_sbbol: \", median_sbbol)})\n",
    "axs[1].axvline(mean_sbbol, 0, max_cnt, **{\"color\": \"b\", \"linewidth\": 3, \n",
    "                                  \"label\": \"{}: {}\".format(\"mean_sbbol: \", round(mean_sbbol, 3))})\n",
    "axs[1].set_title(\"sbbol_main\")\n",
    "axs[1].legend()\n",
    "\n",
    "\n",
    "plt.show()"
   ]
  },
  {
   "cell_type": "code",
   "execution_count": null,
   "metadata": {
    "collapsed": true
   },
   "outputs": [],
   "source": [
    "mean_sbbol = np.mean(sbbol_main_stats_pdf[sbbol_main_stats_pdf.avgMainTimeSec < 200].avgMainTimeSec.values)\n",
    "median_sbbol = np.median(sbbol_main_stats_pdf[sbbol_main_stats_pdf.avgMainTimeSec < 200].avgMainTimeSec.values)\n",
    "\n",
    "mean_smb = np.mean(smb_stat_pdf[smb_stat_pdf.avgMainTimeSec < 200].avgMainTimeSec.values)\n",
    "median_smb = np.median(smb_stat_pdf[smb_stat_pdf.avgMainTimeSec < 200].avgMainTimeSec.values)\n",
    "\n",
    "\n",
    "fig, axs = plt.subplots(2)\n",
    "# plt.figure(figsize=(18,8))\n",
    "fig.set_size_inches(15, 10)\n",
    "fig.suptitle(\"Среднее время нахождения на главной странице в секундах\")\n",
    "axs[0].hist(smb_stat_pdf[smb_stat_pdf.avgMainTimeSec < 200].avgMainTimeSec, bins=200, normed=False)\n",
    "axs[0].axvline(median_smb, **{\"color\": \"k\", \"linewidth\": 3, \"linestyle\": \"--\", \n",
    "                                    \"label\": \"{}: {}\".format(\"median_smb: \", median_smb)})\n",
    "axs[0].axvline(mean_smb, 0, max_cnt, **{\"color\": \"b\", \"linewidth\": 3, \n",
    "                                  \"label\": \"{}: {}\".format(\"mean_smb: \", mean_smb)})\n",
    "\n",
    "axs[0].set_title(\"s_m_business\")\n",
    "axs[0].legend()\n",
    "\n",
    "\n",
    "axs[1].hist(sbbol_main_stats_pdf[sbbol_main_stats_pdf.avgMainTimeSec < 200].avgMainTimeSec, bins=200, normed=False)\n",
    "axs[1].axvline(median_sbbol, **{\"color\": \"k\", \"linewidth\": 3, \"linestyle\": \"--\", \n",
    "                                    \"label\": \"{}: {}\".format(\"median_sbbol: \", median_sbbol)})\n",
    "axs[1].axvline(mean_sbbol, 0, max_cnt, **{\"color\": \"b\", \"linewidth\": 3, \n",
    "                                  \"label\": \"{}: {}\".format(\"mean_sbbol: \", round(mean_sbbol, 3))})\n",
    "axs[1].set_title(\"sbbol_main\")\n",
    "axs[1].legend()\n",
    "\n",
    "\n",
    "plt.show()"
   ]
  },
  {
   "cell_type": "markdown",
   "metadata": {
    "collapsed": true
   },
   "source": [
    "Таким образом видим, что время посещения главной страницы сббола сильнее прижато к 0, что говорит о том, что в среднем юзеры проводят на ней меньше времени. Но количество юзеров, которые посещают главною страницу сббола сильно превозходит количество юзеров, посещающих см_бизнес, скорее всего это свидетельствует о необходимости заходить на главную страницу в сбболе."
   ]
  },
  {
   "cell_type": "code",
   "execution_count": 36,
   "metadata": {
    "collapsed": true
   },
   "outputs": [],
   "source": [
    "import pickle\n",
    "import seaborn as sns\n",
    "\n",
    "%matplotlib inline\n",
    "import matplotlib.pyplot as plt\n",
    "from scipy.stats import norm, mode\n",
    "\n",
    "sns.set(rc={\"figure.figsize\": (14, 10)})\n",
    "sns.set_style(\"whitegrid\", {'axes.grid': False})\n",
    "np.random.seed(0)"
   ]
  },
  {
   "cell_type": "code",
   "execution_count": 37,
   "metadata": {
    "collapsed": true
   },
   "outputs": [],
   "source": [
    "resdf = sbbol_main_stats_pdf[sbbol_main_stats_pdf.avgMainTimeSec < 1000]"
   ]
  },
  {
   "cell_type": "code",
   "execution_count": 38,
   "metadata": {
    "collapsed": true
   },
   "outputs": [],
   "source": [
    "# binning the dataframe, so we can see success rates for bins of probability\n",
    "bins = np.arange(resdf[\"avgMainTimeSec\"].min(), resdf[\"avgMainTimeSec\"].max(), 100)\n",
    "resdf.loc[:,'prob_bin'] = np.digitize(resdf[\"avgMainTimeSec\"], bins)\n",
    "resdf.loc[:,'mean_CTR_bin'] = resdf['prob_bin'].replace(dict(zip(range(len(bins)), bins)))\n",
    "# resdf.head()"
   ]
  },
  {
   "cell_type": "code",
   "execution_count": 39,
   "metadata": {
    "collapsed": true
   },
   "outputs": [],
   "source": [
    "_mean = np.mean(resdf[\"avgMainTimeSec\"].values)\n",
    "_median = np.median(resdf[\"avgMainTimeSec\"].values)\n",
    "_mode = mode(resdf[\"mean_CTR_bin\"].values, axis = None).mode[0]\n",
    "max_cnt = mode(resdf[\"mean_CTR_bin\"].values, axis = None).count[0] "
   ]
  },
  {
   "cell_type": "code",
   "execution_count": 40,
   "metadata": {},
   "outputs": [
    {
     "data": {
      "image/png": "[encoded data removed]",
      "text/plain": [
       "<matplotlib.figure.Figure at 0x7f96191c6668>"
      ]
     },
     "metadata": {},
     "output_type": "display_data"
    }
   ],
   "source": [
    "# fig = plt.figure(figsize=(9,5))\n",
    "ystep = 300\n",
    "nbins = 50\n",
    "step = (int(resdf[\"avgMainTimeSec\"].max()) - int(resdf[\"avgMainTimeSec\"].min()))//nbins\n",
    "\n",
    "ax = plt.axes()\n",
    "ax.set_xlim(int(resdf[\"avgMainTimeSec\"].min()), int(resdf[\"avgMainTimeSec\"].max()))\n",
    "ax.set_xticks(range(int(resdf[\"avgMainTimeSec\"].min()), int(resdf[\"avgMainTimeSec\"].max())+1,step*2))\n",
    "title = 'Гистограмма времени посещения главной странцы СББОЛа'\n",
    "\n",
    "g = sns.distplot(resdf[\"avgMainTimeSec\"], \n",
    "             axlabel='UnixTimeStamp, sec',\n",
    "             ax=ax,\n",
    "             bins=nbins,\n",
    "             hist=True,\n",
    "             norm_hist=False,\n",
    "             kde=False,\n",
    "             kde_kws={'color': 'r', 'lw': 3, 'label': 'KDE'},\n",
    "             hist_kws={\"edgecolor\":\"g\", \"linewidth\": 3}\n",
    "            )\n",
    "# g.set_xticklabels(rotation=90)\n",
    "plt.axvline(_mode, 0, max_cnt, **{\"color\": \"r\", \"linewidth\": 3, \"linestyle\": \"-\", \n",
    "                                  \"label\": \"{}: {}\".format(\"mode: \", _mode)})\n",
    "plt.axvline(_median, 0, max_cnt, **{\"color\": \"k\", \"linewidth\": 3, \"linestyle\": \"--\", \n",
    "                                    \"label\": \"{}: {}\".format(\"median: \", int(_median))})\n",
    "plt.axvline(_mean, 0, max_cnt, **{\"color\": \"b\", \"linewidth\": 3, \n",
    "                                  \"label\": \"{}: {}\".format(\"mean: \", int(_mean))})\n",
    "plt.title(title)\n",
    "plt.xticks(rotation=90)\n",
    "# plt.yticks(range(0,int(np.round(g.get_ylim()[1])),50))\n",
    "plt.ylabel(\"Количество юзеров\")\n",
    "plt.legend(loc=\"upper right\")\n",
    "plt.show()"
   ]
  },
  {
   "cell_type": "code",
   "execution_count": 41,
   "metadata": {
    "collapsed": true
   },
   "outputs": [],
   "source": [
    "resdf = smb_stat_pdf[smb_stat_pdf.avgMainTimeSec < 1000]"
   ]
  },
  {
   "cell_type": "code",
   "execution_count": 42,
   "metadata": {
    "collapsed": true
   },
   "outputs": [],
   "source": [
    "# binning the dataframe, so we can see success rates for bins of probability\n",
    "bins = np.arange(resdf[\"avgMainTimeSec\"].min(), resdf[\"avgMainTimeSec\"].max(), 100)\n",
    "resdf.loc[:,'prob_bin'] = np.digitize(resdf[\"avgMainTimeSec\"], bins)\n",
    "resdf.loc[:,'mean_CTR_bin'] = resdf['prob_bin'].replace(dict(zip(range(len(bins)), bins)))\n",
    "# resdf.head()"
   ]
  },
  {
   "cell_type": "code",
   "execution_count": 43,
   "metadata": {
    "collapsed": true
   },
   "outputs": [],
   "source": [
    "_mean = np.mean(resdf[\"avgMainTimeSec\"].values)\n",
    "_median = np.median(resdf[\"avgMainTimeSec\"].values)\n",
    "_mode = mode(resdf[\"mean_CTR_bin\"].values, axis = None).mode[0]\n",
    "max_cnt = mode(resdf[\"mean_CTR_bin\"].values, axis = None).count[0] "
   ]
  },
  {
   "cell_type": "code",
   "execution_count": 44,
   "metadata": {},
   "outputs": [
    {
     "data": {
      "image/png": "[encoded data removed]",
      "text/plain": [
       "<matplotlib.figure.Figure at 0x7f95bbf67cc0>"
      ]
     },
     "metadata": {},
     "output_type": "display_data"
    }
   ],
   "source": [
    "# fig = plt.figure(figsize=(9,5))\n",
    "ystep = 300\n",
    "nbins = 50\n",
    "step = (int(resdf[\"avgMainTimeSec\"].max()) - int(resdf[\"avgMainTimeSec\"].min()))//nbins\n",
    "\n",
    "ax = plt.axes()\n",
    "ax.set_xlim(int(resdf[\"avgMainTimeSec\"].min()), int(resdf[\"avgMainTimeSec\"].max()))\n",
    "ax.set_xticks(range(int(resdf[\"avgMainTimeSec\"].min()), int(resdf[\"avgMainTimeSec\"].max())+1,step*2))\n",
    "title = 'Гистограмма времени посещения s_m_business'\n",
    "\n",
    "g = sns.distplot(resdf[\"avgMainTimeSec\"], \n",
    "             axlabel='UnixTimeStamp, sec',\n",
    "             ax=ax,\n",
    "             bins=nbins,\n",
    "             hist=True,\n",
    "             norm_hist=False,\n",
    "             kde=False,\n",
    "             kde_kws={'color': 'r', 'lw': 3, 'label': 'KDE'},\n",
    "             hist_kws={\"edgecolor\":\"g\", \"linewidth\": 3}\n",
    "            )\n",
    "# g.set_xticklabels(rotation=90)\n",
    "plt.axvline(_mode, 0, max_cnt, **{\"color\": \"r\", \"linewidth\": 3, \"linestyle\": \"-\", \n",
    "                                  \"label\": \"{}: {}\".format(\"mode: \", _mode)})\n",
    "plt.axvline(_median, 0, max_cnt, **{\"color\": \"k\", \"linewidth\": 3, \"linestyle\": \"--\", \n",
    "                                    \"label\": \"{}: {}\".format(\"median: \", int(_median))})\n",
    "plt.axvline(_mean, 0, max_cnt, **{\"color\": \"b\", \"linewidth\": 3, \n",
    "                                  \"label\": \"{}: {}\".format(\"mean: \", int(_mean))})\n",
    "plt.title(title)\n",
    "plt.xticks(rotation=90)\n",
    "# plt.yticks(range(0,int(np.round(g.get_ylim()[1])),50))\n",
    "plt.ylabel(\"Количество юзеров\")\n",
    "plt.legend(loc=\"upper right\")\n",
    "plt.show()"
   ]
  },
  {
   "cell_type": "code",
   "execution_count": null,
   "metadata": {
    "collapsed": true
   },
   "outputs": [],
   "source": []
  },
  {
   "cell_type": "code",
   "execution_count": null,
   "metadata": {
    "collapsed": true
   },
   "outputs": [],
   "source": []
  },
  {
   "cell_type": "code",
   "execution_count": null,
   "metadata": {
    "collapsed": true
   },
   "outputs": [],
   "source": []
  },
  {
   "cell_type": "code",
   "execution_count": null,
   "metadata": {
    "collapsed": true
   },
   "outputs": [],
   "source": []
  },
  {
   "cell_type": "code",
   "execution_count": null,
   "metadata": {
    "collapsed": true
   },
   "outputs": [],
   "source": []
  },
  {
   "cell_type": "code",
   "execution_count": null,
   "metadata": {
    "collapsed": true
   },
   "outputs": [],
   "source": []
  },
  {
   "cell_type": "code",
   "execution_count": null,
   "metadata": {
    "collapsed": true
   },
   "outputs": [],
   "source": []
  },
  {
   "cell_type": "code",
   "execution_count": null,
   "metadata": {
    "collapsed": true
   },
   "outputs": [],
   "source": []
  },
  {
   "cell_type": "code",
   "execution_count": null,
   "metadata": {
    "collapsed": true
   },
   "outputs": [],
   "source": [
    "class PipelinePageTimeStatsSdf():\n",
    "    \n",
    "    \n",
    "    def __init__(self, spark, visit, sbbol=True, targetPagePath=\"/main\"):\n",
    "        self.hive = spark.sql\n",
    "        self.visit = visit\n",
    "        self.sbbol = sbbol\n",
    "        self.targetPagePath = targetPagePath\n",
    "        \n",
    "        \n",
    "        \n",
    "    def run(self):\n",
    "        if self.sbbol == True:\n",
    "            return self.sbbol_page_stat_time_sdf(self.visit)\n",
    "        else:\n",
    "            return self.sberbank_ru_page_stat_time_sdf(self.visit)\n",
    "    \n",
    "    \n",
    "    @staticmethod\n",
    "    @udf(stypes.StringType())\n",
    "    def get_url_path(url):\n",
    "        try:\n",
    "            url_parse = urlparse(url)\n",
    "        except Exception as e:\n",
    "            print(e)\n",
    "            return None\n",
    "\n",
    "        return url_parse.path\n",
    "    \n",
    "    \n",
    "    @staticmethod\n",
    "    @udf(stypes.IntegerType())\n",
    "    def get_stage(hitPagePath, lastPagePath, nextPagePath):\n",
    "    #     \"\"\"Stage: \n",
    "    #     0 - not target\n",
    "    #         1 - last action before target\n",
    "    #             2 - first action on target\n",
    "    #             3 - intermediate page on target\n",
    "    #             4 - last action on target\n",
    "    #         5 - first action after target\n",
    "    #     \"\"\"\n",
    "        \n",
    "        targetPagePath = self.targetPagePath\n",
    "        \n",
    "        if hitPagePath == targetPagePath:\n",
    "            \n",
    "            # if \"\\main\" - first/last page in session => set it as the last/first action before target\n",
    "            if lastPagePath == \"FIRST_HIT_IN_SESSION\":\n",
    "                return 1\n",
    "            elif nextPagePath == \"LAST_HIT_IN_SESSION\":\n",
    "                return 5\n",
    "            \n",
    "            if lastPagePath == targetPagePath and nextPagePath == targetPagePath:\n",
    "                return 3\n",
    "            elif nextPagePath == targetPagePath:\n",
    "                return 2\n",
    "            elif lastPagePath == targetPagePath:\n",
    "                return 4\n",
    "            else: # one element in target-list\n",
    "                return 2\n",
    "        else:\n",
    "            # if other page between target => set it as an intermediate page on target\n",
    "            if lastPagePath == targetPagePath and nextPagePath == targetPagePath: \n",
    "                return 3\n",
    "            if nextPagePath == targetPagePath:\n",
    "                return 1\n",
    "            elif lastPagePath == targetPagePath:\n",
    "                return 5\n",
    "            else:\n",
    "                return 0  \n",
    "            \n",
    "            \n",
    "            \n",
    "            \n",
    "    def sbbol_page_stat_time_sdf(self, visit):\n",
    "        window = Window.partitionBy(\"sbboluserid\", \"sessionStartTime\") \\\n",
    "                .orderBy(\"hitTime\", \"hitPagePath\")\n",
    "\n",
    "        visit_last_next = visit.filter(\"sbboluserid is not Null\")\\\n",
    "                               .withColumn(\"lastPagePath\", \n",
    "                                           f.lag(\"hitPagePath\", default=\"FIRST_HIT_IN_SESSION\").over(window)) \\\n",
    "                               .withColumn(\"nextPagePath\", \n",
    "                                           f.lead(\"hitPagePath\", default=\"LAST_HIT_IN_SESSION\").over(window)) \\\n",
    "                               .orderBy(\"sbboluserid\", \"sessionStartTime\", \"hitTime\",  \"hitPagePath\")\n",
    "        \n",
    "        visit_last_next = visit_last_next.withColumn(\"hitPagePath\", self.get_url_path(f.col(\"hitPagePath\")))\\\n",
    "                                         .filter(f.col(\"hitPagePath\") != \"/\" )\n",
    "            \n",
    "        visit_stage = visit_last_next.withColumn(\"stage\", \n",
    "                                    self.get_stage(f.col(\"hitPagePath\"),\n",
    "                                                   f.col(\"lastPagePath\"),\n",
    "                                                   f.col(\"nextPagePath\"))) \\\n",
    "                        .select(\"sbboluserid\", \"sessionStartTime\", \"hitTime\", \"hitPagePath\", \"stage\")\n",
    "            \n",
    "        begin_stage, end_stage = 1, 5\n",
    "\n",
    "        visit_begin_end = visit_stage.filter(\"stage in ({}, {})\".format(begin_stage, end_stage)) \\\n",
    "                                     .withColumn(\"prevHitTime\", \n",
    "                                                 f.when(f.col(\"stage\") == end_stage, \n",
    "                                                 f.lag(\"hitTime\").over(window)).otherwise(0))\n",
    "            \n",
    "        visit_duration = visit_begin_end.withColumn(\"hitDuration\", \n",
    "                                                    f.when(f.col(\"stage\") == 5,\n",
    "                                                    f.col(\"hitTime\") - f.col(\"prevHitTime\")).otherwise(0))\\\n",
    "                                        .filter(\"hitDuration <> 0\")\\\n",
    "                                        .select(\"sbboluserid\", \"sessionStartTime\", \"hitTime\", \"hitDuration\")\n",
    "                \n",
    "        visit_session_agg = visit_duration.groupBy(\"sbboluserid\", \"sessionStartTime\")\\\n",
    "                                          .agg(f.count(\"hitDuration\").alias(\"countMainVisits\"), \n",
    "                                               f.sum(\"hitDuration\").alias(\"sumMainTime\"),\n",
    "                                               f.first(\"hitDuration\").alias(\"firstMainTime\"))\n",
    "            \n",
    "        visit_user_agg = visit_session_agg.groupBy(\"sbboluserid\") \\\n",
    "                                          .agg(f.avg(\"countMainVisits\").alias(\"avgCountMainVisits\"), \n",
    "                                               (f.avg(\"sumMainTime\") / 1000).alias(\"avgMainTimeSec\"), \n",
    "                                               (f.avg(\"firstMainTime\") / 1000).alias(\"avgFirstMainTimeSec\"))\n",
    "        \n",
    "        return visit_user_agg\n",
    "    \n",
    "    \n",
    "    def sberbank_ru_page_stat_time_sdf(self, visit):\n",
    "        window = Window.partitionBy(\"cid\", \"sessionStartTime\") \\\n",
    "                .orderBy(\"hitTime\", \"hitPagePath\")\n",
    "\n",
    "        visit_last_next = visit.withColumn(\"lastPagePath\", \n",
    "                                           f.lag(\"hitPagePath\", default=\"FIRST_HIT_IN_SESSION\").over(window)) \\\n",
    "                               .withColumn(\"nextPagePath\", \n",
    "                                           f.lead(\"hitPagePath\", default=\"LAST_HIT_IN_SESSION\").over(window)) \\\n",
    "                               .orderBy(\"cid\", \"sessionStartTime\", \"hitTime\",  \"hitPagePath\")\n",
    "        \n",
    "        visit_last_next = visit_last_next.withColumn(\"hitPagePath\", self.get_url_path(f.col(\"hitPagePath\")))\\\n",
    "                                         .filter(f.col(\"hitPagePath\") != \"/\" )\n",
    "            \n",
    "        visit_stage = visit_last_next.withColumn(\"stage\", \n",
    "                                    self.get_stage(f.col(\"hitPagePath\"),\n",
    "                                                   f.col(\"lastPagePath\"),\n",
    "                                                   f.col(\"nextPagePath\"))) \\\n",
    "                        .select(\"cid\", \"sessionStartTime\", \"hitTime\", \"hitPagePath\", \"stage\")\n",
    "            \n",
    "        begin_stage, end_stage = 1, 5\n",
    "\n",
    "        visit_begin_end = visit_stage.filter(\"stage in ({}, {})\".format(begin_stage, end_stage)) \\\n",
    "                                     .withColumn(\"prevHitTime\", \n",
    "                                                 f.when(f.col(\"stage\") == end_stage, \n",
    "                                                 f.lag(\"hitTime\").over(window)).otherwise(0))\n",
    "            \n",
    "        visit_duration = visit_begin_end.withColumn(\"hitDuration\", \n",
    "                                                    f.when(f.col(\"stage\") == 5,\n",
    "                                                    f.col(\"hitTime\") - f.col(\"prevHitTime\")).otherwise(0))\\\n",
    "                                        .filter(\"hitDuration <> 0\")\\\n",
    "                                        .select(\"cid\", \"sessionStartTime\", \"hitTime\", \"hitDuration\")\n",
    "                \n",
    "        visit_session_agg = visit_duration.groupBy(\"cid\", \"sessionStartTime\")\\\n",
    "                                          .agg(f.count(\"hitDuration\").alias(\"countMainVisits\"), \n",
    "                                               f.sum(\"hitDuration\").alias(\"sumMainTime\"),\n",
    "                                               f.first(\"hitDuration\").alias(\"firstMainTime\"))\n",
    "            \n",
    "        visit_user_agg = visit_session_agg.groupBy(\"cid\") \\\n",
    "                                          .agg(f.avg(\"countMainVisits\").alias(\"avgCountMainVisits\"), \n",
    "                                               (f.avg(\"sumMainTime\") / 1000).alias(\"avgMainTimeSec\"), \n",
    "                                               (f.avg(\"firstMainTime\") / 1000).alias(\"avgFirstMainTimeSec\"))\n",
    "        \n",
    "        return visit_user_agg"
   ]
  },
  {
   "cell_type": "code",
   "execution_count": null,
   "metadata": {
    "collapsed": true
   },
   "outputs": [],
   "source": [
    "class PipelinelMainPageTimeStatsSdf():\n",
    "    \n",
    "    \n",
    "    def __init__(self, spark, visit):\n",
    "        self.hive = spark.sql\n",
    "        self.visit = visit\n",
    "        \n",
    "        \n",
    "        \n",
    "    def run(self):\n",
    "        \n",
    "        \n",
    "        return self.sberbank_ru_page_stat_time_sdf(self.visit)\n",
    "    \n",
    "    \n",
    "    @staticmethod\n",
    "    @udf(stypes.StringType())\n",
    "    def get_url_path(url):\n",
    "        try:\n",
    "            url_parse = urlparse(url)\n",
    "        except Exception as e:\n",
    "            print(e)\n",
    "            return None\n",
    "\n",
    "        return url_parse.path\n",
    "    \n",
    "    \n",
    "    @staticmethod\n",
    "#     @udf(stypes.IntegerType())\n",
    "    def stage_return(targetPagePath):\n",
    "        \n",
    "        def get_stage(hitPagePath, lastPagePath, nextPagePath, targetPagePath):\n",
    "        #     \"\"\"Stage: \n",
    "        #     0 - not target\n",
    "        #         1 - last action before target\n",
    "        #             2 - first action on target\n",
    "        #             3 - intermediate page on target\n",
    "        #             4 - last action on target\n",
    "        #         5 - first action after target\n",
    "        #     \"\"\"\n",
    "            \n",
    "            \n",
    "    #         targetPagePath = f.lit(self.pagepath)\n",
    "            targetPagePath = \"/ru/s_m_business\"\n",
    "            if hitPagePath == targetPagePath:\n",
    "                \n",
    "                # if \"\\main\" - first/last page in session => set it as the last/first action before target\n",
    "                if lastPagePath == \"FIRST_HIT_IN_SESSION\":\n",
    "                    return 1\n",
    "                elif nextPagePath == \"LAST_HIT_IN_SESSION\":\n",
    "                    return 5\n",
    "                \n",
    "                if lastPagePath == targetPagePath and nextPagePath == targetPagePath:\n",
    "                    return 3\n",
    "                elif nextPagePath == targetPagePath:\n",
    "                    return 2\n",
    "                elif lastPagePath == targetPagePath:\n",
    "                    return 4\n",
    "                else: # one element in target-list\n",
    "                    return 2\n",
    "            else:\n",
    "                # if other page between target => set it as an intermediate page on target\n",
    "                if lastPagePath == targetPagePath and nextPagePath == targetPagePath: \n",
    "                    return 3\n",
    "                if nextPagePath == targetPagePath:\n",
    "                    return 1\n",
    "                elif lastPagePath == targetPagePath:\n",
    "                    return 5\n",
    "                else:\n",
    "                    return 0  \n",
    "                \n",
    "        return stypes.udf(lambda x0, x1, x2: get_stage(x0, x1, x2, targetPagePath))\n",
    "            \n",
    "            \n",
    "    def sberbank_ru_page_stat_time_sdf(self, visit):\n",
    "        window = Window.partitionBy(\"cid\", \"sessionStartTime\") \\\n",
    "                .orderBy(\"hitTime\", \"hitPagePath\")\n",
    "\n",
    "        visit_last_next = visit.withColumn(\"lastPagePath\", \n",
    "                                           f.lag(\"hitPagePath\", default=\"FIRST_HIT_IN_SESSION\").over(window)) \\\n",
    "                               .withColumn(\"nextPagePath\", \n",
    "                                           f.lead(\"hitPagePath\", default=\"LAST_HIT_IN_SESSION\").over(window)) \\\n",
    "                               .orderBy(\"cid\", \"sessionStartTime\", \"hitTime\",  \"hitPagePath\")\n",
    "        \n",
    "        visit_last_next = visit_last_next.withColumn(\"hitPagePath\", self.get_url_path(f.col(\"hitPagePath\")))\\\n",
    "                                         .filter(f.col(\"hitPagePath\") != \"/\" )\n",
    "            \n",
    "        visit_stage = visit_last_next.withColumn(\"stage\", \n",
    "                                    self.stage_return(self.target_page_path)(f.col(\"hitPagePath\"),\n",
    "                                                   f.col(\"lastPagePath\"),\n",
    "                                                   f.col(\"nextPagePath\"),\n",
    "                                                  )) \\\n",
    "                        .select(\"cid\", \"sessionStartTime\", \"hitTime\", \"hitPagePath\", \"stage\")\n",
    "            \n",
    "        begin_stage, end_stage = 1, 5\n",
    "\n",
    "        visit_begin_end = visit_stage.filter(\"stage in ({}, {})\".format(begin_stage, end_stage)) \\\n",
    "                                     .withColumn(\"prevHitTime\", \n",
    "                                                 f.when(f.col(\"stage\") == end_stage, \n",
    "                                                 f.lag(\"hitTime\").over(window)).otherwise(0))\n",
    "            \n",
    "        visit_duration = visit_begin_end.withColumn(\"hitDuration\", \n",
    "                                                    f.when(f.col(\"stage\") == 5,\n",
    "                                                    f.col(\"hitTime\") - f.col(\"prevHitTime\")).otherwise(0))\\\n",
    "                                        .filter(\"hitDuration <> 0\")\\\n",
    "                                        .select(\"cid\", \"sessionStartTime\", \"hitTime\", \"hitDuration\")\n",
    "                \n",
    "        visit_session_agg = visit_duration.groupBy(\"cid\", \"sessionStartTime\")\\\n",
    "                                          .agg(f.count(\"hitDuration\").alias(\"countMainVisits\"), \n",
    "                                               f.sum(\"hitDuration\").alias(\"sumMainTime\"),\n",
    "                                               f.first(\"hitDuration\").alias(\"firstMainTime\"))\n",
    "            \n",
    "        visit_user_agg = visit_session_agg.groupBy(\"cid\") \\\n",
    "                                          .agg(f.avg(\"countMainVisits\").alias(\"avgCountMainVisits\"), \n",
    "                                               (f.avg(\"sumMainTime\") / 1000).alias(\"avgMainTimeSec\"), \n",
    "                                               (f.avg(\"firstMainTime\") / 1000).alias(\"avgFirstMainTimeSec\"))\n",
    "        \n",
    "        return visit_user_agg"
   ]
  },
  {
   "cell_type": "code",
   "execution_count": null,
   "metadata": {
    "collapsed": true
   },
   "outputs": [],
   "source": []
  },
  {
   "cell_type": "code",
   "execution_count": null,
   "metadata": {
    "collapsed": true
   },
   "outputs": [],
   "source": [
    "\n",
    "            \n",
    "        \n",
    "   "
   ]
  },
  {
   "cell_type": "code",
   "execution_count": null,
   "metadata": {
    "collapsed": true
   },
   "outputs": [],
   "source": []
  },
  {
   "cell_type": "code",
   "execution_count": null,
   "metadata": {
    "collapsed": true
   },
   "outputs": [],
   "source": []
  },
  {
   "cell_type": "code",
   "execution_count": null,
   "metadata": {
    "collapsed": true
   },
   "outputs": [],
   "source": []
  }
 ],
 "metadata": {
  "kernelspec": {
   "display_name": "Python 3",
   "language": "python",
   "name": "python3"
  },
  "language_info": {
   "codemirror_mode": {
    "name": "ipython",
    "version": 3
   },
   "file_extension": ".py",
   "mimetype": "text/x-python",
   "name": "python",
   "nbconvert_exporter": "python",
   "pygments_lexer": "ipython3",
   "version": "3.5.3"
  }
 },
 "nbformat": 4,
 "nbformat_minor": 2
}
