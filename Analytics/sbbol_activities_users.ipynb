{
 "cells": [
  {
   "cell_type": "code",
   "execution_count": 1,
   "metadata": {},
   "outputs": [],
   "source": [
    "import os, sys\n",
    "\n",
    "recsys_cf = os.environ.get(\"RECSYS_STORY\")\n",
    "sys.path.append(recsys_cf)\n",
    "os.chdir(recsys_cf)\n",
    "\n",
    "from lib.tools import *"
   ]
  },
  {
   "cell_type": "code",
   "execution_count": 2,
   "metadata": {},
   "outputs": [
    {
     "data": {
      "text/plain": [
       "{'process_label': 'RECSYS_STORY',\n",
       " 'kerberos_auth': True,\n",
       " 'replication_num': 1,\n",
       " 'numofcores': 9,\n",
       " 'numofinstances': 9}"
      ]
     },
     "execution_count": 2,
     "metadata": {},
     "output_type": "execute_result"
    }
   ],
   "source": [
    "SPARK_CONFIG"
   ]
  },
  {
   "cell_type": "code",
   "execution_count": 3,
   "metadata": {},
   "outputs": [],
   "source": [
    "SPARK_CONFIG[\"numofcores\"] = 15"
   ]
  },
  {
   "cell_type": "markdown",
   "metadata": {},
   "source": [
    "# spark "
   ]
  },
  {
   "cell_type": "code",
   "execution_count": 4,
   "metadata": {},
   "outputs": [],
   "source": [
    "sp = spark(**SPARK_CONFIG)\n",
    "hive = sp.sql"
   ]
  },
  {
   "cell_type": "markdown",
   "metadata": {},
   "source": [
    "# load_tables "
   ]
  },
  {
   "cell_type": "code",
   "execution_count": 7,
   "metadata": {},
   "outputs": [],
   "source": [
    "start_d = '2021-01-01'\n",
    "end_d = '2021-12-01'"
   ]
  },
  {
   "cell_type": "code",
   "execution_count": 8,
   "metadata": {},
   "outputs": [],
   "source": [
    "sql_query_ctl = \"\"\"\n",
    "SELECT DISTINCT ctl_loading\n",
    "FROM {scheme}.{ctl_table}\n",
    "WHERE 1=1\n",
    "  AND (min_sessiondate >= '{start_date}'\n",
    "       OR max_sessiondate >= '{start_date}')\n",
    "  AND (min_sessiondate < '{end_date}'\n",
    "       OR max_sessiondate < '{end_date}')\n",
    "\"\"\".format(scheme=SBX_TEAM_DIGITCAMP,\n",
    "           ctl_table=GA_VISIT_CTL_DATE_MAP,\n",
    "           start_date=start_d,\n",
    "           end_date=end_d)"
   ]
  },
  {
   "cell_type": "code",
   "execution_count": 9,
   "metadata": {},
   "outputs": [],
   "source": [
    "ctl_loading_list = hive.sql(sql_query_ctl).toPandas()[\"ctl_loading\"]"
   ]
  },
  {
   "cell_type": "code",
   "execution_count": 10,
   "metadata": {},
   "outputs": [],
   "source": [
    "min_ctl = ctl_loading_list.min()\n",
    "max_ctl = ctl_loading_list.max()"
   ]
  },
  {
   "cell_type": "markdown",
   "metadata": {},
   "source": [
    "###### sbbol_clickstream "
   ]
  },
  {
   "cell_type": "code",
   "execution_count": 16,
   "metadata": {},
   "outputs": [],
   "source": [
    "visit_query = \"\"\"\n",
    "SELECT sbbolUserId,\n",
    "       sbbolorgguid,\n",
    "       hitPagePath,\n",
    "       hitPageTitle,\n",
    "       sessionId,\n",
    "       sessionStartTime,\n",
    "       sessionDate,\n",
    "       hitType,\n",
    "       hitTime,\n",
    "       eventCategory,\n",
    "       eventAction,\n",
    "       eventLabel,\n",
    "       hitPageHostName,\n",
    "       sessionId\n",
    "FROM {visit_scheme}.{visit_tb_name}\n",
    "WHERE 1=1\n",
    "  AND ctl_loading >= {min_ctl_loading}\n",
    "  AND ctl_loading < {max_ctl_loading}\n",
    "  AND sessiondate >= '{start_date}' \n",
    "  AND sessiondate < '{end_date}'\n",
    "  AND hitPageHostName like 'sbi.sberbank.ru'\n",
    "\"\"\".format(visit_scheme=\"cap_external_google_dda_external_google_analytics\",\n",
    "           visit_tb_name=\"visit\",\n",
    "           start_date=start_d,\n",
    "           end_date=end_d,\n",
    "           min_ctl_loading=min_ctl,\n",
    "           max_ctl_loading=max_ctl)"
   ]
  },
  {
   "cell_type": "code",
   "execution_count": 17,
   "metadata": {},
   "outputs": [],
   "source": [
    "sbbol_clickstream = hive.sql(visit_query).cache()"
   ]
  },
  {
   "cell_type": "code",
   "execution_count": null,
   "metadata": {},
   "outputs": [],
   "source": [
    "# sbbol_clickstream.count()"
   ]
  },
  {
   "cell_type": "code",
   "execution_count": 18,
   "metadata": {},
   "outputs": [
    {
     "data": {
      "text/plain": [
       "[('sbbolUserId', 'string'),\n",
       " ('sbbolorgguid', 'string'),\n",
       " ('hitPagePath', 'string'),\n",
       " ('hitPageTitle', 'string'),\n",
       " ('sessionId', 'bigint'),\n",
       " ('sessionStartTime', 'bigint'),\n",
       " ('sessionDate', 'string'),\n",
       " ('hitType', 'string'),\n",
       " ('hitTime', 'bigint'),\n",
       " ('eventCategory', 'string'),\n",
       " ('eventAction', 'string'),\n",
       " ('eventLabel', 'string'),\n",
       " ('hitPageHostName', 'string'),\n",
       " ('sessionId', 'bigint')]"
      ]
     },
     "execution_count": 18,
     "metadata": {},
     "output_type": "execute_result"
    }
   ],
   "source": [
    "sbbol_clickstream.dtypes"
   ]
  },
  {
   "cell_type": "markdown",
   "metadata": {},
   "source": [
    "###### create stats "
   ]
  },
  {
   "cell_type": "code",
   "execution_count": 19,
   "metadata": {},
   "outputs": [],
   "source": [
    "sbbol_users_visit_2021 = sbbol_clickstream.select(f.col(\"sbbolUserId\"),\n",
    "                                                  f.to_date(f.col(\"sessionDate\")).alias(\"sessionDate\")).distinct()"
   ]
  },
  {
   "cell_type": "code",
   "execution_count": 20,
   "metadata": {},
   "outputs": [
    {
     "data": {
      "text/plain": [
       "DataFrame[sbbolUserId: string, sessionDate: date]"
      ]
     },
     "execution_count": 20,
     "metadata": {},
     "output_type": "execute_result"
    }
   ],
   "source": [
    "sbbol_users_visit_2021.cache()"
   ]
  },
  {
   "cell_type": "code",
   "execution_count": 21,
   "metadata": {},
   "outputs": [
    {
     "name": "stdout",
     "output_type": "stream",
     "text": [
      "CPU times: user 479 ms, sys: 417 ms, total: 896 ms\n",
      "Wall time: 1h 1min 41s\n"
     ]
    },
    {
     "data": {
      "text/plain": [
       "90652201"
      ]
     },
     "execution_count": 21,
     "metadata": {},
     "output_type": "execute_result"
    }
   ],
   "source": [
    "%%time\n",
    "sbbol_users_visit_2021.count()"
   ]
  },
  {
   "cell_type": "code",
   "execution_count": 22,
   "metadata": {},
   "outputs": [],
   "source": [
    "sbbol_users_visit_2021_month = sbbol_users_visit_2021.withColumn(\"month\", f.date_trunc(\"month\", f.col(\"sessionDate\")))"
   ]
  },
  {
   "cell_type": "code",
   "execution_count": null,
   "metadata": {},
   "outputs": [],
   "source": [
    "sbbol_users_visit_2021_month.show()"
   ]
  },
  {
   "cell_type": "code",
   "execution_count": 63,
   "metadata": {},
   "outputs": [
    {
     "data": {
      "text/html": [
       "<div>\n",
       "<style scoped>\n",
       "    .dataframe tbody tr th:only-of-type {\n",
       "        vertical-align: middle;\n",
       "    }\n",
       "\n",
       "    .dataframe tbody tr th {\n",
       "        vertical-align: top;\n",
       "    }\n",
       "\n",
       "    .dataframe thead th {\n",
       "        text-align: right;\n",
       "    }\n",
       "</style>\n",
       "<table border=\"1\" class=\"dataframe\">\n",
       "  <thead>\n",
       "    <tr style=\"text-align: right;\">\n",
       "      <th></th>\n",
       "      <th>month</th>\n",
       "    </tr>\n",
       "  </thead>\n",
       "  <tbody>\n",
       "    <tr>\n",
       "      <th>0</th>\n",
       "      <td>2021-09-01</td>\n",
       "    </tr>\n",
       "    <tr>\n",
       "      <th>1</th>\n",
       "      <td>2021-02-01</td>\n",
       "    </tr>\n",
       "    <tr>\n",
       "      <th>2</th>\n",
       "      <td>2021-06-01</td>\n",
       "    </tr>\n",
       "    <tr>\n",
       "      <th>3</th>\n",
       "      <td>2021-08-01</td>\n",
       "    </tr>\n",
       "    <tr>\n",
       "      <th>4</th>\n",
       "      <td>2021-03-01</td>\n",
       "    </tr>\n",
       "    <tr>\n",
       "      <th>5</th>\n",
       "      <td>2021-10-01</td>\n",
       "    </tr>\n",
       "    <tr>\n",
       "      <th>6</th>\n",
       "      <td>2021-01-01</td>\n",
       "    </tr>\n",
       "    <tr>\n",
       "      <th>7</th>\n",
       "      <td>2021-05-01</td>\n",
       "    </tr>\n",
       "    <tr>\n",
       "      <th>8</th>\n",
       "      <td>2021-11-01</td>\n",
       "    </tr>\n",
       "    <tr>\n",
       "      <th>9</th>\n",
       "      <td>2021-07-01</td>\n",
       "    </tr>\n",
       "    <tr>\n",
       "      <th>10</th>\n",
       "      <td>2021-04-01</td>\n",
       "    </tr>\n",
       "  </tbody>\n",
       "</table>\n",
       "</div>"
      ],
      "text/plain": [
       "        month\n",
       "0  2021-09-01\n",
       "1  2021-02-01\n",
       "2  2021-06-01\n",
       "3  2021-08-01\n",
       "4  2021-03-01\n",
       "5  2021-10-01\n",
       "6  2021-01-01\n",
       "7  2021-05-01\n",
       "8  2021-11-01\n",
       "9  2021-07-01\n",
       "10 2021-04-01"
      ]
     },
     "execution_count": 63,
     "metadata": {},
     "output_type": "execute_result"
    }
   ],
   "source": [
    "sbbol_users_visit_2021_month.select(\"month\").distinct().show(12)"
   ]
  },
  {
   "cell_type": "code",
   "execution_count": 24,
   "metadata": {},
   "outputs": [],
   "source": [
    "sbbol_users_visit_2021_month_stat = sbbol_users_visit_2021_month.groupBy(f.col(\"month\"), f.col(\"sbbolUserId\"))\\\n",
    "                                                                .agg(f.countDistinct(\"sessionDate\").alias(\"day_in_month_visit_cnt\"))"
   ]
  },
  {
   "cell_type": "code",
   "execution_count": 25,
   "metadata": {},
   "outputs": [
    {
     "data": {
      "text/plain": [
       "DataFrame[month: timestamp, sbbolUserId: string, day_in_month_visit_cnt: bigint]"
      ]
     },
     "execution_count": 25,
     "metadata": {},
     "output_type": "execute_result"
    }
   ],
   "source": [
    "sbbol_users_visit_2021_month_stat.cache()"
   ]
  },
  {
   "cell_type": "code",
   "execution_count": 26,
   "metadata": {},
   "outputs": [
    {
     "name": "stdout",
     "output_type": "stream",
     "text": [
      "CPU times: user 4.08 ms, sys: 2.57 ms, total: 6.66 ms\n",
      "Wall time: 22.2 s\n"
     ]
    },
    {
     "data": {
      "text/plain": [
       "14407705"
      ]
     },
     "execution_count": 26,
     "metadata": {},
     "output_type": "execute_result"
    }
   ],
   "source": [
    "%%time\n",
    "sbbol_users_visit_2021_month_stat.count()"
   ]
  },
  {
   "cell_type": "code",
   "execution_count": 64,
   "metadata": {},
   "outputs": [],
   "source": [
    "sbbol_users_visit_2021_avg_stat = sbbol_users_visit_2021_month_stat.groupBy(\"sbbolUserId\")\\\n",
    "                                                                   .agg((f.sum(\"day_in_month_visit_cnt\")/11).alias(\"mean_visit_month\"))"
   ]
  },
  {
   "cell_type": "markdown",
   "metadata": {},
   "source": [
    "###### analitycs "
   ]
  },
  {
   "cell_type": "markdown",
   "metadata": {},
   "source": [
    "###### by april "
   ]
  },
  {
   "cell_type": "code",
   "execution_count": 29,
   "metadata": {},
   "outputs": [],
   "source": [
    "april_stats_pd = sbbol_users_visit_2021_month_stat.filter(f.col(\"month\") ==\"2021-04-01\").toPandas()"
   ]
  },
  {
   "cell_type": "code",
   "execution_count": 41,
   "metadata": {},
   "outputs": [
    {
     "data": {
      "text/html": [
       "<div>\n",
       "<style scoped>\n",
       "    .dataframe tbody tr th:only-of-type {\n",
       "        vertical-align: middle;\n",
       "    }\n",
       "\n",
       "    .dataframe tbody tr th {\n",
       "        vertical-align: top;\n",
       "    }\n",
       "\n",
       "    .dataframe thead th {\n",
       "        text-align: right;\n",
       "    }\n",
       "</style>\n",
       "<table border=\"1\" class=\"dataframe\">\n",
       "  <thead>\n",
       "    <tr style=\"text-align: right;\">\n",
       "      <th></th>\n",
       "      <th>month</th>\n",
       "      <th>sbbolUserId</th>\n",
       "      <th>day_in_month_visit_cnt</th>\n",
       "    </tr>\n",
       "  </thead>\n",
       "  <tbody>\n",
       "    <tr>\n",
       "      <th>0</th>\n",
       "      <td>2021-04-01</td>\n",
       "      <td>3c25f095-b7f1-fc84-e054-90e2ba85d0c8</td>\n",
       "      <td>18</td>\n",
       "    </tr>\n",
       "    <tr>\n",
       "      <th>1</th>\n",
       "      <td>2021-04-01</td>\n",
       "      <td>dc0a1f72-13c0-4f33-b9c3-e6e33e6caa16</td>\n",
       "      <td>18</td>\n",
       "    </tr>\n",
       "    <tr>\n",
       "      <th>2</th>\n",
       "      <td>2021-04-01</td>\n",
       "      <td>3c25f085-e91e-fc84-e054-90e2ba85d0c8</td>\n",
       "      <td>4</td>\n",
       "    </tr>\n",
       "    <tr>\n",
       "      <th>3</th>\n",
       "      <td>2021-04-01</td>\n",
       "      <td>a9332b47-f891-4099-b84b-c60bb1c53428</td>\n",
       "      <td>8</td>\n",
       "    </tr>\n",
       "    <tr>\n",
       "      <th>4</th>\n",
       "      <td>2021-04-01</td>\n",
       "      <td>0b61233c-29fe-49e9-8b33-e1b47a0bb670</td>\n",
       "      <td>12</td>\n",
       "    </tr>\n",
       "  </tbody>\n",
       "</table>\n",
       "</div>"
      ],
      "text/plain": [
       "       month                           sbbolUserId  day_in_month_visit_cnt\n",
       "0 2021-04-01  3c25f095-b7f1-fc84-e054-90e2ba85d0c8                      18\n",
       "1 2021-04-01  dc0a1f72-13c0-4f33-b9c3-e6e33e6caa16                      18\n",
       "2 2021-04-01  3c25f085-e91e-fc84-e054-90e2ba85d0c8                       4\n",
       "3 2021-04-01  a9332b47-f891-4099-b84b-c60bb1c53428                       8\n",
       "4 2021-04-01  0b61233c-29fe-49e9-8b33-e1b47a0bb670                      12"
      ]
     },
     "execution_count": 41,
     "metadata": {},
     "output_type": "execute_result"
    }
   ],
   "source": [
    "april_stats_pd.head()"
   ]
  },
  {
   "cell_type": "code",
   "execution_count": 40,
   "metadata": {},
   "outputs": [
    {
     "data": {
      "image/png": "[encoded data removed]",
      "text/plain": [
       "<Figure size 1080x720 with 1 Axes>"
      ]
     },
     "metadata": {},
     "output_type": "display_data"
    }
   ],
   "source": [
    "fig, ax = plt.subplots()\n",
    "fig.suptitle('Распределение посещений в Апреле')\n",
    "\n",
    "plt.hist(april_stats_pd[\"day_in_month_visit_cnt\"], bins=30)\n",
    "\n",
    "fig.set_figwidth(15)\n",
    "fig.set_figheight(10)\n",
    "\n",
    "plt.show()"
   ]
  },
  {
   "cell_type": "markdown",
   "metadata": {},
   "source": [
    "###### mean_by_year "
   ]
  },
  {
   "cell_type": "code",
   "execution_count": 65,
   "metadata": {},
   "outputs": [
    {
     "data": {
      "text/plain": [
       "2591893"
      ]
     },
     "execution_count": 65,
     "metadata": {},
     "output_type": "execute_result"
    }
   ],
   "source": [
    "sbbol_users_visit_2021_avg_stat.cache().count()"
   ]
  },
  {
   "cell_type": "code",
   "execution_count": 66,
   "metadata": {},
   "outputs": [],
   "source": [
    "year_mean_stats_pd = sbbol_users_visit_2021_avg_stat.toPandas()"
   ]
  },
  {
   "cell_type": "code",
   "execution_count": null,
   "metadata": {},
   "outputs": [],
   "source": [
    "year_mean_stats_pd.head()"
   ]
  },
  {
   "cell_type": "code",
   "execution_count": 68,
   "metadata": {},
   "outputs": [
    {
     "data": {
      "image/png": "[encoded data removed]",
      "text/plain": [
       "<Figure size 1080x720 with 1 Axes>"
      ]
     },
     "metadata": {},
     "output_type": "display_data"
    }
   ],
   "source": [
    "fig, ax = plt.subplots()\n",
    "fig.suptitle('Распределение посещений в среднем в месяце в 2021 году')\n",
    "\n",
    "plt.hist(year_mean_stats_pd[\"mean_visit_month\"], bins=50)\n",
    "\n",
    "fig.set_figwidth(15)\n",
    "fig.set_figheight(10)\n",
    "\n",
    "plt.show()"
   ]
  },
  {
   "cell_type": "code",
   "execution_count": 69,
   "metadata": {},
   "outputs": [
    {
     "data": {
      "image/png": "[encoded data removed]",
      "text/plain": [
       "<Figure size 1080x720 with 1 Axes>"
      ]
     },
     "metadata": {},
     "output_type": "display_data"
    }
   ],
   "source": [
    "fig, ax = plt.subplots()\n",
    "fig.suptitle('Распределение посещений в среднем в месяце в 2021 году')\n",
    "\n",
    "plt.hist(year_mean_stats_pd[year_mean_stats_pd[\"mean_visit_month\"] > 1][\"mean_visit_month\"], bins=60)\n",
    "\n",
    "fig.set_figwidth(15)\n",
    "fig.set_figheight(10)\n",
    "fig.show()"
   ]
  },
  {
   "cell_type": "markdown",
   "metadata": {},
   "source": [
    "Таким образом, разумно отправить в аб тест юзеров, у которых статистика посещений за год больше в среднем, чем 1 раз в месяц"
   ]
  },
  {
   "cell_type": "code",
   "execution_count": 74,
   "metadata": {},
   "outputs": [
    {
     "data": {
      "text/plain": [
       "sbbolUserId         1262545\n",
       "mean_visit_month    1262546\n",
       "dtype: int64"
      ]
     },
     "execution_count": 74,
     "metadata": {},
     "output_type": "execute_result"
    }
   ],
   "source": [
    "year_mean_stats_pd[year_mean_stats_pd[\"mean_visit_month\"] > 1].count()"
   ]
  },
  {
   "cell_type": "markdown",
   "metadata": {},
   "source": [
    "# visit test select "
   ]
  },
  {
   "cell_type": "code",
   "execution_count": 83,
   "metadata": {},
   "outputs": [],
   "source": [
    "ctl_load = 12548987\n",
    "\n",
    "\n",
    "VISIT_SQL_QUERY = \"\"\"\n",
    "SELECT MAX(sessiondate) AS max_date\n",
    "FROM {visit_scheme}.{visit_tb_name}\n",
    "WHERE 1=1\n",
    "  AND ctl_loading >= ctl_loading\n",
    "\"\"\".format(visit_scheme=\"cap_external_google_dda_external_google_analytics\",\n",
    "           visit_tb_name=\"VISIT\",\n",
    "           ctl_loading=ctl_load)"
   ]
  },
  {
   "cell_type": "code",
   "execution_count": 84,
   "metadata": {},
   "outputs": [
    {
     "name": "stdout",
     "output_type": "stream",
     "text": [
      "CPU times: user 61.1 ms, sys: 13 ms, total: 74.1 ms\n",
      "Wall time: 5min 2s\n"
     ]
    },
    {
     "data": {
      "text/html": [
       "<div>\n",
       "<style scoped>\n",
       "    .dataframe tbody tr th:only-of-type {\n",
       "        vertical-align: middle;\n",
       "    }\n",
       "\n",
       "    .dataframe tbody tr th {\n",
       "        vertical-align: top;\n",
       "    }\n",
       "\n",
       "    .dataframe thead th {\n",
       "        text-align: right;\n",
       "    }\n",
       "</style>\n",
       "<table border=\"1\" class=\"dataframe\">\n",
       "  <thead>\n",
       "    <tr style=\"text-align: right;\">\n",
       "      <th></th>\n",
       "      <th>max_date</th>\n",
       "    </tr>\n",
       "  </thead>\n",
       "  <tbody>\n",
       "    <tr>\n",
       "      <th>0</th>\n",
       "      <td>2021-11-18</td>\n",
       "    </tr>\n",
       "  </tbody>\n",
       "</table>\n",
       "</div>"
      ],
      "text/plain": [
       "     max_date\n",
       "0  2021-11-18"
      ]
     },
     "execution_count": 84,
     "metadata": {},
     "output_type": "execute_result"
    }
   ],
   "source": [
    "%%time\n",
    "hive.sql(VISIT_SQL_QUERY).show()"
   ]
  }
 ],
 "metadata": {
  "kernelspec": {
   "display_name": "Python 3 (ipykernel)",
   "language": "python",
   "name": "python3"
  },
  "language_info": {
   "codemirror_mode": {
    "name": "ipython",
    "version": 3
   },
   "file_extension": ".py",
   "mimetype": "text/x-python",
   "name": "python",
   "nbconvert_exporter": "python",
   "pygments_lexer": "ipython3",
   "version": "3.9.12"
  }
 },
 "nbformat": 4,
 "nbformat_minor": 4
}
