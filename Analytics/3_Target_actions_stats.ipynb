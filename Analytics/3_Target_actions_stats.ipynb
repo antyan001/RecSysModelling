{
 "cells": [
  {
   "cell_type": "code",
   "execution_count": 1,
   "metadata": {
    "collapsed": true,
    "jupyter": {
     "outputs_hidden": true
    }
   },
   "outputs": [],
   "source": [
    "import os, sys\n",
    "\n",
    "recsys_cf = os.environ.get(\"RECSYS_STORY\")\n",
    "sys.path.append(recsys_cf)\n",
    "os.chdir(recsys_cf)\n",
    "\n",
    "from lib.tools import *"
   ]
  },
  {
   "cell_type": "code",
   "execution_count": 2,
   "metadata": {
    "collapsed": true,
    "jupyter": {
     "outputs_hidden": true
    }
   },
   "outputs": [],
   "source": [
    "from urllib.parse import urlparse"
   ]
  },
  {
   "cell_type": "markdown",
   "metadata": {},
   "source": [
    "###### spark "
   ]
  },
  {
   "cell_type": "code",
   "execution_count": 4,
   "metadata": {
    "collapsed": true,
    "jupyter": {
     "outputs_hidden": true
    }
   },
   "outputs": [],
   "source": [
    "sp = spark(**SPARK_CONFIG)\n",
    "hive = sp.sql"
   ]
  },
  {
   "cell_type": "markdown",
   "metadata": {},
   "source": [
    "###### load data "
   ]
  },
  {
   "cell_type": "code",
   "execution_count": 4,
   "metadata": {
    "collapsed": true,
    "jupyter": {
     "outputs_hidden": true
    }
   },
   "outputs": [],
   "source": [
    "visit = load_table(SBX_TEAM_DIGITCAMP, VISIT, hive).cache()"
   ]
  },
  {
   "cell_type": "code",
   "execution_count": 5,
   "metadata": {},
   "outputs": [
    {
     "data": {
      "text/html": [
       "<div>\n",
       "<style scoped>\n",
       "    .dataframe tbody tr th:only-of-type {\n",
       "        vertical-align: middle;\n",
       "    }\n",
       "\n",
       "    .dataframe tbody tr th {\n",
       "        vertical-align: top;\n",
       "    }\n",
       "\n",
       "    .dataframe thead th {\n",
       "        text-align: right;\n",
       "    }\n",
       "</style>\n",
       "<table border=\"1\" class=\"dataframe\">\n",
       "  <thead>\n",
       "    <tr style=\"text-align: right;\">\n",
       "      <th></th>\n",
       "      <th>visitNumber</th>\n",
       "      <th>cid</th>\n",
       "      <th>commonSegmentoUID</th>\n",
       "      <th>sbbolUserId</th>\n",
       "      <th>hitPagePath</th>\n",
       "      <th>hitPageTitle</th>\n",
       "      <th>sessionStartTime</th>\n",
       "      <th>sessionDate</th>\n",
       "      <th>hitType</th>\n",
       "      <th>hitNumber</th>\n",
       "      <th>hitTime</th>\n",
       "      <th>eventCategory</th>\n",
       "      <th>eventAction</th>\n",
       "      <th>eventLabel</th>\n",
       "      <th>hitPageHostName</th>\n",
       "      <th>ctl_loading</th>\n",
       "      <th>sessionId</th>\n",
       "      <th>deviceIsMobile</th>\n",
       "      <th>deviceMobileDeviceModel</th>\n",
       "      <th>deviceDeviceCategory</th>\n",
       "      <th>geoRegion</th>\n",
       "      <th>geoCity</th>\n",
       "    </tr>\n",
       "  </thead>\n",
       "  <tbody>\n",
       "    <tr>\n",
       "      <th>0</th>\n",
       "      <td>2</td>\n",
       "      <td>1304721468.1624081086</td>\n",
       "      <td>48NmCasKmfcx</td>\n",
       "      <td>None</td>\n",
       "      <td>/ru/s_m_business/credits/warranty</td>\n",
       "      <td>Банковская гарантия от Сбербанка — СберБанк</td>\n",
       "      <td>1624756863</td>\n",
       "      <td>2021-06-27</td>\n",
       "      <td>PAGE</td>\n",
       "      <td>2</td>\n",
       "      <td>1224526</td>\n",
       "      <td>None</td>\n",
       "      <td>None</td>\n",
       "      <td>None</td>\n",
       "      <td>www.sberbank.ru</td>\n",
       "      <td>9663295</td>\n",
       "      <td>1624756863</td>\n",
       "      <td>True</td>\n",
       "      <td>SM-A013F</td>\n",
       "      <td>mobile</td>\n",
       "      <td>Primorsky Krai</td>\n",
       "      <td>Vladivostok</td>\n",
       "    </tr>\n",
       "    <tr>\n",
       "      <th>1</th>\n",
       "      <td>70</td>\n",
       "      <td>1771292124.1608378202</td>\n",
       "      <td>None</td>\n",
       "      <td>None</td>\n",
       "      <td>/journal/article/2360</td>\n",
       "      <td>Активный возраст</td>\n",
       "      <td>1624780273</td>\n",
       "      <td>2021-06-27</td>\n",
       "      <td>PAGE</td>\n",
       "      <td>2</td>\n",
       "      <td>1</td>\n",
       "      <td>None</td>\n",
       "      <td>None</td>\n",
       "      <td>None</td>\n",
       "      <td>sberbankaktivno.ru</td>\n",
       "      <td>9663295</td>\n",
       "      <td>1624780273</td>\n",
       "      <td>True</td>\n",
       "      <td>SM-J400F</td>\n",
       "      <td>mobile</td>\n",
       "      <td>Saint Petersburg</td>\n",
       "      <td>Saint Petersburg</td>\n",
       "    </tr>\n",
       "    <tr>\n",
       "      <th>2</th>\n",
       "      <td>1</td>\n",
       "      <td>999719353.1624750791</td>\n",
       "      <td>None</td>\n",
       "      <td>None</td>\n",
       "      <td>/how_it_works</td>\n",
       "      <td>Все о программе лояльности СберСпасибо</td>\n",
       "      <td>1624750793</td>\n",
       "      <td>2021-06-27</td>\n",
       "      <td>PAGE</td>\n",
       "      <td>2</td>\n",
       "      <td>19564</td>\n",
       "      <td>None</td>\n",
       "      <td>None</td>\n",
       "      <td>None</td>\n",
       "      <td>spasibosberbank.ru</td>\n",
       "      <td>9663295</td>\n",
       "      <td>1624750793</td>\n",
       "      <td>True</td>\n",
       "      <td>COL-L29</td>\n",
       "      <td>mobile</td>\n",
       "      <td>Buryatia</td>\n",
       "      <td>Ulan-Ude</td>\n",
       "    </tr>\n",
       "  </tbody>\n",
       "</table>\n",
       "</div>"
      ],
      "text/plain": [
       "   visitNumber                    cid commonSegmentoUID sbbolUserId  \\\n",
       "0            2  1304721468.1624081086      48NmCasKmfcx        None   \n",
       "1           70  1771292124.1608378202              None        None   \n",
       "2            1   999719353.1624750791              None        None   \n",
       "\n",
       "                         hitPagePath  \\\n",
       "0  /ru/s_m_business/credits/warranty   \n",
       "1              /journal/article/2360   \n",
       "2                      /how_it_works   \n",
       "\n",
       "                                  hitPageTitle  sessionStartTime sessionDate  \\\n",
       "0  Банковская гарантия от Сбербанка — СберБанк        1624756863  2021-06-27   \n",
       "1                             Активный возраст        1624780273  2021-06-27   \n",
       "2       Все о программе лояльности СберСпасибо        1624750793  2021-06-27   \n",
       "\n",
       "  hitType  hitNumber  hitTime eventCategory eventAction eventLabel  \\\n",
       "0    PAGE          2  1224526          None        None       None   \n",
       "1    PAGE          2        1          None        None       None   \n",
       "2    PAGE          2    19564          None        None       None   \n",
       "\n",
       "      hitPageHostName  ctl_loading   sessionId  deviceIsMobile  \\\n",
       "0     www.sberbank.ru      9663295  1624756863            True   \n",
       "1  sberbankaktivno.ru      9663295  1624780273            True   \n",
       "2  spasibosberbank.ru      9663295  1624750793            True   \n",
       "\n",
       "  deviceMobileDeviceModel deviceDeviceCategory         geoRegion  \\\n",
       "0                SM-A013F               mobile    Primorsky Krai   \n",
       "1                SM-J400F               mobile  Saint Petersburg   \n",
       "2                 COL-L29               mobile          Buryatia   \n",
       "\n",
       "            geoCity  \n",
       "0       Vladivostok  \n",
       "1  Saint Petersburg  \n",
       "2          Ulan-Ude  "
      ]
     },
     "execution_count": 5,
     "metadata": {},
     "output_type": "execute_result"
    }
   ],
   "source": [
    "visit.show(3)"
   ]
  },
  {
   "cell_type": "code",
   "execution_count": 214,
   "metadata": {
    "collapsed": true,
    "jupyter": {
     "outputs_hidden": true
    }
   },
   "outputs": [],
   "source": [
    "begin_date = '2021-06-14'\n",
    "end_date = '2021-06-20'"
   ]
  },
  {
   "cell_type": "code",
   "execution_count": 216,
   "metadata": {
    "collapsed": true,
    "jupyter": {
     "outputs_hidden": true
    }
   },
   "outputs": [],
   "source": [
    "visit = hive.sql(\"\"\"\n",
    " select cid,\n",
    "        sbbolUserId,\n",
    "        hitPagePath,\n",
    "        hitPageTitle,\n",
    "        sessionId,\n",
    "        sessionDate,\n",
    "        sessionStartTime,\n",
    "        hitTime,\n",
    "        hitType,\n",
    "        eventCategory,\n",
    "        eventAction,\n",
    "        eventLabel,\n",
    "        hitPageHostName\n",
    "        \n",
    " from cap_external_google_dda_external_google_analytics.visit\n",
    "where 1 = 1\n",
    "  and sessiondate >= \"{}\"\n",
    "  and sessiondate <= \"{}\"\n",
    "  and (hitPageHostName = 'sbi.sberbank.ru'\n",
    "       OR hitPagePath like '%/s_m_business%')\n",
    "\"\"\".format(begin_date, end_date)).cache()"
   ]
  },
  {
   "cell_type": "markdown",
   "metadata": {},
   "source": [
    "### Препроцессинг "
   ]
  },
  {
   "cell_type": "markdown",
   "metadata": {},
   "source": [
    "отчистка путей от мусора"
   ]
  },
  {
   "cell_type": "code",
   "execution_count": 217,
   "metadata": {
    "collapsed": true,
    "jupyter": {
     "outputs_hidden": true
    }
   },
   "outputs": [],
   "source": [
    "@udf(stypes.StringType())\n",
    "def get_url_path(url):\n",
    "        try:\n",
    "            url_parse = urlparse(url)\n",
    "        except Exception as e:\n",
    "            print(e)\n",
    "            return None\n",
    "\n",
    "        return url_parse.path"
   ]
  },
  {
   "cell_type": "code",
   "execution_count": 218,
   "metadata": {
    "collapsed": true,
    "jupyter": {
     "outputs_hidden": true
    }
   },
   "outputs": [],
   "source": [
    "visit_cols = visit.withColumn(\"hitPagePath\", get_url_path(f.col(\"hitPagePath\")))\\\n",
    "                  .filter(f.col(\"hitPagePath\") != \"/\" )"
   ]
  },
  {
   "cell_type": "code",
   "execution_count": 219,
   "metadata": {
    "collapsed": true,
    "jupyter": {
     "outputs_hidden": true
    }
   },
   "outputs": [],
   "source": [
    "visit_ts = visit_cols.withColumn(\"timestamp\", \n",
    "                                 (f.col(\"sessionStartTime\") + f.col(\"hitTime\") / 1000).cast(stypes.LongType())) \\\n",
    "                     .drop(\"sessionStartTime\", \"hitTime\")"
   ]
  },
  {
   "cell_type": "code",
   "execution_count": 220,
   "metadata": {},
   "outputs": [
    {
     "data": {
      "text/plain": [
       "DataFrame[cid: string, sbbolUserId: string, hitPagePath: string, hitPageTitle: string, sessionId: bigint, sessionDate: string, hitType: string, eventCategory: string, eventAction: string, eventLabel: string, hitPageHostName: string, timestamp: bigint]"
      ]
     },
     "execution_count": 220,
     "metadata": {},
     "output_type": "execute_result"
    }
   ],
   "source": [
    "visit_ts.cache()"
   ]
  },
  {
   "cell_type": "code",
   "execution_count": 221,
   "metadata": {},
   "outputs": [
    {
     "data": {
      "text/plain": [
       "269686079"
      ]
     },
     "execution_count": 221,
     "metadata": {},
     "output_type": "execute_result"
    }
   ],
   "source": [
    "visit_ts.count()"
   ]
  },
  {
   "cell_type": "markdown",
   "metadata": {},
   "source": [
    "### Все клики по сторям в СББОЛе "
   ]
  },
  {
   "cell_type": "markdown",
   "metadata": {},
   "source": [
    "Для начала соберем датасет, состоящий из целевых событий юзеров"
   ]
  },
  {
   "cell_type": "code",
   "execution_count": 222,
   "metadata": {
    "collapsed": true,
    "jupyter": {
     "outputs_hidden": true
    }
   },
   "outputs": [],
   "source": [
    "visit_sbbol = visit_ts.filter(\"hitPageHostName = 'sbi.sberbank.ru'\")\\\n",
    "                      .select(\"sbbolUserId\",\n",
    "                              \"hitPagePath\",\n",
    "                              \"hitPageTitle\",\n",
    "                              \"sessionId\",\n",
    "                              \"timestamp\",\n",
    "                              \"sessionDate\",\n",
    "                              \"hitType\",\n",
    "                              \"eventCategory\",\n",
    "                              \"eventAction\",\n",
    "                              \"eventLabel\",\n",
    "                              \"hitPageHostName\",\n",
    "                              \"sessionId\")"
   ]
  },
  {
   "cell_type": "code",
   "execution_count": 223,
   "metadata": {},
   "outputs": [
    {
     "data": {
      "text/plain": [
       "DataFrame[sbbolUserId: string, hitPagePath: string, hitPageTitle: string, sessionId: bigint, timestamp: bigint, sessionDate: string, hitType: string, eventCategory: string, eventAction: string, eventLabel: string, hitPageHostName: string, sessionId: bigint]"
      ]
     },
     "execution_count": 223,
     "metadata": {},
     "output_type": "execute_result"
    }
   ],
   "source": [
    "visit_sbbol.cache()"
   ]
  },
  {
   "cell_type": "code",
   "execution_count": 224,
   "metadata": {},
   "outputs": [
    {
     "data": {
      "text/plain": [
       "746741"
      ]
     },
     "execution_count": 224,
     "metadata": {},
     "output_type": "execute_result"
    }
   ],
   "source": [
    "visit_sbbol.filter(\"hitPagePath = '/main'\").select(\"sbbolUserId\").distinct().count()"
   ]
  },
  {
   "cell_type": "markdown",
   "metadata": {},
   "source": [
    "Выделим клики по сторям"
   ]
  },
  {
   "cell_type": "code",
   "execution_count": 225,
   "metadata": {
    "collapsed": true,
    "jupyter": {
     "outputs_hidden": true
    }
   },
   "outputs": [],
   "source": [
    "STORY_CLICK = '''hitPagePath = '/main' AND hitType = 'EVENT'\n",
    "                 AND\n",
    "                 eventCategory = '[operations]: offers' AND eventAction  = 'open card'\n",
    "'''"
   ]
  },
  {
   "cell_type": "code",
   "execution_count": 226,
   "metadata": {
    "collapsed": true,
    "jupyter": {
     "outputs_hidden": true
    }
   },
   "outputs": [],
   "source": [
    "sbbol_story = visit_sbbol.filter(STORY_CLICK)"
   ]
  },
  {
   "cell_type": "markdown",
   "metadata": {},
   "source": [
    "Выделеним продукт из клика по сторе"
   ]
  },
  {
   "cell_type": "code",
   "execution_count": 227,
   "metadata": {
    "collapsed": true,
    "jupyter": {
     "outputs_hidden": true
    }
   },
   "outputs": [],
   "source": [
    "pattern1 = 'product\\: [^]]*]{1}'\n",
    "story_product = sbbol_story.withColumn('product',f.regexp_extract(\"eventLabel\", pattern1, 0))\\\n",
    "                           .withColumn(\"product\",\n",
    "                                       f.col(\"product\").substr(f.lit(10), f.length(\"product\") - 10))\n"
   ]
  },
  {
   "cell_type": "code",
   "execution_count": null,
   "metadata": {},
   "outputs": [],
   "source": [
    "story_product.show(1)"
   ]
  },
  {
   "cell_type": "code",
   "execution_count": 229,
   "metadata": {
    "collapsed": true,
    "jupyter": {
     "outputs_hidden": true
    }
   },
   "outputs": [],
   "source": [
    "sbbol_story_click_sdf = story_product.select('sbbolUserId',\n",
    "                                             'hitPagePath',\n",
    "                                             'timestamp',\n",
    "                                             'sessionDate',\n",
    "                                             'hitType',\n",
    "                                             'eventCategory',\n",
    "                                             'eventAction',\n",
    "                                             'product')"
   ]
  },
  {
   "cell_type": "code",
   "execution_count": null,
   "metadata": {},
   "outputs": [],
   "source": [
    "sbbol_story_click_sdf.show(3)"
   ]
  },
  {
   "cell_type": "markdown",
   "metadata": {},
   "source": [
    "###### Статистика"
   ]
  },
  {
   "cell_type": "code",
   "execution_count": 231,
   "metadata": {
    "collapsed": true,
    "jupyter": {
     "outputs_hidden": true
    }
   },
   "outputs": [],
   "source": [
    "stories_user_cnt = sbbol_story_click_sdf.select(\"sbbolUserId\").distinct().count()\n",
    "all_users_sbbol = visit_sbbol.filter(\"hitPagePath = '/main'\").select(\"sbbolUserId\").distinct().count()\n",
    "all_users_prod_sbbol = sbbol_story_click_sdf.filter(\"product <> 'none'\")\\\n",
    "                                           .select(\"sbbolUserId\").distinct().count()\n",
    "\n",
    "\n",
    "\n",
    "all_clicks = sbbol_story_click_sdf.count()\n",
    "all_clicks_prod = sbbol_story_click_sdf.filter(\"product <> 'none'\").count()\n",
    "\n",
    "\n",
    "\n",
    "all_prod_cnt = sbbol_story_click_sdf.select(\"product\").distinct().count()"
   ]
  },
  {
   "cell_type": "code",
   "execution_count": 232,
   "metadata": {},
   "outputs": [
    {
     "name": "stdout",
     "output_type": "stream",
     "text": [
      "Всего юзеров главнй страницы СББОЛа: 746741\n",
      "Юзеров с кликами по сторям в СББОЛе: 16323\n",
      "Юзеров с кликами по продуктовым сторям в СББОЛе: 4278\n",
      "Процент юзеров с кликами по сторям: 2.19 %\n",
      "Процент юзеров с кликами по продуктовым сторям: 0.57 %\n",
      "\n",
      " \n",
      "Clicks:\n",
      "Кликов по сторям всего: 24646\n",
      "Кликов по продуктовым сторям всего: 5530\n",
      "\n",
      "Всего различных продуктов в сторях: 62\n"
     ]
    }
   ],
   "source": [
    "print(\"Всего юзеров главнй страницы СББОЛа:\", all_users_sbbol)\n",
    "print(\"Юзеров с кликами по сторям в СББОЛе:\", stories_user_cnt)\n",
    "print(\"Юзеров с кликами по продуктовым сторям в СББОЛе:\", all_users_prod_sbbol)\n",
    "print(\"Процент юзеров с кликами по сторям:\", round(stories_user_cnt/all_users_sbbol * 100, 2), '%')\n",
    "print(\"Процент юзеров с кликами по продуктовым сторям:\", round(all_users_prod_sbbol/all_users_sbbol * 100, 2), '%')\n",
    "\n",
    "print(\"\\n \\nClicks:\")\n",
    "print(\"Кликов по сторям всего:\", all_clicks)\n",
    "print(\"Кликов по продуктовым сторям всего:\", all_clicks_prod)\n",
    "\n",
    "\n",
    "\n",
    "print(\"\\nВсего различных продуктов в сторях:\", all_prod_cnt)\n"
   ]
  },
  {
   "cell_type": "markdown",
   "metadata": {},
   "source": [
    "Статистика охвата сторей по юзерам"
   ]
  },
  {
   "cell_type": "code",
   "execution_count": 233,
   "metadata": {},
   "outputs": [
    {
     "data": {
      "text/html": [
       "<div>\n",
       "<style scoped>\n",
       "    .dataframe tbody tr th:only-of-type {\n",
       "        vertical-align: middle;\n",
       "    }\n",
       "\n",
       "    .dataframe tbody tr th {\n",
       "        vertical-align: top;\n",
       "    }\n",
       "\n",
       "    .dataframe thead th {\n",
       "        text-align: right;\n",
       "    }\n",
       "</style>\n",
       "<table border=\"1\" class=\"dataframe\">\n",
       "  <thead>\n",
       "    <tr style=\"text-align: right;\">\n",
       "      <th></th>\n",
       "      <th>product</th>\n",
       "      <th>cntDistinctUsers</th>\n",
       "      <th>cntClicks</th>\n",
       "      <th>cntDistinctUserPrc</th>\n",
       "    </tr>\n",
       "  </thead>\n",
       "  <tbody>\n",
       "    <tr>\n",
       "      <th>0</th>\n",
       "      <td>none</td>\n",
       "      <td>13097</td>\n",
       "      <td>19055</td>\n",
       "      <td>80.236476</td>\n",
       "    </tr>\n",
       "    <tr>\n",
       "      <th>1</th>\n",
       "      <td>kredit</td>\n",
       "      <td>849</td>\n",
       "      <td>1014</td>\n",
       "      <td>5.201250</td>\n",
       "    </tr>\n",
       "    <tr>\n",
       "      <th>2</th>\n",
       "      <td>lyurist</td>\n",
       "      <td>697</td>\n",
       "      <td>800</td>\n",
       "      <td>4.270048</td>\n",
       "    </tr>\n",
       "    <tr>\n",
       "      <th>3</th>\n",
       "      <td>rabota_ru</td>\n",
       "      <td>666</td>\n",
       "      <td>773</td>\n",
       "      <td>4.080132</td>\n",
       "    </tr>\n",
       "    <tr>\n",
       "      <th>4</th>\n",
       "      <td>docdoc</td>\n",
       "      <td>495</td>\n",
       "      <td>520</td>\n",
       "      <td>3.032531</td>\n",
       "    </tr>\n",
       "    <tr>\n",
       "      <th>5</th>\n",
       "      <td>credit_card</td>\n",
       "      <td>307</td>\n",
       "      <td>361</td>\n",
       "      <td>1.880782</td>\n",
       "    </tr>\n",
       "    <tr>\n",
       "      <th>6</th>\n",
       "      <td>korpkarta</td>\n",
       "      <td>181</td>\n",
       "      <td>210</td>\n",
       "      <td>1.108865</td>\n",
       "    </tr>\n",
       "    <tr>\n",
       "      <th>7</th>\n",
       "      <td>refundvat</td>\n",
       "      <td>106</td>\n",
       "      <td>114</td>\n",
       "      <td>0.649390</td>\n",
       "    </tr>\n",
       "    <tr>\n",
       "      <th>8</th>\n",
       "      <td>e-acquiring</td>\n",
       "      <td>91</td>\n",
       "      <td>106</td>\n",
       "      <td>0.557496</td>\n",
       "    </tr>\n",
       "    <tr>\n",
       "      <th>9</th>\n",
       "      <td>leasing</td>\n",
       "      <td>82</td>\n",
       "      <td>96</td>\n",
       "      <td>0.502359</td>\n",
       "    </tr>\n",
       "    <tr>\n",
       "      <th>10</th>\n",
       "      <td>merchant-acquiring</td>\n",
       "      <td>82</td>\n",
       "      <td>89</td>\n",
       "      <td>0.502359</td>\n",
       "    </tr>\n",
       "    <tr>\n",
       "      <th>11</th>\n",
       "      <td>mybuch</td>\n",
       "      <td>77</td>\n",
       "      <td>86</td>\n",
       "      <td>0.471727</td>\n",
       "    </tr>\n",
       "    <tr>\n",
       "      <th>12</th>\n",
       "      <td>zarplata</td>\n",
       "      <td>76</td>\n",
       "      <td>89</td>\n",
       "      <td>0.465601</td>\n",
       "    </tr>\n",
       "    <tr>\n",
       "      <th>13</th>\n",
       "      <td>smart_credit</td>\n",
       "      <td>72</td>\n",
       "      <td>96</td>\n",
       "      <td>0.441095</td>\n",
       "    </tr>\n",
       "    <tr>\n",
       "      <th>14</th>\n",
       "      <td>evotor</td>\n",
       "      <td>71</td>\n",
       "      <td>83</td>\n",
       "      <td>0.434969</td>\n",
       "    </tr>\n",
       "    <tr>\n",
       "      <th>15</th>\n",
       "      <td>el_sign</td>\n",
       "      <td>66</td>\n",
       "      <td>79</td>\n",
       "      <td>0.404337</td>\n",
       "    </tr>\n",
       "    <tr>\n",
       "      <th>16</th>\n",
       "      <td>e_inv</td>\n",
       "      <td>65</td>\n",
       "      <td>77</td>\n",
       "      <td>0.398211</td>\n",
       "    </tr>\n",
       "    <tr>\n",
       "      <th>17</th>\n",
       "      <td>loyalty_business</td>\n",
       "      <td>63</td>\n",
       "      <td>80</td>\n",
       "      <td>0.385958</td>\n",
       "    </tr>\n",
       "    <tr>\n",
       "      <th>18</th>\n",
       "      <td>guarantee</td>\n",
       "      <td>54</td>\n",
       "      <td>60</td>\n",
       "      <td>0.330822</td>\n",
       "    </tr>\n",
       "    <tr>\n",
       "      <th>19</th>\n",
       "      <td>customwarranty</td>\n",
       "      <td>51</td>\n",
       "      <td>52</td>\n",
       "      <td>0.312443</td>\n",
       "    </tr>\n",
       "    <tr>\n",
       "      <th>20</th>\n",
       "      <td>mybuch_online_sso</td>\n",
       "      <td>45</td>\n",
       "      <td>54</td>\n",
       "      <td>0.275685</td>\n",
       "    </tr>\n",
       "    <tr>\n",
       "      <th>21</th>\n",
       "      <td>e_acquiring_fz</td>\n",
       "      <td>45</td>\n",
       "      <td>71</td>\n",
       "      <td>0.275685</td>\n",
       "    </tr>\n",
       "    <tr>\n",
       "      <th>22</th>\n",
       "      <td>goz</td>\n",
       "      <td>37</td>\n",
       "      <td>44</td>\n",
       "      <td>0.226674</td>\n",
       "    </tr>\n",
       "    <tr>\n",
       "      <th>23</th>\n",
       "      <td>invoice</td>\n",
       "      <td>37</td>\n",
       "      <td>42</td>\n",
       "      <td>0.226674</td>\n",
       "    </tr>\n",
       "    <tr>\n",
       "      <th>24</th>\n",
       "      <td>business_card_website</td>\n",
       "      <td>35</td>\n",
       "      <td>36</td>\n",
       "      <td>0.214421</td>\n",
       "    </tr>\n",
       "    <tr>\n",
       "      <th>25</th>\n",
       "      <td>yakassa</td>\n",
       "      <td>35</td>\n",
       "      <td>40</td>\n",
       "      <td>0.214421</td>\n",
       "    </tr>\n",
       "    <tr>\n",
       "      <th>26</th>\n",
       "      <td>two_gis</td>\n",
       "      <td>35</td>\n",
       "      <td>48</td>\n",
       "      <td>0.214421</td>\n",
       "    </tr>\n",
       "    <tr>\n",
       "      <th>27</th>\n",
       "      <td>gisgmp</td>\n",
       "      <td>29</td>\n",
       "      <td>37</td>\n",
       "      <td>0.177663</td>\n",
       "    </tr>\n",
       "    <tr>\n",
       "      <th>28</th>\n",
       "      <td>e_inv_const_doc</td>\n",
       "      <td>28</td>\n",
       "      <td>31</td>\n",
       "      <td>0.171537</td>\n",
       "    </tr>\n",
       "    <tr>\n",
       "      <th>29</th>\n",
       "      <td>sms</td>\n",
       "      <td>25</td>\n",
       "      <td>30</td>\n",
       "      <td>0.153158</td>\n",
       "    </tr>\n",
       "  </tbody>\n",
       "</table>\n",
       "</div>"
      ],
      "text/plain": [
       "                  product  cntDistinctUsers  cntClicks  cntDistinctUserPrc\n",
       "0                    none             13097      19055           80.236476\n",
       "1                  kredit               849       1014            5.201250\n",
       "2                 lyurist               697        800            4.270048\n",
       "3               rabota_ru               666        773            4.080132\n",
       "4                  docdoc               495        520            3.032531\n",
       "5             credit_card               307        361            1.880782\n",
       "6               korpkarta               181        210            1.108865\n",
       "7               refundvat               106        114            0.649390\n",
       "8             e-acquiring                91        106            0.557496\n",
       "9                 leasing                82         96            0.502359\n",
       "10     merchant-acquiring                82         89            0.502359\n",
       "11                 mybuch                77         86            0.471727\n",
       "12               zarplata                76         89            0.465601\n",
       "13           smart_credit                72         96            0.441095\n",
       "14                 evotor                71         83            0.434969\n",
       "15                el_sign                66         79            0.404337\n",
       "16                  e_inv                65         77            0.398211\n",
       "17       loyalty_business                63         80            0.385958\n",
       "18              guarantee                54         60            0.330822\n",
       "19         customwarranty                51         52            0.312443\n",
       "20      mybuch_online_sso                45         54            0.275685\n",
       "21         e_acquiring_fz                45         71            0.275685\n",
       "22                    goz                37         44            0.226674\n",
       "23                invoice                37         42            0.226674\n",
       "24  business_card_website                35         36            0.214421\n",
       "25                yakassa                35         40            0.214421\n",
       "26                two_gis                35         48            0.214421\n",
       "27                 gisgmp                29         37            0.177663\n",
       "28        e_inv_const_doc                28         31            0.171537\n",
       "29                    sms                25         30            0.153158"
      ]
     },
     "execution_count": 233,
     "metadata": {},
     "output_type": "execute_result"
    }
   ],
   "source": [
    "sbbol_story_click_sdf.groupBy(\"product\").agg(f.countDistinct(\"sbbolUserId\").alias(\"cntDistinctUsers\"),\n",
    "                                             f.count(\"sbbolUserId\").alias(\"cntClicks\"),\n",
    "                                             (f.countDistinct(\"sbbolUserId\") /\n",
    "                                              stories_user_cnt *100).alias(\"cntDistinctUserPrc\")\n",
    "                                            )\\\n",
    "                     .orderBy(f.col(\"cntDistinctUsers\").desc()).show(30)"
   ]
  },
  {
   "cell_type": "markdown",
   "metadata": {},
   "source": [
    "### SM_Business"
   ]
  },
  {
   "cell_type": "code",
   "execution_count": 234,
   "metadata": {
    "collapsed": true,
    "jupyter": {
     "outputs_hidden": true
    }
   },
   "outputs": [],
   "source": [
    "visit_smb = visit_ts.select(\"cid\",\n",
    "                            \"sessionId\",\n",
    "                            \"timestamp\",\n",
    "                            \"hitPagePath\",\n",
    "                            \"eventAction\",\n",
    "                            \n",
    "                            \"eventLabel\",\n",
    "                            \"sessionDate\")\\\n",
    "                     .filter(\"hitPagePath like '%/s_m_business%'\")\\\n",
    "                     .cache()"
   ]
  },
  {
   "cell_type": "code",
   "execution_count": 235,
   "metadata": {
    "collapsed": true,
    "jupyter": {
     "outputs_hidden": true
    }
   },
   "outputs": [],
   "source": [
    "w=Window.partitionBy('cid').orderBy('sessionId', 'timestamp')\n",
    " \n",
    "visit_smb_click = visit_smb.withColumn('next_state_m1', f.lead(f.col('hitPagePath'),count=1).over(w))\\\n",
    "                           .withColumn('next_state_m2', f.lead(f.col('hitPagePath'),count=2).over(w))\n",
    "     \n",
    "visit_smb_click = visit_smb_click.withColumn('clickBannerAndGo2Landing',          \n",
    "                                               ((f.col(\"hitPagePath\") == \"/ru/s_m_business\")|\n",
    "                                                (f.col(\"hitPagePath\") == \"/ru/s_m_business/main/\")|\n",
    "                                                (f.col(\"hitPagePath\") == \"/ru/s_m_business_alt\")\n",
    "                                               ) &\n",
    "                                               (\n",
    "                                                f.col('eventAction').like(\"%click_any%\")|\n",
    "                                                f.col('eventAction').like(\"%click_banner%\")\n",
    "                                               )&\n",
    "                                               ((f.regexp_extract(f.col(\"next_state_m1\"),\n",
    "                                                                           \"(?:/ru/s_m_business/)([a-zA-Z_/]+)\",1) != ''\n",
    "                                                )|\n",
    "                                                (f.regexp_extract(f.col(\"next_state_m2\"),\n",
    "                                                                           \"(?:/ru/s_m_business/)([a-zA-Z_/]+)\",1) != ''\n",
    "                                                )                                               \n",
    "                                               )  \n",
    "                    )"
   ]
  },
  {
   "cell_type": "code",
   "execution_count": 236,
   "metadata": {
    "collapsed": true,
    "jupyter": {
     "outputs_hidden": true
    }
   },
   "outputs": [],
   "source": [
    "banner_click_any_cond = (\n",
    "                     ((f.col(\"hitPagePath\") == \"/ru/s_m_business\")|\n",
    "                      (f.col(\"hitPagePath\") == \"/ru/s_m_business/main/\")|\n",
    "                      (f.col(\"hitPagePath\") == \"/ru/s_m_business_alt\")\n",
    "                     )&\n",
    "                     ((f.col('eventAction').like('%click_banner%'))|\n",
    "                      (f.lower(f.col('eventAction')).like('%click_any%'))\n",
    "                     )\n",
    "                    )\n",
    "banner_click_cond = (\n",
    "                     ((f.col(\"hitPagePath\") == \"/ru/s_m_business\")|\n",
    "                      (f.col(\"hitPagePath\") == \"/ru/s_m_business/main/\")|\n",
    "                      (f.col(\"hitPagePath\") == \"/ru/s_m_business_alt\")\n",
    "                     )&\n",
    "                     ((f.col('eventAction').like('%click_banner%'))\n",
    "                     )\n",
    "                    )\n",
    "banner_any_cond = (\n",
    "                     ((f.col(\"hitPagePath\") == \"/ru/s_m_business\")|\n",
    "                      (f.col(\"hitPagePath\") == \"/ru/s_m_business/main/\")|\n",
    "                      (f.col(\"hitPagePath\") == \"/ru/s_m_business_alt\")\n",
    "                     )&\n",
    "                     (\n",
    "                      (f.lower(f.col('eventAction')).like('%click_any%'))\n",
    "                     )\n",
    "                    )\n",
    "\n",
    "smb_page_cond = ((f.col(\"hitPagePath\") == \"/ru/s_m_business\")|\n",
    "                                 (f.col(\"hitPagePath\") == \"/ru/s_m_business/main/\")|\n",
    "                                                (f.col(\"hitPagePath\") == \"/ru/s_m_business_alt\"))"
   ]
  },
  {
   "cell_type": "code",
   "execution_count": 237,
   "metadata": {
    "collapsed": true,
    "jupyter": {
     "outputs_hidden": true
    }
   },
   "outputs": [],
   "source": [
    "visit_smb_click = visit_smb_click.filter(\"clickBannerAndGo2Landing = 1\").cache()\n"
   ]
  },
  {
   "cell_type": "markdown",
   "metadata": {},
   "source": [
    "###### Статистика кликов s_m_business"
   ]
  },
  {
   "cell_type": "code",
   "execution_count": 238,
   "metadata": {
    "collapsed": true,
    "jupyter": {
     "outputs_hidden": true
    }
   },
   "outputs": [],
   "source": [
    "cid_all_cnt = visit_smb.filter(smb_page_cond).select(\"cid\").distinct().count()\n",
    "cid_click_lend_cnt = visit_smb_click.select('cid').distinct().count()\n",
    "Ea_click_banner_users_cnt = visit_smb.filter(banner_click_cond).select(\"cid\").distinct().count()\n",
    "\n",
    "\n",
    "\n",
    "\n",
    "\n",
    "\n",
    "all_clicks_banner = visit_smb_click.count()\n",
    "Ea_click_banner_cnt = visit_smb.filter(banner_click_cond).count()"
   ]
  },
  {
   "cell_type": "code",
   "execution_count": 239,
   "metadata": {},
   "outputs": [
    {
     "name": "stdout",
     "output_type": "stream",
     "text": [
      "Всего юзеров главнй страницы s_m_business: 107217\n",
      "Юзеров с кликами по баннерам и с переходом на лендинг в s_m_business: 20535\n",
      "Юзеров с ea 'click_banner' по баннерам или с переходом на лендинг в s_m_business: 903\n",
      "Процент юзеров с кликами по баннерам или с переходом на лендинг в s_m_business: 19.15 %\n",
      "\n",
      " \n",
      "Clicks:\n",
      "Кликов по баннерам с переходами на лендинг: 33182\n",
      "Кликов с ea 'click_banner' по баннерам и с переходом на лендинг в s_m_business: 999\n"
     ]
    }
   ],
   "source": [
    "print(\"Всего юзеров главнй страницы s_m_business:\", cid_all_cnt)\n",
    "print(\"Юзеров с кликами по баннерам и с переходом на лендинг в s_m_business:\", cid_click_lend_cnt)\n",
    "print(\"Юзеров с ea 'click_banner' по баннерам или с переходом на лендинг в s_m_business:\", Ea_click_banner_users_cnt)\n",
    "\n",
    "print(\"Процент юзеров с кликами по баннерам или с переходом на лендинг в s_m_business:\", round(cid_click_lend_cnt/cid_all_cnt * 100, 2), '%')\n",
    "\n",
    "\n",
    "\n",
    "print(\"\\n \\nClicks:\")\n",
    "print(\"Кликов по баннерам с переходами на лендинг:\", all_clicks_banner)\n",
    "print(\"Кликов с ea 'click_banner' по баннерам и с переходом на лендинг в s_m_business:\", Ea_click_banner_cnt)"
   ]
  },
  {
   "cell_type": "markdown",
   "metadata": {},
   "source": [
    "Сколько событий click_any и click_banner"
   ]
  },
  {
   "cell_type": "code",
   "execution_count": 240,
   "metadata": {},
   "outputs": [
    {
     "data": {
      "text/plain": [
       "318758"
      ]
     },
     "execution_count": 240,
     "metadata": {},
     "output_type": "execute_result"
    }
   ],
   "source": [
    "visit_smb.filter(banner_click_any_cond).count()"
   ]
  },
  {
   "cell_type": "code",
   "execution_count": 241,
   "metadata": {},
   "outputs": [
    {
     "data": {
      "text/plain": [
       "999"
      ]
     },
     "execution_count": 241,
     "metadata": {},
     "output_type": "execute_result"
    }
   ],
   "source": [
    "visit_smb.filter(banner_click_cond).count()"
   ]
  },
  {
   "cell_type": "markdown",
   "metadata": {},
   "source": [
    "###### на примере баннера по эквайрингу "
   ]
  },
  {
   "cell_type": "markdown",
   "metadata": {},
   "source": [
    "Потыкал в эквайринг в баннерной карусели и посмотрел на возможные хиты"
   ]
  },
  {
   "cell_type": "code",
   "execution_count": 242,
   "metadata": {
    "collapsed": true,
    "jupyter": {
     "outputs_hidden": true
    }
   },
   "outputs": [],
   "source": [
    "equaring_click_cnt = visit_smb.filter(banner_click_cond).filter(\"eventLabel like '%эква'\").count()\n",
    "near_equaring_click_cnt = visit_smb.filter(banner_any_cond).filter(\"eventLabel like 'Промотариф на эква%3-n9%'\").count()"
   ]
  },
  {
   "cell_type": "code",
   "execution_count": 243,
   "metadata": {},
   "outputs": [
    {
     "name": "stdout",
     "output_type": "stream",
     "text": [
      "Кликов на кнопку подробнее по эквайренгу в каруселе s_m_business: 0\n",
      "Кликов рядом с областью по эквайрингу в s_m_business: 216\n"
     ]
    }
   ],
   "source": [
    "print(\"Кликов на кнопку подробнее по эквайренгу в каруселе s_m_business:\", equaring_click_cnt)\n",
    "print(\"Кликов рядом с областью по эквайрингу в s_m_business:\", near_equaring_click_cnt)"
   ]
  },
  {
   "cell_type": "code",
   "execution_count": 244,
   "metadata": {},
   "outputs": [
    {
     "data": {
      "text/html": [
       "<div>\n",
       "<style scoped>\n",
       "    .dataframe tbody tr th:only-of-type {\n",
       "        vertical-align: middle;\n",
       "    }\n",
       "\n",
       "    .dataframe tbody tr th {\n",
       "        vertical-align: top;\n",
       "    }\n",
       "\n",
       "    .dataframe thead th {\n",
       "        text-align: right;\n",
       "    }\n",
       "</style>\n",
       "<table border=\"1\" class=\"dataframe\">\n",
       "  <thead>\n",
       "    <tr style=\"text-align: right;\">\n",
       "      <th></th>\n",
       "      <th>cid</th>\n",
       "      <th>sessionId</th>\n",
       "      <th>timestamp</th>\n",
       "      <th>hitPagePath</th>\n",
       "      <th>eventAction</th>\n",
       "      <th>eventLabel</th>\n",
       "      <th>sessionDate</th>\n",
       "    </tr>\n",
       "  </thead>\n",
       "  <tbody>\n",
       "    <tr>\n",
       "      <th>0</th>\n",
       "      <td>1296166882.1591263875</td>\n",
       "      <td>1624217572</td>\n",
       "      <td>1624217609</td>\n",
       "      <td>/ru/s_m_business</td>\n",
       "      <td>click_banner</td>\n",
       "      <td>2_Переводы физлицам до 300 000 ₽ — бесплатно для ИП</td>\n",
       "      <td>2021-06-20</td>\n",
       "    </tr>\n",
       "    <tr>\n",
       "      <th>1</th>\n",
       "      <td>1307621448.1624178558</td>\n",
       "      <td>1624178461</td>\n",
       "      <td>1624178475</td>\n",
       "      <td>/ru/s_m_business</td>\n",
       "      <td>click_banner</td>\n",
       "      <td>1_Участвуйте в проекте СберРядом</td>\n",
       "      <td>2021-06-20</td>\n",
       "    </tr>\n",
       "    <tr>\n",
       "      <th>2</th>\n",
       "      <td>791870807.1591277959</td>\n",
       "      <td>1624097385</td>\n",
       "      <td>1624097470</td>\n",
       "      <td>/ru/s_m_business</td>\n",
       "      <td>click_banner</td>\n",
       "      <td>2_Переводы физлицам до 300 000 ₽ — бесплатно для ИП</td>\n",
       "      <td>2021-06-19</td>\n",
       "    </tr>\n",
       "    <tr>\n",
       "      <th>3</th>\n",
       "      <td>269217489.1602075502</td>\n",
       "      <td>1624180412</td>\n",
       "      <td>1624180518</td>\n",
       "      <td>/ru/s_m_business</td>\n",
       "      <td>click_banner</td>\n",
       "      <td>1_Участвуйте в проекте СберРядом</td>\n",
       "      <td>2021-06-20</td>\n",
       "    </tr>\n",
       "    <tr>\n",
       "      <th>4</th>\n",
       "      <td>116554582.1622060197</td>\n",
       "      <td>1624139757</td>\n",
       "      <td>1624141397</td>\n",
       "      <td>/ru/s_m_business</td>\n",
       "      <td>click_banner</td>\n",
       "      <td>4_Промотариф на эквайринг</td>\n",
       "      <td>2021-06-20</td>\n",
       "    </tr>\n",
       "    <tr>\n",
       "      <th>5</th>\n",
       "      <td>1574162090.1620230756</td>\n",
       "      <td>1624109302</td>\n",
       "      <td>1624109308</td>\n",
       "      <td>/ru/s_m_business</td>\n",
       "      <td>click_banner</td>\n",
       "      <td>1_Участвуйте в проекте СберРядом</td>\n",
       "      <td>2021-06-19</td>\n",
       "    </tr>\n",
       "    <tr>\n",
       "      <th>6</th>\n",
       "      <td>390000491.1623156761</td>\n",
       "      <td>1624107901</td>\n",
       "      <td>1624108155</td>\n",
       "      <td>/ru/s_m_business</td>\n",
       "      <td>click_banner</td>\n",
       "      <td>3_Онлайн-кредит для бизнеса</td>\n",
       "      <td>2021-06-19</td>\n",
       "    </tr>\n",
       "    <tr>\n",
       "      <th>7</th>\n",
       "      <td>244498060.1620665908</td>\n",
       "      <td>1624078579</td>\n",
       "      <td>1624081351</td>\n",
       "      <td>/ru/s_m_business</td>\n",
       "      <td>click_banner</td>\n",
       "      <td>1_Участвуйте в проекте СберРядом</td>\n",
       "      <td>2021-06-19</td>\n",
       "    </tr>\n",
       "    <tr>\n",
       "      <th>8</th>\n",
       "      <td>1403937606.1622275797</td>\n",
       "      <td>1624128964</td>\n",
       "      <td>1624131054</td>\n",
       "      <td>/ru/s_m_business</td>\n",
       "      <td>click_banner</td>\n",
       "      <td>1_Участвуйте в проекте СберРядом</td>\n",
       "      <td>2021-06-19</td>\n",
       "    </tr>\n",
       "    <tr>\n",
       "      <th>9</th>\n",
       "      <td>1403937606.1622275797</td>\n",
       "      <td>1624128964</td>\n",
       "      <td>1624131088</td>\n",
       "      <td>/ru/s_m_business</td>\n",
       "      <td>click_banner</td>\n",
       "      <td>2_Переводы физлицам до 300 000 ₽ — бесплатно для ИП</td>\n",
       "      <td>2021-06-19</td>\n",
       "    </tr>\n",
       "  </tbody>\n",
       "</table>\n",
       "</div>"
      ],
      "text/plain": [
       "                     cid   sessionId   timestamp       hitPagePath  \\\n",
       "0  1296166882.1591263875  1624217572  1624217609  /ru/s_m_business   \n",
       "1  1307621448.1624178558  1624178461  1624178475  /ru/s_m_business   \n",
       "2   791870807.1591277959  1624097385  1624097470  /ru/s_m_business   \n",
       "3   269217489.1602075502  1624180412  1624180518  /ru/s_m_business   \n",
       "4   116554582.1622060197  1624139757  1624141397  /ru/s_m_business   \n",
       "5  1574162090.1620230756  1624109302  1624109308  /ru/s_m_business   \n",
       "6   390000491.1623156761  1624107901  1624108155  /ru/s_m_business   \n",
       "7   244498060.1620665908  1624078579  1624081351  /ru/s_m_business   \n",
       "8  1403937606.1622275797  1624128964  1624131054  /ru/s_m_business   \n",
       "9  1403937606.1622275797  1624128964  1624131088  /ru/s_m_business   \n",
       "\n",
       "    eventAction                                           eventLabel  \\\n",
       "0  click_banner  2_Переводы физлицам до 300 000 ₽ — бесплатно для ИП   \n",
       "1  click_banner                     1_Участвуйте в проекте СберРядом   \n",
       "2  click_banner  2_Переводы физлицам до 300 000 ₽ — бесплатно для ИП   \n",
       "3  click_banner                     1_Участвуйте в проекте СберРядом   \n",
       "4  click_banner                            4_Промотариф на эквайринг   \n",
       "5  click_banner                     1_Участвуйте в проекте СберРядом   \n",
       "6  click_banner                          3_Онлайн-кредит для бизнеса   \n",
       "7  click_banner                     1_Участвуйте в проекте СберРядом   \n",
       "8  click_banner                     1_Участвуйте в проекте СберРядом   \n",
       "9  click_banner  2_Переводы физлицам до 300 000 ₽ — бесплатно для ИП   \n",
       "\n",
       "  sessionDate  \n",
       "0  2021-06-20  \n",
       "1  2021-06-20  \n",
       "2  2021-06-19  \n",
       "3  2021-06-20  \n",
       "4  2021-06-20  \n",
       "5  2021-06-19  \n",
       "6  2021-06-19  \n",
       "7  2021-06-19  \n",
       "8  2021-06-19  \n",
       "9  2021-06-19  "
      ]
     },
     "execution_count": 244,
     "metadata": {},
     "output_type": "execute_result"
    }
   ],
   "source": [
    "visit_smb.filter(banner_click_cond).show()"
   ]
  },
  {
   "cell_type": "markdown",
   "metadata": {},
   "source": [
    "сколько кликов по событиям на странице s_m_business, ведущим на страницу с эквайрингом"
   ]
  },
  {
   "cell_type": "code",
   "execution_count": 245,
   "metadata": {
    "collapsed": true,
    "jupyter": {
     "outputs_hidden": true
    }
   },
   "outputs": [],
   "source": [
    "ecuaring_df = visit_smb_click.filter('''\n",
    "                                           next_state_m2 like '%/bankingservice/acquiring_total%' \n",
    "                                        OR next_state_m1 like '%/bankingservice/acquiring_total%' \n",
    "                                     ''' )"
   ]
  },
  {
   "cell_type": "code",
   "execution_count": 246,
   "metadata": {},
   "outputs": [
    {
     "data": {
      "text/plain": [
       "1719"
      ]
     },
     "execution_count": 246,
     "metadata": {},
     "output_type": "execute_result"
    }
   ],
   "source": [
    "ecuaring_df.count()"
   ]
  },
  {
   "cell_type": "code",
   "execution_count": null,
   "metadata": {},
   "outputs": [],
   "source": [
    "ecuaring_df.show(5)"
   ]
  },
  {
   "cell_type": "markdown",
   "metadata": {},
   "source": [
    "Посмотрел, как на главной странице выглядит переход по ссылке на эквайринг через гиперссылку"
   ]
  },
  {
   "cell_type": "code",
   "execution_count": 248,
   "metadata": {},
   "outputs": [
    {
     "data": {
      "text/plain": [
       "127"
      ]
     },
     "execution_count": 248,
     "metadata": {},
     "output_type": "execute_result"
    }
   ],
   "source": [
    "ecuaring_df.filter(\"eventLabel like 'эквайринг_'\").count()"
   ]
  },
  {
   "cell_type": "code",
   "execution_count": null,
   "metadata": {},
   "outputs": [],
   "source": [
    "ecuaring_df.filter(\"eventLabel like 'эквайринг_'\").show()"
   ]
  }
 ],
 "metadata": {
  "kernelspec": {
   "display_name": "Python 3 (ipykernel)",
   "language": "python",
   "name": "python3"
  },
  "language_info": {
   "codemirror_mode": {
    "name": "ipython",
    "version": 3
   },
   "file_extension": ".py",
   "mimetype": "text/x-python",
   "name": "python",
   "nbconvert_exporter": "python",
   "pygments_lexer": "ipython3",
   "version": "3.9.12"
  }
 },
 "nbformat": 4,
 "nbformat_minor": 4
}
