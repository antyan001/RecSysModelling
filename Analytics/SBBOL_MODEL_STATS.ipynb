{
 "cells": [
  {
   "cell_type": "code",
   "execution_count": 1,
   "metadata": {
    "collapsed": true
   },
   "outputs": [],
   "source": [
    "import os, sys\n",
    "\n",
    "recsys_cf = os.environ.get(\"RECSYS_STORY\")\n",
    "sys.path.append(recsys_cf)\n",
    "os.chdir(recsys_cf)\n",
    "\n",
    "from lib.tools import *"
   ]
  },
  {
   "cell_type": "code",
   "execution_count": 16,
   "metadata": {
    "collapsed": true
   },
   "outputs": [],
   "source": [
    "import loader as load"
   ]
  },
  {
   "cell_type": "code",
   "execution_count": 2,
   "metadata": {},
   "outputs": [
    {
     "data": {
      "text/plain": [
       "{'kerberos_auth': True,\n",
       " 'numofcores': 9,\n",
       " 'numofinstances': 9,\n",
       " 'process_label': 'RECSYS_STORY',\n",
       " 'replication_num': 1}"
      ]
     },
     "execution_count": 2,
     "metadata": {},
     "output_type": "execute_result"
    }
   ],
   "source": [
    "SPARK_CONFIG"
   ]
  },
  {
   "cell_type": "markdown",
   "metadata": {},
   "source": [
    "# Spark "
   ]
  },
  {
   "cell_type": "code",
   "execution_count": 3,
   "metadata": {
    "collapsed": true
   },
   "outputs": [],
   "source": [
    "sp = spark(**SPARK_CONFIG)\n",
    "hive = sp.sql"
   ]
  },
  {
   "cell_type": "markdown",
   "metadata": {},
   "source": [
    "# Cheking oracle table "
   ]
  },
  {
   "cell_type": "code",
   "execution_count": 17,
   "metadata": {},
   "outputs": [],
   "source": [
    "ld=load.Loader(init_dsn=True, encoding='cp1251',  sep=',')\n",
    "db = load.OracleDB('tech_iskra[iskra]', 'Uthvfy123', ld._get_dsn('iskra4')) \n",
    "db.connect()"
   ]
  },
  {
   "cell_type": "code",
   "execution_count": 18,
   "metadata": {},
   "outputs": [
    {
     "data": {
      "text/plain": [
       "<loader.OracleDB at 0x7efe7facb240>"
      ]
     },
     "execution_count": 18,
     "metadata": {},
     "output_type": "execute_result"
    }
   ],
   "source": [
    "db"
   ]
  },
  {
   "cell_type": "code",
   "execution_count": 19,
   "metadata": {
    "collapsed": true
   },
   "outputs": [],
   "source": [
    "table_name = 'recsys_story_asup_ratings'"
   ]
  },
  {
   "cell_type": "code",
   "execution_count": 20,
   "metadata": {
    "collapsed": true
   },
   "outputs": [],
   "source": [
    "ISKRA_TABLE = table_name\n",
    "\n",
    "query = '''\n",
    "select /*+ parallel (8) */\n",
    "          *\n",
    "FROM {}\n",
    "where inn is not Null\n",
    "and rownum <= 10000\n",
    "'''.format(ISKRA_TABLE)\n",
    "df = pd.read_sql(query, con=db.connection)"
   ]
  },
  {
   "cell_type": "code",
   "execution_count": 88,
   "metadata": {},
   "outputs": [
    {
     "data": {
      "text/plain": [
       "<cx_Oracle.Connection to tech_iskra[iskra]@(DESCRIPTION=(ADDRESS=(PROTOCOL=TCP)(HOST=10.112.79.164)(PORT=1521))(CONNECT_DATA=(SID=iskra4)))>"
      ]
     },
     "execution_count": 88,
     "metadata": {},
     "output_type": "execute_result"
    }
   ],
   "source": [
    "db.connection"
   ]
  },
  {
   "cell_type": "code",
   "execution_count": 21,
   "metadata": {},
   "outputs": [
    {
     "data": {
      "text/html": [
       "<div>\n",
       "<style scoped>\n",
       "    .dataframe tbody tr th:only-of-type {\n",
       "        vertical-align: middle;\n",
       "    }\n",
       "\n",
       "    .dataframe tbody tr th {\n",
       "        vertical-align: top;\n",
       "    }\n",
       "\n",
       "    .dataframe thead th {\n",
       "        text-align: right;\n",
       "    }\n",
       "</style>\n",
       "<table border=\"1\" class=\"dataframe\">\n",
       "  <thead>\n",
       "    <tr style=\"text-align: right;\">\n",
       "      <th></th>\n",
       "      <th>INN</th>\n",
       "      <th>KORPKARTA</th>\n",
       "      <th>E_INV</th>\n",
       "      <th>RABOTA_RU</th>\n",
       "      <th>MERCHANT_ACQUIRING</th>\n",
       "      <th>E_ACQUIRING</th>\n",
       "      <th>KREDIT</th>\n",
       "      <th>CREDIT_CARD</th>\n",
       "      <th>BIP</th>\n",
       "      <th>ZARPLATA</th>\n",
       "      <th>LYURIST</th>\n",
       "      <th>SBERRATING</th>\n",
       "      <th>SPPU</th>\n",
       "      <th>CUSTOMWARRANTY</th>\n",
       "      <th>MYBUCH_ONLINE_SSO</th>\n",
       "      <th>SMS</th>\n",
       "      <th>TIME2PAY</th>\n",
       "      <th>SAMOINKASS</th>\n",
       "      <th>DEPOSIT</th>\n",
       "      <th>CASHORDER</th>\n",
       "      <th>LEASING</th>\n",
       "      <th>LOYALTY_BUSINESS</th>\n",
       "      <th>EVOTOR</th>\n",
       "      <th>INVOICE</th>\n",
       "      <th>BKI</th>\n",
       "      <th>...</th>\n",
       "      <th>MARKETS</th>\n",
       "      <th>PROPERTY_MANAGEMENT</th>\n",
       "      <th>DISTRESSED_ASSETS</th>\n",
       "      <th>STRUCTURALDEPOSITRANGEACCRUAL</th>\n",
       "      <th>OFD_PLATFORMA</th>\n",
       "      <th>SBER_BUSINESS_BOT</th>\n",
       "      <th>COOPERATEONLINE</th>\n",
       "      <th>E_INV_ARCHIVE</th>\n",
       "      <th>BESTBUSINESSP</th>\n",
       "      <th>PACKAGES</th>\n",
       "      <th>TAXFREE</th>\n",
       "      <th>CURRENCY_CONTROL_NOTIFICATIONS</th>\n",
       "      <th>INSALES</th>\n",
       "      <th>DCDGM</th>\n",
       "      <th>CUSTOMS_DUTIES</th>\n",
       "      <th>GOS_OBORON_ZAKAZ</th>\n",
       "      <th>DERIVATIVES</th>\n",
       "      <th>CREDIT_INSURANCE</th>\n",
       "      <th>BROKERAGE</th>\n",
       "      <th>SBER_TARGET</th>\n",
       "      <th>METRICS</th>\n",
       "      <th>DEPOSITDUALCURRENCY</th>\n",
       "      <th>CONTCHECK</th>\n",
       "      <th>CASH_INSURANCE</th>\n",
       "      <th>LOAD_DT</th>\n",
       "    </tr>\n",
       "  </thead>\n",
       "  <tbody>\n",
       "    <tr>\n",
       "      <th>0</th>\n",
       "      <td>3662221896</td>\n",
       "      <td>0.731059</td>\n",
       "      <td>0.660728</td>\n",
       "      <td>0.681793</td>\n",
       "      <td>0.618091</td>\n",
       "      <td>0.614184</td>\n",
       "      <td>0.596907</td>\n",
       "      <td>0.593953</td>\n",
       "      <td>0.615717</td>\n",
       "      <td>0.583606</td>\n",
       "      <td>0.587329</td>\n",
       "      <td>0.563865</td>\n",
       "      <td>0.570781</td>\n",
       "      <td>0.533745</td>\n",
       "      <td>0.545147</td>\n",
       "      <td>0.534479</td>\n",
       "      <td>0.537019</td>\n",
       "      <td>0.528876</td>\n",
       "      <td>0.530532</td>\n",
       "      <td>0.529033</td>\n",
       "      <td>0.547879</td>\n",
       "      <td>0.526002</td>\n",
       "      <td>0.522353</td>\n",
       "      <td>0.523512</td>\n",
       "      <td>0.521486</td>\n",
       "      <td>...</td>\n",
       "      <td>0.502069</td>\n",
       "      <td>0.501334</td>\n",
       "      <td>0.502550</td>\n",
       "      <td>0.502155</td>\n",
       "      <td>0.501424</td>\n",
       "      <td>0.502664</td>\n",
       "      <td>0.501396</td>\n",
       "      <td>0.501272</td>\n",
       "      <td>0.501195</td>\n",
       "      <td>0.500204</td>\n",
       "      <td>0.500156</td>\n",
       "      <td>0.501182</td>\n",
       "      <td>0.503405</td>\n",
       "      <td>0.500050</td>\n",
       "      <td>0.500606</td>\n",
       "      <td>0.500117</td>\n",
       "      <td>0.500297</td>\n",
       "      <td>0.500172</td>\n",
       "      <td>0.500121</td>\n",
       "      <td>0.501552</td>\n",
       "      <td>None</td>\n",
       "      <td>None</td>\n",
       "      <td>0.500000</td>\n",
       "      <td>None</td>\n",
       "      <td>2021-10-05</td>\n",
       "    </tr>\n",
       "    <tr>\n",
       "      <th>1</th>\n",
       "      <td>3662251026</td>\n",
       "      <td>0.731059</td>\n",
       "      <td>0.660716</td>\n",
       "      <td>0.681762</td>\n",
       "      <td>0.618019</td>\n",
       "      <td>0.614095</td>\n",
       "      <td>0.596616</td>\n",
       "      <td>0.593721</td>\n",
       "      <td>0.615692</td>\n",
       "      <td>0.583490</td>\n",
       "      <td>0.587250</td>\n",
       "      <td>0.563625</td>\n",
       "      <td>0.570630</td>\n",
       "      <td>0.533663</td>\n",
       "      <td>0.544990</td>\n",
       "      <td>0.534279</td>\n",
       "      <td>0.536864</td>\n",
       "      <td>0.528661</td>\n",
       "      <td>0.530368</td>\n",
       "      <td>0.528898</td>\n",
       "      <td>0.547728</td>\n",
       "      <td>0.525816</td>\n",
       "      <td>0.522173</td>\n",
       "      <td>0.523345</td>\n",
       "      <td>0.521150</td>\n",
       "      <td>...</td>\n",
       "      <td>0.501856</td>\n",
       "      <td>0.501264</td>\n",
       "      <td>0.502337</td>\n",
       "      <td>0.501957</td>\n",
       "      <td>0.501264</td>\n",
       "      <td>0.502419</td>\n",
       "      <td>0.501207</td>\n",
       "      <td>0.501110</td>\n",
       "      <td>0.501006</td>\n",
       "      <td>0.500220</td>\n",
       "      <td>0.500139</td>\n",
       "      <td>0.500985</td>\n",
       "      <td>0.503144</td>\n",
       "      <td>0.500066</td>\n",
       "      <td>0.500496</td>\n",
       "      <td>0.500122</td>\n",
       "      <td>0.500247</td>\n",
       "      <td>0.500137</td>\n",
       "      <td>0.500120</td>\n",
       "      <td>0.501349</td>\n",
       "      <td>None</td>\n",
       "      <td>None</td>\n",
       "      <td>0.500000</td>\n",
       "      <td>None</td>\n",
       "      <td>2021-10-05</td>\n",
       "    </tr>\n",
       "    <tr>\n",
       "      <th>2</th>\n",
       "      <td>366310803686</td>\n",
       "      <td>0.731059</td>\n",
       "      <td>0.660737</td>\n",
       "      <td>0.681816</td>\n",
       "      <td>0.618154</td>\n",
       "      <td>0.614266</td>\n",
       "      <td>0.597111</td>\n",
       "      <td>0.594116</td>\n",
       "      <td>0.615744</td>\n",
       "      <td>0.583701</td>\n",
       "      <td>0.587387</td>\n",
       "      <td>0.564055</td>\n",
       "      <td>0.570923</td>\n",
       "      <td>0.533806</td>\n",
       "      <td>0.545282</td>\n",
       "      <td>0.534646</td>\n",
       "      <td>0.537137</td>\n",
       "      <td>0.529065</td>\n",
       "      <td>0.530673</td>\n",
       "      <td>0.529139</td>\n",
       "      <td>0.547989</td>\n",
       "      <td>0.526144</td>\n",
       "      <td>0.522504</td>\n",
       "      <td>0.523658</td>\n",
       "      <td>0.521746</td>\n",
       "      <td>...</td>\n",
       "      <td>0.502249</td>\n",
       "      <td>0.501377</td>\n",
       "      <td>0.502726</td>\n",
       "      <td>0.502322</td>\n",
       "      <td>0.501565</td>\n",
       "      <td>0.502875</td>\n",
       "      <td>0.501552</td>\n",
       "      <td>0.501410</td>\n",
       "      <td>0.501346</td>\n",
       "      <td>0.500162</td>\n",
       "      <td>0.500171</td>\n",
       "      <td>0.501355</td>\n",
       "      <td>0.503621</td>\n",
       "      <td>0.500038</td>\n",
       "      <td>0.500701</td>\n",
       "      <td>0.500097</td>\n",
       "      <td>0.500339</td>\n",
       "      <td>0.500191</td>\n",
       "      <td>0.500107</td>\n",
       "      <td>0.501721</td>\n",
       "      <td>None</td>\n",
       "      <td>None</td>\n",
       "      <td>0.500000</td>\n",
       "      <td>None</td>\n",
       "      <td>2021-10-05</td>\n",
       "    </tr>\n",
       "    <tr>\n",
       "      <th>3</th>\n",
       "      <td>366326312651</td>\n",
       "      <td>0.731059</td>\n",
       "      <td>0.660665</td>\n",
       "      <td>0.681617</td>\n",
       "      <td>0.617714</td>\n",
       "      <td>0.613722</td>\n",
       "      <td>0.595308</td>\n",
       "      <td>0.592683</td>\n",
       "      <td>0.615613</td>\n",
       "      <td>0.582986</td>\n",
       "      <td>0.586909</td>\n",
       "      <td>0.562553</td>\n",
       "      <td>0.569983</td>\n",
       "      <td>0.533301</td>\n",
       "      <td>0.544326</td>\n",
       "      <td>0.533408</td>\n",
       "      <td>0.536172</td>\n",
       "      <td>0.527738</td>\n",
       "      <td>0.529619</td>\n",
       "      <td>0.528299</td>\n",
       "      <td>0.547060</td>\n",
       "      <td>0.524997</td>\n",
       "      <td>0.521405</td>\n",
       "      <td>0.522637</td>\n",
       "      <td>0.519659</td>\n",
       "      <td>...</td>\n",
       "      <td>0.500916</td>\n",
       "      <td>0.500971</td>\n",
       "      <td>0.501406</td>\n",
       "      <td>0.501080</td>\n",
       "      <td>0.500591</td>\n",
       "      <td>0.501358</td>\n",
       "      <td>0.500394</td>\n",
       "      <td>0.500420</td>\n",
       "      <td>0.500186</td>\n",
       "      <td>0.500321</td>\n",
       "      <td>0.500070</td>\n",
       "      <td>0.500074</td>\n",
       "      <td>0.502010</td>\n",
       "      <td>0.500138</td>\n",
       "      <td>0.500000</td>\n",
       "      <td>0.500138</td>\n",
       "      <td>0.500016</td>\n",
       "      <td>0.500005</td>\n",
       "      <td>0.500127</td>\n",
       "      <td>0.500476</td>\n",
       "      <td>None</td>\n",
       "      <td>None</td>\n",
       "      <td>0.500058</td>\n",
       "      <td>None</td>\n",
       "      <td>2021-10-05</td>\n",
       "    </tr>\n",
       "    <tr>\n",
       "      <th>4</th>\n",
       "      <td>366408690076</td>\n",
       "      <td>0.731059</td>\n",
       "      <td>0.660671</td>\n",
       "      <td>0.681659</td>\n",
       "      <td>0.617803</td>\n",
       "      <td>0.613834</td>\n",
       "      <td>0.595751</td>\n",
       "      <td>0.593028</td>\n",
       "      <td>0.615618</td>\n",
       "      <td>0.583139</td>\n",
       "      <td>0.587001</td>\n",
       "      <td>0.562905</td>\n",
       "      <td>0.570189</td>\n",
       "      <td>0.533386</td>\n",
       "      <td>0.544528</td>\n",
       "      <td>0.533683</td>\n",
       "      <td>0.536379</td>\n",
       "      <td>0.528033</td>\n",
       "      <td>0.529847</td>\n",
       "      <td>0.528471</td>\n",
       "      <td>0.547260</td>\n",
       "      <td>0.525249</td>\n",
       "      <td>0.521641</td>\n",
       "      <td>0.522850</td>\n",
       "      <td>0.520154</td>\n",
       "      <td>...</td>\n",
       "      <td>0.501207</td>\n",
       "      <td>0.501028</td>\n",
       "      <td>0.501694</td>\n",
       "      <td>0.501349</td>\n",
       "      <td>0.500789</td>\n",
       "      <td>0.501696</td>\n",
       "      <td>0.500641</td>\n",
       "      <td>0.500623</td>\n",
       "      <td>0.500434</td>\n",
       "      <td>0.500235</td>\n",
       "      <td>0.500044</td>\n",
       "      <td>0.500350</td>\n",
       "      <td>0.502375</td>\n",
       "      <td>0.500060</td>\n",
       "      <td>0.500128</td>\n",
       "      <td>0.500078</td>\n",
       "      <td>0.500048</td>\n",
       "      <td>0.500001</td>\n",
       "      <td>0.500073</td>\n",
       "      <td>0.500745</td>\n",
       "      <td>None</td>\n",
       "      <td>None</td>\n",
       "      <td>0.500000</td>\n",
       "      <td>None</td>\n",
       "      <td>2021-10-05</td>\n",
       "    </tr>\n",
       "  </tbody>\n",
       "</table>\n",
       "<p>5 rows × 93 columns</p>\n",
       "</div>"
      ],
      "text/plain": [
       "            INN  KORPKARTA     E_INV  RABOTA_RU  MERCHANT_ACQUIRING  \\\n",
       "0    3662221896   0.731059  0.660728   0.681793            0.618091   \n",
       "1    3662251026   0.731059  0.660716   0.681762            0.618019   \n",
       "2  366310803686   0.731059  0.660737   0.681816            0.618154   \n",
       "3  366326312651   0.731059  0.660665   0.681617            0.617714   \n",
       "4  366408690076   0.731059  0.660671   0.681659            0.617803   \n",
       "\n",
       "   E_ACQUIRING    KREDIT  CREDIT_CARD       BIP  ZARPLATA   LYURIST  \\\n",
       "0     0.614184  0.596907     0.593953  0.615717  0.583606  0.587329   \n",
       "1     0.614095  0.596616     0.593721  0.615692  0.583490  0.587250   \n",
       "2     0.614266  0.597111     0.594116  0.615744  0.583701  0.587387   \n",
       "3     0.613722  0.595308     0.592683  0.615613  0.582986  0.586909   \n",
       "4     0.613834  0.595751     0.593028  0.615618  0.583139  0.587001   \n",
       "\n",
       "   SBERRATING      SPPU  CUSTOMWARRANTY  MYBUCH_ONLINE_SSO       SMS  \\\n",
       "0    0.563865  0.570781        0.533745           0.545147  0.534479   \n",
       "1    0.563625  0.570630        0.533663           0.544990  0.534279   \n",
       "2    0.564055  0.570923        0.533806           0.545282  0.534646   \n",
       "3    0.562553  0.569983        0.533301           0.544326  0.533408   \n",
       "4    0.562905  0.570189        0.533386           0.544528  0.533683   \n",
       "\n",
       "   TIME2PAY  SAMOINKASS   DEPOSIT  CASHORDER   LEASING  LOYALTY_BUSINESS  \\\n",
       "0  0.537019    0.528876  0.530532   0.529033  0.547879          0.526002   \n",
       "1  0.536864    0.528661  0.530368   0.528898  0.547728          0.525816   \n",
       "2  0.537137    0.529065  0.530673   0.529139  0.547989          0.526144   \n",
       "3  0.536172    0.527738  0.529619   0.528299  0.547060          0.524997   \n",
       "4  0.536379    0.528033  0.529847   0.528471  0.547260          0.525249   \n",
       "\n",
       "     EVOTOR   INVOICE       BKI  ...   MARKETS  PROPERTY_MANAGEMENT  \\\n",
       "0  0.522353  0.523512  0.521486  ...  0.502069             0.501334   \n",
       "1  0.522173  0.523345  0.521150  ...  0.501856             0.501264   \n",
       "2  0.522504  0.523658  0.521746  ...  0.502249             0.501377   \n",
       "3  0.521405  0.522637  0.519659  ...  0.500916             0.500971   \n",
       "4  0.521641  0.522850  0.520154  ...  0.501207             0.501028   \n",
       "\n",
       "   DISTRESSED_ASSETS  STRUCTURALDEPOSITRANGEACCRUAL  OFD_PLATFORMA  \\\n",
       "0           0.502550                       0.502155       0.501424   \n",
       "1           0.502337                       0.501957       0.501264   \n",
       "2           0.502726                       0.502322       0.501565   \n",
       "3           0.501406                       0.501080       0.500591   \n",
       "4           0.501694                       0.501349       0.500789   \n",
       "\n",
       "   SBER_BUSINESS_BOT  COOPERATEONLINE  E_INV_ARCHIVE  BESTBUSINESSP  PACKAGES  \\\n",
       "0           0.502664         0.501396       0.501272       0.501195  0.500204   \n",
       "1           0.502419         0.501207       0.501110       0.501006  0.500220   \n",
       "2           0.502875         0.501552       0.501410       0.501346  0.500162   \n",
       "3           0.501358         0.500394       0.500420       0.500186  0.500321   \n",
       "4           0.501696         0.500641       0.500623       0.500434  0.500235   \n",
       "\n",
       "    TAXFREE  CURRENCY_CONTROL_NOTIFICATIONS   INSALES     DCDGM  \\\n",
       "0  0.500156                        0.501182  0.503405  0.500050   \n",
       "1  0.500139                        0.500985  0.503144  0.500066   \n",
       "2  0.500171                        0.501355  0.503621  0.500038   \n",
       "3  0.500070                        0.500074  0.502010  0.500138   \n",
       "4  0.500044                        0.500350  0.502375  0.500060   \n",
       "\n",
       "   CUSTOMS_DUTIES  GOS_OBORON_ZAKAZ  DERIVATIVES  CREDIT_INSURANCE  BROKERAGE  \\\n",
       "0        0.500606          0.500117     0.500297          0.500172   0.500121   \n",
       "1        0.500496          0.500122     0.500247          0.500137   0.500120   \n",
       "2        0.500701          0.500097     0.500339          0.500191   0.500107   \n",
       "3        0.500000          0.500138     0.500016          0.500005   0.500127   \n",
       "4        0.500128          0.500078     0.500048          0.500001   0.500073   \n",
       "\n",
       "   SBER_TARGET  METRICS  DEPOSITDUALCURRENCY  CONTCHECK  CASH_INSURANCE  \\\n",
       "0     0.501552     None                 None   0.500000            None   \n",
       "1     0.501349     None                 None   0.500000            None   \n",
       "2     0.501721     None                 None   0.500000            None   \n",
       "3     0.500476     None                 None   0.500058            None   \n",
       "4     0.500745     None                 None   0.500000            None   \n",
       "\n",
       "      LOAD_DT  \n",
       "0  2021-10-05  \n",
       "1  2021-10-05  \n",
       "2  2021-10-05  \n",
       "3  2021-10-05  \n",
       "4  2021-10-05  \n",
       "\n",
       "[5 rows x 93 columns]"
      ]
     },
     "execution_count": 21,
     "metadata": {},
     "output_type": "execute_result"
    }
   ],
   "source": [
    "df.head()"
   ]
  },
  {
   "cell_type": "code",
   "execution_count": 22,
   "metadata": {
    "collapsed": true
   },
   "outputs": [],
   "source": [
    "query = '''\n",
    "select max(LOAD_DT) AS MAX_DATE\n",
    "FROM {}\n",
    "where inn is not Null\n",
    "'''.format(ISKRA_TABLE)"
   ]
  },
  {
   "cell_type": "code",
   "execution_count": 23,
   "metadata": {},
   "outputs": [],
   "source": [
    "max_date_pd = pd.read_sql(query, con=db.connection)"
   ]
  },
  {
   "cell_type": "code",
   "execution_count": 24,
   "metadata": {},
   "outputs": [
    {
     "data": {
      "text/html": [
       "<div>\n",
       "<style scoped>\n",
       "    .dataframe tbody tr th:only-of-type {\n",
       "        vertical-align: middle;\n",
       "    }\n",
       "\n",
       "    .dataframe tbody tr th {\n",
       "        vertical-align: top;\n",
       "    }\n",
       "\n",
       "    .dataframe thead th {\n",
       "        text-align: right;\n",
       "    }\n",
       "</style>\n",
       "<table border=\"1\" class=\"dataframe\">\n",
       "  <thead>\n",
       "    <tr style=\"text-align: right;\">\n",
       "      <th></th>\n",
       "      <th>MAX_DATE</th>\n",
       "    </tr>\n",
       "  </thead>\n",
       "  <tbody>\n",
       "    <tr>\n",
       "      <th>0</th>\n",
       "      <td>2021-10-05</td>\n",
       "    </tr>\n",
       "  </tbody>\n",
       "</table>\n",
       "</div>"
      ],
      "text/plain": [
       "     MAX_DATE\n",
       "0  2021-10-05"
      ]
     },
     "execution_count": 24,
     "metadata": {},
     "output_type": "execute_result"
    }
   ],
   "source": [
    "max_date_pd.head()"
   ]
  },
  {
   "cell_type": "code",
   "execution_count": 32,
   "metadata": {},
   "outputs": [
    {
     "data": {
      "text/plain": [
       "'2021-09-23'"
      ]
     },
     "execution_count": 32,
     "metadata": {},
     "output_type": "execute_result"
    }
   ],
   "source": [
    "'2021-09-23'"
   ]
  },
  {
   "cell_type": "code",
   "execution_count": 28,
   "metadata": {
    "collapsed": true
   },
   "outputs": [],
   "source": [
    "max_date_load = max_date_pd[\"MAX_DATE\"][0]"
   ]
  },
  {
   "cell_type": "code",
   "execution_count": 29,
   "metadata": {},
   "outputs": [
    {
     "data": {
      "text/plain": [
       "'2021-10-05'"
      ]
     },
     "execution_count": 29,
     "metadata": {},
     "output_type": "execute_result"
    }
   ],
   "source": [
    "max_date_load"
   ]
  },
  {
   "cell_type": "code",
   "execution_count": 37,
   "metadata": {
    "collapsed": true
   },
   "outputs": [],
   "source": [
    "max_date_load = '2021-09-23'"
   ]
  },
  {
   "cell_type": "code",
   "execution_count": 38,
   "metadata": {},
   "outputs": [],
   "source": [
    "query_for_inn_cnt = \"\"\"\n",
    "SELECT count(INN) AS INN_CNT\n",
    "FROM {}\n",
    "WHERE inn is not Null\n",
    "  and LOAD_DT = '{}'\n",
    "\"\"\".format(ISKRA_TABLE, max_date_load)"
   ]
  },
  {
   "cell_type": "code",
   "execution_count": 43,
   "metadata": {},
   "outputs": [
    {
     "name": "stdout",
     "output_type": "stream",
     "text": [
      "\n",
      "SELECT count(distinct INN) AS INN_CNT_DIST\n",
      "FROM recsys_story_asup_ratings\n",
      "WHERE inn is not Null\n",
      "  and LOAD_DT = '2021-09-23'\n",
      "\n"
     ]
    }
   ],
   "source": [
    "print(query_for_inn_cnt)"
   ]
  },
  {
   "cell_type": "code",
   "execution_count": 39,
   "metadata": {
    "collapsed": true
   },
   "outputs": [],
   "source": [
    "inn_cnt_dist_pd = pd.read_sql(query_for_inn_cnt, con=db.connection)"
   ]
  },
  {
   "cell_type": "code",
   "execution_count": 40,
   "metadata": {},
   "outputs": [],
   "source": [
    "inn_cnt_dist = inn_cnt_dist_pd[\"INN_CNT\"][0]"
   ]
  },
  {
   "cell_type": "code",
   "execution_count": 41,
   "metadata": {},
   "outputs": [
    {
     "data": {
      "text/plain": [
       "0"
      ]
     },
     "execution_count": 41,
     "metadata": {},
     "output_type": "execute_result"
    }
   ],
   "source": [
    "inn_cnt_dist"
   ]
  },
  {
   "cell_type": "code",
   "execution_count": 48,
   "metadata": {},
   "outputs": [
    {
     "data": {
      "text/plain": [
       "'2021-09-23'"
      ]
     },
     "execution_count": 48,
     "metadata": {},
     "output_type": "execute_result"
    }
   ],
   "source": [
    "max_date_load"
   ]
  },
  {
   "cell_type": "code",
   "execution_count": 16,
   "metadata": {},
   "outputs": [
    {
     "data": {
      "text/plain": [
       "array(['2021-09-23'], dtype=object)"
      ]
     },
     "execution_count": 16,
     "metadata": {},
     "output_type": "execute_result"
    }
   ],
   "source": [
    "np.unique(df['LOAD_DT'])"
   ]
  },
  {
   "cell_type": "markdown",
   "metadata": {},
   "source": [
    "# mail sendler "
   ]
  },
  {
   "cell_type": "code",
   "execution_count": 50,
   "metadata": {
    "collapsed": true
   },
   "outputs": [],
   "source": [
    "from lib.mail_sender import *\n",
    "import json"
   ]
  },
  {
   "cell_type": "code",
   "execution_count": 51,
   "metadata": {
    "collapsed": true
   },
   "outputs": [],
   "source": [
    "EMAIL_SETTINGS_FILE = \"mail_settings/mail_settings.txt\""
   ]
  },
  {
   "cell_type": "code",
   "execution_count": 52,
   "metadata": {
    "collapsed": true
   },
   "outputs": [],
   "source": [
    "with open(EMAIL_SETTINGS_FILE, \"r\") as f:\n",
    "    settings = json.load(f)"
   ]
  },
  {
   "cell_type": "code",
   "execution_count": 59,
   "metadata": {
    "collapsed": true
   },
   "outputs": [],
   "source": [
    "EMAIL_LIST_FILE = \"mail_settings/mail_list.txt\""
   ]
  },
  {
   "cell_type": "code",
   "execution_count": 77,
   "metadata": {
    "collapsed": true
   },
   "outputs": [],
   "source": [
    "with open(EMAIL_LIST_FILE, \"r\") as f:\n",
    "    recivers_str = f.read()\n",
    "    receivers = recivers_str.split('\\n')"
   ]
  },
  {
   "cell_type": "code",
   "execution_count": 78,
   "metadata": {},
   "outputs": [
    {
     "data": {
      "text/plain": [
       "['EIShubochkin@omega.sbrf.ru', 'EIShubochkin@sberbank.ru']"
      ]
     },
     "execution_count": 78,
     "metadata": {},
     "output_type": "execute_result"
    }
   ],
   "source": [
    "receivers"
   ]
  },
  {
   "cell_type": "code",
   "execution_count": null,
   "metadata": {
    "collapsed": true
   },
   "outputs": [],
   "source": []
  },
  {
   "cell_type": "code",
   "execution_count": null,
   "metadata": {
    "collapsed": true
   },
   "outputs": [],
   "source": []
  },
  {
   "cell_type": "code",
   "execution_count": 80,
   "metadata": {
    "collapsed": true
   },
   "outputs": [],
   "source": [
    "msg = \"\"\"\n",
    "ISKRA:\n",
    "Последняя дата загрузки: {}\n",
    "Число уникальных ИНН на последнюю дату: {}\n",
    "\"\"\".format(max_date_load, inn_cnt_dist)"
   ]
  },
  {
   "cell_type": "code",
   "execution_count": 81,
   "metadata": {},
   "outputs": [
    {
     "data": {
      "text/plain": [
       "'\\nISKRA:\\nДата загрузки: 2021-09-23\\nЧисло уникальных ИНН: 1184714\\n'"
      ]
     },
     "execution_count": 81,
     "metadata": {},
     "output_type": "execute_result"
    }
   ],
   "source": [
    "msg"
   ]
  },
  {
   "cell_type": "code",
   "execution_count": 67,
   "metadata": {
    "collapsed": true
   },
   "outputs": [],
   "source": [
    "authorization = Authorization(user=settings[\"user\"], domain='ALPHA', mailbox=settings[\"mailbox\"],\n",
    "                              server='cab-vop-mbx2053.omega.sbrf.ru')"
   ]
  },
  {
   "cell_type": "code",
   "execution_count": 68,
   "metadata": {
    "collapsed": true
   },
   "outputs": [],
   "source": [
    "mail_receiver = MailReceiver(settings[\"password\"], auth_class=authorization)"
   ]
  },
  {
   "cell_type": "code",
   "execution_count": 74,
   "metadata": {},
   "outputs": [],
   "source": [
    "date = datetime.strftime(datetime.today(), format='%Y-%m-%d')"
   ]
  },
  {
   "cell_type": "code",
   "execution_count": 79,
   "metadata": {},
   "outputs": [],
   "source": [
    "mail_receiver.send_message(receivers, 'SBBOL_STORY_RATINGS_STATS {}'.format(date), msg)"
   ]
  },
  {
   "cell_type": "markdown",
   "metadata": {},
   "source": [
    "# Cheking dataset "
   ]
  },
  {
   "cell_type": "code",
   "execution_count": 12,
   "metadata": {},
   "outputs": [],
   "source": [
    "dataset = load_table(SBX_TEAM_DIGITCAMP, ALS_HISTORY_ASUP_RATINGS, hive).cache()"
   ]
  },
  {
   "cell_type": "code",
   "execution_count": 14,
   "metadata": {
    "collapsed": true
   },
   "outputs": [],
   "source": [
    "# drop_table(SBX_TEAM_DIGITCAMP, RECSYS_STORY_DATASET_POSITIVE, hive)"
   ]
  },
  {
   "cell_type": "code",
   "execution_count": null,
   "metadata": {
    "collapsed": true
   },
   "outputs": [],
   "source": [
    "# drop_table(SBX_TEAM_DIGITCAMP, RECSYS_STORY_DATASET_POSITIVE, hive)"
   ]
  },
  {
   "cell_type": "code",
   "execution_count": null,
   "metadata": {
    "collapsed": true
   },
   "outputs": [],
   "source": []
  },
  {
   "cell_type": "code",
   "execution_count": 15,
   "metadata": {},
   "outputs": [
    {
     "name": "stdout",
     "output_type": "stream",
     "text": [
      "CPU times: user 2.65 ms, sys: 1.61 ms, total: 4.26 ms\n",
      "Wall time: 1.74 s\n"
     ]
    },
    {
     "data": {
      "text/plain": [
       "DataFrame[]"
      ]
     },
     "execution_count": 15,
     "metadata": {},
     "output_type": "execute_result"
    }
   ],
   "source": [
    "%%time\n",
    "# hive.sql(\"drop table if exists {schema}.{tbl} purge\".format(schema=SBX_TEAM_DIGITCAMP, tbl=RECSYS_STORY_DATASET))"
   ]
  },
  {
   "cell_type": "code",
   "execution_count": null,
   "metadata": {
    "collapsed": true
   },
   "outputs": [],
   "source": []
  },
  {
   "cell_type": "code",
   "execution_count": null,
   "metadata": {
    "collapsed": true
   },
   "outputs": [],
   "source": []
  },
  {
   "cell_type": "code",
   "execution_count": 13,
   "metadata": {},
   "outputs": [
    {
     "name": "stdout",
     "output_type": "stream",
     "text": [
      "CPU times: user 25.6 ms, sys: 78 µs, total: 25.7 ms\n",
      "Wall time: 3.21 s\n"
     ]
    },
    {
     "data": {
      "text/html": [
       "<div>\n",
       "<style scoped>\n",
       "    .dataframe tbody tr th:only-of-type {\n",
       "        vertical-align: middle;\n",
       "    }\n",
       "\n",
       "    .dataframe tbody tr th {\n",
       "        vertical-align: top;\n",
       "    }\n",
       "\n",
       "    .dataframe thead th {\n",
       "        text-align: right;\n",
       "    }\n",
       "</style>\n",
       "<table border=\"1\" class=\"dataframe\">\n",
       "  <thead>\n",
       "    <tr style=\"text-align: right;\">\n",
       "      <th></th>\n",
       "      <th>inn</th>\n",
       "      <th>korpkarta</th>\n",
       "      <th>e_inv</th>\n",
       "      <th>rabota_ru</th>\n",
       "      <th>merchant_acquiring</th>\n",
       "      <th>e_acquiring</th>\n",
       "      <th>kredit</th>\n",
       "      <th>credit_card</th>\n",
       "      <th>bip</th>\n",
       "      <th>zarplata</th>\n",
       "      <th>LYurist</th>\n",
       "      <th>sberrating</th>\n",
       "      <th>sppu</th>\n",
       "      <th>customWarranty</th>\n",
       "      <th>mybuch_online_sso</th>\n",
       "      <th>sms</th>\n",
       "      <th>time2pay</th>\n",
       "      <th>samoinkass</th>\n",
       "      <th>deposit</th>\n",
       "      <th>cashOrder</th>\n",
       "      <th>leasing</th>\n",
       "      <th>loyalty_business</th>\n",
       "      <th>evotor</th>\n",
       "      <th>invoice</th>\n",
       "      <th>bki</th>\n",
       "      <th>...</th>\n",
       "      <th>markets</th>\n",
       "      <th>property_management</th>\n",
       "      <th>distressed_assets</th>\n",
       "      <th>structuralDepositRangeAccrual</th>\n",
       "      <th>ofd_platforma</th>\n",
       "      <th>sber_business_bot</th>\n",
       "      <th>CooperateOnline</th>\n",
       "      <th>e_inv_archive</th>\n",
       "      <th>bestbusinessp</th>\n",
       "      <th>packages</th>\n",
       "      <th>taxFree</th>\n",
       "      <th>currency_control_notifications</th>\n",
       "      <th>InSales</th>\n",
       "      <th>dcdGm</th>\n",
       "      <th>customs_duties</th>\n",
       "      <th>gos_oboron_zakaz</th>\n",
       "      <th>derivatives</th>\n",
       "      <th>credit_insurance</th>\n",
       "      <th>brokerage</th>\n",
       "      <th>sber_target</th>\n",
       "      <th>metrics</th>\n",
       "      <th>depositdualcurrency</th>\n",
       "      <th>contcheck</th>\n",
       "      <th>cash_insurance</th>\n",
       "      <th>load_dt</th>\n",
       "    </tr>\n",
       "  </thead>\n",
       "  <tbody>\n",
       "    <tr>\n",
       "      <th>0</th>\n",
       "      <td>010110425588</td>\n",
       "      <td>0.731059</td>\n",
       "      <td>0.660678</td>\n",
       "      <td>0.681667</td>\n",
       "      <td>0.617815</td>\n",
       "      <td>0.613847</td>\n",
       "      <td>0.595803</td>\n",
       "      <td>0.593068</td>\n",
       "      <td>0.615617</td>\n",
       "      <td>0.583162</td>\n",
       "      <td>0.587013</td>\n",
       "      <td>0.562950</td>\n",
       "      <td>0.570226</td>\n",
       "      <td>0.533398</td>\n",
       "      <td>0.544551</td>\n",
       "      <td>0.533717</td>\n",
       "      <td>0.536407</td>\n",
       "      <td>0.528070</td>\n",
       "      <td>0.529885</td>\n",
       "      <td>0.528495</td>\n",
       "      <td>0.547286</td>\n",
       "      <td>0.525282</td>\n",
       "      <td>0.521668</td>\n",
       "      <td>0.522874</td>\n",
       "      <td>0.520214</td>\n",
       "      <td>...</td>\n",
       "      <td>0.501244</td>\n",
       "      <td>0.501038</td>\n",
       "      <td>0.501730</td>\n",
       "      <td>0.501385</td>\n",
       "      <td>0.500813</td>\n",
       "      <td>0.501738</td>\n",
       "      <td>0.500673</td>\n",
       "      <td>0.500650</td>\n",
       "      <td>0.500465</td>\n",
       "      <td>0.500225</td>\n",
       "      <td>0.500046</td>\n",
       "      <td>0.500392</td>\n",
       "      <td>0.502419</td>\n",
       "      <td>0.500055</td>\n",
       "      <td>0.500148</td>\n",
       "      <td>0.500076</td>\n",
       "      <td>0.500059</td>\n",
       "      <td>0.500000</td>\n",
       "      <td>0.500069</td>\n",
       "      <td>0.500776</td>\n",
       "      <td>None</td>\n",
       "      <td>None</td>\n",
       "      <td>0.500014</td>\n",
       "      <td>None</td>\n",
       "      <td>2021-10-05</td>\n",
       "    </tr>\n",
       "    <tr>\n",
       "      <th>1</th>\n",
       "      <td>0104015530</td>\n",
       "      <td>0.731059</td>\n",
       "      <td>0.660673</td>\n",
       "      <td>0.681675</td>\n",
       "      <td>0.617867</td>\n",
       "      <td>0.613915</td>\n",
       "      <td>0.595944</td>\n",
       "      <td>0.593180</td>\n",
       "      <td>0.615644</td>\n",
       "      <td>0.583223</td>\n",
       "      <td>0.587050</td>\n",
       "      <td>0.563073</td>\n",
       "      <td>0.570309</td>\n",
       "      <td>0.533423</td>\n",
       "      <td>0.544654</td>\n",
       "      <td>0.533835</td>\n",
       "      <td>0.536473</td>\n",
       "      <td>0.528212</td>\n",
       "      <td>0.529943</td>\n",
       "      <td>0.528557</td>\n",
       "      <td>0.547355</td>\n",
       "      <td>0.525370</td>\n",
       "      <td>0.521787</td>\n",
       "      <td>0.522984</td>\n",
       "      <td>0.520389</td>\n",
       "      <td>...</td>\n",
       "      <td>0.501356</td>\n",
       "      <td>0.501066</td>\n",
       "      <td>0.501848</td>\n",
       "      <td>0.501483</td>\n",
       "      <td>0.500922</td>\n",
       "      <td>0.501893</td>\n",
       "      <td>0.500784</td>\n",
       "      <td>0.500749</td>\n",
       "      <td>0.500571</td>\n",
       "      <td>0.500209</td>\n",
       "      <td>0.500042</td>\n",
       "      <td>0.500463</td>\n",
       "      <td>0.502576</td>\n",
       "      <td>0.500033</td>\n",
       "      <td>0.500189</td>\n",
       "      <td>0.500041</td>\n",
       "      <td>0.500057</td>\n",
       "      <td>0.500014</td>\n",
       "      <td>0.500054</td>\n",
       "      <td>0.500906</td>\n",
       "      <td>None</td>\n",
       "      <td>None</td>\n",
       "      <td>0.500000</td>\n",
       "      <td>None</td>\n",
       "      <td>2021-10-05</td>\n",
       "    </tr>\n",
       "    <tr>\n",
       "      <th>2</th>\n",
       "      <td>0105041653</td>\n",
       "      <td>0.731059</td>\n",
       "      <td>0.660685</td>\n",
       "      <td>0.681615</td>\n",
       "      <td>0.617700</td>\n",
       "      <td>0.613695</td>\n",
       "      <td>0.595169</td>\n",
       "      <td>0.592579</td>\n",
       "      <td>0.615620</td>\n",
       "      <td>0.582959</td>\n",
       "      <td>0.586898</td>\n",
       "      <td>0.562457</td>\n",
       "      <td>0.569946</td>\n",
       "      <td>0.533303</td>\n",
       "      <td>0.544273</td>\n",
       "      <td>0.533339</td>\n",
       "      <td>0.536134</td>\n",
       "      <td>0.527660</td>\n",
       "      <td>0.529590</td>\n",
       "      <td>0.528275</td>\n",
       "      <td>0.547017</td>\n",
       "      <td>0.524941</td>\n",
       "      <td>0.521345</td>\n",
       "      <td>0.522583</td>\n",
       "      <td>0.519514</td>\n",
       "      <td>...</td>\n",
       "      <td>0.500849</td>\n",
       "      <td>0.500990</td>\n",
       "      <td>0.501336</td>\n",
       "      <td>0.501026</td>\n",
       "      <td>0.500550</td>\n",
       "      <td>0.501267</td>\n",
       "      <td>0.500339</td>\n",
       "      <td>0.500382</td>\n",
       "      <td>0.500131</td>\n",
       "      <td>0.500387</td>\n",
       "      <td>0.500125</td>\n",
       "      <td>0.500029</td>\n",
       "      <td>0.501911</td>\n",
       "      <td>0.500211</td>\n",
       "      <td>0.500000</td>\n",
       "      <td>0.500206</td>\n",
       "      <td>0.500056</td>\n",
       "      <td>0.500036</td>\n",
       "      <td>0.500188</td>\n",
       "      <td>0.500407</td>\n",
       "      <td>None</td>\n",
       "      <td>None</td>\n",
       "      <td>0.500136</td>\n",
       "      <td>None</td>\n",
       "      <td>2021-10-05</td>\n",
       "    </tr>\n",
       "    <tr>\n",
       "      <th>3</th>\n",
       "      <td>010512937730</td>\n",
       "      <td>0.731059</td>\n",
       "      <td>0.660686</td>\n",
       "      <td>0.681613</td>\n",
       "      <td>0.617699</td>\n",
       "      <td>0.613694</td>\n",
       "      <td>0.595143</td>\n",
       "      <td>0.592561</td>\n",
       "      <td>0.615628</td>\n",
       "      <td>0.582955</td>\n",
       "      <td>0.586898</td>\n",
       "      <td>0.562438</td>\n",
       "      <td>0.569938</td>\n",
       "      <td>0.533307</td>\n",
       "      <td>0.544270</td>\n",
       "      <td>0.533329</td>\n",
       "      <td>0.536127</td>\n",
       "      <td>0.527649</td>\n",
       "      <td>0.529579</td>\n",
       "      <td>0.528271</td>\n",
       "      <td>0.547011</td>\n",
       "      <td>0.524932</td>\n",
       "      <td>0.521340</td>\n",
       "      <td>0.522579</td>\n",
       "      <td>0.519488</td>\n",
       "      <td>...</td>\n",
       "      <td>0.500839</td>\n",
       "      <td>0.500997</td>\n",
       "      <td>0.501327</td>\n",
       "      <td>0.501017</td>\n",
       "      <td>0.500548</td>\n",
       "      <td>0.501255</td>\n",
       "      <td>0.500333</td>\n",
       "      <td>0.500379</td>\n",
       "      <td>0.500124</td>\n",
       "      <td>0.500405</td>\n",
       "      <td>0.500136</td>\n",
       "      <td>0.500017</td>\n",
       "      <td>0.501897</td>\n",
       "      <td>0.500226</td>\n",
       "      <td>0.500000</td>\n",
       "      <td>0.500219</td>\n",
       "      <td>0.500063</td>\n",
       "      <td>0.500049</td>\n",
       "      <td>0.500202</td>\n",
       "      <td>0.500400</td>\n",
       "      <td>None</td>\n",
       "      <td>None</td>\n",
       "      <td>0.500150</td>\n",
       "      <td>None</td>\n",
       "      <td>2021-10-05</td>\n",
       "    </tr>\n",
       "    <tr>\n",
       "      <th>4</th>\n",
       "      <td>010516506407</td>\n",
       "      <td>0.731059</td>\n",
       "      <td>0.660868</td>\n",
       "      <td>0.681648</td>\n",
       "      <td>0.617799</td>\n",
       "      <td>0.613745</td>\n",
       "      <td>0.594488</td>\n",
       "      <td>0.592138</td>\n",
       "      <td>0.615916</td>\n",
       "      <td>0.583006</td>\n",
       "      <td>0.587072</td>\n",
       "      <td>0.562083</td>\n",
       "      <td>0.569910</td>\n",
       "      <td>0.533637</td>\n",
       "      <td>0.544298</td>\n",
       "      <td>0.533226</td>\n",
       "      <td>0.536175</td>\n",
       "      <td>0.527513</td>\n",
       "      <td>0.529609</td>\n",
       "      <td>0.528419</td>\n",
       "      <td>0.547042</td>\n",
       "      <td>0.524905</td>\n",
       "      <td>0.521352</td>\n",
       "      <td>0.522636</td>\n",
       "      <td>0.518913</td>\n",
       "      <td>...</td>\n",
       "      <td>0.500779</td>\n",
       "      <td>0.501481</td>\n",
       "      <td>0.501270</td>\n",
       "      <td>0.501013</td>\n",
       "      <td>0.500702</td>\n",
       "      <td>0.501083</td>\n",
       "      <td>0.500376</td>\n",
       "      <td>0.500523</td>\n",
       "      <td>0.500165</td>\n",
       "      <td>0.501219</td>\n",
       "      <td>0.500813</td>\n",
       "      <td>0.500000</td>\n",
       "      <td>0.501665</td>\n",
       "      <td>0.501022</td>\n",
       "      <td>0.500322</td>\n",
       "      <td>0.500973</td>\n",
       "      <td>0.500611</td>\n",
       "      <td>0.500665</td>\n",
       "      <td>0.500942</td>\n",
       "      <td>0.500389</td>\n",
       "      <td>None</td>\n",
       "      <td>None</td>\n",
       "      <td>0.500933</td>\n",
       "      <td>None</td>\n",
       "      <td>2021-10-05</td>\n",
       "    </tr>\n",
       "    <tr>\n",
       "      <th>5</th>\n",
       "      <td>010600037520</td>\n",
       "      <td>0.731059</td>\n",
       "      <td>0.660699</td>\n",
       "      <td>0.681720</td>\n",
       "      <td>0.617919</td>\n",
       "      <td>0.613973</td>\n",
       "      <td>0.596263</td>\n",
       "      <td>0.593436</td>\n",
       "      <td>0.615648</td>\n",
       "      <td>0.583340</td>\n",
       "      <td>0.587140</td>\n",
       "      <td>0.563324</td>\n",
       "      <td>0.570444</td>\n",
       "      <td>0.533541</td>\n",
       "      <td>0.544782</td>\n",
       "      <td>0.534019</td>\n",
       "      <td>0.536659</td>\n",
       "      <td>0.528384</td>\n",
       "      <td>0.530153</td>\n",
       "      <td>0.528713</td>\n",
       "      <td>0.547529</td>\n",
       "      <td>0.525576</td>\n",
       "      <td>0.521934</td>\n",
       "      <td>0.523121</td>\n",
       "      <td>0.520734</td>\n",
       "      <td>...</td>\n",
       "      <td>0.501575</td>\n",
       "      <td>0.501155</td>\n",
       "      <td>0.502058</td>\n",
       "      <td>0.501696</td>\n",
       "      <td>0.501046</td>\n",
       "      <td>0.502101</td>\n",
       "      <td>0.500958</td>\n",
       "      <td>0.500892</td>\n",
       "      <td>0.500756</td>\n",
       "      <td>0.500213</td>\n",
       "      <td>0.500086</td>\n",
       "      <td>0.500721</td>\n",
       "      <td>0.502810</td>\n",
       "      <td>0.500049</td>\n",
       "      <td>0.500334</td>\n",
       "      <td>0.500098</td>\n",
       "      <td>0.500158</td>\n",
       "      <td>0.500066</td>\n",
       "      <td>0.500089</td>\n",
       "      <td>0.501080</td>\n",
       "      <td>None</td>\n",
       "      <td>None</td>\n",
       "      <td>0.500000</td>\n",
       "      <td>None</td>\n",
       "      <td>2021-10-05</td>\n",
       "    </tr>\n",
       "    <tr>\n",
       "      <th>6</th>\n",
       "      <td>010600083277</td>\n",
       "      <td>0.731059</td>\n",
       "      <td>0.662114</td>\n",
       "      <td>0.681941</td>\n",
       "      <td>0.618460</td>\n",
       "      <td>0.614051</td>\n",
       "      <td>0.590537</td>\n",
       "      <td>0.589634</td>\n",
       "      <td>0.617756</td>\n",
       "      <td>0.583431</td>\n",
       "      <td>0.588307</td>\n",
       "      <td>0.559948</td>\n",
       "      <td>0.569746</td>\n",
       "      <td>0.535937</td>\n",
       "      <td>0.544494</td>\n",
       "      <td>0.532629</td>\n",
       "      <td>0.536677</td>\n",
       "      <td>0.526636</td>\n",
       "      <td>0.529997</td>\n",
       "      <td>0.529545</td>\n",
       "      <td>0.547426</td>\n",
       "      <td>0.524916</td>\n",
       "      <td>0.521473</td>\n",
       "      <td>0.523019</td>\n",
       "      <td>0.515414</td>\n",
       "      <td>...</td>\n",
       "      <td>0.500510</td>\n",
       "      <td>0.504807</td>\n",
       "      <td>0.501021</td>\n",
       "      <td>0.501134</td>\n",
       "      <td>0.501714</td>\n",
       "      <td>0.500011</td>\n",
       "      <td>0.500751</td>\n",
       "      <td>0.501531</td>\n",
       "      <td>0.500553</td>\n",
       "      <td>0.506710</td>\n",
       "      <td>0.505330</td>\n",
       "      <td>0.500084</td>\n",
       "      <td>0.500248</td>\n",
       "      <td>0.506324</td>\n",
       "      <td>0.502559</td>\n",
       "      <td>0.506107</td>\n",
       "      <td>0.504349</td>\n",
       "      <td>0.504793</td>\n",
       "      <td>0.505939</td>\n",
       "      <td>0.500377</td>\n",
       "      <td>None</td>\n",
       "      <td>None</td>\n",
       "      <td>0.506159</td>\n",
       "      <td>None</td>\n",
       "      <td>2021-10-05</td>\n",
       "    </tr>\n",
       "    <tr>\n",
       "      <th>7</th>\n",
       "      <td>0107008718</td>\n",
       "      <td>0.731059</td>\n",
       "      <td>0.660710</td>\n",
       "      <td>0.681618</td>\n",
       "      <td>0.617720</td>\n",
       "      <td>0.613707</td>\n",
       "      <td>0.595056</td>\n",
       "      <td>0.592507</td>\n",
       "      <td>0.615679</td>\n",
       "      <td>0.582964</td>\n",
       "      <td>0.586933</td>\n",
       "      <td>0.562387</td>\n",
       "      <td>0.569919</td>\n",
       "      <td>0.533362</td>\n",
       "      <td>0.544284</td>\n",
       "      <td>0.533319</td>\n",
       "      <td>0.536138</td>\n",
       "      <td>0.527632</td>\n",
       "      <td>0.529573</td>\n",
       "      <td>0.528299</td>\n",
       "      <td>0.547024</td>\n",
       "      <td>0.524934</td>\n",
       "      <td>0.521353</td>\n",
       "      <td>0.522599</td>\n",
       "      <td>0.519407</td>\n",
       "      <td>...</td>\n",
       "      <td>0.500833</td>\n",
       "      <td>0.501085</td>\n",
       "      <td>0.501325</td>\n",
       "      <td>0.501017</td>\n",
       "      <td>0.500582</td>\n",
       "      <td>0.501236</td>\n",
       "      <td>0.500348</td>\n",
       "      <td>0.500409</td>\n",
       "      <td>0.500141</td>\n",
       "      <td>0.500556</td>\n",
       "      <td>0.500246</td>\n",
       "      <td>0.500000</td>\n",
       "      <td>0.501869</td>\n",
       "      <td>0.500358</td>\n",
       "      <td>0.500049</td>\n",
       "      <td>0.500346</td>\n",
       "      <td>0.500146</td>\n",
       "      <td>0.500161</td>\n",
       "      <td>0.500331</td>\n",
       "      <td>0.500412</td>\n",
       "      <td>None</td>\n",
       "      <td>None</td>\n",
       "      <td>0.500268</td>\n",
       "      <td>None</td>\n",
       "      <td>2021-10-05</td>\n",
       "    </tr>\n",
       "    <tr>\n",
       "      <th>8</th>\n",
       "      <td>010708402458</td>\n",
       "      <td>0.731059</td>\n",
       "      <td>0.660691</td>\n",
       "      <td>0.681721</td>\n",
       "      <td>0.617966</td>\n",
       "      <td>0.614037</td>\n",
       "      <td>0.596338</td>\n",
       "      <td>0.593499</td>\n",
       "      <td>0.615689</td>\n",
       "      <td>0.583382</td>\n",
       "      <td>0.587171</td>\n",
       "      <td>0.563398</td>\n",
       "      <td>0.570502</td>\n",
       "      <td>0.533561</td>\n",
       "      <td>0.544873</td>\n",
       "      <td>0.534108</td>\n",
       "      <td>0.536698</td>\n",
       "      <td>0.528496</td>\n",
       "      <td>0.530174</td>\n",
       "      <td>0.528755</td>\n",
       "      <td>0.547575</td>\n",
       "      <td>0.525634</td>\n",
       "      <td>0.522037</td>\n",
       "      <td>0.523219</td>\n",
       "      <td>0.520843</td>\n",
       "      <td>...</td>\n",
       "      <td>0.501656</td>\n",
       "      <td>0.501184</td>\n",
       "      <td>0.502146</td>\n",
       "      <td>0.501761</td>\n",
       "      <td>0.501145</td>\n",
       "      <td>0.502224</td>\n",
       "      <td>0.501046</td>\n",
       "      <td>0.500976</td>\n",
       "      <td>0.500837</td>\n",
       "      <td>0.500221</td>\n",
       "      <td>0.500094</td>\n",
       "      <td>0.500748</td>\n",
       "      <td>0.502928</td>\n",
       "      <td>0.500046</td>\n",
       "      <td>0.500361</td>\n",
       "      <td>0.500074</td>\n",
       "      <td>0.500153</td>\n",
       "      <td>0.500095</td>\n",
       "      <td>0.500089</td>\n",
       "      <td>0.501188</td>\n",
       "      <td>None</td>\n",
       "      <td>None</td>\n",
       "      <td>0.500000</td>\n",
       "      <td>None</td>\n",
       "      <td>2021-10-05</td>\n",
       "    </tr>\n",
       "    <tr>\n",
       "      <th>9</th>\n",
       "      <td>010800801060</td>\n",
       "      <td>0.731059</td>\n",
       "      <td>0.660689</td>\n",
       "      <td>0.681654</td>\n",
       "      <td>0.617771</td>\n",
       "      <td>0.613787</td>\n",
       "      <td>0.595594</td>\n",
       "      <td>0.592905</td>\n",
       "      <td>0.615607</td>\n",
       "      <td>0.583098</td>\n",
       "      <td>0.586971</td>\n",
       "      <td>0.562789</td>\n",
       "      <td>0.570146</td>\n",
       "      <td>0.533365</td>\n",
       "      <td>0.544445</td>\n",
       "      <td>0.533585</td>\n",
       "      <td>0.536318</td>\n",
       "      <td>0.527925</td>\n",
       "      <td>0.529803</td>\n",
       "      <td>0.528422</td>\n",
       "      <td>0.547195</td>\n",
       "      <td>0.525169</td>\n",
       "      <td>0.521546</td>\n",
       "      <td>0.522762</td>\n",
       "      <td>0.519980</td>\n",
       "      <td>...</td>\n",
       "      <td>0.501108</td>\n",
       "      <td>0.501017</td>\n",
       "      <td>0.501593</td>\n",
       "      <td>0.501267</td>\n",
       "      <td>0.500712</td>\n",
       "      <td>0.501570</td>\n",
       "      <td>0.500555</td>\n",
       "      <td>0.500552</td>\n",
       "      <td>0.500347</td>\n",
       "      <td>0.500269</td>\n",
       "      <td>0.500070</td>\n",
       "      <td>0.500285</td>\n",
       "      <td>0.502242</td>\n",
       "      <td>0.500104</td>\n",
       "      <td>0.500100</td>\n",
       "      <td>0.500121</td>\n",
       "      <td>0.500065</td>\n",
       "      <td>0.500000</td>\n",
       "      <td>0.500104</td>\n",
       "      <td>0.500640</td>\n",
       "      <td>None</td>\n",
       "      <td>None</td>\n",
       "      <td>0.500079</td>\n",
       "      <td>None</td>\n",
       "      <td>2021-10-05</td>\n",
       "    </tr>\n",
       "  </tbody>\n",
       "</table>\n",
       "<p>10 rows × 93 columns</p>\n",
       "</div>"
      ],
      "text/plain": [
       "            inn  korpkarta     e_inv  rabota_ru  merchant_acquiring  \\\n",
       "0  010110425588   0.731059  0.660678   0.681667            0.617815   \n",
       "1    0104015530   0.731059  0.660673   0.681675            0.617867   \n",
       "2    0105041653   0.731059  0.660685   0.681615            0.617700   \n",
       "3  010512937730   0.731059  0.660686   0.681613            0.617699   \n",
       "4  010516506407   0.731059  0.660868   0.681648            0.617799   \n",
       "5  010600037520   0.731059  0.660699   0.681720            0.617919   \n",
       "6  010600083277   0.731059  0.662114   0.681941            0.618460   \n",
       "7    0107008718   0.731059  0.660710   0.681618            0.617720   \n",
       "8  010708402458   0.731059  0.660691   0.681721            0.617966   \n",
       "9  010800801060   0.731059  0.660689   0.681654            0.617771   \n",
       "\n",
       "   e_acquiring    kredit  credit_card       bip  zarplata   LYurist  \\\n",
       "0     0.613847  0.595803     0.593068  0.615617  0.583162  0.587013   \n",
       "1     0.613915  0.595944     0.593180  0.615644  0.583223  0.587050   \n",
       "2     0.613695  0.595169     0.592579  0.615620  0.582959  0.586898   \n",
       "3     0.613694  0.595143     0.592561  0.615628  0.582955  0.586898   \n",
       "4     0.613745  0.594488     0.592138  0.615916  0.583006  0.587072   \n",
       "5     0.613973  0.596263     0.593436  0.615648  0.583340  0.587140   \n",
       "6     0.614051  0.590537     0.589634  0.617756  0.583431  0.588307   \n",
       "7     0.613707  0.595056     0.592507  0.615679  0.582964  0.586933   \n",
       "8     0.614037  0.596338     0.593499  0.615689  0.583382  0.587171   \n",
       "9     0.613787  0.595594     0.592905  0.615607  0.583098  0.586971   \n",
       "\n",
       "   sberrating      sppu  customWarranty  mybuch_online_sso       sms  \\\n",
       "0    0.562950  0.570226        0.533398           0.544551  0.533717   \n",
       "1    0.563073  0.570309        0.533423           0.544654  0.533835   \n",
       "2    0.562457  0.569946        0.533303           0.544273  0.533339   \n",
       "3    0.562438  0.569938        0.533307           0.544270  0.533329   \n",
       "4    0.562083  0.569910        0.533637           0.544298  0.533226   \n",
       "5    0.563324  0.570444        0.533541           0.544782  0.534019   \n",
       "6    0.559948  0.569746        0.535937           0.544494  0.532629   \n",
       "7    0.562387  0.569919        0.533362           0.544284  0.533319   \n",
       "8    0.563398  0.570502        0.533561           0.544873  0.534108   \n",
       "9    0.562789  0.570146        0.533365           0.544445  0.533585   \n",
       "\n",
       "   time2pay  samoinkass   deposit  cashOrder   leasing  loyalty_business  \\\n",
       "0  0.536407    0.528070  0.529885   0.528495  0.547286          0.525282   \n",
       "1  0.536473    0.528212  0.529943   0.528557  0.547355          0.525370   \n",
       "2  0.536134    0.527660  0.529590   0.528275  0.547017          0.524941   \n",
       "3  0.536127    0.527649  0.529579   0.528271  0.547011          0.524932   \n",
       "4  0.536175    0.527513  0.529609   0.528419  0.547042          0.524905   \n",
       "5  0.536659    0.528384  0.530153   0.528713  0.547529          0.525576   \n",
       "6  0.536677    0.526636  0.529997   0.529545  0.547426          0.524916   \n",
       "7  0.536138    0.527632  0.529573   0.528299  0.547024          0.524934   \n",
       "8  0.536698    0.528496  0.530174   0.528755  0.547575          0.525634   \n",
       "9  0.536318    0.527925  0.529803   0.528422  0.547195          0.525169   \n",
       "\n",
       "     evotor   invoice       bki  ...   markets  property_management  \\\n",
       "0  0.521668  0.522874  0.520214  ...  0.501244             0.501038   \n",
       "1  0.521787  0.522984  0.520389  ...  0.501356             0.501066   \n",
       "2  0.521345  0.522583  0.519514  ...  0.500849             0.500990   \n",
       "3  0.521340  0.522579  0.519488  ...  0.500839             0.500997   \n",
       "4  0.521352  0.522636  0.518913  ...  0.500779             0.501481   \n",
       "5  0.521934  0.523121  0.520734  ...  0.501575             0.501155   \n",
       "6  0.521473  0.523019  0.515414  ...  0.500510             0.504807   \n",
       "7  0.521353  0.522599  0.519407  ...  0.500833             0.501085   \n",
       "8  0.522037  0.523219  0.520843  ...  0.501656             0.501184   \n",
       "9  0.521546  0.522762  0.519980  ...  0.501108             0.501017   \n",
       "\n",
       "   distressed_assets  structuralDepositRangeAccrual  ofd_platforma  \\\n",
       "0           0.501730                       0.501385       0.500813   \n",
       "1           0.501848                       0.501483       0.500922   \n",
       "2           0.501336                       0.501026       0.500550   \n",
       "3           0.501327                       0.501017       0.500548   \n",
       "4           0.501270                       0.501013       0.500702   \n",
       "5           0.502058                       0.501696       0.501046   \n",
       "6           0.501021                       0.501134       0.501714   \n",
       "7           0.501325                       0.501017       0.500582   \n",
       "8           0.502146                       0.501761       0.501145   \n",
       "9           0.501593                       0.501267       0.500712   \n",
       "\n",
       "   sber_business_bot  CooperateOnline  e_inv_archive  bestbusinessp  packages  \\\n",
       "0           0.501738         0.500673       0.500650       0.500465  0.500225   \n",
       "1           0.501893         0.500784       0.500749       0.500571  0.500209   \n",
       "2           0.501267         0.500339       0.500382       0.500131  0.500387   \n",
       "3           0.501255         0.500333       0.500379       0.500124  0.500405   \n",
       "4           0.501083         0.500376       0.500523       0.500165  0.501219   \n",
       "5           0.502101         0.500958       0.500892       0.500756  0.500213   \n",
       "6           0.500011         0.500751       0.501531       0.500553  0.506710   \n",
       "7           0.501236         0.500348       0.500409       0.500141  0.500556   \n",
       "8           0.502224         0.501046       0.500976       0.500837  0.500221   \n",
       "9           0.501570         0.500555       0.500552       0.500347  0.500269   \n",
       "\n",
       "    taxFree  currency_control_notifications   InSales     dcdGm  \\\n",
       "0  0.500046                        0.500392  0.502419  0.500055   \n",
       "1  0.500042                        0.500463  0.502576  0.500033   \n",
       "2  0.500125                        0.500029  0.501911  0.500211   \n",
       "3  0.500136                        0.500017  0.501897  0.500226   \n",
       "4  0.500813                        0.500000  0.501665  0.501022   \n",
       "5  0.500086                        0.500721  0.502810  0.500049   \n",
       "6  0.505330                        0.500084  0.500248  0.506324   \n",
       "7  0.500246                        0.500000  0.501869  0.500358   \n",
       "8  0.500094                        0.500748  0.502928  0.500046   \n",
       "9  0.500070                        0.500285  0.502242  0.500104   \n",
       "\n",
       "   customs_duties  gos_oboron_zakaz  derivatives  credit_insurance  brokerage  \\\n",
       "0        0.500148          0.500076     0.500059          0.500000   0.500069   \n",
       "1        0.500189          0.500041     0.500057          0.500014   0.500054   \n",
       "2        0.500000          0.500206     0.500056          0.500036   0.500188   \n",
       "3        0.500000          0.500219     0.500063          0.500049   0.500202   \n",
       "4        0.500322          0.500973     0.500611          0.500665   0.500942   \n",
       "5        0.500334          0.500098     0.500158          0.500066   0.500089   \n",
       "6        0.502559          0.506107     0.504349          0.504793   0.505939   \n",
       "7        0.500049          0.500346     0.500146          0.500161   0.500331   \n",
       "8        0.500361          0.500074     0.500153          0.500095   0.500089   \n",
       "9        0.500100          0.500121     0.500065          0.500000   0.500104   \n",
       "\n",
       "   sber_target  metrics  depositdualcurrency  contcheck  cash_insurance  \\\n",
       "0     0.500776     None                 None   0.500014            None   \n",
       "1     0.500906     None                 None   0.500000            None   \n",
       "2     0.500407     None                 None   0.500136            None   \n",
       "3     0.500400     None                 None   0.500150            None   \n",
       "4     0.500389     None                 None   0.500933            None   \n",
       "5     0.501080     None                 None   0.500000            None   \n",
       "6     0.500377     None                 None   0.506159            None   \n",
       "7     0.500412     None                 None   0.500268            None   \n",
       "8     0.501188     None                 None   0.500000            None   \n",
       "9     0.500640     None                 None   0.500079            None   \n",
       "\n",
       "      load_dt  \n",
       "0  2021-10-05  \n",
       "1  2021-10-05  \n",
       "2  2021-10-05  \n",
       "3  2021-10-05  \n",
       "4  2021-10-05  \n",
       "5  2021-10-05  \n",
       "6  2021-10-05  \n",
       "7  2021-10-05  \n",
       "8  2021-10-05  \n",
       "9  2021-10-05  \n",
       "\n",
       "[10 rows x 93 columns]"
      ]
     },
     "execution_count": 13,
     "metadata": {},
     "output_type": "execute_result"
    }
   ],
   "source": [
    "%%time\n",
    "dataset.show()"
   ]
  },
  {
   "cell_type": "code",
   "execution_count": 15,
   "metadata": {},
   "outputs": [
    {
     "name": "stdout",
     "output_type": "stream",
     "text": [
      "CPU times: user 133 ms, sys: 156 ms, total: 289 ms\n",
      "Wall time: 13min 27s\n"
     ]
    },
    {
     "data": {
      "text/plain": [
       "1189687"
      ]
     },
     "execution_count": 15,
     "metadata": {},
     "output_type": "execute_result"
    }
   ],
   "source": [
    "%%time\n",
    "dataset.select(\"inn\").distinct().count()"
   ]
  },
  {
   "cell_type": "code",
   "execution_count": 42,
   "metadata": {},
   "outputs": [
    {
     "data": {
      "text/plain": [
       "1189687"
      ]
     },
     "execution_count": 42,
     "metadata": {},
     "output_type": "execute_result"
    }
   ],
   "source": [
    "dataset.filter(\"load_dt = '2021-10-05'\").select(\"inn\").distinct().count()"
   ]
  },
  {
   "cell_type": "code",
   "execution_count": 43,
   "metadata": {},
   "outputs": [
    {
     "data": {
      "text/plain": [
       "0"
      ]
     },
     "execution_count": 43,
     "metadata": {},
     "output_type": "execute_result"
    }
   ],
   "source": [
    "dataset.filter(\"load_dt = '2021-09-23'\").select(\"inn\").distinct().count()"
   ]
  },
  {
   "cell_type": "markdown",
   "metadata": {},
   "source": [
    "# Checking create date "
   ]
  },
  {
   "cell_type": "code",
   "execution_count": 49,
   "metadata": {},
   "outputs": [
    {
     "data": {
      "text/html": [
       "<div>\n",
       "<style scoped>\n",
       "    .dataframe tbody tr th:only-of-type {\n",
       "        vertical-align: middle;\n",
       "    }\n",
       "\n",
       "    .dataframe tbody tr th {\n",
       "        vertical-align: top;\n",
       "    }\n",
       "\n",
       "    .dataframe thead th {\n",
       "        text-align: right;\n",
       "    }\n",
       "</style>\n",
       "<table border=\"1\" class=\"dataframe\">\n",
       "  <thead>\n",
       "    <tr style=\"text-align: right;\">\n",
       "      <th></th>\n",
       "      <th>col_name</th>\n",
       "      <th>data_type</th>\n",
       "      <th>comment</th>\n",
       "    </tr>\n",
       "  </thead>\n",
       "  <tbody>\n",
       "    <tr>\n",
       "      <th>0</th>\n",
       "      <td>user_id</td>\n",
       "      <td>int</td>\n",
       "      <td>None</td>\n",
       "    </tr>\n",
       "    <tr>\n",
       "      <th>1</th>\n",
       "      <td>item_id</td>\n",
       "      <td>int</td>\n",
       "      <td>None</td>\n",
       "    </tr>\n",
       "    <tr>\n",
       "      <th>2</th>\n",
       "      <td>timestamp</td>\n",
       "      <td>bigint</td>\n",
       "      <td>None</td>\n",
       "    </tr>\n",
       "    <tr>\n",
       "      <th>3</th>\n",
       "      <td>rating</td>\n",
       "      <td>double</td>\n",
       "      <td>None</td>\n",
       "    </tr>\n",
       "    <tr>\n",
       "      <th>4</th>\n",
       "      <td></td>\n",
       "      <td></td>\n",
       "      <td></td>\n",
       "    </tr>\n",
       "    <tr>\n",
       "      <th>5</th>\n",
       "      <td># Detailed Table Information</td>\n",
       "      <td></td>\n",
       "      <td></td>\n",
       "    </tr>\n",
       "    <tr>\n",
       "      <th>6</th>\n",
       "      <td>Database</td>\n",
       "      <td>sbx_team_digitcamp</td>\n",
       "      <td></td>\n",
       "    </tr>\n",
       "    <tr>\n",
       "      <th>7</th>\n",
       "      <td>Table</td>\n",
       "      <td>recsys_story_dataset_target</td>\n",
       "      <td></td>\n",
       "    </tr>\n",
       "    <tr>\n",
       "      <th>8</th>\n",
       "      <td>Owner</td>\n",
       "      <td>shubochkin1-ei_ca-sbrf-ru@DF.SBRF.RU</td>\n",
       "      <td></td>\n",
       "    </tr>\n",
       "    <tr>\n",
       "      <th>9</th>\n",
       "      <td>Created Time</td>\n",
       "      <td>Tue Oct 05 15:24:06 MSK 2021</td>\n",
       "      <td></td>\n",
       "    </tr>\n",
       "  </tbody>\n",
       "</table>\n",
       "</div>"
      ],
      "text/plain": [
       "                       col_name                             data_type comment\n",
       "0                       user_id                                   int    None\n",
       "1                       item_id                                   int    None\n",
       "2                     timestamp                                bigint    None\n",
       "3                        rating                                double    None\n",
       "4                                                                            \n",
       "5  # Detailed Table Information                                              \n",
       "6                      Database                    sbx_team_digitcamp        \n",
       "7                         Table           recsys_story_dataset_target        \n",
       "8                         Owner  shubochkin1-ei_ca-sbrf-ru@DF.SBRF.RU        \n",
       "9                  Created Time          Tue Oct 05 15:24:06 MSK 2021        "
      ]
     },
     "execution_count": 49,
     "metadata": {},
     "output_type": "execute_result"
    }
   ],
   "source": [
    "hive.sql(\"describe formatted {}.{}\".format(SBX_TEAM_DIGITCAMP, RECSYS_STORY_DATASET_TARGET)).show()"
   ]
  },
  {
   "cell_type": "code",
   "execution_count": null,
   "metadata": {
    "collapsed": true
   },
   "outputs": [],
   "source": [
    "from py4j.protocol import Py4JJavaError"
   ]
  },
  {
   "cell_type": "code",
   "execution_count": 3,
   "metadata": {},
   "outputs": [],
   "source": [
    "table_info = hive.sql(\"show create table {}.{}\".format(SBX_TEAM_DIGITCAMP, ALS_ASUP_PIVOT)).toPandas().createtab_stmt[0]"
   ]
  },
  {
   "cell_type": "code",
   "execution_count": 10,
   "metadata": {},
   "outputs": [],
   "source": [
    "target_dataset = load_table(SBX_TEAM_DIGITCAMP, ALS_ASUP_PIVOT, hive).cache()"
   ]
  },
  {
   "cell_type": "code",
   "execution_count": null,
   "metadata": {
    "collapsed": true
   },
   "outputs": [],
   "source": []
  },
  {
   "cell_type": "code",
   "execution_count": 8,
   "metadata": {},
   "outputs": [
    {
     "name": "stdout",
     "output_type": "stream",
     "text": [
      "CPU times: user 2.38 ms, sys: 5.42 ms, total: 7.8 ms\n",
      "Wall time: 8.03 s\n"
     ]
    },
    {
     "data": {
      "text/plain": [
       "1189687"
      ]
     },
     "execution_count": 8,
     "metadata": {},
     "output_type": "execute_result"
    }
   ],
   "source": [
    "%%time\n",
    "target_dataset.select(\"inn\").distinct().count()"
   ]
  },
  {
   "cell_type": "code",
   "execution_count": 11,
   "metadata": {},
   "outputs": [
    {
     "name": "stdout",
     "output_type": "stream",
     "text": [
      "CPU times: user 93.2 ms, sys: 120 ms, total: 213 ms\n",
      "Wall time: 10min 6s\n"
     ]
    },
    {
     "data": {
      "text/plain": [
       "1189687"
      ]
     },
     "execution_count": 11,
     "metadata": {},
     "output_type": "execute_result"
    }
   ],
   "source": [
    "%%time\n",
    "target_dataset.select(\"inn\").distinct().count()"
   ]
  },
  {
   "cell_type": "code",
   "execution_count": 9,
   "metadata": {},
   "outputs": [
    {
     "data": {
      "text/plain": [
       "87"
      ]
     },
     "execution_count": 9,
     "metadata": {},
     "output_type": "execute_result"
    }
   ],
   "source": [
    "target_dataset.select(\"item_id\").distinct().count()"
   ]
  },
  {
   "cell_type": "code",
   "execution_count": 6,
   "metadata": {},
   "outputs": [
    {
     "data": {
      "text/html": [
       "<div>\n",
       "<style scoped>\n",
       "    .dataframe tbody tr th:only-of-type {\n",
       "        vertical-align: middle;\n",
       "    }\n",
       "\n",
       "    .dataframe tbody tr th {\n",
       "        vertical-align: top;\n",
       "    }\n",
       "\n",
       "    .dataframe thead th {\n",
       "        text-align: right;\n",
       "    }\n",
       "</style>\n",
       "<table border=\"1\" class=\"dataframe\">\n",
       "  <thead>\n",
       "    <tr style=\"text-align: right;\">\n",
       "      <th></th>\n",
       "      <th>user_id</th>\n",
       "      <th>item_id</th>\n",
       "      <th>timestamp</th>\n",
       "      <th>rating</th>\n",
       "    </tr>\n",
       "  </thead>\n",
       "  <tbody>\n",
       "    <tr>\n",
       "      <th>0</th>\n",
       "      <td>1</td>\n",
       "      <td>382389508</td>\n",
       "      <td>None</td>\n",
       "      <td>0.0</td>\n",
       "    </tr>\n",
       "    <tr>\n",
       "      <th>1</th>\n",
       "      <td>8</td>\n",
       "      <td>382545223</td>\n",
       "      <td>None</td>\n",
       "      <td>0.0</td>\n",
       "    </tr>\n",
       "    <tr>\n",
       "      <th>2</th>\n",
       "      <td>12</td>\n",
       "      <td>382364619</td>\n",
       "      <td>None</td>\n",
       "      <td>0.0</td>\n",
       "    </tr>\n",
       "    <tr>\n",
       "      <th>3</th>\n",
       "      <td>14</td>\n",
       "      <td>382391476</td>\n",
       "      <td>None</td>\n",
       "      <td>0.0</td>\n",
       "    </tr>\n",
       "    <tr>\n",
       "      <th>4</th>\n",
       "      <td>29</td>\n",
       "      <td>382393978</td>\n",
       "      <td>None</td>\n",
       "      <td>0.0</td>\n",
       "    </tr>\n",
       "    <tr>\n",
       "      <th>5</th>\n",
       "      <td>41</td>\n",
       "      <td>382348021</td>\n",
       "      <td>None</td>\n",
       "      <td>0.0</td>\n",
       "    </tr>\n",
       "    <tr>\n",
       "      <th>6</th>\n",
       "      <td>58</td>\n",
       "      <td>382364633</td>\n",
       "      <td>None</td>\n",
       "      <td>0.0</td>\n",
       "    </tr>\n",
       "    <tr>\n",
       "      <th>7</th>\n",
       "      <td>62</td>\n",
       "      <td>382393978</td>\n",
       "      <td>None</td>\n",
       "      <td>0.0</td>\n",
       "    </tr>\n",
       "    <tr>\n",
       "      <th>8</th>\n",
       "      <td>66</td>\n",
       "      <td>382545223</td>\n",
       "      <td>None</td>\n",
       "      <td>0.0</td>\n",
       "    </tr>\n",
       "    <tr>\n",
       "      <th>9</th>\n",
       "      <td>67</td>\n",
       "      <td>382567886</td>\n",
       "      <td>None</td>\n",
       "      <td>0.0</td>\n",
       "    </tr>\n",
       "  </tbody>\n",
       "</table>\n",
       "</div>"
      ],
      "text/plain": [
       "   user_id    item_id timestamp  rating\n",
       "0        1  382389508      None     0.0\n",
       "1        8  382545223      None     0.0\n",
       "2       12  382364619      None     0.0\n",
       "3       14  382391476      None     0.0\n",
       "4       29  382393978      None     0.0\n",
       "5       41  382348021      None     0.0\n",
       "6       58  382364633      None     0.0\n",
       "7       62  382393978      None     0.0\n",
       "8       66  382545223      None     0.0\n",
       "9       67  382567886      None     0.0"
      ]
     },
     "execution_count": 6,
     "metadata": {},
     "output_type": "execute_result"
    }
   ],
   "source": [
    "target_dataset.show()"
   ]
  },
  {
   "cell_type": "code",
   "execution_count": 17,
   "metadata": {
    "collapsed": true
   },
   "outputs": [],
   "source": [
    "from datetime import datetime, timedelta"
   ]
  },
  {
   "cell_type": "code",
   "execution_count": 6,
   "metadata": {
    "collapsed": true
   },
   "outputs": [],
   "source": [
    "import re"
   ]
  },
  {
   "cell_type": "code",
   "execution_count": 5,
   "metadata": {},
   "outputs": [
    {
     "data": {
      "text/plain": [
       "\"CREATE TABLE `sbx_team_digitcamp`.`RECSYS_STORY_DATASET_TARGET`(`user_id` INT, `item_id` INT, `timestamp` BIGINT, `rating` DOUBLE)\\nROW FORMAT SERDE 'org.apache.hadoop.hive.serde2.lazy.LazySimpleSerDe'\\nWITH SERDEPROPERTIES (\\n  'serialization.format' = '1'\\n)\\nSTORED AS\\n  INPUTFORMAT 'org.apache.hadoop.mapred.TextInputFormat'\\n  OUTPUTFORMAT 'org.apache.hadoop.hive.ql.io.HiveIgnoreKeyTextOutputFormat'\\nTBLPROPERTIES (\\n  'transient_lastDdlTime' = '1633447886'\\n)\\n\""
      ]
     },
     "execution_count": 5,
     "metadata": {},
     "output_type": "execute_result"
    }
   ],
   "source": [
    "table_info"
   ]
  },
  {
   "cell_type": "code",
   "execution_count": 7,
   "metadata": {},
   "outputs": [],
   "source": [
    "transient_lastDdlTime = re.search(r\"'transient_lastDdlTime' = '[0-9]*'\" , table_info).group()"
   ]
  },
  {
   "cell_type": "code",
   "execution_count": 8,
   "metadata": {},
   "outputs": [],
   "source": [
    "create_time_str = re.search(r\"[0-9]{4,20}\", transient_lastDdlTime).group()"
   ]
  },
  {
   "cell_type": "code",
   "execution_count": 9,
   "metadata": {},
   "outputs": [],
   "source": [
    "create_time_int = int(create_time_str)"
   ]
  },
  {
   "cell_type": "code",
   "execution_count": 13,
   "metadata": {
    "collapsed": true
   },
   "outputs": [],
   "source": [
    "import time"
   ]
  },
  {
   "cell_type": "code",
   "execution_count": 14,
   "metadata": {
    "collapsed": true
   },
   "outputs": [],
   "source": [
    "from datetime import datetime"
   ]
  },
  {
   "cell_type": "code",
   "execution_count": 10,
   "metadata": {},
   "outputs": [],
   "source": [
    "create_dt = datetime.fromtimestamp(create_time_int)"
   ]
  },
  {
   "cell_type": "code",
   "execution_count": 11,
   "metadata": {},
   "outputs": [
    {
     "data": {
      "text/plain": [
       "datetime.datetime(2021, 10, 5, 18, 31, 26)"
      ]
     },
     "execution_count": 11,
     "metadata": {},
     "output_type": "execute_result"
    }
   ],
   "source": [
    "create_dt"
   ]
  },
  {
   "cell_type": "code",
   "execution_count": 18,
   "metadata": {},
   "outputs": [],
   "source": [
    "curr_dt = datetime.today()"
   ]
  },
  {
   "cell_type": "code",
   "execution_count": 28,
   "metadata": {},
   "outputs": [
    {
     "data": {
      "text/plain": [
       "datetime.datetime(2021, 10, 5, 16, 43, 45, 759400)"
      ]
     },
     "execution_count": 28,
     "metadata": {},
     "output_type": "execute_result"
    }
   ],
   "source": [
    "curr_dt"
   ]
  },
  {
   "cell_type": "code",
   "execution_count": 62,
   "metadata": {},
   "outputs": [
    {
     "data": {
      "text/plain": [
       "datetime.datetime(2021, 10, 5, 17, 51, 5)"
      ]
     },
     "execution_count": 62,
     "metadata": {},
     "output_type": "execute_result"
    }
   ],
   "source": [
    "create_dt"
   ]
  },
  {
   "cell_type": "code",
   "execution_count": 21,
   "metadata": {},
   "outputs": [
    {
     "data": {
      "text/plain": [
       "datetime.datetime"
      ]
     },
     "execution_count": 21,
     "metadata": {},
     "output_type": "execute_result"
    }
   ],
   "source": [
    "type(curr_dt)"
   ]
  },
  {
   "cell_type": "code",
   "execution_count": 36,
   "metadata": {},
   "outputs": [
    {
     "ename": "TypeError",
     "evalue": "descriptor 'date' requires a 'datetime.datetime' object but received a 'int'",
     "output_type": "error",
     "traceback": [
      "\u001b[0;31m---------------------------------------------------------------------------\u001b[0m",
      "\u001b[0;31mTypeError\u001b[0m                                 Traceback (most recent call last)",
      "\u001b[0;32m<ipython-input-36-20a1773055c9>\u001b[0m in \u001b[0;36m<module>\u001b[0;34m()\u001b[0m\n\u001b[0;32m----> 1\u001b[0;31m \u001b[0mdatetime\u001b[0m\u001b[0;34m.\u001b[0m\u001b[0mdate\u001b[0m\u001b[0;34m(\u001b[0m\u001b[0;36m4\u001b[0m\u001b[0;34m,\u001b[0m \u001b[0;36m10\u001b[0m\u001b[0;34m,\u001b[0m \u001b[0;36m2021\u001b[0m\u001b[0;34m)\u001b[0m\u001b[0;34m\u001b[0m\u001b[0m\n\u001b[0m",
      "\u001b[0;31mTypeError\u001b[0m: descriptor 'date' requires a 'datetime.datetime' object but received a 'int'"
     ]
    }
   ],
   "source": [
    "datetime.date(4, 10, 2021)"
   ]
  },
  {
   "cell_type": "code",
   "execution_count": 35,
   "metadata": {},
   "outputs": [
    {
     "ename": "TypeError",
     "evalue": "descriptor 'date' requires a 'datetime.datetime' object but received a 'int'",
     "output_type": "error",
     "traceback": [
      "\u001b[0;31m---------------------------------------------------------------------------\u001b[0m",
      "\u001b[0;31mTypeError\u001b[0m                                 Traceback (most recent call last)",
      "\u001b[0;32m<ipython-input-35-e2feb316aa5d>\u001b[0m in \u001b[0;36m<module>\u001b[0;34m()\u001b[0m\n\u001b[0;32m----> 1\u001b[0;31m \u001b[0mcurr_dt\u001b[0m \u001b[0;34m-\u001b[0m \u001b[0mdatetime\u001b[0m\u001b[0;34m.\u001b[0m\u001b[0mdate\u001b[0m\u001b[0;34m(\u001b[0m\u001b[0;36m1\u001b[0m\u001b[0;34m)\u001b[0m\u001b[0;34m\u001b[0m\u001b[0m\n\u001b[0m",
      "\u001b[0;31mTypeError\u001b[0m: descriptor 'date' requires a 'datetime.datetime' object but received a 'int'"
     ]
    }
   ],
   "source": [
    "curr_dt - datetime.cr"
   ]
  },
  {
   "cell_type": "code",
   "execution_count": 41,
   "metadata": {},
   "outputs": [],
   "source": [
    "delta = (curr_dt - create_dt).days"
   ]
  },
  {
   "cell_type": "code",
   "execution_count": 44,
   "metadata": {},
   "outputs": [
    {
     "data": {
      "text/plain": [
       "True"
      ]
     },
     "execution_count": 44,
     "metadata": {},
     "output_type": "execute_result"
    }
   ],
   "source": [
    "delta <= 2"
   ]
  },
  {
   "cell_type": "code",
   "execution_count": 33,
   "metadata": {},
   "outputs": [
    {
     "data": {
      "text/plain": [
       "0"
      ]
     },
     "execution_count": 33,
     "metadata": {},
     "output_type": "execute_result"
    }
   ],
   "source": [
    "delta.days"
   ]
  },
  {
   "cell_type": "code",
   "execution_count": null,
   "metadata": {
    "collapsed": true
   },
   "outputs": [],
   "source": []
  },
  {
   "cell_type": "code",
   "execution_count": null,
   "metadata": {
    "collapsed": true
   },
   "outputs": [],
   "source": []
  },
  {
   "cell_type": "code",
   "execution_count": null,
   "metadata": {
    "collapsed": true
   },
   "outputs": [],
   "source": []
  },
  {
   "cell_type": "code",
   "execution_count": null,
   "metadata": {
    "collapsed": true
   },
   "outputs": [],
   "source": []
  }
 ],
 "metadata": {
  "kernelspec": {
   "display_name": "Python 3",
   "language": "python",
   "name": "python3"
  },
  "language_info": {
   "codemirror_mode": {
    "name": "ipython",
    "version": 3
   },
   "file_extension": ".py",
   "mimetype": "text/x-python",
   "name": "python",
   "nbconvert_exporter": "python",
   "pygments_lexer": "ipython3",
   "version": "3.6.3"
  }
 },
 "nbformat": 4,
 "nbformat_minor": 2
}
