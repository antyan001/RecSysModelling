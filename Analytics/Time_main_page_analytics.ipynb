{
 "cells": [
  {
   "cell_type": "code",
   "execution_count": 1,
   "metadata": {
    "collapsed": true,
    "jupyter": {
     "outputs_hidden": true
    }
   },
   "outputs": [],
   "source": [
    "import os, sys\n",
    "\n",
    "recsys_cf = os.environ.get(\"RECSYS_STORY\")\n",
    "sys.path.append(recsys_cf)\n",
    "os.chdir(recsys_cf)\n",
    "\n",
    "from lib.tools import *"
   ]
  },
  {
   "cell_type": "code",
   "execution_count": 2,
   "metadata": {
    "collapsed": true,
    "jupyter": {
     "outputs_hidden": true
    }
   },
   "outputs": [],
   "source": [
    "from urllib.parse import urlparse"
   ]
  },
  {
   "cell_type": "markdown",
   "metadata": {},
   "source": [
    "###### spark "
   ]
  },
  {
   "cell_type": "code",
   "execution_count": 3,
   "metadata": {
    "collapsed": true,
    "jupyter": {
     "outputs_hidden": true
    }
   },
   "outputs": [],
   "source": [
    "sp = spark(**SPARK_CONFIG)\n",
    "hive = sp.sql"
   ]
  },
  {
   "cell_type": "markdown",
   "metadata": {},
   "source": [
    "###### Загрузка кликстрима "
   ]
  },
  {
   "cell_type": "markdown",
   "metadata": {},
   "source": [
    "кликстрим ГА за определенную дату"
   ]
  },
  {
   "cell_type": "code",
   "execution_count": 5,
   "metadata": {
    "collapsed": true,
    "jupyter": {
     "outputs_hidden": true
    }
   },
   "outputs": [],
   "source": [
    "begin_date = '2021-06-21'\n",
    "# end_date = '2021-06-13'"
   ]
  },
  {
   "cell_type": "code",
   "execution_count": null,
   "metadata": {
    "collapsed": true,
    "jupyter": {
     "outputs_hidden": true
    }
   },
   "outputs": [],
   "source": [
    "visit = hive.sql(\"\"\"select sbbolUserId,\n",
    "                           sessionId\n",
    "                           sessionDate,\n",
    "                           hitPagePath,\n",
    "                           hitPageTitle,\n",
    "                           sessionId,\n",
    "                           sessionStartTime,\n",
    "                           hitTime,\n",
    "                           hitType,\n",
    "                        \n",
    "                        \n",
    "                        \n",
    "                           eventCategory,\n",
    "                           eventAction,\n",
    "                           eventLabel,\n",
    "                           hitPageHostName\n",
    "                        \n",
    "                     from cap_external_google_dda_external_google_analytics.visit\n",
    "                     where 1 = 1\n",
    "                       and sessiondate >= \"{}\"\n",
    "                       and hitPageHostName = 'sbi.sberbank.ru'\"\"\".format(begin_date))"
   ]
  },
  {
   "cell_type": "markdown",
   "metadata": {},
   "source": [
    "Загрузка тмп витрины"
   ]
  },
  {
   "cell_type": "code",
   "execution_count": 13,
   "metadata": {
    "collapsed": true,
    "jupyter": {
     "outputs_hidden": true
    }
   },
   "outputs": [],
   "source": [
    "visit_tmp = load_table(SBX_TEAM_DIGITCAMP, VISIT, hive)"
   ]
  },
  {
   "cell_type": "code",
   "execution_count": 14,
   "metadata": {},
   "outputs": [
    {
     "data": {
      "text/html": [
       "<div>\n",
       "<style scoped>\n",
       "    .dataframe tbody tr th:only-of-type {\n",
       "        vertical-align: middle;\n",
       "    }\n",
       "\n",
       "    .dataframe tbody tr th {\n",
       "        vertical-align: top;\n",
       "    }\n",
       "\n",
       "    .dataframe thead th {\n",
       "        text-align: right;\n",
       "    }\n",
       "</style>\n",
       "<table border=\"1\" class=\"dataframe\">\n",
       "  <thead>\n",
       "    <tr style=\"text-align: right;\">\n",
       "      <th></th>\n",
       "      <th>visitNumber</th>\n",
       "      <th>cid</th>\n",
       "      <th>commonSegmentoUID</th>\n",
       "      <th>sbbolUserId</th>\n",
       "      <th>hitPagePath</th>\n",
       "      <th>hitPageTitle</th>\n",
       "      <th>sessionStartTime</th>\n",
       "      <th>sessionDate</th>\n",
       "      <th>hitType</th>\n",
       "      <th>hitNumber</th>\n",
       "      <th>hitTime</th>\n",
       "      <th>eventCategory</th>\n",
       "      <th>eventAction</th>\n",
       "      <th>eventLabel</th>\n",
       "      <th>hitPageHostName</th>\n",
       "      <th>ctl_loading</th>\n",
       "      <th>sessionId</th>\n",
       "      <th>deviceIsMobile</th>\n",
       "      <th>deviceMobileDeviceModel</th>\n",
       "      <th>deviceDeviceCategory</th>\n",
       "      <th>geoRegion</th>\n",
       "      <th>geoCity</th>\n",
       "    </tr>\n",
       "  </thead>\n",
       "  <tbody>\n",
       "    <tr>\n",
       "      <th>0</th>\n",
       "      <td>192</td>\n",
       "      <td>1164411562.1611742538</td>\n",
       "      <td>None</td>\n",
       "      <td>3c25f084-a2c9-fc84-e054-90e2ba85d0c8</td>\n",
       "      <td>/accounts-payments</td>\n",
       "      <td>СберБизнес</td>\n",
       "      <td>1624620708</td>\n",
       "      <td>2021-06-25</td>\n",
       "      <td>EVENT</td>\n",
       "      <td>184</td>\n",
       "      <td>7319328</td>\n",
       "      <td>[std]: currency control</td>\n",
       "      <td>show</td>\n",
       "      <td>[layout.primarymenusbbol3]: [system_name: menu_item_currency_control, promoted: 1, novelty: 1]</td>\n",
       "      <td>localhost</td>\n",
       "      <td>9608349</td>\n",
       "      <td>1624620708</td>\n",
       "      <td>False</td>\n",
       "      <td>None</td>\n",
       "      <td>desktop</td>\n",
       "      <td>Moscow</td>\n",
       "      <td>Moscow</td>\n",
       "    </tr>\n",
       "    <tr>\n",
       "      <th>1</th>\n",
       "      <td>5</td>\n",
       "      <td>474016488.1624597658</td>\n",
       "      <td>None</td>\n",
       "      <td>ee75b8c5-5075-4e1d-adcd-eb522bb8b458</td>\n",
       "      <td>/loginSuccess</td>\n",
       "      <td>СберБизнес</td>\n",
       "      <td>1624620958</td>\n",
       "      <td>2021-06-25</td>\n",
       "      <td>PAGE</td>\n",
       "      <td>10</td>\n",
       "      <td>18462</td>\n",
       "      <td>None</td>\n",
       "      <td>None</td>\n",
       "      <td>None</td>\n",
       "      <td>localhost</td>\n",
       "      <td>9608349</td>\n",
       "      <td>1624620958</td>\n",
       "      <td>False</td>\n",
       "      <td>None</td>\n",
       "      <td>desktop</td>\n",
       "      <td>Sverdlovsk Oblast</td>\n",
       "      <td>Yekaterinburg</td>\n",
       "    </tr>\n",
       "    <tr>\n",
       "      <th>2</th>\n",
       "      <td>5</td>\n",
       "      <td>474016488.1624597658</td>\n",
       "      <td>None</td>\n",
       "      <td>ee75b8c5-5075-4e1d-adcd-eb522bb8b458</td>\n",
       "      <td>/accounts-payments#lightbox/payment/:type/:id</td>\n",
       "      <td>СберБизнес</td>\n",
       "      <td>1624620958</td>\n",
       "      <td>2021-06-25</td>\n",
       "      <td>EVENT</td>\n",
       "      <td>149</td>\n",
       "      <td>1024617</td>\n",
       "      <td>[operations]: offers</td>\n",
       "      <td>impression-story</td>\n",
       "      <td>[placement: payment_details|ruble_payment[context]][container: a80fef24-3e50-4acc-b8d1-7f9dc4f42319][bc: adv_non_bank][product: customwarranty]</td>\n",
       "      <td>localhost</td>\n",
       "      <td>9608349</td>\n",
       "      <td>1624620958</td>\n",
       "      <td>False</td>\n",
       "      <td>None</td>\n",
       "      <td>desktop</td>\n",
       "      <td>Sverdlovsk Oblast</td>\n",
       "      <td>Yekaterinburg</td>\n",
       "    </tr>\n",
       "  </tbody>\n",
       "</table>\n",
       "</div>"
      ],
      "text/plain": [
       "   visitNumber                    cid commonSegmentoUID  \\\n",
       "0          192  1164411562.1611742538              None   \n",
       "1            5   474016488.1624597658              None   \n",
       "2            5   474016488.1624597658              None   \n",
       "\n",
       "                            sbbolUserId  \\\n",
       "0  3c25f084-a2c9-fc84-e054-90e2ba85d0c8   \n",
       "1  ee75b8c5-5075-4e1d-adcd-eb522bb8b458   \n",
       "2  ee75b8c5-5075-4e1d-adcd-eb522bb8b458   \n",
       "\n",
       "                                     hitPagePath hitPageTitle  \\\n",
       "0                             /accounts-payments   СберБизнес   \n",
       "1                                  /loginSuccess   СберБизнес   \n",
       "2  /accounts-payments#lightbox/payment/:type/:id   СберБизнес   \n",
       "\n",
       "   sessionStartTime sessionDate hitType  hitNumber  hitTime  \\\n",
       "0        1624620708  2021-06-25   EVENT        184  7319328   \n",
       "1        1624620958  2021-06-25    PAGE         10    18462   \n",
       "2        1624620958  2021-06-25   EVENT        149  1024617   \n",
       "\n",
       "             eventCategory       eventAction  \\\n",
       "0  [std]: currency control              show   \n",
       "1                     None              None   \n",
       "2     [operations]: offers  impression-story   \n",
       "\n",
       "                                                                                                                                        eventLabel  \\\n",
       "0                                                   [layout.primarymenusbbol3]: [system_name: menu_item_currency_control, promoted: 1, novelty: 1]   \n",
       "1                                                                                                                                             None   \n",
       "2  [placement: payment_details|ruble_payment[context]][container: a80fef24-3e50-4acc-b8d1-7f9dc4f42319][bc: adv_non_bank][product: customwarranty]   \n",
       "\n",
       "  hitPageHostName  ctl_loading   sessionId  deviceIsMobile  \\\n",
       "0       localhost      9608349  1624620708           False   \n",
       "1       localhost      9608349  1624620958           False   \n",
       "2       localhost      9608349  1624620958           False   \n",
       "\n",
       "  deviceMobileDeviceModel deviceDeviceCategory          geoRegion  \\\n",
       "0                    None              desktop             Moscow   \n",
       "1                    None              desktop  Sverdlovsk Oblast   \n",
       "2                    None              desktop  Sverdlovsk Oblast   \n",
       "\n",
       "         geoCity  \n",
       "0         Moscow  \n",
       "1  Yekaterinburg  \n",
       "2  Yekaterinburg  "
      ]
     },
     "execution_count": 14,
     "metadata": {},
     "output_type": "execute_result"
    }
   ],
   "source": [
    "visit_tmp.show(3)"
   ]
  },
  {
   "cell_type": "code",
   "execution_count": 63,
   "metadata": {},
   "outputs": [
    {
     "data": {
      "text/html": [
       "<div>\n",
       "<style scoped>\n",
       "    .dataframe tbody tr th:only-of-type {\n",
       "        vertical-align: middle;\n",
       "    }\n",
       "\n",
       "    .dataframe tbody tr th {\n",
       "        vertical-align: top;\n",
       "    }\n",
       "\n",
       "    .dataframe thead th {\n",
       "        text-align: right;\n",
       "    }\n",
       "</style>\n",
       "<table border=\"1\" class=\"dataframe\">\n",
       "  <thead>\n",
       "    <tr style=\"text-align: right;\">\n",
       "      <th></th>\n",
       "      <th>visitNumber</th>\n",
       "      <th>cid</th>\n",
       "      <th>commonSegmentoUID</th>\n",
       "      <th>sbbolUserId</th>\n",
       "      <th>hitPagePath</th>\n",
       "      <th>hitPageTitle</th>\n",
       "      <th>sessionStartTime</th>\n",
       "      <th>sessionDate</th>\n",
       "      <th>hitType</th>\n",
       "      <th>hitNumber</th>\n",
       "      <th>hitTime</th>\n",
       "      <th>eventCategory</th>\n",
       "      <th>eventAction</th>\n",
       "      <th>eventLabel</th>\n",
       "      <th>hitPageHostName</th>\n",
       "      <th>ctl_loading</th>\n",
       "      <th>sessionId</th>\n",
       "      <th>deviceIsMobile</th>\n",
       "      <th>deviceMobileDeviceModel</th>\n",
       "      <th>deviceDeviceCategory</th>\n",
       "      <th>geoRegion</th>\n",
       "      <th>geoCity</th>\n",
       "    </tr>\n",
       "  </thead>\n",
       "  <tbody>\n",
       "    <tr>\n",
       "      <th>0</th>\n",
       "      <td>544</td>\n",
       "      <td>1619632225.1604049241</td>\n",
       "      <td>bUyk6wxy7X0g</td>\n",
       "      <td>None</td>\n",
       "      <td>/ru/s_m_business/new_sbbol</td>\n",
       "      <td>Сбербанк Бизнес Онлайн (СББОЛ) — вход в систему — СберБанк</td>\n",
       "      <td>1624610454</td>\n",
       "      <td>2021-06-25</td>\n",
       "      <td>EVENT</td>\n",
       "      <td>26</td>\n",
       "      <td>29585</td>\n",
       "      <td>SITE_Corporate_new_sbbol</td>\n",
       "      <td>informing_leads</td>\n",
       "      <td>30 sec on page</td>\n",
       "      <td>www.sberbank.ru</td>\n",
       "      <td>9608349</td>\n",
       "      <td>1624610454</td>\n",
       "      <td>False</td>\n",
       "      <td>None</td>\n",
       "      <td>desktop</td>\n",
       "      <td>Samara Oblast</td>\n",
       "      <td>Samara</td>\n",
       "    </tr>\n",
       "    <tr>\n",
       "      <th>1</th>\n",
       "      <td>1</td>\n",
       "      <td>1477736737.1624607244</td>\n",
       "      <td>None</td>\n",
       "      <td>None</td>\n",
       "      <td>/ru/s_m_business/new_sbbol</td>\n",
       "      <td>Сбербанк Бизнес Онлайн (СББОЛ) — вход в систему — СберБанк</td>\n",
       "      <td>1624607243</td>\n",
       "      <td>2021-06-25</td>\n",
       "      <td>EVENT</td>\n",
       "      <td>3</td>\n",
       "      <td>6288</td>\n",
       "      <td>SITE_Corporate_new_sbbol</td>\n",
       "      <td>click_any</td>\n",
       "      <td>Войти в банк_kit-button__text</td>\n",
       "      <td>www.sberbank.ru</td>\n",
       "      <td>9608349</td>\n",
       "      <td>1624607243</td>\n",
       "      <td>False</td>\n",
       "      <td>None</td>\n",
       "      <td>desktop</td>\n",
       "      <td>Sakha Republic</td>\n",
       "      <td>Yakutsk</td>\n",
       "    </tr>\n",
       "    <tr>\n",
       "      <th>2</th>\n",
       "      <td>3</td>\n",
       "      <td>2044137016.1622710385</td>\n",
       "      <td>zeps8fyVwm1E</td>\n",
       "      <td>None</td>\n",
       "      <td>/ru/s_m_business/new_sbbol</td>\n",
       "      <td>Сбербанк Бизнес Онлайн (СББОЛ) — вход в систему — СберБанк</td>\n",
       "      <td>1624600838</td>\n",
       "      <td>2021-06-25</td>\n",
       "      <td>EVENT</td>\n",
       "      <td>7</td>\n",
       "      <td>47054</td>\n",
       "      <td>SITE_Corporate_new_sbbol</td>\n",
       "      <td>informing_leads</td>\n",
       "      <td>30 sec on page</td>\n",
       "      <td>www.sberbank.ru</td>\n",
       "      <td>9608349</td>\n",
       "      <td>1624600838</td>\n",
       "      <td>False</td>\n",
       "      <td>None</td>\n",
       "      <td>desktop</td>\n",
       "      <td>Samara Oblast</td>\n",
       "      <td>Tolyatti</td>\n",
       "    </tr>\n",
       "    <tr>\n",
       "      <th>3</th>\n",
       "      <td>1</td>\n",
       "      <td>1905736447.1624622718</td>\n",
       "      <td>None</td>\n",
       "      <td>None</td>\n",
       "      <td>/ru/s_m_business/new_sbbol</td>\n",
       "      <td>Сбербанк Бизнес Онлайн (СББОЛ) — вход в систему — СберБанк</td>\n",
       "      <td>1624622718</td>\n",
       "      <td>2021-06-25</td>\n",
       "      <td>EVENT</td>\n",
       "      <td>2</td>\n",
       "      <td>6044</td>\n",
       "      <td>SITE_Corporate_new_sbbol</td>\n",
       "      <td>click_any</td>\n",
       "      <td>Интернет-банк СберБизнес_kitt-header__link kitt-header__sbol kitt-header__sbol_long</td>\n",
       "      <td>www.sberbank.ru</td>\n",
       "      <td>9608349</td>\n",
       "      <td>1624622718</td>\n",
       "      <td>False</td>\n",
       "      <td>None</td>\n",
       "      <td>desktop</td>\n",
       "      <td>Chelyabinsk Oblast</td>\n",
       "      <td>Chelyabinsk</td>\n",
       "    </tr>\n",
       "    <tr>\n",
       "      <th>4</th>\n",
       "      <td>59</td>\n",
       "      <td>1297509218.1600668317</td>\n",
       "      <td>Iwn_drEZ1JFM</td>\n",
       "      <td>None</td>\n",
       "      <td>/ru/s_m_business/bankingservice/adm</td>\n",
       "      <td>АДМ — Автоматизированная депозитная машина — СберБанк</td>\n",
       "      <td>1624604019</td>\n",
       "      <td>2021-06-25</td>\n",
       "      <td>EVENT</td>\n",
       "      <td>27</td>\n",
       "      <td>1770076</td>\n",
       "      <td>SITE_Corporate_bankingservice.adm</td>\n",
       "      <td>click_go_to_menu</td>\n",
       "      <td>Приём платежей</td>\n",
       "      <td>www.sberbank.ru</td>\n",
       "      <td>9608349</td>\n",
       "      <td>1624604019</td>\n",
       "      <td>False</td>\n",
       "      <td>None</td>\n",
       "      <td>desktop</td>\n",
       "      <td>Sverdlovsk Oblast</td>\n",
       "      <td>Yekaterinburg</td>\n",
       "    </tr>\n",
       "    <tr>\n",
       "      <th>5</th>\n",
       "      <td>151</td>\n",
       "      <td>2037318879.1616509567</td>\n",
       "      <td>None</td>\n",
       "      <td>None</td>\n",
       "      <td>/ru/s_m_business/reserved-checking-account24?channel=mkkaigrigorovich</td>\n",
       "      <td>Онлайн резервирование счета​</td>\n",
       "      <td>1624623734</td>\n",
       "      <td>2021-06-25</td>\n",
       "      <td>EVENT</td>\n",
       "      <td>3</td>\n",
       "      <td>29688</td>\n",
       "      <td>SITE_Corporate_reserved-checking-account24</td>\n",
       "      <td>informing_leads</td>\n",
       "      <td>30 sec on page</td>\n",
       "      <td>www.sberbank.ru</td>\n",
       "      <td>9608349</td>\n",
       "      <td>1624623734</td>\n",
       "      <td>False</td>\n",
       "      <td>None</td>\n",
       "      <td>desktop</td>\n",
       "      <td>Saint Petersburg</td>\n",
       "      <td>Saint Petersburg</td>\n",
       "    </tr>\n",
       "    <tr>\n",
       "      <th>6</th>\n",
       "      <td>151</td>\n",
       "      <td>2037318879.1616509567</td>\n",
       "      <td>None</td>\n",
       "      <td>None</td>\n",
       "      <td>/ru/s_m_business/reserved-checking-account24?channel=mkkaigrigorovich</td>\n",
       "      <td>Онлайн резервирование счета​</td>\n",
       "      <td>1624623734</td>\n",
       "      <td>2021-06-25</td>\n",
       "      <td>EVENT</td>\n",
       "      <td>37</td>\n",
       "      <td>381477</td>\n",
       "      <td>SITE_Corporate_reserved-checking-account24</td>\n",
       "      <td>trackad</td>\n",
       "      <td>2037318879.1616509567_470707765000</td>\n",
       "      <td>www.sberbank.ru</td>\n",
       "      <td>9608349</td>\n",
       "      <td>1624623734</td>\n",
       "      <td>False</td>\n",
       "      <td>None</td>\n",
       "      <td>desktop</td>\n",
       "      <td>Saint Petersburg</td>\n",
       "      <td>Saint Petersburg</td>\n",
       "    </tr>\n",
       "    <tr>\n",
       "      <th>7</th>\n",
       "      <td>2</td>\n",
       "      <td>1389533800.1622388321</td>\n",
       "      <td>yeUEBgy9D0F-</td>\n",
       "      <td>None</td>\n",
       "      <td>/ru/s_m_business/bankingservice/posloans</td>\n",
       "      <td>Кредитование ваших покупателей — СберБанк</td>\n",
       "      <td>1624653738</td>\n",
       "      <td>2021-06-25</td>\n",
       "      <td>EVENT</td>\n",
       "      <td>7</td>\n",
       "      <td>66308</td>\n",
       "      <td>SITE_Corporate_bankingservice.posloans</td>\n",
       "      <td>click_any</td>\n",
       "      <td>undefined_chat-icon</td>\n",
       "      <td>www.sberbank.ru</td>\n",
       "      <td>9608349</td>\n",
       "      <td>1624653738</td>\n",
       "      <td>False</td>\n",
       "      <td>None</td>\n",
       "      <td>desktop</td>\n",
       "      <td>Krasnodar Krai</td>\n",
       "      <td>Krasnodar</td>\n",
       "    </tr>\n",
       "    <tr>\n",
       "      <th>8</th>\n",
       "      <td>9</td>\n",
       "      <td>169204080.1623839339</td>\n",
       "      <td>None</td>\n",
       "      <td>None</td>\n",
       "      <td>/ru/s_m_business/new_sbbol</td>\n",
       "      <td>Сбербанк Бизнес Онлайн (СББОЛ) — вход в систему — СберБанк</td>\n",
       "      <td>1624610708</td>\n",
       "      <td>2021-06-25</td>\n",
       "      <td>EVENT</td>\n",
       "      <td>56</td>\n",
       "      <td>572970</td>\n",
       "      <td>SITE_Widget_SiteHeader</td>\n",
       "      <td>click_segment</td>\n",
       "      <td>Малому бизнесу и ИП</td>\n",
       "      <td>www.sberbank.ru</td>\n",
       "      <td>9608349</td>\n",
       "      <td>1624610708</td>\n",
       "      <td>False</td>\n",
       "      <td>None</td>\n",
       "      <td>desktop</td>\n",
       "      <td>Yaroslavl Oblast</td>\n",
       "      <td>Yaroslavl</td>\n",
       "    </tr>\n",
       "    <tr>\n",
       "      <th>9</th>\n",
       "      <td>9</td>\n",
       "      <td>169204080.1623839339</td>\n",
       "      <td>None</td>\n",
       "      <td>None</td>\n",
       "      <td>/ru/s_m_business</td>\n",
       "      <td>СберБизнес — банк для малого бизнеса</td>\n",
       "      <td>1624610708</td>\n",
       "      <td>2021-06-25</td>\n",
       "      <td>EVENT</td>\n",
       "      <td>63</td>\n",
       "      <td>592229</td>\n",
       "      <td>SITE_Corporate_.ru.s_m_business</td>\n",
       "      <td>click_any</td>\n",
       "      <td>Интернет-банк СберБизнес_kitt-header__link kitt-header__sbol kitt-header__sbol_long</td>\n",
       "      <td>www.sberbank.ru</td>\n",
       "      <td>9608349</td>\n",
       "      <td>1624610708</td>\n",
       "      <td>False</td>\n",
       "      <td>None</td>\n",
       "      <td>desktop</td>\n",
       "      <td>Yaroslavl Oblast</td>\n",
       "      <td>Yaroslavl</td>\n",
       "    </tr>\n",
       "  </tbody>\n",
       "</table>\n",
       "</div>"
      ],
      "text/plain": [
       "   visitNumber                    cid commonSegmentoUID sbbolUserId  \\\n",
       "0          544  1619632225.1604049241      bUyk6wxy7X0g        None   \n",
       "1            1  1477736737.1624607244              None        None   \n",
       "2            3  2044137016.1622710385      zeps8fyVwm1E        None   \n",
       "3            1  1905736447.1624622718              None        None   \n",
       "4           59  1297509218.1600668317      Iwn_drEZ1JFM        None   \n",
       "5          151  2037318879.1616509567              None        None   \n",
       "6          151  2037318879.1616509567              None        None   \n",
       "7            2  1389533800.1622388321      yeUEBgy9D0F-        None   \n",
       "8            9   169204080.1623839339              None        None   \n",
       "9            9   169204080.1623839339              None        None   \n",
       "\n",
       "                                                             hitPagePath  \\\n",
       "0                                             /ru/s_m_business/new_sbbol   \n",
       "1                                             /ru/s_m_business/new_sbbol   \n",
       "2                                             /ru/s_m_business/new_sbbol   \n",
       "3                                             /ru/s_m_business/new_sbbol   \n",
       "4                                    /ru/s_m_business/bankingservice/adm   \n",
       "5  /ru/s_m_business/reserved-checking-account24?channel=mkkaigrigorovich   \n",
       "6  /ru/s_m_business/reserved-checking-account24?channel=mkkaigrigorovich   \n",
       "7                               /ru/s_m_business/bankingservice/posloans   \n",
       "8                                             /ru/s_m_business/new_sbbol   \n",
       "9                                                       /ru/s_m_business   \n",
       "\n",
       "                                                 hitPageTitle  \\\n",
       "0  Сбербанк Бизнес Онлайн (СББОЛ) — вход в систему — СберБанк   \n",
       "1  Сбербанк Бизнес Онлайн (СББОЛ) — вход в систему — СберБанк   \n",
       "2  Сбербанк Бизнес Онлайн (СББОЛ) — вход в систему — СберБанк   \n",
       "3  Сбербанк Бизнес Онлайн (СББОЛ) — вход в систему — СберБанк   \n",
       "4       АДМ — Автоматизированная депозитная машина — СберБанк   \n",
       "5                                Онлайн резервирование счета​   \n",
       "6                                Онлайн резервирование счета​   \n",
       "7                   Кредитование ваших покупателей — СберБанк   \n",
       "8  Сбербанк Бизнес Онлайн (СББОЛ) — вход в систему — СберБанк   \n",
       "9                        СберБизнес — банк для малого бизнеса   \n",
       "\n",
       "   sessionStartTime sessionDate hitType  hitNumber  hitTime  \\\n",
       "0        1624610454  2021-06-25   EVENT         26    29585   \n",
       "1        1624607243  2021-06-25   EVENT          3     6288   \n",
       "2        1624600838  2021-06-25   EVENT          7    47054   \n",
       "3        1624622718  2021-06-25   EVENT          2     6044   \n",
       "4        1624604019  2021-06-25   EVENT         27  1770076   \n",
       "5        1624623734  2021-06-25   EVENT          3    29688   \n",
       "6        1624623734  2021-06-25   EVENT         37   381477   \n",
       "7        1624653738  2021-06-25   EVENT          7    66308   \n",
       "8        1624610708  2021-06-25   EVENT         56   572970   \n",
       "9        1624610708  2021-06-25   EVENT         63   592229   \n",
       "\n",
       "                                eventCategory       eventAction  \\\n",
       "0                    SITE_Corporate_new_sbbol   informing_leads   \n",
       "1                    SITE_Corporate_new_sbbol         click_any   \n",
       "2                    SITE_Corporate_new_sbbol   informing_leads   \n",
       "3                    SITE_Corporate_new_sbbol         click_any   \n",
       "4           SITE_Corporate_bankingservice.adm  click_go_to_menu   \n",
       "5  SITE_Corporate_reserved-checking-account24   informing_leads   \n",
       "6  SITE_Corporate_reserved-checking-account24           trackad   \n",
       "7      SITE_Corporate_bankingservice.posloans         click_any   \n",
       "8                      SITE_Widget_SiteHeader     click_segment   \n",
       "9             SITE_Corporate_.ru.s_m_business         click_any   \n",
       "\n",
       "                                                                            eventLabel  \\\n",
       "0                                                                       30 sec on page   \n",
       "1                                                        Войти в банк_kit-button__text   \n",
       "2                                                                       30 sec on page   \n",
       "3  Интернет-банк СберБизнес_kitt-header__link kitt-header__sbol kitt-header__sbol_long   \n",
       "4                                                                       Приём платежей   \n",
       "5                                                                       30 sec on page   \n",
       "6                                                   2037318879.1616509567_470707765000   \n",
       "7                                                                  undefined_chat-icon   \n",
       "8                                                                  Малому бизнесу и ИП   \n",
       "9  Интернет-банк СберБизнес_kitt-header__link kitt-header__sbol kitt-header__sbol_long   \n",
       "\n",
       "   hitPageHostName  ctl_loading   sessionId  deviceIsMobile  \\\n",
       "0  www.sberbank.ru      9608349  1624610454           False   \n",
       "1  www.sberbank.ru      9608349  1624607243           False   \n",
       "2  www.sberbank.ru      9608349  1624600838           False   \n",
       "3  www.sberbank.ru      9608349  1624622718           False   \n",
       "4  www.sberbank.ru      9608349  1624604019           False   \n",
       "5  www.sberbank.ru      9608349  1624623734           False   \n",
       "6  www.sberbank.ru      9608349  1624623734           False   \n",
       "7  www.sberbank.ru      9608349  1624653738           False   \n",
       "8  www.sberbank.ru      9608349  1624610708           False   \n",
       "9  www.sberbank.ru      9608349  1624610708           False   \n",
       "\n",
       "  deviceMobileDeviceModel deviceDeviceCategory           geoRegion  \\\n",
       "0                    None              desktop       Samara Oblast   \n",
       "1                    None              desktop      Sakha Republic   \n",
       "2                    None              desktop       Samara Oblast   \n",
       "3                    None              desktop  Chelyabinsk Oblast   \n",
       "4                    None              desktop   Sverdlovsk Oblast   \n",
       "5                    None              desktop    Saint Petersburg   \n",
       "6                    None              desktop    Saint Petersburg   \n",
       "7                    None              desktop      Krasnodar Krai   \n",
       "8                    None              desktop    Yaroslavl Oblast   \n",
       "9                    None              desktop    Yaroslavl Oblast   \n",
       "\n",
       "            geoCity  \n",
       "0            Samara  \n",
       "1           Yakutsk  \n",
       "2          Tolyatti  \n",
       "3       Chelyabinsk  \n",
       "4     Yekaterinburg  \n",
       "5  Saint Petersburg  \n",
       "6  Saint Petersburg  \n",
       "7         Krasnodar  \n",
       "8         Yaroslavl  \n",
       "9         Yaroslavl  "
      ]
     },
     "execution_count": 63,
     "metadata": {},
     "output_type": "execute_result"
    }
   ],
   "source": [
    "visit_tmp.filter(\"hitPagePath like '%busine%'\").show()"
   ]
  },
  {
   "cell_type": "code",
   "execution_count": 15,
   "metadata": {},
   "outputs": [
    {
     "data": {
      "text/plain": [
       "DataFrame[visitNumber: bigint, cid: string, commonSegmentoUID: string, sbbolUserId: string, hitPagePath: string, hitPageTitle: string, sessionStartTime: bigint, sessionDate: string, hitType: string, hitNumber: bigint, hitTime: bigint, eventCategory: string, eventAction: string, eventLabel: string, hitPageHostName: string, ctl_loading: int, sessionId: bigint, deviceIsMobile: boolean, deviceMobileDeviceModel: string, deviceDeviceCategory: string, geoRegion: string, geoCity: string]"
      ]
     },
     "execution_count": 15,
     "metadata": {},
     "output_type": "execute_result"
    }
   ],
   "source": [
    "visit_tmp.cache()"
   ]
  },
  {
   "cell_type": "code",
   "execution_count": 16,
   "metadata": {},
   "outputs": [
    {
     "data": {
      "text/plain": [
       "283915491"
      ]
     },
     "execution_count": 16,
     "metadata": {},
     "output_type": "execute_result"
    }
   ],
   "source": [
    "visit_tmp.count()"
   ]
  },
  {
   "cell_type": "code",
   "execution_count": 14,
   "metadata": {},
   "outputs": [
    {
     "data": {
      "text/html": [
       "<div>\n",
       "<style scoped>\n",
       "    .dataframe tbody tr th:only-of-type {\n",
       "        vertical-align: middle;\n",
       "    }\n",
       "\n",
       "    .dataframe tbody tr th {\n",
       "        vertical-align: top;\n",
       "    }\n",
       "\n",
       "    .dataframe thead th {\n",
       "        text-align: right;\n",
       "    }\n",
       "</style>\n",
       "<table border=\"1\" class=\"dataframe\">\n",
       "  <thead>\n",
       "    <tr style=\"text-align: right;\">\n",
       "      <th></th>\n",
       "      <th>sessionDate</th>\n",
       "    </tr>\n",
       "  </thead>\n",
       "  <tbody>\n",
       "    <tr>\n",
       "      <th>0</th>\n",
       "      <td>2021-06-21</td>\n",
       "    </tr>\n",
       "  </tbody>\n",
       "</table>\n",
       "</div>"
      ],
      "text/plain": [
       "  sessionDate\n",
       "0  2021-06-21"
      ]
     },
     "execution_count": 14,
     "metadata": {},
     "output_type": "execute_result"
    }
   ],
   "source": [
    "visit_tmp.select('sessionDate').distinct().show()"
   ]
  },
  {
   "cell_type": "markdown",
   "metadata": {},
   "source": [
    "Нужно ли указывать hitPageHostName = 'sbi.sberbank.ru"
   ]
  },
  {
   "cell_type": "code",
   "execution_count": 55,
   "metadata": {},
   "outputs": [],
   "source": [
    "visit_sbbol = visit_tmp.filter(\"sbboluserid is not Null\") \\\n",
    "                       .select(\"sbboluserid\", \"sessionStartTime\", \"hitTime\", \"hitPagePath\", \"hitType\", \"eventLabel\") \\\n",
    "                       .orderBy(\"sbboluserid\", \"sessionStartTime\", \"hitTime\",  \"hitPagePath\")"
   ]
  },
  {
   "cell_type": "code",
   "execution_count": null,
   "metadata": {},
   "outputs": [],
   "source": [
    "visit_sbbol.show(5)"
   ]
  },
  {
   "cell_type": "code",
   "execution_count": 57,
   "metadata": {},
   "outputs": [
    {
     "data": {
      "text/plain": [
       "181161868"
      ]
     },
     "execution_count": 57,
     "metadata": {},
     "output_type": "execute_result"
    }
   ],
   "source": [
    "visit_sbbol.count()"
   ]
  },
  {
   "cell_type": "markdown",
   "metadata": {},
   "source": [
    "Выделение предыдущей и следующей страницы для данной"
   ]
  },
  {
   "cell_type": "code",
   "execution_count": null,
   "metadata": {},
   "outputs": [],
   "source": [
    "window = Window.partitionBy(\"sbboluserid\", \"sessionStartTime\") \\\n",
    "                .orderBy(\"hitTime\", \"hitPagePath\")\n",
    "\n",
    "visit_last_next = visit_sbbol.withColumn(\"lastPagePath\", \n",
    "                                        f.lag(\"hitPagePath\", default=\"FIRST_HIT_IN_SESSION\").over(window)) \\\n",
    "                             .withColumn(\"nextPagePath\", \n",
    "                                        f.lead(\"hitPagePath\", default=\"LAST_HIT_IN_SESSION\").over(window)) \\\n",
    "                             .orderBy(\"sbboluserid\", \"sessionStartTime\", \"hitTime\",  \"hitPagePath\")\n",
    "    \n",
    "visit_last_next.show(5)"
   ]
  },
  {
   "cell_type": "code",
   "execution_count": 59,
   "metadata": {},
   "outputs": [
    {
     "data": {
      "text/plain": [
       "279"
      ]
     },
     "execution_count": 59,
     "metadata": {},
     "output_type": "execute_result"
    }
   ],
   "source": [
    "visit_last_next.select('hitPagePath').filter(\"hitPagePath like '%main%'\").distinct().count()"
   ]
  },
  {
   "cell_type": "markdown",
   "metadata": {},
   "source": [
    "почистим пути от параметров запроса"
   ]
  },
  {
   "cell_type": "code",
   "execution_count": 60,
   "metadata": {
    "collapsed": true,
    "jupyter": {
     "outputs_hidden": true
    }
   },
   "outputs": [],
   "source": [
    "@udf(stypes.StringType())\n",
    "def get_url_path(url):\n",
    "        try:\n",
    "            url_parse = urlparse(url)\n",
    "        except Exception as e:\n",
    "            print(e)\n",
    "            return None\n",
    "\n",
    "        return url_parse.path"
   ]
  },
  {
   "cell_type": "code",
   "execution_count": 61,
   "metadata": {
    "collapsed": true,
    "jupyter": {
     "outputs_hidden": true
    }
   },
   "outputs": [],
   "source": [
    "visit_last_next = visit_last_next.withColumn(\"hitPagePath\", get_url_path(f.col(\"hitPagePath\")))\\\n",
    "                                 .filter(f.col(\"hitPagePath\") != \"/\" )"
   ]
  },
  {
   "cell_type": "code",
   "execution_count": 62,
   "metadata": {},
   "outputs": [
    {
     "data": {
      "text/plain": [
       "4"
      ]
     },
     "execution_count": 62,
     "metadata": {},
     "output_type": "execute_result"
    }
   ],
   "source": [
    "visit_last_next.select('hitPagePath').filter(\"hitPagePath like '%main%'\").distinct().count()"
   ]
  },
  {
   "cell_type": "code",
   "execution_count": 24,
   "metadata": {},
   "outputs": [
    {
     "data": {
      "text/html": [
       "<div>\n",
       "<style scoped>\n",
       "    .dataframe tbody tr th:only-of-type {\n",
       "        vertical-align: middle;\n",
       "    }\n",
       "\n",
       "    .dataframe tbody tr th {\n",
       "        vertical-align: top;\n",
       "    }\n",
       "\n",
       "    .dataframe thead th {\n",
       "        text-align: right;\n",
       "    }\n",
       "</style>\n",
       "<table border=\"1\" class=\"dataframe\">\n",
       "  <thead>\n",
       "    <tr style=\"text-align: right;\">\n",
       "      <th></th>\n",
       "      <th>hitPagePath</th>\n",
       "    </tr>\n",
       "  </thead>\n",
       "  <tbody>\n",
       "    <tr>\n",
       "      <th>0</th>\n",
       "      <td>/main/create/commercial-payment</td>\n",
       "    </tr>\n",
       "    <tr>\n",
       "      <th>1</th>\n",
       "      <td>/main/create/budget-payment</td>\n",
       "    </tr>\n",
       "    <tr>\n",
       "      <th>2</th>\n",
       "      <td>/main/RUB_COMM/:id</td>\n",
       "    </tr>\n",
       "    <tr>\n",
       "      <th>3</th>\n",
       "      <td>/main</td>\n",
       "    </tr>\n",
       "  </tbody>\n",
       "</table>\n",
       "</div>"
      ],
      "text/plain": [
       "                       hitPagePath\n",
       "0  /main/create/commercial-payment\n",
       "1      /main/create/budget-payment\n",
       "2               /main/RUB_COMM/:id\n",
       "3                            /main"
      ]
     },
     "execution_count": 24,
     "metadata": {},
     "output_type": "execute_result"
    }
   ],
   "source": [
    "visit_last_next.select('hitPagePath').filter(\"hitPagePath like '%main%'\").distinct().show()"
   ]
  },
  {
   "cell_type": "markdown",
   "metadata": {},
   "source": [
    "Установка стадий посещения главной страницы"
   ]
  },
  {
   "cell_type": "code",
   "execution_count": 64,
   "metadata": {
    "collapsed": true,
    "jupyter": {
     "outputs_hidden": true
    }
   },
   "outputs": [],
   "source": [
    "@udf(stypes.IntegerType())\n",
    "def get_stage(hitPagePath, lastPagePath, nextPagePath):\n",
    "    \"\"\"Stage: \n",
    "    0 - not target\n",
    "        1 - last action before target\n",
    "            2 - first action on target\n",
    "            3 - intermediate page on target\n",
    "            4 - last action on target\n",
    "        5 - first action after target\n",
    "    \"\"\"\n",
    "    \n",
    "    targetPagePath = \"/main\"\n",
    "    \n",
    "    if hitPagePath == targetPagePath:\n",
    "        \n",
    "        # if \"\\main\" - first/last page in session => set it as the last/first action before target\n",
    "        if lastPagePath == \"FIRST_HIT_IN_SESSION\":\n",
    "            return 1\n",
    "        elif nextPagePath == \"LAST_HIT_IN_SESSION\":\n",
    "            return 5\n",
    "        \n",
    "        if lastPagePath == targetPagePath and nextPagePath == targetPagePath:\n",
    "            return 3\n",
    "        elif nextPagePath == targetPagePath:\n",
    "            return 2\n",
    "        elif lastPagePath == targetPagePath:\n",
    "            return 4\n",
    "        else: # one element in target-list\n",
    "            return 2\n",
    "    else:\n",
    "        # if other page between target => set it as an intermediate page on target\n",
    "        if lastPagePath == targetPagePath and nextPagePath == targetPagePath: \n",
    "            return 3\n",
    "        if nextPagePath == targetPagePath:\n",
    "            return 1\n",
    "        elif lastPagePath == targetPagePath:\n",
    "            return 5\n",
    "        else:\n",
    "            return 0"
   ]
  },
  {
   "cell_type": "code",
   "execution_count": null,
   "metadata": {},
   "outputs": [],
   "source": [
    "visit_stage = visit_last_next.withColumn(\"stage\", \n",
    "                                         get_stage(f.col(\"hitPagePath\"), f.col(\"lastPagePath\"), f.col(\"nextPagePath\"))) \\\n",
    "                                .select(\"sbboluserid\", \"sessionStartTime\", \"hitTime\", \"hitPagePath\", \"stage\")\n",
    "    \n",
    "visit_stage.show()"
   ]
  },
  {
   "cell_type": "markdown",
   "metadata": {},
   "source": [
    "Указание начальной и конечной стадий между которыми будет проводится измерение времени и проброс на конечную стадию времени начальной"
   ]
  },
  {
   "cell_type": "code",
   "execution_count": null,
   "metadata": {},
   "outputs": [],
   "source": [
    "begin_stage, end_stage = 1, 5\n",
    "\n",
    "visit_begin_end = visit_stage.filter(\"stage in ({}, {})\".format(begin_stage, end_stage)) \\\n",
    "                                .withColumn(\"prevHitTime\", \n",
    "                                            f.when(f.col(\"stage\") == end_stage, \n",
    "                                                   f.lag(\"hitTime\").over(window)).otherwise(0))\n",
    "    \n",
    "visit_begin_end.show()"
   ]
  },
  {
   "cell_type": "markdown",
   "metadata": {},
   "source": [
    "Расчёт длительности сегмента прибывания на главной странице"
   ]
  },
  {
   "cell_type": "code",
   "execution_count": 67,
   "metadata": {
    "collapsed": true,
    "jupyter": {
     "outputs_hidden": true
    }
   },
   "outputs": [],
   "source": [
    "@udf(stypes.IntegerType())\n",
    "def get_duration(stage, prevHitTime, curHitTime, end_stage=5):\n",
    "    if stage == end_stage:\n",
    "        return curHitTime - prevHitTime\n",
    "    else:\n",
    "        return 0"
   ]
  },
  {
   "cell_type": "code",
   "execution_count": null,
   "metadata": {},
   "outputs": [],
   "source": [
    "visit_duration = visit_begin_end.withColumn(\"hitDuration\", \n",
    "                                            f.when(f.col(\"stage\") == 5, f.col(\"hitTime\") - f.col(\"prevHitTime\")).otherwise(0))\\\n",
    "                                .filter(\"hitDuration <> 0\")\\\n",
    "                                .select(\"sbboluserid\", \"sessionStartTime\", \"hitTime\", \"hitDuration\")\n",
    "    \n",
    "visit_duration.show()"
   ]
  },
  {
   "cell_type": "markdown",
   "metadata": {},
   "source": [
    "Агрегация по пользовательским сессиям количества сегментов, общей и первой длительности посещения главной страницы"
   ]
  },
  {
   "cell_type": "code",
   "execution_count": null,
   "metadata": {},
   "outputs": [],
   "source": [
    "visit_session_agg = visit_duration.groupBy(\"sbboluserid\", \"sessionStartTime\")\\\n",
    "                                    .agg(f.count(\"hitDuration\").alias(\"countMainVisits\"), \n",
    "                                         f.sum(\"hitDuration\").alias(\"sumMainTime\"),\n",
    "                                         f.first(\"hitDuration\").alias(\"firstMainTime\"))\n",
    "    \n",
    "visit_session_agg.show()"
   ]
  },
  {
   "cell_type": "markdown",
   "metadata": {},
   "source": [
    "Усреднение по сессиям для каждого пользователя"
   ]
  },
  {
   "cell_type": "code",
   "execution_count": null,
   "metadata": {},
   "outputs": [],
   "source": [
    "visit_user_agg = visit_session_agg.groupBy(\"sbboluserid\") \\\n",
    "                                        .agg(f.avg(\"countMainVisits\").alias(\"avgCountMainVisits\"), \n",
    "                                             (f.avg(\"sumMainTime\") / 1000).alias(\"avgMainTimeSec\"), \n",
    "                                             (f.avg(\"firstMainTime\") / 1000).alias(\"avgFirstMainTimeSec\"))\n",
    "    \n",
    "visit_user_agg.show()"
   ]
  },
  {
   "cell_type": "markdown",
   "metadata": {},
   "source": [
    "###### Расчёт статистики за несколько интервалов "
   ]
  }
 ],
 "metadata": {
  "kernelspec": {
   "display_name": "Python 3 (ipykernel)",
   "language": "python",
   "name": "python3"
  },
  "language_info": {
   "codemirror_mode": {
    "name": "ipython",
    "version": 3
   },
   "file_extension": ".py",
   "mimetype": "text/x-python",
   "name": "python",
   "nbconvert_exporter": "python",
   "pygments_lexer": "ipython3",
   "version": "3.9.12"
  }
 },
 "nbformat": 4,
 "nbformat_minor": 4
}
