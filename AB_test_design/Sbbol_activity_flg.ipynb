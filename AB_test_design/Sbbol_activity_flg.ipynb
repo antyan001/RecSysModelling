{
 "cells": [
  {
   "cell_type": "code",
   "execution_count": 1,
   "metadata": {},
   "outputs": [],
   "source": [
    "import os, sys\n",
    "\n",
    "recsys_story = os.environ.get(\"RECSYS_STORY\")\n",
    "sys.path.append(recsys_story)\n",
    "os.chdir(recsys_story)\n",
    "\n",
    "from lib.tools import *"
   ]
  },
  {
   "cell_type": "markdown",
   "metadata": {},
   "source": [
    "### spark "
   ]
  },
  {
   "cell_type": "code",
   "execution_count": 2,
   "metadata": {},
   "outputs": [],
   "source": [
    "from pyspark import SparkContext, SparkConf, HiveContext\n",
    "from pyspark.sql import SparkSession\n",
    "from pyspark.sql.catalog import Catalog"
   ]
  },
  {
   "cell_type": "code",
   "execution_count": 3,
   "metadata": {},
   "outputs": [],
   "source": [
    "SPARK_CONFIG[\"process_label\"] = \"RECSYS_STORY_AB_TEST_DESIGN\"\n",
    "SPARK_CONFIG[\"numofcores\"] = 10\n",
    "SPARK_CONFIG[\"numofinstances\"] = 6\n",
    "SPARK_CONFIG[\"kerberos_auth\"] = False"
   ]
  },
  {
   "cell_type": "code",
   "execution_count": 4,
   "metadata": {},
   "outputs": [],
   "source": [
    "sp = spark(**SPARK_CONFIG)\n",
    "hive = sp.sql"
   ]
  },
  {
   "cell_type": "code",
   "execution_count": 9,
   "metadata": {},
   "outputs": [],
   "source": [
    "hive.setConf(\"hive.input.dir.recursive\",\"true\")\n",
    "hive.setConf(\"mapred.input.dir.recursive\",\"true\")\n",
    "hive.setConf(\"hive.supports.subdirectories\",\"true\")\n",
    "hive.setConf(\"hive.mapred.supports.subdirectories\",\"true\")\n",
    "hive.setConf(\"mapreduce.input.fileinputformat.input.dir.recursive\",\"true\")\n",
    "# hive.setConf('spark.sql.parquet.binaryAsString', 'true')\n",
    "# hive.setConf('spark.sql.hive.convertMetastoreParquet', 'false')\n",
    "\n",
    "hive.setConf('hive.metastore.fshandler.threads', 30)\n",
    "hive.setConf('hive.msck.repair.batch.size', 1000)\n",
    "hive.setConf('hive.merge.smallfiles.avgsiz', 256000000)\n",
    "hive.setConf('hive.merge.size.per.task', 256000000)"
   ]
  },
  {
   "cell_type": "code",
   "execution_count": 10,
   "metadata": {
    "scrolled": true
   },
   "outputs": [
    {
     "data": {
      "text/plain": [
       "[('spark.sql.hive.convertMetastoreParquet', 'false'),\n",
       " ('spark.eventLog.enabled', 'true'),\n",
       " ('spark.sql.parquet.binaryAsString', 'true'),\n",
       " ('spark.executor.memory', '30g'),\n",
       " ('spark.yarn.driver.memoryOverhead', '4048mb'),\n",
       " ('spark.task.maxFailures', '15'),\n",
       " ('spark.sql.queryExecutionListeners',\n",
       "  'com.cloudera.spark.lineage.NavigatorQueryListener'),\n",
       " ('spark.sql.shuffle.partitions', '400'),\n",
       " ('spark.eventLog.dir', 'hdfs://nsld3/user/spark/spark2ApplicationHistory'),\n",
       " ('spark.driver.extraLibraryPath',\n",
       "  '/opt/workspace/shubochkin1-ei_ca-sbrf-ru/system/support_library/'),\n",
       " ('spark.executor.instances', '6'),\n",
       " ('spark.serializer', 'org.apache.spark.serializer.KryoSerializer'),\n",
       " ('spark.sql.hive.metastore.jars',\n",
       "  '${env:HADOOP_COMMON_HOME}/../hive/lib/*:${env:HADOOP_COMMON_HOME}/client/*'),\n",
       " ('spark.lineage.log.dir', '/var/log/spark2/lineage'),\n",
       " ('spark.blacklist.task.maxTaskAttemptsPerNode', '13'),\n",
       " ('spark.yarn.historyServer.address',\n",
       "  'http://pklis-chd001975.labiac.df.sbrf.ru:18089'),\n",
       " ('spark.yarn.executor.memoryOverhead', '7g'),\n",
       " ('spark.network.crypto.enabled', 'false'),\n",
       " ('spark.ui.enabled', 'true'),\n",
       " ('spark.dynamicAllocation.schedulerBacklogTimeout', '1'),\n",
       " ('spark.sql.hive.metastore.version', '1.1.0'),\n",
       " ('spark.yarn.jars',\n",
       "  'local:/opt/cloudera/parcels/SPARK2-2.4.0.cloudera2-1.cdh5.13.3.p0.1041012/lib/spark2/jars/*'),\n",
       " ('spark.ui.port', '4444'),\n",
       " ('spark.yarn.config.gatewayPath', '/opt/cloudera/parcels'),\n",
       " ('spark.extraListeners', 'com.cloudera.spark.lineage.NavigatorAppListener'),\n",
       " ('spark.executor.extraClassPath',\n",
       "  '/opt/cloudera/parcels/PYENV.ZNO0059623792/usr/lib/oracle/12.2/client64/lib/ojdbc8.jar'),\n",
       " ('spark.blacklist.enabled', 'true'),\n",
       " ('spark.kryoserializer.buffer.max', '2040mb'),\n",
       " ('spark.sql.catalogImplementation', 'hive'),\n",
       " ('spark.yarn.config.replacementPath', '{{HADOOP_COMMON_HOME}}/../../..'),\n",
       " ('spark.dynamicAllocation.enabled', 'false'),\n",
       " ('spark.hadoop.hive.metastore.uris',\n",
       "  'thrift://pklis-chd001999.labiac.df.sbrf.ru:48869'),\n",
       " ('spark.default.parallelism', '80'),\n",
       " ('spark.ui.killEnabled', 'true'),\n",
       " ('spark.sql.legacy.allowCreatingManagedTableUsingNonemptyLocation', 'true'),\n",
       " ('spark.dynamicAllocation.executorIdleTimeout', '60'),\n",
       " ('spark.yarn.am.extraLibraryPath',\n",
       "  '/opt/cloudera/parcels/CDH-5.16.2-1.cdh5.16.2.p0.8/lib/hadoop/lib/native'),\n",
       " ('spark.io.encryption.enabled', 'false'),\n",
       " ('spark.authenticate', 'false'),\n",
       " ('spark.ui.proxyBase', '/proxy/application_1644133056431_0021'),\n",
       " ('spark.port.maxRetries', '550'),\n",
       " ('spark.driver.maxResultSize', '90g'),\n",
       " ('spark.driver.extraClassPath',\n",
       "  '/opt/cloudera/parcels/PYENV.ZNO0059623792/usr/lib/oracle/12.2/client64/lib/ojdbc8.jar'),\n",
       " ('spark.submit.deployMode', 'client'),\n",
       " ('spark.blacklist.task.maxTaskAttemptsPerExecutor', '13'),\n",
       " ('spark.shuffle.service.enabled', 'true'),\n",
       " ('spark.shuffle.service.port', '7337'),\n",
       " ('spark.executor.cores', '10'),\n",
       " ('spark.app.name', 'RECSYS_STORY_AB_TEST_DESIGN'),\n",
       " ('spark.lineage.enabled', 'true'),\n",
       " ('spark.master', 'yarn'),\n",
       " ('spark.hadoop.dfs.replication', '1'),\n",
       " ('spark.executor.extraLibraryPath',\n",
       "  '/opt/workspace/shubochkin1-ei_ca-sbrf-ru/system/support_library/'),\n",
       " ('spark.dynamicAllocation.minExecutors', '0'),\n",
       " ('spark.yarn.isPython', 'true'),\n",
       " ('spark.yarn.access.namenodes',\n",
       "  'hdfs://hdfsgw:8020/, hdfs://clsklcib:8020/, hdfs://clsklsbx:8020/, hdfs://clsklsmd:8020/, hdfs://nsld3:8020/, hdfs://clsklod2:8020/, hdfs://clsklod:8020/'),\n",
       " ('spark.ui.showConsoleProgress', 'true'),\n",
       " ('spark.driver.memory', '35g')]"
      ]
     },
     "execution_count": 10,
     "metadata": {},
     "output_type": "execute_result"
    }
   ],
   "source": [
    "SparkConf().getAll()"
   ]
  },
  {
   "cell_type": "code",
   "execution_count": null,
   "metadata": {},
   "outputs": [],
   "source": []
  },
  {
   "cell_type": "markdown",
   "metadata": {},
   "source": [
    "### load_data "
   ]
  },
  {
   "cell_type": "markdown",
   "metadata": {},
   "source": [
    "Загрузим кликстрим за 2021 год и определим уникальные даты посещений сббола для каждой ИНН. Таким образов выберем всех юзеров, посещавших СББОЛ в 2021 году (критерием посещения является наличие хотя бы одного события в кликстриме с **hitPageHostName = 'sbi.sberbank.ru'**)"
   ]
  },
  {
   "cell_type": "code",
   "execution_count": 10,
   "metadata": {},
   "outputs": [],
   "source": [
    "# ctl_loading 2021 year\n",
    "\n",
    "start_d = '2021-01-01'\n",
    "end_d = '2022-02-08'\n",
    "\n",
    "sql_query_ctl = \"\"\"\n",
    "SELECT DISTINCT ctl_loading,\n",
    "                min_sessiondate,\n",
    "                max_sessiondate\n",
    "FROM {scheme}.{ctl_table}\n",
    "WHERE 1=1\n",
    "  AND (min_sessiondate >= '{start_date}'\n",
    "       OR max_sessiondate >= '{start_date}')\n",
    "  AND (min_sessiondate < '{end_date}'\n",
    "       OR max_sessiondate < '{end_date}')\n",
    "\"\"\".format(scheme=SBX_TEAM_DIGITCAMP,\n",
    "           ctl_table=GA_VISIT_CTL_DATE_MAP,\n",
    "           start_date=start_d,\n",
    "           end_date=end_d)\n",
    "\n",
    "ctl_loading_list = hive.sql(sql_query_ctl).toPandas()[\"ctl_loading\"]\n",
    "\n",
    "min_ctl = ctl_loading_list.min()\n",
    "max_ctl = ctl_loading_list.max()"
   ]
  },
  {
   "cell_type": "code",
   "execution_count": 11,
   "metadata": {},
   "outputs": [
    {
     "name": "stdout",
     "output_type": "stream",
     "text": [
      "6099159\n",
      "15486791\n"
     ]
    }
   ],
   "source": [
    "print(min_ctl, max_ctl, sep='\\n')"
   ]
  },
  {
   "cell_type": "code",
   "execution_count": 10,
   "metadata": {},
   "outputs": [],
   "source": [
    "SQL_query_sbbol_clickstream = \\\n",
    "\"\"\"\n",
    "SELECT DISTINCT sbbolUserId,\n",
    "                sbbolorgguid,\n",
    "                sessionDate\n",
    "FROM default.google_analytics_visit\n",
    "WHERE 1=1\n",
    "  AND hitPageHostName = 'sbi.sberbank.ru'\n",
    "  AND ctl_loading >= {min_ctl_loading}\n",
    "  AND sessionDate >= '{start_d}'\n",
    "\"\"\".format(min_ctl_loading=min_ctl, start_d=start_d)"
   ]
  },
  {
   "cell_type": "code",
   "execution_count": 11,
   "metadata": {},
   "outputs": [],
   "source": [
    "sbbol_user_visit = hive.sql(SQL_query_sbbol_clickstream).cache()"
   ]
  },
  {
   "cell_type": "code",
   "execution_count": 12,
   "metadata": {},
   "outputs": [
    {
     "name": "stdout",
     "output_type": "stream",
     "text": [
      "CPU times: user 2.36 s, sys: 1.7 s, total: 4.06 s\n",
      "Wall time: 5h 9min 36s\n"
     ]
    },
    {
     "data": {
      "text/plain": [
       "157302885"
      ]
     },
     "execution_count": 12,
     "metadata": {},
     "output_type": "execute_result"
    }
   ],
   "source": [
    "%%time\n",
    "sbbol_user_visit.count()"
   ]
  },
  {
   "cell_type": "code",
   "execution_count": 13,
   "metadata": {},
   "outputs": [
    {
     "data": {
      "text/html": [
       "<div>\n",
       "<style scoped>\n",
       "    .dataframe tbody tr th:only-of-type {\n",
       "        vertical-align: middle;\n",
       "    }\n",
       "\n",
       "    .dataframe tbody tr th {\n",
       "        vertical-align: top;\n",
       "    }\n",
       "\n",
       "    .dataframe thead th {\n",
       "        text-align: right;\n",
       "    }\n",
       "</style>\n",
       "<table border=\"1\" class=\"dataframe\">\n",
       "  <thead>\n",
       "    <tr style=\"text-align: right;\">\n",
       "      <th></th>\n",
       "      <th>min(sessionDate)</th>\n",
       "      <th>max(sessionDate)</th>\n",
       "    </tr>\n",
       "  </thead>\n",
       "  <tbody>\n",
       "    <tr>\n",
       "      <th>0</th>\n",
       "      <td>2021-01-01</td>\n",
       "      <td>2022-02-05</td>\n",
       "    </tr>\n",
       "  </tbody>\n",
       "</table>\n",
       "</div>"
      ],
      "text/plain": [
       "  min(sessionDate) max(sessionDate)\n",
       "0       2021-01-01       2022-02-05"
      ]
     },
     "execution_count": 13,
     "metadata": {},
     "output_type": "execute_result"
    }
   ],
   "source": [
    "sbbol_user_visit.select(f.min(\"sessionDate\"),\n",
    "                        f.max(\"sessionDate\")).show()"
   ]
  },
  {
   "cell_type": "code",
   "execution_count": 14,
   "metadata": {},
   "outputs": [
    {
     "name": "stdout",
     "output_type": "stream",
     "text": [
      "CPU times: user 6.1 ms, sys: 0 ns, total: 6.1 ms\n",
      "Wall time: 15 s\n"
     ]
    }
   ],
   "source": [
    "# %%time\n",
    "# drop_table(SBX_TEAM_DIGITCAMP, \"tmp_shuben_sbbol_activity\", hive)\n",
    "# create_table_from_df(SBX_TEAM_DIGITCAMP, \"tmp_shuben_sbbol_activity\", sbbol_user_visit, hive)"
   ]
  },
  {
   "cell_type": "markdown",
   "metadata": {},
   "source": [
    "### load table sessions "
   ]
  },
  {
   "cell_type": "code",
   "execution_count": 5,
   "metadata": {},
   "outputs": [
    {
     "data": {
      "text/plain": [
       "157302885"
      ]
     },
     "execution_count": 5,
     "metadata": {},
     "output_type": "execute_result"
    }
   ],
   "source": [
    "sbbol_user_visit = load_table(SBX_TEAM_DIGITCAMP, \"tmp_shuben_sbbol_activity\", hive).cache()\n",
    "sbbol_user_visit.count()"
   ]
  },
  {
   "cell_type": "code",
   "execution_count": 6,
   "metadata": {},
   "outputs": [],
   "source": [
    "customer_sbbol = load_table(SBX_TEAM_DIGITCAMP, GA_MA_CUSTOMER_SBBOL, hive).cache()\n",
    "sbbol_inn_visit = customer_sbbol.select(\"REPLICATIONGUID\", f.col(\"CU_INN\").alias(\"inn\"))\\\n",
    "                                .join(sbbol_user_visit,\n",
    "                                      customer_sbbol.REPLICATIONGUID == sbbol_user_visit.sbbolorgguid,\n",
    "                                      \"inner\")\\\n",
    "                                .drop(\"REPLICATIONGUID\", \"sbbolorgguid\", \"sbbolUserId\")\\\n",
    "                                .distinct()\n",
    "            \n",
    "sbbol_inn_visit = sbbol_inn_visit.filter(~f.isnull(\"inn\")).cache()"
   ]
  },
  {
   "cell_type": "code",
   "execution_count": 7,
   "metadata": {},
   "outputs": [
    {
     "name": "stdout",
     "output_type": "stream",
     "text": [
      "CPU times: user 6.63 ms, sys: 5.59 ms, total: 12.2 ms\n",
      "Wall time: 42.3 s\n"
     ]
    },
    {
     "data": {
      "text/plain": [
       "127512711"
      ]
     },
     "execution_count": 7,
     "metadata": {},
     "output_type": "execute_result"
    }
   ],
   "source": [
    "%%time\n",
    "sbbol_inn_visit.count()"
   ]
  },
  {
   "cell_type": "code",
   "execution_count": 8,
   "metadata": {},
   "outputs": [
    {
     "data": {
      "text/html": [
       "<div>\n",
       "<style scoped>\n",
       "    .dataframe tbody tr th:only-of-type {\n",
       "        vertical-align: middle;\n",
       "    }\n",
       "\n",
       "    .dataframe tbody tr th {\n",
       "        vertical-align: top;\n",
       "    }\n",
       "\n",
       "    .dataframe thead th {\n",
       "        text-align: right;\n",
       "    }\n",
       "</style>\n",
       "<table border=\"1\" class=\"dataframe\">\n",
       "  <thead>\n",
       "    <tr style=\"text-align: right;\">\n",
       "      <th></th>\n",
       "      <th>inn</th>\n",
       "      <th>sessionDate</th>\n",
       "    </tr>\n",
       "  </thead>\n",
       "  <tbody>\n",
       "    <tr>\n",
       "      <th>0</th>\n",
       "      <td>325700467224</td>\n",
       "      <td>2021-04-26</td>\n",
       "    </tr>\n",
       "    <tr>\n",
       "      <th>1</th>\n",
       "      <td>7447271638</td>\n",
       "      <td>2021-09-13</td>\n",
       "    </tr>\n",
       "    <tr>\n",
       "      <th>2</th>\n",
       "      <td>1215226112</td>\n",
       "      <td>2021-12-09</td>\n",
       "    </tr>\n",
       "    <tr>\n",
       "      <th>3</th>\n",
       "      <td>8602029876</td>\n",
       "      <td>2021-11-08</td>\n",
       "    </tr>\n",
       "    <tr>\n",
       "      <th>4</th>\n",
       "      <td>8602029876</td>\n",
       "      <td>2021-03-17</td>\n",
       "    </tr>\n",
       "    <tr>\n",
       "      <th>5</th>\n",
       "      <td>8602029876</td>\n",
       "      <td>2021-05-26</td>\n",
       "    </tr>\n",
       "    <tr>\n",
       "      <th>6</th>\n",
       "      <td>7701862678</td>\n",
       "      <td>2021-09-20</td>\n",
       "    </tr>\n",
       "    <tr>\n",
       "      <th>7</th>\n",
       "      <td>6670443577</td>\n",
       "      <td>2021-10-27</td>\n",
       "    </tr>\n",
       "    <tr>\n",
       "      <th>8</th>\n",
       "      <td>7838072310</td>\n",
       "      <td>2021-04-25</td>\n",
       "    </tr>\n",
       "    <tr>\n",
       "      <th>9</th>\n",
       "      <td>7130032969</td>\n",
       "      <td>2021-03-25</td>\n",
       "    </tr>\n",
       "  </tbody>\n",
       "</table>\n",
       "</div>"
      ],
      "text/plain": [
       "            inn sessionDate\n",
       "0  325700467224  2021-04-26\n",
       "1    7447271638  2021-09-13\n",
       "2    1215226112  2021-12-09\n",
       "3    8602029876  2021-11-08\n",
       "4    8602029876  2021-03-17\n",
       "5    8602029876  2021-05-26\n",
       "6    7701862678  2021-09-20\n",
       "7    6670443577  2021-10-27\n",
       "8    7838072310  2021-04-25\n",
       "9    7130032969  2021-03-25"
      ]
     },
     "execution_count": 8,
     "metadata": {},
     "output_type": "execute_result"
    }
   ],
   "source": [
    "sbbol_inn_visit.show()"
   ]
  },
  {
   "cell_type": "code",
   "execution_count": 9,
   "metadata": {},
   "outputs": [
    {
     "name": "stdout",
     "output_type": "stream",
     "text": [
      "CPU times: user 3.14 ms, sys: 2.55 ms, total: 5.69 ms\n",
      "Wall time: 10.4 s\n"
     ]
    }
   ],
   "source": [
    "# %%time\n",
    "# drop_table(SBX_TEAM_DIGITCAMP, \"tmp_shuben_sbbol_inn_activity\", hive)\n",
    "# create_table_from_df(SBX_TEAM_DIGITCAMP, \"tmp_shuben_sbbol_inn_activity\", sbbol_inn_visit, hive)"
   ]
  },
  {
   "cell_type": "code",
   "execution_count": 10,
   "metadata": {},
   "outputs": [
    {
     "data": {
      "text/plain": [
       "127512711"
      ]
     },
     "execution_count": 10,
     "metadata": {},
     "output_type": "execute_result"
    }
   ],
   "source": [
    "sbbol_inn_visit = load_table(SBX_TEAM_DIGITCAMP, \"tmp_shuben_sbbol_inn_activity\", hive).cache()\n",
    "sbbol_inn_visit.count()"
   ]
  },
  {
   "cell_type": "markdown",
   "metadata": {},
   "source": [
    "### analytics common"
   ]
  },
  {
   "cell_type": "markdown",
   "metadata": {},
   "source": [
    "Видно, что некоторые юзеры заходили под разными юзер айдишниками, но при этом инн один и тот же"
   ]
  },
  {
   "cell_type": "code",
   "execution_count": 17,
   "metadata": {},
   "outputs": [
    {
     "data": {
      "text/plain": [
       "2120918"
      ]
     },
     "execution_count": 17,
     "metadata": {},
     "output_type": "execute_result"
    }
   ],
   "source": [
    "sbbol_inn_visit.select(\"inn\").distinct().count()"
   ]
  },
  {
   "cell_type": "code",
   "execution_count": 5,
   "metadata": {},
   "outputs": [
    {
     "data": {
      "text/plain": [
       "2890289"
      ]
     },
     "execution_count": 5,
     "metadata": {},
     "output_type": "execute_result"
    }
   ],
   "source": [
    "sbbol_user_visit.select(\"sbbolUserId\").distinct().count()"
   ]
  },
  {
   "cell_type": "markdown",
   "metadata": {},
   "source": [
    "Для начала посмотрим, сколько юзеров заходит в каждый из месяцев"
   ]
  },
  {
   "cell_type": "code",
   "execution_count": 18,
   "metadata": {},
   "outputs": [],
   "source": [
    "sbbol_inn_visit_month = sbbol_inn_visit.withColumn(\"month\", f.month(f.col(\"sessionDate\")))\\\n",
    "                                       .withColumn(\"year\", f.year(f.col(\"sessionDate\")))\\\n",
    "                                       .select(\"inn\", \"month\", \"year\").distinct()"
   ]
  },
  {
   "cell_type": "code",
   "execution_count": 19,
   "metadata": {},
   "outputs": [
    {
     "data": {
      "text/html": [
       "<div>\n",
       "<style scoped>\n",
       "    .dataframe tbody tr th:only-of-type {\n",
       "        vertical-align: middle;\n",
       "    }\n",
       "\n",
       "    .dataframe tbody tr th {\n",
       "        vertical-align: top;\n",
       "    }\n",
       "\n",
       "    .dataframe thead th {\n",
       "        text-align: right;\n",
       "    }\n",
       "</style>\n",
       "<table border=\"1\" class=\"dataframe\">\n",
       "  <thead>\n",
       "    <tr style=\"text-align: right;\">\n",
       "      <th></th>\n",
       "      <th>inn</th>\n",
       "      <th>month</th>\n",
       "      <th>year</th>\n",
       "    </tr>\n",
       "  </thead>\n",
       "  <tbody>\n",
       "    <tr>\n",
       "      <th>0</th>\n",
       "      <td>5507063832</td>\n",
       "      <td>3</td>\n",
       "      <td>2021</td>\n",
       "    </tr>\n",
       "    <tr>\n",
       "      <th>1</th>\n",
       "      <td>661106441805</td>\n",
       "      <td>12</td>\n",
       "      <td>2021</td>\n",
       "    </tr>\n",
       "    <tr>\n",
       "      <th>2</th>\n",
       "      <td>7704314221</td>\n",
       "      <td>6</td>\n",
       "      <td>2021</td>\n",
       "    </tr>\n",
       "    <tr>\n",
       "      <th>3</th>\n",
       "      <td>7710340340</td>\n",
       "      <td>2</td>\n",
       "      <td>2021</td>\n",
       "    </tr>\n",
       "    <tr>\n",
       "      <th>4</th>\n",
       "      <td>5507213206</td>\n",
       "      <td>3</td>\n",
       "      <td>2021</td>\n",
       "    </tr>\n",
       "    <tr>\n",
       "      <th>5</th>\n",
       "      <td>710302292108</td>\n",
       "      <td>1</td>\n",
       "      <td>2021</td>\n",
       "    </tr>\n",
       "    <tr>\n",
       "      <th>6</th>\n",
       "      <td>2319005624</td>\n",
       "      <td>10</td>\n",
       "      <td>2021</td>\n",
       "    </tr>\n",
       "    <tr>\n",
       "      <th>7</th>\n",
       "      <td>1902017942</td>\n",
       "      <td>1</td>\n",
       "      <td>2021</td>\n",
       "    </tr>\n",
       "    <tr>\n",
       "      <th>8</th>\n",
       "      <td>860100190411</td>\n",
       "      <td>10</td>\n",
       "      <td>2021</td>\n",
       "    </tr>\n",
       "    <tr>\n",
       "      <th>9</th>\n",
       "      <td>2543035930</td>\n",
       "      <td>11</td>\n",
       "      <td>2021</td>\n",
       "    </tr>\n",
       "  </tbody>\n",
       "</table>\n",
       "</div>"
      ],
      "text/plain": [
       "            inn  month  year\n",
       "0    5507063832      3  2021\n",
       "1  661106441805     12  2021\n",
       "2    7704314221      6  2021\n",
       "3    7710340340      2  2021\n",
       "4    5507213206      3  2021\n",
       "5  710302292108      1  2021\n",
       "6    2319005624     10  2021\n",
       "7    1902017942      1  2021\n",
       "8  860100190411     10  2021\n",
       "9    2543035930     11  2021"
      ]
     },
     "execution_count": 19,
     "metadata": {},
     "output_type": "execute_result"
    }
   ],
   "source": [
    "sbbol_inn_visit_month.show()"
   ]
  },
  {
   "cell_type": "code",
   "execution_count": 20,
   "metadata": {},
   "outputs": [],
   "source": [
    "year_visits_sbbol = sbbol_inn_visit_month.groupBy(\"year\", \"month\")\\\n",
    "                                         .agg(f.countDistinct(\"inn\").alias(\"users_visit\"))\\\n",
    "                                         .toPandas()"
   ]
  },
  {
   "cell_type": "code",
   "execution_count": 21,
   "metadata": {},
   "outputs": [
    {
     "data": {
      "text/html": [
       "<div>\n",
       "<style scoped>\n",
       "    .dataframe tbody tr th:only-of-type {\n",
       "        vertical-align: middle;\n",
       "    }\n",
       "\n",
       "    .dataframe tbody tr th {\n",
       "        vertical-align: top;\n",
       "    }\n",
       "\n",
       "    .dataframe thead th {\n",
       "        text-align: right;\n",
       "    }\n",
       "</style>\n",
       "<table border=\"1\" class=\"dataframe\">\n",
       "  <thead>\n",
       "    <tr style=\"text-align: right;\">\n",
       "      <th></th>\n",
       "      <th>year</th>\n",
       "      <th>month</th>\n",
       "      <th>users_visit</th>\n",
       "    </tr>\n",
       "  </thead>\n",
       "  <tbody>\n",
       "    <tr>\n",
       "      <th>9</th>\n",
       "      <td>2021</td>\n",
       "      <td>1</td>\n",
       "      <td>1177585</td>\n",
       "    </tr>\n",
       "    <tr>\n",
       "      <th>11</th>\n",
       "      <td>2021</td>\n",
       "      <td>2</td>\n",
       "      <td>1184305</td>\n",
       "    </tr>\n",
       "    <tr>\n",
       "      <th>7</th>\n",
       "      <td>2021</td>\n",
       "      <td>3</td>\n",
       "      <td>1284510</td>\n",
       "    </tr>\n",
       "    <tr>\n",
       "      <th>12</th>\n",
       "      <td>2021</td>\n",
       "      <td>4</td>\n",
       "      <td>1286180</td>\n",
       "    </tr>\n",
       "    <tr>\n",
       "      <th>1</th>\n",
       "      <td>2021</td>\n",
       "      <td>5</td>\n",
       "      <td>1177675</td>\n",
       "    </tr>\n",
       "    <tr>\n",
       "      <th>0</th>\n",
       "      <td>2021</td>\n",
       "      <td>6</td>\n",
       "      <td>1227495</td>\n",
       "    </tr>\n",
       "    <tr>\n",
       "      <th>6</th>\n",
       "      <td>2021</td>\n",
       "      <td>7</td>\n",
       "      <td>1240562</td>\n",
       "    </tr>\n",
       "    <tr>\n",
       "      <th>10</th>\n",
       "      <td>2021</td>\n",
       "      <td>8</td>\n",
       "      <td>1192818</td>\n",
       "    </tr>\n",
       "    <tr>\n",
       "      <th>4</th>\n",
       "      <td>2021</td>\n",
       "      <td>9</td>\n",
       "      <td>1232826</td>\n",
       "    </tr>\n",
       "    <tr>\n",
       "      <th>2</th>\n",
       "      <td>2021</td>\n",
       "      <td>10</td>\n",
       "      <td>1255767</td>\n",
       "    </tr>\n",
       "    <tr>\n",
       "      <th>3</th>\n",
       "      <td>2021</td>\n",
       "      <td>11</td>\n",
       "      <td>1275169</td>\n",
       "    </tr>\n",
       "    <tr>\n",
       "      <th>5</th>\n",
       "      <td>2021</td>\n",
       "      <td>12</td>\n",
       "      <td>1346176</td>\n",
       "    </tr>\n",
       "    <tr>\n",
       "      <th>8</th>\n",
       "      <td>2022</td>\n",
       "      <td>1</td>\n",
       "      <td>1136331</td>\n",
       "    </tr>\n",
       "  </tbody>\n",
       "</table>\n",
       "</div>"
      ],
      "text/plain": [
       "    year  month  users_visit\n",
       "9   2021      1      1177585\n",
       "11  2021      2      1184305\n",
       "7   2021      3      1284510\n",
       "12  2021      4      1286180\n",
       "1   2021      5      1177675\n",
       "0   2021      6      1227495\n",
       "6   2021      7      1240562\n",
       "10  2021      8      1192818\n",
       "4   2021      9      1232826\n",
       "2   2021     10      1255767\n",
       "3   2021     11      1275169\n",
       "5   2021     12      1346176\n",
       "8   2022      1      1136331"
      ]
     },
     "execution_count": 21,
     "metadata": {},
     "output_type": "execute_result"
    }
   ],
   "source": [
    "year_visits_sbbol_sort = year_visits_sbbol.sort_values([\"year\", \"month\"], ascending=True)\n",
    "year_visits_sbbol_sort"
   ]
  },
  {
   "cell_type": "code",
   "execution_count": 22,
   "metadata": {},
   "outputs": [
    {
     "data": {
      "image/png": "[encoded data removed]",
      "text/plain": [
       "<Figure size 432x288 with 1 Axes>"
      ]
     },
     "metadata": {},
     "output_type": "display_data"
    }
   ],
   "source": [
    "plt.bar(year_visits_sbbol_sort[\"month\"], year_visits_sbbol_sort[\"users_visit\"])\n",
    "plt.show()"
   ]
  },
  {
   "cell_type": "markdown",
   "metadata": {},
   "source": [
    "### users activity year"
   ]
  },
  {
   "cell_type": "markdown",
   "metadata": {},
   "source": [
    "* Теперь посмотрим гистограмму посещений юзеров за год (т.е. сколько раз юзер посещает сайт за год)\n",
    "\n",
    "* Далее посмотрим посещения за каждый месяц\n",
    "* За последние 4 месяца"
   ]
  },
  {
   "cell_type": "code",
   "execution_count": 23,
   "metadata": {},
   "outputs": [
    {
     "data": {
      "text/html": [
       "<div>\n",
       "<style scoped>\n",
       "    .dataframe tbody tr th:only-of-type {\n",
       "        vertical-align: middle;\n",
       "    }\n",
       "\n",
       "    .dataframe tbody tr th {\n",
       "        vertical-align: top;\n",
       "    }\n",
       "\n",
       "    .dataframe thead th {\n",
       "        text-align: right;\n",
       "    }\n",
       "</style>\n",
       "<table border=\"1\" class=\"dataframe\">\n",
       "  <thead>\n",
       "    <tr style=\"text-align: right;\">\n",
       "      <th></th>\n",
       "      <th>inn</th>\n",
       "      <th>sessionDate</th>\n",
       "    </tr>\n",
       "  </thead>\n",
       "  <tbody>\n",
       "    <tr>\n",
       "      <th>0</th>\n",
       "      <td>325700467224</td>\n",
       "      <td>2021-04-26</td>\n",
       "    </tr>\n",
       "    <tr>\n",
       "      <th>1</th>\n",
       "      <td>7447271638</td>\n",
       "      <td>2021-09-13</td>\n",
       "    </tr>\n",
       "    <tr>\n",
       "      <th>2</th>\n",
       "      <td>1215226112</td>\n",
       "      <td>2021-12-09</td>\n",
       "    </tr>\n",
       "  </tbody>\n",
       "</table>\n",
       "</div>"
      ],
      "text/plain": [
       "            inn sessionDate\n",
       "0  325700467224  2021-04-26\n",
       "1    7447271638  2021-09-13\n",
       "2    1215226112  2021-12-09"
      ]
     },
     "execution_count": 23,
     "metadata": {},
     "output_type": "execute_result"
    }
   ],
   "source": [
    "sbbol_inn_visit.show(3)"
   ]
  },
  {
   "cell_type": "code",
   "execution_count": 24,
   "metadata": {},
   "outputs": [],
   "source": [
    "inn_activities = sbbol_inn_visit.groupBy(\"inn\").agg(f.countDistinct(f.col(\"sessionDate\")).alias(\"vistDayCnt\"))"
   ]
  },
  {
   "cell_type": "code",
   "execution_count": 25,
   "metadata": {},
   "outputs": [
    {
     "data": {
      "text/plain": [
       "2120918"
      ]
     },
     "execution_count": 25,
     "metadata": {},
     "output_type": "execute_result"
    }
   ],
   "source": [
    "inn_activities.count()"
   ]
  },
  {
   "cell_type": "code",
   "execution_count": 26,
   "metadata": {},
   "outputs": [],
   "source": [
    "inn_activities_year_pd = inn_activities.select(\"vistDayCnt\").toPandas()"
   ]
  },
  {
   "cell_type": "code",
   "execution_count": 53,
   "metadata": {},
   "outputs": [
    {
     "data": {
      "image/png": "[encoded data removed]",
      "text/plain": [
       "<Figure size 720x576 with 2 Axes>"
      ]
     },
     "metadata": {},
     "output_type": "display_data"
    }
   ],
   "source": [
    "plt.figure(figsize=(10, 8))\n",
    "plt.subplot(2, 1, 1)\n",
    "plt.title(\"Гистограмма количества посещенных дней за год\")\n",
    "plt.hist(inn_activities_year_pd[\"vistDayCnt\"], bins=100)\n",
    "plt.grid()\n",
    "\n",
    "plt.subplot(2, 1, 2)\n",
    "plt.title(\"Гистограмма количества посещенных дней за год (больше 10 посещений)\")\n",
    "plt.hist(inn_activities_year_pd[inn_activities_year_pd[\"vistDayCnt\"] > 10][\"vistDayCnt\"], bins=100)\n",
    "plt.grid()\n",
    "\n",
    "plt.tight_layout()"
   ]
  },
  {
   "cell_type": "code",
   "execution_count": 39,
   "metadata": {},
   "outputs": [
    {
     "data": {
      "image/png": "[encoded data removed]",
      "text/plain": [
       "<Figure size 360x360 with 1 Axes>"
      ]
     },
     "metadata": {},
     "output_type": "display_data"
    }
   ],
   "source": [
    "plt.figure(figsize=(5, 5))\n",
    "plt.title(\"Ящик с усами количества посещенных дней за год\")\n",
    "plt.boxplot(inn_activities_year_pd[\"vistDayCnt\"])\n",
    "plt.grid()\n",
    "plt.show()"
   ]
  },
  {
   "cell_type": "markdown",
   "metadata": {},
   "source": [
    "### Последние 4 месяца активности"
   ]
  },
  {
   "cell_type": "markdown",
   "metadata": {},
   "source": [
    "Рассмотрим активность клиентов за последние 4 месяца, также рассмотрим факт последнего посещеия в этом периоде"
   ]
  },
  {
   "cell_type": "code",
   "execution_count": 11,
   "metadata": {},
   "outputs": [],
   "source": [
    "sbbol_inn_visit_4_month = sbbol_inn_visit.filter(\"sessionDate >= '2021-09-01'\")"
   ]
  },
  {
   "cell_type": "code",
   "execution_count": 12,
   "metadata": {},
   "outputs": [
    {
     "data": {
      "text/plain": [
       "1740535"
      ]
     },
     "execution_count": 12,
     "metadata": {},
     "output_type": "execute_result"
    }
   ],
   "source": [
    "sbbol_inn_visit_4_month.select(\"inn\").distinct().count()"
   ]
  },
  {
   "cell_type": "code",
   "execution_count": 13,
   "metadata": {},
   "outputs": [],
   "source": [
    "inn_activities_4_month = sbbol_inn_visit_4_month.groupBy(\"inn\")\\\n",
    "                                                  .agg(f.countDistinct(f.col(\"sessionDate\")).alias(\"vistDayCnt\"),\n",
    "                                                       f.max(f.col(\"sessionDate\")).alias(\"lastDate\"))\n",
    "inn_activities_4_month_pd = inn_activities_4_month.select(\"vistDayCnt\").toPandas()"
   ]
  },
  {
   "cell_type": "markdown",
   "metadata": {},
   "source": [
    "Аализ посещения за последние 4 месяца"
   ]
  },
  {
   "cell_type": "code",
   "execution_count": 14,
   "metadata": {},
   "outputs": [
    {
     "data": {
      "image/png": "[encoded data removed]",
      "text/plain": [
       "<Figure size 720x576 with 2 Axes>"
      ]
     },
     "metadata": {},
     "output_type": "display_data"
    }
   ],
   "source": [
    "plt.figure(figsize=(10, 8))\n",
    "plt.subplot(2, 1, 1)\n",
    "plt.title(\"Гистограмма количества посещенных дней за последние 4 месяца\")\n",
    "plt.hist(inn_activities_4_month_pd[\"vistDayCnt\"], bins=70)\n",
    "plt.grid()\n",
    "\n",
    "plt.subplot(2, 1, 2)\n",
    "plt.title(\"Гистограмма количества посещенных дней за последние 4 месяца (больше 10 посещений)\")\n",
    "plt.hist(inn_activities_4_month_pd[inn_activities_4_month_pd[\"vistDayCnt\"] > 10][\"vistDayCnt\"], bins=60)\n",
    "plt.grid()\n",
    "\n",
    "plt.tight_layout()"
   ]
  },
  {
   "cell_type": "code",
   "execution_count": 15,
   "metadata": {},
   "outputs": [
    {
     "data": {
      "image/png": "[encoded data removed]",
      "text/plain": [
       "<Figure size 360x360 with 1 Axes>"
      ]
     },
     "metadata": {},
     "output_type": "display_data"
    }
   ],
   "source": [
    "plt.figure(figsize=(5, 5))\n",
    "plt.title(\"Ящик с усами количества посещенных дней за последние 4 месяца\")\n",
    "plt.boxplot(inn_activities_4_month_pd[\"vistDayCnt\"])\n",
    "plt.grid()\n",
    "plt.show()"
   ]
  },
  {
   "cell_type": "code",
   "execution_count": 16,
   "metadata": {},
   "outputs": [
    {
     "data": {
      "image/png": "[encoded data removed]",
      "text/plain": [
       "<Figure size 576x360 with 1 Axes>"
      ]
     },
     "metadata": {},
     "output_type": "display_data"
    }
   ],
   "source": [
    "plt.figure(figsize=(8, 5))\n",
    "plt.title(\"квантили количества посещенных дней за последние 4 месяца\")\n",
    "i = inn_activities_4_month_pd[\"vistDayCnt\"].quantile([i/ 100 for i in range(1, 100, 5)])\n",
    "i.T.plot()\n",
    "plt.grid()\n",
    "plt.show()"
   ]
  },
  {
   "cell_type": "code",
   "execution_count": 17,
   "metadata": {},
   "outputs": [
    {
     "data": {
      "text/plain": [
       "0.2     3.0\n",
       "0.4    11.0\n",
       "0.6    25.0\n",
       "0.8    54.0\n",
       "Name: vistDayCnt, dtype: float64"
      ]
     },
     "execution_count": 17,
     "metadata": {},
     "output_type": "execute_result"
    }
   ],
   "source": [
    "inn_activities_4_month_pd[\"vistDayCnt\"].quantile([0.20, 0.40, 0.60, 0.80])"
   ]
  },
  {
   "cell_type": "markdown",
   "metadata": {},
   "source": [
    "Т.о. можно сделать следующие флаги активности:\n",
    "- 1-3 посещения за 4 месяца - страта 1\n",
    "- 4-10 посещений за 4 месяца - страта 2\n",
    "- 11-23 посещений за 4 месяца - страта 3\n",
    "- 24-50 посещений за 4 месяца - страта 4\n",
    "- 50+ посещений за 4 месяца - страта 5"
   ]
  },
  {
   "cell_type": "markdown",
   "metadata": {},
   "source": [
    "###### последяя дата активности "
   ]
  },
  {
   "cell_type": "code",
   "execution_count": 18,
   "metadata": {},
   "outputs": [],
   "source": [
    "last_date_activity = inn_activities_4_month.groupBy(f.col(\"lastDate\")).agg(f.count(\"inn\").alias(\"inn_cnt_lastDate\"))\\\n",
    "                                           .orderBy(f.col(\"lastDate\")).cache()"
   ]
  },
  {
   "cell_type": "code",
   "execution_count": 19,
   "metadata": {},
   "outputs": [
    {
     "name": "stdout",
     "output_type": "stream",
     "text": [
      "CPU times: user 2.54 ms, sys: 2.24 ms, total: 4.79 ms\n",
      "Wall time: 8.68 s\n"
     ]
    },
    {
     "data": {
      "text/plain": [
       "158"
      ]
     },
     "execution_count": 19,
     "metadata": {},
     "output_type": "execute_result"
    }
   ],
   "source": [
    "%%time\n",
    "last_date_activity.count()"
   ]
  },
  {
   "cell_type": "code",
   "execution_count": 20,
   "metadata": {},
   "outputs": [
    {
     "data": {
      "text/html": [
       "<div>\n",
       "<style scoped>\n",
       "    .dataframe tbody tr th:only-of-type {\n",
       "        vertical-align: middle;\n",
       "    }\n",
       "\n",
       "    .dataframe tbody tr th {\n",
       "        vertical-align: top;\n",
       "    }\n",
       "\n",
       "    .dataframe thead th {\n",
       "        text-align: right;\n",
       "    }\n",
       "</style>\n",
       "<table border=\"1\" class=\"dataframe\">\n",
       "  <thead>\n",
       "    <tr style=\"text-align: right;\">\n",
       "      <th></th>\n",
       "      <th>lastDate</th>\n",
       "      <th>inn_cnt_lastDate</th>\n",
       "    </tr>\n",
       "  </thead>\n",
       "  <tbody>\n",
       "    <tr>\n",
       "      <th>0</th>\n",
       "      <td>2021-09-01</td>\n",
       "      <td>2523</td>\n",
       "    </tr>\n",
       "    <tr>\n",
       "      <th>1</th>\n",
       "      <td>2021-09-02</td>\n",
       "      <td>2676</td>\n",
       "    </tr>\n",
       "    <tr>\n",
       "      <th>2</th>\n",
       "      <td>2021-09-03</td>\n",
       "      <td>2466</td>\n",
       "    </tr>\n",
       "  </tbody>\n",
       "</table>\n",
       "</div>"
      ],
      "text/plain": [
       "     lastDate  inn_cnt_lastDate\n",
       "0  2021-09-01              2523\n",
       "1  2021-09-02              2676\n",
       "2  2021-09-03              2466"
      ]
     },
     "execution_count": 20,
     "metadata": {},
     "output_type": "execute_result"
    }
   ],
   "source": [
    "last_date_activity.show(3)"
   ]
  },
  {
   "cell_type": "code",
   "execution_count": 21,
   "metadata": {},
   "outputs": [],
   "source": [
    "last_date_activity_pd = last_date_activity.toPandas()"
   ]
  },
  {
   "cell_type": "code",
   "execution_count": 22,
   "metadata": {},
   "outputs": [
    {
     "data": {
      "image/png": "[encoded data removed]",
      "text/plain": [
       "<Figure size 1296x576 with 1 Axes>"
      ]
     },
     "metadata": {},
     "output_type": "display_data"
    }
   ],
   "source": [
    "x = last_date_activity_pd[\"lastDate\"]\n",
    "y = last_date_activity_pd[\"inn_cnt_lastDate\"]\n",
    "\n",
    "\n",
    "plt.figure(figsize=(18, 8))\n",
    "plt.title(\"Последие посещения юзеров за весь период\")\n",
    "\n",
    "plt.plot(x, y)\n",
    "\n",
    "plt.xticks(x[::3], rotation=90)\n",
    "plt.grid()\n",
    "plt.show()"
   ]
  },
  {
   "cell_type": "markdown",
   "metadata": {},
   "source": [
    "В качестве флага стратификации можно взять дату '2022-01-04', т.е. ровно за месяц"
   ]
  },
  {
   "cell_type": "markdown",
   "metadata": {},
   "source": [
    "### Страты"
   ]
  },
  {
   "cell_type": "code",
   "execution_count": 26,
   "metadata": {},
   "outputs": [],
   "source": [
    "inn_with_groups = inn_activities_4_month.withColumn(\"activity_group\", f.when(f.col(\"vistDayCnt\") <= f.lit(3), f.lit(1))\\\n",
    "                                                                       .when(f.col(\"vistDayCnt\") <= f.lit(10), f.lit(2))\\\n",
    "                                                                       .when(f.col(\"vistDayCnt\") <= f.lit(23), f.lit(3))\\\n",
    "                                                                       .when(f.col(\"vistDayCnt\") <= f.lit(50), f.lit(4))\\\n",
    "                                                                       .otherwise(f.lit(5)))\\\n",
    "                                        .withColumn(\"last_month_flg\", f.when(f.col(\"lastDate\") >= f.lit(\"2022-01-04\"), f.lit(1))\\\n",
    "                                                                              .otherwise(0)).cache()"
   ]
  },
  {
   "cell_type": "code",
   "execution_count": 27,
   "metadata": {},
   "outputs": [
    {
     "data": {
      "text/plain": [
       "1740535"
      ]
     },
     "execution_count": 27,
     "metadata": {},
     "output_type": "execute_result"
    }
   ],
   "source": [
    "inn_with_groups.count()"
   ]
  },
  {
   "cell_type": "code",
   "execution_count": 28,
   "metadata": {},
   "outputs": [
    {
     "data": {
      "text/html": [
       "<div>\n",
       "<style scoped>\n",
       "    .dataframe tbody tr th:only-of-type {\n",
       "        vertical-align: middle;\n",
       "    }\n",
       "\n",
       "    .dataframe tbody tr th {\n",
       "        vertical-align: top;\n",
       "    }\n",
       "\n",
       "    .dataframe thead th {\n",
       "        text-align: right;\n",
       "    }\n",
       "</style>\n",
       "<table border=\"1\" class=\"dataframe\">\n",
       "  <thead>\n",
       "    <tr style=\"text-align: right;\">\n",
       "      <th></th>\n",
       "      <th>inn</th>\n",
       "      <th>vistDayCnt</th>\n",
       "      <th>lastDate</th>\n",
       "      <th>activity_group</th>\n",
       "      <th>last_month_flg</th>\n",
       "    </tr>\n",
       "  </thead>\n",
       "  <tbody>\n",
       "    <tr>\n",
       "      <th>0</th>\n",
       "      <td>0101012845</td>\n",
       "      <td>5</td>\n",
       "      <td>2022-02-03</td>\n",
       "      <td>2</td>\n",
       "      <td>1</td>\n",
       "    </tr>\n",
       "    <tr>\n",
       "      <th>1</th>\n",
       "      <td>010200105600</td>\n",
       "      <td>40</td>\n",
       "      <td>2022-02-03</td>\n",
       "      <td>4</td>\n",
       "      <td>1</td>\n",
       "    </tr>\n",
       "    <tr>\n",
       "      <th>2</th>\n",
       "      <td>010401148635</td>\n",
       "      <td>15</td>\n",
       "      <td>2022-01-24</td>\n",
       "      <td>3</td>\n",
       "      <td>1</td>\n",
       "    </tr>\n",
       "    <tr>\n",
       "      <th>3</th>\n",
       "      <td>010503128250</td>\n",
       "      <td>12</td>\n",
       "      <td>2022-01-19</td>\n",
       "      <td>3</td>\n",
       "      <td>1</td>\n",
       "    </tr>\n",
       "    <tr>\n",
       "      <th>4</th>\n",
       "      <td>0105035949</td>\n",
       "      <td>50</td>\n",
       "      <td>2022-02-04</td>\n",
       "      <td>4</td>\n",
       "      <td>1</td>\n",
       "    </tr>\n",
       "    <tr>\n",
       "      <th>5</th>\n",
       "      <td>010518503754</td>\n",
       "      <td>7</td>\n",
       "      <td>2021-12-20</td>\n",
       "      <td>2</td>\n",
       "      <td>0</td>\n",
       "    </tr>\n",
       "    <tr>\n",
       "      <th>6</th>\n",
       "      <td>010520023071</td>\n",
       "      <td>2</td>\n",
       "      <td>2021-11-14</td>\n",
       "      <td>1</td>\n",
       "      <td>0</td>\n",
       "    </tr>\n",
       "    <tr>\n",
       "      <th>7</th>\n",
       "      <td>0105981150</td>\n",
       "      <td>40</td>\n",
       "      <td>2022-02-03</td>\n",
       "      <td>4</td>\n",
       "      <td>1</td>\n",
       "    </tr>\n",
       "    <tr>\n",
       "      <th>8</th>\n",
       "      <td>010604720706</td>\n",
       "      <td>33</td>\n",
       "      <td>2021-10-21</td>\n",
       "      <td>4</td>\n",
       "      <td>0</td>\n",
       "    </tr>\n",
       "    <tr>\n",
       "      <th>9</th>\n",
       "      <td>0107029958</td>\n",
       "      <td>106</td>\n",
       "      <td>2022-02-04</td>\n",
       "      <td>5</td>\n",
       "      <td>1</td>\n",
       "    </tr>\n",
       "  </tbody>\n",
       "</table>\n",
       "</div>"
      ],
      "text/plain": [
       "            inn  vistDayCnt    lastDate  activity_group  last_month_flg\n",
       "0    0101012845           5  2022-02-03               2               1\n",
       "1  010200105600          40  2022-02-03               4               1\n",
       "2  010401148635          15  2022-01-24               3               1\n",
       "3  010503128250          12  2022-01-19               3               1\n",
       "4    0105035949          50  2022-02-04               4               1\n",
       "5  010518503754           7  2021-12-20               2               0\n",
       "6  010520023071           2  2021-11-14               1               0\n",
       "7    0105981150          40  2022-02-03               4               1\n",
       "8  010604720706          33  2021-10-21               4               0\n",
       "9    0107029958         106  2022-02-04               5               1"
      ]
     },
     "execution_count": 28,
     "metadata": {},
     "output_type": "execute_result"
    }
   ],
   "source": [
    "inn_with_groups.show()"
   ]
  },
  {
   "cell_type": "code",
   "execution_count": 29,
   "metadata": {},
   "outputs": [],
   "source": [
    "# drop_table(SBX_TEAM_DIGITCAMP, \"RECSYS_SBBOL_INN_STRATIFICATION\", hive)\n",
    "# create_table_from_df(SBX_TEAM_DIGITCAMP, \"RECSYS_SBBOL_INN_STRATIFICATION\", inn_with_groups, hive)"
   ]
  },
  {
   "cell_type": "code",
   "execution_count": 30,
   "metadata": {},
   "outputs": [],
   "source": [
    "inn_with_groups = load_table(SBX_TEAM_DIGITCAMP, \"RECSYS_SBBOL_INN_STRATIFICATION\", hive).cache()"
   ]
  },
  {
   "cell_type": "markdown",
   "metadata": {},
   "source": [
    "Видим, что группы юзеров разбиты равномерно, в каждой по 350к юзеров"
   ]
  },
  {
   "cell_type": "code",
   "execution_count": 31,
   "metadata": {},
   "outputs": [
    {
     "data": {
      "text/html": [
       "<div>\n",
       "<style scoped>\n",
       "    .dataframe tbody tr th:only-of-type {\n",
       "        vertical-align: middle;\n",
       "    }\n",
       "\n",
       "    .dataframe tbody tr th {\n",
       "        vertical-align: top;\n",
       "    }\n",
       "\n",
       "    .dataframe thead th {\n",
       "        text-align: right;\n",
       "    }\n",
       "</style>\n",
       "<table border=\"1\" class=\"dataframe\">\n",
       "  <thead>\n",
       "    <tr style=\"text-align: right;\">\n",
       "      <th></th>\n",
       "      <th>activity_group</th>\n",
       "      <th>cnt_users</th>\n",
       "    </tr>\n",
       "  </thead>\n",
       "  <tbody>\n",
       "    <tr>\n",
       "      <th>0</th>\n",
       "      <td>1</td>\n",
       "      <td>352194</td>\n",
       "    </tr>\n",
       "    <tr>\n",
       "      <th>1</th>\n",
       "      <td>2</td>\n",
       "      <td>338804</td>\n",
       "    </tr>\n",
       "    <tr>\n",
       "      <th>2</th>\n",
       "      <td>3</td>\n",
       "      <td>327657</td>\n",
       "    </tr>\n",
       "    <tr>\n",
       "      <th>3</th>\n",
       "      <td>4</td>\n",
       "      <td>343474</td>\n",
       "    </tr>\n",
       "    <tr>\n",
       "      <th>4</th>\n",
       "      <td>5</td>\n",
       "      <td>378406</td>\n",
       "    </tr>\n",
       "  </tbody>\n",
       "</table>\n",
       "</div>"
      ],
      "text/plain": [
       "   activity_group  cnt_users\n",
       "0               1     352194\n",
       "1               2     338804\n",
       "2               3     327657\n",
       "3               4     343474\n",
       "4               5     378406"
      ]
     },
     "execution_count": 31,
     "metadata": {},
     "output_type": "execute_result"
    }
   ],
   "source": [
    "inn_with_groups.groupBy(\"activity_group\").agg(f.count(f.col(\"inn\")).alias(\"cnt_users\"))\\\n",
    "               .orderBy(f.col(\"activity_group\")).show()"
   ]
  },
  {
   "cell_type": "code",
   "execution_count": 77,
   "metadata": {},
   "outputs": [],
   "source": [
    "agg_group_sdf = inn_with_groups.groupBy(\"activity_group\",\n",
    "                                        \"last_month_flg\").agg(f.count(f.col(\"inn\")).alias(\"cnt_users\"))\\\n",
    "                               .orderBy(f.col(\"activity_group\"), \"last_month_flg\")"
   ]
  },
  {
   "cell_type": "markdown",
   "metadata": {},
   "source": [
    "Посмотрим на разбиение юзеров с флагом активности посещения за последний месяц"
   ]
  },
  {
   "cell_type": "code",
   "execution_count": 86,
   "metadata": {},
   "outputs": [
    {
     "data": {
      "text/html": [
       "<div>\n",
       "<style scoped>\n",
       "    .dataframe tbody tr th:only-of-type {\n",
       "        vertical-align: middle;\n",
       "    }\n",
       "\n",
       "    .dataframe tbody tr th {\n",
       "        vertical-align: top;\n",
       "    }\n",
       "\n",
       "    .dataframe thead th {\n",
       "        text-align: right;\n",
       "    }\n",
       "</style>\n",
       "<table border=\"1\" class=\"dataframe\">\n",
       "  <thead>\n",
       "    <tr style=\"text-align: right;\">\n",
       "      <th></th>\n",
       "      <th>activity_group</th>\n",
       "      <th>0</th>\n",
       "      <th>1</th>\n",
       "    </tr>\n",
       "  </thead>\n",
       "  <tbody>\n",
       "    <tr>\n",
       "      <th>0</th>\n",
       "      <td>1</td>\n",
       "      <td>243386</td>\n",
       "      <td>109573</td>\n",
       "    </tr>\n",
       "    <tr>\n",
       "      <th>1</th>\n",
       "      <td>2</td>\n",
       "      <td>114016</td>\n",
       "      <td>234358</td>\n",
       "    </tr>\n",
       "    <tr>\n",
       "      <th>2</th>\n",
       "      <td>3</td>\n",
       "      <td>28552</td>\n",
       "      <td>306868</td>\n",
       "    </tr>\n",
       "    <tr>\n",
       "      <th>3</th>\n",
       "      <td>4</td>\n",
       "      <td>7405</td>\n",
       "      <td>329897</td>\n",
       "    </tr>\n",
       "    <tr>\n",
       "      <th>4</th>\n",
       "      <td>5</td>\n",
       "      <td>1201</td>\n",
       "      <td>334569</td>\n",
       "    </tr>\n",
       "  </tbody>\n",
       "</table>\n",
       "</div>"
      ],
      "text/plain": [
       "   activity_group       0       1\n",
       "0               1  243386  109573\n",
       "1               2  114016  234358\n",
       "2               3   28552  306868\n",
       "3               4    7405  329897\n",
       "4               5    1201  334569"
      ]
     },
     "execution_count": 86,
     "metadata": {},
     "output_type": "execute_result"
    }
   ],
   "source": [
    "agg_group_sdf.groupBy(\"activity_group\").pivot(\"last_month_flg\")\\\n",
    "             .agg(f.sum(\"cnt_users\"))\\\n",
    "             .orderBy(\"activity_group\").show()"
   ]
  },
  {
   "cell_type": "markdown",
   "metadata": {},
   "source": [
    "### analys_story_clicks "
   ]
  },
  {
   "cell_type": "markdown",
   "metadata": {},
   "source": [
    "Теперь посмотрим, как распределены показатели кликов по сторям в СББОЛе в стратах за декабрь. Для этого получим все клики по сторям. (Конечно, лучше смотреть продуктовые стори, но сейчас посмотрим на все стори). Каждому ИНН проставляется флаг - 1, если за прошедший период у него имелся клик по сторе. Т.о. посмотрим на среднее и дисперсию вероятности клика по сторе за декабрь"
   ]
  },
  {
   "cell_type": "code",
   "execution_count": 5,
   "metadata": {},
   "outputs": [
    {
     "data": {
      "text/plain": [
       "1709825"
      ]
     },
     "execution_count": 5,
     "metadata": {},
     "output_type": "execute_result"
    }
   ],
   "source": [
    "inn_with_groups = load_table(SBX_TEAM_DIGITCAMP, \"RECSYS_SBBOL_INN_STRATIFICATION\", hive).cache()\n",
    "inn_with_groups.count()"
   ]
  },
  {
   "cell_type": "code",
   "execution_count": 6,
   "metadata": {},
   "outputs": [
    {
     "data": {
      "text/html": [
       "<div>\n",
       "<style scoped>\n",
       "    .dataframe tbody tr th:only-of-type {\n",
       "        vertical-align: middle;\n",
       "    }\n",
       "\n",
       "    .dataframe tbody tr th {\n",
       "        vertical-align: top;\n",
       "    }\n",
       "\n",
       "    .dataframe thead th {\n",
       "        text-align: right;\n",
       "    }\n",
       "</style>\n",
       "<table border=\"1\" class=\"dataframe\">\n",
       "  <thead>\n",
       "    <tr style=\"text-align: right;\">\n",
       "      <th></th>\n",
       "      <th>inn</th>\n",
       "      <th>vistDayCnt</th>\n",
       "      <th>lastDate</th>\n",
       "      <th>activity_group</th>\n",
       "      <th>last_month_flg</th>\n",
       "    </tr>\n",
       "  </thead>\n",
       "  <tbody>\n",
       "    <tr>\n",
       "      <th>0</th>\n",
       "      <td>0101012845</td>\n",
       "      <td>4</td>\n",
       "      <td>2022-01-03</td>\n",
       "      <td>2</td>\n",
       "      <td>1</td>\n",
       "    </tr>\n",
       "    <tr>\n",
       "      <th>1</th>\n",
       "      <td>010200105600</td>\n",
       "      <td>37</td>\n",
       "      <td>2022-01-20</td>\n",
       "      <td>4</td>\n",
       "      <td>1</td>\n",
       "    </tr>\n",
       "    <tr>\n",
       "      <th>2</th>\n",
       "      <td>010401148635</td>\n",
       "      <td>14</td>\n",
       "      <td>2022-01-20</td>\n",
       "      <td>3</td>\n",
       "      <td>1</td>\n",
       "    </tr>\n",
       "    <tr>\n",
       "      <th>3</th>\n",
       "      <td>010503128250</td>\n",
       "      <td>12</td>\n",
       "      <td>2022-01-19</td>\n",
       "      <td>3</td>\n",
       "      <td>1</td>\n",
       "    </tr>\n",
       "    <tr>\n",
       "      <th>4</th>\n",
       "      <td>0105035949</td>\n",
       "      <td>44</td>\n",
       "      <td>2022-01-14</td>\n",
       "      <td>4</td>\n",
       "      <td>1</td>\n",
       "    </tr>\n",
       "    <tr>\n",
       "      <th>5</th>\n",
       "      <td>010518503754</td>\n",
       "      <td>7</td>\n",
       "      <td>2021-12-20</td>\n",
       "      <td>2</td>\n",
       "      <td>1</td>\n",
       "    </tr>\n",
       "    <tr>\n",
       "      <th>6</th>\n",
       "      <td>010520023071</td>\n",
       "      <td>2</td>\n",
       "      <td>2021-11-14</td>\n",
       "      <td>1</td>\n",
       "      <td>0</td>\n",
       "    </tr>\n",
       "    <tr>\n",
       "      <th>7</th>\n",
       "      <td>0105981150</td>\n",
       "      <td>37</td>\n",
       "      <td>2022-01-17</td>\n",
       "      <td>4</td>\n",
       "      <td>1</td>\n",
       "    </tr>\n",
       "    <tr>\n",
       "      <th>8</th>\n",
       "      <td>010604720706</td>\n",
       "      <td>33</td>\n",
       "      <td>2021-10-21</td>\n",
       "      <td>4</td>\n",
       "      <td>0</td>\n",
       "    </tr>\n",
       "    <tr>\n",
       "      <th>9</th>\n",
       "      <td>0107029958</td>\n",
       "      <td>95</td>\n",
       "      <td>2022-01-20</td>\n",
       "      <td>5</td>\n",
       "      <td>1</td>\n",
       "    </tr>\n",
       "  </tbody>\n",
       "</table>\n",
       "</div>"
      ],
      "text/plain": [
       "            inn  vistDayCnt    lastDate  activity_group  last_month_flg\n",
       "0    0101012845           4  2022-01-03               2               1\n",
       "1  010200105600          37  2022-01-20               4               1\n",
       "2  010401148635          14  2022-01-20               3               1\n",
       "3  010503128250          12  2022-01-19               3               1\n",
       "4    0105035949          44  2022-01-14               4               1\n",
       "5  010518503754           7  2021-12-20               2               1\n",
       "6  010520023071           2  2021-11-14               1               0\n",
       "7    0105981150          37  2022-01-17               4               1\n",
       "8  010604720706          33  2021-10-21               4               0\n",
       "9    0107029958          95  2022-01-20               5               1"
      ]
     },
     "execution_count": 6,
     "metadata": {},
     "output_type": "execute_result"
    }
   ],
   "source": [
    "inn_with_groups.show()"
   ]
  },
  {
   "cell_type": "code",
   "execution_count": 89,
   "metadata": {},
   "outputs": [],
   "source": [
    "# ctl_loading DEC 2021\n",
    "\n",
    "start_d = '2021-12-01'\n",
    "end_d = '2022-01-01'\n",
    "\n",
    "sql_query_ctl = \"\"\"\n",
    "SELECT DISTINCT ctl_loading\n",
    "FROM {scheme}.{ctl_table}\n",
    "WHERE 1=1\n",
    "  AND (min_sessiondate >= '{start_date}'\n",
    "       OR max_sessiondate >= '{start_date}')\n",
    "  AND (min_sessiondate < '{end_date}'\n",
    "       OR max_sessiondate < '{end_date}')\n",
    "\"\"\".format(scheme=SBX_TEAM_DIGITCAMP,\n",
    "           ctl_table=GA_VISIT_CTL_DATE_MAP,\n",
    "           start_date=start_d,\n",
    "           end_date=end_d)\n",
    "\n",
    "ctl_loading_list = hive.sql(sql_query_ctl).toPandas()[\"ctl_loading\"]\n",
    "\n",
    "min_ctl = ctl_loading_list.min()\n",
    "max_ctl = ctl_loading_list.max()"
   ]
  },
  {
   "cell_type": "code",
   "execution_count": 90,
   "metadata": {},
   "outputs": [],
   "source": [
    "SQL_query_sbbol_dec_story_clicks = \\\n",
    "\"\"\"\n",
    "SELECT sbbolUserId,\n",
    "       sbbolorgguid,\n",
    "       hitType,\n",
    "       eventCategory,\n",
    "       eventAction,\n",
    "       eventLabel,\n",
    "       sessionDate\n",
    "                \n",
    "FROM prx_google_analytics_part_external_google_analytics.visit\n",
    "WHERE 1=1\n",
    "  AND hitPageHostName = 'sbi.sberbank.ru'\n",
    "  AND hitType like '%EVENT%'\n",
    "  AND eventCategory = '[operations]: offers'\n",
    "  AND eventAction = 'open card'\n",
    "  AND eventLabel like '%[placement: main[main_feed]]%'\n",
    "  AND ctl_loading >= {min_ctl_loading}\n",
    "  AND ctl_loading < {max_ctl_loading}\n",
    "  AND sessionDate >= '{start_d}'\n",
    "  AND sessionDate < '{end_d}'\n",
    "\"\"\".format(min_ctl_loading=min_ctl,\n",
    "           max_ctl_loading=max_ctl,\n",
    "           start_d=start_d,\n",
    "           end_d=end_d)"
   ]
  },
  {
   "cell_type": "code",
   "execution_count": 91,
   "metadata": {},
   "outputs": [],
   "source": [
    "sbbol_story_clicks_clickstream = hive.sql(SQL_query_sbbol_dec_story_clicks).cache()"
   ]
  },
  {
   "cell_type": "code",
   "execution_count": 92,
   "metadata": {},
   "outputs": [
    {
     "name": "stdout",
     "output_type": "stream",
     "text": [
      "CPU times: user 42.9 ms, sys: 17.1 ms, total: 60 ms\n",
      "Wall time: 3min 41s\n"
     ]
    },
    {
     "data": {
      "text/plain": [
       "131488"
      ]
     },
     "execution_count": 92,
     "metadata": {},
     "output_type": "execute_result"
    }
   ],
   "source": [
    "%%time\n",
    "sbbol_story_clicks_clickstream.count()"
   ]
  },
  {
   "cell_type": "code",
   "execution_count": 93,
   "metadata": {},
   "outputs": [],
   "source": [
    "def clickstream_parse_products(clickstream_uniq):\n",
    "        pattern1 = 'product\\: [^]]*]{1}'\n",
    "        pattern2 = 'product\\: [^,]*,{1}'\n",
    "        clickstream_product = clickstream_uniq.withColumn('product',f.regexp_extract(\"eventLabel\", pattern1, 0))\\\n",
    "                                              .withColumn('product',\n",
    "                                                          f.when(f.col(\"product\").like(\"%,%\"),\n",
    "                                                          f.regexp_extract(\"eventLabel\", pattern2, 0))\\\n",
    "                                              .otherwise(f.col(\"product\")))\n",
    "        clickstream_product = clickstream_product.withColumn(\"product\",\n",
    "                                                             f.col(\"product\").substr(f.lit(10), f.length(\"product\") - 10))\n",
    "        return clickstream_product"
   ]
  },
  {
   "cell_type": "code",
   "execution_count": 94,
   "metadata": {},
   "outputs": [],
   "source": [
    "sbbol_story_clicks_products = clickstream_parse_products(sbbol_story_clicks_clickstream).select(\"sbbolorgguid\",\n",
    "                                                                                                \"product\")\\\n",
    "                                                                                        .distinct().cache()"
   ]
  },
  {
   "cell_type": "code",
   "execution_count": 95,
   "metadata": {},
   "outputs": [
    {
     "data": {
      "text/html": [
       "<div>\n",
       "<style scoped>\n",
       "    .dataframe tbody tr th:only-of-type {\n",
       "        vertical-align: middle;\n",
       "    }\n",
       "\n",
       "    .dataframe tbody tr th {\n",
       "        vertical-align: top;\n",
       "    }\n",
       "\n",
       "    .dataframe thead th {\n",
       "        text-align: right;\n",
       "    }\n",
       "</style>\n",
       "<table border=\"1\" class=\"dataframe\">\n",
       "  <thead>\n",
       "    <tr style=\"text-align: right;\">\n",
       "      <th></th>\n",
       "      <th>sbbolorgguid</th>\n",
       "      <th>product</th>\n",
       "    </tr>\n",
       "  </thead>\n",
       "  <tbody>\n",
       "    <tr>\n",
       "      <th>0</th>\n",
       "      <td>85f24b5e-15d7-452a-b6bb-e0828e65e74c</td>\n",
       "      <td>e_inv</td>\n",
       "    </tr>\n",
       "    <tr>\n",
       "      <th>1</th>\n",
       "      <td>6a9743cc-e2a1-4fe9-9f86-0c63e4ca6687</td>\n",
       "      <td>none</td>\n",
       "    </tr>\n",
       "    <tr>\n",
       "      <th>2</th>\n",
       "      <td>b6a0388d-e34a-469b-a267-37aaad2722de</td>\n",
       "      <td>none</td>\n",
       "    </tr>\n",
       "    <tr>\n",
       "      <th>3</th>\n",
       "      <td>dbb65285-d8db-4f3b-b25f-f919eeb3079d</td>\n",
       "      <td>none</td>\n",
       "    </tr>\n",
       "    <tr>\n",
       "      <th>4</th>\n",
       "      <td>b218b59e-fe37-4d60-a2d9-752dfbf7a101</td>\n",
       "      <td>korpkarta</td>\n",
       "    </tr>\n",
       "    <tr>\n",
       "      <th>5</th>\n",
       "      <td>251613b4-f25d-4ce0-810b-d775ee6668a4</td>\n",
       "      <td>none</td>\n",
       "    </tr>\n",
       "    <tr>\n",
       "      <th>6</th>\n",
       "      <td>03b6402c-4865-4a1f-b5e0-c659d33a0ea5</td>\n",
       "      <td>sms</td>\n",
       "    </tr>\n",
       "    <tr>\n",
       "      <th>7</th>\n",
       "      <td>9e9a988f-f3f7-4eaf-931a-6329861d7bfc</td>\n",
       "      <td>none</td>\n",
       "    </tr>\n",
       "    <tr>\n",
       "      <th>8</th>\n",
       "      <td>424dcc98-b8d7-49aa-b4af-932ffddc331d</td>\n",
       "      <td>mybuch_online_sso</td>\n",
       "    </tr>\n",
       "    <tr>\n",
       "      <th>9</th>\n",
       "      <td>39e1e45c-7867-4124-a717-c10f799bea5c</td>\n",
       "      <td>none</td>\n",
       "    </tr>\n",
       "  </tbody>\n",
       "</table>\n",
       "</div>"
      ],
      "text/plain": [
       "                           sbbolorgguid            product\n",
       "0  85f24b5e-15d7-452a-b6bb-e0828e65e74c              e_inv\n",
       "1  6a9743cc-e2a1-4fe9-9f86-0c63e4ca6687               none\n",
       "2  b6a0388d-e34a-469b-a267-37aaad2722de               none\n",
       "3  dbb65285-d8db-4f3b-b25f-f919eeb3079d               none\n",
       "4  b218b59e-fe37-4d60-a2d9-752dfbf7a101          korpkarta\n",
       "5  251613b4-f25d-4ce0-810b-d775ee6668a4               none\n",
       "6  03b6402c-4865-4a1f-b5e0-c659d33a0ea5                sms\n",
       "7  9e9a988f-f3f7-4eaf-931a-6329861d7bfc               none\n",
       "8  424dcc98-b8d7-49aa-b4af-932ffddc331d  mybuch_online_sso\n",
       "9  39e1e45c-7867-4124-a717-c10f799bea5c               none"
      ]
     },
     "execution_count": 95,
     "metadata": {},
     "output_type": "execute_result"
    }
   ],
   "source": [
    "sbbol_story_clicks_products.show()"
   ]
  },
  {
   "cell_type": "code",
   "execution_count": 27,
   "metadata": {},
   "outputs": [],
   "source": [
    "# sbbol_story_clicks_products = sbbol_story_clicks_products.filter(\"product <> 'none'\")"
   ]
  },
  {
   "cell_type": "markdown",
   "metadata": {},
   "source": [
    "###### inn match "
   ]
  },
  {
   "cell_type": "code",
   "execution_count": 96,
   "metadata": {},
   "outputs": [],
   "source": [
    "customer_sbbol = load_table(SBX_TEAM_DIGITCAMP, GA_MA_CUSTOMER_SBBOL, hive).cache()\n",
    "sbbol_inn_story_click = customer_sbbol.select(\"REPLICATIONGUID\", f.col(\"CU_INN\").alias(\"inn\"))\\\n",
    "                                .join(sbbol_story_clicks_products,\n",
    "                                      customer_sbbol.REPLICATIONGUID == sbbol_story_clicks_clickstream.sbbolorgguid,\n",
    "                                      \"inner\")\\\n",
    "                                .drop(\"REPLICATIONGUID\", \"sbbolorgguid\")\\\n",
    "                                .select(\"inn\", \"product\")\\\n",
    "                                .distinct()\n",
    "            \n",
    "sbbol_inn_story_click = sbbol_inn_story_click.filter(~f.isnull(\"inn\")).cache()"
   ]
  },
  {
   "cell_type": "code",
   "execution_count": 100,
   "metadata": {},
   "outputs": [
    {
     "data": {
      "text/plain": [
       "87400"
      ]
     },
     "execution_count": 100,
     "metadata": {},
     "output_type": "execute_result"
    }
   ],
   "source": [
    "sbbol_inn_story_click.count()"
   ]
  },
  {
   "cell_type": "code",
   "execution_count": 98,
   "metadata": {},
   "outputs": [
    {
     "data": {
      "text/plain": [
       "73380"
      ]
     },
     "execution_count": 98,
     "metadata": {},
     "output_type": "execute_result"
    }
   ],
   "source": [
    "inn_with_story_click = sbbol_inn_story_click.select(\"inn\").distinct().cache()\n",
    "inn_with_story_click.count()"
   ]
  },
  {
   "cell_type": "markdown",
   "metadata": {},
   "source": [
    "###### show ctr in strats "
   ]
  },
  {
   "cell_type": "code",
   "execution_count": 102,
   "metadata": {},
   "outputs": [],
   "source": [
    "inn_strats_clicks = inn_with_groups.alias(\"strats\").join(inn_with_story_click.alias(\"clicks\"),\n",
    "                                                         inn_with_story_click.inn == inn_with_groups.inn,\n",
    "                                                         \"left\").select(f.col(\"strats.inn\"),\n",
    "                                                                        f.col(\"strats.activity_group\"),\n",
    "                                                                        f.col(\"strats.last_month_flg\"),\n",
    "                                                                        f.when(f.col(\"clicks.inn\").isNull(),\n",
    "                                                                               f.lit(0))\\\n",
    "                                                                         .otherwise(f.lit(1)).alias(\"story_click_flg\")).cache()"
   ]
  },
  {
   "cell_type": "code",
   "execution_count": 103,
   "metadata": {},
   "outputs": [
    {
     "data": {
      "text/html": [
       "<div>\n",
       "<style scoped>\n",
       "    .dataframe tbody tr th:only-of-type {\n",
       "        vertical-align: middle;\n",
       "    }\n",
       "\n",
       "    .dataframe tbody tr th {\n",
       "        vertical-align: top;\n",
       "    }\n",
       "\n",
       "    .dataframe thead th {\n",
       "        text-align: right;\n",
       "    }\n",
       "</style>\n",
       "<table border=\"1\" class=\"dataframe\">\n",
       "  <thead>\n",
       "    <tr style=\"text-align: right;\">\n",
       "      <th></th>\n",
       "      <th>inn</th>\n",
       "      <th>activity_group</th>\n",
       "      <th>last_month_flg</th>\n",
       "      <th>story_click_flg</th>\n",
       "    </tr>\n",
       "  </thead>\n",
       "  <tbody>\n",
       "    <tr>\n",
       "      <th>0</th>\n",
       "      <td>0101012845</td>\n",
       "      <td>2</td>\n",
       "      <td>1</td>\n",
       "      <td>0</td>\n",
       "    </tr>\n",
       "    <tr>\n",
       "      <th>1</th>\n",
       "      <td>010200105600</td>\n",
       "      <td>4</td>\n",
       "      <td>1</td>\n",
       "      <td>0</td>\n",
       "    </tr>\n",
       "    <tr>\n",
       "      <th>2</th>\n",
       "      <td>010401148635</td>\n",
       "      <td>3</td>\n",
       "      <td>1</td>\n",
       "      <td>0</td>\n",
       "    </tr>\n",
       "    <tr>\n",
       "      <th>3</th>\n",
       "      <td>010503128250</td>\n",
       "      <td>3</td>\n",
       "      <td>1</td>\n",
       "      <td>1</td>\n",
       "    </tr>\n",
       "    <tr>\n",
       "      <th>4</th>\n",
       "      <td>0105035949</td>\n",
       "      <td>4</td>\n",
       "      <td>1</td>\n",
       "      <td>0</td>\n",
       "    </tr>\n",
       "    <tr>\n",
       "      <th>5</th>\n",
       "      <td>010518503754</td>\n",
       "      <td>2</td>\n",
       "      <td>1</td>\n",
       "      <td>0</td>\n",
       "    </tr>\n",
       "    <tr>\n",
       "      <th>6</th>\n",
       "      <td>010520023071</td>\n",
       "      <td>1</td>\n",
       "      <td>0</td>\n",
       "      <td>0</td>\n",
       "    </tr>\n",
       "    <tr>\n",
       "      <th>7</th>\n",
       "      <td>0105981150</td>\n",
       "      <td>4</td>\n",
       "      <td>1</td>\n",
       "      <td>0</td>\n",
       "    </tr>\n",
       "    <tr>\n",
       "      <th>8</th>\n",
       "      <td>010604720706</td>\n",
       "      <td>4</td>\n",
       "      <td>0</td>\n",
       "      <td>0</td>\n",
       "    </tr>\n",
       "    <tr>\n",
       "      <th>9</th>\n",
       "      <td>0107029958</td>\n",
       "      <td>5</td>\n",
       "      <td>1</td>\n",
       "      <td>0</td>\n",
       "    </tr>\n",
       "  </tbody>\n",
       "</table>\n",
       "</div>"
      ],
      "text/plain": [
       "            inn  activity_group  last_month_flg  story_click_flg\n",
       "0    0101012845               2               1                0\n",
       "1  010200105600               4               1                0\n",
       "2  010401148635               3               1                0\n",
       "3  010503128250               3               1                1\n",
       "4    0105035949               4               1                0\n",
       "5  010518503754               2               1                0\n",
       "6  010520023071               1               0                0\n",
       "7    0105981150               4               1                0\n",
       "8  010604720706               4               0                0\n",
       "9    0107029958               5               1                0"
      ]
     },
     "execution_count": 103,
     "metadata": {},
     "output_type": "execute_result"
    }
   ],
   "source": [
    "inn_strats_clicks.show()"
   ]
  },
  {
   "cell_type": "code",
   "execution_count": 104,
   "metadata": {},
   "outputs": [
    {
     "data": {
      "text/plain": [
       "73380"
      ]
     },
     "execution_count": 104,
     "metadata": {},
     "output_type": "execute_result"
    }
   ],
   "source": [
    "inn_strats_clicks.filter(\"story_click_flg = 1\").count()"
   ]
  },
  {
   "cell_type": "code",
   "execution_count": 107,
   "metadata": {},
   "outputs": [
    {
     "data": {
      "text/html": [
       "<div>\n",
       "<style scoped>\n",
       "    .dataframe tbody tr th:only-of-type {\n",
       "        vertical-align: middle;\n",
       "    }\n",
       "\n",
       "    .dataframe tbody tr th {\n",
       "        vertical-align: top;\n",
       "    }\n",
       "\n",
       "    .dataframe thead th {\n",
       "        text-align: right;\n",
       "    }\n",
       "</style>\n",
       "<table border=\"1\" class=\"dataframe\">\n",
       "  <thead>\n",
       "    <tr style=\"text-align: right;\">\n",
       "      <th></th>\n",
       "      <th>activity_group</th>\n",
       "      <th>inn_cnt</th>\n",
       "      <th>inn_click_cnt</th>\n",
       "      <th>prob_click</th>\n",
       "    </tr>\n",
       "  </thead>\n",
       "  <tbody>\n",
       "    <tr>\n",
       "      <th>0</th>\n",
       "      <td>1</td>\n",
       "      <td>352959</td>\n",
       "      <td>5602</td>\n",
       "      <td>0.015872</td>\n",
       "    </tr>\n",
       "    <tr>\n",
       "      <th>1</th>\n",
       "      <td>2</td>\n",
       "      <td>348374</td>\n",
       "      <td>11891</td>\n",
       "      <td>0.034133</td>\n",
       "    </tr>\n",
       "    <tr>\n",
       "      <th>2</th>\n",
       "      <td>3</td>\n",
       "      <td>335420</td>\n",
       "      <td>15192</td>\n",
       "      <td>0.045292</td>\n",
       "    </tr>\n",
       "    <tr>\n",
       "      <th>3</th>\n",
       "      <td>4</td>\n",
       "      <td>337302</td>\n",
       "      <td>17689</td>\n",
       "      <td>0.052443</td>\n",
       "    </tr>\n",
       "    <tr>\n",
       "      <th>4</th>\n",
       "      <td>5</td>\n",
       "      <td>335770</td>\n",
       "      <td>23006</td>\n",
       "      <td>0.068517</td>\n",
       "    </tr>\n",
       "  </tbody>\n",
       "</table>\n",
       "</div>"
      ],
      "text/plain": [
       "   activity_group  inn_cnt  inn_click_cnt  prob_click\n",
       "0               1   352959           5602    0.015872\n",
       "1               2   348374          11891    0.034133\n",
       "2               3   335420          15192    0.045292\n",
       "3               4   337302          17689    0.052443\n",
       "4               5   335770          23006    0.068517"
      ]
     },
     "execution_count": 107,
     "metadata": {},
     "output_type": "execute_result"
    }
   ],
   "source": [
    "inn_strats_clicks.groupBy(\"activity_group\").agg(f.count(\"inn\").alias(\"inn_cnt\"),\n",
    "                                                              f.sum(\"story_click_flg\").alias(\"inn_click_cnt\"),\n",
    "                                                              f.mean(\"story_click_flg\").alias(\"prob_click\"))\\\n",
    "                 .orderBy(\"activity_group\").show()"
   ]
  },
  {
   "cell_type": "code",
   "execution_count": 108,
   "metadata": {},
   "outputs": [
    {
     "data": {
      "text/html": [
       "<div>\n",
       "<style scoped>\n",
       "    .dataframe tbody tr th:only-of-type {\n",
       "        vertical-align: middle;\n",
       "    }\n",
       "\n",
       "    .dataframe tbody tr th {\n",
       "        vertical-align: top;\n",
       "    }\n",
       "\n",
       "    .dataframe thead th {\n",
       "        text-align: right;\n",
       "    }\n",
       "</style>\n",
       "<table border=\"1\" class=\"dataframe\">\n",
       "  <thead>\n",
       "    <tr style=\"text-align: right;\">\n",
       "      <th></th>\n",
       "      <th>activity_group</th>\n",
       "      <th>0_inn_cnt</th>\n",
       "      <th>0_inn_click_cnt</th>\n",
       "      <th>0_prob_click</th>\n",
       "      <th>1_inn_cnt</th>\n",
       "      <th>1_inn_click_cnt</th>\n",
       "      <th>1_prob_click</th>\n",
       "    </tr>\n",
       "  </thead>\n",
       "  <tbody>\n",
       "    <tr>\n",
       "      <th>0</th>\n",
       "      <td>1</td>\n",
       "      <td>243386</td>\n",
       "      <td>2497</td>\n",
       "      <td>0.010259</td>\n",
       "      <td>109573</td>\n",
       "      <td>3105</td>\n",
       "      <td>0.028337</td>\n",
       "    </tr>\n",
       "    <tr>\n",
       "      <th>1</th>\n",
       "      <td>2</td>\n",
       "      <td>114016</td>\n",
       "      <td>1772</td>\n",
       "      <td>0.015542</td>\n",
       "      <td>234358</td>\n",
       "      <td>10119</td>\n",
       "      <td>0.043178</td>\n",
       "    </tr>\n",
       "    <tr>\n",
       "      <th>2</th>\n",
       "      <td>3</td>\n",
       "      <td>28552</td>\n",
       "      <td>525</td>\n",
       "      <td>0.018388</td>\n",
       "      <td>306868</td>\n",
       "      <td>14667</td>\n",
       "      <td>0.047796</td>\n",
       "    </tr>\n",
       "    <tr>\n",
       "      <th>3</th>\n",
       "      <td>4</td>\n",
       "      <td>7405</td>\n",
       "      <td>168</td>\n",
       "      <td>0.022687</td>\n",
       "      <td>329897</td>\n",
       "      <td>17521</td>\n",
       "      <td>0.053111</td>\n",
       "    </tr>\n",
       "    <tr>\n",
       "      <th>4</th>\n",
       "      <td>5</td>\n",
       "      <td>1201</td>\n",
       "      <td>54</td>\n",
       "      <td>0.044963</td>\n",
       "      <td>334569</td>\n",
       "      <td>22952</td>\n",
       "      <td>0.068602</td>\n",
       "    </tr>\n",
       "  </tbody>\n",
       "</table>\n",
       "</div>"
      ],
      "text/plain": [
       "   activity_group  0_inn_cnt  0_inn_click_cnt  0_prob_click  1_inn_cnt  \\\n",
       "0               1     243386             2497      0.010259     109573   \n",
       "1               2     114016             1772      0.015542     234358   \n",
       "2               3      28552              525      0.018388     306868   \n",
       "3               4       7405              168      0.022687     329897   \n",
       "4               5       1201               54      0.044963     334569   \n",
       "\n",
       "   1_inn_click_cnt  1_prob_click  \n",
       "0             3105      0.028337  \n",
       "1            10119      0.043178  \n",
       "2            14667      0.047796  \n",
       "3            17521      0.053111  \n",
       "4            22952      0.068602  "
      ]
     },
     "execution_count": 108,
     "metadata": {},
     "output_type": "execute_result"
    }
   ],
   "source": [
    "inn_strats_clicks.groupBy(\"activity_group\").pivot(\"last_month_flg\").agg(f.count(\"inn\").alias(\"inn_cnt\"),\n",
    "                                                              f.sum(\"story_click_flg\").alias(\"inn_click_cnt\"),\n",
    "                                                              f.mean(\"story_click_flg\").alias(\"prob_click\"))\\\n",
    "                 .orderBy(\"activity_group\").show()"
   ]
  },
  {
   "cell_type": "markdown",
   "metadata": {},
   "source": [
    "Таким образом видим, что среди страт самый высокий CTR у наиболее активных юзеров, то есть данная стратификация является достаточно хорошей."
   ]
  },
  {
   "cell_type": "markdown",
   "metadata": {},
   "source": [
    "### export to ISKRA "
   ]
  },
  {
   "cell_type": "code",
   "execution_count": 7,
   "metadata": {},
   "outputs": [
    {
     "data": {
      "text/html": [
       "<div>\n",
       "<style scoped>\n",
       "    .dataframe tbody tr th:only-of-type {\n",
       "        vertical-align: middle;\n",
       "    }\n",
       "\n",
       "    .dataframe tbody tr th {\n",
       "        vertical-align: top;\n",
       "    }\n",
       "\n",
       "    .dataframe thead th {\n",
       "        text-align: right;\n",
       "    }\n",
       "</style>\n",
       "<table border=\"1\" class=\"dataframe\">\n",
       "  <thead>\n",
       "    <tr style=\"text-align: right;\">\n",
       "      <th></th>\n",
       "      <th>inn</th>\n",
       "      <th>vistDayCnt</th>\n",
       "      <th>lastDate</th>\n",
       "      <th>activity_group</th>\n",
       "      <th>last_month_flg</th>\n",
       "    </tr>\n",
       "  </thead>\n",
       "  <tbody>\n",
       "    <tr>\n",
       "      <th>0</th>\n",
       "      <td>0101012845</td>\n",
       "      <td>4</td>\n",
       "      <td>2022-01-03</td>\n",
       "      <td>2</td>\n",
       "      <td>1</td>\n",
       "    </tr>\n",
       "    <tr>\n",
       "      <th>1</th>\n",
       "      <td>010200105600</td>\n",
       "      <td>37</td>\n",
       "      <td>2022-01-20</td>\n",
       "      <td>4</td>\n",
       "      <td>1</td>\n",
       "    </tr>\n",
       "    <tr>\n",
       "      <th>2</th>\n",
       "      <td>010401148635</td>\n",
       "      <td>14</td>\n",
       "      <td>2022-01-20</td>\n",
       "      <td>3</td>\n",
       "      <td>1</td>\n",
       "    </tr>\n",
       "    <tr>\n",
       "      <th>3</th>\n",
       "      <td>010503128250</td>\n",
       "      <td>12</td>\n",
       "      <td>2022-01-19</td>\n",
       "      <td>3</td>\n",
       "      <td>1</td>\n",
       "    </tr>\n",
       "    <tr>\n",
       "      <th>4</th>\n",
       "      <td>0105035949</td>\n",
       "      <td>44</td>\n",
       "      <td>2022-01-14</td>\n",
       "      <td>4</td>\n",
       "      <td>1</td>\n",
       "    </tr>\n",
       "    <tr>\n",
       "      <th>5</th>\n",
       "      <td>010518503754</td>\n",
       "      <td>7</td>\n",
       "      <td>2021-12-20</td>\n",
       "      <td>2</td>\n",
       "      <td>1</td>\n",
       "    </tr>\n",
       "    <tr>\n",
       "      <th>6</th>\n",
       "      <td>010520023071</td>\n",
       "      <td>2</td>\n",
       "      <td>2021-11-14</td>\n",
       "      <td>1</td>\n",
       "      <td>0</td>\n",
       "    </tr>\n",
       "    <tr>\n",
       "      <th>7</th>\n",
       "      <td>0105981150</td>\n",
       "      <td>37</td>\n",
       "      <td>2022-01-17</td>\n",
       "      <td>4</td>\n",
       "      <td>1</td>\n",
       "    </tr>\n",
       "    <tr>\n",
       "      <th>8</th>\n",
       "      <td>010604720706</td>\n",
       "      <td>33</td>\n",
       "      <td>2021-10-21</td>\n",
       "      <td>4</td>\n",
       "      <td>0</td>\n",
       "    </tr>\n",
       "    <tr>\n",
       "      <th>9</th>\n",
       "      <td>0107029958</td>\n",
       "      <td>95</td>\n",
       "      <td>2022-01-20</td>\n",
       "      <td>5</td>\n",
       "      <td>1</td>\n",
       "    </tr>\n",
       "  </tbody>\n",
       "</table>\n",
       "</div>"
      ],
      "text/plain": [
       "            inn  vistDayCnt    lastDate  activity_group  last_month_flg\n",
       "0    0101012845           4  2022-01-03               2               1\n",
       "1  010200105600          37  2022-01-20               4               1\n",
       "2  010401148635          14  2022-01-20               3               1\n",
       "3  010503128250          12  2022-01-19               3               1\n",
       "4    0105035949          44  2022-01-14               4               1\n",
       "5  010518503754           7  2021-12-20               2               1\n",
       "6  010520023071           2  2021-11-14               1               0\n",
       "7    0105981150          37  2022-01-17               4               1\n",
       "8  010604720706          33  2021-10-21               4               0\n",
       "9    0107029958          95  2022-01-20               5               1"
      ]
     },
     "execution_count": 7,
     "metadata": {},
     "output_type": "execute_result"
    }
   ],
   "source": [
    "inn_with_groups.show()"
   ]
  },
  {
   "cell_type": "code",
   "execution_count": 11,
   "metadata": {},
   "outputs": [],
   "source": [
    "sdf = inn_with_groups"
   ]
  },
  {
   "cell_type": "code",
   "execution_count": 12,
   "metadata": {},
   "outputs": [],
   "source": [
    "db = OracleDB('iskra4')\n",
    "mode = 'append'"
   ]
  },
  {
   "cell_type": "code",
   "execution_count": 13,
   "metadata": {},
   "outputs": [],
   "source": [
    "typesmap={}\n",
    "for column_name, column in sdf.dtypes:\n",
    "    if column == 'string':\n",
    "        if 'INN' in column_name.upper() or 'KPP' in column_name:\n",
    "            typesmap[column_name] = 'VARCHAR(20)'\n",
    "        elif 'PRODUCTS'.upper() in column_name:\n",
    "            typesmap[column_name] = 'VARCHAR(4000)'\n",
    "        else:\n",
    "            typesmap[column_name] = 'VARCHAR(70)'\n",
    "    elif column == 'int':\n",
    "        typesmap[column_name] = 'INTEGER'\n",
    "    elif column == 'bigint':\n",
    "        typesmap[column_name] = 'INTEGER'\n",
    "    elif column == 'timestamp':\n",
    "        typesmap[column_name] = 'DATE'\n",
    "    elif column == 'float' or column == 'double':\n",
    "        typesmap[column_name] = 'FLOAT'\n",
    "    else:\n",
    "        None"
   ]
  },
  {
   "cell_type": "code",
   "execution_count": 14,
   "metadata": {},
   "outputs": [],
   "source": [
    "cols = ', '.join([col + ' ' + typesmap[col] for col in sdf.columns])"
   ]
  },
  {
   "cell_type": "code",
   "execution_count": 15,
   "metadata": {},
   "outputs": [],
   "source": [
    "sdf.write \\\n",
    "    .format('jdbc') \\\n",
    "    .mode(mode) \\\n",
    "    .option('url', 'jdbc:oracle:thin:@//'+db.dsn) \\\n",
    "    .option('user', db.user) \\\n",
    "    .option('password', db.password) \\\n",
    "    .option('dbtable', \"RECSYS_SBBOL_INN_STRATIFICATION\") \\\n",
    "    .option('createTableColumnTypes', cols)\\\n",
    "    .option('driver', 'oracle.jdbc.driver.OracleDriver') \\\n",
    "    .save()"
   ]
  },
  {
   "cell_type": "markdown",
   "metadata": {},
   "source": [
    "### check iskra "
   ]
  },
  {
   "cell_type": "code",
   "execution_count": 17,
   "metadata": {},
   "outputs": [
    {
     "data": {
      "text/plain": [
       "1709825"
      ]
     },
     "execution_count": 17,
     "metadata": {},
     "output_type": "execute_result"
    }
   ],
   "source": [
    "hive.read.format('jdbc')\\\n",
    "    .option('url', 'jdbc:oracle:thin:@//' + db.dsn) \\\n",
    "    .option('user', db.user) \\\n",
    "    .option('password', db.password) \\\n",
    "    .option('dbtable', \"RECSYS_SBBOL_INN_STRATIFICATION\") \\\n",
    "    .option('driver', 'oracle.jdbc.driver.OracleDriver')\\\n",
    "    .load().count()"
   ]
  }
 ],
 "metadata": {
  "kernelspec": {
   "display_name": "Python 3",
   "language": "python",
   "name": "python3"
  },
  "language_info": {
   "codemirror_mode": {
    "name": "ipython",
    "version": 3
   },
   "file_extension": ".py",
   "mimetype": "text/x-python",
   "name": "python",
   "nbconvert_exporter": "python",
   "pygments_lexer": "ipython3",
   "version": "3.6.3"
  }
 },
 "nbformat": 4,
 "nbformat_minor": 2
}
